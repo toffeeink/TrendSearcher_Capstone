{
 "cells": [
  {
   "cell_type": "markdown",
   "id": "f100f5d6",
   "metadata": {},
   "source": [
    "Suggestions\n",
    "use votes as a weighted averages\n",
    "KNN clustering for classifications"
   ]
  },
  {
   "cell_type": "code",
   "execution_count": 61,
   "id": "0537b42a",
   "metadata": {},
   "outputs": [],
   "source": [
    "import numpy as np\n",
    "import pandas as pd\n",
    "import matplotlib.pyplot as plt\n",
    "%matplotlib inline\n",
    "import seaborn as sns\n",
    "import json\n",
    "from pathlib import Path\n",
    "import os \n",
    "import statsmodels.api as sm\n",
    "import plotly.express as px\n",
    "import re\n",
    "import gzip\n",
    "from urllib.request import urlopen"
   ]
  },
  {
   "cell_type": "markdown",
   "id": "eb9bb4af",
   "metadata": {},
   "source": [
    "### Handling nulls"
   ]
  },
  {
   "cell_type": "markdown",
   "id": "7d6d83cd",
   "metadata": {},
   "source": [
    "#### Cleaning Review Data set "
   ]
  },
  {
   "cell_type": "code",
   "execution_count": 62,
   "id": "6a4f8f3d",
   "metadata": {},
   "outputs": [],
   "source": [
    "#directing to the right file path\n",
    "os.chdir(\"/Users/mac/Desktop/Data/CAPSTONE\")\n",
    "cwd = os.getcwd() "
   ]
  },
  {
   "cell_type": "code",
   "execution_count": 86,
   "id": "62e81547",
   "metadata": {},
   "outputs": [],
   "source": [
    "#Opening the reviews,  resource: https://towardsdatascience.com/load-yelp-reviews-or-other-huge-json-files-with-ease-ad804c2f1537\n",
    "review_df = []\n",
    "r_dtypes = {\"overall\": np.float16, \n",
    "            \"verified\": np.int32, \n",
    "            \"vote\": np.int32,\n",
    "            \"reviewTime\": np.int32,\n",
    "            \"reviewerID\": np.int32,\n",
    "            \"asin\": object,\n",
    "            \"reviewerName\": object,\n",
    "            \"reviewText\":object , \n",
    "            \"summary\": object,     \n",
    "            \"style\": object, \n",
    "            \"image\": object, \n",
    "           }\n",
    "with open(\"Luxury_Beauty.json\", \"r\") as f:\n",
    "    reader = pd.read_json(f, orient=\"records\", lines=True, \n",
    "                          dtype=r_dtypes, chunksize=1000)\n",
    "        \n",
    "    for chunk in reader:\n",
    "        reduced_chunk = chunk.drop(columns=['unixReviewTime'],axis=1)\n",
    "        review_df.append(reduced_chunk)\n",
    "    \n",
    "review_df = pd.concat(review_df, ignore_index=True)"
   ]
  },
  {
   "cell_type": "code",
   "execution_count": 88,
   "id": "e39f08f9",
   "metadata": {},
   "outputs": [
    {
     "data": {
      "text/html": [
       "<div>\n",
       "<style scoped>\n",
       "    .dataframe tbody tr th:only-of-type {\n",
       "        vertical-align: middle;\n",
       "    }\n",
       "\n",
       "    .dataframe tbody tr th {\n",
       "        vertical-align: top;\n",
       "    }\n",
       "\n",
       "    .dataframe thead th {\n",
       "        text-align: right;\n",
       "    }\n",
       "</style>\n",
       "<table border=\"1\" class=\"dataframe\">\n",
       "  <thead>\n",
       "    <tr style=\"text-align: right;\">\n",
       "      <th></th>\n",
       "      <th>overall</th>\n",
       "      <th>vote</th>\n",
       "      <th>verified</th>\n",
       "      <th>reviewTime</th>\n",
       "      <th>reviewerID</th>\n",
       "      <th>asin</th>\n",
       "      <th>reviewerName</th>\n",
       "      <th>reviewText</th>\n",
       "      <th>summary</th>\n",
       "      <th>style</th>\n",
       "      <th>image</th>\n",
       "    </tr>\n",
       "  </thead>\n",
       "  <tbody>\n",
       "    <tr>\n",
       "      <th>0</th>\n",
       "      <td>2.0</td>\n",
       "      <td>3</td>\n",
       "      <td>1</td>\n",
       "      <td>06 15, 2010</td>\n",
       "      <td>A1Q6MUU0B2ZDQG</td>\n",
       "      <td>B00004U9V2</td>\n",
       "      <td>D. Poston</td>\n",
       "      <td>I bought two of these 8.5 fl oz hand cream, an...</td>\n",
       "      <td>dispensers don't work</td>\n",
       "      <td>NaN</td>\n",
       "      <td>NaN</td>\n",
       "    </tr>\n",
       "    <tr>\n",
       "      <th>1</th>\n",
       "      <td>5.0</td>\n",
       "      <td>14</td>\n",
       "      <td>1</td>\n",
       "      <td>01 7, 2010</td>\n",
       "      <td>A3HO2SQDCZIE9S</td>\n",
       "      <td>B00004U9V2</td>\n",
       "      <td>chandra</td>\n",
       "      <td>Believe me, over the years I have tried many, ...</td>\n",
       "      <td>Best hand cream ever.</td>\n",
       "      <td>NaN</td>\n",
       "      <td>NaN</td>\n",
       "    </tr>\n",
       "    <tr>\n",
       "      <th>2</th>\n",
       "      <td>5.0</td>\n",
       "      <td>NaN</td>\n",
       "      <td>1</td>\n",
       "      <td>04 18, 2018</td>\n",
       "      <td>A2EM03F99X3RJZ</td>\n",
       "      <td>B00004U9V2</td>\n",
       "      <td>Maureen G</td>\n",
       "      <td>Great hand lotion</td>\n",
       "      <td>Five Stars</td>\n",
       "      <td>{'Size:': ' 3.5 oz.'}</td>\n",
       "      <td>NaN</td>\n",
       "    </tr>\n",
       "    <tr>\n",
       "      <th>3</th>\n",
       "      <td>5.0</td>\n",
       "      <td>NaN</td>\n",
       "      <td>1</td>\n",
       "      <td>04 18, 2018</td>\n",
       "      <td>A3Z74TDRGD0HU</td>\n",
       "      <td>B00004U9V2</td>\n",
       "      <td>Terry K</td>\n",
       "      <td>This is the best for the severely dry skin on ...</td>\n",
       "      <td>Five Stars</td>\n",
       "      <td>{'Size:': ' 3.5 oz.'}</td>\n",
       "      <td>NaN</td>\n",
       "    </tr>\n",
       "    <tr>\n",
       "      <th>4</th>\n",
       "      <td>5.0</td>\n",
       "      <td>NaN</td>\n",
       "      <td>1</td>\n",
       "      <td>04 17, 2018</td>\n",
       "      <td>A2UXFNW9RTL4VM</td>\n",
       "      <td>B00004U9V2</td>\n",
       "      <td>Patricia Wood</td>\n",
       "      <td>The best non- oily hand cream ever. It heals o...</td>\n",
       "      <td>I always have a backup ready.</td>\n",
       "      <td>{'Size:': ' 3.5 oz.'}</td>\n",
       "      <td>NaN</td>\n",
       "    </tr>\n",
       "    <tr>\n",
       "      <th>5</th>\n",
       "      <td>5.0</td>\n",
       "      <td>NaN</td>\n",
       "      <td>1</td>\n",
       "      <td>04 14, 2018</td>\n",
       "      <td>AXX5G4LFF12R6</td>\n",
       "      <td>B00004U9V2</td>\n",
       "      <td>Ralla</td>\n",
       "      <td>Ive used this lotion for many years. I try oth...</td>\n",
       "      <td>Ive used this lotion for many years. I try ...</td>\n",
       "      <td>{'Size:': ' 250 g'}</td>\n",
       "      <td>NaN</td>\n",
       "    </tr>\n",
       "    <tr>\n",
       "      <th>6</th>\n",
       "      <td>5.0</td>\n",
       "      <td>NaN</td>\n",
       "      <td>1</td>\n",
       "      <td>04 11, 2018</td>\n",
       "      <td>A7GUKMOJT2NR6</td>\n",
       "      <td>B00004U9V2</td>\n",
       "      <td>Lydia Speight</td>\n",
       "      <td>Works great for dry hands.</td>\n",
       "      <td>Five Stars</td>\n",
       "      <td>{'Size:': ' 3.5 oz.'}</td>\n",
       "      <td>NaN</td>\n",
       "    </tr>\n",
       "    <tr>\n",
       "      <th>7</th>\n",
       "      <td>5.0</td>\n",
       "      <td>NaN</td>\n",
       "      <td>1</td>\n",
       "      <td>04 11, 2018</td>\n",
       "      <td>A3FU4L59BHA9FY</td>\n",
       "      <td>B00004U9V2</td>\n",
       "      <td>Allen Semer</td>\n",
       "      <td>The best hand cream ever.</td>\n",
       "      <td>Made in the USA</td>\n",
       "      <td>{'Size:': ' 3.5 oz.'}</td>\n",
       "      <td>NaN</td>\n",
       "    </tr>\n",
       "    <tr>\n",
       "      <th>8</th>\n",
       "      <td>5.0</td>\n",
       "      <td>NaN</td>\n",
       "      <td>1</td>\n",
       "      <td>04 7, 2018</td>\n",
       "      <td>A1AMNMIPQMXH9M</td>\n",
       "      <td>B00004U9V2</td>\n",
       "      <td>Vets park</td>\n",
       "      <td>LOVE THIS SCENT!!  But Crabtree and Evelyn mak...</td>\n",
       "      <td>Moistens and smells good</td>\n",
       "      <td>{'Size:': ' 3.5 oz.'}</td>\n",
       "      <td>NaN</td>\n",
       "    </tr>\n",
       "    <tr>\n",
       "      <th>9</th>\n",
       "      <td>5.0</td>\n",
       "      <td>NaN</td>\n",
       "      <td>1</td>\n",
       "      <td>04 6, 2018</td>\n",
       "      <td>A3DMBDTA8VGWSX</td>\n",
       "      <td>B00004U9V2</td>\n",
       "      <td>Cynthia P. Irving</td>\n",
       "      <td>Its a great moisturizer especially for gardners</td>\n",
       "      <td>Five Stars</td>\n",
       "      <td>{'Size:': ' 3.5 oz.'}</td>\n",
       "      <td>NaN</td>\n",
       "    </tr>\n",
       "  </tbody>\n",
       "</table>\n",
       "</div>"
      ],
      "text/plain": [
       "   overall vote  verified   reviewTime      reviewerID        asin  \\\n",
       "0      2.0    3         1  06 15, 2010  A1Q6MUU0B2ZDQG  B00004U9V2   \n",
       "1      5.0   14         1   01 7, 2010  A3HO2SQDCZIE9S  B00004U9V2   \n",
       "2      5.0  NaN         1  04 18, 2018  A2EM03F99X3RJZ  B00004U9V2   \n",
       "3      5.0  NaN         1  04 18, 2018   A3Z74TDRGD0HU  B00004U9V2   \n",
       "4      5.0  NaN         1  04 17, 2018  A2UXFNW9RTL4VM  B00004U9V2   \n",
       "5      5.0  NaN         1  04 14, 2018   AXX5G4LFF12R6  B00004U9V2   \n",
       "6      5.0  NaN         1  04 11, 2018   A7GUKMOJT2NR6  B00004U9V2   \n",
       "7      5.0  NaN         1  04 11, 2018  A3FU4L59BHA9FY  B00004U9V2   \n",
       "8      5.0  NaN         1   04 7, 2018  A1AMNMIPQMXH9M  B00004U9V2   \n",
       "9      5.0  NaN         1   04 6, 2018  A3DMBDTA8VGWSX  B00004U9V2   \n",
       "\n",
       "        reviewerName                                         reviewText  \\\n",
       "0          D. Poston  I bought two of these 8.5 fl oz hand cream, an...   \n",
       "1            chandra  Believe me, over the years I have tried many, ...   \n",
       "2          Maureen G                                  Great hand lotion   \n",
       "3            Terry K  This is the best for the severely dry skin on ...   \n",
       "4      Patricia Wood  The best non- oily hand cream ever. It heals o...   \n",
       "5              Ralla  Ive used this lotion for many years. I try oth...   \n",
       "6      Lydia Speight                         Works great for dry hands.   \n",
       "7        Allen Semer                          The best hand cream ever.   \n",
       "8          Vets park  LOVE THIS SCENT!!  But Crabtree and Evelyn mak...   \n",
       "9  Cynthia P. Irving    Its a great moisturizer especially for gardners   \n",
       "\n",
       "                                          summary                  style image  \n",
       "0                           dispensers don't work                    NaN   NaN  \n",
       "1                           Best hand cream ever.                    NaN   NaN  \n",
       "2                                      Five Stars  {'Size:': ' 3.5 oz.'}   NaN  \n",
       "3                                      Five Stars  {'Size:': ' 3.5 oz.'}   NaN  \n",
       "4                   I always have a backup ready.  {'Size:': ' 3.5 oz.'}   NaN  \n",
       "5  Ive used this lotion for many years. I try ...    {'Size:': ' 250 g'}   NaN  \n",
       "6                                      Five Stars  {'Size:': ' 3.5 oz.'}   NaN  \n",
       "7                                 Made in the USA  {'Size:': ' 3.5 oz.'}   NaN  \n",
       "8                        Moistens and smells good  {'Size:': ' 3.5 oz.'}   NaN  \n",
       "9                                      Five Stars  {'Size:': ' 3.5 oz.'}   NaN  "
      ]
     },
     "execution_count": 88,
     "metadata": {},
     "output_type": "execute_result"
    }
   ],
   "source": [
    "#checking review_df dataset\n",
    "review_df.head(10)"
   ]
  },
  {
   "cell_type": "markdown",
   "id": "5c9dae10",
   "metadata": {},
   "source": [
    "#### Data Dictionary\n",
    "\n",
    "**Review Data** \n",
    "- `overall` Rating given by user out of 5.0 (numeric)\n",
    "- `verified`: Denotes verified purchases or not (numeric) \n",
    "- `vote`: Number of users that have liked the review (numeric)\n",
    "- `reviewTime`: Recorded time of review (numeric)\n",
    "- `reviewerID`: Unique reviewer ID (object)\n",
    "- `asin`: Unique product ID (object)\n",
    "- `reviewerName`: Name given of reviewer (object) \n",
    "- `reviewText`: Body of user review (object) \n",
    "- `summary`: Title of user review (object)     \n",
    "- `style`: Dictionary object containing details on the product reviewed (Dictionary)\n",
    "- `image`: Associated images in JPEGs of the product uploaded by user(object) \n",
    "\n",
    "**Meta Data** \n",
    "- `category`: object\n",
    "- `tech1`: object,\n",
    "- `description`: object,\n",
    "- `fit`: object,\n",
    "- `title`: object,\n",
    "- `also_buy`: list,\n",
    "- `tech2`: object, \n",
    "- `brand`: object,\n",
    "- `feature`: object,\n",
    "- `rank`:object,\n",
    "- `also_view`: list, \n",
    "- `details`: object,\n",
    "- `Shipping Weight`: object,\n",
    "- `International Shipping`: object,\n",
    "- `ASIN`: object, \n",
    "- `Item model number`: object,\n",
    "- `main_cat`: object,\n",
    "- `similar_item`: object,\n",
    "- `date`: object,\n",
    "- `price`: np.float32,\n",
    "- `asin`: object, \n",
    "- `imageURL`: list, \n",
    "- `imageURLHighRes`: list ,\n",
    "          "
   ]
  },
  {
   "cell_type": "code",
   "execution_count": 89,
   "id": "f43b1678",
   "metadata": {},
   "outputs": [
    {
     "name": "stdout",
     "output_type": "stream",
     "text": [
      "overall              0\n",
      "vote            470939\n",
      "verified             0\n",
      "reviewTime           0\n",
      "reviewerID           0\n",
      "asin                 0\n",
      "reviewerName        31\n",
      "reviewText         400\n",
      "summary            183\n",
      "style           323615\n",
      "image           567210\n",
      "dtype: int64\n"
     ]
    }
   ],
   "source": [
    "#checking amount of nulls   \n",
    "nan_count = review_df.isna().sum()\n",
    "print(nan_count)"
   ]
  },
  {
   "cell_type": "markdown",
   "id": "e0767539",
   "metadata": {},
   "source": [
    "`Image`, `Vote`, `Style` all have high levels of null values. However we want to keep `Vote` column by filling with 0s since this is an indication of other users agreeing with the review written. Before we move on we should explore the style column to see if there is any useful information there since data is stored in a dictionary."
   ]
  },
  {
   "cell_type": "code",
   "execution_count": 90,
   "id": "f15a7b30",
   "metadata": {},
   "outputs": [],
   "source": [
    "#filling Vote column nulls with 0\n",
    "review_df[\"vote\"].fillna(0, inplace = True)"
   ]
  },
  {
   "cell_type": "code",
   "execution_count": 91,
   "id": "ae76b61b",
   "metadata": {},
   "outputs": [],
   "source": [
    "review_df['vote']= review_df['vote'].str.replace(\",\",\"\")"
   ]
  },
  {
   "cell_type": "code",
   "execution_count": 92,
   "id": "c6f08150",
   "metadata": {},
   "outputs": [],
   "source": [
    "review_df['vote']= review_df['vote'].astype(\"float32\")"
   ]
  },
  {
   "cell_type": "code",
   "execution_count": 93,
   "id": "cb6c6dad",
   "metadata": {},
   "outputs": [
    {
     "data": {
      "text/html": [
       "<div>\n",
       "<style scoped>\n",
       "    .dataframe tbody tr th:only-of-type {\n",
       "        vertical-align: middle;\n",
       "    }\n",
       "\n",
       "    .dataframe tbody tr th {\n",
       "        vertical-align: top;\n",
       "    }\n",
       "\n",
       "    .dataframe thead th {\n",
       "        text-align: right;\n",
       "    }\n",
       "</style>\n",
       "<table border=\"1\" class=\"dataframe\">\n",
       "  <thead>\n",
       "    <tr style=\"text-align: right;\">\n",
       "      <th></th>\n",
       "      <th>overall</th>\n",
       "      <th>vote</th>\n",
       "      <th>verified</th>\n",
       "      <th>reviewTime</th>\n",
       "      <th>reviewerID</th>\n",
       "      <th>asin</th>\n",
       "      <th>reviewerName</th>\n",
       "      <th>reviewText</th>\n",
       "      <th>summary</th>\n",
       "      <th>style</th>\n",
       "      <th>image</th>\n",
       "    </tr>\n",
       "  </thead>\n",
       "  <tbody>\n",
       "    <tr>\n",
       "      <th>0</th>\n",
       "      <td>2.0</td>\n",
       "      <td>3.0</td>\n",
       "      <td>1</td>\n",
       "      <td>06 15, 2010</td>\n",
       "      <td>A1Q6MUU0B2ZDQG</td>\n",
       "      <td>B00004U9V2</td>\n",
       "      <td>D. Poston</td>\n",
       "      <td>I bought two of these 8.5 fl oz hand cream, an...</td>\n",
       "      <td>dispensers don't work</td>\n",
       "      <td>NaN</td>\n",
       "      <td>NaN</td>\n",
       "    </tr>\n",
       "    <tr>\n",
       "      <th>1</th>\n",
       "      <td>5.0</td>\n",
       "      <td>14.0</td>\n",
       "      <td>1</td>\n",
       "      <td>01 7, 2010</td>\n",
       "      <td>A3HO2SQDCZIE9S</td>\n",
       "      <td>B00004U9V2</td>\n",
       "      <td>chandra</td>\n",
       "      <td>Believe me, over the years I have tried many, ...</td>\n",
       "      <td>Best hand cream ever.</td>\n",
       "      <td>NaN</td>\n",
       "      <td>NaN</td>\n",
       "    </tr>\n",
       "    <tr>\n",
       "      <th>2</th>\n",
       "      <td>5.0</td>\n",
       "      <td>NaN</td>\n",
       "      <td>1</td>\n",
       "      <td>04 18, 2018</td>\n",
       "      <td>A2EM03F99X3RJZ</td>\n",
       "      <td>B00004U9V2</td>\n",
       "      <td>Maureen G</td>\n",
       "      <td>Great hand lotion</td>\n",
       "      <td>Five Stars</td>\n",
       "      <td>{'Size:': ' 3.5 oz.'}</td>\n",
       "      <td>NaN</td>\n",
       "    </tr>\n",
       "    <tr>\n",
       "      <th>3</th>\n",
       "      <td>5.0</td>\n",
       "      <td>NaN</td>\n",
       "      <td>1</td>\n",
       "      <td>04 18, 2018</td>\n",
       "      <td>A3Z74TDRGD0HU</td>\n",
       "      <td>B00004U9V2</td>\n",
       "      <td>Terry K</td>\n",
       "      <td>This is the best for the severely dry skin on ...</td>\n",
       "      <td>Five Stars</td>\n",
       "      <td>{'Size:': ' 3.5 oz.'}</td>\n",
       "      <td>NaN</td>\n",
       "    </tr>\n",
       "    <tr>\n",
       "      <th>4</th>\n",
       "      <td>5.0</td>\n",
       "      <td>NaN</td>\n",
       "      <td>1</td>\n",
       "      <td>04 17, 2018</td>\n",
       "      <td>A2UXFNW9RTL4VM</td>\n",
       "      <td>B00004U9V2</td>\n",
       "      <td>Patricia Wood</td>\n",
       "      <td>The best non- oily hand cream ever. It heals o...</td>\n",
       "      <td>I always have a backup ready.</td>\n",
       "      <td>{'Size:': ' 3.5 oz.'}</td>\n",
       "      <td>NaN</td>\n",
       "    </tr>\n",
       "    <tr>\n",
       "      <th>...</th>\n",
       "      <td>...</td>\n",
       "      <td>...</td>\n",
       "      <td>...</td>\n",
       "      <td>...</td>\n",
       "      <td>...</td>\n",
       "      <td>...</td>\n",
       "      <td>...</td>\n",
       "      <td>...</td>\n",
       "      <td>...</td>\n",
       "      <td>...</td>\n",
       "      <td>...</td>\n",
       "    </tr>\n",
       "    <tr>\n",
       "      <th>574623</th>\n",
       "      <td>5.0</td>\n",
       "      <td>NaN</td>\n",
       "      <td>1</td>\n",
       "      <td>03 20, 2017</td>\n",
       "      <td>AHYJ78MVF4UQO</td>\n",
       "      <td>B01HIQEOLO</td>\n",
       "      <td>Lori Fox</td>\n",
       "      <td>Great color and I prefer shellac over gel</td>\n",
       "      <td>Five Stars</td>\n",
       "      <td>NaN</td>\n",
       "      <td>NaN</td>\n",
       "    </tr>\n",
       "    <tr>\n",
       "      <th>574624</th>\n",
       "      <td>5.0</td>\n",
       "      <td>NaN</td>\n",
       "      <td>1</td>\n",
       "      <td>10 26, 2016</td>\n",
       "      <td>A1L2RT7KBNK02K</td>\n",
       "      <td>B01HIQEOLO</td>\n",
       "      <td>Elena</td>\n",
       "      <td>Best shellac I have ever used.  It doesn't tak...</td>\n",
       "      <td>Best shellac I have ever used</td>\n",
       "      <td>NaN</td>\n",
       "      <td>NaN</td>\n",
       "    </tr>\n",
       "    <tr>\n",
       "      <th>574625</th>\n",
       "      <td>5.0</td>\n",
       "      <td>NaN</td>\n",
       "      <td>1</td>\n",
       "      <td>09 30, 2016</td>\n",
       "      <td>A36MLXQX9WPPW9</td>\n",
       "      <td>B01HIQEOLO</td>\n",
       "      <td>Donna D. Harris</td>\n",
       "      <td>Great polish and beautiful color!!</td>\n",
       "      <td>Great polish!</td>\n",
       "      <td>NaN</td>\n",
       "      <td>NaN</td>\n",
       "    </tr>\n",
       "    <tr>\n",
       "      <th>574626</th>\n",
       "      <td>1.0</td>\n",
       "      <td>2.0</td>\n",
       "      <td>1</td>\n",
       "      <td>12 5, 2016</td>\n",
       "      <td>A23DRCOMC2RIXF</td>\n",
       "      <td>B01HJ2UY0W</td>\n",
       "      <td>Y.Y. Chen</td>\n",
       "      <td>The perfume is good, but the spray head broke ...</td>\n",
       "      <td>Spray head broke off within a month</td>\n",
       "      <td>{'Size:': ' 1.7 Fluid Ounce', 'Color:': ' Multi'}</td>\n",
       "      <td>NaN</td>\n",
       "    </tr>\n",
       "    <tr>\n",
       "      <th>574627</th>\n",
       "      <td>5.0</td>\n",
       "      <td>NaN</td>\n",
       "      <td>1</td>\n",
       "      <td>01 14, 2017</td>\n",
       "      <td>AJEDVHTLS9P3V</td>\n",
       "      <td>B01HJ2UY1G</td>\n",
       "      <td>ML Shelton</td>\n",
       "      <td>Great fragrance.</td>\n",
       "      <td>Five Stars</td>\n",
       "      <td>{'Size:': ' 3.4 Fluid Ounce', 'Color:': ' Multi'}</td>\n",
       "      <td>NaN</td>\n",
       "    </tr>\n",
       "  </tbody>\n",
       "</table>\n",
       "<p>574628 rows × 11 columns</p>\n",
       "</div>"
      ],
      "text/plain": [
       "        overall  vote  verified   reviewTime      reviewerID        asin  \\\n",
       "0           2.0   3.0         1  06 15, 2010  A1Q6MUU0B2ZDQG  B00004U9V2   \n",
       "1           5.0  14.0         1   01 7, 2010  A3HO2SQDCZIE9S  B00004U9V2   \n",
       "2           5.0   NaN         1  04 18, 2018  A2EM03F99X3RJZ  B00004U9V2   \n",
       "3           5.0   NaN         1  04 18, 2018   A3Z74TDRGD0HU  B00004U9V2   \n",
       "4           5.0   NaN         1  04 17, 2018  A2UXFNW9RTL4VM  B00004U9V2   \n",
       "...         ...   ...       ...          ...             ...         ...   \n",
       "574623      5.0   NaN         1  03 20, 2017   AHYJ78MVF4UQO  B01HIQEOLO   \n",
       "574624      5.0   NaN         1  10 26, 2016  A1L2RT7KBNK02K  B01HIQEOLO   \n",
       "574625      5.0   NaN         1  09 30, 2016  A36MLXQX9WPPW9  B01HIQEOLO   \n",
       "574626      1.0   2.0         1   12 5, 2016  A23DRCOMC2RIXF  B01HJ2UY0W   \n",
       "574627      5.0   NaN         1  01 14, 2017   AJEDVHTLS9P3V  B01HJ2UY1G   \n",
       "\n",
       "           reviewerName                                         reviewText  \\\n",
       "0             D. Poston  I bought two of these 8.5 fl oz hand cream, an...   \n",
       "1               chandra  Believe me, over the years I have tried many, ...   \n",
       "2             Maureen G                                  Great hand lotion   \n",
       "3               Terry K  This is the best for the severely dry skin on ...   \n",
       "4         Patricia Wood  The best non- oily hand cream ever. It heals o...   \n",
       "...                 ...                                                ...   \n",
       "574623         Lori Fox          Great color and I prefer shellac over gel   \n",
       "574624            Elena  Best shellac I have ever used.  It doesn't tak...   \n",
       "574625  Donna D. Harris                 Great polish and beautiful color!!   \n",
       "574626        Y.Y. Chen  The perfume is good, but the spray head broke ...   \n",
       "574627       ML Shelton                                   Great fragrance.   \n",
       "\n",
       "                                    summary  \\\n",
       "0                     dispensers don't work   \n",
       "1                     Best hand cream ever.   \n",
       "2                                Five Stars   \n",
       "3                                Five Stars   \n",
       "4             I always have a backup ready.   \n",
       "...                                     ...   \n",
       "574623                           Five Stars   \n",
       "574624        Best shellac I have ever used   \n",
       "574625                        Great polish!   \n",
       "574626  Spray head broke off within a month   \n",
       "574627                           Five Stars   \n",
       "\n",
       "                                                    style image  \n",
       "0                                                     NaN   NaN  \n",
       "1                                                     NaN   NaN  \n",
       "2                                   {'Size:': ' 3.5 oz.'}   NaN  \n",
       "3                                   {'Size:': ' 3.5 oz.'}   NaN  \n",
       "4                                   {'Size:': ' 3.5 oz.'}   NaN  \n",
       "...                                                   ...   ...  \n",
       "574623                                                NaN   NaN  \n",
       "574624                                                NaN   NaN  \n",
       "574625                                                NaN   NaN  \n",
       "574626  {'Size:': ' 1.7 Fluid Ounce', 'Color:': ' Multi'}   NaN  \n",
       "574627  {'Size:': ' 3.4 Fluid Ounce', 'Color:': ' Multi'}   NaN  \n",
       "\n",
       "[574628 rows x 11 columns]"
      ]
     },
     "execution_count": 93,
     "metadata": {},
     "output_type": "execute_result"
    }
   ],
   "source": [
    "review_df"
   ]
  },
  {
   "cell_type": "code",
   "execution_count": 94,
   "id": "a5fead62",
   "metadata": {},
   "outputs": [
    {
     "name": "stdout",
     "output_type": "stream",
     "text": [
      "overall         float16\n",
      "vote            float32\n",
      "verified          int32\n",
      "reviewTime       object\n",
      "reviewerID       object\n",
      "asin             object\n",
      "reviewerName     object\n",
      "reviewText       object\n",
      "summary          object\n",
      "style            object\n",
      "image            object\n",
      "dtype: object\n"
     ]
    }
   ],
   "source": [
    "#converting vote column to vote\n",
    "print(review_df.dtypes)"
   ]
  },
  {
   "cell_type": "code",
   "execution_count": 95,
   "id": "7148d6b2",
   "metadata": {},
   "outputs": [
    {
     "data": {
      "text/html": [
       "<div>\n",
       "<style scoped>\n",
       "    .dataframe tbody tr th:only-of-type {\n",
       "        vertical-align: middle;\n",
       "    }\n",
       "\n",
       "    .dataframe tbody tr th {\n",
       "        vertical-align: top;\n",
       "    }\n",
       "\n",
       "    .dataframe thead th {\n",
       "        text-align: right;\n",
       "    }\n",
       "</style>\n",
       "<table border=\"1\" class=\"dataframe\">\n",
       "  <thead>\n",
       "    <tr style=\"text-align: right;\">\n",
       "      <th></th>\n",
       "      <th>overall</th>\n",
       "      <th>vote</th>\n",
       "      <th>verified</th>\n",
       "      <th>reviewTime</th>\n",
       "      <th>reviewerID</th>\n",
       "      <th>asin</th>\n",
       "      <th>reviewerName</th>\n",
       "      <th>reviewText</th>\n",
       "      <th>summary</th>\n",
       "      <th>style</th>\n",
       "      <th>image</th>\n",
       "    </tr>\n",
       "  </thead>\n",
       "  <tbody>\n",
       "    <tr>\n",
       "      <th>22620</th>\n",
       "      <td>5.0</td>\n",
       "      <td>5.0</td>\n",
       "      <td>1</td>\n",
       "      <td>11 16, 2015</td>\n",
       "      <td>A14OAB0YBN176K</td>\n",
       "      <td>B0002ZW5UQ</td>\n",
       "      <td>P Nitty</td>\n",
       "      <td>It's funny, I tried this same product about 15...</td>\n",
       "      <td>If you have thinning hair, this is perfect.  I...</td>\n",
       "      <td>{'Size:': ' 0.42 oz.', 'Color:': ' Black'}</td>\n",
       "      <td>NaN</td>\n",
       "    </tr>\n",
       "    <tr>\n",
       "      <th>22621</th>\n",
       "      <td>4.0</td>\n",
       "      <td>NaN</td>\n",
       "      <td>1</td>\n",
       "      <td>11 15, 2015</td>\n",
       "      <td>A1MB9LANC755GE</td>\n",
       "      <td>B0002ZW5UQ</td>\n",
       "      <td>kamran</td>\n",
       "      <td>Very nice. Thanks,</td>\n",
       "      <td>Four Stars</td>\n",
       "      <td>{'Size:': ' 0.42 oz.', 'Color:': ' Black'}</td>\n",
       "      <td>NaN</td>\n",
       "    </tr>\n",
       "    <tr>\n",
       "      <th>22622</th>\n",
       "      <td>5.0</td>\n",
       "      <td>NaN</td>\n",
       "      <td>1</td>\n",
       "      <td>11 14, 2015</td>\n",
       "      <td>AHYZUR6W4B3EL</td>\n",
       "      <td>B0002ZW5UQ</td>\n",
       "      <td>Zachary Spencer</td>\n",
       "      <td>I honestly love this stuff! It does wonders. E...</td>\n",
       "      <td>I love it!!!!</td>\n",
       "      <td>{'Size:': ' 0.97 oz.', 'Color:': ' Dark Brown'}</td>\n",
       "      <td>NaN</td>\n",
       "    </tr>\n",
       "    <tr>\n",
       "      <th>22623</th>\n",
       "      <td>4.0</td>\n",
       "      <td>2995.0</td>\n",
       "      <td>1</td>\n",
       "      <td>11 14, 2015</td>\n",
       "      <td>A2J0S1IC4PU9G8</td>\n",
       "      <td>B0002ZW5UQ</td>\n",
       "      <td>Big Stink</td>\n",
       "      <td>So, if you're bothering to read reviews about ...</td>\n",
       "      <td>Not bad, Toppik, but let's be clear about a fe...</td>\n",
       "      <td>{'Size:': ' 0.42 oz.', 'Color:': ' Dark Brown'}</td>\n",
       "      <td>NaN</td>\n",
       "    </tr>\n",
       "    <tr>\n",
       "      <th>22624</th>\n",
       "      <td>5.0</td>\n",
       "      <td>NaN</td>\n",
       "      <td>1</td>\n",
       "      <td>11 13, 2015</td>\n",
       "      <td>A2N5487XPK9L8E</td>\n",
       "      <td>B0002ZW5UQ</td>\n",
       "      <td>Yaneida Gutierrez</td>\n",
       "      <td>Love it, does the work well, and I love that I...</td>\n",
       "      <td>Go on, buy it!</td>\n",
       "      <td>{'Size:': ' 0.97 oz.', 'Color:': ' Dark Brown'}</td>\n",
       "      <td>NaN</td>\n",
       "    </tr>\n",
       "  </tbody>\n",
       "</table>\n",
       "</div>"
      ],
      "text/plain": [
       "       overall    vote  verified   reviewTime      reviewerID        asin  \\\n",
       "22620      5.0     5.0         1  11 16, 2015  A14OAB0YBN176K  B0002ZW5UQ   \n",
       "22621      4.0     NaN         1  11 15, 2015  A1MB9LANC755GE  B0002ZW5UQ   \n",
       "22622      5.0     NaN         1  11 14, 2015   AHYZUR6W4B3EL  B0002ZW5UQ   \n",
       "22623      4.0  2995.0         1  11 14, 2015  A2J0S1IC4PU9G8  B0002ZW5UQ   \n",
       "22624      5.0     NaN         1  11 13, 2015  A2N5487XPK9L8E  B0002ZW5UQ   \n",
       "\n",
       "            reviewerName                                         reviewText  \\\n",
       "22620            P Nitty  It's funny, I tried this same product about 15...   \n",
       "22621             kamran                                 Very nice. Thanks,   \n",
       "22622    Zachary Spencer  I honestly love this stuff! It does wonders. E...   \n",
       "22623          Big Stink  So, if you're bothering to read reviews about ...   \n",
       "22624  Yaneida Gutierrez  Love it, does the work well, and I love that I...   \n",
       "\n",
       "                                                 summary  \\\n",
       "22620  If you have thinning hair, this is perfect.  I...   \n",
       "22621                                         Four Stars   \n",
       "22622                                      I love it!!!!   \n",
       "22623  Not bad, Toppik, but let's be clear about a fe...   \n",
       "22624                                     Go on, buy it!   \n",
       "\n",
       "                                                 style image  \n",
       "22620       {'Size:': ' 0.42 oz.', 'Color:': ' Black'}   NaN  \n",
       "22621       {'Size:': ' 0.42 oz.', 'Color:': ' Black'}   NaN  \n",
       "22622  {'Size:': ' 0.97 oz.', 'Color:': ' Dark Brown'}   NaN  \n",
       "22623  {'Size:': ' 0.42 oz.', 'Color:': ' Dark Brown'}   NaN  \n",
       "22624  {'Size:': ' 0.97 oz.', 'Color:': ' Dark Brown'}   NaN  "
      ]
     },
     "execution_count": 95,
     "metadata": {},
     "output_type": "execute_result"
    }
   ],
   "source": [
    "review_df.iloc[22620:22625]"
   ]
  },
  {
   "cell_type": "code",
   "execution_count": 96,
   "id": "9b672a93",
   "metadata": {},
   "outputs": [
    {
     "data": {
      "text/html": [
       "<div>\n",
       "<style scoped>\n",
       "    .dataframe tbody tr th:only-of-type {\n",
       "        vertical-align: middle;\n",
       "    }\n",
       "\n",
       "    .dataframe tbody tr th {\n",
       "        vertical-align: top;\n",
       "    }\n",
       "\n",
       "    .dataframe thead th {\n",
       "        text-align: right;\n",
       "    }\n",
       "</style>\n",
       "<table border=\"1\" class=\"dataframe\">\n",
       "  <thead>\n",
       "    <tr style=\"text-align: right;\">\n",
       "      <th></th>\n",
       "      <th>overall</th>\n",
       "      <th>vote</th>\n",
       "      <th>verified</th>\n",
       "    </tr>\n",
       "  </thead>\n",
       "  <tbody>\n",
       "    <tr>\n",
       "      <th>count</th>\n",
       "      <td>574628.0</td>\n",
       "      <td>103689.000000</td>\n",
       "      <td>574628.000000</td>\n",
       "    </tr>\n",
       "    <tr>\n",
       "      <th>mean</th>\n",
       "      <td>NaN</td>\n",
       "      <td>7.399059</td>\n",
       "      <td>0.878032</td>\n",
       "    </tr>\n",
       "    <tr>\n",
       "      <th>std</th>\n",
       "      <td>0.0</td>\n",
       "      <td>27.668232</td>\n",
       "      <td>0.327249</td>\n",
       "    </tr>\n",
       "    <tr>\n",
       "      <th>min</th>\n",
       "      <td>1.0</td>\n",
       "      <td>2.000000</td>\n",
       "      <td>0.000000</td>\n",
       "    </tr>\n",
       "    <tr>\n",
       "      <th>25%</th>\n",
       "      <td>4.0</td>\n",
       "      <td>2.000000</td>\n",
       "      <td>1.000000</td>\n",
       "    </tr>\n",
       "    <tr>\n",
       "      <th>50%</th>\n",
       "      <td>5.0</td>\n",
       "      <td>3.000000</td>\n",
       "      <td>1.000000</td>\n",
       "    </tr>\n",
       "    <tr>\n",
       "      <th>75%</th>\n",
       "      <td>5.0</td>\n",
       "      <td>6.000000</td>\n",
       "      <td>1.000000</td>\n",
       "    </tr>\n",
       "    <tr>\n",
       "      <th>max</th>\n",
       "      <td>5.0</td>\n",
       "      <td>2995.000000</td>\n",
       "      <td>1.000000</td>\n",
       "    </tr>\n",
       "  </tbody>\n",
       "</table>\n",
       "</div>"
      ],
      "text/plain": [
       "        overall           vote       verified\n",
       "count  574628.0  103689.000000  574628.000000\n",
       "mean        NaN       7.399059       0.878032\n",
       "std         0.0      27.668232       0.327249\n",
       "min         1.0       2.000000       0.000000\n",
       "25%         4.0       2.000000       1.000000\n",
       "50%         5.0       3.000000       1.000000\n",
       "75%         5.0       6.000000       1.000000\n",
       "max         5.0    2995.000000       1.000000"
      ]
     },
     "execution_count": 96,
     "metadata": {},
     "output_type": "execute_result"
    }
   ],
   "source": [
    "review_df.describe()"
   ]
  },
  {
   "cell_type": "code",
   "execution_count": 97,
   "id": "f49b2b2f",
   "metadata": {},
   "outputs": [
    {
     "data": {
      "text/html": [
       "<div>\n",
       "<style scoped>\n",
       "    .dataframe tbody tr th:only-of-type {\n",
       "        vertical-align: middle;\n",
       "    }\n",
       "\n",
       "    .dataframe tbody tr th {\n",
       "        vertical-align: top;\n",
       "    }\n",
       "\n",
       "    .dataframe thead th {\n",
       "        text-align: right;\n",
       "    }\n",
       "</style>\n",
       "<table border=\"1\" class=\"dataframe\">\n",
       "  <thead>\n",
       "    <tr style=\"text-align: right;\">\n",
       "      <th></th>\n",
       "      <th>overall</th>\n",
       "      <th>vote</th>\n",
       "      <th>verified</th>\n",
       "      <th>reviewTime</th>\n",
       "      <th>reviewerID</th>\n",
       "      <th>asin</th>\n",
       "      <th>reviewerName</th>\n",
       "      <th>reviewText</th>\n",
       "      <th>summary</th>\n",
       "      <th>style</th>\n",
       "      <th>image</th>\n",
       "    </tr>\n",
       "  </thead>\n",
       "  <tbody>\n",
       "    <tr>\n",
       "      <th>0</th>\n",
       "      <td>2.0</td>\n",
       "      <td>3.0</td>\n",
       "      <td>1</td>\n",
       "      <td>06 15, 2010</td>\n",
       "      <td>A1Q6MUU0B2ZDQG</td>\n",
       "      <td>B00004U9V2</td>\n",
       "      <td>D. Poston</td>\n",
       "      <td>I bought two of these 8.5 fl oz hand cream, an...</td>\n",
       "      <td>dispensers don't work</td>\n",
       "      <td>NaN</td>\n",
       "      <td>NaN</td>\n",
       "    </tr>\n",
       "    <tr>\n",
       "      <th>1</th>\n",
       "      <td>5.0</td>\n",
       "      <td>14.0</td>\n",
       "      <td>1</td>\n",
       "      <td>01 7, 2010</td>\n",
       "      <td>A3HO2SQDCZIE9S</td>\n",
       "      <td>B00004U9V2</td>\n",
       "      <td>chandra</td>\n",
       "      <td>Believe me, over the years I have tried many, ...</td>\n",
       "      <td>Best hand cream ever.</td>\n",
       "      <td>NaN</td>\n",
       "      <td>NaN</td>\n",
       "    </tr>\n",
       "    <tr>\n",
       "      <th>2</th>\n",
       "      <td>5.0</td>\n",
       "      <td>NaN</td>\n",
       "      <td>1</td>\n",
       "      <td>04 18, 2018</td>\n",
       "      <td>A2EM03F99X3RJZ</td>\n",
       "      <td>B00004U9V2</td>\n",
       "      <td>Maureen G</td>\n",
       "      <td>Great hand lotion</td>\n",
       "      <td>Five Stars</td>\n",
       "      <td>{'Size:': ' 3.5 oz.'}</td>\n",
       "      <td>NaN</td>\n",
       "    </tr>\n",
       "    <tr>\n",
       "      <th>3</th>\n",
       "      <td>5.0</td>\n",
       "      <td>NaN</td>\n",
       "      <td>1</td>\n",
       "      <td>04 18, 2018</td>\n",
       "      <td>A3Z74TDRGD0HU</td>\n",
       "      <td>B00004U9V2</td>\n",
       "      <td>Terry K</td>\n",
       "      <td>This is the best for the severely dry skin on ...</td>\n",
       "      <td>Five Stars</td>\n",
       "      <td>{'Size:': ' 3.5 oz.'}</td>\n",
       "      <td>NaN</td>\n",
       "    </tr>\n",
       "    <tr>\n",
       "      <th>4</th>\n",
       "      <td>5.0</td>\n",
       "      <td>NaN</td>\n",
       "      <td>1</td>\n",
       "      <td>04 17, 2018</td>\n",
       "      <td>A2UXFNW9RTL4VM</td>\n",
       "      <td>B00004U9V2</td>\n",
       "      <td>Patricia Wood</td>\n",
       "      <td>The best non- oily hand cream ever. It heals o...</td>\n",
       "      <td>I always have a backup ready.</td>\n",
       "      <td>{'Size:': ' 3.5 oz.'}</td>\n",
       "      <td>NaN</td>\n",
       "    </tr>\n",
       "    <tr>\n",
       "      <th>...</th>\n",
       "      <td>...</td>\n",
       "      <td>...</td>\n",
       "      <td>...</td>\n",
       "      <td>...</td>\n",
       "      <td>...</td>\n",
       "      <td>...</td>\n",
       "      <td>...</td>\n",
       "      <td>...</td>\n",
       "      <td>...</td>\n",
       "      <td>...</td>\n",
       "      <td>...</td>\n",
       "    </tr>\n",
       "    <tr>\n",
       "      <th>574623</th>\n",
       "      <td>5.0</td>\n",
       "      <td>NaN</td>\n",
       "      <td>1</td>\n",
       "      <td>03 20, 2017</td>\n",
       "      <td>AHYJ78MVF4UQO</td>\n",
       "      <td>B01HIQEOLO</td>\n",
       "      <td>Lori Fox</td>\n",
       "      <td>Great color and I prefer shellac over gel</td>\n",
       "      <td>Five Stars</td>\n",
       "      <td>NaN</td>\n",
       "      <td>NaN</td>\n",
       "    </tr>\n",
       "    <tr>\n",
       "      <th>574624</th>\n",
       "      <td>5.0</td>\n",
       "      <td>NaN</td>\n",
       "      <td>1</td>\n",
       "      <td>10 26, 2016</td>\n",
       "      <td>A1L2RT7KBNK02K</td>\n",
       "      <td>B01HIQEOLO</td>\n",
       "      <td>Elena</td>\n",
       "      <td>Best shellac I have ever used.  It doesn't tak...</td>\n",
       "      <td>Best shellac I have ever used</td>\n",
       "      <td>NaN</td>\n",
       "      <td>NaN</td>\n",
       "    </tr>\n",
       "    <tr>\n",
       "      <th>574625</th>\n",
       "      <td>5.0</td>\n",
       "      <td>NaN</td>\n",
       "      <td>1</td>\n",
       "      <td>09 30, 2016</td>\n",
       "      <td>A36MLXQX9WPPW9</td>\n",
       "      <td>B01HIQEOLO</td>\n",
       "      <td>Donna D. Harris</td>\n",
       "      <td>Great polish and beautiful color!!</td>\n",
       "      <td>Great polish!</td>\n",
       "      <td>NaN</td>\n",
       "      <td>NaN</td>\n",
       "    </tr>\n",
       "    <tr>\n",
       "      <th>574626</th>\n",
       "      <td>1.0</td>\n",
       "      <td>2.0</td>\n",
       "      <td>1</td>\n",
       "      <td>12 5, 2016</td>\n",
       "      <td>A23DRCOMC2RIXF</td>\n",
       "      <td>B01HJ2UY0W</td>\n",
       "      <td>Y.Y. Chen</td>\n",
       "      <td>The perfume is good, but the spray head broke ...</td>\n",
       "      <td>Spray head broke off within a month</td>\n",
       "      <td>{'Size:': ' 1.7 Fluid Ounce', 'Color:': ' Multi'}</td>\n",
       "      <td>NaN</td>\n",
       "    </tr>\n",
       "    <tr>\n",
       "      <th>574627</th>\n",
       "      <td>5.0</td>\n",
       "      <td>NaN</td>\n",
       "      <td>1</td>\n",
       "      <td>01 14, 2017</td>\n",
       "      <td>AJEDVHTLS9P3V</td>\n",
       "      <td>B01HJ2UY1G</td>\n",
       "      <td>ML Shelton</td>\n",
       "      <td>Great fragrance.</td>\n",
       "      <td>Five Stars</td>\n",
       "      <td>{'Size:': ' 3.4 Fluid Ounce', 'Color:': ' Multi'}</td>\n",
       "      <td>NaN</td>\n",
       "    </tr>\n",
       "  </tbody>\n",
       "</table>\n",
       "<p>574628 rows × 11 columns</p>\n",
       "</div>"
      ],
      "text/plain": [
       "        overall  vote  verified   reviewTime      reviewerID        asin  \\\n",
       "0           2.0   3.0         1  06 15, 2010  A1Q6MUU0B2ZDQG  B00004U9V2   \n",
       "1           5.0  14.0         1   01 7, 2010  A3HO2SQDCZIE9S  B00004U9V2   \n",
       "2           5.0   NaN         1  04 18, 2018  A2EM03F99X3RJZ  B00004U9V2   \n",
       "3           5.0   NaN         1  04 18, 2018   A3Z74TDRGD0HU  B00004U9V2   \n",
       "4           5.0   NaN         1  04 17, 2018  A2UXFNW9RTL4VM  B00004U9V2   \n",
       "...         ...   ...       ...          ...             ...         ...   \n",
       "574623      5.0   NaN         1  03 20, 2017   AHYJ78MVF4UQO  B01HIQEOLO   \n",
       "574624      5.0   NaN         1  10 26, 2016  A1L2RT7KBNK02K  B01HIQEOLO   \n",
       "574625      5.0   NaN         1  09 30, 2016  A36MLXQX9WPPW9  B01HIQEOLO   \n",
       "574626      1.0   2.0         1   12 5, 2016  A23DRCOMC2RIXF  B01HJ2UY0W   \n",
       "574627      5.0   NaN         1  01 14, 2017   AJEDVHTLS9P3V  B01HJ2UY1G   \n",
       "\n",
       "           reviewerName                                         reviewText  \\\n",
       "0             D. Poston  I bought two of these 8.5 fl oz hand cream, an...   \n",
       "1               chandra  Believe me, over the years I have tried many, ...   \n",
       "2             Maureen G                                  Great hand lotion   \n",
       "3               Terry K  This is the best for the severely dry skin on ...   \n",
       "4         Patricia Wood  The best non- oily hand cream ever. It heals o...   \n",
       "...                 ...                                                ...   \n",
       "574623         Lori Fox          Great color and I prefer shellac over gel   \n",
       "574624            Elena  Best shellac I have ever used.  It doesn't tak...   \n",
       "574625  Donna D. Harris                 Great polish and beautiful color!!   \n",
       "574626        Y.Y. Chen  The perfume is good, but the spray head broke ...   \n",
       "574627       ML Shelton                                   Great fragrance.   \n",
       "\n",
       "                                    summary  \\\n",
       "0                     dispensers don't work   \n",
       "1                     Best hand cream ever.   \n",
       "2                                Five Stars   \n",
       "3                                Five Stars   \n",
       "4             I always have a backup ready.   \n",
       "...                                     ...   \n",
       "574623                           Five Stars   \n",
       "574624        Best shellac I have ever used   \n",
       "574625                        Great polish!   \n",
       "574626  Spray head broke off within a month   \n",
       "574627                           Five Stars   \n",
       "\n",
       "                                                    style image  \n",
       "0                                                     NaN   NaN  \n",
       "1                                                     NaN   NaN  \n",
       "2                                   {'Size:': ' 3.5 oz.'}   NaN  \n",
       "3                                   {'Size:': ' 3.5 oz.'}   NaN  \n",
       "4                                   {'Size:': ' 3.5 oz.'}   NaN  \n",
       "...                                                   ...   ...  \n",
       "574623                                                NaN   NaN  \n",
       "574624                                                NaN   NaN  \n",
       "574625                                                NaN   NaN  \n",
       "574626  {'Size:': ' 1.7 Fluid Ounce', 'Color:': ' Multi'}   NaN  \n",
       "574627  {'Size:': ' 3.4 Fluid Ounce', 'Color:': ' Multi'}   NaN  \n",
       "\n",
       "[574628 rows x 11 columns]"
      ]
     },
     "execution_count": 97,
     "metadata": {},
     "output_type": "execute_result"
    }
   ],
   "source": [
    "review_df"
   ]
  },
  {
   "cell_type": "code",
   "execution_count": 98,
   "id": "07eb8fd9",
   "metadata": {},
   "outputs": [
    {
     "data": {
      "text/plain": [
       "470939"
      ]
     },
     "execution_count": 98,
     "metadata": {},
     "output_type": "execute_result"
    }
   ],
   "source": [
    "#sanity check\n",
    "review_df[\"vote\"].isna().sum()"
   ]
  },
  {
   "cell_type": "code",
   "execution_count": null,
   "id": "62abdfab",
   "metadata": {},
   "outputs": [],
   "source": [
    "#Splitting out Key Value pairs into separate columns for Style\n",
    "review_df = pd.concat([review_df,review_df[\"style\"].apply(pd.Series)], axis=1)\n",
    "review_df"
   ]
  },
  {
   "cell_type": "code",
   "execution_count": null,
   "id": "7e2dd674",
   "metadata": {},
   "outputs": [],
   "source": [
    "#Removing columns with null values greater than 80% https://stackoverflow.com/questions/43311555/how-to-drop-column-according-to-nan-percentage-for-dataframe \n",
    "review_df = review_df.loc[:, review_df.isnull().mean() < .8]\n",
    "review_df"
   ]
  },
  {
   "cell_type": "code",
   "execution_count": null,
   "id": "34851831",
   "metadata": {},
   "outputs": [],
   "source": [
    "review_df.info()"
   ]
  },
  {
   "cell_type": "code",
   "execution_count": 80,
   "id": "9241e177",
   "metadata": {},
   "outputs": [
    {
     "ename": "AttributeError",
     "evalue": "'NoneType' object has no attribute 'drop'",
     "output_type": "error",
     "traceback": [
      "\u001b[0;31m---------------------------------------------------------------------------\u001b[0m",
      "\u001b[0;31mAttributeError\u001b[0m                            Traceback (most recent call last)",
      "Cell \u001b[0;32mIn[80], line 2\u001b[0m\n\u001b[1;32m      1\u001b[0m \u001b[38;5;66;03m#Removing unnecessary columns and Image\u001b[39;00m\n\u001b[0;32m----> 2\u001b[0m review_df \u001b[38;5;241m=\u001b[39m review_df\u001b[38;5;241m.\u001b[39mdrop(columns\u001b[38;5;241m=\u001b[39m[\u001b[38;5;124m\"\u001b[39m\u001b[38;5;124mstyle\u001b[39m\u001b[38;5;124m\"\u001b[39m,\u001b[38;5;124m\"\u001b[39m\u001b[38;5;124mSize:\u001b[39m\u001b[38;5;124m\"\u001b[39m] ,inplace\u001b[38;5;241m=\u001b[39m\u001b[38;5;28;01mTrue\u001b[39;00m, axis\u001b[38;5;241m=\u001b[39m\u001b[38;5;241m1\u001b[39m)\n",
      "\u001b[0;31mAttributeError\u001b[0m: 'NoneType' object has no attribute 'drop'"
     ]
    }
   ],
   "source": [
    "#Removing unnecessary columns and Image\n",
    "review_df = review_df.drop(columns=[\"style\",\"Size:\"] ,inplace=True, axis=1)"
   ]
  },
  {
   "cell_type": "code",
   "execution_count": 78,
   "id": "5f62f2dd",
   "metadata": {},
   "outputs": [
    {
     "ename": "AttributeError",
     "evalue": "'NoneType' object has no attribute 'isna'",
     "output_type": "error",
     "traceback": [
      "\u001b[0;31m---------------------------------------------------------------------------\u001b[0m",
      "\u001b[0;31mAttributeError\u001b[0m                            Traceback (most recent call last)",
      "Cell \u001b[0;32mIn[78], line 1\u001b[0m\n\u001b[0;32m----> 1\u001b[0m nan_count \u001b[38;5;241m=\u001b[39m review_df\u001b[38;5;241m.\u001b[39misna()\u001b[38;5;241m.\u001b[39msum()\n\u001b[1;32m      2\u001b[0m \u001b[38;5;28mprint\u001b[39m(nan_count)\n",
      "\u001b[0;31mAttributeError\u001b[0m: 'NoneType' object has no attribute 'isna'"
     ]
    }
   ],
   "source": [
    "nan_count = review_df.isna().sum()\n",
    "print(nan_count)"
   ]
  },
  {
   "cell_type": "code",
   "execution_count": null,
   "id": "a722d3f9",
   "metadata": {},
   "outputs": [],
   "source": [
    "#replacing na values of reviewer name with reviewer ID \n",
    "review_df = review_df['reviewerName'].fillna(review_df['reviewerID'], inplace=True)"
   ]
  },
  {
   "cell_type": "code",
   "execution_count": null,
   "id": "e8975a9b",
   "metadata": {},
   "outputs": [],
   "source": [
    "nan_count = review_df.isna().sum()\n",
    "print(nan_count)"
   ]
  },
  {
   "cell_type": "code",
   "execution_count": null,
   "id": "0bcd0aa3",
   "metadata": {},
   "outputs": [],
   "source": [
    "# % of na values of review_df\n",
    "pct_reviewText = review_df[\"reviewText\"].isna().sum()/review_df.shape[0]*100\n",
    "print(f\"Null values of reviewText makes up {round(pct_reviewText,2)}% of dataset, this is small so we can remove these lines\")"
   ]
  },
  {
   "cell_type": "code",
   "execution_count": null,
   "id": "42e2a5a5",
   "metadata": {},
   "outputs": [],
   "source": [
    "#removing remaining rows with null values and checking row counts\n",
    "review_df = review_df.dropna()\n",
    "review_df.shape"
   ]
  },
  {
   "cell_type": "code",
   "execution_count": null,
   "id": "bc64047d",
   "metadata": {},
   "outputs": [],
   "source": [
    "#sanity check\n",
    "review_df.isna().sum().sum()"
   ]
  },
  {
   "cell_type": "markdown",
   "id": "2774e4f2",
   "metadata": {},
   "source": [
    "### Row Duplicates"
   ]
  },
  {
   "cell_type": "markdown",
   "id": "ab806d72",
   "metadata": {},
   "source": [
    "Now that we have dealt with the null values we can move onto checking if we have any duplicates of rows. "
   ]
  },
  {
   "cell_type": "code",
   "execution_count": null,
   "id": "f517008c",
   "metadata": {},
   "outputs": [],
   "source": [
    "#checking count of duplicated rows \n",
    "review_df.duplicated().sum()"
   ]
  },
  {
   "cell_type": "code",
   "execution_count": null,
   "id": "63736212",
   "metadata": {},
   "outputs": [],
   "source": [
    "# % of na values of review_df\n",
    "pct_duplicates = review_df.duplicated().sum()/review_df.shape[0]*100\n",
    "print(f\"Duplicate rows make up {round(pct_duplicates,2)} % of dataset, which is fairly large\")"
   ]
  },
  {
   "cell_type": "code",
   "execution_count": null,
   "id": "50d97bce",
   "metadata": {},
   "outputs": [],
   "source": [
    "#looking at duplicates\n",
    "review_df[review_df.duplicated()].sample(5)"
   ]
  },
  {
   "cell_type": "code",
   "execution_count": null,
   "id": "ed938433",
   "metadata": {},
   "outputs": [],
   "source": [
    "pct_origin_row = review_df.duplicated().sum() /review_df.duplicated(keep=False).sum()\n",
    "print(f\"Each duplicated row appears close to twice at {round(pct_origin_row,2)} of the dataset, so there was likely a data recording issue.\")"
   ]
  },
  {
   "cell_type": "code",
   "execution_count": null,
   "id": "87c20615",
   "metadata": {},
   "outputs": [],
   "source": [
    "#removing duplicates\n",
    "review_df = review_df.drop_duplicates(inplace=True)\n",
    "review_df.shape"
   ]
  },
  {
   "cell_type": "code",
   "execution_count": null,
   "id": "816b6779",
   "metadata": {},
   "outputs": [],
   "source": [
    "#creating clean review_df and copying in review_df into it \n",
    "clean_review_df = pd.DataFrame()\n",
    "clean_review_df = review_df.copy()"
   ]
  },
  {
   "cell_type": "code",
   "execution_count": null,
   "id": "7957c346",
   "metadata": {},
   "outputs": [],
   "source": [
    "clean_review_df.isna().sum()"
   ]
  },
  {
   "cell_type": "markdown",
   "id": "6875726e",
   "metadata": {},
   "source": [
    "#### Cleaning Metadata Dataset"
   ]
  },
  {
   "cell_type": "code",
   "execution_count": null,
   "id": "5a74c300",
   "metadata": {},
   "outputs": [],
   "source": [
    "#Opening the Meta data \n",
    "metadata_df = []\n",
    "r_dtypes = {\"category\": object,\n",
    "            \"tech1\": object,\n",
    "            \"description\": object,\n",
    "            \"fit\": object,\n",
    "            \"title\": object,\n",
    "            \"also_buy\": list,\n",
    "            \"tech2\": object, \n",
    "            \"brand\": object,\n",
    "            \"feature\": object,\n",
    "            \"rank\":object,\n",
    "            \"also_view\": list, \n",
    "            \"details\": object,\n",
    "            \"Shipping Weight\": object,\n",
    "            'International Shipping': object,\n",
    "            \"ASIN\": object, \n",
    "            \"Item model number\": object,\n",
    "            \"main_cat\": object,\n",
    "            \"similar_item\": object,\n",
    "            \"date\": object,\n",
    "            \"price\": np.float32,\n",
    "            \"asin\": object, \n",
    "            \"imageURL\": list, \n",
    "            \"imageURLHighRes\": list ,\n",
    "           }\n",
    "with open(\"meta_Luxury_Beauty.json\", \"r\") as f:\n",
    "    reader = pd.read_json(f, orient=\"records\", lines=True, \n",
    "                          dtype=r_dtypes, chunksize=1000)\n",
    "        \n",
    "    for chunk in reader:\n",
    "        reduced_chunk = chunk.drop(columns=[\"tech1\"],axis=1)\n",
    "        metadata_df.append(reduced_chunk)\n",
    "    \n",
    "metadata_df = pd.concat(metadata_df, ignore_index=True)"
   ]
  },
  {
   "cell_type": "code",
   "execution_count": null,
   "id": "b9c34a77",
   "metadata": {},
   "outputs": [],
   "source": [
    "#Row and column count \n",
    "metadata_df.shape"
   ]
  },
  {
   "cell_type": "code",
   "execution_count": null,
   "id": "238c24b6",
   "metadata": {},
   "outputs": [],
   "source": [
    "metadata_df.head(10)"
   ]
  },
  {
   "cell_type": "code",
   "execution_count": null,
   "id": "ee08185e",
   "metadata": {},
   "outputs": [],
   "source": [
    "metadata_df.info()"
   ]
  },
  {
   "cell_type": "markdown",
   "id": "6c448eba",
   "metadata": {},
   "source": [
    "There are many empty columns in the dataset, and many with just empty lists or the same value repeated throughout: category, tech1, fit, tech2, brand, feature, main_cat, date. \n",
    "\n",
    "Equally since we wont be needing the image URLs we can remove these columns as well."
   ]
  },
  {
   "cell_type": "code",
   "execution_count": null,
   "id": "65a92442",
   "metadata": {},
   "outputs": [],
   "source": [
    "#removing columns \n",
    "columns= [\"category\", \"fit\", \"tech2\", \"brand\", \"feature\", \"main_cat\", \"date\", \"imageURL\",\"imageURLHighRes\"]\n",
    "\n",
    "metadata_df.drop(columns,axis=1, inplace=True)"
   ]
  },
  {
   "cell_type": "code",
   "execution_count": null,
   "id": "386384a8",
   "metadata": {},
   "outputs": [],
   "source": [
    "metadata_df.head(5)"
   ]
  },
  {
   "cell_type": "code",
   "execution_count": null,
   "id": "9496fcb4",
   "metadata": {},
   "outputs": [],
   "source": [
    "#applying NaN values in place of empty lists\n",
    "metadata_df = metadata_df.where(~metadata_df.applymap(lambda x: x == [] or x is None or x == ''))"
   ]
  },
  {
   "cell_type": "code",
   "execution_count": null,
   "id": "336fc652",
   "metadata": {},
   "outputs": [],
   "source": [
    "#null value count\n",
    "null_metadata = metadata_df.isna().sum()\n",
    "null_metadata[\"price\"]"
   ]
  },
  {
   "cell_type": "code",
   "execution_count": null,
   "id": "8e93d7c5",
   "metadata": {},
   "outputs": [],
   "source": [
    "#metadata_df.explode(\"also_buy\")"
   ]
  },
  {
   "cell_type": "code",
   "execution_count": null,
   "id": "bd8f74e1",
   "metadata": {},
   "outputs": [],
   "source": [
    "metadata_df[['ranking','remove']] = metadata_df[\"rank\"].str.split(\" \", n=1,expand = True)"
   ]
  },
  {
   "cell_type": "code",
   "execution_count": null,
   "id": "9a456fb0",
   "metadata": {},
   "outputs": [],
   "source": [
    "#convert ranking column to integer\n",
    "metadata_df['ranking'] = metadata_df[\"ranking\"].str.replace(\",\", \"\", regex=False)\n",
    "metadata_df[\"ranking\"].fillna(0, inplace = True)\n",
    "metadata_df[\"ranking\"] =metadata_df[\"ranking\"].astype(\"int32\")"
   ]
  },
  {
   "cell_type": "code",
   "execution_count": null,
   "id": "38d254eb",
   "metadata": {},
   "outputs": [],
   "source": [
    "#remove unnecessary columns\n",
    "metadata_df.drop(['remove','rank',\"similar_item\"],axis=1,inplace=True )"
   ]
  },
  {
   "cell_type": "code",
   "execution_count": null,
   "id": "31fa1fcf",
   "metadata": {},
   "outputs": [],
   "source": []
  },
  {
   "cell_type": "code",
   "execution_count": null,
   "id": "08f5fd3a",
   "metadata": {},
   "outputs": [],
   "source": [
    "#removing description from list \n",
    "metadata_df['description1'] = metadata_df['description'].str.join(', ')"
   ]
  },
  {
   "cell_type": "code",
   "execution_count": null,
   "id": "701324c0",
   "metadata": {},
   "outputs": [],
   "source": [
    "#taking a look at details column\n",
    "d = metadata_df[\"details\"].iloc[0]\n",
    "d.keys()"
   ]
  },
  {
   "cell_type": "markdown",
   "id": "e52cdc52",
   "metadata": {},
   "source": [
    "Taking a look at the values that are contained in the `details` column, we can pass on these since these don't have much relation to contributing to the individual products. If we didnt already have access to the ASIN then we would keep this value. "
   ]
  },
  {
   "cell_type": "code",
   "execution_count": null,
   "id": "42ccad66",
   "metadata": {},
   "outputs": [],
   "source": [
    "metadata_df.drop([\"details\",\"description\"],axis=1, inplace=True)"
   ]
  },
  {
   "cell_type": "markdown",
   "id": "faa1cdfd",
   "metadata": {},
   "source": [
    "`price` is an object right now, this needs to convert to numeric value. "
   ]
  },
  {
   "cell_type": "code",
   "execution_count": null,
   "id": "96a78519",
   "metadata": {},
   "outputs": [],
   "source": [
    "metadata_df[\"asin\"].unique()"
   ]
  },
  {
   "cell_type": "code",
   "execution_count": null,
   "id": "0d2bfe93",
   "metadata": {},
   "outputs": [],
   "source": [
    "#removing dollar sign from price and replacing those values with 0 \n",
    "metadata_df['price'] = metadata_df[\"price\"].str.replace(\"$\", \"\", regex=False)\n",
    "metadata_df[\"price\"].fillna(0, inplace = True)\n",
    "metadata_df"
   ]
  },
  {
   "cell_type": "code",
   "execution_count": null,
   "id": "d24f6fb2",
   "metadata": {},
   "outputs": [],
   "source": []
  },
  {
   "cell_type": "code",
   "execution_count": null,
   "id": "73676386",
   "metadata": {},
   "outputs": [],
   "source": [
    "metadata_df[\"price\"] = metadata_df[\"price\"].str.strip()"
   ]
  },
  {
   "cell_type": "code",
   "execution_count": null,
   "id": "25e0e90f",
   "metadata": {},
   "outputs": [],
   "source": [
    "#extracting string from\n",
    "\n",
    "metadata_df['price2']= metadata_df['price'].str.extract(r'(\\d*?\\.\\d{2})', expand=False)\n",
    "metadata_df['price2'] = metadata_df['price2'].astype(float)"
   ]
  },
  {
   "cell_type": "code",
   "execution_count": null,
   "id": "c43a6fc0",
   "metadata": {},
   "outputs": [],
   "source": [
    "metadata_df.info()"
   ]
  },
  {
   "cell_type": "code",
   "execution_count": null,
   "id": "15c138e1",
   "metadata": {},
   "outputs": [],
   "source": [
    "metadata_df[\"asin\"].unique()\n"
   ]
  },
  {
   "cell_type": "code",
   "execution_count": null,
   "id": "6026f350",
   "metadata": {},
   "outputs": [],
   "source": [
    "len(metadata_df_also_buy)"
   ]
  },
  {
   "cell_type": "code",
   "execution_count": null,
   "id": "e0993168",
   "metadata": {},
   "outputs": [],
   "source": [
    "#maybe do something about the missing price values?\n",
    "null_metadata[\"price\"] "
   ]
  },
  {
   "cell_type": "code",
   "execution_count": null,
   "id": "b61ca9f1",
   "metadata": {},
   "outputs": [],
   "source": [
    "#dictionary of value counts of also buy.\n",
    "my_count = metadata_df_also_buy.value_counts()\n",
    "dict_alsobuy = dict(my_count)"
   ]
  },
  {
   "cell_type": "code",
   "execution_count": null,
   "id": "0618d680",
   "metadata": {},
   "outputs": [],
   "source": [
    "#creating new column for also buy counts\n",
    "metadata_df[\"also_buy_counts\"] = metadata_df[\"asin\"].map(dict_alsobuy)"
   ]
  },
  {
   "cell_type": "code",
   "execution_count": null,
   "id": "fc2ca42e",
   "metadata": {},
   "outputs": [],
   "source": [
    "metadata_df.info()"
   ]
  },
  {
   "cell_type": "code",
   "execution_count": null,
   "id": "94bdb26f",
   "metadata": {},
   "outputs": [],
   "source": []
  },
  {
   "cell_type": "code",
   "execution_count": 282,
   "id": "e57431bb",
   "metadata": {},
   "outputs": [
    {
     "data": {
      "text/plain": [
       "(12111,)"
      ]
     },
     "execution_count": 282,
     "metadata": {},
     "output_type": "execute_result"
    }
   ],
   "source": [
    "metadata_df_unique.shape"
   ]
  },
  {
   "cell_type": "code",
   "execution_count": null,
   "id": "d29c49a7",
   "metadata": {},
   "outputs": [],
   "source": []
  },
  {
   "cell_type": "code",
   "execution_count": null,
   "id": "f8427746",
   "metadata": {},
   "outputs": [],
   "source": [
    "metadata_df"
   ]
  },
  {
   "cell_type": "code",
   "execution_count": null,
   "id": "656961e7",
   "metadata": {},
   "outputs": [],
   "source": [
    "list1 = metadata_df[\"price\"]\n",
    "for i in list1:\n",
    "\n",
    "    try:\n",
    "        Output = float(i)\n",
    "    except ValueError:\n",
    "        Output = float(i.replace(\"''\", ''))\n",
    "        print(output)\n",
    " \n"
   ]
  },
  {
   "cell_type": "code",
   "execution_count": null,
   "id": "64d4073c",
   "metadata": {},
   "outputs": [],
   "source": [
    "test1 = metadata_df[\"price\"].iloc[:1]\n",
    "print(float(test1[0]))"
   ]
  },
  {
   "cell_type": "markdown",
   "id": "4e3c863a",
   "metadata": {},
   "source": [
    "#To-do </br>\n",
    "rank - only keep number done </br> \n",
    "description, - take out of list done </br>\n",
    "details - exploring done </br>\n",
    "price - removing the $ and , and converting to float "
   ]
  },
  {
   "cell_type": "code",
   "execution_count": 37,
   "id": "4b885cef",
   "metadata": {},
   "outputs": [
    {
     "name": "stdout",
     "output_type": "stream",
     "text": [
      "<class 'pandas.core.frame.DataFrame'>\n",
      "RangeIndex: 12299 entries, 0 to 12298\n",
      "Data columns (total 7 columns):\n",
      " #   Column        Non-Null Count  Dtype \n",
      "---  ------        --------------  ----- \n",
      " 0   title         12299 non-null  object\n",
      " 1   also_buy      7724 non-null   object\n",
      " 2   also_view     9046 non-null   object\n",
      " 3   price         12299 non-null  object\n",
      " 4   asin          12299 non-null  object\n",
      " 5   ranking       12201 non-null  object\n",
      " 6   description1  12149 non-null  object\n",
      "dtypes: object(7)\n",
      "memory usage: 672.7+ KB\n"
     ]
    }
   ],
   "source": []
  },
  {
   "cell_type": "markdown",
   "id": "6ee89507",
   "metadata": {},
   "source": [
    "lambda - \n"
   ]
  },
  {
   "cell_type": "markdown",
   "id": "f5aa2558",
   "metadata": {},
   "source": [
    "group by product, order by time, and then see what would look like (poss window function)"
   ]
  },
  {
   "cell_type": "markdown",
   "id": "d5a2146c",
   "metadata": {},
   "source": [
    "### Analysis "
   ]
  },
  {
   "cell_type": "code",
   "execution_count": null,
   "id": "b07559d9",
   "metadata": {},
   "outputs": [],
   "source": [
    "#splitting out Day month year from reviewtime\n",
    "clean_review_df['reviewTime'] = review_df['reviewTime'].str.replace(\",\",\"\")\n",
    "clean_review_df[['Day','Month',\"Year\"]] = clean_review_df[\"reviewTime\"].str.split(\" \", expand = True)\n",
    "clean_review_df"
   ]
  },
  {
   "cell_type": "code",
   "execution_count": null,
   "id": "aeb5abd1",
   "metadata": {},
   "outputs": [],
   "source": [
    "#separating columns of clean_review_df\n",
    "clean_review_df[['Day','Month',\"Year\"]] = clean_review_df[\"reviewTime\"].str.split(\" \", expand = True)\n",
    "clean_review_df"
   ]
  },
  {
   "cell_type": "code",
   "execution_count": null,
   "id": "a12f9421",
   "metadata": {},
   "outputs": [],
   "source": [
    "#Looking at number of reviews over the years \n",
    "plt.figure(figsize=(10,8))\n",
    "clean_review_df['Year'].value_counts().sort_index().plot()\n",
    "plt.show()"
   ]
  },
  {
   "cell_type": "code",
   "execution_count": null,
   "id": "38b9b117",
   "metadata": {},
   "outputs": [],
   "source": [
    "clean_review_df.groupby(\"Year\")[\"Year\"].value_counts()"
   ]
  },
  {
   "cell_type": "code",
   "execution_count": null,
   "id": "dec4c15d",
   "metadata": {},
   "outputs": [],
   "source": [
    "#unique product values \n",
    "unique_asin = clean_review_df[\"asin\"].nunique()\n",
    "print(unique_asin)"
   ]
  },
  {
   "cell_type": "markdown",
   "id": "f877c2c1",
   "metadata": {},
   "source": [
    "There are 12,120 unique asins in the data set. "
   ]
  },
  {
   "cell_type": "markdown",
   "id": "e2ed691e",
   "metadata": {},
   "source": [
    "value_counts, look at percentile, 90% of the products have x number of reviews "
   ]
  },
  {
   "cell_type": "code",
   "execution_count": null,
   "id": "0ccc7422",
   "metadata": {},
   "outputs": [],
   "source": [
    "clean_review_df.info()"
   ]
  },
  {
   "cell_type": "code",
   "execution_count": null,
   "id": "56110fc6",
   "metadata": {},
   "outputs": [],
   "source": [
    "clean_review_df[\"asin\"].value_counts()"
   ]
  },
  {
   "cell_type": "code",
   "execution_count": null,
   "id": "cb0b5635",
   "metadata": {},
   "outputs": [],
   "source": [
    "#histogram of reviews \n",
    "binwidth = 50\n",
    "\n",
    "plt.figure(figsize=(10,8))\n",
    "asin_data = clean_review_df[\"asin\"].value_counts()\n",
    "plt.hist(asin_data , bins=np.arange(0,3500, binwidth))\n",
    "\n",
    "plt.xlabel(f'Review count. Bin Width: {binwidth}')\n",
    "plt.ylabel('Frequency')\n",
    "plt.title('Distribution of Review counts in dataset')\n",
    "plt.show()"
   ]
  },
  {
   "cell_type": "markdown",
   "id": "707b6bb1",
   "metadata": {},
   "source": [
    "- consider removing products with value counts less than a certain amount. "
   ]
  },
  {
   "cell_type": "code",
   "execution_count": null,
   "id": "cb8f9edf",
   "metadata": {},
   "outputs": [],
   "source": [
    "clean_review_df.info()"
   ]
  },
  {
   "cell_type": "code",
   "execution_count": null,
   "id": "6c560b4f",
   "metadata": {},
   "outputs": [],
   "source": []
  },
  {
   "cell_type": "code",
   "execution_count": null,
   "id": "e978acc0",
   "metadata": {},
   "outputs": [],
   "source": [
    "plot = clean_review_df.groupby(\"overall\").count().reset_index()\n",
    "plot = plot.rename(columns= {\"overall\":\"Review Rating\",\"verified\":\"Counts of Reviews\"})\n",
    "\n",
    "#plot structure\n",
    "fig = px.bar(plot, \n",
    "             x = \"Review Rating\",\n",
    "             y = \"Counts of Reviews\",\n",
    "             title = \"Amazon users are generous when they review, 65% of the dataset gave out a 5 star review\",\n",
    "             color = \"Review Rating\",\n",
    "             color_continuous_scale=\"darkmint\"\n",
    "             \n",
    "             )\n",
    "\n",
    "fig.update_layout(coloraxis_showscale=False)\n",
    "\n",
    "#plot \n",
    "fig.show()"
   ]
  },
  {
   "cell_type": "code",
   "execution_count": 1,
   "id": "e5a00682",
   "metadata": {},
   "outputs": [
    {
     "ename": "NameError",
     "evalue": "name 'clean_review_df' is not defined",
     "output_type": "error",
     "traceback": [
      "\u001b[0;31m---------------------------------------------------------------------------\u001b[0m",
      "\u001b[0;31mNameError\u001b[0m                                 Traceback (most recent call last)",
      "Cell \u001b[0;32mIn[1], line 1\u001b[0m\n\u001b[0;32m----> 1\u001b[0m \u001b[38;5;241m357973\u001b[39m\u001b[38;5;241m/\u001b[39mclean_review_df\u001b[38;5;241m.\u001b[39mshape[\u001b[38;5;241m0\u001b[39m]\n",
      "\u001b[0;31mNameError\u001b[0m: name 'clean_review_df' is not defined"
     ]
    }
   ],
   "source": [
    "357973/clean_review_df.shape[0]"
   ]
  },
  {
   "cell_type": "code",
   "execution_count": 290,
   "id": "7a9fe2e4",
   "metadata": {},
   "outputs": [
    {
     "data": {
      "text/plain": [
       "(539120, 11)"
      ]
     },
     "execution_count": 290,
     "metadata": {},
     "output_type": "execute_result"
    }
   ],
   "source": [
    "clean_review_df.shape"
   ]
  },
  {
   "cell_type": "code",
   "execution_count": null,
   "id": "ea3d39ed",
   "metadata": {},
   "outputs": [],
   "source": [
    "#calculating % of duplicates\n",
    "clean_review_df.duplicated().sum() / clean_review_df.shape[0] *100"
   ]
  },
  {
   "cell_type": "code",
   "execution_count": null,
   "id": "9b30f231",
   "metadata": {},
   "outputs": [],
   "source": []
  },
  {
   "cell_type": "code",
   "execution_count": 23,
   "id": "8db85bfc",
   "metadata": {},
   "outputs": [],
   "source": []
  },
  {
   "cell_type": "code",
   "execution_count": 24,
   "id": "9436c502",
   "metadata": {},
   "outputs": [
    {
     "name": "stdout",
     "output_type": "stream",
     "text": [
      "{'category': [], 'tech1': '', 'description': ['After a long day of handling thorny situations, our new hand therapy pump is just the help you need. It contains shea butter as well as extracts of yarrow, clover and calendula to help soothe and condition work-roughened hands.', 'By Crabtree & Evelyn', 'The aromatic benefits of herbs are varied and far-reaching, so we combined a whole bunch of them into one restoratively fragrant line-up straight from the garden.', 'We&#039;ve formulated our Gardeners Hand Therapy with Myrrh Extract to help condition nails and cuticles as well as skin super hydrators macadamia seed oil and shea butter to help replenish lost moisture. Rich in herbal extracts like cooling cucumber and rosemary leaf  a favourite for antioxidants  to help protect hands against daily urban and environmental stresses while the hydrating power of Vitamin E, Hyaluronic Acid and Ceramides contribute to improve the skins natural moisture barrier with this garden-inspired treatment. Skin is left silky-soft and delicately scented.', 'How to use:', 'Dab a pea-sized amount to palms and work over skin and nails. Combine with Gardeners Hand Wash and Hand Scrub to get silky skin in three herb-infused steps.', 'Originally created to appeal to a horticulturists wealth of knowledge about the healing power of herbs, this botanical range is formulated with cleansing cucumber extract, purifying rosemary extract, oak moss and refreshing sage extract.', 'We search the world for natural ingredients and fragrance journeys that enable our customers to live a life cultivated. Inspired by the Crabapple Tree, the original species from which all cultivated apple trees have derived, and John Evelyn, the 17th century renaissance Englishman whose motto Explore Everything. Keep The Best has provided inspiration from our founding to this day.'], 'fit': '', 'title': \"Crabtree &amp; Evelyn - Gardener's Ultra-Moisturising Hand Therapy Pump - 250g/8.8 OZ\", 'also_buy': ['B00GHX7H0A', 'B00FRERO7G', 'B00R68QXCS', 'B000Z65AZE', 'B07GFHJRMX', 'B074KGBGL7', 'B00R68QXJG', 'B00025WYZC', 'B07H3W9BM5', 'B00KOBT82G', 'B072N2M1P6', 'B071G8FG2N', 'B00FASVFI8', 'B00GHXE4N8', 'B00EPG2QJI', 'B01MQ4MEFE', 'B01M8ML0SY', 'B074KHCPLH', 'B004XQWY4W', 'B00FASV6UU', 'B01M31HJBJ', 'B00KC8TU7O', 'B00B9TU5T2', 'B00K75EZ04', 'B000Q2Y0FI', 'B00FEGOCCM', 'B00EPFXFBW', 'B00H6SQY3Q', 'B00HZAOWUC', 'B07GFJF1DN', 'B001WBS68E', 'B074KJZCPH'], 'tech2': '', 'brand': '', 'feature': [], 'rank': '4,324 in Beauty & Personal Care (', 'also_view': ['B00FRERO7G', 'B00GHX7H0A', 'B07GFHJRMX', 'B00TJ3NBN2', 'B00KOBT82G', 'B00R68QXCS', 'B074KGBGL7', 'B075MH4Q9L', 'B07H3W9BM5', 'B07GFJF1DN', 'B00KC8TPVA', 'B07DB7KXFV', 'B07DCCRGZT', 'B00GHX58LK', 'B077GXQ2TH', 'B00GHX52MK', 'B01MQ4MEFE', 'B00GHXE4N8', 'B07FYFXBK8', 'B00FEGOCCM', 'B00FASVFI8', 'B074KFH9JN', 'B071G8FG2N', 'B074KGN1BT', 'B00GHX5HZC', 'B00B9TU5T2', 'B074KM26WX', 'B074KGQ65V', 'B01M8ML0SY', 'B076YKGPY5', 'B00EPG2QJI', 'B074KHCPLH', 'B075YMZVGF', 'B00K1C8V1W', 'B074KDPT26', 'B07CCNVW87', 'B074KGQ5LF', 'B00GHX8I6M', 'B07JMLGRKY', 'B07C92VLKM', 'B00KC8TU7O', 'B00025WYZC', 'B074KJZCPH', 'B074KHCPMV', 'B00GHXHPEI', 'B07K2WRDBS', 'B00FASV6UU', 'B001WBS68E', 'B074KMD9QM', 'B076YN8DDY', 'B074KHDYRX', 'B00GHXIBGE'], 'details': {'\\n    Product Dimensions: \\n    ': '2.2 x 2.2 x 7 inches ; 8.8 ounces', 'Shipping Weight:': '14.4 ounces (', 'Domestic Shipping: ': 'Item can be shipped within U.S.', 'International Shipping: ': 'This item can be shipped to select countries outside of the U.S.', 'ASIN:': 'B00004U9V2', 'Item model number:': '4113'}, 'main_cat': 'Luxury Beauty', 'similar_item': '', 'date': '', 'price': '$30.00', 'asin': 'B00004U9V2', 'imageURL': ['https://images-na.ssl-images-amazon.com/images/I/41ClX6BRvZL._SX50_SY65_CR,0,0,50,65_.jpg', 'https://images-na.ssl-images-amazon.com/images/I/510giIO5cFL._SX50_SY65_CR,0,0,50,65_.jpg', 'https://images-na.ssl-images-amazon.com/images/I/414gBlQ6F9L._SX50_SY65_CR,0,0,50,65_.jpg', 'https://images-na.ssl-images-amazon.com/images/I/51jNGOh1f9L._SX50_SY65_CR,0,0,50,65_.jpg', 'https://images-na.ssl-images-amazon.com/images/I/31f8YZgUBhL._SX50_SY65_CR,0,0,50,65_.jpg'], 'imageURLHighRes': ['https://images-na.ssl-images-amazon.com/images/I/41ClX6BRvZL.jpg', 'https://images-na.ssl-images-amazon.com/images/I/510giIO5cFL.jpg', 'https://images-na.ssl-images-amazon.com/images/I/414gBlQ6F9L.jpg', 'https://images-na.ssl-images-amazon.com/images/I/51jNGOh1f9L.jpg', 'https://images-na.ssl-images-amazon.com/images/I/31f8YZgUBhL.jpg']}\n"
     ]
    }
   ],
   "source": []
  },
  {
   "cell_type": "code",
   "execution_count": 28,
   "id": "07c5c624",
   "metadata": {},
   "outputs": [],
   "source": []
  },
  {
   "cell_type": "code",
   "execution_count": 31,
   "id": "490f81ff",
   "metadata": {},
   "outputs": [
    {
     "name": "stdout",
     "output_type": "stream",
     "text": [
      "0\n",
      "12299\n"
     ]
    }
   ],
   "source": []
  },
  {
   "cell_type": "code",
   "execution_count": 34,
   "id": "4c771929",
   "metadata": {},
   "outputs": [
    {
     "data": {
      "text/plain": [
       "(12299, 19)"
      ]
     },
     "execution_count": 34,
     "metadata": {},
     "output_type": "execute_result"
    }
   ],
   "source": []
  },
  {
   "cell_type": "code",
   "execution_count": null,
   "id": "68359526",
   "metadata": {},
   "outputs": [],
   "source": []
  },
  {
   "cell_type": "code",
   "execution_count": null,
   "id": "1e8f844d",
   "metadata": {},
   "outputs": [],
   "source": []
  }
 ],
 "metadata": {
  "kernelspec": {
   "display_name": "capstone",
   "language": "python",
   "name": "python3"
  },
  "language_info": {
   "codemirror_mode": {
    "name": "ipython",
    "version": 3
   },
   "file_extension": ".py",
   "mimetype": "text/x-python",
   "name": "python",
   "nbconvert_exporter": "python",
   "pygments_lexer": "ipython3",
   "version": "3.11.0"
  },
  "vscode": {
   "interpreter": {
    "hash": "b06bea1f055e9e6a60b83a241ca3234f09eb239600d1f1bcf010f291275670df"
   }
  }
 },
 "nbformat": 4,
 "nbformat_minor": 5
}
