{
 "cells": [
  {
   "cell_type": "markdown",
   "id": "60db2989",
   "metadata": {
    "id": "60db2989"
   },
   "source": [
    "Natural Language Processing with Hotel Reviews Part 2\n",
    " =====\n",
    "### Author: Stephanie Lo \n",
    "#### Date: 3.17.2023"
   ]
  },
  {
   "cell_type": "markdown",
   "id": "fe321703",
   "metadata": {
    "id": "fe321703"
   },
   "source": [
    "# Table of Contents \n",
    "\n"
   ]
  },
  {
   "cell_type": "code",
   "execution_count": 3,
   "id": "47bba446",
   "metadata": {
    "executionInfo": {
     "elapsed": 1124,
     "status": "ok",
     "timestamp": 1679167774025,
     "user": {
      "displayName": "Stephanie lo",
      "userId": "06848852662146951897"
     },
     "user_tz": 240
    },
    "id": "47bba446"
   },
   "outputs": [],
   "source": [
    "#importing base packages\n",
    "\n",
    "import numpy as np\n",
    "import pandas as pd\n",
    "import matplotlib.pyplot as plt\n",
    "%matplotlib inline\n",
    "import seaborn as sns\n",
    "from scipy import stats\n",
    "import os \n",
    "import time "
   ]
  },
  {
   "cell_type": "code",
   "execution_count": 4,
   "id": "1b3fe4ab",
   "metadata": {
    "executionInfo": {
     "elapsed": 3,
     "status": "ok",
     "timestamp": 1679167774026,
     "user": {
      "displayName": "Stephanie lo",
      "userId": "06848852662146951897"
     },
     "user_tz": 240
    },
    "id": "1b3fe4ab"
   },
   "outputs": [],
   "source": [
    "#Setting figure size & background \n",
    "plt.rcParams['figure.figsize'] = (8.0, 6.0)\n",
    "sns.set_theme(style=\"darkgrid\")"
   ]
  },
  {
   "cell_type": "markdown",
   "id": "0a8b6e1f",
   "metadata": {
    "id": "0a8b6e1f"
   },
   "source": [
    "## 1.Introduction <a id=\"Intro\"></a>"
   ]
  },
  {
   "cell_type": "code",
   "execution_count": 5,
   "id": "8e56d9af",
   "metadata": {
    "colab": {
     "base_uri": "https://localhost:8080/",
     "height": 222
    },
    "executionInfo": {
     "elapsed": 8,
     "status": "error",
     "timestamp": 1679166559884,
     "user": {
      "displayName": "Stephanie lo",
      "userId": "06848852662146951897"
     },
     "user_tz": 240
    },
    "id": "8e56d9af",
    "outputId": "ad86d592-01aa-4671-8534-3fea29b80419"
   },
   "outputs": [],
   "source": [
    "#directing to the right file path\n",
    "os.chdir(\"/Users/mac/Desktop/Data/CAPSTONE/clean/\")\n",
    "cwd = os.getcwd() "
   ]
  },
  {
   "cell_type": "code",
   "execution_count": 6,
   "id": "3429c40c",
   "metadata": {
    "colab": {
     "base_uri": "https://localhost:8080/",
     "height": 205
    },
    "executionInfo": {
     "elapsed": 5077,
     "status": "ok",
     "timestamp": 1679168039710,
     "user": {
      "displayName": "Stephanie lo",
      "userId": "06848852662146951897"
     },
     "user_tz": 240
    },
    "id": "3429c40c",
    "outputId": "6bc1d237-8875-4798-89fa-bc008a61918f"
   },
   "outputs": [
    {
     "data": {
      "text/html": [
       "<div>\n",
       "<style scoped>\n",
       "    .dataframe tbody tr th:only-of-type {\n",
       "        vertical-align: middle;\n",
       "    }\n",
       "\n",
       "    .dataframe tbody tr th {\n",
       "        vertical-align: top;\n",
       "    }\n",
       "\n",
       "    .dataframe thead th {\n",
       "        text-align: right;\n",
       "    }\n",
       "</style>\n",
       "<table border=\"1\" class=\"dataframe\">\n",
       "  <thead>\n",
       "    <tr style=\"text-align: right;\">\n",
       "      <th></th>\n",
       "      <th>Unnamed: 0</th>\n",
       "      <th>overall</th>\n",
       "      <th>vote</th>\n",
       "      <th>verified</th>\n",
       "      <th>reviewerID</th>\n",
       "      <th>asin</th>\n",
       "      <th>reviewText</th>\n",
       "      <th>summary</th>\n",
       "      <th>day</th>\n",
       "      <th>month</th>\n",
       "      <th>year</th>\n",
       "      <th>reviewdate</th>\n",
       "      <th>trending_asin</th>\n",
       "      <th>title</th>\n",
       "      <th>ranking</th>\n",
       "      <th>product_description</th>\n",
       "      <th>also_buy_counts</th>\n",
       "      <th>also_view_counts</th>\n",
       "      <th>category</th>\n",
       "    </tr>\n",
       "  </thead>\n",
       "  <tbody>\n",
       "    <tr>\n",
       "      <th>0</th>\n",
       "      <td>0</td>\n",
       "      <td>5.0</td>\n",
       "      <td>0.0</td>\n",
       "      <td>1</td>\n",
       "      <td>A2BR01CI7K7GAN</td>\n",
       "      <td>B00004U9V2</td>\n",
       "      <td>Bought for my daughter.</td>\n",
       "      <td>Has Good Reviews!</td>\n",
       "      <td>12</td>\n",
       "      <td>30</td>\n",
       "      <td>2017</td>\n",
       "      <td>2017-12-30</td>\n",
       "      <td>0</td>\n",
       "      <td>Crabtree &amp;amp; Evelyn - Gardener's Ultra-Moist...</td>\n",
       "      <td>4324.0</td>\n",
       "      <td>After a long day of handling thorny situations...</td>\n",
       "      <td>56.0</td>\n",
       "      <td>48.0</td>\n",
       "      <td>skincare</td>\n",
       "    </tr>\n",
       "    <tr>\n",
       "      <th>1</th>\n",
       "      <td>1</td>\n",
       "      <td>5.0</td>\n",
       "      <td>0.0</td>\n",
       "      <td>1</td>\n",
       "      <td>A1N6K3WYGUMHGO</td>\n",
       "      <td>B00004U9V2</td>\n",
       "      <td>Great cream for the skin.</td>\n",
       "      <td>Five Stars</td>\n",
       "      <td>12</td>\n",
       "      <td>29</td>\n",
       "      <td>2017</td>\n",
       "      <td>2017-12-29</td>\n",
       "      <td>0</td>\n",
       "      <td>Crabtree &amp;amp; Evelyn - Gardener's Ultra-Moist...</td>\n",
       "      <td>4324.0</td>\n",
       "      <td>After a long day of handling thorny situations...</td>\n",
       "      <td>56.0</td>\n",
       "      <td>48.0</td>\n",
       "      <td>skincare</td>\n",
       "    </tr>\n",
       "  </tbody>\n",
       "</table>\n",
       "</div>"
      ],
      "text/plain": [
       "   Unnamed: 0  overall  vote  verified      reviewerID        asin  \\\n",
       "0           0      5.0   0.0         1  A2BR01CI7K7GAN  B00004U9V2   \n",
       "1           1      5.0   0.0         1  A1N6K3WYGUMHGO  B00004U9V2   \n",
       "\n",
       "                  reviewText            summary  day  month  year  reviewdate  \\\n",
       "0    Bought for my daughter.  Has Good Reviews!   12     30  2017  2017-12-30   \n",
       "1  Great cream for the skin.         Five Stars   12     29  2017  2017-12-29   \n",
       "\n",
       "   trending_asin                                              title  ranking  \\\n",
       "0              0  Crabtree &amp; Evelyn - Gardener's Ultra-Moist...   4324.0   \n",
       "1              0  Crabtree &amp; Evelyn - Gardener's Ultra-Moist...   4324.0   \n",
       "\n",
       "                                 product_description  also_buy_counts  \\\n",
       "0  After a long day of handling thorny situations...             56.0   \n",
       "1  After a long day of handling thorny situations...             56.0   \n",
       "\n",
       "   also_view_counts  category  \n",
       "0              48.0  skincare  \n",
       "1              48.0  skincare  "
      ]
     },
     "execution_count": 6,
     "metadata": {},
     "output_type": "execute_result"
    }
   ],
   "source": [
    "#reading in the datasets\n",
    "combined_df = pd.read_csv(\"clean_data.csv\")\n",
    "\n",
    "\n",
    "combined_df.head(2)"
   ]
  },
  {
   "cell_type": "markdown",
   "id": "d7b89950",
   "metadata": {
    "id": "d7b89950"
   },
   "source": [
    "#### Null and Duplicate Check"
   ]
  },
  {
   "cell_type": "code",
   "execution_count": 7,
   "id": "9e7315ae",
   "metadata": {
    "colab": {
     "base_uri": "https://localhost:8080/"
    },
    "executionInfo": {
     "elapsed": 564,
     "status": "ok",
     "timestamp": 1679168045291,
     "user": {
      "displayName": "Stephanie lo",
      "userId": "06848852662146951897"
     },
     "user_tz": 240
    },
    "id": "9e7315ae",
    "outputId": "b9e88942-dc90-42e3-ce82-ddf8cbd858cb"
   },
   "outputs": [
    {
     "ename": "NameError",
     "evalue": "name 'review_df' is not defined",
     "output_type": "error",
     "traceback": [
      "\u001b[0;31m---------------------------------------------------------------------------\u001b[0m",
      "\u001b[0;31mNameError\u001b[0m                                 Traceback (most recent call last)",
      "\u001b[0;32m/var/folders/k5/r4y7z25n2rz_yw3s46bn0m580000gn/T/ipykernel_1574/953026883.py\u001b[0m in \u001b[0;36m<module>\u001b[0;34m\u001b[0m\n\u001b[0;32m----> 1\u001b[0;31m \u001b[0mprint\u001b[0m\u001b[0;34m(\u001b[0m\u001b[0;34mf\"The final data shape has {review_df.shape[0]} columns and {review_df.shape[1]} rows\"\u001b[0m\u001b[0;34m)\u001b[0m\u001b[0;34m\u001b[0m\u001b[0;34m\u001b[0m\u001b[0m\n\u001b[0m",
      "\u001b[0;31mNameError\u001b[0m: name 'review_df' is not defined"
     ]
    }
   ],
   "source": [
    "print(f\"The final data shape has {review_df.shape[0]} columns and {review_df.shape[1]} rows\") "
   ]
  },
  {
   "cell_type": "code",
   "execution_count": null,
   "id": "506ae4ca",
   "metadata": {
    "colab": {
     "base_uri": "https://localhost:8080/"
    },
    "executionInfo": {
     "elapsed": 33,
     "status": "ok",
     "timestamp": 1679168047495,
     "user": {
      "displayName": "Stephanie lo",
      "userId": "06848852662146951897"
     },
     "user_tz": 240
    },
    "id": "506ae4ca",
    "outputId": "fa7a234b-e708-4bdb-f300-3f839ba8bd10"
   },
   "outputs": [],
   "source": [
    "#only taking numerical values \n",
    "review_df.info()"
   ]
  },
  {
   "cell_type": "markdown",
   "id": "0c75fbd0",
   "metadata": {
    "id": "0c75fbd0"
   },
   "source": [
    "Let's just quickly check for any null values and duplicates quickly: "
   ]
  },
  {
   "cell_type": "code",
   "execution_count": 8,
   "id": "522169ae",
   "metadata": {
    "colab": {
     "base_uri": "https://localhost:8080/"
    },
    "executionInfo": {
     "elapsed": 7,
     "status": "ok",
     "timestamp": 1679168048362,
     "user": {
      "displayName": "Stephanie lo",
      "userId": "06848852662146951897"
     },
     "user_tz": 240
    },
    "id": "522169ae",
    "outputId": "b6964496-48ae-4280-eca6-00076e351c2f"
   },
   "outputs": [
    {
     "name": "stdout",
     "output_type": "stream",
     "text": [
      "Training set null values = Unnamed: 0             0\n",
      "overall                0\n",
      "vote                   0\n",
      "verified               0\n",
      "reviewerID             0\n",
      "asin                   0\n",
      "reviewText             0\n",
      "summary                1\n",
      "day                    0\n",
      "month                  0\n",
      "year                   0\n",
      "reviewdate             0\n",
      "trending_asin          0\n",
      "title                  0\n",
      "ranking                0\n",
      "product_description    0\n",
      "also_buy_counts        0\n",
      "also_view_counts       0\n",
      "category               0\n",
      "dtype: int64\n"
     ]
    }
   ],
   "source": [
    "#null values check \n",
    "print(f\"Training set null values = {combined_df.isna().sum()}\")"
   ]
  },
  {
   "cell_type": "code",
   "execution_count": 9,
   "id": "21016bd1",
   "metadata": {},
   "outputs": [
    {
     "data": {
      "text/html": [
       "<div>\n",
       "<style scoped>\n",
       "    .dataframe tbody tr th:only-of-type {\n",
       "        vertical-align: middle;\n",
       "    }\n",
       "\n",
       "    .dataframe tbody tr th {\n",
       "        vertical-align: top;\n",
       "    }\n",
       "\n",
       "    .dataframe thead th {\n",
       "        text-align: right;\n",
       "    }\n",
       "</style>\n",
       "<table border=\"1\" class=\"dataframe\">\n",
       "  <thead>\n",
       "    <tr style=\"text-align: right;\">\n",
       "      <th></th>\n",
       "      <th>Unnamed: 0</th>\n",
       "      <th>overall</th>\n",
       "      <th>vote</th>\n",
       "      <th>verified</th>\n",
       "      <th>reviewerID</th>\n",
       "      <th>asin</th>\n",
       "      <th>reviewText</th>\n",
       "      <th>summary</th>\n",
       "      <th>day</th>\n",
       "      <th>month</th>\n",
       "      <th>year</th>\n",
       "      <th>reviewdate</th>\n",
       "      <th>trending_asin</th>\n",
       "      <th>title</th>\n",
       "      <th>ranking</th>\n",
       "      <th>product_description</th>\n",
       "      <th>also_buy_counts</th>\n",
       "      <th>also_view_counts</th>\n",
       "      <th>category</th>\n",
       "    </tr>\n",
       "  </thead>\n",
       "  <tbody>\n",
       "    <tr>\n",
       "      <th>0</th>\n",
       "      <td>0</td>\n",
       "      <td>5.0</td>\n",
       "      <td>0.0</td>\n",
       "      <td>1</td>\n",
       "      <td>A2BR01CI7K7GAN</td>\n",
       "      <td>B00004U9V2</td>\n",
       "      <td>Bought for my daughter.</td>\n",
       "      <td>Has Good Reviews!</td>\n",
       "      <td>12</td>\n",
       "      <td>30</td>\n",
       "      <td>2017</td>\n",
       "      <td>2017-12-30</td>\n",
       "      <td>0</td>\n",
       "      <td>Crabtree &amp;amp; Evelyn - Gardener's Ultra-Moist...</td>\n",
       "      <td>4324.0</td>\n",
       "      <td>After a long day of handling thorny situations...</td>\n",
       "      <td>56.0</td>\n",
       "      <td>48.0</td>\n",
       "      <td>skincare</td>\n",
       "    </tr>\n",
       "    <tr>\n",
       "      <th>1</th>\n",
       "      <td>1</td>\n",
       "      <td>5.0</td>\n",
       "      <td>0.0</td>\n",
       "      <td>1</td>\n",
       "      <td>A1N6K3WYGUMHGO</td>\n",
       "      <td>B00004U9V2</td>\n",
       "      <td>Great cream for the skin.</td>\n",
       "      <td>Five Stars</td>\n",
       "      <td>12</td>\n",
       "      <td>29</td>\n",
       "      <td>2017</td>\n",
       "      <td>2017-12-29</td>\n",
       "      <td>0</td>\n",
       "      <td>Crabtree &amp;amp; Evelyn - Gardener's Ultra-Moist...</td>\n",
       "      <td>4324.0</td>\n",
       "      <td>After a long day of handling thorny situations...</td>\n",
       "      <td>56.0</td>\n",
       "      <td>48.0</td>\n",
       "      <td>skincare</td>\n",
       "    </tr>\n",
       "    <tr>\n",
       "      <th>2</th>\n",
       "      <td>2</td>\n",
       "      <td>1.0</td>\n",
       "      <td>0.0</td>\n",
       "      <td>0</td>\n",
       "      <td>A3KPTMMK9D967W</td>\n",
       "      <td>B00004U9V2</td>\n",
       "      <td>Maybe Im just not familiar with this brand, bu...</td>\n",
       "      <td>Bad fragrance</td>\n",
       "      <td>12</td>\n",
       "      <td>28</td>\n",
       "      <td>2017</td>\n",
       "      <td>2017-12-28</td>\n",
       "      <td>0</td>\n",
       "      <td>Crabtree &amp;amp; Evelyn - Gardener's Ultra-Moist...</td>\n",
       "      <td>4324.0</td>\n",
       "      <td>After a long day of handling thorny situations...</td>\n",
       "      <td>56.0</td>\n",
       "      <td>48.0</td>\n",
       "      <td>skincare</td>\n",
       "    </tr>\n",
       "    <tr>\n",
       "      <th>3</th>\n",
       "      <td>3</td>\n",
       "      <td>5.0</td>\n",
       "      <td>0.0</td>\n",
       "      <td>1</td>\n",
       "      <td>A3CEUD9051WKC0</td>\n",
       "      <td>B00004U9V2</td>\n",
       "      <td>This is one of my favorite creams. Highly reco...</td>\n",
       "      <td>Great product.</td>\n",
       "      <td>12</td>\n",
       "      <td>28</td>\n",
       "      <td>2017</td>\n",
       "      <td>2017-12-28</td>\n",
       "      <td>0</td>\n",
       "      <td>Crabtree &amp;amp; Evelyn - Gardener's Ultra-Moist...</td>\n",
       "      <td>4324.0</td>\n",
       "      <td>After a long day of handling thorny situations...</td>\n",
       "      <td>56.0</td>\n",
       "      <td>48.0</td>\n",
       "      <td>skincare</td>\n",
       "    </tr>\n",
       "    <tr>\n",
       "      <th>4</th>\n",
       "      <td>4</td>\n",
       "      <td>5.0</td>\n",
       "      <td>0.0</td>\n",
       "      <td>1</td>\n",
       "      <td>A69VISV3LE7DA</td>\n",
       "      <td>B00004U9V2</td>\n",
       "      <td>I simply love this lotion!  Originally, I rece...</td>\n",
       "      <td>Five Stars</td>\n",
       "      <td>12</td>\n",
       "      <td>19</td>\n",
       "      <td>2017</td>\n",
       "      <td>2017-12-19</td>\n",
       "      <td>0</td>\n",
       "      <td>Crabtree &amp;amp; Evelyn - Gardener's Ultra-Moist...</td>\n",
       "      <td>4324.0</td>\n",
       "      <td>After a long day of handling thorny situations...</td>\n",
       "      <td>56.0</td>\n",
       "      <td>48.0</td>\n",
       "      <td>skincare</td>\n",
       "    </tr>\n",
       "    <tr>\n",
       "      <th>...</th>\n",
       "      <td>...</td>\n",
       "      <td>...</td>\n",
       "      <td>...</td>\n",
       "      <td>...</td>\n",
       "      <td>...</td>\n",
       "      <td>...</td>\n",
       "      <td>...</td>\n",
       "      <td>...</td>\n",
       "      <td>...</td>\n",
       "      <td>...</td>\n",
       "      <td>...</td>\n",
       "      <td>...</td>\n",
       "      <td>...</td>\n",
       "      <td>...</td>\n",
       "      <td>...</td>\n",
       "      <td>...</td>\n",
       "      <td>...</td>\n",
       "      <td>...</td>\n",
       "      <td>...</td>\n",
       "    </tr>\n",
       "    <tr>\n",
       "      <th>139600</th>\n",
       "      <td>140009</td>\n",
       "      <td>2.0</td>\n",
       "      <td>0.0</td>\n",
       "      <td>1</td>\n",
       "      <td>A2SK9NN2RW4YZG</td>\n",
       "      <td>B01D0KHXGK</td>\n",
       "      <td>Meh!  Flat iron works better</td>\n",
       "      <td>Disappointing results!</td>\n",
       "      <td>4</td>\n",
       "      <td>6</td>\n",
       "      <td>2017</td>\n",
       "      <td>2017-06-04</td>\n",
       "      <td>0</td>\n",
       "      <td>TS2 Super Smoother Electric Hair Straightening...</td>\n",
       "      <td>171884.0</td>\n",
       "      <td>Thermally activated smoothing treatment combin...</td>\n",
       "      <td>0.0</td>\n",
       "      <td>0.0</td>\n",
       "      <td>haircare</td>\n",
       "    </tr>\n",
       "    <tr>\n",
       "      <th>139601</th>\n",
       "      <td>140010</td>\n",
       "      <td>1.0</td>\n",
       "      <td>0.0</td>\n",
       "      <td>1</td>\n",
       "      <td>AUKSUQXQ8677W</td>\n",
       "      <td>B01D0KHXGK</td>\n",
       "      <td>It doesn't grip the hair - I'm very disappointed.</td>\n",
       "      <td>One Star</td>\n",
       "      <td>3</td>\n",
       "      <td>12</td>\n",
       "      <td>2017</td>\n",
       "      <td>2017-12-03</td>\n",
       "      <td>0</td>\n",
       "      <td>TS2 Super Smoother Electric Hair Straightening...</td>\n",
       "      <td>171884.0</td>\n",
       "      <td>Thermally activated smoothing treatment combin...</td>\n",
       "      <td>0.0</td>\n",
       "      <td>0.0</td>\n",
       "      <td>haircare</td>\n",
       "    </tr>\n",
       "    <tr>\n",
       "      <th>139602</th>\n",
       "      <td>140011</td>\n",
       "      <td>4.0</td>\n",
       "      <td>0.0</td>\n",
       "      <td>1</td>\n",
       "      <td>A130Y9WKGNVKS7</td>\n",
       "      <td>B01D0KHXGK</td>\n",
       "      <td>Really works! I have curly hair and you can ge...</td>\n",
       "      <td>It works(:</td>\n",
       "      <td>2</td>\n",
       "      <td>22</td>\n",
       "      <td>2017</td>\n",
       "      <td>2017-02-22</td>\n",
       "      <td>0</td>\n",
       "      <td>TS2 Super Smoother Electric Hair Straightening...</td>\n",
       "      <td>171884.0</td>\n",
       "      <td>Thermally activated smoothing treatment combin...</td>\n",
       "      <td>0.0</td>\n",
       "      <td>0.0</td>\n",
       "      <td>haircare</td>\n",
       "    </tr>\n",
       "    <tr>\n",
       "      <th>139603</th>\n",
       "      <td>140012</td>\n",
       "      <td>1.0</td>\n",
       "      <td>0.0</td>\n",
       "      <td>1</td>\n",
       "      <td>A32Y66RM52YMU7</td>\n",
       "      <td>B01D0KHXGK</td>\n",
       "      <td>DIDNT STRAIGHTEN HAIR</td>\n",
       "      <td>One Star</td>\n",
       "      <td>2</td>\n",
       "      <td>17</td>\n",
       "      <td>2017</td>\n",
       "      <td>2017-02-17</td>\n",
       "      <td>0</td>\n",
       "      <td>TS2 Super Smoother Electric Hair Straightening...</td>\n",
       "      <td>171884.0</td>\n",
       "      <td>Thermally activated smoothing treatment combin...</td>\n",
       "      <td>0.0</td>\n",
       "      <td>0.0</td>\n",
       "      <td>haircare</td>\n",
       "    </tr>\n",
       "    <tr>\n",
       "      <th>139604</th>\n",
       "      <td>140013</td>\n",
       "      <td>5.0</td>\n",
       "      <td>3.0</td>\n",
       "      <td>1</td>\n",
       "      <td>A1G4PIJRMRTM9H</td>\n",
       "      <td>B01D3LDJQE</td>\n",
       "      <td>love this product for wavy hair</td>\n",
       "      <td>Five Stars</td>\n",
       "      <td>12</td>\n",
       "      <td>6</td>\n",
       "      <td>2017</td>\n",
       "      <td>2017-06-12</td>\n",
       "      <td>0</td>\n",
       "      <td>R+Co Twister Curl Primer, 5 Fl Oz</td>\n",
       "      <td>15099.0</td>\n",
       "      <td>A lightweight styling primer. TWISTER adds moi...</td>\n",
       "      <td>32.0</td>\n",
       "      <td>35.0</td>\n",
       "      <td>haircare</td>\n",
       "    </tr>\n",
       "  </tbody>\n",
       "</table>\n",
       "<p>139604 rows × 19 columns</p>\n",
       "</div>"
      ],
      "text/plain": [
       "        Unnamed: 0  overall  vote  verified      reviewerID        asin  \\\n",
       "0                0      5.0   0.0         1  A2BR01CI7K7GAN  B00004U9V2   \n",
       "1                1      5.0   0.0         1  A1N6K3WYGUMHGO  B00004U9V2   \n",
       "2                2      1.0   0.0         0  A3KPTMMK9D967W  B00004U9V2   \n",
       "3                3      5.0   0.0         1  A3CEUD9051WKC0  B00004U9V2   \n",
       "4                4      5.0   0.0         1   A69VISV3LE7DA  B00004U9V2   \n",
       "...            ...      ...   ...       ...             ...         ...   \n",
       "139600      140009      2.0   0.0         1  A2SK9NN2RW4YZG  B01D0KHXGK   \n",
       "139601      140010      1.0   0.0         1   AUKSUQXQ8677W  B01D0KHXGK   \n",
       "139602      140011      4.0   0.0         1  A130Y9WKGNVKS7  B01D0KHXGK   \n",
       "139603      140012      1.0   0.0         1  A32Y66RM52YMU7  B01D0KHXGK   \n",
       "139604      140013      5.0   3.0         1  A1G4PIJRMRTM9H  B01D3LDJQE   \n",
       "\n",
       "                                               reviewText  \\\n",
       "0                                 Bought for my daughter.   \n",
       "1                               Great cream for the skin.   \n",
       "2       Maybe Im just not familiar with this brand, bu...   \n",
       "3       This is one of my favorite creams. Highly reco...   \n",
       "4       I simply love this lotion!  Originally, I rece...   \n",
       "...                                                   ...   \n",
       "139600                       Meh!  Flat iron works better   \n",
       "139601  It doesn't grip the hair - I'm very disappointed.   \n",
       "139602  Really works! I have curly hair and you can ge...   \n",
       "139603                              DIDNT STRAIGHTEN HAIR   \n",
       "139604                    love this product for wavy hair   \n",
       "\n",
       "                       summary  day  month  year  reviewdate  trending_asin  \\\n",
       "0            Has Good Reviews!   12     30  2017  2017-12-30              0   \n",
       "1                   Five Stars   12     29  2017  2017-12-29              0   \n",
       "2                Bad fragrance   12     28  2017  2017-12-28              0   \n",
       "3               Great product.   12     28  2017  2017-12-28              0   \n",
       "4                   Five Stars   12     19  2017  2017-12-19              0   \n",
       "...                        ...  ...    ...   ...         ...            ...   \n",
       "139600  Disappointing results!    4      6  2017  2017-06-04              0   \n",
       "139601                One Star    3     12  2017  2017-12-03              0   \n",
       "139602              It works(:    2     22  2017  2017-02-22              0   \n",
       "139603                One Star    2     17  2017  2017-02-17              0   \n",
       "139604              Five Stars   12      6  2017  2017-06-12              0   \n",
       "\n",
       "                                                    title   ranking  \\\n",
       "0       Crabtree &amp; Evelyn - Gardener's Ultra-Moist...    4324.0   \n",
       "1       Crabtree &amp; Evelyn - Gardener's Ultra-Moist...    4324.0   \n",
       "2       Crabtree &amp; Evelyn - Gardener's Ultra-Moist...    4324.0   \n",
       "3       Crabtree &amp; Evelyn - Gardener's Ultra-Moist...    4324.0   \n",
       "4       Crabtree &amp; Evelyn - Gardener's Ultra-Moist...    4324.0   \n",
       "...                                                   ...       ...   \n",
       "139600  TS2 Super Smoother Electric Hair Straightening...  171884.0   \n",
       "139601  TS2 Super Smoother Electric Hair Straightening...  171884.0   \n",
       "139602  TS2 Super Smoother Electric Hair Straightening...  171884.0   \n",
       "139603  TS2 Super Smoother Electric Hair Straightening...  171884.0   \n",
       "139604                  R+Co Twister Curl Primer, 5 Fl Oz   15099.0   \n",
       "\n",
       "                                      product_description  also_buy_counts  \\\n",
       "0       After a long day of handling thorny situations...             56.0   \n",
       "1       After a long day of handling thorny situations...             56.0   \n",
       "2       After a long day of handling thorny situations...             56.0   \n",
       "3       After a long day of handling thorny situations...             56.0   \n",
       "4       After a long day of handling thorny situations...             56.0   \n",
       "...                                                   ...              ...   \n",
       "139600  Thermally activated smoothing treatment combin...              0.0   \n",
       "139601  Thermally activated smoothing treatment combin...              0.0   \n",
       "139602  Thermally activated smoothing treatment combin...              0.0   \n",
       "139603  Thermally activated smoothing treatment combin...              0.0   \n",
       "139604  A lightweight styling primer. TWISTER adds moi...             32.0   \n",
       "\n",
       "        also_view_counts  category  \n",
       "0                   48.0  skincare  \n",
       "1                   48.0  skincare  \n",
       "2                   48.0  skincare  \n",
       "3                   48.0  skincare  \n",
       "4                   48.0  skincare  \n",
       "...                  ...       ...  \n",
       "139600               0.0  haircare  \n",
       "139601               0.0  haircare  \n",
       "139602               0.0  haircare  \n",
       "139603               0.0  haircare  \n",
       "139604              35.0  haircare  \n",
       "\n",
       "[139604 rows x 19 columns]"
      ]
     },
     "execution_count": 9,
     "metadata": {},
     "output_type": "execute_result"
    }
   ],
   "source": [
    "combined_df = combined_df.dropna()\n",
    "combined_df"
   ]
  },
  {
   "cell_type": "code",
   "execution_count": 10,
   "id": "f4c197bd",
   "metadata": {},
   "outputs": [
    {
     "name": "stdout",
     "output_type": "stream",
     "text": [
      "<class 'pandas.core.frame.DataFrame'>\n",
      "Int64Index: 139604 entries, 0 to 139604\n",
      "Data columns (total 19 columns):\n",
      " #   Column               Non-Null Count   Dtype  \n",
      "---  ------               --------------   -----  \n",
      " 0   Unnamed: 0           139604 non-null  int64  \n",
      " 1   overall              139604 non-null  float64\n",
      " 2   vote                 139604 non-null  float64\n",
      " 3   verified             139604 non-null  int64  \n",
      " 4   reviewerID           139604 non-null  object \n",
      " 5   asin                 139604 non-null  object \n",
      " 6   reviewText           139604 non-null  object \n",
      " 7   summary              139604 non-null  object \n",
      " 8   day                  139604 non-null  int64  \n",
      " 9   month                139604 non-null  int64  \n",
      " 10  year                 139604 non-null  int64  \n",
      " 11  reviewdate           139604 non-null  object \n",
      " 12  trending_asin        139604 non-null  int64  \n",
      " 13  title                139604 non-null  object \n",
      " 14  ranking              139604 non-null  float64\n",
      " 15  product_description  139604 non-null  object \n",
      " 16  also_buy_counts      139604 non-null  float64\n",
      " 17  also_view_counts     139604 non-null  float64\n",
      " 18  category             139604 non-null  object \n",
      "dtypes: float64(5), int64(6), object(8)\n",
      "memory usage: 21.3+ MB\n"
     ]
    }
   ],
   "source": [
    "combined_df.info()"
   ]
  },
  {
   "cell_type": "markdown",
   "id": "afc6ea24",
   "metadata": {
    "id": "afc6ea24"
   },
   "source": [
    "Looks like the dataset is completely clean so let's move onto the modeling."
   ]
  },
  {
   "cell_type": "markdown",
   "id": "bcce6b6e",
   "metadata": {
    "id": "bcce6b6e"
   },
   "source": [
    "## 2. Modeling <a id=\"Modeling\"></a>"
   ]
  },
  {
   "cell_type": "code",
   "execution_count": null,
   "id": "99483aa2",
   "metadata": {
    "executionInfo": {
     "elapsed": 5,
     "status": "ok",
     "timestamp": 1679168049755,
     "user": {
      "displayName": "Stephanie lo",
      "userId": "06848852662146951897"
     },
     "user_tz": 240
    },
    "id": "99483aa2"
   },
   "outputs": [],
   "source": [
    "#loading the modules \n",
    "\n",
    "# Scalars\n",
    "from sklearn.preprocessing import StandardScaler, MinMaxScaler, RobustScaler\n",
    "\n",
    "# To make our sets\n",
    "from sklearn.model_selection import train_test_split \n",
    "\n",
    "# The classifiers \n",
    "from sklearn.linear_model import LogisticRegression\n",
    "from sklearn.neighbors import KNeighborsClassifier\n",
    "from sklearn.tree import DecisionTreeClassifier\n",
    "from sklearn.svm import SVC\n",
    "from sklearn.decomposition import PCA\n",
    "\n",
    "from sklearn.metrics import accuracy_score"
   ]
  },
  {
   "cell_type": "markdown",
   "id": "315b6082",
   "metadata": {
    "id": "315b6082"
   },
   "source": [
    "### 2.1. Logistic Regression <a id=\"Log\"></a>"
   ]
  },
  {
   "cell_type": "markdown",
   "id": "45fac276",
   "metadata": {
    "id": "45fac276"
   },
   "source": [
    "Firstly we can apply logistic regression to our data set. Let's separate out our target column from our features for each of our train and splits before we do so: "
   ]
  },
  {
   "cell_type": "code",
   "execution_count": 16,
   "id": "a82abcc7",
   "metadata": {},
   "outputs": [
    {
     "ename": "NameError",
     "evalue": "name 'numeric_df' is not defined",
     "output_type": "error",
     "traceback": [
      "\u001b[0;31m---------------------------------------------------------------------------\u001b[0m",
      "\u001b[0;31mNameError\u001b[0m                                 Traceback (most recent call last)",
      "\u001b[0;32m/var/folders/k5/r4y7z25n2rz_yw3s46bn0m580000gn/T/ipykernel_1574/405263874.py\u001b[0m in \u001b[0;36m<module>\u001b[0;34m\u001b[0m\n\u001b[1;32m      1\u001b[0m \u001b[0;31m#for numeric\u001b[0m\u001b[0;34m\u001b[0m\u001b[0;34m\u001b[0m\u001b[0m\n\u001b[1;32m      2\u001b[0m \u001b[0;32mfrom\u001b[0m \u001b[0msklearn\u001b[0m\u001b[0;34m.\u001b[0m\u001b[0mmodel_selection\u001b[0m \u001b[0;32mimport\u001b[0m \u001b[0mtrain_test_split\u001b[0m\u001b[0;34m\u001b[0m\u001b[0;34m\u001b[0m\u001b[0m\n\u001b[0;32m----> 3\u001b[0;31m \u001b[0my\u001b[0m \u001b[0;34m=\u001b[0m \u001b[0mnumeric_df\u001b[0m\u001b[0;34m[\u001b[0m\u001b[0;34m\"trending_asin\"\u001b[0m\u001b[0;34m]\u001b[0m\u001b[0;34m\u001b[0m\u001b[0;34m\u001b[0m\u001b[0m\n\u001b[0m\u001b[1;32m      4\u001b[0m \u001b[0mtrain\u001b[0m\u001b[0;34m,\u001b[0m \u001b[0mtest\u001b[0m  \u001b[0;34m=\u001b[0m \u001b[0mtrain_test_split\u001b[0m\u001b[0;34m(\u001b[0m\u001b[0mnumeric_df\u001b[0m\u001b[0;34m,\u001b[0m \u001b[0mtest_size\u001b[0m\u001b[0;34m=\u001b[0m\u001b[0;36m0.3\u001b[0m\u001b[0;34m,\u001b[0m \u001b[0mstratify\u001b[0m\u001b[0;34m=\u001b[0m \u001b[0my\u001b[0m\u001b[0;34m,\u001b[0m \u001b[0mrandom_state\u001b[0m \u001b[0;34m=\u001b[0m \u001b[0;36m8\u001b[0m\u001b[0;34m)\u001b[0m\u001b[0;34m\u001b[0m\u001b[0;34m\u001b[0m\u001b[0m\n\u001b[1;32m      5\u001b[0m \u001b[0mprint\u001b[0m\u001b[0;34m(\u001b[0m\u001b[0;34mf\"Train shape {train.shape}\"\u001b[0m\u001b[0;34m)\u001b[0m\u001b[0;34m\u001b[0m\u001b[0;34m\u001b[0m\u001b[0m\n",
      "\u001b[0;31mNameError\u001b[0m: name 'numeric_df' is not defined"
     ]
    }
   ],
   "source": [
    "#for numeric\n",
    "from sklearn.model_selection import train_test_split\n",
    "y = numeric_df[\"trending_asin\"]\n",
    "train, test  = train_test_split(numeric_df, test_size=0.3, stratify= y, random_state = 8)\n",
    "print(f\"Train shape {train.shape}\")\n",
    "print(f\"Test shape {test.shape}\")"
   ]
  },
  {
   "cell_type": "code",
   "execution_count": 17,
   "id": "46ebd777",
   "metadata": {},
   "outputs": [
    {
     "name": "stdout",
     "output_type": "stream",
     "text": [
      "Train shape (97722, 19)\n",
      "Test shape (41882, 19)\n"
     ]
    }
   ],
   "source": [
    "#for all\n",
    "from sklearn.model_selection import train_test_split\n",
    "y = combined_df[\"trending_asin\"]\n",
    "train, test  = train_test_split(combined_df, test_size=0.3, stratify= y, random_state = 8)\n",
    "print(f\"Train shape {train.shape}\")\n",
    "print(f\"Test shape {test.shape}\")\n"
   ]
  },
  {
   "cell_type": "code",
   "execution_count": 18,
   "id": "99c2adbb",
   "metadata": {
    "executionInfo": {
     "elapsed": 292,
     "status": "ok",
     "timestamp": 1679168052205,
     "user": {
      "displayName": "Stephanie lo",
      "userId": "06848852662146951897"
     },
     "user_tz": 240
    },
    "id": "99c2adbb"
   },
   "outputs": [],
   "source": [
    "#assigning train dataset for X and y \n",
    "y_train = train[\"trending_asin\"]\n",
    "X_train = train.drop([\"trending_asin\"],axis=1)"
   ]
  },
  {
   "cell_type": "code",
   "execution_count": 19,
   "id": "71312f3a",
   "metadata": {
    "executionInfo": {
     "elapsed": 3,
     "status": "ok",
     "timestamp": 1679168052206,
     "user": {
      "displayName": "Stephanie lo",
      "userId": "06848852662146951897"
     },
     "user_tz": 240
    },
    "id": "71312f3a"
   },
   "outputs": [],
   "source": [
    "#assigning test dataset for X and y \n",
    "y_test = test[\"trending_asin\"]\n",
    "X_test = test.drop([\"trending_asin\"],axis=1)"
   ]
  },
  {
   "cell_type": "markdown",
   "id": "5e907524",
   "metadata": {
    "id": "5e907524"
   },
   "source": [
    "To normalize the data we can also apply a standard scaler to the data by using StandardScaler. "
   ]
  },
  {
   "cell_type": "code",
   "execution_count": null,
   "id": "f0287f32",
   "metadata": {
    "executionInfo": {
     "elapsed": 297,
     "status": "ok",
     "timestamp": 1679168053487,
     "user": {
      "displayName": "Stephanie lo",
      "userId": "06848852662146951897"
     },
     "user_tz": 240
    },
    "id": "f0287f32"
   },
   "outputs": [],
   "source": [
    "# Instantiate the scaler\n",
    "SS = StandardScaler()\n",
    "\n",
    "# Fit the scaler\n",
    "SS.fit(X_train)\n",
    "\n",
    "# Transform the training and test sets \n",
    "X_train_ss = SS.transform(X_train)\n",
    "X_test_ss = SS.transform(X_test)"
   ]
  },
  {
   "cell_type": "code",
   "execution_count": null,
   "id": "e82ef517",
   "metadata": {
    "colab": {
     "base_uri": "https://localhost:8080/"
    },
    "executionInfo": {
     "elapsed": 2225,
     "status": "ok",
     "timestamp": 1679168055708,
     "user": {
      "displayName": "Stephanie lo",
      "userId": "06848852662146951897"
     },
     "user_tz": 240
    },
    "id": "e82ef517",
    "outputId": "f174529f-fc90-41bc-9226-730311d0eb4d"
   },
   "outputs": [],
   "source": [
    "\n",
    "logreg = LogisticRegression(solver='lbfgs',\n",
    "                            max_iter = 10000)\n",
    "\n",
    "# Fit the model \n",
    "logreg.fit(X_train_ss, y_train)\n",
    "\n",
    "# Score the model \n",
    "\n",
    "log_train_acc = logreg.score(X_train_ss, y_train)\n",
    "log_test_acc = logreg.score(X_test_ss, y_test)\n",
    "\n",
    "\n",
    "print(f\"Model: {logreg}\")"
   ]
  },
  {
   "cell_type": "code",
   "execution_count": null,
   "id": "cc9a4bfb",
   "metadata": {
    "colab": {
     "base_uri": "https://localhost:8080/"
    },
    "executionInfo": {
     "elapsed": 33,
     "status": "ok",
     "timestamp": 1679168055709,
     "user": {
      "displayName": "Stephanie lo",
      "userId": "06848852662146951897"
     },
     "user_tz": 240
    },
    "id": "cc9a4bfb",
    "outputId": "4a61105c-ca5b-4942-d6ee-d9239176e2e1"
   },
   "outputs": [],
   "source": [
    "# Score the model \n",
    "print(f\"Train Accuracy Score: {round(log_train_acc,4)*100}%\")\n",
    "print(f\"Test Accuracy Score: {round(log_test_acc ,4)*100}%\")"
   ]
  },
  {
   "cell_type": "code",
   "execution_count": null,
   "id": "7b0f6e4b",
   "metadata": {
    "colab": {
     "base_uri": "https://localhost:8080/"
    },
    "executionInfo": {
     "elapsed": 27,
     "status": "ok",
     "timestamp": 1679168055709,
     "user": {
      "displayName": "Stephanie lo",
      "userId": "06848852662146951897"
     },
     "user_tz": 240
    },
    "id": "7b0f6e4b",
    "outputId": "637a7785-1acb-486f-f799-9852a24b770e"
   },
   "outputs": [],
   "source": [
    "#figuring out baseline to compare against\n",
    "pct = 100 - (y_train.sum()/y_train.shape[0]*100)\n",
    "print(f\"Number of review in the training dataset that have trending products: {y_train.sum()} which means our baseline for the model is: {round(pct,4)}%\")"
   ]
  },
  {
   "cell_type": "code",
   "execution_count": null,
   "id": "5dc01e9b",
   "metadata": {
    "colab": {
     "base_uri": "https://localhost:8080/"
    },
    "executionInfo": {
     "elapsed": 58,
     "status": "ok",
     "timestamp": 1679168056487,
     "user": {
      "displayName": "Stephanie lo",
      "userId": "06848852662146951897"
     },
     "user_tz": 240
    },
    "id": "5dc01e9b",
    "outputId": "34e7456d-8e2f-4729-d55e-6d6f373ff694"
   },
   "outputs": [],
   "source": [
    "logreg.coef_.shape"
   ]
  },
  {
   "cell_type": "code",
   "execution_count": null,
   "id": "d22dcaf1",
   "metadata": {
    "colab": {
     "base_uri": "https://localhost:8080/",
     "height": 112
    },
    "executionInfo": {
     "elapsed": 47,
     "status": "ok",
     "timestamp": 1679168056488,
     "user": {
      "displayName": "Stephanie lo",
      "userId": "06848852662146951897"
     },
     "user_tz": 240
    },
    "id": "d22dcaf1",
    "outputId": "09f12423-b570-4abc-f6da-fc5473d621f8"
   },
   "outputs": [],
   "source": [
    "#forming df with feature column names and coefficients combined. Reference: https://stackoverflow.com/questions/57924484/finding-coefficients-for-logistic-regression-in-python\n",
    "reviews = pd.DataFrame(zip(X_train.columns, np.transpose(logreg.coef_)), columns=['features', 'coef'])\n",
    "reviews.head(7)"
   ]
  },
  {
   "cell_type": "markdown",
   "id": "b108f9c5",
   "metadata": {
    "id": "b108f9c5"
   },
   "source": [
    "## Count Vectorizer"
   ]
  },
  {
   "cell_type": "markdown",
   "id": "4b3bde95",
   "metadata": {
    "id": "4b3bde95"
   },
   "source": [
    "We will start by inputting a count vectorizer on the model for the review data. "
   ]
  },
  {
   "cell_type": "code",
   "execution_count": 54,
   "id": "161f5596",
   "metadata": {},
   "outputs": [],
   "source": [
    "def length(text):    \n",
    "    '''a function which returns the length of text'''\n",
    "    return len(text)"
   ]
  },
  {
   "cell_type": "code",
   "execution_count": 55,
   "id": "955530fb",
   "metadata": {},
   "outputs": [],
   "source": [
    "train[\"length\"]=train[\"reviewText\"].apply(length)"
   ]
  },
  {
   "cell_type": "code",
   "execution_count": 57,
   "id": "17597443",
   "metadata": {},
   "outputs": [
    {
     "data": {
      "text/html": [
       "<div>\n",
       "<style scoped>\n",
       "    .dataframe tbody tr th:only-of-type {\n",
       "        vertical-align: middle;\n",
       "    }\n",
       "\n",
       "    .dataframe tbody tr th {\n",
       "        vertical-align: top;\n",
       "    }\n",
       "\n",
       "    .dataframe thead th {\n",
       "        text-align: right;\n",
       "    }\n",
       "</style>\n",
       "<table border=\"1\" class=\"dataframe\">\n",
       "  <thead>\n",
       "    <tr style=\"text-align: right;\">\n",
       "      <th></th>\n",
       "      <th>Unnamed: 0</th>\n",
       "      <th>overall</th>\n",
       "      <th>vote</th>\n",
       "      <th>verified</th>\n",
       "      <th>reviewerID</th>\n",
       "      <th>asin</th>\n",
       "      <th>reviewText</th>\n",
       "      <th>summary</th>\n",
       "      <th>day</th>\n",
       "      <th>month</th>\n",
       "      <th>...</th>\n",
       "      <th>r_dry</th>\n",
       "      <th>r_little</th>\n",
       "      <th>r_long</th>\n",
       "      <th>r_doesn</th>\n",
       "      <th>r_products</th>\n",
       "      <th>r_smell</th>\n",
       "      <th>r_nice</th>\n",
       "      <th>r_years</th>\n",
       "      <th>r_smells</th>\n",
       "      <th>length</th>\n",
       "    </tr>\n",
       "  </thead>\n",
       "  <tbody>\n",
       "    <tr>\n",
       "      <th>0</th>\n",
       "      <td>39551</td>\n",
       "      <td>1.0</td>\n",
       "      <td>0.0</td>\n",
       "      <td>1</td>\n",
       "      <td>A1JY0IEAD7NJ8I</td>\n",
       "      <td>B000ZOFUOC</td>\n",
       "      <td>Broke my skin out with cystic acne after 2 use...</td>\n",
       "      <td>Caused my Cystic acne</td>\n",
       "      <td>9</td>\n",
       "      <td>25</td>\n",
       "      <td>...</td>\n",
       "      <td>0</td>\n",
       "      <td>0</td>\n",
       "      <td>0</td>\n",
       "      <td>0</td>\n",
       "      <td>0</td>\n",
       "      <td>0</td>\n",
       "      <td>0</td>\n",
       "      <td>0</td>\n",
       "      <td>0</td>\n",
       "      <td>139</td>\n",
       "    </tr>\n",
       "    <tr>\n",
       "      <th>1</th>\n",
       "      <td>33486</td>\n",
       "      <td>5.0</td>\n",
       "      <td>0.0</td>\n",
       "      <td>1</td>\n",
       "      <td>A33FENOSRH6JFG</td>\n",
       "      <td>B000PZA2KS</td>\n",
       "      <td>Great for thin and brittle nails.  While it's ...</td>\n",
       "      <td>Great for thin and brittle nails</td>\n",
       "      <td>6</td>\n",
       "      <td>13</td>\n",
       "      <td>...</td>\n",
       "      <td>0</td>\n",
       "      <td>0</td>\n",
       "      <td>0</td>\n",
       "      <td>0</td>\n",
       "      <td>0</td>\n",
       "      <td>0</td>\n",
       "      <td>0</td>\n",
       "      <td>0</td>\n",
       "      <td>0</td>\n",
       "      <td>125</td>\n",
       "    </tr>\n",
       "    <tr>\n",
       "      <th>2</th>\n",
       "      <td>42397</td>\n",
       "      <td>5.0</td>\n",
       "      <td>0.0</td>\n",
       "      <td>1</td>\n",
       "      <td>ADJC1WQONOPVR</td>\n",
       "      <td>B0015476RU</td>\n",
       "      <td>I liked the Korres Lip Butter.  It makes the l...</td>\n",
       "      <td>I liked the Korres Lip Butter</td>\n",
       "      <td>7</td>\n",
       "      <td>22</td>\n",
       "      <td>...</td>\n",
       "      <td>0</td>\n",
       "      <td>0</td>\n",
       "      <td>0</td>\n",
       "      <td>0</td>\n",
       "      <td>0</td>\n",
       "      <td>0</td>\n",
       "      <td>0</td>\n",
       "      <td>0</td>\n",
       "      <td>0</td>\n",
       "      <td>170</td>\n",
       "    </tr>\n",
       "    <tr>\n",
       "      <th>3</th>\n",
       "      <td>117979</td>\n",
       "      <td>5.0</td>\n",
       "      <td>0.0</td>\n",
       "      <td>1</td>\n",
       "      <td>A50UIBBGEUBHU</td>\n",
       "      <td>B00NI2ULJW</td>\n",
       "      <td>I love this stuff, I use it every day. It make...</td>\n",
       "      <td>Magical oil!</td>\n",
       "      <td>8</td>\n",
       "      <td>17</td>\n",
       "      <td>...</td>\n",
       "      <td>0</td>\n",
       "      <td>0</td>\n",
       "      <td>0</td>\n",
       "      <td>1</td>\n",
       "      <td>0</td>\n",
       "      <td>0</td>\n",
       "      <td>0</td>\n",
       "      <td>0</td>\n",
       "      <td>0</td>\n",
       "      <td>153</td>\n",
       "    </tr>\n",
       "    <tr>\n",
       "      <th>4</th>\n",
       "      <td>8447</td>\n",
       "      <td>5.0</td>\n",
       "      <td>0.0</td>\n",
       "      <td>1</td>\n",
       "      <td>A3KDSFEH3XP990</td>\n",
       "      <td>B0002ZW5UQ</td>\n",
       "      <td>I like it work great on hair  make it look ful...</td>\n",
       "      <td>Five Stars</td>\n",
       "      <td>8</td>\n",
       "      <td>23</td>\n",
       "      <td>...</td>\n",
       "      <td>0</td>\n",
       "      <td>0</td>\n",
       "      <td>0</td>\n",
       "      <td>0</td>\n",
       "      <td>0</td>\n",
       "      <td>0</td>\n",
       "      <td>0</td>\n",
       "      <td>0</td>\n",
       "      <td>0</td>\n",
       "      <td>55</td>\n",
       "    </tr>\n",
       "    <tr>\n",
       "      <th>...</th>\n",
       "      <td>...</td>\n",
       "      <td>...</td>\n",
       "      <td>...</td>\n",
       "      <td>...</td>\n",
       "      <td>...</td>\n",
       "      <td>...</td>\n",
       "      <td>...</td>\n",
       "      <td>...</td>\n",
       "      <td>...</td>\n",
       "      <td>...</td>\n",
       "      <td>...</td>\n",
       "      <td>...</td>\n",
       "      <td>...</td>\n",
       "      <td>...</td>\n",
       "      <td>...</td>\n",
       "      <td>...</td>\n",
       "      <td>...</td>\n",
       "      <td>...</td>\n",
       "      <td>...</td>\n",
       "      <td>...</td>\n",
       "      <td>...</td>\n",
       "    </tr>\n",
       "    <tr>\n",
       "      <th>97717</th>\n",
       "      <td>111559</td>\n",
       "      <td>2.0</td>\n",
       "      <td>4.0</td>\n",
       "      <td>1</td>\n",
       "      <td>A2P2DGFPH5ON5Z</td>\n",
       "      <td>B00J66M2SM</td>\n",
       "      <td>I bought it to cover my wrist tattoo since it ...</td>\n",
       "      <td>Didn't work for me</td>\n",
       "      <td>12</td>\n",
       "      <td>11</td>\n",
       "      <td>...</td>\n",
       "      <td>0</td>\n",
       "      <td>0</td>\n",
       "      <td>0</td>\n",
       "      <td>0</td>\n",
       "      <td>1</td>\n",
       "      <td>0</td>\n",
       "      <td>0</td>\n",
       "      <td>0</td>\n",
       "      <td>0</td>\n",
       "      <td>383</td>\n",
       "    </tr>\n",
       "    <tr>\n",
       "      <th>97718</th>\n",
       "      <td>123690</td>\n",
       "      <td>1.0</td>\n",
       "      <td>8.0</td>\n",
       "      <td>1</td>\n",
       "      <td>AGG49WKC1D6WH</td>\n",
       "      <td>B00UY6WEFO</td>\n",
       "      <td>The product is fantastic but I think I got abo...</td>\n",
       "      <td>The spray container is empty- buyer beware</td>\n",
       "      <td>1</td>\n",
       "      <td>5</td>\n",
       "      <td>...</td>\n",
       "      <td>0</td>\n",
       "      <td>0</td>\n",
       "      <td>0</td>\n",
       "      <td>0</td>\n",
       "      <td>0</td>\n",
       "      <td>0</td>\n",
       "      <td>0</td>\n",
       "      <td>0</td>\n",
       "      <td>0</td>\n",
       "      <td>118</td>\n",
       "    </tr>\n",
       "    <tr>\n",
       "      <th>97719</th>\n",
       "      <td>136236</td>\n",
       "      <td>5.0</td>\n",
       "      <td>0.0</td>\n",
       "      <td>1</td>\n",
       "      <td>A21N44J90IRH7</td>\n",
       "      <td>B01CRB98BG</td>\n",
       "      <td>Works great I highly recommend</td>\n",
       "      <td>Five Stars</td>\n",
       "      <td>4</td>\n",
       "      <td>13</td>\n",
       "      <td>...</td>\n",
       "      <td>0</td>\n",
       "      <td>0</td>\n",
       "      <td>0</td>\n",
       "      <td>0</td>\n",
       "      <td>0</td>\n",
       "      <td>0</td>\n",
       "      <td>0</td>\n",
       "      <td>1</td>\n",
       "      <td>0</td>\n",
       "      <td>30</td>\n",
       "    </tr>\n",
       "    <tr>\n",
       "      <th>97720</th>\n",
       "      <td>92260</td>\n",
       "      <td>5.0</td>\n",
       "      <td>0.0</td>\n",
       "      <td>1</td>\n",
       "      <td>A2F239LT1G70GB</td>\n",
       "      <td>B00B59AULY</td>\n",
       "      <td>Another great neutral from Essie! More of a br...</td>\n",
       "      <td>Another great neutral!</td>\n",
       "      <td>3</td>\n",
       "      <td>24</td>\n",
       "      <td>...</td>\n",
       "      <td>0</td>\n",
       "      <td>0</td>\n",
       "      <td>0</td>\n",
       "      <td>0</td>\n",
       "      <td>0</td>\n",
       "      <td>0</td>\n",
       "      <td>0</td>\n",
       "      <td>0</td>\n",
       "      <td>0</td>\n",
       "      <td>74</td>\n",
       "    </tr>\n",
       "    <tr>\n",
       "      <th>97721</th>\n",
       "      <td>30751</td>\n",
       "      <td>4.0</td>\n",
       "      <td>5.0</td>\n",
       "      <td>1</td>\n",
       "      <td>A139IG3BAHT6G0</td>\n",
       "      <td>B000O2RAUW</td>\n",
       "      <td>Originally bought after reading reviews that t...</td>\n",
       "      <td>Smells nice</td>\n",
       "      <td>3</td>\n",
       "      <td>6</td>\n",
       "      <td>...</td>\n",
       "      <td>0</td>\n",
       "      <td>0</td>\n",
       "      <td>1</td>\n",
       "      <td>1</td>\n",
       "      <td>0</td>\n",
       "      <td>0</td>\n",
       "      <td>0</td>\n",
       "      <td>0</td>\n",
       "      <td>0</td>\n",
       "      <td>224</td>\n",
       "    </tr>\n",
       "  </tbody>\n",
       "</table>\n",
       "<p>97722 rows × 50 columns</p>\n",
       "</div>"
      ],
      "text/plain": [
       "       Unnamed: 0  overall  vote  verified      reviewerID        asin  \\\n",
       "0           39551      1.0   0.0         1  A1JY0IEAD7NJ8I  B000ZOFUOC   \n",
       "1           33486      5.0   0.0         1  A33FENOSRH6JFG  B000PZA2KS   \n",
       "2           42397      5.0   0.0         1   ADJC1WQONOPVR  B0015476RU   \n",
       "3          117979      5.0   0.0         1   A50UIBBGEUBHU  B00NI2ULJW   \n",
       "4            8447      5.0   0.0         1  A3KDSFEH3XP990  B0002ZW5UQ   \n",
       "...           ...      ...   ...       ...             ...         ...   \n",
       "97717      111559      2.0   4.0         1  A2P2DGFPH5ON5Z  B00J66M2SM   \n",
       "97718      123690      1.0   8.0         1   AGG49WKC1D6WH  B00UY6WEFO   \n",
       "97719      136236      5.0   0.0         1   A21N44J90IRH7  B01CRB98BG   \n",
       "97720       92260      5.0   0.0         1  A2F239LT1G70GB  B00B59AULY   \n",
       "97721       30751      4.0   5.0         1  A139IG3BAHT6G0  B000O2RAUW   \n",
       "\n",
       "                                              reviewText  \\\n",
       "0      Broke my skin out with cystic acne after 2 use...   \n",
       "1      Great for thin and brittle nails.  While it's ...   \n",
       "2      I liked the Korres Lip Butter.  It makes the l...   \n",
       "3      I love this stuff, I use it every day. It make...   \n",
       "4      I like it work great on hair  make it look ful...   \n",
       "...                                                  ...   \n",
       "97717  I bought it to cover my wrist tattoo since it ...   \n",
       "97718  The product is fantastic but I think I got abo...   \n",
       "97719                     Works great I highly recommend   \n",
       "97720  Another great neutral from Essie! More of a br...   \n",
       "97721  Originally bought after reading reviews that t...   \n",
       "\n",
       "                                          summary  day  month  ...  r_dry  \\\n",
       "0                           Caused my Cystic acne    9     25  ...      0   \n",
       "1                Great for thin and brittle nails    6     13  ...      0   \n",
       "2                   I liked the Korres Lip Butter    7     22  ...      0   \n",
       "3                                    Magical oil!    8     17  ...      0   \n",
       "4                                      Five Stars    8     23  ...      0   \n",
       "...                                           ...  ...    ...  ...    ...   \n",
       "97717                          Didn't work for me   12     11  ...      0   \n",
       "97718  The spray container is empty- buyer beware    1      5  ...      0   \n",
       "97719                                  Five Stars    4     13  ...      0   \n",
       "97720                      Another great neutral!    3     24  ...      0   \n",
       "97721                                 Smells nice    3      6  ...      0   \n",
       "\n",
       "      r_little  r_long r_doesn  r_products r_smell  r_nice  r_years r_smells  \\\n",
       "0            0       0       0           0       0       0        0        0   \n",
       "1            0       0       0           0       0       0        0        0   \n",
       "2            0       0       0           0       0       0        0        0   \n",
       "3            0       0       1           0       0       0        0        0   \n",
       "4            0       0       0           0       0       0        0        0   \n",
       "...        ...     ...     ...         ...     ...     ...      ...      ...   \n",
       "97717        0       0       0           1       0       0        0        0   \n",
       "97718        0       0       0           0       0       0        0        0   \n",
       "97719        0       0       0           0       0       0        1        0   \n",
       "97720        0       0       0           0       0       0        0        0   \n",
       "97721        0       1       1           0       0       0        0        0   \n",
       "\n",
       "       length  \n",
       "0         139  \n",
       "1         125  \n",
       "2         170  \n",
       "3         153  \n",
       "4          55  \n",
       "...       ...  \n",
       "97717     383  \n",
       "97718     118  \n",
       "97719      30  \n",
       "97720      74  \n",
       "97721     224  \n",
       "\n",
       "[97722 rows x 50 columns]"
      ]
     },
     "execution_count": 57,
     "metadata": {},
     "output_type": "execute_result"
    }
   ],
   "source": [
    "train"
   ]
  },
  {
   "cell_type": "code",
   "execution_count": 70,
   "id": "786abc32",
   "metadata": {},
   "outputs": [
    {
     "data": {
      "image/png": "[encoded data removed]",
      "text/plain": [
       "<Figure size 1000x500 with 2 Axes>"
      ]
     },
     "metadata": {},
     "output_type": "display_data"
    }
   ],
   "source": [
    "fig,(ax1,ax2)=plt.subplots(1,2,figsize=(10,5))\n",
    "review_len=train[train['trending_asin']==1]['reviewText'].str.len()\n",
    "ax1.hist(review_len,color='blue',bins=100)\n",
    "ax1.set_title('Trending Products')\n",
    "tweet_len=train[train['trending_asin']==0]['reviewText'].str.len()\n",
    "ax2.hist(review_len,color='red',bins=100)\n",
    "ax2.set_title('Non Trending products')\n",
    "fig.suptitle('Characters in Review Text')\n",
    "plt.show()"
   ]
  },
  {
   "cell_type": "code",
   "execution_count": 14,
   "id": "4ed48cc7",
   "metadata": {},
   "outputs": [
    {
     "data": {
      "text/plain": [
       "Index(['Unnamed: 0', 'overall', 'vote', 'verified', 'reviewerID', 'asin',\n",
       "       'reviewText', 'summary', 'day', 'month', 'year', 'reviewdate',\n",
       "       'trending_asin', 'title', 'ranking', 'product_description',\n",
       "       'also_buy_counts', 'also_view_counts', 'category'],\n",
       "      dtype='object')"
      ]
     },
     "execution_count": 14,
     "metadata": {},
     "output_type": "execute_result"
    }
   ],
   "source": [
    "def get_top_tweet_bigrams(corpus, n=None):\n",
    "    vec = CountVectorizer(ngram_range=(2, 2)).fit(corpus)\n",
    "    bag_of_words = vec.transform(corpus)\n",
    "    sum_words = bag_of_words.sum(axis=0) \n",
    "    words_freq = [(word, sum_words[0, idx]) for word, idx in vec.vocabulary_.items()]\n",
    "    words_freq =sorted(words_freq, key = lambda x: x[1], reverse=True)\n",
    "    return words_freq[:n]"
   ]
  },
  {
   "cell_type": "code",
   "execution_count": null,
   "id": "e1efd27f",
   "metadata": {},
   "outputs": [],
   "source": []
  },
  {
   "cell_type": "code",
   "execution_count": 20,
   "id": "d0b2bf29",
   "metadata": {
    "executionInfo": {
     "elapsed": 46,
     "status": "ok",
     "timestamp": 1679168056490,
     "user": {
      "displayName": "Stephanie lo",
      "userId": "06848852662146951897"
     },
     "user_tz": 240
    },
    "id": "d0b2bf29"
   },
   "outputs": [
    {
     "data": {
      "text/plain": [
       "<97722x30 sparse matrix of type '<class 'numpy.int64'>'\n",
       "\twith 290238 stored elements in Compressed Sparse Row format>"
      ]
     },
     "execution_count": 20,
     "metadata": {},
     "output_type": "execute_result"
    }
   ],
   "source": [
    "from sklearn.feature_extraction.text import CountVectorizer\n",
    "\n",
    "# 1. Instantiate \n",
    "bagofwords = CountVectorizer(stop_words=\"english\",#removing stop words\n",
    "                             min_df=0.05,\n",
    "                             max_features= 2000,        #showing up in minimum 10% of documents     #only selecting 100 columns  \n",
    "                             )    \n",
    "\n",
    "# 2. Fit \n",
    "bagofwords.fit(train['reviewText'])\n",
    "\n",
    "# 3. Transform\n",
    "train_transformed = bagofwords.transform(train['reviewText'])\n",
    "train_transformed"
   ]
  },
  {
   "cell_type": "code",
   "execution_count": 21,
   "id": "6a7b55d5",
   "metadata": {},
   "outputs": [
    {
     "data": {
      "text/plain": [
       "(97722, 30)"
      ]
     },
     "execution_count": 21,
     "metadata": {},
     "output_type": "execute_result"
    }
   ],
   "source": [
    "#making into an array\n",
    "train_transformed.toarray().sum(axis=0)\n",
    "train_transformed.shape"
   ]
  },
  {
   "cell_type": "code",
   "execution_count": 22,
   "id": "b5d2b097",
   "metadata": {},
   "outputs": [
    {
     "data": {
      "image/png": "[encoded data removed]",
      "text/plain": [
       "<Figure size 1500x500 with 1 Axes>"
      ]
     },
     "metadata": {},
     "output_type": "display_data"
    }
   ],
   "source": [
    "#plotting it out\n",
    "\n",
    "pos_word_counts = pd.DataFrame(\n",
    "    {\"counts\": train_transformed.toarray().sum(axis=0)},\n",
    "    index=bagofwords.get_feature_names_out()\n",
    ").sort_values(\"counts\", ascending=False)\n",
    "\n",
    "pos_word_counts.head(20).plot(kind=\"barh\", figsize=(15, 5), legend=False, color = \"navy\")\n",
    "plt.title(\"Figure: Top most frequently occurring words in review text\")\n",
    "plt.ylabel(\"Count\")\n",
    "plt.xticks(rotation=45)\n",
    "plt.show()"
   ]
  },
  {
   "cell_type": "code",
   "execution_count": 27,
   "id": "a3b528b1",
   "metadata": {},
   "outputs": [],
   "source": [
    "review_word_counts = pd.DataFrame(\n",
    "    {\"words\": bagofwords.get_feature_names_out(),\n",
    "    \"counts\": train_transformed.toarray().sum(axis=0)\n",
    "     }\n",
    ").sort_values(\"counts\", ascending=False).reset_index().drop(columns = \"index\")"
   ]
  },
  {
   "cell_type": "code",
   "execution_count": 28,
   "id": "b3bc4874",
   "metadata": {},
   "outputs": [
    {
     "data": {
      "text/html": [
       "<div>\n",
       "<style scoped>\n",
       "    .dataframe tbody tr th:only-of-type {\n",
       "        vertical-align: middle;\n",
       "    }\n",
       "\n",
       "    .dataframe tbody tr th {\n",
       "        vertical-align: top;\n",
       "    }\n",
       "\n",
       "    .dataframe thead th {\n",
       "        text-align: right;\n",
       "    }\n",
       "</style>\n",
       "<table border=\"1\" class=\"dataframe\">\n",
       "  <thead>\n",
       "    <tr style=\"text-align: right;\">\n",
       "      <th></th>\n",
       "      <th>words</th>\n",
       "      <th>counts</th>\n",
       "    </tr>\n",
       "  </thead>\n",
       "  <tbody>\n",
       "    <tr>\n",
       "      <th>0</th>\n",
       "      <td>r_product</td>\n",
       "      <td>31680</td>\n",
       "    </tr>\n",
       "    <tr>\n",
       "      <th>1</th>\n",
       "      <td>r_hair</td>\n",
       "      <td>31075</td>\n",
       "    </tr>\n",
       "    <tr>\n",
       "      <th>2</th>\n",
       "      <td>r_love</td>\n",
       "      <td>23511</td>\n",
       "    </tr>\n",
       "    <tr>\n",
       "      <th>3</th>\n",
       "      <td>r_great</td>\n",
       "      <td>21789</td>\n",
       "    </tr>\n",
       "    <tr>\n",
       "      <th>4</th>\n",
       "      <td>r_skin</td>\n",
       "      <td>20322</td>\n",
       "    </tr>\n",
       "    <tr>\n",
       "      <th>5</th>\n",
       "      <td>r_use</td>\n",
       "      <td>19482</td>\n",
       "    </tr>\n",
       "    <tr>\n",
       "      <th>6</th>\n",
       "      <td>r_like</td>\n",
       "      <td>18411</td>\n",
       "    </tr>\n",
       "    <tr>\n",
       "      <th>7</th>\n",
       "      <td>r_good</td>\n",
       "      <td>12862</td>\n",
       "    </tr>\n",
       "    <tr>\n",
       "      <th>8</th>\n",
       "      <td>r_just</td>\n",
       "      <td>12290</td>\n",
       "    </tr>\n",
       "    <tr>\n",
       "      <th>9</th>\n",
       "      <td>r_color</td>\n",
       "      <td>12001</td>\n",
       "    </tr>\n",
       "    <tr>\n",
       "      <th>10</th>\n",
       "      <td>r_used</td>\n",
       "      <td>11427</td>\n",
       "    </tr>\n",
       "    <tr>\n",
       "      <th>11</th>\n",
       "      <td>r_really</td>\n",
       "      <td>11109</td>\n",
       "    </tr>\n",
       "    <tr>\n",
       "      <th>12</th>\n",
       "      <td>r_using</td>\n",
       "      <td>10534</td>\n",
       "    </tr>\n",
       "    <tr>\n",
       "      <th>13</th>\n",
       "      <td>r_works</td>\n",
       "      <td>9209</td>\n",
       "    </tr>\n",
       "    <tr>\n",
       "      <th>14</th>\n",
       "      <td>r_ve</td>\n",
       "      <td>9160</td>\n",
       "    </tr>\n",
       "    <tr>\n",
       "      <th>15</th>\n",
       "      <td>r_face</td>\n",
       "      <td>8904</td>\n",
       "    </tr>\n",
       "    <tr>\n",
       "      <th>16</th>\n",
       "      <td>r_does</td>\n",
       "      <td>8792</td>\n",
       "    </tr>\n",
       "    <tr>\n",
       "      <th>17</th>\n",
       "      <td>r_time</td>\n",
       "      <td>8732</td>\n",
       "    </tr>\n",
       "    <tr>\n",
       "      <th>18</th>\n",
       "      <td>r_don</td>\n",
       "      <td>8018</td>\n",
       "    </tr>\n",
       "    <tr>\n",
       "      <th>19</th>\n",
       "      <td>r_best</td>\n",
       "      <td>7811</td>\n",
       "    </tr>\n",
       "    <tr>\n",
       "      <th>20</th>\n",
       "      <td>r_day</td>\n",
       "      <td>7781</td>\n",
       "    </tr>\n",
       "    <tr>\n",
       "      <th>21</th>\n",
       "      <td>r_dry</td>\n",
       "      <td>7503</td>\n",
       "    </tr>\n",
       "    <tr>\n",
       "      <th>22</th>\n",
       "      <td>r_little</td>\n",
       "      <td>7038</td>\n",
       "    </tr>\n",
       "    <tr>\n",
       "      <th>23</th>\n",
       "      <td>r_long</td>\n",
       "      <td>7012</td>\n",
       "    </tr>\n",
       "    <tr>\n",
       "      <th>24</th>\n",
       "      <td>r_doesn</td>\n",
       "      <td>6882</td>\n",
       "    </tr>\n",
       "    <tr>\n",
       "      <th>25</th>\n",
       "      <td>r_products</td>\n",
       "      <td>6581</td>\n",
       "    </tr>\n",
       "    <tr>\n",
       "      <th>26</th>\n",
       "      <td>r_smell</td>\n",
       "      <td>6358</td>\n",
       "    </tr>\n",
       "    <tr>\n",
       "      <th>27</th>\n",
       "      <td>r_nice</td>\n",
       "      <td>6327</td>\n",
       "    </tr>\n",
       "    <tr>\n",
       "      <th>28</th>\n",
       "      <td>r_years</td>\n",
       "      <td>5682</td>\n",
       "    </tr>\n",
       "    <tr>\n",
       "      <th>29</th>\n",
       "      <td>r_smells</td>\n",
       "      <td>5348</td>\n",
       "    </tr>\n",
       "  </tbody>\n",
       "</table>\n",
       "</div>"
      ],
      "text/plain": [
       "         words  counts\n",
       "0    r_product   31680\n",
       "1       r_hair   31075\n",
       "2       r_love   23511\n",
       "3      r_great   21789\n",
       "4       r_skin   20322\n",
       "5        r_use   19482\n",
       "6       r_like   18411\n",
       "7       r_good   12862\n",
       "8       r_just   12290\n",
       "9      r_color   12001\n",
       "10      r_used   11427\n",
       "11    r_really   11109\n",
       "12     r_using   10534\n",
       "13     r_works    9209\n",
       "14        r_ve    9160\n",
       "15      r_face    8904\n",
       "16      r_does    8792\n",
       "17      r_time    8732\n",
       "18       r_don    8018\n",
       "19      r_best    7811\n",
       "20       r_day    7781\n",
       "21       r_dry    7503\n",
       "22    r_little    7038\n",
       "23      r_long    7012\n",
       "24     r_doesn    6882\n",
       "25  r_products    6581\n",
       "26     r_smell    6358\n",
       "27      r_nice    6327\n",
       "28     r_years    5682\n",
       "29    r_smells    5348"
      ]
     },
     "execution_count": 28,
     "metadata": {},
     "output_type": "execute_result"
    }
   ],
   "source": [
    "review_word_counts[\"words\"] = 'r_' + review_word_counts['words'].astype(str)\n",
    "review_word_counts"
   ]
  },
  {
   "cell_type": "code",
   "execution_count": 33,
   "id": "1c4f02f4",
   "metadata": {},
   "outputs": [
    {
     "data": {
      "text/html": [
       "<div>\n",
       "<style scoped>\n",
       "    .dataframe tbody tr th:only-of-type {\n",
       "        vertical-align: middle;\n",
       "    }\n",
       "\n",
       "    .dataframe tbody tr th {\n",
       "        vertical-align: top;\n",
       "    }\n",
       "\n",
       "    .dataframe thead th {\n",
       "        text-align: right;\n",
       "    }\n",
       "</style>\n",
       "<table border=\"1\" class=\"dataframe\">\n",
       "  <thead>\n",
       "    <tr style=\"text-align: right;\">\n",
       "      <th>words</th>\n",
       "      <th>r_product</th>\n",
       "      <th>r_hair</th>\n",
       "      <th>r_love</th>\n",
       "      <th>r_great</th>\n",
       "      <th>r_skin</th>\n",
       "      <th>r_use</th>\n",
       "      <th>r_like</th>\n",
       "      <th>r_good</th>\n",
       "      <th>r_just</th>\n",
       "      <th>r_color</th>\n",
       "      <th>...</th>\n",
       "      <th>r_day</th>\n",
       "      <th>r_dry</th>\n",
       "      <th>r_little</th>\n",
       "      <th>r_long</th>\n",
       "      <th>r_doesn</th>\n",
       "      <th>r_products</th>\n",
       "      <th>r_smell</th>\n",
       "      <th>r_nice</th>\n",
       "      <th>r_years</th>\n",
       "      <th>r_smells</th>\n",
       "    </tr>\n",
       "  </thead>\n",
       "  <tbody>\n",
       "    <tr>\n",
       "      <th>0</th>\n",
       "      <td>0</td>\n",
       "      <td>0</td>\n",
       "      <td>0</td>\n",
       "      <td>0</td>\n",
       "      <td>0</td>\n",
       "      <td>0</td>\n",
       "      <td>0</td>\n",
       "      <td>0</td>\n",
       "      <td>0</td>\n",
       "      <td>0</td>\n",
       "      <td>...</td>\n",
       "      <td>1</td>\n",
       "      <td>0</td>\n",
       "      <td>0</td>\n",
       "      <td>0</td>\n",
       "      <td>0</td>\n",
       "      <td>0</td>\n",
       "      <td>0</td>\n",
       "      <td>0</td>\n",
       "      <td>0</td>\n",
       "      <td>0</td>\n",
       "    </tr>\n",
       "    <tr>\n",
       "      <th>1</th>\n",
       "      <td>0</td>\n",
       "      <td>0</td>\n",
       "      <td>0</td>\n",
       "      <td>0</td>\n",
       "      <td>0</td>\n",
       "      <td>0</td>\n",
       "      <td>0</td>\n",
       "      <td>0</td>\n",
       "      <td>0</td>\n",
       "      <td>1</td>\n",
       "      <td>...</td>\n",
       "      <td>0</td>\n",
       "      <td>0</td>\n",
       "      <td>0</td>\n",
       "      <td>0</td>\n",
       "      <td>0</td>\n",
       "      <td>0</td>\n",
       "      <td>0</td>\n",
       "      <td>0</td>\n",
       "      <td>0</td>\n",
       "      <td>0</td>\n",
       "    </tr>\n",
       "    <tr>\n",
       "      <th>2</th>\n",
       "      <td>0</td>\n",
       "      <td>1</td>\n",
       "      <td>0</td>\n",
       "      <td>0</td>\n",
       "      <td>0</td>\n",
       "      <td>0</td>\n",
       "      <td>0</td>\n",
       "      <td>0</td>\n",
       "      <td>0</td>\n",
       "      <td>0</td>\n",
       "      <td>...</td>\n",
       "      <td>0</td>\n",
       "      <td>0</td>\n",
       "      <td>0</td>\n",
       "      <td>0</td>\n",
       "      <td>0</td>\n",
       "      <td>0</td>\n",
       "      <td>0</td>\n",
       "      <td>0</td>\n",
       "      <td>0</td>\n",
       "      <td>0</td>\n",
       "    </tr>\n",
       "    <tr>\n",
       "      <th>3</th>\n",
       "      <td>0</td>\n",
       "      <td>0</td>\n",
       "      <td>1</td>\n",
       "      <td>0</td>\n",
       "      <td>0</td>\n",
       "      <td>0</td>\n",
       "      <td>0</td>\n",
       "      <td>0</td>\n",
       "      <td>0</td>\n",
       "      <td>0</td>\n",
       "      <td>...</td>\n",
       "      <td>0</td>\n",
       "      <td>0</td>\n",
       "      <td>0</td>\n",
       "      <td>0</td>\n",
       "      <td>1</td>\n",
       "      <td>0</td>\n",
       "      <td>0</td>\n",
       "      <td>0</td>\n",
       "      <td>0</td>\n",
       "      <td>0</td>\n",
       "    </tr>\n",
       "    <tr>\n",
       "      <th>4</th>\n",
       "      <td>0</td>\n",
       "      <td>0</td>\n",
       "      <td>0</td>\n",
       "      <td>0</td>\n",
       "      <td>0</td>\n",
       "      <td>0</td>\n",
       "      <td>0</td>\n",
       "      <td>0</td>\n",
       "      <td>0</td>\n",
       "      <td>2</td>\n",
       "      <td>...</td>\n",
       "      <td>0</td>\n",
       "      <td>0</td>\n",
       "      <td>0</td>\n",
       "      <td>0</td>\n",
       "      <td>0</td>\n",
       "      <td>0</td>\n",
       "      <td>0</td>\n",
       "      <td>0</td>\n",
       "      <td>0</td>\n",
       "      <td>0</td>\n",
       "    </tr>\n",
       "    <tr>\n",
       "      <th>...</th>\n",
       "      <td>...</td>\n",
       "      <td>...</td>\n",
       "      <td>...</td>\n",
       "      <td>...</td>\n",
       "      <td>...</td>\n",
       "      <td>...</td>\n",
       "      <td>...</td>\n",
       "      <td>...</td>\n",
       "      <td>...</td>\n",
       "      <td>...</td>\n",
       "      <td>...</td>\n",
       "      <td>...</td>\n",
       "      <td>...</td>\n",
       "      <td>...</td>\n",
       "      <td>...</td>\n",
       "      <td>...</td>\n",
       "      <td>...</td>\n",
       "      <td>...</td>\n",
       "      <td>...</td>\n",
       "      <td>...</td>\n",
       "      <td>...</td>\n",
       "    </tr>\n",
       "    <tr>\n",
       "      <th>97717</th>\n",
       "      <td>0</td>\n",
       "      <td>0</td>\n",
       "      <td>0</td>\n",
       "      <td>0</td>\n",
       "      <td>0</td>\n",
       "      <td>0</td>\n",
       "      <td>0</td>\n",
       "      <td>0</td>\n",
       "      <td>0</td>\n",
       "      <td>0</td>\n",
       "      <td>...</td>\n",
       "      <td>0</td>\n",
       "      <td>0</td>\n",
       "      <td>0</td>\n",
       "      <td>0</td>\n",
       "      <td>0</td>\n",
       "      <td>1</td>\n",
       "      <td>0</td>\n",
       "      <td>0</td>\n",
       "      <td>0</td>\n",
       "      <td>0</td>\n",
       "    </tr>\n",
       "    <tr>\n",
       "      <th>97718</th>\n",
       "      <td>0</td>\n",
       "      <td>0</td>\n",
       "      <td>0</td>\n",
       "      <td>0</td>\n",
       "      <td>0</td>\n",
       "      <td>0</td>\n",
       "      <td>0</td>\n",
       "      <td>0</td>\n",
       "      <td>0</td>\n",
       "      <td>0</td>\n",
       "      <td>...</td>\n",
       "      <td>0</td>\n",
       "      <td>0</td>\n",
       "      <td>0</td>\n",
       "      <td>0</td>\n",
       "      <td>0</td>\n",
       "      <td>0</td>\n",
       "      <td>0</td>\n",
       "      <td>0</td>\n",
       "      <td>0</td>\n",
       "      <td>0</td>\n",
       "    </tr>\n",
       "    <tr>\n",
       "      <th>97719</th>\n",
       "      <td>0</td>\n",
       "      <td>0</td>\n",
       "      <td>0</td>\n",
       "      <td>0</td>\n",
       "      <td>0</td>\n",
       "      <td>0</td>\n",
       "      <td>0</td>\n",
       "      <td>0</td>\n",
       "      <td>0</td>\n",
       "      <td>1</td>\n",
       "      <td>...</td>\n",
       "      <td>0</td>\n",
       "      <td>0</td>\n",
       "      <td>0</td>\n",
       "      <td>0</td>\n",
       "      <td>0</td>\n",
       "      <td>0</td>\n",
       "      <td>0</td>\n",
       "      <td>0</td>\n",
       "      <td>1</td>\n",
       "      <td>0</td>\n",
       "    </tr>\n",
       "    <tr>\n",
       "      <th>97720</th>\n",
       "      <td>0</td>\n",
       "      <td>0</td>\n",
       "      <td>0</td>\n",
       "      <td>0</td>\n",
       "      <td>0</td>\n",
       "      <td>0</td>\n",
       "      <td>0</td>\n",
       "      <td>0</td>\n",
       "      <td>0</td>\n",
       "      <td>1</td>\n",
       "      <td>...</td>\n",
       "      <td>0</td>\n",
       "      <td>0</td>\n",
       "      <td>0</td>\n",
       "      <td>0</td>\n",
       "      <td>0</td>\n",
       "      <td>0</td>\n",
       "      <td>0</td>\n",
       "      <td>0</td>\n",
       "      <td>0</td>\n",
       "      <td>0</td>\n",
       "    </tr>\n",
       "    <tr>\n",
       "      <th>97721</th>\n",
       "      <td>0</td>\n",
       "      <td>0</td>\n",
       "      <td>0</td>\n",
       "      <td>0</td>\n",
       "      <td>0</td>\n",
       "      <td>0</td>\n",
       "      <td>0</td>\n",
       "      <td>0</td>\n",
       "      <td>0</td>\n",
       "      <td>0</td>\n",
       "      <td>...</td>\n",
       "      <td>1</td>\n",
       "      <td>0</td>\n",
       "      <td>0</td>\n",
       "      <td>1</td>\n",
       "      <td>1</td>\n",
       "      <td>0</td>\n",
       "      <td>0</td>\n",
       "      <td>0</td>\n",
       "      <td>0</td>\n",
       "      <td>0</td>\n",
       "    </tr>\n",
       "  </tbody>\n",
       "</table>\n",
       "<p>97722 rows × 30 columns</p>\n",
       "</div>"
      ],
      "text/plain": [
       "words  r_product  r_hair  r_love  r_great  r_skin  r_use  r_like  r_good  \\\n",
       "0              0       0       0        0       0      0       0       0   \n",
       "1              0       0       0        0       0      0       0       0   \n",
       "2              0       1       0        0       0      0       0       0   \n",
       "3              0       0       1        0       0      0       0       0   \n",
       "4              0       0       0        0       0      0       0       0   \n",
       "...          ...     ...     ...      ...     ...    ...     ...     ...   \n",
       "97717          0       0       0        0       0      0       0       0   \n",
       "97718          0       0       0        0       0      0       0       0   \n",
       "97719          0       0       0        0       0      0       0       0   \n",
       "97720          0       0       0        0       0      0       0       0   \n",
       "97721          0       0       0        0       0      0       0       0   \n",
       "\n",
       "words  r_just  r_color  ...  r_day  r_dry  r_little  r_long  r_doesn  \\\n",
       "0           0        0  ...      1      0         0       0        0   \n",
       "1           0        1  ...      0      0         0       0        0   \n",
       "2           0        0  ...      0      0         0       0        0   \n",
       "3           0        0  ...      0      0         0       0        1   \n",
       "4           0        2  ...      0      0         0       0        0   \n",
       "...       ...      ...  ...    ...    ...       ...     ...      ...   \n",
       "97717       0        0  ...      0      0         0       0        0   \n",
       "97718       0        0  ...      0      0         0       0        0   \n",
       "97719       0        1  ...      0      0         0       0        0   \n",
       "97720       0        1  ...      0      0         0       0        0   \n",
       "97721       0        0  ...      1      0         0       1        1   \n",
       "\n",
       "words  r_products  r_smell  r_nice  r_years  r_smells  \n",
       "0               0        0       0        0         0  \n",
       "1               0        0       0        0         0  \n",
       "2               0        0       0        0         0  \n",
       "3               0        0       0        0         0  \n",
       "4               0        0       0        0         0  \n",
       "...           ...      ...     ...      ...       ...  \n",
       "97717           1        0       0        0         0  \n",
       "97718           0        0       0        0         0  \n",
       "97719           0        0       0        1         0  \n",
       "97720           0        0       0        0         0  \n",
       "97721           0        0       0        0         0  \n",
       "\n",
       "[97722 rows x 30 columns]"
      ]
     },
     "execution_count": 33,
     "metadata": {},
     "output_type": "execute_result"
    }
   ],
   "source": [
    "review_vect_df = pd.DataFrame(train_transformed.todense(), columns= review_word_counts[\"words\"])\n",
    "review_vect_df"
   ]
  },
  {
   "cell_type": "code",
   "execution_count": 36,
   "id": "dd51a8e8",
   "metadata": {},
   "outputs": [],
   "source": [
    "trending_graph = pd.concat([train[\"trending_asin\"].reset_index(drop=True), review_vect_df.reset_index(drop=True)], axis=1)"
   ]
  },
  {
   "cell_type": "code",
   "execution_count": 44,
   "id": "f62cfd11",
   "metadata": {},
   "outputs": [],
   "source": [
    "columns = trending_graph.columns[trending_graph.columns.str.startswith('r_')]"
   ]
  },
  {
   "cell_type": "code",
   "execution_count": 51,
   "id": "37f6dd04",
   "metadata": {},
   "outputs": [
    {
     "data": {
      "text/html": [
       "<div>\n",
       "<style scoped>\n",
       "    .dataframe tbody tr th:only-of-type {\n",
       "        vertical-align: middle;\n",
       "    }\n",
       "\n",
       "    .dataframe tbody tr th {\n",
       "        vertical-align: top;\n",
       "    }\n",
       "\n",
       "    .dataframe thead th {\n",
       "        text-align: right;\n",
       "    }\n",
       "</style>\n",
       "<table border=\"1\" class=\"dataframe\">\n",
       "  <thead>\n",
       "    <tr style=\"text-align: right;\">\n",
       "      <th></th>\n",
       "      <th>r_best</th>\n",
       "      <th>r_color</th>\n",
       "      <th>r_day</th>\n",
       "      <th>r_does</th>\n",
       "      <th>r_doesn</th>\n",
       "      <th>r_don</th>\n",
       "      <th>r_dry</th>\n",
       "      <th>r_face</th>\n",
       "      <th>r_good</th>\n",
       "      <th>r_great</th>\n",
       "      <th>...</th>\n",
       "      <th>r_skin</th>\n",
       "      <th>r_smell</th>\n",
       "      <th>r_smells</th>\n",
       "      <th>r_time</th>\n",
       "      <th>r_use</th>\n",
       "      <th>r_used</th>\n",
       "      <th>r_using</th>\n",
       "      <th>r_ve</th>\n",
       "      <th>r_works</th>\n",
       "      <th>r_years</th>\n",
       "    </tr>\n",
       "    <tr>\n",
       "      <th>trending_asin</th>\n",
       "      <th></th>\n",
       "      <th></th>\n",
       "      <th></th>\n",
       "      <th></th>\n",
       "      <th></th>\n",
       "      <th></th>\n",
       "      <th></th>\n",
       "      <th></th>\n",
       "      <th></th>\n",
       "      <th></th>\n",
       "      <th></th>\n",
       "      <th></th>\n",
       "      <th></th>\n",
       "      <th></th>\n",
       "      <th></th>\n",
       "      <th></th>\n",
       "      <th></th>\n",
       "      <th></th>\n",
       "      <th></th>\n",
       "      <th></th>\n",
       "      <th></th>\n",
       "    </tr>\n",
       "  </thead>\n",
       "  <tbody>\n",
       "    <tr>\n",
       "      <th>0</th>\n",
       "      <td>9511</td>\n",
       "      <td>19443</td>\n",
       "      <td>15875</td>\n",
       "      <td>5408</td>\n",
       "      <td>16595</td>\n",
       "      <td>5497</td>\n",
       "      <td>5643</td>\n",
       "      <td>20598</td>\n",
       "      <td>6820</td>\n",
       "      <td>7569</td>\n",
       "      <td>...</td>\n",
       "      <td>5951</td>\n",
       "      <td>9187</td>\n",
       "      <td>5202</td>\n",
       "      <td>27939</td>\n",
       "      <td>6965</td>\n",
       "      <td>29613</td>\n",
       "      <td>15881</td>\n",
       "      <td>6215</td>\n",
       "      <td>6012</td>\n",
       "      <td>8239</td>\n",
       "    </tr>\n",
       "    <tr>\n",
       "      <th>1</th>\n",
       "      <td>1598</td>\n",
       "      <td>2346</td>\n",
       "      <td>4447</td>\n",
       "      <td>919</td>\n",
       "      <td>2887</td>\n",
       "      <td>1084</td>\n",
       "      <td>715</td>\n",
       "      <td>2913</td>\n",
       "      <td>2084</td>\n",
       "      <td>1223</td>\n",
       "      <td>...</td>\n",
       "      <td>931</td>\n",
       "      <td>1347</td>\n",
       "      <td>480</td>\n",
       "      <td>3741</td>\n",
       "      <td>1053</td>\n",
       "      <td>1462</td>\n",
       "      <td>2530</td>\n",
       "      <td>797</td>\n",
       "      <td>1026</td>\n",
       "      <td>970</td>\n",
       "    </tr>\n",
       "  </tbody>\n",
       "</table>\n",
       "<p>2 rows × 30 columns</p>\n",
       "</div>"
      ],
      "text/plain": [
       "               r_best  r_color  r_day  r_does  r_doesn  r_don  r_dry  r_face  \\\n",
       "trending_asin                                                                  \n",
       "0                9511    19443  15875    5408    16595   5497   5643   20598   \n",
       "1                1598     2346   4447     919     2887   1084    715    2913   \n",
       "\n",
       "               r_good  r_great  ...  r_skin  r_smell  r_smells  r_time  r_use  \\\n",
       "trending_asin                   ...                                             \n",
       "0                6820     7569  ...    5951     9187      5202   27939   6965   \n",
       "1                2084     1223  ...     931     1347       480    3741   1053   \n",
       "\n",
       "               r_used  r_using  r_ve  r_works  r_years  \n",
       "trending_asin                                           \n",
       "0               29613    15881  6215     6012     8239  \n",
       "1                1462     2530   797     1026      970  \n",
       "\n",
       "[2 rows x 30 columns]"
      ]
     },
     "execution_count": 51,
     "metadata": {},
     "output_type": "execute_result"
    }
   ],
   "source": [
    "#show graph with different count vectorizer counts\n",
    "df = pd.pivot_table(trending_graph, index = \"trending_asin\",aggfunc = \"sum\")\n",
    "df"
   ]
  },
  {
   "cell_type": "code",
   "execution_count": 74,
   "id": "55a83e96",
   "metadata": {},
   "outputs": [
    {
     "data": {
      "text/plain": [
       "Index(['r_best', 'r_color', 'r_day', 'r_does', 'r_doesn', 'r_don', 'r_dry',\n",
       "       'r_face', 'r_good', 'r_great', 'r_hair', 'r_just', 'r_like', 'r_little',\n",
       "       'r_long', 'r_love', 'r_nice', 'r_product', 'r_products', 'r_really',\n",
       "       'r_skin', 'r_smell', 'r_smells', 'r_time', 'r_use', 'r_used', 'r_using',\n",
       "       'r_ve', 'r_works', 'r_years'],\n",
       "      dtype='object')"
      ]
     },
     "execution_count": 74,
     "metadata": {},
     "output_type": "execute_result"
    }
   ],
   "source": [
    "df.columns"
   ]
  },
  {
   "cell_type": "code",
   "execution_count": 34,
   "id": "3ce6c0e6",
   "metadata": {},
   "outputs": [
    {
     "data": {
      "text/html": [
       "<div>\n",
       "<style scoped>\n",
       "    .dataframe tbody tr th:only-of-type {\n",
       "        vertical-align: middle;\n",
       "    }\n",
       "\n",
       "    .dataframe tbody tr th {\n",
       "        vertical-align: top;\n",
       "    }\n",
       "\n",
       "    .dataframe thead th {\n",
       "        text-align: right;\n",
       "    }\n",
       "</style>\n",
       "<table border=\"1\" class=\"dataframe\">\n",
       "  <thead>\n",
       "    <tr style=\"text-align: right;\">\n",
       "      <th></th>\n",
       "      <th>Unnamed: 0</th>\n",
       "      <th>overall</th>\n",
       "      <th>vote</th>\n",
       "      <th>verified</th>\n",
       "      <th>reviewerID</th>\n",
       "      <th>asin</th>\n",
       "      <th>reviewText</th>\n",
       "      <th>summary</th>\n",
       "      <th>day</th>\n",
       "      <th>month</th>\n",
       "      <th>...</th>\n",
       "      <th>r_day</th>\n",
       "      <th>r_dry</th>\n",
       "      <th>r_little</th>\n",
       "      <th>r_long</th>\n",
       "      <th>r_doesn</th>\n",
       "      <th>r_products</th>\n",
       "      <th>r_smell</th>\n",
       "      <th>r_nice</th>\n",
       "      <th>r_years</th>\n",
       "      <th>r_smells</th>\n",
       "    </tr>\n",
       "  </thead>\n",
       "  <tbody>\n",
       "    <tr>\n",
       "      <th>90569</th>\n",
       "      <td>94571</td>\n",
       "      <td>5.0</td>\n",
       "      <td>0.0</td>\n",
       "      <td>1</td>\n",
       "      <td>A25F71GJ7QWGN1</td>\n",
       "      <td>B00BXKET7G</td>\n",
       "      <td>Works really well as sunscreen, blends nicely ...</td>\n",
       "      <td>blends nicely into my skin tone and doesn't le...</td>\n",
       "      <td>4</td>\n",
       "      <td>6</td>\n",
       "      <td>...</td>\n",
       "      <td>1</td>\n",
       "      <td>0</td>\n",
       "      <td>0</td>\n",
       "      <td>0</td>\n",
       "      <td>0</td>\n",
       "      <td>0</td>\n",
       "      <td>0</td>\n",
       "      <td>0</td>\n",
       "      <td>1</td>\n",
       "      <td>0</td>\n",
       "    </tr>\n",
       "    <tr>\n",
       "      <th>87523</th>\n",
       "      <td>111785</td>\n",
       "      <td>2.0</td>\n",
       "      <td>6.0</td>\n",
       "      <td>1</td>\n",
       "      <td>A2UANQQS3FBS26</td>\n",
       "      <td>B00JB2RFL0</td>\n",
       "      <td>Product wasn't what I was told it would be by ...</td>\n",
       "      <td>Disappointed</td>\n",
       "      <td>10</td>\n",
       "      <td>2</td>\n",
       "      <td>...</td>\n",
       "      <td>0</td>\n",
       "      <td>0</td>\n",
       "      <td>0</td>\n",
       "      <td>0</td>\n",
       "      <td>0</td>\n",
       "      <td>0</td>\n",
       "      <td>0</td>\n",
       "      <td>0</td>\n",
       "      <td>1</td>\n",
       "      <td>0</td>\n",
       "    </tr>\n",
       "  </tbody>\n",
       "</table>\n",
       "<p>2 rows × 49 columns</p>\n",
       "</div>"
      ],
      "text/plain": [
       "       Unnamed: 0  overall  vote  verified      reviewerID        asin  \\\n",
       "90569       94571      5.0   0.0         1  A25F71GJ7QWGN1  B00BXKET7G   \n",
       "87523      111785      2.0   6.0         1  A2UANQQS3FBS26  B00JB2RFL0   \n",
       "\n",
       "                                              reviewText  \\\n",
       "90569  Works really well as sunscreen, blends nicely ...   \n",
       "87523  Product wasn't what I was told it would be by ...   \n",
       "\n",
       "                                                 summary  day  month  ...  \\\n",
       "90569  blends nicely into my skin tone and doesn't le...    4      6  ...   \n",
       "87523                                       Disappointed   10      2  ...   \n",
       "\n",
       "       r_day r_dry  r_little r_long  r_doesn r_products  r_smell  r_nice  \\\n",
       "90569      1     0         0      0        0          0        0       0   \n",
       "87523      0     0         0      0        0          0        0       0   \n",
       "\n",
       "      r_years  r_smells  \n",
       "90569       1         0  \n",
       "87523       1         0  \n",
       "\n",
       "[2 rows x 49 columns]"
      ]
     },
     "execution_count": 34,
     "metadata": {},
     "output_type": "execute_result"
    }
   ],
   "source": [
    "#concatenating neg_vector to test\n",
    "train = pd.concat([train.reset_index(drop=True), review_vect_df.reset_index(drop=True)], axis=1)\n",
    "train.sample(2)"
   ]
  },
  {
   "cell_type": "markdown",
   "id": "94dd0a95",
   "metadata": {},
   "source": [
    "### count vectorizer on review headline"
   ]
  },
  {
   "cell_type": "code",
   "execution_count": 80,
   "id": "4fa95654",
   "metadata": {},
   "outputs": [
    {
     "data": {
      "text/plain": [
       "<97722x12 sparse matrix of type '<class 'numpy.int64'>'\n",
       "\twith 77511 stored elements in Compressed Sparse Row format>"
      ]
     },
     "execution_count": 80,
     "metadata": {},
     "output_type": "execute_result"
    }
   ],
   "source": [
    " from sklearn.feature_extraction.text import CountVectorizer\n",
    "\n",
    "# 1. Instantiate \n",
    "bagofwords = CountVectorizer(stop_words=\"english\",#removing stop words\n",
    "                             min_df=0.02,\n",
    "                             max_features= 2000,        #showing up in minimum 10% of documents     #only selecting 100 columns  \n",
    "                             )    \n",
    "\n",
    "# 2. Fit \n",
    "bagofwords.fit(train['summary'])\n",
    "\n",
    "# 3. Transform\n",
    "train_transformed = bagofwords.transform(train['summary'])\n",
    "train_transformed"
   ]
  },
  {
   "cell_type": "code",
   "execution_count": 81,
   "id": "d40ae0d9",
   "metadata": {},
   "outputs": [
    {
     "data": {
      "text/plain": [
       "(97722, 12)"
      ]
     },
     "execution_count": 81,
     "metadata": {},
     "output_type": "execute_result"
    }
   ],
   "source": [
    "#making into an array\n",
    "train_transformed.toarray().sum(axis=0)\n",
    "train_transformed.shape"
   ]
  },
  {
   "cell_type": "code",
   "execution_count": 82,
   "id": "b0cbad07",
   "metadata": {},
   "outputs": [
    {
     "data": {
      "image/png": "[encoded data removed]",
      "text/plain": [
       "<Figure size 1500x500 with 1 Axes>"
      ]
     },
     "metadata": {},
     "output_type": "display_data"
    }
   ],
   "source": [
    "#plotting it out\n",
    "\n",
    "pos_word_counts = pd.DataFrame(\n",
    "    {\"counts\": train_transformed.toarray().sum(axis=0)},\n",
    "    index=bagofwords.get_feature_names_out()\n",
    ").sort_values(\"counts\", ascending=False)\n",
    "\n",
    "pos_word_counts.head(20).plot(kind=\"barh\", figsize=(15, 5), legend=False, color = \"navy\")\n",
    "plt.title(\"Figure: Top most frequently occurring words in review text\")\n",
    "plt.ylabel(\"Count\")\n",
    "plt.xticks(rotation=45)\n",
    "plt.show()"
   ]
  },
  {
   "cell_type": "markdown",
   "id": "222cfe35",
   "metadata": {},
   "source": [
    "Porter stemmer"
   ]
  },
  {
   "cell_type": "code",
   "execution_count": 92,
   "id": "16b30fbe",
   "metadata": {},
   "outputs": [
    {
     "name": "stdout",
     "output_type": "stream",
     "text": [
      "!\"#$%&'()*+,-./:;<=>?@[\\]^_`{|}~\n"
     ]
    }
   ],
   "source": [
    "# the python string package has a helpful punctuation list\n",
    "import string\n",
    "print(string.punctuation)"
   ]
  },
  {
   "cell_type": "code",
   "execution_count": 103,
   "id": "0e749cc1",
   "metadata": {},
   "outputs": [],
   "source": [
    "# library to clean data\n",
    "import re\n",
    " \n",
    "#to remove stopword\n",
    "from nltk.corpus import stopwords\n",
    " \n",
    "# for Stemming propose\n",
    "from nltk.stem.porter import PorterStemmer\n",
    "\n",
    "ENGLISH_STOP_WORDS = stopwords.words('english')\n",
    "\n",
    "def my_tokenizer(sentence):\n",
    "    '''\n",
    "    Custom tokernizer for preprocessing. \n",
    "    \n",
    "    Input: string, raw document\n",
    "    Output:  \n",
    "    \n",
    "    '''\n",
    "    # remove punctuation and set to lower case\n",
    "    for punctuation_mark in string.punctuation:\n",
    "        sentence = sentence.replace(punctuation_mark,'').lower()\n",
    "\n",
    "    # split sentence into words\n",
    "    listofwords = sentence.split(' ')\n",
    "    listofstemmed_words = []\n",
    "    \n",
    "    ps = PorterStemmer()\n",
    "    \n",
    "    # remove stopwords and any tokens that are just empty strings\n",
    "    for word in listofwords:\n",
    "        if (not word in ENGLISH_STOP_WORDS) and (word!=''):\n",
    "            # Stem words\n",
    "            stemmed_word = ps.stem(word)\n",
    "            listofstemmed_words.append(stemmed_word)\n",
    "\n",
    "    return listofstemmed_words"
   ]
  },
  {
   "cell_type": "code",
   "execution_count": 104,
   "id": "497c8ce8",
   "metadata": {},
   "outputs": [],
   "source": [
    "sentence  = \"the quick fox jumped over the lazy dog\""
   ]
  },
  {
   "cell_type": "code",
   "execution_count": 105,
   "id": "13edcb6e",
   "metadata": {},
   "outputs": [
    {
     "data": {
      "text/plain": [
       "['quick', 'fox', 'jump', 'lazi', 'dog']"
      ]
     },
     "execution_count": 105,
     "metadata": {},
     "output_type": "execute_result"
    }
   ],
   "source": [
    "my_tokenizer(sentence)"
   ]
  },
  {
   "cell_type": "code",
   "execution_count": 108,
   "id": "a2ca5865",
   "metadata": {},
   "outputs": [],
   "source": [
    "train, test  = train_test_split(combined_df, test_size=0.3, stratify= y, random_state = 8)"
   ]
  },
  {
   "cell_type": "code",
   "execution_count": 109,
   "id": "47552894",
   "metadata": {},
   "outputs": [],
   "source": [
    "train_review = train[\"reviewText\"]\n",
    "test_review = test[\"reviewText\"]"
   ]
  },
  {
   "cell_type": "code",
   "execution_count": 110,
   "id": "d456a9f5",
   "metadata": {},
   "outputs": [
    {
     "name": "stderr",
     "output_type": "stream",
     "text": [
      "/Users/mac/opt/anaconda3/lib/python3.9/site-packages/sklearn/feature_extraction/text.py:516: UserWarning: The parameter 'token_pattern' will not be used since 'tokenizer' is not None'\n",
      "  warnings.warn(\n"
     ]
    },
    {
     "data": {
      "text/plain": [
       "(97722, 7343)"
      ]
     },
     "execution_count": 110,
     "metadata": {},
     "output_type": "execute_result"
    }
   ],
   "source": [
    "bagofwords = CountVectorizer(min_df=5, \n",
    "                             tokenizer=my_tokenizer)\n",
    "bagofwords.fit(train_review)\n",
    "\n",
    "X_train_transformed = bagofwords.transform(train_review)\n",
    "X_test_transformed = bagofwords.transform(test_review)\n",
    "\n",
    "X_train_transformed.shape"
   ]
  },
  {
   "cell_type": "code",
   "execution_count": 111,
   "id": "9c09d9af",
   "metadata": {},
   "outputs": [
    {
     "name": "stderr",
     "output_type": "stream",
     "text": [
      "/Users/mac/opt/anaconda3/lib/python3.9/site-packages/sklearn/utils/deprecation.py:87: FutureWarning: Function get_feature_names is deprecated; get_feature_names is deprecated in 1.0 and will be removed in 1.2. Please use get_feature_names_out instead.\n",
      "  warnings.warn(msg, category=FutureWarning)\n"
     ]
    },
    {
     "data": {
      "image/png": "[encoded data removed]",
      "text/plain": [
       "<Figure size 1500x500 with 1 Axes>"
      ]
     },
     "metadata": {},
     "output_type": "display_data"
    }
   ],
   "source": [
    "word_counts = pd.DataFrame(\n",
    "    {\"counts\": X_train_transformed.toarray().sum(axis=0)},\n",
    "    index=bagofwords.get_feature_names()\n",
    ").sort_values(\"counts\", ascending=False)\n",
    "\n",
    "word_counts.head(20).plot(kind=\"bar\", figsize=(15, 5), legend=False)\n",
    "plt.title(\"Top 20 most frequently occurring words\")\n",
    "plt.ylabel(\"Count\")\n",
    "plt.xticks(rotation=45)\n",
    "plt.show()"
   ]
  },
  {
   "cell_type": "markdown",
   "id": "32a7a5ce",
   "metadata": {},
   "source": [
    "bi-grams "
   ]
  },
  {
   "cell_type": "markdown",
   "id": "32393cb4",
   "metadata": {},
   "source": [
    "Tasks-to-do: \n",
    "- add brands \n",
    "- figure out cost\n",
    "- finish count vectorization\n",
    "- remove or account for unnecessary columns"
   ]
  },
  {
   "cell_type": "code",
   "execution_count": null,
   "id": "4653773f",
   "metadata": {},
   "outputs": [],
   "source": []
  },
  {
   "cell_type": "code",
   "execution_count": null,
   "id": "610937a6",
   "metadata": {},
   "outputs": [],
   "source": []
  },
  {
   "cell_type": "code",
   "execution_count": null,
   "id": "95bb5d3a",
   "metadata": {},
   "outputs": [],
   "source": []
  },
  {
   "cell_type": "markdown",
   "id": "f031c527",
   "metadata": {
    "id": "f031c527"
   },
   "source": [
    "Let's refit our best parameters to the model: "
   ]
  },
  {
   "cell_type": "code",
   "execution_count": 76,
   "id": "26176c02",
   "metadata": {},
   "outputs": [],
   "source": [
    "#assigning remainder dataset for X and y \n",
    "y_train= train_df[\"rating\"]\n",
    "X_train = train_df.drop([\"rating\"],axis=1)"
   ]
  },
  {
   "cell_type": "code",
   "execution_count": 77,
   "id": "f17da688",
   "metadata": {},
   "outputs": [],
   "source": [
    "#assigning test dataset for X and y \n",
    "y_test = test_df[\"rating\"]\n",
    "X_test = test_df.drop([\"rating\"],axis=1)"
   ]
  },
  {
   "cell_type": "code",
   "execution_count": 78,
   "id": "41ee7800",
   "metadata": {},
   "outputs": [],
   "source": [
    "# Instantiate the scaler\n",
    "RS = RobustScaler()\n",
    "\n",
    "# Fit the scaler\n",
    "RS.fit(X_train)\n",
    "\n",
    "# Transform the training and test sets \n",
    "X_train_rs = RS.transform(X_train)\n",
    "X_test_rs = RS.transform(X_test)"
   ]
  },
  {
   "cell_type": "code",
   "execution_count": 79,
   "id": "d154018c",
   "metadata": {
    "colab": {
     "base_uri": "https://localhost:8080/",
     "height": 169
    },
    "executionInfo": {
     "elapsed": 463,
     "status": "error",
     "timestamp": 1679238333085,
     "user": {
      "displayName": "Stephanie lo",
      "userId": "06848852662146951897"
     },
     "user_tz": 240
    },
    "id": "d154018c",
    "outputId": "142317e8-44ae-466e-9ff2-e72d45b717c6"
   },
   "outputs": [],
   "source": [
    "#refitting best model\n",
    "logreg2 = LogisticRegression(C = 0.1, \n",
    "                             solver='lbfgs',\n",
    "                            max_iter = 1000)\n",
    "\n",
    "# Fit the model \n",
    "logreg2.fit(X_train_rs, y_train)\n",
    "\n",
    "# Score the model \n",
    "\n",
    "log_train_acc2 = logreg2.score(X_train_rs, y_train)\n",
    "log_test_acc2 = logreg2.score(X_test_rs, y_test)"
   ]
  },
  {
   "cell_type": "code",
   "execution_count": 81,
   "id": "22d9dd76",
   "metadata": {},
   "outputs": [
    {
     "name": "stdout",
     "output_type": "stream",
     "text": [
      "Train Accuracy Score: 83.23%\n",
      "Test Accuracy Score: 78.58000000000001%\n"
     ]
    }
   ],
   "source": [
    "# Score the model \n",
    "print(f\"Train Accuracy Score: {round(log_train_acc2,4)*100}%\")\n",
    "print(f\"Test Accuracy Score: {round(log_test_acc2 ,4)*100}%\")"
   ]
  },
  {
   "cell_type": "markdown",
   "id": "1e2ca82e",
   "metadata": {},
   "source": [
    "Compared to our initial logistic regression model where the test accuracy was 73% we can see that although out train accuracy score is slightly lower than 89% at 83%, we can see that it fits slightly better at 78% to the test set which is a promising sign."
   ]
  },
  {
   "cell_type": "markdown",
   "id": "cf580d28",
   "metadata": {
    "id": "cf580d28"
   },
   "source": [
    "### 6.2. Confusion Matrix <a id=\"ConfusionMatrix\"></a>"
   ]
  },
  {
   "cell_type": "markdown",
   "id": "cdfe69a4",
   "metadata": {
    "id": "cdfe69a4"
   },
   "source": [
    "How does this measure up when we create our confusion matrix? A confusion matrix is able to assess the performance of our model, by being able to classify how much precision vs. recall we have when fitted on our test set. Let's plot this: "
   ]
  },
  {
   "cell_type": "code",
   "execution_count": 139,
   "id": "c537c5df",
   "metadata": {
    "id": "c537c5df"
   },
   "outputs": [
    {
     "data": {
      "text/html": [
       "<div>\n",
       "<style scoped>\n",
       "    .dataframe tbody tr th:only-of-type {\n",
       "        vertical-align: middle;\n",
       "    }\n",
       "\n",
       "    .dataframe tbody tr th {\n",
       "        vertical-align: top;\n",
       "    }\n",
       "\n",
       "    .dataframe thead th {\n",
       "        text-align: right;\n",
       "    }\n",
       "</style>\n",
       "<table border=\"1\" class=\"dataframe\">\n",
       "  <thead>\n",
       "    <tr style=\"text-align: right;\">\n",
       "      <th></th>\n",
       "      <th>Predicted Bad Review</th>\n",
       "      <th>Predicted Positive Review</th>\n",
       "    </tr>\n",
       "  </thead>\n",
       "  <tbody>\n",
       "    <tr>\n",
       "      <th>True Negative Review</th>\n",
       "      <td>1328</td>\n",
       "      <td>481</td>\n",
       "    </tr>\n",
       "    <tr>\n",
       "      <th>True Positive Review</th>\n",
       "      <td>433</td>\n",
       "      <td>2025</td>\n",
       "    </tr>\n",
       "  </tbody>\n",
       "</table>\n",
       "</div>"
      ],
      "text/plain": [
       "                      Predicted Bad Review  Predicted Positive Review\n",
       "True Negative Review                  1328                        481\n",
       "True Positive Review                   433                       2025"
      ]
     },
     "metadata": {},
     "output_type": "display_data"
    }
   ],
   "source": [
    "from sklearn.metrics import confusion_matrix, ConfusionMatrixDisplay\n",
    "\n",
    "# Get class predictions\n",
    "y_pred = logreg2.predict(X_test_rs)\n",
    "\n",
    "# Generate confusion matrix\n",
    "cf_matrix = confusion_matrix(y_test, y_pred)\n",
    "\n",
    "# label rows and columns\n",
    "cf_df = pd.DataFrame(\n",
    "    cf_matrix, \n",
    "    columns=[\"Predicted Bad Review\", \"Predicted Positive Review\"],\n",
    "    index=[\"True Negative Review\", \"True Positive Review\"]\n",
    ")\n",
    "\n",
    "display(cf_df)"
   ]
  },
  {
   "cell_type": "code",
   "execution_count": 140,
   "id": "dee5c282",
   "metadata": {
    "id": "dee5c282"
   },
   "outputs": [
    {
     "data": {
      "image/png": "[encoded data removed]",
      "text/plain": [
       "<Figure size 800x600 with 2 Axes>"
      ]
     },
     "metadata": {},
     "output_type": "display_data"
    }
   ],
   "source": [
    "# the function expects the estimator, inputs and target as parameters\n",
    "ConfusionMatrixDisplay.from_estimator(logreg2, X_test_rs, y_test,)\n",
    "plt.title(\"Figure 6: Confusion Matrix of Best Logistic Regression model\")\n",
    "plt.show()"
   ]
  },
  {
   "cell_type": "markdown",
   "id": "d9304cb5",
   "metadata": {
    "id": "d9304cb5"
   },
   "source": [
    "The way that we can interpret figure 6 above are as follows: \n",
    "\n",
    "* **TN**: 1328 data points from class 0 were correctly predicted as being a negative review.\n",
    "* **TP**: 2025 data points from class 1 were correctly predicted as being a negative review. \n",
    "* **FP**: 481 data points from class 1 were incorrectly classified as being positive. \n",
    "* **FN**: 433 data points from class 0 were incorrectly classified as being negative. \n"
   ]
  },
  {
   "cell_type": "code",
   "execution_count": 155,
   "id": "92a0c341",
   "metadata": {},
   "outputs": [],
   "source": [
    "fn = cf_matrix[1, 0] \n",
    "fp = cf_matrix[0, 1] \n",
    "tp = cf_matrix[1, 1]"
   ]
  },
  {
   "cell_type": "code",
   "execution_count": 157,
   "id": "f890313e",
   "metadata": {},
   "outputs": [
    {
     "name": "stdout",
     "output_type": "stream",
     "text": [
      "Precision is 81.0%\n",
      "Recall is 82.0%\n"
     ]
    }
   ],
   "source": [
    "# calculate precision\n",
    "# true label 1 & predicted label 1\n",
    "\n",
    "precision = tp/(tp+fp)\n",
    "recall = tp/(tp+fn)\n",
    "\n",
    "print(f\"Precision is {round(precision,2)*100}%\")\n",
    "print(f\"Recall is {round(recall,2)*100}%\")"
   ]
  },
  {
   "cell_type": "code",
   "execution_count": 69,
   "id": "4a140a8e",
   "metadata": {},
   "outputs": [
    {
     "name": "stdout",
     "output_type": "stream",
     "text": [
      "              precision    recall  f1-score   support\n",
      "\n",
      "           0       0.74      0.73      0.73      1809\n",
      "           1       0.80      0.81      0.81      2458\n",
      "\n",
      "    accuracy                           0.78      4267\n",
      "   macro avg       0.77      0.77      0.77      4267\n",
      "weighted avg       0.78      0.78      0.78      4267\n",
      "\n"
     ]
    }
   ],
   "source": [
    "#classification\n",
    "from sklearn.metrics import classification_report\n",
    "\n",
    "report_logreg = classification_report(y_test, y_pred)\n",
    "print(report_logreg)"
   ]
  },
  {
   "cell_type": "code",
   "execution_count": 159,
   "id": "53ebd58e",
   "metadata": {},
   "outputs": [
    {
     "data": {
      "text/plain": [
       "57.6077"
      ]
     },
     "execution_count": 159,
     "metadata": {},
     "output_type": "execute_result"
    }
   ],
   "source": [
    "#baseline perecentage\n",
    "round(y_train.sum()/y_train.shape[0]*100,4)"
   ]
  },
  {
   "cell_type": "markdown",
   "id": "86a5efbd",
   "metadata": {},
   "source": [
    "Overall we can see from the classification report above and taking into account the recall and accuracy, right now we have a balance in the level of false positives and false negatives that we are generating. The F1 score also sees this too, where we are able able to get a score of 0.81. Let's not forget our baseline accuracy of 58% so we have improved the accuracy overall and improved the chances of predicting a positive or negative review. "
   ]
  },
  {
   "cell_type": "markdown",
   "id": "e4255e2c",
   "metadata": {
    "id": "e4255e2c"
   },
   "source": [
    "## 7. Feature Engineering <a id=\"Feature\"></a>"
   ]
  },
  {
   "cell_type": "markdown",
   "id": "59aed3f8",
   "metadata": {
    "id": "59aed3f8"
   },
   "source": [
    "One of the ways we can add value to the modeling process is by feature engineering. Let's explore the dataset and see if there is a feature we can create. We can bring up our training data set again: "
   ]
  },
  {
   "cell_type": "code",
   "execution_count": 160,
   "id": "fa5158fd",
   "metadata": {},
   "outputs": [
    {
     "data": {
      "text/html": [
       "<div>\n",
       "<style scoped>\n",
       "    .dataframe tbody tr th:only-of-type {\n",
       "        vertical-align: middle;\n",
       "    }\n",
       "\n",
       "    .dataframe tbody tr th {\n",
       "        vertical-align: top;\n",
       "    }\n",
       "\n",
       "    .dataframe thead th {\n",
       "        text-align: right;\n",
       "    }\n",
       "</style>\n",
       "<table border=\"1\" class=\"dataframe\">\n",
       "  <thead>\n",
       "    <tr style=\"text-align: right;\">\n",
       "      <th></th>\n",
       "      <th>Additional_Number_of_Scoring</th>\n",
       "      <th>Average_Score</th>\n",
       "      <th>Review_Total_Negative_Word_Counts</th>\n",
       "      <th>Total_Number_of_Reviews</th>\n",
       "      <th>Review_Total_Positive_Word_Counts</th>\n",
       "      <th>Total_Number_of_Reviews_Reviewer_Has_Given</th>\n",
       "      <th>days_since_review</th>\n",
       "      <th>lat</th>\n",
       "      <th>lng</th>\n",
       "      <th>weekday_of_review</th>\n",
       "      <th>...</th>\n",
       "      <th>n_worry</th>\n",
       "      <th>n_worth</th>\n",
       "      <th>n_would</th>\n",
       "      <th>n_write</th>\n",
       "      <th>n_wrong</th>\n",
       "      <th>n_year</th>\n",
       "      <th>n_yes</th>\n",
       "      <th>n_yet</th>\n",
       "      <th>n_young</th>\n",
       "      <th>rating</th>\n",
       "    </tr>\n",
       "  </thead>\n",
       "  <tbody>\n",
       "    <tr>\n",
       "      <th>8309</th>\n",
       "      <td>475</td>\n",
       "      <td>8.9</td>\n",
       "      <td>0</td>\n",
       "      <td>2007</td>\n",
       "      <td>23</td>\n",
       "      <td>10</td>\n",
       "      <td>440</td>\n",
       "      <td>51.505418</td>\n",
       "      <td>-0.124150</td>\n",
       "      <td>4</td>\n",
       "      <td>...</td>\n",
       "      <td>0</td>\n",
       "      <td>0</td>\n",
       "      <td>0</td>\n",
       "      <td>0</td>\n",
       "      <td>0</td>\n",
       "      <td>0</td>\n",
       "      <td>0</td>\n",
       "      <td>0</td>\n",
       "      <td>0</td>\n",
       "      <td>1</td>\n",
       "    </tr>\n",
       "    <tr>\n",
       "      <th>3399</th>\n",
       "      <td>397</td>\n",
       "      <td>8.3</td>\n",
       "      <td>62</td>\n",
       "      <td>1640</td>\n",
       "      <td>16</td>\n",
       "      <td>4</td>\n",
       "      <td>541</td>\n",
       "      <td>51.542148</td>\n",
       "      <td>-0.170307</td>\n",
       "      <td>1</td>\n",
       "      <td>...</td>\n",
       "      <td>0</td>\n",
       "      <td>0</td>\n",
       "      <td>0</td>\n",
       "      <td>0</td>\n",
       "      <td>0</td>\n",
       "      <td>0</td>\n",
       "      <td>0</td>\n",
       "      <td>0</td>\n",
       "      <td>0</td>\n",
       "      <td>0</td>\n",
       "    </tr>\n",
       "  </tbody>\n",
       "</table>\n",
       "<p>2 rows × 2744 columns</p>\n",
       "</div>"
      ],
      "text/plain": [
       "      Additional_Number_of_Scoring  Average_Score  \\\n",
       "8309                           475            8.9   \n",
       "3399                           397            8.3   \n",
       "\n",
       "      Review_Total_Negative_Word_Counts  Total_Number_of_Reviews  \\\n",
       "8309                                  0                     2007   \n",
       "3399                                 62                     1640   \n",
       "\n",
       "      Review_Total_Positive_Word_Counts  \\\n",
       "8309                                 23   \n",
       "3399                                 16   \n",
       "\n",
       "      Total_Number_of_Reviews_Reviewer_Has_Given  days_since_review  \\\n",
       "8309                                          10                440   \n",
       "3399                                           4                541   \n",
       "\n",
       "            lat       lng  weekday_of_review  ...  n_worry  n_worth  n_would  \\\n",
       "8309  51.505418 -0.124150                  4  ...        0        0        0   \n",
       "3399  51.542148 -0.170307                  1  ...        0        0        0   \n",
       "\n",
       "      n_write  n_wrong  n_year  n_yes  n_yet  n_young  rating  \n",
       "8309        0        0       0      0      0        0       1  \n",
       "3399        0        0       0      0      0        0       0  \n",
       "\n",
       "[2 rows x 2744 columns]"
      ]
     },
     "execution_count": 160,
     "metadata": {},
     "output_type": "execute_result"
    }
   ],
   "source": [
    "train_df.sample(2)"
   ]
  },
  {
   "cell_type": "markdown",
   "id": "b5785a6b",
   "metadata": {},
   "source": [
    "Let's see if any of the numerical columns might have any key differences when comparing against our `rating` column. "
   ]
  },
  {
   "cell_type": "code",
   "execution_count": 163,
   "id": "c42fffc6",
   "metadata": {},
   "outputs": [
    {
     "data": {
      "text/html": [
       "<div>\n",
       "<style scoped>\n",
       "    .dataframe tbody tr th:only-of-type {\n",
       "        vertical-align: middle;\n",
       "    }\n",
       "\n",
       "    .dataframe tbody tr th {\n",
       "        vertical-align: top;\n",
       "    }\n",
       "\n",
       "    .dataframe thead tr th {\n",
       "        text-align: left;\n",
       "    }\n",
       "\n",
       "    .dataframe thead tr:last-of-type th {\n",
       "        text-align: right;\n",
       "    }\n",
       "</style>\n",
       "<table border=\"1\" class=\"dataframe\">\n",
       "  <thead>\n",
       "    <tr>\n",
       "      <th></th>\n",
       "      <th colspan=\"2\" halign=\"left\">Total_Number_of_Reviews_Reviewer_Has_Given</th>\n",
       "      <th colspan=\"2\" halign=\"left\">Additional_Number_of_Scoring</th>\n",
       "      <th colspan=\"2\" halign=\"left\">Review_Total_Negative_Word_Counts</th>\n",
       "      <th colspan=\"2\" halign=\"left\">Review_Total_Positive_Word_Counts</th>\n",
       "    </tr>\n",
       "    <tr>\n",
       "      <th></th>\n",
       "      <th>std</th>\n",
       "      <th>mean</th>\n",
       "      <th>std</th>\n",
       "      <th>mean</th>\n",
       "      <th>std</th>\n",
       "      <th>mean</th>\n",
       "      <th>std</th>\n",
       "      <th>mean</th>\n",
       "    </tr>\n",
       "    <tr>\n",
       "      <th>rating</th>\n",
       "      <th></th>\n",
       "      <th></th>\n",
       "      <th></th>\n",
       "      <th></th>\n",
       "      <th></th>\n",
       "      <th></th>\n",
       "      <th></th>\n",
       "      <th></th>\n",
       "    </tr>\n",
       "  </thead>\n",
       "  <tbody>\n",
       "    <tr>\n",
       "      <th>0</th>\n",
       "      <td>8.471634</td>\n",
       "      <td>5.139908</td>\n",
       "      <td>653.605888</td>\n",
       "      <td>778.625069</td>\n",
       "      <td>39.475297</td>\n",
       "      <td>30.404055</td>\n",
       "      <td>14.114507</td>\n",
       "      <td>11.814562</td>\n",
       "    </tr>\n",
       "    <tr>\n",
       "      <th>1</th>\n",
       "      <td>7.718592</td>\n",
       "      <td>5.040011</td>\n",
       "      <td>559.009829</td>\n",
       "      <td>713.422081</td>\n",
       "      <td>17.693607</td>\n",
       "      <td>11.114879</td>\n",
       "      <td>21.245001</td>\n",
       "      <td>19.839278</td>\n",
       "    </tr>\n",
       "  </tbody>\n",
       "</table>\n",
       "</div>"
      ],
      "text/plain": [
       "       Total_Number_of_Reviews_Reviewer_Has_Given            \\\n",
       "                                              std      mean   \n",
       "rating                                                        \n",
       "0                                        8.471634  5.139908   \n",
       "1                                        7.718592  5.040011   \n",
       "\n",
       "       Additional_Number_of_Scoring              \\\n",
       "                                std        mean   \n",
       "rating                                            \n",
       "0                        653.605888  778.625069   \n",
       "1                        559.009829  713.422081   \n",
       "\n",
       "       Review_Total_Negative_Word_Counts             \\\n",
       "                                     std       mean   \n",
       "rating                                                \n",
       "0                              39.475297  30.404055   \n",
       "1                              17.693607  11.114879   \n",
       "\n",
       "       Review_Total_Positive_Word_Counts             \n",
       "                                     std       mean  \n",
       "rating                                               \n",
       "0                              14.114507  11.814562  \n",
       "1                              21.245001  19.839278  "
      ]
     },
     "execution_count": 163,
     "metadata": {},
     "output_type": "execute_result"
    }
   ],
   "source": [
    "train_df.groupby(\"rating\")[[\"Total_Number_of_Reviews_Reviewer_Has_Given\",\"Additional_Number_of_Scoring\",\"Review_Total_Negative_Word_Counts\", \"Review_Total_Positive_Word_Counts\"]].agg([\"std\",\"mean\"])"
   ]
  },
  {
   "cell_type": "markdown",
   "id": "9c2dc491",
   "metadata": {},
   "source": [
    "It looks like there are some differences in review_total_negative_word_counts and Review_Total_Positive_Word_Counts when comparing the rating column. For example we see that reviews classified as negative see more word counts when writing about the negative (mean of 30), and they write less in the positive (mean of 11). Similarly with those classified as an excellent review, they write more words in the positive review section versus the negative. "
   ]
  },
  {
   "cell_type": "markdown",
   "id": "79daa63b",
   "metadata": {},
   "source": [
    "We can look at this a little more in detail by plotting out a box plot to assess. "
   ]
  },
  {
   "cell_type": "code",
   "execution_count": 183,
   "id": "47d136d3",
   "metadata": {},
   "outputs": [
    {
     "data": {
      "image/png": "[encoded data removed]",
      "text/plain": [
       "<Figure size 800x600 with 2 Axes>"
      ]
     },
     "metadata": {},
     "output_type": "display_data"
    }
   ],
   "source": [
    "fig, axes = plt.subplots(1, 2)\n",
    "\n",
    "sns.boxplot( x='rating', y='Review_Total_Negative_Word_Counts', data=train_df,ax=axes[0])\n",
    "sns.boxplot( x='rating', y='Review_Total_Positive_Word_Counts', data=train_df,ax=axes[1])\n",
    "\n",
    "plt.show()"
   ]
  },
  {
   "cell_type": "markdown",
   "id": "2ea5accf",
   "metadata": {},
   "source": [
    "Overall we can see that the length of the review word count does seem to change based on if a user gives the score an excellent rating (between 9 and 10) where we can see that the interquartile range is much larger and reaches up to 50 word counts versus they would write less on the negatives (since they may not have anything to say about it). Therefore, we could look to manipulate these columns so that they hold more weight when modeling. "
   ]
  },
  {
   "cell_type": "markdown",
   "id": "0ef45842",
   "metadata": {},
   "source": [
    "### 7.1. Reasoning <a id=\"Why\"></a>"
   ]
  },
  {
   "cell_type": "markdown",
   "id": "b19aaa6e",
   "metadata": {},
   "source": [
    "In the previous section we explored why `Review_Total_Negative_Word_Counts` and `Review_Total_Positive_Word_Counts` could have an impact on the final model, so let's just take a look quickly at the distributions: "
   ]
  },
  {
   "cell_type": "code",
   "execution_count": 194,
   "id": "dee6b7d2",
   "metadata": {},
   "outputs": [],
   "source": [
    "numeric_columns = [\"Review_Total_Negative_Word_Counts\",\"Review_Total_Positive_Word_Counts\"]"
   ]
  },
  {
   "cell_type": "code",
   "execution_count": 197,
   "id": "a175e78f",
   "metadata": {},
   "outputs": [
    {
     "data": {
      "image/png": "[encoded data removed]",
      "text/plain": [
       "<Figure size 1500x800 with 2 Axes>"
      ]
     },
     "metadata": {},
     "output_type": "display_data"
    }
   ],
   "source": [
    "#For loop to look through numerical columns and plot on graph\n",
    "\n",
    "# Set up grid of subplots\n",
    "plt.subplots(1,2,figsize=(15,8))\n",
    "\n",
    "# Initialize counter\n",
    "plot_num=1\n",
    "\n",
    "# Loop through column names in list\n",
    "for col in numeric_columns:\n",
    "        \n",
    "    var = train_df[col]\n",
    "    var_mean = var.mean()\n",
    "    var_median = var.median()\n",
    "    \n",
    "    plt.subplot(1,2,plot_num)\n",
    "    sns.histplot(var, color= \"navy\")\n",
    "    plt.axvline(var_mean, c='r', label='Mean')\n",
    "    plt.axvline(var_median, c='g', label='Median')\n",
    "    plt.legend()\n",
    "\n",
    "\n",
    "    plot_num +=1\n",
    "\n",
    "# This ensures the subplots do not overlap\n",
    "plt.tight_layout()\n",
    "\n",
    "plt.show()"
   ]
  },
  {
   "cell_type": "markdown",
   "id": "9bc7fcfd",
   "metadata": {},
   "source": [
    "We can see in both cases large right skews to this data, one way to feature engineer is to see perform a log function to try and equally distribute the data. Performing a log function will aim to do a couple of things: \n",
    "- help handle skewed data \n",
    "- decrease the effect of outliers, due to the help of normalizing the data so the model will become more robust. "
   ]
  },
  {
   "cell_type": "markdown",
   "id": "7ae77079",
   "metadata": {},
   "source": [
    "Let's create a new dataset for our train and test sets: "
   ]
  },
  {
   "cell_type": "code",
   "execution_count": 212,
   "id": "41953b56",
   "metadata": {},
   "outputs": [
    {
     "data": {
      "text/html": [
       "<div>\n",
       "<style scoped>\n",
       "    .dataframe tbody tr th:only-of-type {\n",
       "        vertical-align: middle;\n",
       "    }\n",
       "\n",
       "    .dataframe tbody tr th {\n",
       "        vertical-align: top;\n",
       "    }\n",
       "\n",
       "    .dataframe thead th {\n",
       "        text-align: right;\n",
       "    }\n",
       "</style>\n",
       "<table border=\"1\" class=\"dataframe\">\n",
       "  <thead>\n",
       "    <tr style=\"text-align: right;\">\n",
       "      <th></th>\n",
       "      <th>Additional_Number_of_Scoring</th>\n",
       "      <th>Average_Score</th>\n",
       "      <th>Review_Total_Negative_Word_Counts</th>\n",
       "      <th>Total_Number_of_Reviews</th>\n",
       "      <th>Review_Total_Positive_Word_Counts</th>\n",
       "      <th>Total_Number_of_Reviews_Reviewer_Has_Given</th>\n",
       "      <th>days_since_review</th>\n",
       "      <th>lat</th>\n",
       "      <th>lng</th>\n",
       "      <th>weekday_of_review</th>\n",
       "      <th>...</th>\n",
       "      <th>n_worry</th>\n",
       "      <th>n_worth</th>\n",
       "      <th>n_would</th>\n",
       "      <th>n_write</th>\n",
       "      <th>n_wrong</th>\n",
       "      <th>n_year</th>\n",
       "      <th>n_yes</th>\n",
       "      <th>n_yet</th>\n",
       "      <th>n_young</th>\n",
       "      <th>rating</th>\n",
       "    </tr>\n",
       "  </thead>\n",
       "  <tbody>\n",
       "    <tr>\n",
       "      <th>12434</th>\n",
       "      <td>153</td>\n",
       "      <td>8.4</td>\n",
       "      <td>3</td>\n",
       "      <td>476</td>\n",
       "      <td>13</td>\n",
       "      <td>1</td>\n",
       "      <td>160</td>\n",
       "      <td>51.424241</td>\n",
       "      <td>-0.229350</td>\n",
       "      <td>4</td>\n",
       "      <td>...</td>\n",
       "      <td>0</td>\n",
       "      <td>0</td>\n",
       "      <td>0</td>\n",
       "      <td>0</td>\n",
       "      <td>0</td>\n",
       "      <td>0</td>\n",
       "      <td>0</td>\n",
       "      <td>0</td>\n",
       "      <td>0</td>\n",
       "      <td>1</td>\n",
       "    </tr>\n",
       "    <tr>\n",
       "      <th>3424</th>\n",
       "      <td>386</td>\n",
       "      <td>8.7</td>\n",
       "      <td>36</td>\n",
       "      <td>1478</td>\n",
       "      <td>25</td>\n",
       "      <td>1</td>\n",
       "      <td>364</td>\n",
       "      <td>51.513928</td>\n",
       "      <td>-0.127151</td>\n",
       "      <td>3</td>\n",
       "      <td>...</td>\n",
       "      <td>0</td>\n",
       "      <td>0</td>\n",
       "      <td>0</td>\n",
       "      <td>0</td>\n",
       "      <td>0</td>\n",
       "      <td>0</td>\n",
       "      <td>0</td>\n",
       "      <td>0</td>\n",
       "      <td>0</td>\n",
       "      <td>0</td>\n",
       "    </tr>\n",
       "  </tbody>\n",
       "</table>\n",
       "<p>2 rows × 2744 columns</p>\n",
       "</div>"
      ],
      "text/plain": [
       "       Additional_Number_of_Scoring  Average_Score  \\\n",
       "12434                           153            8.4   \n",
       "3424                            386            8.7   \n",
       "\n",
       "       Review_Total_Negative_Word_Counts  Total_Number_of_Reviews  \\\n",
       "12434                                  3                      476   \n",
       "3424                                  36                     1478   \n",
       "\n",
       "       Review_Total_Positive_Word_Counts  \\\n",
       "12434                                 13   \n",
       "3424                                  25   \n",
       "\n",
       "       Total_Number_of_Reviews_Reviewer_Has_Given  days_since_review  \\\n",
       "12434                                           1                160   \n",
       "3424                                            1                364   \n",
       "\n",
       "             lat       lng  weekday_of_review  ...  n_worry  n_worth  n_would  \\\n",
       "12434  51.424241 -0.229350                  4  ...        0        0        0   \n",
       "3424   51.513928 -0.127151                  3  ...        0        0        0   \n",
       "\n",
       "       n_write  n_wrong  n_year  n_yes  n_yet  n_young  rating  \n",
       "12434        0        0       0      0      0        0       1  \n",
       "3424         0        0       0      0      0        0       0  \n",
       "\n",
       "[2 rows x 2744 columns]"
      ]
     },
     "execution_count": 212,
     "metadata": {},
     "output_type": "execute_result"
    }
   ],
   "source": [
    "#creating train_df \n",
    "log_train_df = train_df.copy()\n",
    "log_train_df.sample(2)"
   ]
  },
  {
   "cell_type": "code",
   "execution_count": 213,
   "id": "cde8b0da",
   "metadata": {},
   "outputs": [
    {
     "data": {
      "text/html": [
       "<div>\n",
       "<style scoped>\n",
       "    .dataframe tbody tr th:only-of-type {\n",
       "        vertical-align: middle;\n",
       "    }\n",
       "\n",
       "    .dataframe tbody tr th {\n",
       "        vertical-align: top;\n",
       "    }\n",
       "\n",
       "    .dataframe thead th {\n",
       "        text-align: right;\n",
       "    }\n",
       "</style>\n",
       "<table border=\"1\" class=\"dataframe\">\n",
       "  <thead>\n",
       "    <tr style=\"text-align: right;\">\n",
       "      <th></th>\n",
       "      <th>Additional_Number_of_Scoring</th>\n",
       "      <th>Average_Score</th>\n",
       "      <th>Review_Total_Negative_Word_Counts</th>\n",
       "      <th>Total_Number_of_Reviews</th>\n",
       "      <th>Review_Total_Positive_Word_Counts</th>\n",
       "      <th>Total_Number_of_Reviews_Reviewer_Has_Given</th>\n",
       "      <th>days_since_review</th>\n",
       "      <th>lat</th>\n",
       "      <th>lng</th>\n",
       "      <th>weekday_of_review</th>\n",
       "      <th>...</th>\n",
       "      <th>n_worry</th>\n",
       "      <th>n_worth</th>\n",
       "      <th>n_would</th>\n",
       "      <th>n_write</th>\n",
       "      <th>n_wrong</th>\n",
       "      <th>n_year</th>\n",
       "      <th>n_yes</th>\n",
       "      <th>n_yet</th>\n",
       "      <th>n_young</th>\n",
       "      <th>rating</th>\n",
       "    </tr>\n",
       "  </thead>\n",
       "  <tbody>\n",
       "    <tr>\n",
       "      <th>1976</th>\n",
       "      <td>1831</td>\n",
       "      <td>8.1</td>\n",
       "      <td>32</td>\n",
       "      <td>7105</td>\n",
       "      <td>30</td>\n",
       "      <td>2</td>\n",
       "      <td>112</td>\n",
       "      <td>51.499046</td>\n",
       "      <td>-0.191707</td>\n",
       "      <td>3</td>\n",
       "      <td>...</td>\n",
       "      <td>0</td>\n",
       "      <td>0</td>\n",
       "      <td>0</td>\n",
       "      <td>0</td>\n",
       "      <td>0</td>\n",
       "      <td>0</td>\n",
       "      <td>0</td>\n",
       "      <td>0</td>\n",
       "      <td>0</td>\n",
       "      <td>1</td>\n",
       "    </tr>\n",
       "    <tr>\n",
       "      <th>2269</th>\n",
       "      <td>475</td>\n",
       "      <td>8.9</td>\n",
       "      <td>0</td>\n",
       "      <td>2007</td>\n",
       "      <td>7</td>\n",
       "      <td>8</td>\n",
       "      <td>16</td>\n",
       "      <td>51.505418</td>\n",
       "      <td>-0.124150</td>\n",
       "      <td>1</td>\n",
       "      <td>...</td>\n",
       "      <td>0</td>\n",
       "      <td>0</td>\n",
       "      <td>0</td>\n",
       "      <td>0</td>\n",
       "      <td>0</td>\n",
       "      <td>0</td>\n",
       "      <td>0</td>\n",
       "      <td>0</td>\n",
       "      <td>0</td>\n",
       "      <td>1</td>\n",
       "    </tr>\n",
       "  </tbody>\n",
       "</table>\n",
       "<p>2 rows × 2744 columns</p>\n",
       "</div>"
      ],
      "text/plain": [
       "      Additional_Number_of_Scoring  Average_Score  \\\n",
       "1976                          1831            8.1   \n",
       "2269                           475            8.9   \n",
       "\n",
       "      Review_Total_Negative_Word_Counts  Total_Number_of_Reviews  \\\n",
       "1976                                 32                     7105   \n",
       "2269                                  0                     2007   \n",
       "\n",
       "      Review_Total_Positive_Word_Counts  \\\n",
       "1976                                 30   \n",
       "2269                                  7   \n",
       "\n",
       "      Total_Number_of_Reviews_Reviewer_Has_Given  days_since_review  \\\n",
       "1976                                           2                112   \n",
       "2269                                           8                 16   \n",
       "\n",
       "            lat       lng  weekday_of_review  ...  n_worry  n_worth  n_would  \\\n",
       "1976  51.499046 -0.191707                  3  ...        0        0        0   \n",
       "2269  51.505418 -0.124150                  1  ...        0        0        0   \n",
       "\n",
       "      n_write  n_wrong  n_year  n_yes  n_yet  n_young  rating  \n",
       "1976        0        0       0      0      0        0       1  \n",
       "2269        0        0       0      0      0        0       1  \n",
       "\n",
       "[2 rows x 2744 columns]"
      ]
     },
     "execution_count": 213,
     "metadata": {},
     "output_type": "execute_result"
    }
   ],
   "source": [
    "#creating test_df \n",
    "log_test_df = test_df.copy()\n",
    "log_test_df.sample(2)"
   ]
  },
  {
   "cell_type": "code",
   "execution_count": 210,
   "id": "74c37a13",
   "metadata": {},
   "outputs": [],
   "source": [
    "log_train_df[\"Review_Total_Negative_Word_Counts\"] = np.log(log_train_df[\"Review_Total_Negative_Word_Counts\"]+1)\n",
    "log_train_df[\"Review_Total_Positive_Word_Counts\"] = np.log(log_train_df[\"Review_Total_Positive_Word_Counts\"]+1)"
   ]
  },
  {
   "cell_type": "code",
   "execution_count": 214,
   "id": "44ea3abf",
   "metadata": {},
   "outputs": [],
   "source": [
    "log_test_df[\"Review_Total_Negative_Word_Counts\"] = np.log(log_test_df[\"Review_Total_Negative_Word_Counts\"]+1)\n",
    "log_test_df[\"Review_Total_Positive_Word_Counts\"] = np.log(log_test_df[\"Review_Total_Positive_Word_Counts\"]+1)"
   ]
  },
  {
   "cell_type": "markdown",
   "id": "4d09346d",
   "metadata": {},
   "source": [
    "Now let's plot out the distributions before and after the log transformation: "
   ]
  },
  {
   "cell_type": "code",
   "execution_count": 211,
   "id": "26887bd9",
   "metadata": {},
   "outputs": [
    {
     "data": {
      "image/png": "[encoded data removed]",
      "text/plain": [
       "<Figure size 1000x500 with 2 Axes>"
      ]
     },
     "metadata": {},
     "output_type": "display_data"
    },
    {
     "data": {
      "image/png": "[encoded data removed]",
      "text/plain": [
       "<Figure size 1000x500 with 2 Axes>"
      ]
     },
     "metadata": {},
     "output_type": "display_data"
    }
   ],
   "source": [
    "#before and after log transformation\n",
    "\n",
    "for column in numeric_columns: \n",
    "    plt.subplots(1,2,figsize=(10,5))\n",
    "    \n",
    "    #processed data\n",
    "    plt.subplot(1,2,1)\n",
    "    \n",
    "    sns.histplot(data=train_df, x= column, bins=20)\n",
    "    plt.axvline(train_df[column].mean(),0,4000, \n",
    "                c= \"orange\", \n",
    "                label=f\"mean {round(train_df[column].mean(),2)}\", \n",
    "                linestyle=\"--\")\n",
    "    plt.axvline(train_df[column].median(),0,4000,\n",
    "                c= \"red\", \n",
    "                label=f\"median {round(train_df[column].median(),2)}\", \n",
    "                linestyle=\"--\")\n",
    "    plt.legend()\n",
    "    plt.title(column)\n",
    "    \n",
    "    #log graph\n",
    "    plt.subplot(1,2,2)\n",
    "    sns.histplot(data=log_train_df, x= column, bins=20)\n",
    "    plt.axvline(log_train_df[column].mean(),0,4000, \n",
    "                c= \"orange\", \n",
    "                label=f\"mean {round(log_processed_data[column].mean(),2)}\", \n",
    "                linestyle=\"--\")\n",
    "    plt.axvline(log_train_df[column].median(),0,4000,\n",
    "                c= \"red\", \n",
    "                label=f\"median {round(log_train_df[column].median(),2)}\", \n",
    "                linestyle=\"--\")\n",
    "    plt.legend()\n",
    "    \n",
    "    plt.title(f\"log + {column}\")\n",
    "    plt.show()"
   ]
  },
  {
   "cell_type": "markdown",
   "id": "15615872",
   "metadata": {},
   "source": [
    "We can see that the 2 columns after the log transformation resemble more normally distributed data. Let's use this and test it out with our final model. "
   ]
  },
  {
   "cell_type": "markdown",
   "id": "3ae37a29",
   "metadata": {
    "id": "3ae37a29"
   },
   "source": [
    "### 7.2. Final model and re-optimization of hyper parameters <a id=\"FinalModel\"></a>"
   ]
  },
  {
   "cell_type": "markdown",
   "id": "08548efa",
   "metadata": {},
   "source": [
    "Now that we have modified some of our columns we will try to refit this model onto our dataset and then retune the hyper parameters. "
   ]
  },
  {
   "cell_type": "code",
   "execution_count": 218,
   "id": "0669e489",
   "metadata": {},
   "outputs": [],
   "source": [
    "#assigning remainder dataset for X and y \n",
    "y_remainder_log= log_train_df[\"rating\"]\n",
    "X_remainder_log  = log_train_df.drop([\"rating\"],axis=1)"
   ]
  },
  {
   "cell_type": "code",
   "execution_count": 216,
   "id": "ba70740b",
   "metadata": {},
   "outputs": [],
   "source": [
    "from sklearn.pipeline import Pipeline\n",
    "from tempfile import mkdtemp\n",
    "# Set up a directory to cache the pipeline results\n",
    "cachedir = mkdtemp()\n",
    "\n",
    "estimators = [('normalise', StandardScaler()),\n",
    "              ('reduce_dim', PCA()),\n",
    "              ('model', LogisticRegression())]\n",
    "\n",
    "pipe = Pipeline(estimators, verbose=4, \n",
    "                memory=cachedir)"
   ]
  },
  {
   "cell_type": "code",
   "execution_count": 217,
   "id": "192ac362",
   "metadata": {
    "id": "192ac362"
   },
   "outputs": [],
   "source": [
    "from sklearn.model_selection import GridSearchCV\n",
    "\n",
    "# Range of c-values \n",
    "c_values = [.001, .1, 1, 10]\n",
    "\n",
    "logreg_param_grid_final = [\n",
    "    \n",
    "    #L2 default without PCA \n",
    "    {'normalise': [StandardScaler(), MinMaxScaler(), RobustScaler()], \n",
    "    'reduce_dim': [None],\n",
    "     'model' : [LogisticRegression(solver='lbfgs', random_state=8, n_jobs=-1,max_iter=10000)],\n",
    "     'model__C': c_values },\n",
    "]"
   ]
  },
  {
   "cell_type": "code",
   "execution_count": 219,
   "id": "4b996e06",
   "metadata": {},
   "outputs": [
    {
     "name": "stdout",
     "output_type": "stream",
     "text": [
      "Fitting 5 folds for each of 12 candidates, totalling 60 fits\n",
      "[Pipeline] ......... (step 1 of 3) Processing normalise, total=   1.8s\n",
      "[Pipeline] ........ (step 2 of 3) Processing reduce_dim, total=   0.0s\n",
      "[Pipeline] ............. (step 3 of 3) Processing model, total=  27.7s\n",
      "[CV 1/5] END model=LogisticRegression(max_iter=10000, n_jobs=-1, random_state=8), model__C=0.001, normalise=StandardScaler(), reduce_dim=None;, score=0.784 total time=  31.6s\n",
      "[Pipeline] ......... (step 1 of 3) Processing normalise, total=   1.0s\n"
     ]
    },
    {
     "name": "stderr",
     "output_type": "stream",
     "text": [
      "/Users/mac/opt/anaconda3/lib/python3.9/site-packages/sklearn/pipeline.py:348: UserWarning: Persisting input arguments took 0.92s to run.\n",
      "If this happens often in your code, it can cause performance problems \n",
      "(results will be correct in all cases). \n",
      "The reason for this is probably some large input arguments for a wrapped\n",
      " function (e.g. large strings).\n",
      "THIS IS A JOBLIB ISSUE. If you can, kindly provide the joblib's team with an\n",
      " example so that they can fix the problem.\n",
      "  X, fitted_transformer = fit_transform_one_cached(\n"
     ]
    },
    {
     "name": "stdout",
     "output_type": "stream",
     "text": [
      "[Pipeline] ........ (step 2 of 3) Processing reduce_dim, total=   0.0s\n",
      "[Pipeline] ............. (step 3 of 3) Processing model, total=  23.1s\n",
      "[CV 2/5] END model=LogisticRegression(max_iter=10000, n_jobs=-1, random_state=8), model__C=0.001, normalise=StandardScaler(), reduce_dim=None;, score=0.776 total time=  26.5s\n",
      "[Pipeline] ......... (step 1 of 3) Processing normalise, total=   1.2s\n",
      "[Pipeline] ........ (step 2 of 3) Processing reduce_dim, total=   0.0s\n",
      "[Pipeline] ............. (step 3 of 3) Processing model, total=  22.8s\n",
      "[CV 3/5] END model=LogisticRegression(max_iter=10000, n_jobs=-1, random_state=8), model__C=0.001, normalise=StandardScaler(), reduce_dim=None;, score=0.772 total time=  25.9s\n",
      "[Pipeline] ......... (step 1 of 3) Processing normalise, total=   1.1s\n",
      "[Pipeline] ........ (step 2 of 3) Processing reduce_dim, total=   0.0s\n",
      "[Pipeline] ............. (step 3 of 3) Processing model, total=  21.5s\n",
      "[CV 4/5] END model=LogisticRegression(max_iter=10000, n_jobs=-1, random_state=8), model__C=0.001, normalise=StandardScaler(), reduce_dim=None;, score=0.781 total time=  24.6s\n",
      "[Pipeline] ......... (step 1 of 3) Processing normalise, total=   1.2s\n",
      "[Pipeline] ........ (step 2 of 3) Processing reduce_dim, total=   0.0s\n",
      "[Pipeline] ............. (step 3 of 3) Processing model, total=  21.6s\n",
      "[CV 5/5] END model=LogisticRegression(max_iter=10000, n_jobs=-1, random_state=8), model__C=0.001, normalise=StandardScaler(), reduce_dim=None;, score=0.769 total time=  24.6s\n",
      "[Pipeline] ......... (step 1 of 3) Processing normalise, total=   0.7s\n"
     ]
    },
    {
     "name": "stderr",
     "output_type": "stream",
     "text": [
      "/Users/mac/opt/anaconda3/lib/python3.9/site-packages/sklearn/pipeline.py:348: UserWarning: Persisting input arguments took 0.56s to run.\n",
      "If this happens often in your code, it can cause performance problems \n",
      "(results will be correct in all cases). \n",
      "The reason for this is probably some large input arguments for a wrapped\n",
      " function (e.g. large strings).\n",
      "THIS IS A JOBLIB ISSUE. If you can, kindly provide the joblib's team with an\n",
      " example so that they can fix the problem.\n",
      "  X, fitted_transformer = fit_transform_one_cached(\n"
     ]
    },
    {
     "name": "stdout",
     "output_type": "stream",
     "text": [
      "[Pipeline] ........ (step 2 of 3) Processing reduce_dim, total=   0.0s\n",
      "[Pipeline] ............. (step 3 of 3) Processing model, total=  11.8s\n",
      "[CV 1/5] END model=LogisticRegression(max_iter=10000, n_jobs=-1, random_state=8), model__C=0.001, normalise=MinMaxScaler(), reduce_dim=None;, score=0.695 total time=  14.3s\n",
      "[Pipeline] ......... (step 1 of 3) Processing normalise, total=   0.7s\n",
      "[Pipeline] ........ (step 2 of 3) Processing reduce_dim, total=   0.0s\n",
      "[Pipeline] ............. (step 3 of 3) Processing model, total=  13.2s\n",
      "[CV 2/5] END model=LogisticRegression(max_iter=10000, n_jobs=-1, random_state=8), model__C=0.001, normalise=MinMaxScaler(), reduce_dim=None;, score=0.664 total time=  15.7s\n",
      "[Pipeline] ......... (step 1 of 3) Processing normalise, total=   0.8s\n",
      "[Pipeline] ........ (step 2 of 3) Processing reduce_dim, total=   0.0s\n",
      "[Pipeline] ............. (step 3 of 3) Processing model, total=  14.2s\n",
      "[CV 3/5] END model=LogisticRegression(max_iter=10000, n_jobs=-1, random_state=8), model__C=0.001, normalise=MinMaxScaler(), reduce_dim=None;, score=0.682 total time=  16.9s\n",
      "[Pipeline] ......... (step 1 of 3) Processing normalise, total=   0.7s\n",
      "[Pipeline] ........ (step 2 of 3) Processing reduce_dim, total=   0.0s\n",
      "[Pipeline] ............. (step 3 of 3) Processing model, total=  13.4s\n",
      "[CV 4/5] END model=LogisticRegression(max_iter=10000, n_jobs=-1, random_state=8), model__C=0.001, normalise=MinMaxScaler(), reduce_dim=None;, score=0.674 total time=  16.0s\n",
      "[Pipeline] ......... (step 1 of 3) Processing normalise, total=   0.7s\n",
      "[Pipeline] ........ (step 2 of 3) Processing reduce_dim, total=   0.0s\n",
      "[Pipeline] ............. (step 3 of 3) Processing model, total=  12.7s\n",
      "[CV 5/5] END model=LogisticRegression(max_iter=10000, n_jobs=-1, random_state=8), model__C=0.001, normalise=MinMaxScaler(), reduce_dim=None;, score=0.670 total time=  15.3s\n",
      "[Pipeline] ......... (step 1 of 3) Processing normalise, total=   1.5s\n",
      "[Pipeline] ........ (step 2 of 3) Processing reduce_dim, total=   0.0s\n",
      "[Pipeline] ............. (step 3 of 3) Processing model, total=  16.2s\n",
      "[CV 1/5] END model=LogisticRegression(max_iter=10000, n_jobs=-1, random_state=8), model__C=0.001, normalise=RobustScaler(), reduce_dim=None;, score=0.774 total time=  19.6s\n",
      "[Pipeline] ......... (step 1 of 3) Processing normalise, total=   1.4s\n",
      "[Pipeline] ........ (step 2 of 3) Processing reduce_dim, total=   0.0s\n",
      "[Pipeline] ............. (step 3 of 3) Processing model, total=  15.2s\n",
      "[CV 2/5] END model=LogisticRegression(max_iter=10000, n_jobs=-1, random_state=8), model__C=0.001, normalise=RobustScaler(), reduce_dim=None;, score=0.769 total time=  18.2s\n",
      "[Pipeline] ......... (step 1 of 3) Processing normalise, total=   1.3s\n",
      "[Pipeline] ........ (step 2 of 3) Processing reduce_dim, total=   0.0s\n",
      "[Pipeline] ............. (step 3 of 3) Processing model, total=  15.1s\n",
      "[CV 3/5] END model=LogisticRegression(max_iter=10000, n_jobs=-1, random_state=8), model__C=0.001, normalise=RobustScaler(), reduce_dim=None;, score=0.773 total time=  18.2s\n",
      "[Pipeline] ......... (step 1 of 3) Processing normalise, total=   1.4s\n",
      "[Pipeline] ........ (step 2 of 3) Processing reduce_dim, total=   0.0s\n",
      "[Pipeline] ............. (step 3 of 3) Processing model, total=  14.9s\n",
      "[CV 4/5] END model=LogisticRegression(max_iter=10000, n_jobs=-1, random_state=8), model__C=0.001, normalise=RobustScaler(), reduce_dim=None;, score=0.767 total time=  18.0s\n",
      "[Pipeline] ......... (step 1 of 3) Processing normalise, total=   2.1s\n"
     ]
    },
    {
     "name": "stderr",
     "output_type": "stream",
     "text": [
      "/Users/mac/opt/anaconda3/lib/python3.9/site-packages/sklearn/pipeline.py:348: UserWarning: Persisting input arguments took 0.52s to run.\n",
      "If this happens often in your code, it can cause performance problems \n",
      "(results will be correct in all cases). \n",
      "The reason for this is probably some large input arguments for a wrapped\n",
      " function (e.g. large strings).\n",
      "THIS IS A JOBLIB ISSUE. If you can, kindly provide the joblib's team with an\n",
      " example so that they can fix the problem.\n",
      "  X, fitted_transformer = fit_transform_one_cached(\n"
     ]
    },
    {
     "name": "stdout",
     "output_type": "stream",
     "text": [
      "[Pipeline] ........ (step 2 of 3) Processing reduce_dim, total=   0.0s\n",
      "[Pipeline] ............. (step 3 of 3) Processing model, total=  15.0s\n",
      "[CV 5/5] END model=LogisticRegression(max_iter=10000, n_jobs=-1, random_state=8), model__C=0.001, normalise=RobustScaler(), reduce_dim=None;, score=0.769 total time=  19.0s\n",
      "[Pipeline] ........ (step 2 of 3) Processing reduce_dim, total=   0.0s\n",
      "[Pipeline] ............. (step 3 of 3) Processing model, total= 1.3min\n",
      "[CV 1/5] END model=LogisticRegression(max_iter=10000, n_jobs=-1, random_state=8), model__C=0.1, normalise=StandardScaler(), reduce_dim=None;, score=0.738 total time= 1.4min\n",
      "[Pipeline] ........ (step 2 of 3) Processing reduce_dim, total=   0.0s\n",
      "[Pipeline] ............. (step 3 of 3) Processing model, total= 1.4min\n",
      "[CV 2/5] END model=LogisticRegression(max_iter=10000, n_jobs=-1, random_state=8), model__C=0.1, normalise=StandardScaler(), reduce_dim=None;, score=0.732 total time= 1.5min\n",
      "[Pipeline] ........ (step 2 of 3) Processing reduce_dim, total=   0.0s\n",
      "[Pipeline] ............. (step 3 of 3) Processing model, total= 1.5min\n",
      "[CV 3/5] END model=LogisticRegression(max_iter=10000, n_jobs=-1, random_state=8), model__C=0.1, normalise=StandardScaler(), reduce_dim=None;, score=0.735 total time= 1.5min\n",
      "[Pipeline] ........ (step 2 of 3) Processing reduce_dim, total=   0.0s\n",
      "[Pipeline] ............. (step 3 of 3) Processing model, total= 1.4min\n",
      "[CV 4/5] END model=LogisticRegression(max_iter=10000, n_jobs=-1, random_state=8), model__C=0.1, normalise=StandardScaler(), reduce_dim=None;, score=0.739 total time= 1.4min\n",
      "[Pipeline] ........ (step 2 of 3) Processing reduce_dim, total=   0.0s\n",
      "[Pipeline] ............. (step 3 of 3) Processing model, total= 1.7min\n",
      "[CV 5/5] END model=LogisticRegression(max_iter=10000, n_jobs=-1, random_state=8), model__C=0.1, normalise=StandardScaler(), reduce_dim=None;, score=0.727 total time= 1.8min\n",
      "[Pipeline] ........ (step 2 of 3) Processing reduce_dim, total=   0.0s\n",
      "[Pipeline] ............. (step 3 of 3) Processing model, total= 1.1min\n",
      "[CV 1/5] END model=LogisticRegression(max_iter=10000, n_jobs=-1, random_state=8), model__C=0.1, normalise=MinMaxScaler(), reduce_dim=None;, score=0.784 total time= 1.1min\n",
      "[Pipeline] ........ (step 2 of 3) Processing reduce_dim, total=   0.0s\n",
      "[Pipeline] ............. (step 3 of 3) Processing model, total=  59.8s\n",
      "[CV 2/5] END model=LogisticRegression(max_iter=10000, n_jobs=-1, random_state=8), model__C=0.1, normalise=MinMaxScaler(), reduce_dim=None;, score=0.787 total time= 1.0min\n",
      "[Pipeline] ........ (step 2 of 3) Processing reduce_dim, total=   0.0s\n",
      "[Pipeline] ............. (step 3 of 3) Processing model, total=  55.0s\n",
      "[CV 3/5] END model=LogisticRegression(max_iter=10000, n_jobs=-1, random_state=8), model__C=0.1, normalise=MinMaxScaler(), reduce_dim=None;, score=0.784 total time=  56.1s\n",
      "[Pipeline] ........ (step 2 of 3) Processing reduce_dim, total=   0.0s\n",
      "[Pipeline] ............. (step 3 of 3) Processing model, total= 1.1min\n",
      "[CV 4/5] END model=LogisticRegression(max_iter=10000, n_jobs=-1, random_state=8), model__C=0.1, normalise=MinMaxScaler(), reduce_dim=None;, score=0.784 total time= 1.1min\n",
      "[Pipeline] ........ (step 2 of 3) Processing reduce_dim, total=   0.0s\n",
      "[Pipeline] ............. (step 3 of 3) Processing model, total=  54.1s\n",
      "[CV 5/5] END model=LogisticRegression(max_iter=10000, n_jobs=-1, random_state=8), model__C=0.1, normalise=MinMaxScaler(), reduce_dim=None;, score=0.774 total time=  55.3s\n",
      "[Pipeline] ........ (step 2 of 3) Processing reduce_dim, total=   0.0s\n",
      "[Pipeline] ............. (step 3 of 3) Processing model, total= 1.7min\n",
      "[CV 1/5] END model=LogisticRegression(max_iter=10000, n_jobs=-1, random_state=8), model__C=0.1, normalise=RobustScaler(), reduce_dim=None;, score=0.793 total time= 1.7min\n",
      "[Pipeline] ........ (step 2 of 3) Processing reduce_dim, total=   0.0s\n",
      "[Pipeline] ............. (step 3 of 3) Processing model, total= 1.7min\n",
      "[CV 2/5] END model=LogisticRegression(max_iter=10000, n_jobs=-1, random_state=8), model__C=0.1, normalise=RobustScaler(), reduce_dim=None;, score=0.789 total time= 1.7min\n",
      "[Pipeline] ........ (step 2 of 3) Processing reduce_dim, total=   0.0s\n",
      "[Pipeline] ............. (step 3 of 3) Processing model, total= 1.6min\n",
      "[CV 3/5] END model=LogisticRegression(max_iter=10000, n_jobs=-1, random_state=8), model__C=0.1, normalise=RobustScaler(), reduce_dim=None;, score=0.788 total time= 1.6min\n",
      "[Pipeline] ........ (step 2 of 3) Processing reduce_dim, total=   0.0s\n",
      "[Pipeline] ............. (step 3 of 3) Processing model, total= 1.3min\n",
      "[CV 4/5] END model=LogisticRegression(max_iter=10000, n_jobs=-1, random_state=8), model__C=0.1, normalise=RobustScaler(), reduce_dim=None;, score=0.787 total time= 1.3min\n",
      "[Pipeline] ........ (step 2 of 3) Processing reduce_dim, total=   0.0s\n",
      "[Pipeline] ............. (step 3 of 3) Processing model, total= 1.2min\n",
      "[CV 5/5] END model=LogisticRegression(max_iter=10000, n_jobs=-1, random_state=8), model__C=0.1, normalise=RobustScaler(), reduce_dim=None;, score=0.777 total time= 1.2min\n",
      "[Pipeline] ........ (step 2 of 3) Processing reduce_dim, total=   0.0s\n",
      "[Pipeline] ............. (step 3 of 3) Processing model, total= 3.1min\n",
      "[CV 1/5] END model=LogisticRegression(max_iter=10000, n_jobs=-1, random_state=8), model__C=1, normalise=StandardScaler(), reduce_dim=None;, score=0.729 total time= 3.1min\n",
      "[Pipeline] ........ (step 2 of 3) Processing reduce_dim, total=   0.0s\n",
      "[Pipeline] ............. (step 3 of 3) Processing model, total= 2.9min\n",
      "[CV 2/5] END model=LogisticRegression(max_iter=10000, n_jobs=-1, random_state=8), model__C=1, normalise=StandardScaler(), reduce_dim=None;, score=0.722 total time= 2.9min\n",
      "[Pipeline] ........ (step 2 of 3) Processing reduce_dim, total=   0.0s\n",
      "[Pipeline] ............. (step 3 of 3) Processing model, total= 3.0min\n",
      "[CV 3/5] END model=LogisticRegression(max_iter=10000, n_jobs=-1, random_state=8), model__C=1, normalise=StandardScaler(), reduce_dim=None;, score=0.728 total time= 3.0min\n",
      "[Pipeline] ........ (step 2 of 3) Processing reduce_dim, total=   0.0s\n",
      "[Pipeline] ............. (step 3 of 3) Processing model, total= 3.0min\n",
      "[CV 4/5] END model=LogisticRegression(max_iter=10000, n_jobs=-1, random_state=8), model__C=1, normalise=StandardScaler(), reduce_dim=None;, score=0.724 total time= 3.0min\n",
      "[Pipeline] ........ (step 2 of 3) Processing reduce_dim, total=   0.0s\n",
      "[Pipeline] ............. (step 3 of 3) Processing model, total= 3.3min\n",
      "[CV 5/5] END model=LogisticRegression(max_iter=10000, n_jobs=-1, random_state=8), model__C=1, normalise=StandardScaler(), reduce_dim=None;, score=0.718 total time= 3.3min\n",
      "[Pipeline] ........ (step 2 of 3) Processing reduce_dim, total=   0.0s\n",
      "[Pipeline] ............. (step 3 of 3) Processing model, total= 2.2min\n",
      "[CV 1/5] END model=LogisticRegression(max_iter=10000, n_jobs=-1, random_state=8), model__C=1, normalise=MinMaxScaler(), reduce_dim=None;, score=0.787 total time= 2.2min\n",
      "[Pipeline] ........ (step 2 of 3) Processing reduce_dim, total=   0.0s\n",
      "[Pipeline] ............. (step 3 of 3) Processing model, total= 2.2min\n",
      "[CV 2/5] END model=LogisticRegression(max_iter=10000, n_jobs=-1, random_state=8), model__C=1, normalise=MinMaxScaler(), reduce_dim=None;, score=0.780 total time= 2.2min\n",
      "[Pipeline] ........ (step 2 of 3) Processing reduce_dim, total=   0.0s\n",
      "[Pipeline] ............. (step 3 of 3) Processing model, total= 2.2min\n",
      "[CV 3/5] END model=LogisticRegression(max_iter=10000, n_jobs=-1, random_state=8), model__C=1, normalise=MinMaxScaler(), reduce_dim=None;, score=0.779 total time= 2.2min\n",
      "[Pipeline] ........ (step 2 of 3) Processing reduce_dim, total=   0.0s\n",
      "[Pipeline] ............. (step 3 of 3) Processing model, total= 2.0min\n",
      "[CV 4/5] END model=LogisticRegression(max_iter=10000, n_jobs=-1, random_state=8), model__C=1, normalise=MinMaxScaler(), reduce_dim=None;, score=0.777 total time= 2.0min\n",
      "[Pipeline] ........ (step 2 of 3) Processing reduce_dim, total=   0.0s\n",
      "[Pipeline] ............. (step 3 of 3) Processing model, total= 2.1min\n",
      "[CV 5/5] END model=LogisticRegression(max_iter=10000, n_jobs=-1, random_state=8), model__C=1, normalise=MinMaxScaler(), reduce_dim=None;, score=0.760 total time= 2.2min\n",
      "[Pipeline] ........ (step 2 of 3) Processing reduce_dim, total=   0.0s\n"
     ]
    },
    {
     "name": "stdout",
     "output_type": "stream",
     "text": [
      "[Pipeline] ............. (step 3 of 3) Processing model, total= 3.0min\n",
      "[CV 1/5] END model=LogisticRegression(max_iter=10000, n_jobs=-1, random_state=8), model__C=1, normalise=RobustScaler(), reduce_dim=None;, score=0.789 total time= 3.0min\n",
      "[Pipeline] ........ (step 2 of 3) Processing reduce_dim, total=   0.0s\n",
      "[Pipeline] ............. (step 3 of 3) Processing model, total= 3.2min\n",
      "[CV 2/5] END model=LogisticRegression(max_iter=10000, n_jobs=-1, random_state=8), model__C=1, normalise=RobustScaler(), reduce_dim=None;, score=0.775 total time= 3.2min\n",
      "[Pipeline] ........ (step 2 of 3) Processing reduce_dim, total=   0.0s\n",
      "[Pipeline] ............. (step 3 of 3) Processing model, total= 3.1min\n",
      "[CV 3/5] END model=LogisticRegression(max_iter=10000, n_jobs=-1, random_state=8), model__C=1, normalise=RobustScaler(), reduce_dim=None;, score=0.776 total time= 3.1min\n",
      "[Pipeline] ........ (step 2 of 3) Processing reduce_dim, total=   0.0s\n",
      "[Pipeline] ............. (step 3 of 3) Processing model, total= 2.9min\n",
      "[CV 4/5] END model=LogisticRegression(max_iter=10000, n_jobs=-1, random_state=8), model__C=1, normalise=RobustScaler(), reduce_dim=None;, score=0.769 total time= 2.9min\n",
      "[Pipeline] ........ (step 2 of 3) Processing reduce_dim, total=   0.0s\n",
      "[Pipeline] ............. (step 3 of 3) Processing model, total= 3.1min\n",
      "[CV 5/5] END model=LogisticRegression(max_iter=10000, n_jobs=-1, random_state=8), model__C=1, normalise=RobustScaler(), reduce_dim=None;, score=0.754 total time= 3.2min\n",
      "[Pipeline] ........ (step 2 of 3) Processing reduce_dim, total=   0.0s\n",
      "[Pipeline] ............. (step 3 of 3) Processing model, total= 6.2min\n",
      "[CV 1/5] END model=LogisticRegression(max_iter=10000, n_jobs=-1, random_state=8), model__C=10, normalise=StandardScaler(), reduce_dim=None;, score=0.724 total time= 6.2min\n",
      "[Pipeline] ........ (step 2 of 3) Processing reduce_dim, total=   0.0s\n",
      "[Pipeline] ............. (step 3 of 3) Processing model, total= 4.3min\n",
      "[CV 2/5] END model=LogisticRegression(max_iter=10000, n_jobs=-1, random_state=8), model__C=10, normalise=StandardScaler(), reduce_dim=None;, score=0.719 total time= 4.3min\n",
      "[Pipeline] ........ (step 2 of 3) Processing reduce_dim, total=   0.0s\n",
      "[Pipeline] ............. (step 3 of 3) Processing model, total= 4.9min\n",
      "[CV 3/5] END model=LogisticRegression(max_iter=10000, n_jobs=-1, random_state=8), model__C=10, normalise=StandardScaler(), reduce_dim=None;, score=0.729 total time= 4.9min\n",
      "[Pipeline] ........ (step 2 of 3) Processing reduce_dim, total=   0.0s\n",
      "[Pipeline] ............. (step 3 of 3) Processing model, total= 4.7min\n",
      "[CV 4/5] END model=LogisticRegression(max_iter=10000, n_jobs=-1, random_state=8), model__C=10, normalise=StandardScaler(), reduce_dim=None;, score=0.721 total time= 4.8min\n",
      "[Pipeline] ........ (step 2 of 3) Processing reduce_dim, total=   0.0s\n",
      "[Pipeline] ............. (step 3 of 3) Processing model, total= 5.3min\n",
      "[CV 5/5] END model=LogisticRegression(max_iter=10000, n_jobs=-1, random_state=8), model__C=10, normalise=StandardScaler(), reduce_dim=None;, score=0.712 total time= 5.3min\n",
      "[Pipeline] ........ (step 2 of 3) Processing reduce_dim, total=   0.0s\n",
      "[Pipeline] ............. (step 3 of 3) Processing model, total= 5.7min\n",
      "[CV 1/5] END model=LogisticRegression(max_iter=10000, n_jobs=-1, random_state=8), model__C=10, normalise=MinMaxScaler(), reduce_dim=None;, score=0.767 total time=35.6min\n",
      "[Pipeline] ........ (step 2 of 3) Processing reduce_dim, total=   0.0s\n",
      "[Pipeline] ............. (step 3 of 3) Processing model, total= 5.6min\n",
      "[CV 2/5] END model=LogisticRegression(max_iter=10000, n_jobs=-1, random_state=8), model__C=10, normalise=MinMaxScaler(), reduce_dim=None;, score=0.752 total time= 9.7min\n",
      "[Pipeline] ........ (step 2 of 3) Processing reduce_dim, total=   0.0s\n",
      "[Pipeline] ............. (step 3 of 3) Processing model, total= 4.4min\n",
      "[CV 3/5] END model=LogisticRegression(max_iter=10000, n_jobs=-1, random_state=8), model__C=10, normalise=MinMaxScaler(), reduce_dim=None;, score=0.758 total time= 4.5min\n",
      "[Pipeline] ........ (step 2 of 3) Processing reduce_dim, total=   0.0s\n",
      "[Pipeline] ............. (step 3 of 3) Processing model, total= 5.2min\n",
      "[CV 4/5] END model=LogisticRegression(max_iter=10000, n_jobs=-1, random_state=8), model__C=10, normalise=MinMaxScaler(), reduce_dim=None;, score=0.754 total time= 5.2min\n",
      "[Pipeline] ........ (step 2 of 3) Processing reduce_dim, total=   0.0s\n",
      "[Pipeline] ............. (step 3 of 3) Processing model, total= 5.0min\n",
      "[CV 5/5] END model=LogisticRegression(max_iter=10000, n_jobs=-1, random_state=8), model__C=10, normalise=MinMaxScaler(), reduce_dim=None;, score=0.743 total time= 5.0min\n",
      "[Pipeline] ........ (step 2 of 3) Processing reduce_dim, total=   0.0s\n",
      "[Pipeline] ............. (step 3 of 3) Processing model, total= 6.8min\n",
      "[CV 1/5] END model=LogisticRegression(max_iter=10000, n_jobs=-1, random_state=8), model__C=10, normalise=RobustScaler(), reduce_dim=None;, score=0.759 total time= 6.8min\n",
      "[Pipeline] ........ (step 2 of 3) Processing reduce_dim, total=   0.0s\n",
      "[Pipeline] ............. (step 3 of 3) Processing model, total= 7.9min\n",
      "[CV 2/5] END model=LogisticRegression(max_iter=10000, n_jobs=-1, random_state=8), model__C=10, normalise=RobustScaler(), reduce_dim=None;, score=0.749 total time= 7.9min\n",
      "[Pipeline] ........ (step 2 of 3) Processing reduce_dim, total=   0.0s\n",
      "[Pipeline] ............. (step 3 of 3) Processing model, total= 8.1min\n",
      "[CV 3/5] END model=LogisticRegression(max_iter=10000, n_jobs=-1, random_state=8), model__C=10, normalise=RobustScaler(), reduce_dim=None;, score=0.752 total time=13.0min\n",
      "[Pipeline] ........ (step 2 of 3) Processing reduce_dim, total=   0.0s\n",
      "[Pipeline] ............. (step 3 of 3) Processing model, total= 6.3min\n",
      "[CV 4/5] END model=LogisticRegression(max_iter=10000, n_jobs=-1, random_state=8), model__C=10, normalise=RobustScaler(), reduce_dim=None;, score=0.753 total time= 6.3min\n",
      "[Pipeline] ........ (step 2 of 3) Processing reduce_dim, total=   0.0s\n",
      "[Pipeline] ............. (step 3 of 3) Processing model, total= 6.9min\n",
      "[CV 5/5] END model=LogisticRegression(max_iter=10000, n_jobs=-1, random_state=8), model__C=10, normalise=RobustScaler(), reduce_dim=None;, score=0.738 total time= 6.9min\n"
     ]
    }
   ],
   "source": [
    "from sklearn.model_selection import GridSearchCV\n",
    "\n",
    "#activating grid search \n",
    "grid_search_final = GridSearchCV(pipe, param_grid=logreg_param_grid_final, cv=5, verbose = 4,refit=False) #also performing cross validation\n",
    "\n",
    "fitted_logreg = grid_search_final.fit(X_remainder_log, y_remainder_log)"
   ]
  },
  {
   "cell_type": "code",
   "execution_count": 221,
   "id": "a2d06694",
   "metadata": {},
   "outputs": [
    {
     "data": {
      "text/html": [
       "<div>\n",
       "<style scoped>\n",
       "    .dataframe tbody tr th:only-of-type {\n",
       "        vertical-align: middle;\n",
       "    }\n",
       "\n",
       "    .dataframe tbody tr th {\n",
       "        vertical-align: top;\n",
       "    }\n",
       "\n",
       "    .dataframe thead th {\n",
       "        text-align: right;\n",
       "    }\n",
       "</style>\n",
       "<table border=\"1\" class=\"dataframe\">\n",
       "  <thead>\n",
       "    <tr style=\"text-align: right;\">\n",
       "      <th></th>\n",
       "      <th>mean_fit_time</th>\n",
       "      <th>std_fit_time</th>\n",
       "      <th>mean_score_time</th>\n",
       "      <th>std_score_time</th>\n",
       "      <th>param_model</th>\n",
       "      <th>param_model__C</th>\n",
       "      <th>param_normalise</th>\n",
       "      <th>param_reduce_dim</th>\n",
       "      <th>params</th>\n",
       "      <th>split0_test_score</th>\n",
       "      <th>split1_test_score</th>\n",
       "      <th>split2_test_score</th>\n",
       "      <th>split3_test_score</th>\n",
       "      <th>split4_test_score</th>\n",
       "      <th>mean_test_score</th>\n",
       "      <th>std_test_score</th>\n",
       "      <th>rank_test_score</th>\n",
       "    </tr>\n",
       "  </thead>\n",
       "  <tbody>\n",
       "    <tr>\n",
       "      <th>0</th>\n",
       "      <td>26.492299</td>\n",
       "      <td>2.561390</td>\n",
       "      <td>0.141448</td>\n",
       "      <td>0.020266</td>\n",
       "      <td>LogisticRegression(max_iter=10000, n_jobs=-1, ...</td>\n",
       "      <td>0.001</td>\n",
       "      <td>StandardScaler()</td>\n",
       "      <td>None</td>\n",
       "      <td>{'model': LogisticRegression(max_iter=10000, n...</td>\n",
       "      <td>0.783984</td>\n",
       "      <td>0.776172</td>\n",
       "      <td>0.771875</td>\n",
       "      <td>0.780774</td>\n",
       "      <td>0.768660</td>\n",
       "      <td>0.776293</td>\n",
       "      <td>0.005604</td>\n",
       "      <td>4</td>\n",
       "    </tr>\n",
       "    <tr>\n",
       "      <th>1</th>\n",
       "      <td>15.511625</td>\n",
       "      <td>0.824222</td>\n",
       "      <td>0.126123</td>\n",
       "      <td>0.022817</td>\n",
       "      <td>LogisticRegression(max_iter=10000, n_jobs=-1, ...</td>\n",
       "      <td>0.001</td>\n",
       "      <td>MinMaxScaler()</td>\n",
       "      <td>None</td>\n",
       "      <td>{'model': LogisticRegression(max_iter=10000, n...</td>\n",
       "      <td>0.694922</td>\n",
       "      <td>0.663672</td>\n",
       "      <td>0.681641</td>\n",
       "      <td>0.674091</td>\n",
       "      <td>0.669793</td>\n",
       "      <td>0.676824</td>\n",
       "      <td>0.010776</td>\n",
       "      <td>12</td>\n",
       "    </tr>\n",
       "    <tr>\n",
       "      <th>2</th>\n",
       "      <td>18.519889</td>\n",
       "      <td>0.614278</td>\n",
       "      <td>0.097306</td>\n",
       "      <td>0.012914</td>\n",
       "      <td>LogisticRegression(max_iter=10000, n_jobs=-1, ...</td>\n",
       "      <td>0.001</td>\n",
       "      <td>RobustScaler()</td>\n",
       "      <td>None</td>\n",
       "      <td>{'model': LogisticRegression(max_iter=10000, n...</td>\n",
       "      <td>0.774219</td>\n",
       "      <td>0.769141</td>\n",
       "      <td>0.772656</td>\n",
       "      <td>0.767487</td>\n",
       "      <td>0.768660</td>\n",
       "      <td>0.770433</td>\n",
       "      <td>0.002560</td>\n",
       "      <td>6</td>\n",
       "    </tr>\n",
       "    <tr>\n",
       "      <th>3</th>\n",
       "      <td>90.068710</td>\n",
       "      <td>8.272832</td>\n",
       "      <td>0.132319</td>\n",
       "      <td>0.041955</td>\n",
       "      <td>LogisticRegression(max_iter=10000, n_jobs=-1, ...</td>\n",
       "      <td>0.1</td>\n",
       "      <td>StandardScaler()</td>\n",
       "      <td>None</td>\n",
       "      <td>{'model': LogisticRegression(max_iter=10000, n...</td>\n",
       "      <td>0.737500</td>\n",
       "      <td>0.731641</td>\n",
       "      <td>0.734766</td>\n",
       "      <td>0.738961</td>\n",
       "      <td>0.726846</td>\n",
       "      <td>0.733943</td>\n",
       "      <td>0.004340</td>\n",
       "      <td>9</td>\n",
       "    </tr>\n",
       "    <tr>\n",
       "      <th>4</th>\n",
       "      <td>61.330183</td>\n",
       "      <td>5.284845</td>\n",
       "      <td>0.097988</td>\n",
       "      <td>0.006825</td>\n",
       "      <td>LogisticRegression(max_iter=10000, n_jobs=-1, ...</td>\n",
       "      <td>0.1</td>\n",
       "      <td>MinMaxScaler()</td>\n",
       "      <td>None</td>\n",
       "      <td>{'model': LogisticRegression(max_iter=10000, n...</td>\n",
       "      <td>0.784375</td>\n",
       "      <td>0.787109</td>\n",
       "      <td>0.784375</td>\n",
       "      <td>0.783900</td>\n",
       "      <td>0.774131</td>\n",
       "      <td>0.782778</td>\n",
       "      <td>0.004470</td>\n",
       "      <td>2</td>\n",
       "    </tr>\n",
       "    <tr>\n",
       "      <th>5</th>\n",
       "      <td>89.806340</td>\n",
       "      <td>12.448877</td>\n",
       "      <td>0.102408</td>\n",
       "      <td>0.016703</td>\n",
       "      <td>LogisticRegression(max_iter=10000, n_jobs=-1, ...</td>\n",
       "      <td>0.1</td>\n",
       "      <td>RobustScaler()</td>\n",
       "      <td>None</td>\n",
       "      <td>{'model': LogisticRegression(max_iter=10000, n...</td>\n",
       "      <td>0.792578</td>\n",
       "      <td>0.789062</td>\n",
       "      <td>0.788281</td>\n",
       "      <td>0.787417</td>\n",
       "      <td>0.777257</td>\n",
       "      <td>0.786919</td>\n",
       "      <td>0.005140</td>\n",
       "      <td>1</td>\n",
       "    </tr>\n",
       "    <tr>\n",
       "      <th>6</th>\n",
       "      <td>183.682051</td>\n",
       "      <td>7.737973</td>\n",
       "      <td>0.115129</td>\n",
       "      <td>0.018430</td>\n",
       "      <td>LogisticRegression(max_iter=10000, n_jobs=-1, ...</td>\n",
       "      <td>1</td>\n",
       "      <td>StandardScaler()</td>\n",
       "      <td>None</td>\n",
       "      <td>{'model': LogisticRegression(max_iter=10000, n...</td>\n",
       "      <td>0.728516</td>\n",
       "      <td>0.722266</td>\n",
       "      <td>0.727734</td>\n",
       "      <td>0.724111</td>\n",
       "      <td>0.717859</td>\n",
       "      <td>0.724097</td>\n",
       "      <td>0.003874</td>\n",
       "      <td>10</td>\n",
       "    </tr>\n",
       "    <tr>\n",
       "      <th>7</th>\n",
       "      <td>130.169843</td>\n",
       "      <td>4.818003</td>\n",
       "      <td>0.095994</td>\n",
       "      <td>0.025249</td>\n",
       "      <td>LogisticRegression(max_iter=10000, n_jobs=-1, ...</td>\n",
       "      <td>1</td>\n",
       "      <td>MinMaxScaler()</td>\n",
       "      <td>None</td>\n",
       "      <td>{'model': LogisticRegression(max_iter=10000, n...</td>\n",
       "      <td>0.787500</td>\n",
       "      <td>0.780469</td>\n",
       "      <td>0.778516</td>\n",
       "      <td>0.776866</td>\n",
       "      <td>0.760063</td>\n",
       "      <td>0.776683</td>\n",
       "      <td>0.009066</td>\n",
       "      <td>3</td>\n",
       "    </tr>\n",
       "    <tr>\n",
       "      <th>8</th>\n",
       "      <td>184.911613</td>\n",
       "      <td>5.828661</td>\n",
       "      <td>0.113324</td>\n",
       "      <td>0.018214</td>\n",
       "      <td>LogisticRegression(max_iter=10000, n_jobs=-1, ...</td>\n",
       "      <td>1</td>\n",
       "      <td>RobustScaler()</td>\n",
       "      <td>None</td>\n",
       "      <td>{'model': LogisticRegression(max_iter=10000, n...</td>\n",
       "      <td>0.788672</td>\n",
       "      <td>0.775000</td>\n",
       "      <td>0.775781</td>\n",
       "      <td>0.769050</td>\n",
       "      <td>0.753810</td>\n",
       "      <td>0.772463</td>\n",
       "      <td>0.011312</td>\n",
       "      <td>5</td>\n",
       "    </tr>\n",
       "    <tr>\n",
       "      <th>9</th>\n",
       "      <td>305.622554</td>\n",
       "      <td>38.717152</td>\n",
       "      <td>0.120853</td>\n",
       "      <td>0.027435</td>\n",
       "      <td>LogisticRegression(max_iter=10000, n_jobs=-1, ...</td>\n",
       "      <td>10</td>\n",
       "      <td>StandardScaler()</td>\n",
       "      <td>None</td>\n",
       "      <td>{'model': LogisticRegression(max_iter=10000, n...</td>\n",
       "      <td>0.723828</td>\n",
       "      <td>0.718750</td>\n",
       "      <td>0.728906</td>\n",
       "      <td>0.721376</td>\n",
       "      <td>0.711997</td>\n",
       "      <td>0.720971</td>\n",
       "      <td>0.005599</td>\n",
       "      <td>11</td>\n",
       "    </tr>\n",
       "    <tr>\n",
       "      <th>10</th>\n",
       "      <td>720.324486</td>\n",
       "      <td>717.716724</td>\n",
       "      <td>0.124830</td>\n",
       "      <td>0.015346</td>\n",
       "      <td>LogisticRegression(max_iter=10000, n_jobs=-1, ...</td>\n",
       "      <td>10</td>\n",
       "      <td>MinMaxScaler()</td>\n",
       "      <td>None</td>\n",
       "      <td>{'model': LogisticRegression(max_iter=10000, n...</td>\n",
       "      <td>0.767188</td>\n",
       "      <td>0.751563</td>\n",
       "      <td>0.758203</td>\n",
       "      <td>0.753810</td>\n",
       "      <td>0.743259</td>\n",
       "      <td>0.754804</td>\n",
       "      <td>0.007870</td>\n",
       "      <td>7</td>\n",
       "    </tr>\n",
       "    <tr>\n",
       "      <th>11</th>\n",
       "      <td>491.658560</td>\n",
       "      <td>148.328386</td>\n",
       "      <td>0.129525</td>\n",
       "      <td>0.014218</td>\n",
       "      <td>LogisticRegression(max_iter=10000, n_jobs=-1, ...</td>\n",
       "      <td>10</td>\n",
       "      <td>RobustScaler()</td>\n",
       "      <td>None</td>\n",
       "      <td>{'model': LogisticRegression(max_iter=10000, n...</td>\n",
       "      <td>0.758594</td>\n",
       "      <td>0.749219</td>\n",
       "      <td>0.751563</td>\n",
       "      <td>0.752638</td>\n",
       "      <td>0.737788</td>\n",
       "      <td>0.749960</td>\n",
       "      <td>0.006826</td>\n",
       "      <td>8</td>\n",
       "    </tr>\n",
       "  </tbody>\n",
       "</table>\n",
       "</div>"
      ],
      "text/plain": [
       "    mean_fit_time  std_fit_time  mean_score_time  std_score_time  \\\n",
       "0       26.492299      2.561390         0.141448        0.020266   \n",
       "1       15.511625      0.824222         0.126123        0.022817   \n",
       "2       18.519889      0.614278         0.097306        0.012914   \n",
       "3       90.068710      8.272832         0.132319        0.041955   \n",
       "4       61.330183      5.284845         0.097988        0.006825   \n",
       "5       89.806340     12.448877         0.102408        0.016703   \n",
       "6      183.682051      7.737973         0.115129        0.018430   \n",
       "7      130.169843      4.818003         0.095994        0.025249   \n",
       "8      184.911613      5.828661         0.113324        0.018214   \n",
       "9      305.622554     38.717152         0.120853        0.027435   \n",
       "10     720.324486    717.716724         0.124830        0.015346   \n",
       "11     491.658560    148.328386         0.129525        0.014218   \n",
       "\n",
       "                                          param_model param_model__C  \\\n",
       "0   LogisticRegression(max_iter=10000, n_jobs=-1, ...          0.001   \n",
       "1   LogisticRegression(max_iter=10000, n_jobs=-1, ...          0.001   \n",
       "2   LogisticRegression(max_iter=10000, n_jobs=-1, ...          0.001   \n",
       "3   LogisticRegression(max_iter=10000, n_jobs=-1, ...            0.1   \n",
       "4   LogisticRegression(max_iter=10000, n_jobs=-1, ...            0.1   \n",
       "5   LogisticRegression(max_iter=10000, n_jobs=-1, ...            0.1   \n",
       "6   LogisticRegression(max_iter=10000, n_jobs=-1, ...              1   \n",
       "7   LogisticRegression(max_iter=10000, n_jobs=-1, ...              1   \n",
       "8   LogisticRegression(max_iter=10000, n_jobs=-1, ...              1   \n",
       "9   LogisticRegression(max_iter=10000, n_jobs=-1, ...             10   \n",
       "10  LogisticRegression(max_iter=10000, n_jobs=-1, ...             10   \n",
       "11  LogisticRegression(max_iter=10000, n_jobs=-1, ...             10   \n",
       "\n",
       "     param_normalise param_reduce_dim  \\\n",
       "0   StandardScaler()             None   \n",
       "1     MinMaxScaler()             None   \n",
       "2     RobustScaler()             None   \n",
       "3   StandardScaler()             None   \n",
       "4     MinMaxScaler()             None   \n",
       "5     RobustScaler()             None   \n",
       "6   StandardScaler()             None   \n",
       "7     MinMaxScaler()             None   \n",
       "8     RobustScaler()             None   \n",
       "9   StandardScaler()             None   \n",
       "10    MinMaxScaler()             None   \n",
       "11    RobustScaler()             None   \n",
       "\n",
       "                                               params  split0_test_score  \\\n",
       "0   {'model': LogisticRegression(max_iter=10000, n...           0.783984   \n",
       "1   {'model': LogisticRegression(max_iter=10000, n...           0.694922   \n",
       "2   {'model': LogisticRegression(max_iter=10000, n...           0.774219   \n",
       "3   {'model': LogisticRegression(max_iter=10000, n...           0.737500   \n",
       "4   {'model': LogisticRegression(max_iter=10000, n...           0.784375   \n",
       "5   {'model': LogisticRegression(max_iter=10000, n...           0.792578   \n",
       "6   {'model': LogisticRegression(max_iter=10000, n...           0.728516   \n",
       "7   {'model': LogisticRegression(max_iter=10000, n...           0.787500   \n",
       "8   {'model': LogisticRegression(max_iter=10000, n...           0.788672   \n",
       "9   {'model': LogisticRegression(max_iter=10000, n...           0.723828   \n",
       "10  {'model': LogisticRegression(max_iter=10000, n...           0.767188   \n",
       "11  {'model': LogisticRegression(max_iter=10000, n...           0.758594   \n",
       "\n",
       "    split1_test_score  split2_test_score  split3_test_score  \\\n",
       "0            0.776172           0.771875           0.780774   \n",
       "1            0.663672           0.681641           0.674091   \n",
       "2            0.769141           0.772656           0.767487   \n",
       "3            0.731641           0.734766           0.738961   \n",
       "4            0.787109           0.784375           0.783900   \n",
       "5            0.789062           0.788281           0.787417   \n",
       "6            0.722266           0.727734           0.724111   \n",
       "7            0.780469           0.778516           0.776866   \n",
       "8            0.775000           0.775781           0.769050   \n",
       "9            0.718750           0.728906           0.721376   \n",
       "10           0.751563           0.758203           0.753810   \n",
       "11           0.749219           0.751563           0.752638   \n",
       "\n",
       "    split4_test_score  mean_test_score  std_test_score  rank_test_score  \n",
       "0            0.768660         0.776293        0.005604                4  \n",
       "1            0.669793         0.676824        0.010776               12  \n",
       "2            0.768660         0.770433        0.002560                6  \n",
       "3            0.726846         0.733943        0.004340                9  \n",
       "4            0.774131         0.782778        0.004470                2  \n",
       "5            0.777257         0.786919        0.005140                1  \n",
       "6            0.717859         0.724097        0.003874               10  \n",
       "7            0.760063         0.776683        0.009066                3  \n",
       "8            0.753810         0.772463        0.011312                5  \n",
       "9            0.711997         0.720971        0.005599               11  \n",
       "10           0.743259         0.754804        0.007870                7  \n",
       "11           0.737788         0.749960        0.006826                8  "
      ]
     },
     "execution_count": 221,
     "metadata": {},
     "output_type": "execute_result"
    }
   ],
   "source": [
    "pd.DataFrame(fitted_logreg.cv_results_)"
   ]
  },
  {
   "cell_type": "code",
   "execution_count": 222,
   "id": "82baa978",
   "metadata": {},
   "outputs": [
    {
     "data": {
      "text/plain": [
       "{'model': LogisticRegression(max_iter=10000, n_jobs=-1, random_state=8),\n",
       " 'model__C': 0.1,\n",
       " 'normalise': RobustScaler(),\n",
       " 'reduce_dim': None}"
      ]
     },
     "execution_count": 222,
     "metadata": {},
     "output_type": "execute_result"
    }
   ],
   "source": [
    "fitted_logreg.best_params_"
   ]
  },
  {
   "cell_type": "markdown",
   "id": "93b13e9e",
   "metadata": {},
   "source": [
    "From our final data set with log transformation we can see that the best hyper parameters have remained the same. "
   ]
  },
  {
   "cell_type": "markdown",
   "id": "d01d38cc",
   "metadata": {},
   "source": [
    "Let's fit this to our final model and see the test accuracy score: "
   ]
  },
  {
   "cell_type": "code",
   "execution_count": 223,
   "id": "b3c47567",
   "metadata": {},
   "outputs": [],
   "source": [
    "#assigning dataset for X and y \n",
    "y_train_log= log_train_df[\"rating\"]\n",
    "X_train_log = log_train_df.drop([\"rating\"],axis=1)"
   ]
  },
  {
   "cell_type": "code",
   "execution_count": 224,
   "id": "48d00d21",
   "metadata": {},
   "outputs": [],
   "source": [
    "#assigning test dataset for X and y \n",
    "y_test_log = log_test_df[\"rating\"]\n",
    "X_test_log = log_test_df.drop([\"rating\"],axis=1)"
   ]
  },
  {
   "cell_type": "code",
   "execution_count": 225,
   "id": "2bf23c59",
   "metadata": {},
   "outputs": [],
   "source": [
    "# Instantiate the scaler\n",
    "RS = RobustScaler()\n",
    "\n",
    "# Fit the scaler\n",
    "RS.fit(X_train_log)\n",
    "\n",
    "# Transform the training and test sets \n",
    "X_train_rs = RS.transform(X_train_log)\n",
    "X_test_rs = RS.transform(X_test_log)"
   ]
  },
  {
   "cell_type": "code",
   "execution_count": 229,
   "id": "4a6194f6",
   "metadata": {
    "colab": {
     "base_uri": "https://localhost:8080/",
     "height": 169
    },
    "executionInfo": {
     "elapsed": 463,
     "status": "error",
     "timestamp": 1679238333085,
     "user": {
      "displayName": "Stephanie lo",
      "userId": "06848852662146951897"
     },
     "user_tz": 240
    },
    "id": "d154018c",
    "outputId": "142317e8-44ae-466e-9ff2-e72d45b717c6"
   },
   "outputs": [],
   "source": [
    "#refitting best model\n",
    "logreg_final = LogisticRegression(C = 0.1, \n",
    "                             solver='lbfgs',\n",
    "                            max_iter = 1000)\n",
    "\n",
    "# Fit the model \n",
    "logreg_final.fit(X_train_rs, y_train_log)\n",
    "\n",
    "# Score the model \n",
    "\n",
    "log_train_acc2 = logreg_final.score(X_train_rs, y_train_log)\n",
    "log_test_acc2 = logreg_final.score(X_test_rs, y_test_log)"
   ]
  },
  {
   "cell_type": "code",
   "execution_count": 230,
   "id": "b5205220",
   "metadata": {},
   "outputs": [
    {
     "name": "stdout",
     "output_type": "stream",
     "text": [
      "Train Accuracy Score: 83.23%\n",
      "Test Accuracy Score: 78.2%\n"
     ]
    }
   ],
   "source": [
    "# Score the model \n",
    "print(f\"Train Accuracy Score: {round(log_train_acc2,4)*100}%\")\n",
    "print(f\"Test Accuracy Score: {round(log_test_acc2 ,4)*100}%\")"
   ]
  },
  {
   "cell_type": "code",
   "execution_count": 231,
   "id": "89ba414d",
   "metadata": {},
   "outputs": [
    {
     "name": "stdout",
     "output_type": "stream",
     "text": [
      "              precision    recall  f1-score   support\n",
      "\n",
      "           0       0.77      0.70      0.73      1809\n",
      "           1       0.79      0.84      0.82      2458\n",
      "\n",
      "    accuracy                           0.78      4267\n",
      "   macro avg       0.78      0.77      0.77      4267\n",
      "weighted avg       0.78      0.78      0.78      4267\n",
      "\n"
     ]
    }
   ],
   "source": [
    "# Get class predictions\n",
    "y_pred = logreg2.predict(X_test_rs)\n",
    "\n",
    "#classification\n",
    "from sklearn.metrics import classification_report\n",
    "\n",
    "report_logreg = classification_report(y_test, y_pred)\n",
    "print(report_logreg)"
   ]
  },
  {
   "cell_type": "markdown",
   "id": "7790da9a",
   "metadata": {},
   "source": [
    "In the end we have dropped the accuracy score by 0.3% but increased our f1-score by 0.01 so we may need to make a few more tweaks but overall we can say that our model can predict sentiment given logistic regression. "
   ]
  },
  {
   "cell_type": "markdown",
   "id": "e9d733d7",
   "metadata": {
    "id": "e9d733d7"
   },
   "source": [
    "## 8. Conclusion <a id=\"Conclude\"></a>"
   ]
  },
  {
   "cell_type": "markdown",
   "id": "97ff3ec0",
   "metadata": {
    "id": "96a9e80e"
   },
   "source": [
    "To conclude throughout this project we have taken our cleaned dataset and fitted various models against it (including K neighbors classifier, Decision Tree and Logistic Regression) in order to try and find the most suitable model. We then chose the Logistic Regression model due to its promising initial results and then tuned in the hyper parameter to try and optimize the model. Lastly we performed some feature engineering in order to try and optimize the model even further on the Hotel review dataset. "
   ]
  }
 ],
 "metadata": {
  "accelerator": "GPU",
  "colab": {
   "provenance": []
  },
  "gpuClass": "premium",
  "kernelspec": {
   "display_name": "Python 3 (ipykernel)",
   "language": "python",
   "name": "python3"
  },
  "language_info": {
   "codemirror_mode": {
    "name": "ipython",
    "version": 3
   },
   "file_extension": ".py",
   "mimetype": "text/x-python",
   "name": "python",
   "nbconvert_exporter": "python",
   "pygments_lexer": "ipython3",
   "version": "3.9.13"
  }
 },
 "nbformat": 4,
 "nbformat_minor": 5
}
