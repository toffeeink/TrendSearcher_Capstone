{
 "cells": [
  {
   "cell_type": "markdown",
   "id": "10f70d43",
   "metadata": {},
   "source": [
    "### Exploring Luxury Beauty Reviews and Trend Analysis - Cleaning"
   ]
  },
  {
   "cell_type": "code",
   "execution_count": 1,
   "id": "0537b42a",
   "metadata": {},
   "outputs": [],
   "source": [
    "#loading packages \n",
    "import numpy as np\n",
    "import pandas as pd\n",
    "import matplotlib.pyplot as plt\n",
    "%matplotlib inline\n",
    "import seaborn as sns\n",
    "import json\n",
    "\n",
    "import os \n",
    "import statsmodels.api as sm\n",
    "import plotly.express as px\n",
    "import re\n",
    "import gzip\n",
    "from urllib.request import urlopen\n",
    "from statsmodels.api import tsa"
   ]
  },
  {
   "cell_type": "code",
   "execution_count": 2,
   "id": "2a67ae02",
   "metadata": {},
   "outputs": [],
   "source": [
    "#Setting figure size & background \n",
    "plt.rcParams['figure.figsize'] = (8.0, 6.0)\n",
    "sns.set_theme(style=\"darkgrid\")"
   ]
  },
  {
   "cell_type": "markdown",
   "id": "eb9bb4af",
   "metadata": {},
   "source": [
    "### Handling nulls"
   ]
  },
  {
   "cell_type": "markdown",
   "id": "7d6d83cd",
   "metadata": {},
   "source": [
    "#### Cleaning Review Data set "
   ]
  },
  {
   "cell_type": "code",
   "execution_count": 3,
   "id": "6a4f8f3d",
   "metadata": {},
   "outputs": [],
   "source": [
    "#directing to the right file path\n",
    "os.chdir(\"/Users/mac/Desktop/Data/CAPSTONE\")\n",
    "cwd = os.getcwd() "
   ]
  },
  {
   "cell_type": "code",
   "execution_count": 4,
   "id": "62e81547",
   "metadata": {},
   "outputs": [],
   "source": [
    "#Opening the reviews,  resource: https://towardsdatascience.com/load-yelp-reviews-or-other-huge-json-files-with-ease-ad804c2f1537\n",
    "review_df = []\n",
    "r_dtypes = {\"overall\": np.float16, \n",
    "            \"verified\": np.int32, \n",
    "            \"vote\": np.int32,\n",
    "            \"reviewTime\": np.int32,\n",
    "            \"reviewerID\": np.int32,\n",
    "            \"asin\": object,\n",
    "            \"reviewerName\": object,\n",
    "            \"reviewText\":object , \n",
    "            \"summary\": object,     \n",
    "            \"style\": object, \n",
    "            \"image\": object, \n",
    "           }\n",
    "with open(\"Luxury_Beauty.json\", \"r\") as f:\n",
    "    reader = pd.read_json(f, orient=\"records\", lines=True, \n",
    "                          dtype=r_dtypes, chunksize=1000)\n",
    "        \n",
    "    for chunk in reader:\n",
    "        reduced_chunk = chunk.drop(columns=['unixReviewTime'],axis=1)\n",
    "        review_df.append(reduced_chunk)\n",
    "    \n",
    "review_df = pd.concat(review_df, ignore_index=True)"
   ]
  },
  {
   "cell_type": "code",
   "execution_count": 5,
   "id": "e39f08f9",
   "metadata": {},
   "outputs": [
    {
     "data": {
      "text/html": [
       "<div>\n",
       "<style scoped>\n",
       "    .dataframe tbody tr th:only-of-type {\n",
       "        vertical-align: middle;\n",
       "    }\n",
       "\n",
       "    .dataframe tbody tr th {\n",
       "        vertical-align: top;\n",
       "    }\n",
       "\n",
       "    .dataframe thead th {\n",
       "        text-align: right;\n",
       "    }\n",
       "</style>\n",
       "<table border=\"1\" class=\"dataframe\">\n",
       "  <thead>\n",
       "    <tr style=\"text-align: right;\">\n",
       "      <th></th>\n",
       "      <th>overall</th>\n",
       "      <th>vote</th>\n",
       "      <th>verified</th>\n",
       "      <th>reviewTime</th>\n",
       "      <th>reviewerID</th>\n",
       "      <th>asin</th>\n",
       "      <th>reviewerName</th>\n",
       "      <th>reviewText</th>\n",
       "      <th>summary</th>\n",
       "      <th>style</th>\n",
       "      <th>image</th>\n",
       "    </tr>\n",
       "  </thead>\n",
       "  <tbody>\n",
       "    <tr>\n",
       "      <th>0</th>\n",
       "      <td>2.0</td>\n",
       "      <td>3</td>\n",
       "      <td>1</td>\n",
       "      <td>06 15, 2010</td>\n",
       "      <td>A1Q6MUU0B2ZDQG</td>\n",
       "      <td>B00004U9V2</td>\n",
       "      <td>D. Poston</td>\n",
       "      <td>I bought two of these 8.5 fl oz hand cream, an...</td>\n",
       "      <td>dispensers don't work</td>\n",
       "      <td>NaN</td>\n",
       "      <td>NaN</td>\n",
       "    </tr>\n",
       "    <tr>\n",
       "      <th>1</th>\n",
       "      <td>5.0</td>\n",
       "      <td>14</td>\n",
       "      <td>1</td>\n",
       "      <td>01 7, 2010</td>\n",
       "      <td>A3HO2SQDCZIE9S</td>\n",
       "      <td>B00004U9V2</td>\n",
       "      <td>chandra</td>\n",
       "      <td>Believe me, over the years I have tried many, ...</td>\n",
       "      <td>Best hand cream ever.</td>\n",
       "      <td>NaN</td>\n",
       "      <td>NaN</td>\n",
       "    </tr>\n",
       "  </tbody>\n",
       "</table>\n",
       "</div>"
      ],
      "text/plain": [
       "   overall vote  verified   reviewTime      reviewerID        asin  \\\n",
       "0      2.0    3         1  06 15, 2010  A1Q6MUU0B2ZDQG  B00004U9V2   \n",
       "1      5.0   14         1   01 7, 2010  A3HO2SQDCZIE9S  B00004U9V2   \n",
       "\n",
       "  reviewerName                                         reviewText  \\\n",
       "0    D. Poston  I bought two of these 8.5 fl oz hand cream, an...   \n",
       "1      chandra  Believe me, over the years I have tried many, ...   \n",
       "\n",
       "                 summary style image  \n",
       "0  dispensers don't work   NaN   NaN  \n",
       "1  Best hand cream ever.   NaN   NaN  "
      ]
     },
     "execution_count": 5,
     "metadata": {},
     "output_type": "execute_result"
    }
   ],
   "source": [
    "#checking review_df dataset\n",
    "review_df.head(2)"
   ]
  },
  {
   "cell_type": "markdown",
   "id": "c7cbc707",
   "metadata": {},
   "source": [
    "#### Review Data Dictionary"
   ]
  },
  {
   "cell_type": "markdown",
   "id": "2389e7ab",
   "metadata": {},
   "source": [
    "| Column Name    | Column Contents                                                           |\n",
    "|----------------|---------------------------------------------------------------------------|\n",
    "| `overall`      | Rating given by user out of 5.0 (numeric)                                 |\n",
    "| `verified`     | Denotes verified purchases or not (numeric)                               |\n",
    "| `vote`         | Number of users that have liked the review (numeric)                      |\n",
    "| `reviewTime`   | Recorded time of review (numeric)                                         |\n",
    "| `reviewerID`   | Unique reviewer ID (object)                                               |\n",
    "| `reviewerName` | Name given of reviewer (object)                                           |\n",
    "| `reviewText`   | Body of user review (object)                                              |\n",
    "| `summary`      | Title of user review (object                                              |\n",
    "| `style`        | Dictionary object containing details on the product reviewed (dictionary) |\n",
    "| `image`        | Associated images in JPEGs of the product uploaded by user (object)       |"
   ]
  },
  {
   "cell_type": "markdown",
   "id": "61fcbb14",
   "metadata": {},
   "source": [
    "#### Metadata Dictionary"
   ]
  },
  {
   "cell_type": "markdown",
   "id": "5c9dae10",
   "metadata": {},
   "source": [
    "| Column Name              | Column Contents                                                     |\n",
    "|--------------------------|---------------------------------------------------------------------|\n",
    "| `category`               | object                                                              |\n",
    "| `description`            | Description of product                                              |\n",
    "| `fit`                    | Number of users that have liked the review (object)                 |\n",
    "| `title`                  | product headline (object)                                           |\n",
    "| `also_buy`               | related ASINs that purchasers have also bought (object)             |\n",
    "| `tech2`                  | first technical detail table of the product (object)                |\n",
    "| `brand`                  | brand name (object)                                                 |\n",
    "| `feature`                | (object)                                                            |\n",
    "| `rank`                   | ranking of the category at the time of the data extraction (object) |\n",
    "| `also_view`              | related ASINs, those that have also been viewed (list)              |\n",
    "| `details`                | (object)                                                            |\n",
    "| `Shipping Weight`        | (object)                                                            |\n",
    "| `International Shipping` | (object)                                                            |\n",
    "| `ASIN`                   | (object)                                                            |\n",
    "| `Item model number`      | (object)                                                            |\n",
    "| `main_cat`               | (object)                                                            |\n",
    "| `similar_item`           | (object)                                                            |\n",
    "| `date`                   | (object)                                                            |\n",
    "| `price`                  | (object)                                                            |\n",
    "| `asin`                   | (object)                                                            |\n",
    "| `imageURL`               | url of the product image (list)                                     |\n",
    "| `imageURLHighRes`        | url of the high resolution product image (list)                     |"
   ]
  },
  {
   "cell_type": "code",
   "execution_count": 7,
   "id": "f43b1678",
   "metadata": {},
   "outputs": [
    {
     "name": "stdout",
     "output_type": "stream",
     "text": [
      "overall              0\n",
      "vote            470939\n",
      "verified             0\n",
      "reviewTime           0\n",
      "reviewerID           0\n",
      "asin                 0\n",
      "reviewerName        31\n",
      "reviewText         400\n",
      "summary            183\n",
      "style           323615\n",
      "image           567210\n",
      "dtype: int64\n"
     ]
    }
   ],
   "source": [
    "#checking amount of nulls   \n",
    "nan_count = review_df.isna().sum()\n",
    "print(nan_count)"
   ]
  },
  {
   "cell_type": "markdown",
   "id": "e0767539",
   "metadata": {},
   "source": [
    "`Image`, `Vote`, `Style` all have high levels of null values. However we want to keep `Vote` column by filling with 0s since this is an indication of other users agreeing with the review written. Before we move on we should explore the style column to see if there is any useful information there since data is stored in a dictionary."
   ]
  },
  {
   "cell_type": "code",
   "execution_count": 8,
   "id": "f15a7b30",
   "metadata": {},
   "outputs": [],
   "source": [
    "#filling Vote column nulls with 0\n",
    "\n",
    "review_df['vote']= review_df['vote'].str.replace(\",\",\"\").astype(\"float32\")\n",
    "review_df[\"vote\"].fillna(0, inplace = True)"
   ]
  },
  {
   "cell_type": "code",
   "execution_count": 9,
   "id": "a5fead62",
   "metadata": {},
   "outputs": [
    {
     "name": "stdout",
     "output_type": "stream",
     "text": [
      "overall         float16\n",
      "vote            float32\n",
      "verified          int32\n",
      "reviewTime       object\n",
      "reviewerID       object\n",
      "asin             object\n",
      "reviewerName     object\n",
      "reviewText       object\n",
      "summary          object\n",
      "style            object\n",
      "image            object\n",
      "dtype: object\n"
     ]
    }
   ],
   "source": [
    "#converting vote column to vote\n",
    "print(review_df.dtypes)"
   ]
  },
  {
   "cell_type": "code",
   "execution_count": 10,
   "id": "3381be9a",
   "metadata": {},
   "outputs": [
    {
     "data": {
      "text/plain": [
       "(574628, 11)"
      ]
     },
     "execution_count": 10,
     "metadata": {},
     "output_type": "execute_result"
    }
   ],
   "source": [
    "review_df.shape"
   ]
  },
  {
   "cell_type": "code",
   "execution_count": 11,
   "id": "9b672a93",
   "metadata": {},
   "outputs": [
    {
     "data": {
      "text/html": [
       "<div>\n",
       "<style scoped>\n",
       "    .dataframe tbody tr th:only-of-type {\n",
       "        vertical-align: middle;\n",
       "    }\n",
       "\n",
       "    .dataframe tbody tr th {\n",
       "        vertical-align: top;\n",
       "    }\n",
       "\n",
       "    .dataframe thead th {\n",
       "        text-align: right;\n",
       "    }\n",
       "</style>\n",
       "<table border=\"1\" class=\"dataframe\">\n",
       "  <thead>\n",
       "    <tr style=\"text-align: right;\">\n",
       "      <th></th>\n",
       "      <th>overall</th>\n",
       "      <th>vote</th>\n",
       "      <th>verified</th>\n",
       "    </tr>\n",
       "  </thead>\n",
       "  <tbody>\n",
       "    <tr>\n",
       "      <th>count</th>\n",
       "      <td>574628.0</td>\n",
       "      <td>574628.000000</td>\n",
       "      <td>574628.000000</td>\n",
       "    </tr>\n",
       "    <tr>\n",
       "      <th>mean</th>\n",
       "      <td>NaN</td>\n",
       "      <td>1.335126</td>\n",
       "      <td>0.878032</td>\n",
       "    </tr>\n",
       "    <tr>\n",
       "      <th>std</th>\n",
       "      <td>0.0</td>\n",
       "      <td>12.092627</td>\n",
       "      <td>0.327249</td>\n",
       "    </tr>\n",
       "    <tr>\n",
       "      <th>min</th>\n",
       "      <td>1.0</td>\n",
       "      <td>0.000000</td>\n",
       "      <td>0.000000</td>\n",
       "    </tr>\n",
       "    <tr>\n",
       "      <th>25%</th>\n",
       "      <td>4.0</td>\n",
       "      <td>0.000000</td>\n",
       "      <td>1.000000</td>\n",
       "    </tr>\n",
       "    <tr>\n",
       "      <th>50%</th>\n",
       "      <td>5.0</td>\n",
       "      <td>0.000000</td>\n",
       "      <td>1.000000</td>\n",
       "    </tr>\n",
       "    <tr>\n",
       "      <th>75%</th>\n",
       "      <td>5.0</td>\n",
       "      <td>0.000000</td>\n",
       "      <td>1.000000</td>\n",
       "    </tr>\n",
       "    <tr>\n",
       "      <th>max</th>\n",
       "      <td>5.0</td>\n",
       "      <td>2995.000000</td>\n",
       "      <td>1.000000</td>\n",
       "    </tr>\n",
       "  </tbody>\n",
       "</table>\n",
       "</div>"
      ],
      "text/plain": [
       "        overall           vote       verified\n",
       "count  574628.0  574628.000000  574628.000000\n",
       "mean        NaN       1.335126       0.878032\n",
       "std         0.0      12.092627       0.327249\n",
       "min         1.0       0.000000       0.000000\n",
       "25%         4.0       0.000000       1.000000\n",
       "50%         5.0       0.000000       1.000000\n",
       "75%         5.0       0.000000       1.000000\n",
       "max         5.0    2995.000000       1.000000"
      ]
     },
     "execution_count": 11,
     "metadata": {},
     "output_type": "execute_result"
    }
   ],
   "source": [
    "review_df.describe()"
   ]
  },
  {
   "cell_type": "code",
   "execution_count": 12,
   "id": "07eb8fd9",
   "metadata": {},
   "outputs": [
    {
     "data": {
      "text/plain": [
       "0"
      ]
     },
     "execution_count": 12,
     "metadata": {},
     "output_type": "execute_result"
    }
   ],
   "source": [
    "#sanity check\n",
    "review_df[\"vote\"].isna().sum()"
   ]
  },
  {
   "cell_type": "code",
   "execution_count": 13,
   "id": "cff6ff0d",
   "metadata": {},
   "outputs": [],
   "source": [
    "#creating a new df for style\n",
    "style_df = review_df[\"style\"].apply(pd.Series)\n"
   ]
  },
  {
   "cell_type": "code",
   "execution_count": 14,
   "id": "8629c3d0",
   "metadata": {},
   "outputs": [
    {
     "name": "stdout",
     "output_type": "stream",
     "text": [
      "Even column with the lowest amount of nulls, size: still contains 75.67% of null values which is quite a lot so we can drop the Style column altogether\n"
     ]
    }
   ],
   "source": [
    "#checking for null values in style column broken out\n",
    "style_df.isnull().sum()\n",
    "p = (style_df[\"Size:\"].isna().sum()/review_df.shape[0])*100\n",
    "print(f\"Even column with the lowest amount of nulls, size: still contains {round(p,2)}% of null values which is quite a lot so we can drop the Style column altogether\")"
   ]
  },
  {
   "cell_type": "code",
   "execution_count": 15,
   "id": "d6ed118f",
   "metadata": {},
   "outputs": [
    {
     "data": {
      "text/html": [
       "<div>\n",
       "<style scoped>\n",
       "    .dataframe tbody tr th:only-of-type {\n",
       "        vertical-align: middle;\n",
       "    }\n",
       "\n",
       "    .dataframe tbody tr th {\n",
       "        vertical-align: top;\n",
       "    }\n",
       "\n",
       "    .dataframe thead th {\n",
       "        text-align: right;\n",
       "    }\n",
       "</style>\n",
       "<table border=\"1\" class=\"dataframe\">\n",
       "  <thead>\n",
       "    <tr style=\"text-align: right;\">\n",
       "      <th></th>\n",
       "      <th>overall</th>\n",
       "      <th>vote</th>\n",
       "      <th>verified</th>\n",
       "      <th>reviewTime</th>\n",
       "      <th>reviewerID</th>\n",
       "      <th>asin</th>\n",
       "      <th>reviewerName</th>\n",
       "      <th>reviewText</th>\n",
       "      <th>summary</th>\n",
       "      <th>style</th>\n",
       "      <th>image</th>\n",
       "      <th>day</th>\n",
       "      <th>month</th>\n",
       "      <th>year</th>\n",
       "    </tr>\n",
       "  </thead>\n",
       "  <tbody>\n",
       "    <tr>\n",
       "      <th>0</th>\n",
       "      <td>2.0</td>\n",
       "      <td>3.0</td>\n",
       "      <td>1</td>\n",
       "      <td>06 15 2010</td>\n",
       "      <td>A1Q6MUU0B2ZDQG</td>\n",
       "      <td>B00004U9V2</td>\n",
       "      <td>D. Poston</td>\n",
       "      <td>I bought two of these 8.5 fl oz hand cream, an...</td>\n",
       "      <td>dispensers don't work</td>\n",
       "      <td>NaN</td>\n",
       "      <td>NaN</td>\n",
       "      <td>6</td>\n",
       "      <td>15</td>\n",
       "      <td>2010</td>\n",
       "    </tr>\n",
       "    <tr>\n",
       "      <th>1</th>\n",
       "      <td>5.0</td>\n",
       "      <td>14.0</td>\n",
       "      <td>1</td>\n",
       "      <td>01 7 2010</td>\n",
       "      <td>A3HO2SQDCZIE9S</td>\n",
       "      <td>B00004U9V2</td>\n",
       "      <td>chandra</td>\n",
       "      <td>Believe me, over the years I have tried many, ...</td>\n",
       "      <td>Best hand cream ever.</td>\n",
       "      <td>NaN</td>\n",
       "      <td>NaN</td>\n",
       "      <td>1</td>\n",
       "      <td>7</td>\n",
       "      <td>2010</td>\n",
       "    </tr>\n",
       "    <tr>\n",
       "      <th>2</th>\n",
       "      <td>5.0</td>\n",
       "      <td>0.0</td>\n",
       "      <td>1</td>\n",
       "      <td>04 18 2018</td>\n",
       "      <td>A2EM03F99X3RJZ</td>\n",
       "      <td>B00004U9V2</td>\n",
       "      <td>Maureen G</td>\n",
       "      <td>Great hand lotion</td>\n",
       "      <td>Five Stars</td>\n",
       "      <td>{'Size:': ' 3.5 oz.'}</td>\n",
       "      <td>NaN</td>\n",
       "      <td>4</td>\n",
       "      <td>18</td>\n",
       "      <td>2018</td>\n",
       "    </tr>\n",
       "    <tr>\n",
       "      <th>3</th>\n",
       "      <td>5.0</td>\n",
       "      <td>0.0</td>\n",
       "      <td>1</td>\n",
       "      <td>04 18 2018</td>\n",
       "      <td>A3Z74TDRGD0HU</td>\n",
       "      <td>B00004U9V2</td>\n",
       "      <td>Terry K</td>\n",
       "      <td>This is the best for the severely dry skin on ...</td>\n",
       "      <td>Five Stars</td>\n",
       "      <td>{'Size:': ' 3.5 oz.'}</td>\n",
       "      <td>NaN</td>\n",
       "      <td>4</td>\n",
       "      <td>18</td>\n",
       "      <td>2018</td>\n",
       "    </tr>\n",
       "    <tr>\n",
       "      <th>4</th>\n",
       "      <td>5.0</td>\n",
       "      <td>0.0</td>\n",
       "      <td>1</td>\n",
       "      <td>04 17 2018</td>\n",
       "      <td>A2UXFNW9RTL4VM</td>\n",
       "      <td>B00004U9V2</td>\n",
       "      <td>Patricia Wood</td>\n",
       "      <td>The best non- oily hand cream ever. It heals o...</td>\n",
       "      <td>I always have a backup ready.</td>\n",
       "      <td>{'Size:': ' 3.5 oz.'}</td>\n",
       "      <td>NaN</td>\n",
       "      <td>4</td>\n",
       "      <td>17</td>\n",
       "      <td>2018</td>\n",
       "    </tr>\n",
       "    <tr>\n",
       "      <th>...</th>\n",
       "      <td>...</td>\n",
       "      <td>...</td>\n",
       "      <td>...</td>\n",
       "      <td>...</td>\n",
       "      <td>...</td>\n",
       "      <td>...</td>\n",
       "      <td>...</td>\n",
       "      <td>...</td>\n",
       "      <td>...</td>\n",
       "      <td>...</td>\n",
       "      <td>...</td>\n",
       "      <td>...</td>\n",
       "      <td>...</td>\n",
       "      <td>...</td>\n",
       "    </tr>\n",
       "    <tr>\n",
       "      <th>574623</th>\n",
       "      <td>5.0</td>\n",
       "      <td>0.0</td>\n",
       "      <td>1</td>\n",
       "      <td>03 20 2017</td>\n",
       "      <td>AHYJ78MVF4UQO</td>\n",
       "      <td>B01HIQEOLO</td>\n",
       "      <td>Lori Fox</td>\n",
       "      <td>Great color and I prefer shellac over gel</td>\n",
       "      <td>Five Stars</td>\n",
       "      <td>NaN</td>\n",
       "      <td>NaN</td>\n",
       "      <td>3</td>\n",
       "      <td>20</td>\n",
       "      <td>2017</td>\n",
       "    </tr>\n",
       "    <tr>\n",
       "      <th>574624</th>\n",
       "      <td>5.0</td>\n",
       "      <td>0.0</td>\n",
       "      <td>1</td>\n",
       "      <td>10 26 2016</td>\n",
       "      <td>A1L2RT7KBNK02K</td>\n",
       "      <td>B01HIQEOLO</td>\n",
       "      <td>Elena</td>\n",
       "      <td>Best shellac I have ever used.  It doesn't tak...</td>\n",
       "      <td>Best shellac I have ever used</td>\n",
       "      <td>NaN</td>\n",
       "      <td>NaN</td>\n",
       "      <td>10</td>\n",
       "      <td>26</td>\n",
       "      <td>2016</td>\n",
       "    </tr>\n",
       "    <tr>\n",
       "      <th>574625</th>\n",
       "      <td>5.0</td>\n",
       "      <td>0.0</td>\n",
       "      <td>1</td>\n",
       "      <td>09 30 2016</td>\n",
       "      <td>A36MLXQX9WPPW9</td>\n",
       "      <td>B01HIQEOLO</td>\n",
       "      <td>Donna D. Harris</td>\n",
       "      <td>Great polish and beautiful color!!</td>\n",
       "      <td>Great polish!</td>\n",
       "      <td>NaN</td>\n",
       "      <td>NaN</td>\n",
       "      <td>9</td>\n",
       "      <td>30</td>\n",
       "      <td>2016</td>\n",
       "    </tr>\n",
       "    <tr>\n",
       "      <th>574626</th>\n",
       "      <td>1.0</td>\n",
       "      <td>2.0</td>\n",
       "      <td>1</td>\n",
       "      <td>12 5 2016</td>\n",
       "      <td>A23DRCOMC2RIXF</td>\n",
       "      <td>B01HJ2UY0W</td>\n",
       "      <td>Y.Y. Chen</td>\n",
       "      <td>The perfume is good, but the spray head broke ...</td>\n",
       "      <td>Spray head broke off within a month</td>\n",
       "      <td>{'Size:': ' 1.7 Fluid Ounce', 'Color:': ' Multi'}</td>\n",
       "      <td>NaN</td>\n",
       "      <td>12</td>\n",
       "      <td>5</td>\n",
       "      <td>2016</td>\n",
       "    </tr>\n",
       "    <tr>\n",
       "      <th>574627</th>\n",
       "      <td>5.0</td>\n",
       "      <td>0.0</td>\n",
       "      <td>1</td>\n",
       "      <td>01 14 2017</td>\n",
       "      <td>AJEDVHTLS9P3V</td>\n",
       "      <td>B01HJ2UY1G</td>\n",
       "      <td>ML Shelton</td>\n",
       "      <td>Great fragrance.</td>\n",
       "      <td>Five Stars</td>\n",
       "      <td>{'Size:': ' 3.4 Fluid Ounce', 'Color:': ' Multi'}</td>\n",
       "      <td>NaN</td>\n",
       "      <td>1</td>\n",
       "      <td>14</td>\n",
       "      <td>2017</td>\n",
       "    </tr>\n",
       "  </tbody>\n",
       "</table>\n",
       "<p>574628 rows × 14 columns</p>\n",
       "</div>"
      ],
      "text/plain": [
       "        overall  vote  verified  reviewTime      reviewerID        asin  \\\n",
       "0           2.0   3.0         1  06 15 2010  A1Q6MUU0B2ZDQG  B00004U9V2   \n",
       "1           5.0  14.0         1   01 7 2010  A3HO2SQDCZIE9S  B00004U9V2   \n",
       "2           5.0   0.0         1  04 18 2018  A2EM03F99X3RJZ  B00004U9V2   \n",
       "3           5.0   0.0         1  04 18 2018   A3Z74TDRGD0HU  B00004U9V2   \n",
       "4           5.0   0.0         1  04 17 2018  A2UXFNW9RTL4VM  B00004U9V2   \n",
       "...         ...   ...       ...         ...             ...         ...   \n",
       "574623      5.0   0.0         1  03 20 2017   AHYJ78MVF4UQO  B01HIQEOLO   \n",
       "574624      5.0   0.0         1  10 26 2016  A1L2RT7KBNK02K  B01HIQEOLO   \n",
       "574625      5.0   0.0         1  09 30 2016  A36MLXQX9WPPW9  B01HIQEOLO   \n",
       "574626      1.0   2.0         1   12 5 2016  A23DRCOMC2RIXF  B01HJ2UY0W   \n",
       "574627      5.0   0.0         1  01 14 2017   AJEDVHTLS9P3V  B01HJ2UY1G   \n",
       "\n",
       "           reviewerName                                         reviewText  \\\n",
       "0             D. Poston  I bought two of these 8.5 fl oz hand cream, an...   \n",
       "1               chandra  Believe me, over the years I have tried many, ...   \n",
       "2             Maureen G                                  Great hand lotion   \n",
       "3               Terry K  This is the best for the severely dry skin on ...   \n",
       "4         Patricia Wood  The best non- oily hand cream ever. It heals o...   \n",
       "...                 ...                                                ...   \n",
       "574623         Lori Fox          Great color and I prefer shellac over gel   \n",
       "574624            Elena  Best shellac I have ever used.  It doesn't tak...   \n",
       "574625  Donna D. Harris                 Great polish and beautiful color!!   \n",
       "574626        Y.Y. Chen  The perfume is good, but the spray head broke ...   \n",
       "574627       ML Shelton                                   Great fragrance.   \n",
       "\n",
       "                                    summary  \\\n",
       "0                     dispensers don't work   \n",
       "1                     Best hand cream ever.   \n",
       "2                                Five Stars   \n",
       "3                                Five Stars   \n",
       "4             I always have a backup ready.   \n",
       "...                                     ...   \n",
       "574623                           Five Stars   \n",
       "574624        Best shellac I have ever used   \n",
       "574625                        Great polish!   \n",
       "574626  Spray head broke off within a month   \n",
       "574627                           Five Stars   \n",
       "\n",
       "                                                    style image  day  month  \\\n",
       "0                                                     NaN   NaN    6     15   \n",
       "1                                                     NaN   NaN    1      7   \n",
       "2                                   {'Size:': ' 3.5 oz.'}   NaN    4     18   \n",
       "3                                   {'Size:': ' 3.5 oz.'}   NaN    4     18   \n",
       "4                                   {'Size:': ' 3.5 oz.'}   NaN    4     17   \n",
       "...                                                   ...   ...  ...    ...   \n",
       "574623                                                NaN   NaN    3     20   \n",
       "574624                                                NaN   NaN   10     26   \n",
       "574625                                                NaN   NaN    9     30   \n",
       "574626  {'Size:': ' 1.7 Fluid Ounce', 'Color:': ' Multi'}   NaN   12      5   \n",
       "574627  {'Size:': ' 3.4 Fluid Ounce', 'Color:': ' Multi'}   NaN    1     14   \n",
       "\n",
       "        year  \n",
       "0       2010  \n",
       "1       2010  \n",
       "2       2018  \n",
       "3       2018  \n",
       "4       2018  \n",
       "...      ...  \n",
       "574623  2017  \n",
       "574624  2016  \n",
       "574625  2016  \n",
       "574626  2016  \n",
       "574627  2017  \n",
       "\n",
       "[574628 rows x 14 columns]"
      ]
     },
     "execution_count": 15,
     "metadata": {},
     "output_type": "execute_result"
    }
   ],
   "source": [
    "review_df['reviewTime'] = review_df['reviewTime'].str.replace(\",\",\"\")\n",
    "review_df[['day','month',\"year\"]] = review_df[\"reviewTime\"].str.split(\" \", expand = True).astype('int32')\n",
    "review_df"
   ]
  },
  {
   "cell_type": "code",
   "execution_count": 16,
   "id": "749649d9",
   "metadata": {},
   "outputs": [
    {
     "name": "stderr",
     "output_type": "stream",
     "text": [
      "/var/folders/k5/r4y7z25n2rz_yw3s46bn0m580000gn/T/ipykernel_1259/2868718429.py:1: UserWarning: Parsing dates in MM/DD/YYYY format when dayfirst=True was specified. This may lead to inconsistently parsed dates! Specify a format to ensure consistent parsing.\n",
      "  review_df['reviewdate'] =pd.to_datetime(review_df['reviewTime'],\n"
     ]
    }
   ],
   "source": [
    "review_df['reviewdate'] =pd.to_datetime(review_df['reviewTime'],\n",
    "                                        dayfirst=True)\n"
   ]
  },
  {
   "cell_type": "code",
   "execution_count": 17,
   "id": "b3e37503",
   "metadata": {},
   "outputs": [],
   "source": [
    "review_df['reviewdate'] = pd.to_datetime(review_df['reviewdate']).dt.tz_localize(None)"
   ]
  },
  {
   "cell_type": "code",
   "execution_count": 18,
   "id": "229db24e",
   "metadata": {},
   "outputs": [
    {
     "name": "stdout",
     "output_type": "stream",
     "text": [
      "<class 'pandas.core.frame.DataFrame'>\n",
      "RangeIndex: 574628 entries, 0 to 574627\n",
      "Data columns (total 15 columns):\n",
      " #   Column        Non-Null Count   Dtype         \n",
      "---  ------        --------------   -----         \n",
      " 0   overall       574628 non-null  float16       \n",
      " 1   vote          574628 non-null  float32       \n",
      " 2   verified      574628 non-null  int32         \n",
      " 3   reviewTime    574628 non-null  object        \n",
      " 4   reviewerID    574628 non-null  object        \n",
      " 5   asin          574628 non-null  object        \n",
      " 6   reviewerName  574597 non-null  object        \n",
      " 7   reviewText    574228 non-null  object        \n",
      " 8   summary       574445 non-null  object        \n",
      " 9   style         251013 non-null  object        \n",
      " 10  image         7418 non-null    object        \n",
      " 11  day           574628 non-null  int32         \n",
      " 12  month         574628 non-null  int32         \n",
      " 13  year          574628 non-null  int32         \n",
      " 14  reviewdate    574628 non-null  datetime64[ns]\n",
      "dtypes: datetime64[ns](1), float16(1), float32(1), int32(4), object(8)\n",
      "memory usage: 51.5+ MB\n"
     ]
    }
   ],
   "source": [
    "review_df.info()"
   ]
  },
  {
   "cell_type": "code",
   "execution_count": 19,
   "id": "62abdfab",
   "metadata": {},
   "outputs": [],
   "source": [
    "#Removing columns with null values greater than 80% https://stackoverflow.com/questions/43311555/how-to-drop-column-according-to-nan-percentage-for-dataframe \n",
    "#style_df = style_df.loc[:, style_df.isnull().mean() < .5]"
   ]
  },
  {
   "cell_type": "code",
   "execution_count": 20,
   "id": "7e2dd674",
   "metadata": {},
   "outputs": [
    {
     "data": {
      "text/html": [
       "<div>\n",
       "<style scoped>\n",
       "    .dataframe tbody tr th:only-of-type {\n",
       "        vertical-align: middle;\n",
       "    }\n",
       "\n",
       "    .dataframe tbody tr th {\n",
       "        vertical-align: top;\n",
       "    }\n",
       "\n",
       "    .dataframe thead th {\n",
       "        text-align: right;\n",
       "    }\n",
       "</style>\n",
       "<table border=\"1\" class=\"dataframe\">\n",
       "  <thead>\n",
       "    <tr style=\"text-align: right;\">\n",
       "      <th></th>\n",
       "      <th>overall</th>\n",
       "      <th>vote</th>\n",
       "      <th>verified</th>\n",
       "      <th>reviewTime</th>\n",
       "      <th>reviewerID</th>\n",
       "      <th>asin</th>\n",
       "      <th>reviewerName</th>\n",
       "      <th>reviewText</th>\n",
       "      <th>summary</th>\n",
       "      <th>style</th>\n",
       "      <th>image</th>\n",
       "      <th>day</th>\n",
       "      <th>month</th>\n",
       "      <th>year</th>\n",
       "      <th>reviewdate</th>\n",
       "    </tr>\n",
       "  </thead>\n",
       "  <tbody>\n",
       "    <tr>\n",
       "      <th>0</th>\n",
       "      <td>2.0</td>\n",
       "      <td>3.0</td>\n",
       "      <td>1</td>\n",
       "      <td>06 15 2010</td>\n",
       "      <td>A1Q6MUU0B2ZDQG</td>\n",
       "      <td>B00004U9V2</td>\n",
       "      <td>D. Poston</td>\n",
       "      <td>I bought two of these 8.5 fl oz hand cream, an...</td>\n",
       "      <td>dispensers don't work</td>\n",
       "      <td>NaN</td>\n",
       "      <td>NaN</td>\n",
       "      <td>6</td>\n",
       "      <td>15</td>\n",
       "      <td>2010</td>\n",
       "      <td>2010-06-15</td>\n",
       "    </tr>\n",
       "    <tr>\n",
       "      <th>1</th>\n",
       "      <td>5.0</td>\n",
       "      <td>14.0</td>\n",
       "      <td>1</td>\n",
       "      <td>01 7 2010</td>\n",
       "      <td>A3HO2SQDCZIE9S</td>\n",
       "      <td>B00004U9V2</td>\n",
       "      <td>chandra</td>\n",
       "      <td>Believe me, over the years I have tried many, ...</td>\n",
       "      <td>Best hand cream ever.</td>\n",
       "      <td>NaN</td>\n",
       "      <td>NaN</td>\n",
       "      <td>1</td>\n",
       "      <td>7</td>\n",
       "      <td>2010</td>\n",
       "      <td>2010-07-01</td>\n",
       "    </tr>\n",
       "    <tr>\n",
       "      <th>2</th>\n",
       "      <td>5.0</td>\n",
       "      <td>0.0</td>\n",
       "      <td>1</td>\n",
       "      <td>04 18 2018</td>\n",
       "      <td>A2EM03F99X3RJZ</td>\n",
       "      <td>B00004U9V2</td>\n",
       "      <td>Maureen G</td>\n",
       "      <td>Great hand lotion</td>\n",
       "      <td>Five Stars</td>\n",
       "      <td>{'Size:': ' 3.5 oz.'}</td>\n",
       "      <td>NaN</td>\n",
       "      <td>4</td>\n",
       "      <td>18</td>\n",
       "      <td>2018</td>\n",
       "      <td>2018-04-18</td>\n",
       "    </tr>\n",
       "    <tr>\n",
       "      <th>3</th>\n",
       "      <td>5.0</td>\n",
       "      <td>0.0</td>\n",
       "      <td>1</td>\n",
       "      <td>04 18 2018</td>\n",
       "      <td>A3Z74TDRGD0HU</td>\n",
       "      <td>B00004U9V2</td>\n",
       "      <td>Terry K</td>\n",
       "      <td>This is the best for the severely dry skin on ...</td>\n",
       "      <td>Five Stars</td>\n",
       "      <td>{'Size:': ' 3.5 oz.'}</td>\n",
       "      <td>NaN</td>\n",
       "      <td>4</td>\n",
       "      <td>18</td>\n",
       "      <td>2018</td>\n",
       "      <td>2018-04-18</td>\n",
       "    </tr>\n",
       "    <tr>\n",
       "      <th>4</th>\n",
       "      <td>5.0</td>\n",
       "      <td>0.0</td>\n",
       "      <td>1</td>\n",
       "      <td>04 17 2018</td>\n",
       "      <td>A2UXFNW9RTL4VM</td>\n",
       "      <td>B00004U9V2</td>\n",
       "      <td>Patricia Wood</td>\n",
       "      <td>The best non- oily hand cream ever. It heals o...</td>\n",
       "      <td>I always have a backup ready.</td>\n",
       "      <td>{'Size:': ' 3.5 oz.'}</td>\n",
       "      <td>NaN</td>\n",
       "      <td>4</td>\n",
       "      <td>17</td>\n",
       "      <td>2018</td>\n",
       "      <td>2018-04-17</td>\n",
       "    </tr>\n",
       "    <tr>\n",
       "      <th>...</th>\n",
       "      <td>...</td>\n",
       "      <td>...</td>\n",
       "      <td>...</td>\n",
       "      <td>...</td>\n",
       "      <td>...</td>\n",
       "      <td>...</td>\n",
       "      <td>...</td>\n",
       "      <td>...</td>\n",
       "      <td>...</td>\n",
       "      <td>...</td>\n",
       "      <td>...</td>\n",
       "      <td>...</td>\n",
       "      <td>...</td>\n",
       "      <td>...</td>\n",
       "      <td>...</td>\n",
       "    </tr>\n",
       "    <tr>\n",
       "      <th>574623</th>\n",
       "      <td>5.0</td>\n",
       "      <td>0.0</td>\n",
       "      <td>1</td>\n",
       "      <td>03 20 2017</td>\n",
       "      <td>AHYJ78MVF4UQO</td>\n",
       "      <td>B01HIQEOLO</td>\n",
       "      <td>Lori Fox</td>\n",
       "      <td>Great color and I prefer shellac over gel</td>\n",
       "      <td>Five Stars</td>\n",
       "      <td>NaN</td>\n",
       "      <td>NaN</td>\n",
       "      <td>3</td>\n",
       "      <td>20</td>\n",
       "      <td>2017</td>\n",
       "      <td>2017-03-20</td>\n",
       "    </tr>\n",
       "    <tr>\n",
       "      <th>574624</th>\n",
       "      <td>5.0</td>\n",
       "      <td>0.0</td>\n",
       "      <td>1</td>\n",
       "      <td>10 26 2016</td>\n",
       "      <td>A1L2RT7KBNK02K</td>\n",
       "      <td>B01HIQEOLO</td>\n",
       "      <td>Elena</td>\n",
       "      <td>Best shellac I have ever used.  It doesn't tak...</td>\n",
       "      <td>Best shellac I have ever used</td>\n",
       "      <td>NaN</td>\n",
       "      <td>NaN</td>\n",
       "      <td>10</td>\n",
       "      <td>26</td>\n",
       "      <td>2016</td>\n",
       "      <td>2016-10-26</td>\n",
       "    </tr>\n",
       "    <tr>\n",
       "      <th>574625</th>\n",
       "      <td>5.0</td>\n",
       "      <td>0.0</td>\n",
       "      <td>1</td>\n",
       "      <td>09 30 2016</td>\n",
       "      <td>A36MLXQX9WPPW9</td>\n",
       "      <td>B01HIQEOLO</td>\n",
       "      <td>Donna D. Harris</td>\n",
       "      <td>Great polish and beautiful color!!</td>\n",
       "      <td>Great polish!</td>\n",
       "      <td>NaN</td>\n",
       "      <td>NaN</td>\n",
       "      <td>9</td>\n",
       "      <td>30</td>\n",
       "      <td>2016</td>\n",
       "      <td>2016-09-30</td>\n",
       "    </tr>\n",
       "    <tr>\n",
       "      <th>574626</th>\n",
       "      <td>1.0</td>\n",
       "      <td>2.0</td>\n",
       "      <td>1</td>\n",
       "      <td>12 5 2016</td>\n",
       "      <td>A23DRCOMC2RIXF</td>\n",
       "      <td>B01HJ2UY0W</td>\n",
       "      <td>Y.Y. Chen</td>\n",
       "      <td>The perfume is good, but the spray head broke ...</td>\n",
       "      <td>Spray head broke off within a month</td>\n",
       "      <td>{'Size:': ' 1.7 Fluid Ounce', 'Color:': ' Multi'}</td>\n",
       "      <td>NaN</td>\n",
       "      <td>12</td>\n",
       "      <td>5</td>\n",
       "      <td>2016</td>\n",
       "      <td>2016-05-12</td>\n",
       "    </tr>\n",
       "    <tr>\n",
       "      <th>574627</th>\n",
       "      <td>5.0</td>\n",
       "      <td>0.0</td>\n",
       "      <td>1</td>\n",
       "      <td>01 14 2017</td>\n",
       "      <td>AJEDVHTLS9P3V</td>\n",
       "      <td>B01HJ2UY1G</td>\n",
       "      <td>ML Shelton</td>\n",
       "      <td>Great fragrance.</td>\n",
       "      <td>Five Stars</td>\n",
       "      <td>{'Size:': ' 3.4 Fluid Ounce', 'Color:': ' Multi'}</td>\n",
       "      <td>NaN</td>\n",
       "      <td>1</td>\n",
       "      <td>14</td>\n",
       "      <td>2017</td>\n",
       "      <td>2017-01-14</td>\n",
       "    </tr>\n",
       "  </tbody>\n",
       "</table>\n",
       "<p>574628 rows × 15 columns</p>\n",
       "</div>"
      ],
      "text/plain": [
       "        overall  vote  verified  reviewTime      reviewerID        asin  \\\n",
       "0           2.0   3.0         1  06 15 2010  A1Q6MUU0B2ZDQG  B00004U9V2   \n",
       "1           5.0  14.0         1   01 7 2010  A3HO2SQDCZIE9S  B00004U9V2   \n",
       "2           5.0   0.0         1  04 18 2018  A2EM03F99X3RJZ  B00004U9V2   \n",
       "3           5.0   0.0         1  04 18 2018   A3Z74TDRGD0HU  B00004U9V2   \n",
       "4           5.0   0.0         1  04 17 2018  A2UXFNW9RTL4VM  B00004U9V2   \n",
       "...         ...   ...       ...         ...             ...         ...   \n",
       "574623      5.0   0.0         1  03 20 2017   AHYJ78MVF4UQO  B01HIQEOLO   \n",
       "574624      5.0   0.0         1  10 26 2016  A1L2RT7KBNK02K  B01HIQEOLO   \n",
       "574625      5.0   0.0         1  09 30 2016  A36MLXQX9WPPW9  B01HIQEOLO   \n",
       "574626      1.0   2.0         1   12 5 2016  A23DRCOMC2RIXF  B01HJ2UY0W   \n",
       "574627      5.0   0.0         1  01 14 2017   AJEDVHTLS9P3V  B01HJ2UY1G   \n",
       "\n",
       "           reviewerName                                         reviewText  \\\n",
       "0             D. Poston  I bought two of these 8.5 fl oz hand cream, an...   \n",
       "1               chandra  Believe me, over the years I have tried many, ...   \n",
       "2             Maureen G                                  Great hand lotion   \n",
       "3               Terry K  This is the best for the severely dry skin on ...   \n",
       "4         Patricia Wood  The best non- oily hand cream ever. It heals o...   \n",
       "...                 ...                                                ...   \n",
       "574623         Lori Fox          Great color and I prefer shellac over gel   \n",
       "574624            Elena  Best shellac I have ever used.  It doesn't tak...   \n",
       "574625  Donna D. Harris                 Great polish and beautiful color!!   \n",
       "574626        Y.Y. Chen  The perfume is good, but the spray head broke ...   \n",
       "574627       ML Shelton                                   Great fragrance.   \n",
       "\n",
       "                                    summary  \\\n",
       "0                     dispensers don't work   \n",
       "1                     Best hand cream ever.   \n",
       "2                                Five Stars   \n",
       "3                                Five Stars   \n",
       "4             I always have a backup ready.   \n",
       "...                                     ...   \n",
       "574623                           Five Stars   \n",
       "574624        Best shellac I have ever used   \n",
       "574625                        Great polish!   \n",
       "574626  Spray head broke off within a month   \n",
       "574627                           Five Stars   \n",
       "\n",
       "                                                    style image  day  month  \\\n",
       "0                                                     NaN   NaN    6     15   \n",
       "1                                                     NaN   NaN    1      7   \n",
       "2                                   {'Size:': ' 3.5 oz.'}   NaN    4     18   \n",
       "3                                   {'Size:': ' 3.5 oz.'}   NaN    4     18   \n",
       "4                                   {'Size:': ' 3.5 oz.'}   NaN    4     17   \n",
       "...                                                   ...   ...  ...    ...   \n",
       "574623                                                NaN   NaN    3     20   \n",
       "574624                                                NaN   NaN   10     26   \n",
       "574625                                                NaN   NaN    9     30   \n",
       "574626  {'Size:': ' 1.7 Fluid Ounce', 'Color:': ' Multi'}   NaN   12      5   \n",
       "574627  {'Size:': ' 3.4 Fluid Ounce', 'Color:': ' Multi'}   NaN    1     14   \n",
       "\n",
       "        year reviewdate  \n",
       "0       2010 2010-06-15  \n",
       "1       2010 2010-07-01  \n",
       "2       2018 2018-04-18  \n",
       "3       2018 2018-04-18  \n",
       "4       2018 2018-04-17  \n",
       "...      ...        ...  \n",
       "574623  2017 2017-03-20  \n",
       "574624  2016 2016-10-26  \n",
       "574625  2016 2016-09-30  \n",
       "574626  2016 2016-05-12  \n",
       "574627  2017 2017-01-14  \n",
       "\n",
       "[574628 rows x 15 columns]"
      ]
     },
     "execution_count": 20,
     "metadata": {},
     "output_type": "execute_result"
    }
   ],
   "source": [
    "review_df"
   ]
  },
  {
   "cell_type": "code",
   "execution_count": 21,
   "id": "9241e177",
   "metadata": {},
   "outputs": [],
   "source": [
    "#Removing unnecessary columns and Image\n",
    "columns = [\"style\",\"image\"]\n",
    "for column in columns: \n",
    "     review_df = review_df.drop([column],axis=1)"
   ]
  },
  {
   "cell_type": "code",
   "execution_count": 22,
   "id": "5f62f2dd",
   "metadata": {},
   "outputs": [
    {
     "name": "stdout",
     "output_type": "stream",
     "text": [
      "overall           0\n",
      "vote              0\n",
      "verified          0\n",
      "reviewTime        0\n",
      "reviewerID        0\n",
      "asin              0\n",
      "reviewerName     31\n",
      "reviewText      400\n",
      "summary         183\n",
      "day               0\n",
      "month             0\n",
      "year              0\n",
      "reviewdate        0\n",
      "dtype: int64\n"
     ]
    }
   ],
   "source": [
    "nan_count = review_df.isna().sum()\n",
    "print(nan_count)"
   ]
  },
  {
   "cell_type": "code",
   "execution_count": 23,
   "id": "a722d3f9",
   "metadata": {},
   "outputs": [],
   "source": [
    "#replacing na values of reviewer name with reviewer ID \n",
    "review_df['reviewerName'] =review_df.loc[:,'reviewerName'].fillna(review_df[\"reviewerID\"])"
   ]
  },
  {
   "cell_type": "code",
   "execution_count": 24,
   "id": "e8975a9b",
   "metadata": {},
   "outputs": [
    {
     "name": "stdout",
     "output_type": "stream",
     "text": [
      "overall           0\n",
      "vote              0\n",
      "verified          0\n",
      "reviewTime        0\n",
      "reviewerID        0\n",
      "asin              0\n",
      "reviewerName      0\n",
      "reviewText      400\n",
      "summary         183\n",
      "day               0\n",
      "month             0\n",
      "year              0\n",
      "reviewdate        0\n",
      "dtype: int64\n"
     ]
    }
   ],
   "source": [
    "nan_count = review_df.isna().sum()\n",
    "print(nan_count)"
   ]
  },
  {
   "cell_type": "code",
   "execution_count": 25,
   "id": "0bcd0aa3",
   "metadata": {},
   "outputs": [
    {
     "name": "stdout",
     "output_type": "stream",
     "text": [
      "Null values of reviewText makes up 0.07% of dataset, this is small so we can remove these lines\n"
     ]
    }
   ],
   "source": [
    "# % of na values of review_df\n",
    "pct_reviewText = review_df[\"reviewText\"].isna().sum()/review_df.shape[0]*100\n",
    "print(f\"Null values of reviewText makes up {round(pct_reviewText,2)}% of dataset, this is small so we can remove these lines\")"
   ]
  },
  {
   "cell_type": "code",
   "execution_count": 26,
   "id": "42e2a5a5",
   "metadata": {},
   "outputs": [
    {
     "data": {
      "text/plain": [
       "(574053, 13)"
      ]
     },
     "execution_count": 26,
     "metadata": {},
     "output_type": "execute_result"
    }
   ],
   "source": [
    "#removing remaining rows with null values and checking row counts, saved to df1\n",
    "review_df1 = review_df.dropna().copy()\n",
    "review_df1.shape"
   ]
  },
  {
   "cell_type": "code",
   "execution_count": 27,
   "id": "bc64047d",
   "metadata": {},
   "outputs": [
    {
     "data": {
      "text/plain": [
       "0"
      ]
     },
     "execution_count": 27,
     "metadata": {},
     "output_type": "execute_result"
    }
   ],
   "source": [
    "#sanity check\n",
    "review_df1.isna().sum().sum()"
   ]
  },
  {
   "cell_type": "code",
   "execution_count": 28,
   "id": "de5c9c51",
   "metadata": {},
   "outputs": [],
   "source": [
    "review_df1 = review_df1.drop(columns =\"reviewerName\")\n"
   ]
  },
  {
   "cell_type": "code",
   "execution_count": 29,
   "id": "5b64d198",
   "metadata": {},
   "outputs": [
    {
     "data": {
      "text/html": [
       "<div>\n",
       "<style scoped>\n",
       "    .dataframe tbody tr th:only-of-type {\n",
       "        vertical-align: middle;\n",
       "    }\n",
       "\n",
       "    .dataframe tbody tr th {\n",
       "        vertical-align: top;\n",
       "    }\n",
       "\n",
       "    .dataframe thead th {\n",
       "        text-align: right;\n",
       "    }\n",
       "</style>\n",
       "<table border=\"1\" class=\"dataframe\">\n",
       "  <thead>\n",
       "    <tr style=\"text-align: right;\">\n",
       "      <th></th>\n",
       "      <th>overall</th>\n",
       "      <th>vote</th>\n",
       "      <th>verified</th>\n",
       "      <th>reviewTime</th>\n",
       "      <th>reviewerID</th>\n",
       "      <th>asin</th>\n",
       "      <th>reviewText</th>\n",
       "      <th>summary</th>\n",
       "      <th>day</th>\n",
       "      <th>month</th>\n",
       "      <th>year</th>\n",
       "      <th>reviewdate</th>\n",
       "    </tr>\n",
       "  </thead>\n",
       "  <tbody>\n",
       "    <tr>\n",
       "      <th>0</th>\n",
       "      <td>2.0</td>\n",
       "      <td>3.0</td>\n",
       "      <td>1</td>\n",
       "      <td>06 15 2010</td>\n",
       "      <td>A1Q6MUU0B2ZDQG</td>\n",
       "      <td>B00004U9V2</td>\n",
       "      <td>I bought two of these 8.5 fl oz hand cream, an...</td>\n",
       "      <td>dispensers don't work</td>\n",
       "      <td>6</td>\n",
       "      <td>15</td>\n",
       "      <td>2010</td>\n",
       "      <td>2010-06-15</td>\n",
       "    </tr>\n",
       "    <tr>\n",
       "      <th>1</th>\n",
       "      <td>5.0</td>\n",
       "      <td>14.0</td>\n",
       "      <td>1</td>\n",
       "      <td>01 7 2010</td>\n",
       "      <td>A3HO2SQDCZIE9S</td>\n",
       "      <td>B00004U9V2</td>\n",
       "      <td>Believe me, over the years I have tried many, ...</td>\n",
       "      <td>Best hand cream ever.</td>\n",
       "      <td>1</td>\n",
       "      <td>7</td>\n",
       "      <td>2010</td>\n",
       "      <td>2010-07-01</td>\n",
       "    </tr>\n",
       "    <tr>\n",
       "      <th>2</th>\n",
       "      <td>5.0</td>\n",
       "      <td>0.0</td>\n",
       "      <td>1</td>\n",
       "      <td>04 18 2018</td>\n",
       "      <td>A2EM03F99X3RJZ</td>\n",
       "      <td>B00004U9V2</td>\n",
       "      <td>Great hand lotion</td>\n",
       "      <td>Five Stars</td>\n",
       "      <td>4</td>\n",
       "      <td>18</td>\n",
       "      <td>2018</td>\n",
       "      <td>2018-04-18</td>\n",
       "    </tr>\n",
       "    <tr>\n",
       "      <th>3</th>\n",
       "      <td>5.0</td>\n",
       "      <td>0.0</td>\n",
       "      <td>1</td>\n",
       "      <td>04 18 2018</td>\n",
       "      <td>A3Z74TDRGD0HU</td>\n",
       "      <td>B00004U9V2</td>\n",
       "      <td>This is the best for the severely dry skin on ...</td>\n",
       "      <td>Five Stars</td>\n",
       "      <td>4</td>\n",
       "      <td>18</td>\n",
       "      <td>2018</td>\n",
       "      <td>2018-04-18</td>\n",
       "    </tr>\n",
       "    <tr>\n",
       "      <th>4</th>\n",
       "      <td>5.0</td>\n",
       "      <td>0.0</td>\n",
       "      <td>1</td>\n",
       "      <td>04 17 2018</td>\n",
       "      <td>A2UXFNW9RTL4VM</td>\n",
       "      <td>B00004U9V2</td>\n",
       "      <td>The best non- oily hand cream ever. It heals o...</td>\n",
       "      <td>I always have a backup ready.</td>\n",
       "      <td>4</td>\n",
       "      <td>17</td>\n",
       "      <td>2018</td>\n",
       "      <td>2018-04-17</td>\n",
       "    </tr>\n",
       "    <tr>\n",
       "      <th>...</th>\n",
       "      <td>...</td>\n",
       "      <td>...</td>\n",
       "      <td>...</td>\n",
       "      <td>...</td>\n",
       "      <td>...</td>\n",
       "      <td>...</td>\n",
       "      <td>...</td>\n",
       "      <td>...</td>\n",
       "      <td>...</td>\n",
       "      <td>...</td>\n",
       "      <td>...</td>\n",
       "      <td>...</td>\n",
       "    </tr>\n",
       "    <tr>\n",
       "      <th>574623</th>\n",
       "      <td>5.0</td>\n",
       "      <td>0.0</td>\n",
       "      <td>1</td>\n",
       "      <td>03 20 2017</td>\n",
       "      <td>AHYJ78MVF4UQO</td>\n",
       "      <td>B01HIQEOLO</td>\n",
       "      <td>Great color and I prefer shellac over gel</td>\n",
       "      <td>Five Stars</td>\n",
       "      <td>3</td>\n",
       "      <td>20</td>\n",
       "      <td>2017</td>\n",
       "      <td>2017-03-20</td>\n",
       "    </tr>\n",
       "    <tr>\n",
       "      <th>574624</th>\n",
       "      <td>5.0</td>\n",
       "      <td>0.0</td>\n",
       "      <td>1</td>\n",
       "      <td>10 26 2016</td>\n",
       "      <td>A1L2RT7KBNK02K</td>\n",
       "      <td>B01HIQEOLO</td>\n",
       "      <td>Best shellac I have ever used.  It doesn't tak...</td>\n",
       "      <td>Best shellac I have ever used</td>\n",
       "      <td>10</td>\n",
       "      <td>26</td>\n",
       "      <td>2016</td>\n",
       "      <td>2016-10-26</td>\n",
       "    </tr>\n",
       "    <tr>\n",
       "      <th>574625</th>\n",
       "      <td>5.0</td>\n",
       "      <td>0.0</td>\n",
       "      <td>1</td>\n",
       "      <td>09 30 2016</td>\n",
       "      <td>A36MLXQX9WPPW9</td>\n",
       "      <td>B01HIQEOLO</td>\n",
       "      <td>Great polish and beautiful color!!</td>\n",
       "      <td>Great polish!</td>\n",
       "      <td>9</td>\n",
       "      <td>30</td>\n",
       "      <td>2016</td>\n",
       "      <td>2016-09-30</td>\n",
       "    </tr>\n",
       "    <tr>\n",
       "      <th>574626</th>\n",
       "      <td>1.0</td>\n",
       "      <td>2.0</td>\n",
       "      <td>1</td>\n",
       "      <td>12 5 2016</td>\n",
       "      <td>A23DRCOMC2RIXF</td>\n",
       "      <td>B01HJ2UY0W</td>\n",
       "      <td>The perfume is good, but the spray head broke ...</td>\n",
       "      <td>Spray head broke off within a month</td>\n",
       "      <td>12</td>\n",
       "      <td>5</td>\n",
       "      <td>2016</td>\n",
       "      <td>2016-05-12</td>\n",
       "    </tr>\n",
       "    <tr>\n",
       "      <th>574627</th>\n",
       "      <td>5.0</td>\n",
       "      <td>0.0</td>\n",
       "      <td>1</td>\n",
       "      <td>01 14 2017</td>\n",
       "      <td>AJEDVHTLS9P3V</td>\n",
       "      <td>B01HJ2UY1G</td>\n",
       "      <td>Great fragrance.</td>\n",
       "      <td>Five Stars</td>\n",
       "      <td>1</td>\n",
       "      <td>14</td>\n",
       "      <td>2017</td>\n",
       "      <td>2017-01-14</td>\n",
       "    </tr>\n",
       "  </tbody>\n",
       "</table>\n",
       "<p>574053 rows × 12 columns</p>\n",
       "</div>"
      ],
      "text/plain": [
       "        overall  vote  verified  reviewTime      reviewerID        asin  \\\n",
       "0           2.0   3.0         1  06 15 2010  A1Q6MUU0B2ZDQG  B00004U9V2   \n",
       "1           5.0  14.0         1   01 7 2010  A3HO2SQDCZIE9S  B00004U9V2   \n",
       "2           5.0   0.0         1  04 18 2018  A2EM03F99X3RJZ  B00004U9V2   \n",
       "3           5.0   0.0         1  04 18 2018   A3Z74TDRGD0HU  B00004U9V2   \n",
       "4           5.0   0.0         1  04 17 2018  A2UXFNW9RTL4VM  B00004U9V2   \n",
       "...         ...   ...       ...         ...             ...         ...   \n",
       "574623      5.0   0.0         1  03 20 2017   AHYJ78MVF4UQO  B01HIQEOLO   \n",
       "574624      5.0   0.0         1  10 26 2016  A1L2RT7KBNK02K  B01HIQEOLO   \n",
       "574625      5.0   0.0         1  09 30 2016  A36MLXQX9WPPW9  B01HIQEOLO   \n",
       "574626      1.0   2.0         1   12 5 2016  A23DRCOMC2RIXF  B01HJ2UY0W   \n",
       "574627      5.0   0.0         1  01 14 2017   AJEDVHTLS9P3V  B01HJ2UY1G   \n",
       "\n",
       "                                               reviewText  \\\n",
       "0       I bought two of these 8.5 fl oz hand cream, an...   \n",
       "1       Believe me, over the years I have tried many, ...   \n",
       "2                                       Great hand lotion   \n",
       "3       This is the best for the severely dry skin on ...   \n",
       "4       The best non- oily hand cream ever. It heals o...   \n",
       "...                                                   ...   \n",
       "574623          Great color and I prefer shellac over gel   \n",
       "574624  Best shellac I have ever used.  It doesn't tak...   \n",
       "574625                 Great polish and beautiful color!!   \n",
       "574626  The perfume is good, but the spray head broke ...   \n",
       "574627                                   Great fragrance.   \n",
       "\n",
       "                                    summary  day  month  year reviewdate  \n",
       "0                     dispensers don't work    6     15  2010 2010-06-15  \n",
       "1                     Best hand cream ever.    1      7  2010 2010-07-01  \n",
       "2                                Five Stars    4     18  2018 2018-04-18  \n",
       "3                                Five Stars    4     18  2018 2018-04-18  \n",
       "4             I always have a backup ready.    4     17  2018 2018-04-17  \n",
       "...                                     ...  ...    ...   ...        ...  \n",
       "574623                           Five Stars    3     20  2017 2017-03-20  \n",
       "574624        Best shellac I have ever used   10     26  2016 2016-10-26  \n",
       "574625                        Great polish!    9     30  2016 2016-09-30  \n",
       "574626  Spray head broke off within a month   12      5  2016 2016-05-12  \n",
       "574627                           Five Stars    1     14  2017 2017-01-14  \n",
       "\n",
       "[574053 rows x 12 columns]"
      ]
     },
     "execution_count": 29,
     "metadata": {},
     "output_type": "execute_result"
    }
   ],
   "source": [
    "review_df1"
   ]
  },
  {
   "cell_type": "markdown",
   "id": "2774e4f2",
   "metadata": {},
   "source": [
    "### Row Duplicates"
   ]
  },
  {
   "cell_type": "markdown",
   "id": "ab806d72",
   "metadata": {},
   "source": [
    "Now that we have dealt with the null values we can move onto checking if we have any duplicates of rows. "
   ]
  },
  {
   "cell_type": "code",
   "execution_count": 30,
   "id": "f517008c",
   "metadata": {},
   "outputs": [
    {
     "data": {
      "text/plain": [
       "34893"
      ]
     },
     "execution_count": 30,
     "metadata": {},
     "output_type": "execute_result"
    }
   ],
   "source": [
    "#checking count of duplicated rows \n",
    "review_df1.duplicated().sum()"
   ]
  },
  {
   "cell_type": "code",
   "execution_count": 31,
   "id": "63736212",
   "metadata": {},
   "outputs": [
    {
     "name": "stdout",
     "output_type": "stream",
     "text": [
      "Duplicate rows make up 6.08 % of dataset, which is fairly large\n"
     ]
    }
   ],
   "source": [
    "# % of na values of review_df\n",
    "pct_duplicates = review_df1.duplicated().sum()/review_df1.shape[0]*100\n",
    "print(f\"Duplicate rows make up {round(pct_duplicates,2)} % of dataset, which is fairly large\")"
   ]
  },
  {
   "cell_type": "code",
   "execution_count": 32,
   "id": "50d97bce",
   "metadata": {},
   "outputs": [
    {
     "data": {
      "text/html": [
       "<div>\n",
       "<style scoped>\n",
       "    .dataframe tbody tr th:only-of-type {\n",
       "        vertical-align: middle;\n",
       "    }\n",
       "\n",
       "    .dataframe tbody tr th {\n",
       "        vertical-align: top;\n",
       "    }\n",
       "\n",
       "    .dataframe thead th {\n",
       "        text-align: right;\n",
       "    }\n",
       "</style>\n",
       "<table border=\"1\" class=\"dataframe\">\n",
       "  <thead>\n",
       "    <tr style=\"text-align: right;\">\n",
       "      <th></th>\n",
       "      <th>overall</th>\n",
       "      <th>vote</th>\n",
       "      <th>verified</th>\n",
       "      <th>reviewTime</th>\n",
       "      <th>reviewerID</th>\n",
       "      <th>asin</th>\n",
       "      <th>reviewText</th>\n",
       "      <th>summary</th>\n",
       "      <th>day</th>\n",
       "      <th>month</th>\n",
       "      <th>year</th>\n",
       "      <th>reviewdate</th>\n",
       "    </tr>\n",
       "  </thead>\n",
       "  <tbody>\n",
       "    <tr>\n",
       "      <th>172404</th>\n",
       "      <td>5.0</td>\n",
       "      <td>0.0</td>\n",
       "      <td>1</td>\n",
       "      <td>12 16 2016</td>\n",
       "      <td>A1MYTYW8B1KKEM</td>\n",
       "      <td>B00172IEXU</td>\n",
       "      <td>Very gentle, works well, does not dry my face ...</td>\n",
       "      <td>Five Stars</td>\n",
       "      <td>12</td>\n",
       "      <td>16</td>\n",
       "      <td>2016</td>\n",
       "      <td>2016-12-16</td>\n",
       "    </tr>\n",
       "    <tr>\n",
       "      <th>169462</th>\n",
       "      <td>1.0</td>\n",
       "      <td>0.0</td>\n",
       "      <td>1</td>\n",
       "      <td>12 14 2013</td>\n",
       "      <td>A1KB1U4YR7Z75</td>\n",
       "      <td>B0015VP9CW</td>\n",
       "      <td>This is the fifth bottle fo Butter I have purc...</td>\n",
       "      <td>Not on my list any longer</td>\n",
       "      <td>12</td>\n",
       "      <td>14</td>\n",
       "      <td>2013</td>\n",
       "      <td>2013-12-14</td>\n",
       "    </tr>\n",
       "    <tr>\n",
       "      <th>170440</th>\n",
       "      <td>4.0</td>\n",
       "      <td>0.0</td>\n",
       "      <td>1</td>\n",
       "      <td>02 18 2013</td>\n",
       "      <td>A2IDILDNU6AB97</td>\n",
       "      <td>B0015Z90NC</td>\n",
       "      <td>I love this product line. I decided to try thi...</td>\n",
       "      <td>Good stuff</td>\n",
       "      <td>2</td>\n",
       "      <td>18</td>\n",
       "      <td>2013</td>\n",
       "      <td>2013-02-18</td>\n",
       "    </tr>\n",
       "    <tr>\n",
       "      <th>158131</th>\n",
       "      <td>5.0</td>\n",
       "      <td>0.0</td>\n",
       "      <td>1</td>\n",
       "      <td>05 4 2015</td>\n",
       "      <td>A37H8Z25KYU7FJ</td>\n",
       "      <td>B000ZLZMRA</td>\n",
       "      <td>Great product line, oil adds necessary protect...</td>\n",
       "      <td>Five Stars</td>\n",
       "      <td>5</td>\n",
       "      <td>4</td>\n",
       "      <td>2015</td>\n",
       "      <td>2015-04-05</td>\n",
       "    </tr>\n",
       "    <tr>\n",
       "      <th>160308</th>\n",
       "      <td>5.0</td>\n",
       "      <td>2.0</td>\n",
       "      <td>1</td>\n",
       "      <td>11 22 2013</td>\n",
       "      <td>A2DVZMJIKFUG46</td>\n",
       "      <td>B0010P6D28</td>\n",
       "      <td>! This stuff really works. My neck was itchy a...</td>\n",
       "      <td>Love this Nectifirm!</td>\n",
       "      <td>11</td>\n",
       "      <td>22</td>\n",
       "      <td>2013</td>\n",
       "      <td>2013-11-22</td>\n",
       "    </tr>\n",
       "  </tbody>\n",
       "</table>\n",
       "</div>"
      ],
      "text/plain": [
       "        overall  vote  verified  reviewTime      reviewerID        asin  \\\n",
       "172404      5.0   0.0         1  12 16 2016  A1MYTYW8B1KKEM  B00172IEXU   \n",
       "169462      1.0   0.0         1  12 14 2013   A1KB1U4YR7Z75  B0015VP9CW   \n",
       "170440      4.0   0.0         1  02 18 2013  A2IDILDNU6AB97  B0015Z90NC   \n",
       "158131      5.0   0.0         1   05 4 2015  A37H8Z25KYU7FJ  B000ZLZMRA   \n",
       "160308      5.0   2.0         1  11 22 2013  A2DVZMJIKFUG46  B0010P6D28   \n",
       "\n",
       "                                               reviewText  \\\n",
       "172404  Very gentle, works well, does not dry my face ...   \n",
       "169462  This is the fifth bottle fo Butter I have purc...   \n",
       "170440  I love this product line. I decided to try thi...   \n",
       "158131  Great product line, oil adds necessary protect...   \n",
       "160308  ! This stuff really works. My neck was itchy a...   \n",
       "\n",
       "                          summary  day  month  year reviewdate  \n",
       "172404                 Five Stars   12     16  2016 2016-12-16  \n",
       "169462  Not on my list any longer   12     14  2013 2013-12-14  \n",
       "170440                 Good stuff    2     18  2013 2013-02-18  \n",
       "158131                 Five Stars    5      4  2015 2015-04-05  \n",
       "160308       Love this Nectifirm!   11     22  2013 2013-11-22  "
      ]
     },
     "execution_count": 32,
     "metadata": {},
     "output_type": "execute_result"
    }
   ],
   "source": [
    "#looking at duplicates\n",
    "review_df1[review_df1.duplicated()].sample(5)"
   ]
  },
  {
   "cell_type": "code",
   "execution_count": 33,
   "id": "ed938433",
   "metadata": {},
   "outputs": [
    {
     "name": "stdout",
     "output_type": "stream",
     "text": [
      "Each duplicated row appears close to twice at 0.51% of the dataset, so there was likely a data recording issue.\n"
     ]
    }
   ],
   "source": [
    "pct_origin_row = review_df.duplicated().sum() /review_df.duplicated(keep=False).sum()\n",
    "print(f\"Each duplicated row appears close to twice at {round(pct_origin_row,2)}% of the dataset, so there was likely a data recording issue.\")"
   ]
  },
  {
   "cell_type": "code",
   "execution_count": 34,
   "id": "87c20615",
   "metadata": {},
   "outputs": [
    {
     "data": {
      "text/plain": [
       "(539160, 12)"
      ]
     },
     "execution_count": 34,
     "metadata": {},
     "output_type": "execute_result"
    }
   ],
   "source": [
    "#removing duplicates\n",
    "review_df1 = review_df1.drop_duplicates()\n",
    "review_df1.shape"
   ]
  },
  {
   "cell_type": "code",
   "execution_count": 35,
   "id": "816b6779",
   "metadata": {},
   "outputs": [],
   "source": [
    "#creating clean review_df and copying in review_df into it \n",
    "clean_review_df = pd.DataFrame()\n",
    "clean_review_df = review_df1.copy()"
   ]
  },
  {
   "cell_type": "code",
   "execution_count": 36,
   "id": "7957c346",
   "metadata": {},
   "outputs": [
    {
     "data": {
      "text/plain": [
       "overall       0\n",
       "vote          0\n",
       "verified      0\n",
       "reviewTime    0\n",
       "reviewerID    0\n",
       "asin          0\n",
       "reviewText    0\n",
       "summary       0\n",
       "day           0\n",
       "month         0\n",
       "year          0\n",
       "reviewdate    0\n",
       "dtype: int64"
      ]
     },
     "execution_count": 36,
     "metadata": {},
     "output_type": "execute_result"
    }
   ],
   "source": [
    "clean_review_df.isna().sum()"
   ]
  },
  {
   "cell_type": "code",
   "execution_count": 37,
   "id": "cb0b5635",
   "metadata": {},
   "outputs": [
    {
     "data": {
      "image/png": "[encoded data removed]",
      "text/plain": [
       "<Figure size 720x576 with 1 Axes>"
      ]
     },
     "metadata": {},
     "output_type": "display_data"
    }
   ],
   "source": [
    "#histogram of reviews \n",
    "binwidth = 50\n",
    "\n",
    "plt.figure(figsize=(10,8))\n",
    "asin_data = clean_review_df[\"asin\"].value_counts()\n",
    "plt.hist(asin_data , bins=np.arange(0,3500, binwidth))\n",
    "\n",
    "plt.xlabel(f'Review count. Bin Width: {binwidth}')\n",
    "plt.ylabel('Frequency')\n",
    "plt.title('Distribution of Review counts in dataset')\n",
    "plt.show()"
   ]
  },
  {
   "cell_type": "markdown",
   "id": "6875726e",
   "metadata": {},
   "source": [
    "#### Cleaning Metadata Dataset"
   ]
  },
  {
   "cell_type": "code",
   "execution_count": 38,
   "id": "5a74c300",
   "metadata": {},
   "outputs": [],
   "source": [
    "#Opening the Meta data \n",
    "metadata_df = []\n",
    "r_dtypes = {\"category\": object,\n",
    "            \"tech1\": object,\n",
    "            \"description\": object,\n",
    "            \"fit\": object,\n",
    "            \"title\": object,\n",
    "            \"also_buy\": list,\n",
    "            \"tech2\": object, \n",
    "            \"brand\": object,\n",
    "            \"feature\": object,\n",
    "            \"rank\":object,\n",
    "            \"also_view\": list, \n",
    "            \"details\": object,\n",
    "            \"Shipping Weight\": object,\n",
    "            'International Shipping': object,\n",
    "            \"ASIN\": object, \n",
    "            \"Item model number\": object,\n",
    "            \"main_cat\": object,\n",
    "            \"similar_item\": object,\n",
    "            \"date\": object,\n",
    "            \"price\": np.float32,\n",
    "            \"asin\": object, \n",
    "            \"imageURL\": list, \n",
    "            \"imageURLHighRes\": list ,\n",
    "           }\n",
    "with open(\"meta_Luxury_Beauty.json\", \"r\") as f:\n",
    "    reader = pd.read_json(f, orient=\"records\", lines=True, \n",
    "                          dtype=r_dtypes, chunksize=1000)\n",
    "        \n",
    "    for chunk in reader:\n",
    "        reduced_chunk = chunk.drop(columns=[\"tech1\"],axis=1)\n",
    "        metadata_df.append(reduced_chunk)\n",
    "    \n",
    "metadata_df = pd.concat(metadata_df, ignore_index=True)"
   ]
  },
  {
   "cell_type": "code",
   "execution_count": 39,
   "id": "b9c34a77",
   "metadata": {},
   "outputs": [
    {
     "data": {
      "text/plain": [
       "(12299, 18)"
      ]
     },
     "execution_count": 39,
     "metadata": {},
     "output_type": "execute_result"
    }
   ],
   "source": [
    "#Row and column count \n",
    "metadata_df.shape"
   ]
  },
  {
   "cell_type": "code",
   "execution_count": 40,
   "id": "238c24b6",
   "metadata": {},
   "outputs": [
    {
     "data": {
      "text/html": [
       "<div>\n",
       "<style scoped>\n",
       "    .dataframe tbody tr th:only-of-type {\n",
       "        vertical-align: middle;\n",
       "    }\n",
       "\n",
       "    .dataframe tbody tr th {\n",
       "        vertical-align: top;\n",
       "    }\n",
       "\n",
       "    .dataframe thead th {\n",
       "        text-align: right;\n",
       "    }\n",
       "</style>\n",
       "<table border=\"1\" class=\"dataframe\">\n",
       "  <thead>\n",
       "    <tr style=\"text-align: right;\">\n",
       "      <th></th>\n",
       "      <th>category</th>\n",
       "      <th>description</th>\n",
       "      <th>fit</th>\n",
       "      <th>title</th>\n",
       "      <th>also_buy</th>\n",
       "      <th>tech2</th>\n",
       "      <th>brand</th>\n",
       "      <th>feature</th>\n",
       "      <th>rank</th>\n",
       "      <th>also_view</th>\n",
       "      <th>details</th>\n",
       "      <th>main_cat</th>\n",
       "      <th>similar_item</th>\n",
       "      <th>date</th>\n",
       "      <th>price</th>\n",
       "      <th>asin</th>\n",
       "      <th>imageURL</th>\n",
       "      <th>imageURLHighRes</th>\n",
       "    </tr>\n",
       "  </thead>\n",
       "  <tbody>\n",
       "    <tr>\n",
       "      <th>0</th>\n",
       "      <td>[]</td>\n",
       "      <td>[After a long day of handling thorny situation...</td>\n",
       "      <td></td>\n",
       "      <td>Crabtree &amp;amp; Evelyn - Gardener's Ultra-Moist...</td>\n",
       "      <td>[B00GHX7H0A, B00FRERO7G, B00R68QXCS, B000Z65AZ...</td>\n",
       "      <td></td>\n",
       "      <td></td>\n",
       "      <td>[]</td>\n",
       "      <td>4,324 in Beauty &amp; Personal Care (</td>\n",
       "      <td>[B00FRERO7G, B00GHX7H0A, B07GFHJRMX, B00TJ3NBN...</td>\n",
       "      <td>{'\n",
       "    Product Dimensions: \n",
       "    ': '2.2 x 2.2 ...</td>\n",
       "      <td>Luxury Beauty</td>\n",
       "      <td></td>\n",
       "      <td>NaT</td>\n",
       "      <td>$30.00</td>\n",
       "      <td>B00004U9V2</td>\n",
       "      <td>[https://images-na.ssl-images-amazon.com/image...</td>\n",
       "      <td>[https://images-na.ssl-images-amazon.com/image...</td>\n",
       "    </tr>\n",
       "    <tr>\n",
       "      <th>1</th>\n",
       "      <td>[]</td>\n",
       "      <td>[If you haven't experienced the pleasures of b...</td>\n",
       "      <td></td>\n",
       "      <td>AHAVA Bath Salts</td>\n",
       "      <td>[]</td>\n",
       "      <td></td>\n",
       "      <td></td>\n",
       "      <td>[]</td>\n",
       "      <td>1,633,549 in Beauty &amp; Personal Care (</td>\n",
       "      <td>[]</td>\n",
       "      <td>{'\n",
       "    Product Dimensions: \n",
       "    ': '3 x 3.5 x ...</td>\n",
       "      <td>Luxury Beauty</td>\n",
       "      <td></td>\n",
       "      <td>NaT</td>\n",
       "      <td></td>\n",
       "      <td>B0000531EN</td>\n",
       "      <td>[]</td>\n",
       "      <td>[]</td>\n",
       "    </tr>\n",
       "    <tr>\n",
       "      <th>2</th>\n",
       "      <td>[]</td>\n",
       "      <td>[Rich, black mineral mud, harvested from the b...</td>\n",
       "      <td></td>\n",
       "      <td>AHAVA Dead Sea Mineral Mud, 8.5 oz, Pack of 4</td>\n",
       "      <td>[]</td>\n",
       "      <td></td>\n",
       "      <td></td>\n",
       "      <td>[]</td>\n",
       "      <td>1,806,710 in Beauty &amp;amp; Personal Care (</td>\n",
       "      <td>[]</td>\n",
       "      <td>{'\n",
       "    Product Dimensions: \n",
       "    ': '5.1 x 3 x ...</td>\n",
       "      <td>Luxury Beauty</td>\n",
       "      <td></td>\n",
       "      <td>NaT</td>\n",
       "      <td></td>\n",
       "      <td>B0000532JH</td>\n",
       "      <td>[https://images-na.ssl-images-amazon.com/image...</td>\n",
       "      <td>[https://images-na.ssl-images-amazon.com/image...</td>\n",
       "    </tr>\n",
       "    <tr>\n",
       "      <th>3</th>\n",
       "      <td>[]</td>\n",
       "      <td>[This liquid soap with convenient pump dispens...</td>\n",
       "      <td></td>\n",
       "      <td>Crabtree &amp;amp; Evelyn Hand Soap, Gardeners, 10...</td>\n",
       "      <td>[]</td>\n",
       "      <td></td>\n",
       "      <td></td>\n",
       "      <td>[]</td>\n",
       "      <td>[]</td>\n",
       "      <td>[B00004U9V2, B00GHX7H0A, B00FRERO7G, B00R68QXC...</td>\n",
       "      <td>{'\n",
       "    Product Dimensions: \n",
       "    ': '2.6 x 2.6 ...</td>\n",
       "      <td>Luxury Beauty</td>\n",
       "      <td></td>\n",
       "      <td>NaT</td>\n",
       "      <td>$15.99</td>\n",
       "      <td>B00005A77F</td>\n",
       "      <td>[https://images-na.ssl-images-amazon.com/image...</td>\n",
       "      <td>[https://images-na.ssl-images-amazon.com/image...</td>\n",
       "    </tr>\n",
       "    <tr>\n",
       "      <th>4</th>\n",
       "      <td>[]</td>\n",
       "      <td>[Remember why you love your favorite blanket? ...</td>\n",
       "      <td></td>\n",
       "      <td>Soy Milk Hand Crme</td>\n",
       "      <td>[B000NZT6KM, B001BY229Q, B008J724QY, B0009YGKJ...</td>\n",
       "      <td></td>\n",
       "      <td></td>\n",
       "      <td>[]</td>\n",
       "      <td>42,464 in Beauty &amp;amp; Personal Care (</td>\n",
       "      <td>[]</td>\n",
       "      <td>{'\n",
       "    Product Dimensions: \n",
       "    ': '7.2 x 2.2 ...</td>\n",
       "      <td>Luxury Beauty</td>\n",
       "      <td></td>\n",
       "      <td>NaT</td>\n",
       "      <td>$18.00</td>\n",
       "      <td>B00005NDTD</td>\n",
       "      <td>[https://images-na.ssl-images-amazon.com/image...</td>\n",
       "      <td>[https://images-na.ssl-images-amazon.com/image...</td>\n",
       "    </tr>\n",
       "  </tbody>\n",
       "</table>\n",
       "</div>"
      ],
      "text/plain": [
       "  category                                        description fit  \\\n",
       "0       []  [After a long day of handling thorny situation...       \n",
       "1       []  [If you haven't experienced the pleasures of b...       \n",
       "2       []  [Rich, black mineral mud, harvested from the b...       \n",
       "3       []  [This liquid soap with convenient pump dispens...       \n",
       "4       []  [Remember why you love your favorite blanket? ...       \n",
       "\n",
       "                                               title  \\\n",
       "0  Crabtree &amp; Evelyn - Gardener's Ultra-Moist...   \n",
       "1                                   AHAVA Bath Salts   \n",
       "2      AHAVA Dead Sea Mineral Mud, 8.5 oz, Pack of 4   \n",
       "3  Crabtree &amp; Evelyn Hand Soap, Gardeners, 10...   \n",
       "4                                 Soy Milk Hand Crme   \n",
       "\n",
       "                                            also_buy tech2 brand feature  \\\n",
       "0  [B00GHX7H0A, B00FRERO7G, B00R68QXCS, B000Z65AZ...                  []   \n",
       "1                                                 []                  []   \n",
       "2                                                 []                  []   \n",
       "3                                                 []                  []   \n",
       "4  [B000NZT6KM, B001BY229Q, B008J724QY, B0009YGKJ...                  []   \n",
       "\n",
       "                                        rank  \\\n",
       "0          4,324 in Beauty & Personal Care (   \n",
       "1      1,633,549 in Beauty & Personal Care (   \n",
       "2  1,806,710 in Beauty &amp; Personal Care (   \n",
       "3                                         []   \n",
       "4     42,464 in Beauty &amp; Personal Care (   \n",
       "\n",
       "                                           also_view  \\\n",
       "0  [B00FRERO7G, B00GHX7H0A, B07GFHJRMX, B00TJ3NBN...   \n",
       "1                                                 []   \n",
       "2                                                 []   \n",
       "3  [B00004U9V2, B00GHX7H0A, B00FRERO7G, B00R68QXC...   \n",
       "4                                                 []   \n",
       "\n",
       "                                             details       main_cat  \\\n",
       "0  {'\n",
       "    Product Dimensions: \n",
       "    ': '2.2 x 2.2 ...  Luxury Beauty   \n",
       "1  {'\n",
       "    Product Dimensions: \n",
       "    ': '3 x 3.5 x ...  Luxury Beauty   \n",
       "2  {'\n",
       "    Product Dimensions: \n",
       "    ': '5.1 x 3 x ...  Luxury Beauty   \n",
       "3  {'\n",
       "    Product Dimensions: \n",
       "    ': '2.6 x 2.6 ...  Luxury Beauty   \n",
       "4  {'\n",
       "    Product Dimensions: \n",
       "    ': '7.2 x 2.2 ...  Luxury Beauty   \n",
       "\n",
       "  similar_item date   price        asin  \\\n",
       "0               NaT  $30.00  B00004U9V2   \n",
       "1               NaT          B0000531EN   \n",
       "2               NaT          B0000532JH   \n",
       "3               NaT  $15.99  B00005A77F   \n",
       "4               NaT  $18.00  B00005NDTD   \n",
       "\n",
       "                                            imageURL  \\\n",
       "0  [https://images-na.ssl-images-amazon.com/image...   \n",
       "1                                                 []   \n",
       "2  [https://images-na.ssl-images-amazon.com/image...   \n",
       "3  [https://images-na.ssl-images-amazon.com/image...   \n",
       "4  [https://images-na.ssl-images-amazon.com/image...   \n",
       "\n",
       "                                     imageURLHighRes  \n",
       "0  [https://images-na.ssl-images-amazon.com/image...  \n",
       "1                                                 []  \n",
       "2  [https://images-na.ssl-images-amazon.com/image...  \n",
       "3  [https://images-na.ssl-images-amazon.com/image...  \n",
       "4  [https://images-na.ssl-images-amazon.com/image...  "
      ]
     },
     "execution_count": 40,
     "metadata": {},
     "output_type": "execute_result"
    }
   ],
   "source": [
    "metadata_df.head(5)"
   ]
  },
  {
   "cell_type": "code",
   "execution_count": 41,
   "id": "ee08185e",
   "metadata": {},
   "outputs": [
    {
     "name": "stdout",
     "output_type": "stream",
     "text": [
      "<class 'pandas.core.frame.DataFrame'>\n",
      "RangeIndex: 12299 entries, 0 to 12298\n",
      "Data columns (total 18 columns):\n",
      " #   Column           Non-Null Count  Dtype \n",
      "---  ------           --------------  ----- \n",
      " 0   category         12299 non-null  object\n",
      " 1   description      12299 non-null  object\n",
      " 2   fit              12299 non-null  object\n",
      " 3   title            12299 non-null  object\n",
      " 4   also_buy         12299 non-null  object\n",
      " 5   tech2            12299 non-null  object\n",
      " 6   brand            12299 non-null  object\n",
      " 7   feature          12299 non-null  object\n",
      " 8   rank             12299 non-null  object\n",
      " 9   also_view        12299 non-null  object\n",
      " 10  details          12299 non-null  object\n",
      " 11  main_cat         12299 non-null  object\n",
      " 12  similar_item     12299 non-null  object\n",
      " 13  date             0 non-null      object\n",
      " 14  price            12299 non-null  object\n",
      " 15  asin             12299 non-null  object\n",
      " 16  imageURL         12299 non-null  object\n",
      " 17  imageURLHighRes  12299 non-null  object\n",
      "dtypes: object(18)\n",
      "memory usage: 1.7+ MB\n"
     ]
    }
   ],
   "source": [
    "metadata_df.info()"
   ]
  },
  {
   "cell_type": "markdown",
   "id": "6c448eba",
   "metadata": {},
   "source": [
    "There are many empty columns in the dataset, and many with just empty lists or the same value repeated throughout: category, tech1, fit, tech2, brand, feature, main_cat, date. \n",
    "\n",
    "Equally since we wont be needing the image URLs we can remove these columns as well."
   ]
  },
  {
   "cell_type": "code",
   "execution_count": 42,
   "id": "65a92442",
   "metadata": {},
   "outputs": [],
   "source": [
    "#removing columns \n",
    "columns= [\"category\", \"fit\", \"tech2\", \"brand\", \"feature\", \"main_cat\", \"date\", \"imageURL\",\"imageURLHighRes\"]\n",
    "\n",
    "metadata_df.drop(columns,axis=1, inplace=True)"
   ]
  },
  {
   "cell_type": "code",
   "execution_count": 43,
   "id": "386384a8",
   "metadata": {},
   "outputs": [
    {
     "data": {
      "text/html": [
       "<div>\n",
       "<style scoped>\n",
       "    .dataframe tbody tr th:only-of-type {\n",
       "        vertical-align: middle;\n",
       "    }\n",
       "\n",
       "    .dataframe tbody tr th {\n",
       "        vertical-align: top;\n",
       "    }\n",
       "\n",
       "    .dataframe thead th {\n",
       "        text-align: right;\n",
       "    }\n",
       "</style>\n",
       "<table border=\"1\" class=\"dataframe\">\n",
       "  <thead>\n",
       "    <tr style=\"text-align: right;\">\n",
       "      <th></th>\n",
       "      <th>description</th>\n",
       "      <th>title</th>\n",
       "      <th>also_buy</th>\n",
       "      <th>rank</th>\n",
       "      <th>also_view</th>\n",
       "      <th>details</th>\n",
       "      <th>similar_item</th>\n",
       "      <th>price</th>\n",
       "      <th>asin</th>\n",
       "    </tr>\n",
       "  </thead>\n",
       "  <tbody>\n",
       "    <tr>\n",
       "      <th>0</th>\n",
       "      <td>[After a long day of handling thorny situation...</td>\n",
       "      <td>Crabtree &amp;amp; Evelyn - Gardener's Ultra-Moist...</td>\n",
       "      <td>[B00GHX7H0A, B00FRERO7G, B00R68QXCS, B000Z65AZ...</td>\n",
       "      <td>4,324 in Beauty &amp; Personal Care (</td>\n",
       "      <td>[B00FRERO7G, B00GHX7H0A, B07GFHJRMX, B00TJ3NBN...</td>\n",
       "      <td>{'\n",
       "    Product Dimensions: \n",
       "    ': '2.2 x 2.2 ...</td>\n",
       "      <td></td>\n",
       "      <td>$30.00</td>\n",
       "      <td>B00004U9V2</td>\n",
       "    </tr>\n",
       "    <tr>\n",
       "      <th>1</th>\n",
       "      <td>[If you haven't experienced the pleasures of b...</td>\n",
       "      <td>AHAVA Bath Salts</td>\n",
       "      <td>[]</td>\n",
       "      <td>1,633,549 in Beauty &amp; Personal Care (</td>\n",
       "      <td>[]</td>\n",
       "      <td>{'\n",
       "    Product Dimensions: \n",
       "    ': '3 x 3.5 x ...</td>\n",
       "      <td></td>\n",
       "      <td></td>\n",
       "      <td>B0000531EN</td>\n",
       "    </tr>\n",
       "    <tr>\n",
       "      <th>2</th>\n",
       "      <td>[Rich, black mineral mud, harvested from the b...</td>\n",
       "      <td>AHAVA Dead Sea Mineral Mud, 8.5 oz, Pack of 4</td>\n",
       "      <td>[]</td>\n",
       "      <td>1,806,710 in Beauty &amp;amp; Personal Care (</td>\n",
       "      <td>[]</td>\n",
       "      <td>{'\n",
       "    Product Dimensions: \n",
       "    ': '5.1 x 3 x ...</td>\n",
       "      <td></td>\n",
       "      <td></td>\n",
       "      <td>B0000532JH</td>\n",
       "    </tr>\n",
       "    <tr>\n",
       "      <th>3</th>\n",
       "      <td>[This liquid soap with convenient pump dispens...</td>\n",
       "      <td>Crabtree &amp;amp; Evelyn Hand Soap, Gardeners, 10...</td>\n",
       "      <td>[]</td>\n",
       "      <td>[]</td>\n",
       "      <td>[B00004U9V2, B00GHX7H0A, B00FRERO7G, B00R68QXC...</td>\n",
       "      <td>{'\n",
       "    Product Dimensions: \n",
       "    ': '2.6 x 2.6 ...</td>\n",
       "      <td></td>\n",
       "      <td>$15.99</td>\n",
       "      <td>B00005A77F</td>\n",
       "    </tr>\n",
       "    <tr>\n",
       "      <th>4</th>\n",
       "      <td>[Remember why you love your favorite blanket? ...</td>\n",
       "      <td>Soy Milk Hand Crme</td>\n",
       "      <td>[B000NZT6KM, B001BY229Q, B008J724QY, B0009YGKJ...</td>\n",
       "      <td>42,464 in Beauty &amp;amp; Personal Care (</td>\n",
       "      <td>[]</td>\n",
       "      <td>{'\n",
       "    Product Dimensions: \n",
       "    ': '7.2 x 2.2 ...</td>\n",
       "      <td></td>\n",
       "      <td>$18.00</td>\n",
       "      <td>B00005NDTD</td>\n",
       "    </tr>\n",
       "  </tbody>\n",
       "</table>\n",
       "</div>"
      ],
      "text/plain": [
       "                                         description  \\\n",
       "0  [After a long day of handling thorny situation...   \n",
       "1  [If you haven't experienced the pleasures of b...   \n",
       "2  [Rich, black mineral mud, harvested from the b...   \n",
       "3  [This liquid soap with convenient pump dispens...   \n",
       "4  [Remember why you love your favorite blanket? ...   \n",
       "\n",
       "                                               title  \\\n",
       "0  Crabtree &amp; Evelyn - Gardener's Ultra-Moist...   \n",
       "1                                   AHAVA Bath Salts   \n",
       "2      AHAVA Dead Sea Mineral Mud, 8.5 oz, Pack of 4   \n",
       "3  Crabtree &amp; Evelyn Hand Soap, Gardeners, 10...   \n",
       "4                                 Soy Milk Hand Crme   \n",
       "\n",
       "                                            also_buy  \\\n",
       "0  [B00GHX7H0A, B00FRERO7G, B00R68QXCS, B000Z65AZ...   \n",
       "1                                                 []   \n",
       "2                                                 []   \n",
       "3                                                 []   \n",
       "4  [B000NZT6KM, B001BY229Q, B008J724QY, B0009YGKJ...   \n",
       "\n",
       "                                        rank  \\\n",
       "0          4,324 in Beauty & Personal Care (   \n",
       "1      1,633,549 in Beauty & Personal Care (   \n",
       "2  1,806,710 in Beauty &amp; Personal Care (   \n",
       "3                                         []   \n",
       "4     42,464 in Beauty &amp; Personal Care (   \n",
       "\n",
       "                                           also_view  \\\n",
       "0  [B00FRERO7G, B00GHX7H0A, B07GFHJRMX, B00TJ3NBN...   \n",
       "1                                                 []   \n",
       "2                                                 []   \n",
       "3  [B00004U9V2, B00GHX7H0A, B00FRERO7G, B00R68QXC...   \n",
       "4                                                 []   \n",
       "\n",
       "                                             details similar_item   price  \\\n",
       "0  {'\n",
       "    Product Dimensions: \n",
       "    ': '2.2 x 2.2 ...               $30.00   \n",
       "1  {'\n",
       "    Product Dimensions: \n",
       "    ': '3 x 3.5 x ...                        \n",
       "2  {'\n",
       "    Product Dimensions: \n",
       "    ': '5.1 x 3 x ...                        \n",
       "3  {'\n",
       "    Product Dimensions: \n",
       "    ': '2.6 x 2.6 ...               $15.99   \n",
       "4  {'\n",
       "    Product Dimensions: \n",
       "    ': '7.2 x 2.2 ...               $18.00   \n",
       "\n",
       "         asin  \n",
       "0  B00004U9V2  \n",
       "1  B0000531EN  \n",
       "2  B0000532JH  \n",
       "3  B00005A77F  \n",
       "4  B00005NDTD  "
      ]
     },
     "execution_count": 43,
     "metadata": {},
     "output_type": "execute_result"
    }
   ],
   "source": [
    "metadata_df.head(5)"
   ]
  },
  {
   "cell_type": "code",
   "execution_count": 44,
   "id": "9496fcb4",
   "metadata": {},
   "outputs": [],
   "source": [
    "#applying NaN values in place of empty lists\n",
    "metadata_df = metadata_df.where(~metadata_df.applymap(lambda x: x == [] or x is None or x == ''))"
   ]
  },
  {
   "cell_type": "code",
   "execution_count": 45,
   "id": "336fc652",
   "metadata": {},
   "outputs": [
    {
     "data": {
      "text/plain": [
       "5260"
      ]
     },
     "execution_count": 45,
     "metadata": {},
     "output_type": "execute_result"
    }
   ],
   "source": [
    "#null value count\n",
    "null_metadata = metadata_df.isna().sum()\n",
    "null_metadata[\"price\"]"
   ]
  },
  {
   "cell_type": "code",
   "execution_count": 46,
   "id": "bd8f74e1",
   "metadata": {},
   "outputs": [],
   "source": [
    "metadata_df[['ranking','remove']] = metadata_df[\"rank\"].str.split(\" \", n=1,expand = True)"
   ]
  },
  {
   "cell_type": "code",
   "execution_count": 47,
   "id": "9a456fb0",
   "metadata": {},
   "outputs": [],
   "source": [
    "#convert ranking column to integer\n",
    "metadata_df['ranking'] = metadata_df[\"ranking\"].str.replace(\",\", \"\", regex=False)\n",
    "metadata_df[\"ranking\"].fillna(0, inplace = True)\n",
    "metadata_df[\"ranking\"] =metadata_df[\"ranking\"].astype(\"int32\")"
   ]
  },
  {
   "cell_type": "code",
   "execution_count": 48,
   "id": "38d254eb",
   "metadata": {},
   "outputs": [],
   "source": [
    "#remove unnecessary columns\n",
    "metadata_df.drop(['remove','rank',\"similar_item\"],axis=1,inplace=True )"
   ]
  },
  {
   "cell_type": "code",
   "execution_count": 49,
   "id": "31fa1fcf",
   "metadata": {},
   "outputs": [],
   "source": [
    "# the second replace just removes repeated whitespaces\n",
    "# filtered_poems[\"Content\"] = filtered_poems[\"Content\"].str.replace(r\"[^a-zA-Z]\", \" \").str.replace(r\"\\s+\", \" \")"
   ]
  },
  {
   "cell_type": "code",
   "execution_count": 50,
   "id": "08f5fd3a",
   "metadata": {},
   "outputs": [],
   "source": [
    "#removing description from list \n",
    "metadata_df['product_description'] = metadata_df['description'].str.join(', ')"
   ]
  },
  {
   "cell_type": "code",
   "execution_count": 51,
   "id": "701324c0",
   "metadata": {},
   "outputs": [
    {
     "data": {
      "text/plain": [
       "dict_keys(['\\n    Product Dimensions: \\n    ', 'Shipping Weight:', 'Domestic Shipping: ', 'International Shipping: ', 'ASIN:', 'Item model number:'])"
      ]
     },
     "execution_count": 51,
     "metadata": {},
     "output_type": "execute_result"
    }
   ],
   "source": [
    "#taking a look at details column\n",
    "d = metadata_df[\"details\"].iloc[0]\n",
    "d.keys()"
   ]
  },
  {
   "cell_type": "markdown",
   "id": "e52cdc52",
   "metadata": {},
   "source": [
    "Taking a look at the values that are contained in the `details` column, we can pass on these since these don't have much relation to contributing to the individual products. If we didnt already have access to the ASIN then we would keep this value. "
   ]
  },
  {
   "cell_type": "code",
   "execution_count": 52,
   "id": "42ccad66",
   "metadata": {},
   "outputs": [],
   "source": [
    "metadata_df.drop([\"details\",\"description\"],axis=1, inplace=True)"
   ]
  },
  {
   "cell_type": "markdown",
   "id": "faa1cdfd",
   "metadata": {},
   "source": [
    "`price` is an object right now, this needs to convert to numeric value. "
   ]
  },
  {
   "cell_type": "code",
   "execution_count": 53,
   "id": "0d2bfe93",
   "metadata": {},
   "outputs": [
    {
     "data": {
      "text/html": [
       "<div>\n",
       "<style scoped>\n",
       "    .dataframe tbody tr th:only-of-type {\n",
       "        vertical-align: middle;\n",
       "    }\n",
       "\n",
       "    .dataframe tbody tr th {\n",
       "        vertical-align: top;\n",
       "    }\n",
       "\n",
       "    .dataframe thead th {\n",
       "        text-align: right;\n",
       "    }\n",
       "</style>\n",
       "<table border=\"1\" class=\"dataframe\">\n",
       "  <thead>\n",
       "    <tr style=\"text-align: right;\">\n",
       "      <th></th>\n",
       "      <th>title</th>\n",
       "      <th>also_buy</th>\n",
       "      <th>also_view</th>\n",
       "      <th>price</th>\n",
       "      <th>asin</th>\n",
       "      <th>ranking</th>\n",
       "      <th>product_description</th>\n",
       "    </tr>\n",
       "  </thead>\n",
       "  <tbody>\n",
       "    <tr>\n",
       "      <th>0</th>\n",
       "      <td>Crabtree &amp;amp; Evelyn - Gardener's Ultra-Moist...</td>\n",
       "      <td>[B00GHX7H0A, B00FRERO7G, B00R68QXCS, B000Z65AZ...</td>\n",
       "      <td>[B00FRERO7G, B00GHX7H0A, B07GFHJRMX, B00TJ3NBN...</td>\n",
       "      <td>30.00</td>\n",
       "      <td>B00004U9V2</td>\n",
       "      <td>4324</td>\n",
       "      <td>After a long day of handling thorny situations...</td>\n",
       "    </tr>\n",
       "    <tr>\n",
       "      <th>1</th>\n",
       "      <td>AHAVA Bath Salts</td>\n",
       "      <td>NaN</td>\n",
       "      <td>NaN</td>\n",
       "      <td>0</td>\n",
       "      <td>B0000531EN</td>\n",
       "      <td>1633549</td>\n",
       "      <td>If you haven't experienced the pleasures of ba...</td>\n",
       "    </tr>\n",
       "    <tr>\n",
       "      <th>2</th>\n",
       "      <td>AHAVA Dead Sea Mineral Mud, 8.5 oz, Pack of 4</td>\n",
       "      <td>NaN</td>\n",
       "      <td>NaN</td>\n",
       "      <td>0</td>\n",
       "      <td>B0000532JH</td>\n",
       "      <td>1806710</td>\n",
       "      <td>Rich, black mineral mud, harvested from the ba...</td>\n",
       "    </tr>\n",
       "    <tr>\n",
       "      <th>3</th>\n",
       "      <td>Crabtree &amp;amp; Evelyn Hand Soap, Gardeners, 10...</td>\n",
       "      <td>NaN</td>\n",
       "      <td>[B00004U9V2, B00GHX7H0A, B00FRERO7G, B00R68QXC...</td>\n",
       "      <td>15.99</td>\n",
       "      <td>B00005A77F</td>\n",
       "      <td>0</td>\n",
       "      <td>This liquid soap with convenient pump dispense...</td>\n",
       "    </tr>\n",
       "    <tr>\n",
       "      <th>4</th>\n",
       "      <td>Soy Milk Hand Crme</td>\n",
       "      <td>[B000NZT6KM, B001BY229Q, B008J724QY, B0009YGKJ...</td>\n",
       "      <td>NaN</td>\n",
       "      <td>18.00</td>\n",
       "      <td>B00005NDTD</td>\n",
       "      <td>42464</td>\n",
       "      <td>Remember why you love your favorite blanket? T...</td>\n",
       "    </tr>\n",
       "  </tbody>\n",
       "</table>\n",
       "</div>"
      ],
      "text/plain": [
       "                                               title  \\\n",
       "0  Crabtree &amp; Evelyn - Gardener's Ultra-Moist...   \n",
       "1                                   AHAVA Bath Salts   \n",
       "2      AHAVA Dead Sea Mineral Mud, 8.5 oz, Pack of 4   \n",
       "3  Crabtree &amp; Evelyn Hand Soap, Gardeners, 10...   \n",
       "4                                 Soy Milk Hand Crme   \n",
       "\n",
       "                                            also_buy  \\\n",
       "0  [B00GHX7H0A, B00FRERO7G, B00R68QXCS, B000Z65AZ...   \n",
       "1                                                NaN   \n",
       "2                                                NaN   \n",
       "3                                                NaN   \n",
       "4  [B000NZT6KM, B001BY229Q, B008J724QY, B0009YGKJ...   \n",
       "\n",
       "                                           also_view  price        asin  \\\n",
       "0  [B00FRERO7G, B00GHX7H0A, B07GFHJRMX, B00TJ3NBN...  30.00  B00004U9V2   \n",
       "1                                                NaN      0  B0000531EN   \n",
       "2                                                NaN      0  B0000532JH   \n",
       "3  [B00004U9V2, B00GHX7H0A, B00FRERO7G, B00R68QXC...  15.99  B00005A77F   \n",
       "4                                                NaN  18.00  B00005NDTD   \n",
       "\n",
       "   ranking                                product_description  \n",
       "0     4324  After a long day of handling thorny situations...  \n",
       "1  1633549  If you haven't experienced the pleasures of ba...  \n",
       "2  1806710  Rich, black mineral mud, harvested from the ba...  \n",
       "3        0  This liquid soap with convenient pump dispense...  \n",
       "4    42464  Remember why you love your favorite blanket? T...  "
      ]
     },
     "execution_count": 53,
     "metadata": {},
     "output_type": "execute_result"
    }
   ],
   "source": [
    "#removing dollar sign from price and replacing those values with 0 \n",
    "metadata_df['price'] = metadata_df[\"price\"].str.replace(\"$\", \"\", regex=False)\n",
    "metadata_df[\"price\"].fillna(0, inplace = True)\n",
    "metadata_df.head(5)"
   ]
  },
  {
   "cell_type": "code",
   "execution_count": 54,
   "id": "73676386",
   "metadata": {},
   "outputs": [],
   "source": [
    "metadata_df[\"price\"] = metadata_df[\"price\"].str.strip()"
   ]
  },
  {
   "cell_type": "code",
   "execution_count": 55,
   "id": "25e0e90f",
   "metadata": {},
   "outputs": [],
   "source": [
    "#extracting string from\n",
    "metadata_df['price_USD']= metadata_df['price'].str.extract(r'(\\d*?\\.\\d{2})', expand=False)\n",
    "metadata_df['price_USD'] = metadata_df['price_USD'].astype(float)"
   ]
  },
  {
   "cell_type": "code",
   "execution_count": 56,
   "id": "c43a6fc0",
   "metadata": {},
   "outputs": [
    {
     "name": "stdout",
     "output_type": "stream",
     "text": [
      "<class 'pandas.core.frame.DataFrame'>\n",
      "RangeIndex: 12299 entries, 0 to 12298\n",
      "Data columns (total 8 columns):\n",
      " #   Column               Non-Null Count  Dtype  \n",
      "---  ------               --------------  -----  \n",
      " 0   title                12299 non-null  object \n",
      " 1   also_buy             7724 non-null   object \n",
      " 2   also_view            9046 non-null   object \n",
      " 3   price                7039 non-null   object \n",
      " 4   asin                 12299 non-null  object \n",
      " 5   ranking              12299 non-null  int32  \n",
      " 6   product_description  12149 non-null  object \n",
      " 7   price_USD            6958 non-null   float64\n",
      "dtypes: float64(1), int32(1), object(6)\n",
      "memory usage: 720.8+ KB\n"
     ]
    }
   ],
   "source": [
    "metadata_df.info()"
   ]
  },
  {
   "cell_type": "code",
   "execution_count": 57,
   "id": "b1f4fd59",
   "metadata": {},
   "outputs": [],
   "source": [
    "#for loop to get also_buy counts, also_view counts \n",
    "columns = [\"also_buy\",\"also_view\"]\n",
    "\n",
    "for column in columns: \n",
    "    name =  column + \"_\" + \"counts\"\n",
    "    \n",
    "    #Using explode function to count all of the times each asin appears\n",
    "    x = metadata_df.explode(column)[column]\n",
    "    \n",
    "    my_count = x.value_counts()\n",
    "    \n",
    "    #creating a dictionary\n",
    "    dict_counts = my_count.to_dict()\n",
    "    \n",
    "    #assigning the values using the dictionary created and creating a new column\n",
    "    metadata_df[name] = metadata_df[\"asin\"].map(dict_counts)\n"
   ]
  },
  {
   "cell_type": "code",
   "execution_count": 58,
   "id": "e0993168",
   "metadata": {},
   "outputs": [
    {
     "name": "stdout",
     "output_type": "stream",
     "text": [
      "Price is missing from 42.77% of columns which could be an issue.\n"
     ]
    }
   ],
   "source": [
    "#maybe do something about the missing price values?\n",
    "pct_null_price = (null_metadata[\"price\"]/metadata_df.shape[0])*100\n",
    "print(f\"Price is missing from {round(pct_null_price,2)}% of columns which could be an issue.\") "
   ]
  },
  {
   "cell_type": "code",
   "execution_count": 59,
   "id": "d29c49a7",
   "metadata": {},
   "outputs": [],
   "source": [
    "metadata_df[\"also_buy_counts\"].fillna(0, inplace = True)\n",
    "metadata_df[\"also_view_counts\"].fillna(0, inplace = True)"
   ]
  },
  {
   "cell_type": "code",
   "execution_count": 135,
   "id": "f8427746",
   "metadata": {},
   "outputs": [
    {
     "name": "stdout",
     "output_type": "stream",
     "text": [
      "Price is still an issue with null values that are fairly high taking up 43.43% of the data set.  \n"
     ]
    }
   ],
   "source": [
    "\n",
    "pct_price = (metadata_df[\"price_USD\"].isna().sum()/metadata_df.shape[0])*100\n",
    "print(f\"Price is still an issue with null values that are fairly high taking up {round(pct_price, 2)}% of the data set.  \")\n"
   ]
  },
  {
   "cell_type": "code",
   "execution_count": 60,
   "id": "f1b50149",
   "metadata": {},
   "outputs": [],
   "source": [
    "columns = ['also_buy','also_view',\"price_USD\"]\n",
    "for column in columns: \n",
    "     metadata_df = metadata_df.drop([column],axis=1)"
   ]
  },
  {
   "cell_type": "code",
   "execution_count": 61,
   "id": "d24f6fb2",
   "metadata": {
    "scrolled": true
   },
   "outputs": [
    {
     "data": {
      "text/plain": [
       "188"
      ]
     },
     "execution_count": 61,
     "metadata": {},
     "output_type": "execute_result"
    }
   ],
   "source": [
    "#checking for duplicates\n",
    "metadata_df.duplicated().sum()"
   ]
  },
  {
   "cell_type": "code",
   "execution_count": 62,
   "id": "a0559a51",
   "metadata": {},
   "outputs": [
    {
     "data": {
      "text/html": [
       "<div>\n",
       "<style scoped>\n",
       "    .dataframe tbody tr th:only-of-type {\n",
       "        vertical-align: middle;\n",
       "    }\n",
       "\n",
       "    .dataframe tbody tr th {\n",
       "        vertical-align: top;\n",
       "    }\n",
       "\n",
       "    .dataframe thead th {\n",
       "        text-align: right;\n",
       "    }\n",
       "</style>\n",
       "<table border=\"1\" class=\"dataframe\">\n",
       "  <thead>\n",
       "    <tr style=\"text-align: right;\">\n",
       "      <th></th>\n",
       "      <th>title</th>\n",
       "      <th>price</th>\n",
       "      <th>asin</th>\n",
       "      <th>ranking</th>\n",
       "      <th>product_description</th>\n",
       "      <th>also_buy_counts</th>\n",
       "      <th>also_view_counts</th>\n",
       "    </tr>\n",
       "  </thead>\n",
       "  <tbody>\n",
       "    <tr>\n",
       "      <th>188</th>\n",
       "      <td>Crabtree &amp;amp; Evelyn - Gardener's Ultra-Moist...</td>\n",
       "      <td>30.00</td>\n",
       "      <td>B00004U9V2</td>\n",
       "      <td>4324</td>\n",
       "      <td>After a long day of handling thorny situations...</td>\n",
       "      <td>56.0</td>\n",
       "      <td>48.0</td>\n",
       "    </tr>\n",
       "    <tr>\n",
       "      <th>189</th>\n",
       "      <td>AHAVA Bath Salts</td>\n",
       "      <td>NaN</td>\n",
       "      <td>B0000531EN</td>\n",
       "      <td>1633549</td>\n",
       "      <td>If you haven't experienced the pleasures of ba...</td>\n",
       "      <td>0.0</td>\n",
       "      <td>0.0</td>\n",
       "    </tr>\n",
       "    <tr>\n",
       "      <th>190</th>\n",
       "      <td>AHAVA Dead Sea Mineral Mud, 8.5 oz, Pack of 4</td>\n",
       "      <td>NaN</td>\n",
       "      <td>B0000532JH</td>\n",
       "      <td>1806710</td>\n",
       "      <td>Rich, black mineral mud, harvested from the ba...</td>\n",
       "      <td>0.0</td>\n",
       "      <td>0.0</td>\n",
       "    </tr>\n",
       "    <tr>\n",
       "      <th>191</th>\n",
       "      <td>Crabtree &amp;amp; Evelyn Hand Soap, Gardeners, 10...</td>\n",
       "      <td>15.99</td>\n",
       "      <td>B00005A77F</td>\n",
       "      <td>0</td>\n",
       "      <td>This liquid soap with convenient pump dispense...</td>\n",
       "      <td>0.0</td>\n",
       "      <td>0.0</td>\n",
       "    </tr>\n",
       "    <tr>\n",
       "      <th>192</th>\n",
       "      <td>Soy Milk Hand Crme</td>\n",
       "      <td>18.00</td>\n",
       "      <td>B00005NDTD</td>\n",
       "      <td>42464</td>\n",
       "      <td>Remember why you love your favorite blanket? T...</td>\n",
       "      <td>26.0</td>\n",
       "      <td>15.0</td>\n",
       "    </tr>\n",
       "    <tr>\n",
       "      <th>...</th>\n",
       "      <td>...</td>\n",
       "      <td>...</td>\n",
       "      <td>...</td>\n",
       "      <td>...</td>\n",
       "      <td>...</td>\n",
       "      <td>...</td>\n",
       "      <td>...</td>\n",
       "    </tr>\n",
       "    <tr>\n",
       "      <th>371</th>\n",
       "      <td>Glycolix Elite Fortified Facial Cream, 1.6 oz</td>\n",
       "      <td>30.50</td>\n",
       "      <td>B0002ZZT5Y</td>\n",
       "      <td>37543</td>\n",
       "      <td>Elite Fortified Facial Cream is fortified with...</td>\n",
       "      <td>36.0</td>\n",
       "      <td>29.0</td>\n",
       "    </tr>\n",
       "    <tr>\n",
       "      <th>372</th>\n",
       "      <td>Glo Minerals Precision Lip Pencil, Rosewood, ....</td>\n",
       "      <td>18.00</td>\n",
       "      <td>B0003MJITY</td>\n",
       "      <td>304392</td>\n",
       "      <td>An advanced mineral liner formulation that gli...</td>\n",
       "      <td>1.0</td>\n",
       "      <td>3.0</td>\n",
       "    </tr>\n",
       "    <tr>\n",
       "      <th>373</th>\n",
       "      <td>Glo Skin Beauty Minerals Blush, Sheer Petal</td>\n",
       "      <td>NaN</td>\n",
       "      <td>B0003MJ9DY</td>\n",
       "      <td>627917</td>\n",
       "      <td>High-pigment mineral makeup blush for expert c...</td>\n",
       "      <td>0.0</td>\n",
       "      <td>0.0</td>\n",
       "    </tr>\n",
       "    <tr>\n",
       "      <th>374</th>\n",
       "      <td>Glo Skin Beauty Precision Brow Pencil - Blonde...</td>\n",
       "      <td>20.00</td>\n",
       "      <td>B0003MJFSS</td>\n",
       "      <td>206224</td>\n",
       "      <td>A natural-looking brow enhancement pencil in a...</td>\n",
       "      <td>6.0</td>\n",
       "      <td>4.0</td>\n",
       "    </tr>\n",
       "    <tr>\n",
       "      <th>375</th>\n",
       "      <td>glo Minerals Eye Shadow, Rain Forest</td>\n",
       "      <td>NaN</td>\n",
       "      <td>B0003MJIWQ</td>\n",
       "      <td>1025389</td>\n",
       "      <td>Rich hues and timeless color favorites of glom...</td>\n",
       "      <td>0.0</td>\n",
       "      <td>0.0</td>\n",
       "    </tr>\n",
       "  </tbody>\n",
       "</table>\n",
       "<p>188 rows × 7 columns</p>\n",
       "</div>"
      ],
      "text/plain": [
       "                                                 title  price        asin  \\\n",
       "188  Crabtree &amp; Evelyn - Gardener's Ultra-Moist...  30.00  B00004U9V2   \n",
       "189                                   AHAVA Bath Salts    NaN  B0000531EN   \n",
       "190      AHAVA Dead Sea Mineral Mud, 8.5 oz, Pack of 4    NaN  B0000532JH   \n",
       "191  Crabtree &amp; Evelyn Hand Soap, Gardeners, 10...  15.99  B00005A77F   \n",
       "192                                 Soy Milk Hand Crme  18.00  B00005NDTD   \n",
       "..                                                 ...    ...         ...   \n",
       "371      Glycolix Elite Fortified Facial Cream, 1.6 oz  30.50  B0002ZZT5Y   \n",
       "372  Glo Minerals Precision Lip Pencil, Rosewood, ....  18.00  B0003MJITY   \n",
       "373        Glo Skin Beauty Minerals Blush, Sheer Petal    NaN  B0003MJ9DY   \n",
       "374  Glo Skin Beauty Precision Brow Pencil - Blonde...  20.00  B0003MJFSS   \n",
       "375               glo Minerals Eye Shadow, Rain Forest    NaN  B0003MJIWQ   \n",
       "\n",
       "     ranking                                product_description  \\\n",
       "188     4324  After a long day of handling thorny situations...   \n",
       "189  1633549  If you haven't experienced the pleasures of ba...   \n",
       "190  1806710  Rich, black mineral mud, harvested from the ba...   \n",
       "191        0  This liquid soap with convenient pump dispense...   \n",
       "192    42464  Remember why you love your favorite blanket? T...   \n",
       "..       ...                                                ...   \n",
       "371    37543  Elite Fortified Facial Cream is fortified with...   \n",
       "372   304392  An advanced mineral liner formulation that gli...   \n",
       "373   627917  High-pigment mineral makeup blush for expert c...   \n",
       "374   206224  A natural-looking brow enhancement pencil in a...   \n",
       "375  1025389  Rich hues and timeless color favorites of glom...   \n",
       "\n",
       "     also_buy_counts  also_view_counts  \n",
       "188             56.0              48.0  \n",
       "189              0.0               0.0  \n",
       "190              0.0               0.0  \n",
       "191              0.0               0.0  \n",
       "192             26.0              15.0  \n",
       "..               ...               ...  \n",
       "371             36.0              29.0  \n",
       "372              1.0               3.0  \n",
       "373              0.0               0.0  \n",
       "374              6.0               4.0  \n",
       "375              0.0               0.0  \n",
       "\n",
       "[188 rows x 7 columns]"
      ]
     },
     "execution_count": 62,
     "metadata": {},
     "output_type": "execute_result"
    }
   ],
   "source": [
    "duplicate_df = metadata_df[metadata_df.duplicated()]\n",
    "duplicate_df"
   ]
  },
  {
   "cell_type": "code",
   "execution_count": 63,
   "id": "463c7a30",
   "metadata": {},
   "outputs": [],
   "source": [
    "#removing duplicates\n",
    "metadata_df = metadata_df.drop_duplicates()"
   ]
  },
  {
   "cell_type": "code",
   "execution_count": 64,
   "id": "6be4bd6a",
   "metadata": {},
   "outputs": [
    {
     "data": {
      "text/plain": [
       "0"
      ]
     },
     "execution_count": 64,
     "metadata": {},
     "output_type": "execute_result"
    }
   ],
   "source": [
    "#quick check\n",
    "metadata_df.duplicated().sum()"
   ]
  },
  {
   "cell_type": "code",
   "execution_count": 65,
   "id": "eaa7fb35",
   "metadata": {},
   "outputs": [
    {
     "data": {
      "text/plain": [
       "asin        title                                                                                   \n",
       "B00004U9V2  Crabtree &amp; Evelyn - Gardener's Ultra-Moisturising Hand Therapy Pump - 250g/8.8 OZ       1\n",
       "B0000531EN  AHAVA Bath Salts                                                                            1\n",
       "B0000532JH  AHAVA Dead Sea Mineral Mud, 8.5 oz, Pack of 4                                               1\n",
       "B00005A77F  Crabtree &amp; Evelyn Hand Soap, Gardeners, 10.1 fl. oz.                                    1\n",
       "B00005NDTD  Soy Milk Hand Crme                                                                          1\n",
       "                                                                                                       ..\n",
       "B0002ZZT5Y  Glycolix Elite Fortified Facial Cream, 1.6 oz                                               1\n",
       "B0003MJ9DY  Glo Skin Beauty Minerals Blush, Sheer Petal                                                 1\n",
       "B0003MJFSS  Glo Skin Beauty Precision Brow Pencil - Blonde - Eyebrow Pencil, 3 Shades | Cruelty Free    1\n",
       "B0003MJITY  Glo Minerals Precision Lip Pencil, Rosewood, .04 Ounce                                      1\n",
       "B0003MJIWQ  glo Minerals Eye Shadow, Rain Forest                                                        1\n",
       "Name: title, Length: 188, dtype: int64"
      ]
     },
     "execution_count": 65,
     "metadata": {},
     "output_type": "execute_result"
    }
   ],
   "source": [
    "duplicate_df.groupby('asin')['title'].value_counts()"
   ]
  },
  {
   "cell_type": "markdown",
   "id": "feef09db",
   "metadata": {},
   "source": [
    "Doing a quick groupby the value counts seem to check out as just being duplicates so we can remove these from the dataset. "
   ]
  },
  {
   "cell_type": "markdown",
   "id": "2ea4484b",
   "metadata": {},
   "source": [
    "`Price` is still an issue with null values that are fairly high taking up #finish"
   ]
  },
  {
   "cell_type": "code",
   "execution_count": 66,
   "id": "656961e7",
   "metadata": {},
   "outputs": [
    {
     "data": {
      "text/plain": [
       "title                     0\n",
       "price                  5178\n",
       "asin                      0\n",
       "ranking                   0\n",
       "product_description     145\n",
       "also_buy_counts           0\n",
       "also_view_counts          0\n",
       "dtype: int64"
      ]
     },
     "execution_count": 66,
     "metadata": {},
     "output_type": "execute_result"
    }
   ],
   "source": [
    "#checking for null values \n",
    "metadata_df.isna().sum()"
   ]
  },
  {
   "cell_type": "markdown",
   "id": "fdaf5a92",
   "metadata": {},
   "source": [
    "if product description is null then we will remove these. \n"
   ]
  },
  {
   "cell_type": "code",
   "execution_count": 67,
   "id": "eff3ad2d",
   "metadata": {},
   "outputs": [],
   "source": [
    "metadata_df = metadata_df[metadata_df['product_description'].notna()]"
   ]
  },
  {
   "cell_type": "code",
   "execution_count": 68,
   "id": "c34afd1c",
   "metadata": {},
   "outputs": [
    {
     "data": {
      "text/plain": [
       "title                     0\n",
       "price                  5061\n",
       "asin                      0\n",
       "ranking                   0\n",
       "product_description       0\n",
       "also_buy_counts           0\n",
       "also_view_counts          0\n",
       "dtype: int64"
      ]
     },
     "execution_count": 68,
     "metadata": {},
     "output_type": "execute_result"
    }
   ],
   "source": [
    "metadata_df.isna().sum()"
   ]
  },
  {
   "cell_type": "code",
   "execution_count": 69,
   "id": "a2727015",
   "metadata": {},
   "outputs": [],
   "source": [
    "metadata_df_clean = metadata_df.copy()"
   ]
  },
  {
   "cell_type": "code",
   "execution_count": 70,
   "id": "d014cc06",
   "metadata": {},
   "outputs": [
    {
     "data": {
      "text/html": [
       "<div>\n",
       "<style scoped>\n",
       "    .dataframe tbody tr th:only-of-type {\n",
       "        vertical-align: middle;\n",
       "    }\n",
       "\n",
       "    .dataframe tbody tr th {\n",
       "        vertical-align: top;\n",
       "    }\n",
       "\n",
       "    .dataframe thead th {\n",
       "        text-align: right;\n",
       "    }\n",
       "</style>\n",
       "<table border=\"1\" class=\"dataframe\">\n",
       "  <thead>\n",
       "    <tr style=\"text-align: right;\">\n",
       "      <th></th>\n",
       "      <th>title</th>\n",
       "      <th>price</th>\n",
       "      <th>asin</th>\n",
       "      <th>ranking</th>\n",
       "      <th>product_description</th>\n",
       "      <th>also_buy_counts</th>\n",
       "      <th>also_view_counts</th>\n",
       "    </tr>\n",
       "  </thead>\n",
       "  <tbody>\n",
       "    <tr>\n",
       "      <th>0</th>\n",
       "      <td>Crabtree &amp;amp; Evelyn - Gardener's Ultra-Moist...</td>\n",
       "      <td>30.00</td>\n",
       "      <td>B00004U9V2</td>\n",
       "      <td>4324</td>\n",
       "      <td>After a long day of handling thorny situations...</td>\n",
       "      <td>56.0</td>\n",
       "      <td>48.0</td>\n",
       "    </tr>\n",
       "    <tr>\n",
       "      <th>1</th>\n",
       "      <td>AHAVA Bath Salts</td>\n",
       "      <td>NaN</td>\n",
       "      <td>B0000531EN</td>\n",
       "      <td>1633549</td>\n",
       "      <td>If you haven't experienced the pleasures of ba...</td>\n",
       "      <td>0.0</td>\n",
       "      <td>0.0</td>\n",
       "    </tr>\n",
       "  </tbody>\n",
       "</table>\n",
       "</div>"
      ],
      "text/plain": [
       "                                               title  price        asin  \\\n",
       "0  Crabtree &amp; Evelyn - Gardener's Ultra-Moist...  30.00  B00004U9V2   \n",
       "1                                   AHAVA Bath Salts    NaN  B0000531EN   \n",
       "\n",
       "   ranking                                product_description  \\\n",
       "0     4324  After a long day of handling thorny situations...   \n",
       "1  1633549  If you haven't experienced the pleasures of ba...   \n",
       "\n",
       "   also_buy_counts  also_view_counts  \n",
       "0             56.0              48.0  \n",
       "1              0.0               0.0  "
      ]
     },
     "execution_count": 70,
     "metadata": {},
     "output_type": "execute_result"
    }
   ],
   "source": [
    "metadata_df_clean.head(2)"
   ]
  },
  {
   "cell_type": "markdown",
   "id": "77c5d42f",
   "metadata": {},
   "source": [
    "### creating category"
   ]
  },
  {
   "cell_type": "code",
   "execution_count": 71,
   "id": "4b885cef",
   "metadata": {},
   "outputs": [],
   "source": [
    "from collections import defaultdict\n",
    "title_list = metadata_df_clean[\"title\"].to_list()\n",
    "\n",
    "temp = defaultdict(int)\n",
    " \n",
    "# memorizing count\n",
    "for title in title_list:\n",
    "    for wrd in title.split():\n",
    "        wrd = wrd.lower()\n",
    "        \n",
    "        clean_wrd = \"\"\n",
    "        #searching through each letter and only accepting those in the alphabet\n",
    "        for letter in wrd: \n",
    "            if letter >= 'a' and letter <= 'z': \n",
    "                clean_wrd = clean_wrd + letter\n",
    "        temp[clean_wrd] += 1\n",
    " "
   ]
  },
  {
   "cell_type": "code",
   "execution_count": 72,
   "id": "0b28fb3e",
   "metadata": {},
   "outputs": [],
   "source": [
    "#saving dictionaries for easy access for analyzing the titles\n",
    "sorted_dict = sorted(temp.items(),key = lambda x:x[1], reverse = True)\n",
    "sorted_dict_alpha = sorted(temp.items())"
   ]
  },
  {
   "cell_type": "code",
   "execution_count": 73,
   "id": "b0e0971a",
   "metadata": {},
   "outputs": [],
   "source": [
    "#output for csv \n",
    "df_dict = pd.DataFrame(sorted_dict_alpha)\n",
    "df_dict.to_csv(\"myfile.csv\",index=False)"
   ]
  },
  {
   "cell_type": "code",
   "execution_count": 74,
   "id": "0b6a5683",
   "metadata": {},
   "outputs": [],
   "source": [
    "#regex list for mapping out the different categories\n",
    "regex_list = [r'\\skin\\B|moisturi[z|s](er|ing)|\\bcleans.*(ing|r)\\b|cellular|salve|essence|serum|maintenance|digestive|pevonia|micellar|kerr|filorga|complex|cleanse|osmosis|elixir|orlane|concentrate|manuka|stretch mark|cosmedix|clinical|redness|oralne|guinot|clarityrx|bioelements|reconstructor|liftosome|moisture|replenix|goldfaden|fender|mask|epicuren|\\bface\\b(?!\\w*sur)|cell repair|facial|astringent|blinc|\\bmasque\\b|\\bcreme\\b|\\btoner\\b|acne|(?!hair spray)\\b(face|facial) spray\\b|mio|tired leg|butter|marini|badescu|elemis|youth|antiaging|makeup remover|e.r.3|tonic|body lotion|towelettes|occitane|\\b(?<!sun )lotion\\b|replenix cf|skincare|nuxe|ahava|crabtree|moisterizing|arden|jurlique|retinol|strivectin|\\bremover\\b|cream|bliss|\\b(?<!hair )oil\\b|scrub|acid|derm|skin|body|greyl|pureology|aloe|perricone|wipe|vichy|anti(?!per|oxid|friz)|caudalie|age|borghese|exfol|iredale|bisse|neova|squalane|ceut|neck|red flower|boscia|cellex-c|wrinkle|hyd*' #skincare\n",
    "              ,r'hair|cond(i)tion|putty|eimi|dr.|klorane|mop|\\b(moroccanoil|hard water|paste|inhibition|prevon|silken|teasing|frizz|cloud nine|davines|colorproof|marulaoil|abba|exquisiteoil|salon|chaz dean|milk_shake|oilhair|shampoo|shampooing|hairspray)\\b|(?!face|facial)\\b(hair|detangling|texture|volumizing) spray\\b|protectant|treatment|styling|lipstick|brightening|brow(?!n)|paul mitchell|\\b(?<!mist )spray\\b|mousse|volumiz|hair oil|curl|texture|somme|wax|oribe|amika|text*|mist|volume|blandi|\\bgel\\b|rusk|sebastian|chi|rsquo|nioxin|furterer|folli|neuma|root|volumin|blonde(s)' #haircare \n",
    "              ,r'\\w*(?<!s)nail|\\bpolish\\b(?!\\w*ed|\\w*er|\\w*es|\\w*ing\\b)|heel|ridge|cuticle|dry drops|prostay|rgb|manicure|pedicure|crme|\\bhand(s)?\\b(?!bag)|\\bopi\\b|zoya|jessica|foot cream|gehwol fusskraft|cnd|coat|palisade|\\b(?<!lip )lacquer\\b' #nailcare\n",
    "              ,r'soap(?!holder)|bath|shower(?!cap)|gianna rose|\\bwash(?!mouth)|salt|rituals|molton brown|\\bmud\\b' #bath&shower\n",
    "              ,r'shadow|beauty|\\bli(ps)?\\b(?!philip)|liner(?!clineral)|longo|son &amp;|lea journo|bb|mai|cargo|balm|makeup|lip lacquer|alloy|foundation|conceal-it|cosmetics|pencil|\\bgloss\\b|\\bpalette\\b|hormone|conceal(er)|\\bprimer\\b|corrector|mascara|rodial|\\bmakeup\\b(?! remover)|highlight(ing)|bronzing|bronzer|blush|powder|stila|cosmetic|lorac|\\beye\\b(?! makeup remover)|dermablend|jouer|highlighter|geller|tint|lash|bronze|contour|base|matte|berry|tonymoly|michelle phan|korres|lip|shadow(?!s)' #makeup\n",
    "              ,r'eau|toilette|parfum|cologne|perfume|fragrance|rollerball|lolita|aroma|alora|pacifique|montale|alford|mancera|malandrino|woods|\\bkenneth\\b' #fragance\n",
    "              ,r'\\b(aftershave)|jack black|homme|men|him|man made|shaving|groom|anthony|shave|proglide|deodorant|pomade|razor|perspirant|billy|klein|beard|fusion proglide|baxter|shave|trimmer|shave(?!r)' #menscare\n",
    "              ,r'tweezer|ts2|brush|showercap|capsule|clip(s)|philip|iron|plie|ddf|cotton|lightstim|purse pack|sponge|file|sharpener|nubrilliance|stephanie johnson|emi|potempa|japonesque|beachwaver|attachment|plate|t3|clarisonic|supplement|candle|papier|vitamin|\\bdryer\\b|sponge(s)|rollers|ceramic|mouth|tooth|teeth|diffuser|babyliss|\\btea\\b|comb|temptu|white|mirror|bag|curler|ghd|stand|supersmile|zwilling|ionic|tool(s)'#accessories \n",
    "              ,r'sun|spf|sunscreen|\\btan\\b|st. tropez|\\btanning\\b|\\btanner\\b|sun lotion' #suncare\n",
    "              ,r'\\bgift\\b|\\bset\\b|kit|hamper|strop|\\btravel\\b|box' #other\n",
    "             ]\n",
    "                \n",
    "column_names = ['c_skincare','c_haircare','c_nailandhands','c_bath&shower','c_makeup','c_fragance','c_menscare','c_accessories','c_suncare','c_other']\n"
   ]
  },
  {
   "cell_type": "code",
   "execution_count": 75,
   "id": "bdb95ad1",
   "metadata": {},
   "outputs": [
    {
     "name": "stderr",
     "output_type": "stream",
     "text": [
      "/var/folders/k5/r4y7z25n2rz_yw3s46bn0m580000gn/T/ipykernel_1259/2954263219.py:4: UserWarning: This pattern is interpreted as a regular expression, and has match groups. To actually get the groups, use str.extract.\n",
      "  metadata_df_clean[column] = metadata_df_clean[\"title\"].str.contains(\n"
     ]
    },
    {
     "name": "stdout",
     "output_type": "stream",
     "text": [
      "c_skincare column created with 6604 matches\n"
     ]
    },
    {
     "name": "stderr",
     "output_type": "stream",
     "text": [
      "/var/folders/k5/r4y7z25n2rz_yw3s46bn0m580000gn/T/ipykernel_1259/2954263219.py:4: UserWarning: This pattern is interpreted as a regular expression, and has match groups. To actually get the groups, use str.extract.\n",
      "  metadata_df_clean[column] = metadata_df_clean[\"title\"].str.contains(\n"
     ]
    },
    {
     "name": "stdout",
     "output_type": "stream",
     "text": [
      "c_haircare column created with 4782 matches\n"
     ]
    },
    {
     "name": "stderr",
     "output_type": "stream",
     "text": [
      "/var/folders/k5/r4y7z25n2rz_yw3s46bn0m580000gn/T/ipykernel_1259/2954263219.py:4: UserWarning: This pattern is interpreted as a regular expression, and has match groups. To actually get the groups, use str.extract.\n",
      "  metadata_df_clean[column] = metadata_df_clean[\"title\"].str.contains(\n"
     ]
    },
    {
     "name": "stdout",
     "output_type": "stream",
     "text": [
      "c_nailandhands column created with 1044 matches\n",
      "c_bath&shower column created with 784 matches\n"
     ]
    },
    {
     "name": "stderr",
     "output_type": "stream",
     "text": [
      "/var/folders/k5/r4y7z25n2rz_yw3s46bn0m580000gn/T/ipykernel_1259/2954263219.py:4: UserWarning: This pattern is interpreted as a regular expression, and has match groups. To actually get the groups, use str.extract.\n",
      "  metadata_df_clean[column] = metadata_df_clean[\"title\"].str.contains(\n"
     ]
    },
    {
     "name": "stdout",
     "output_type": "stream",
     "text": [
      "c_makeup column created with 3268 matches\n",
      "c_fragance column created with 1493 matches\n"
     ]
    },
    {
     "name": "stderr",
     "output_type": "stream",
     "text": [
      "/var/folders/k5/r4y7z25n2rz_yw3s46bn0m580000gn/T/ipykernel_1259/2954263219.py:4: UserWarning: This pattern is interpreted as a regular expression, and has match groups. To actually get the groups, use str.extract.\n",
      "  metadata_df_clean[column] = metadata_df_clean[\"title\"].str.contains(\n"
     ]
    },
    {
     "name": "stdout",
     "output_type": "stream",
     "text": [
      "c_menscare column created with 1668 matches\n"
     ]
    },
    {
     "name": "stderr",
     "output_type": "stream",
     "text": [
      "/var/folders/k5/r4y7z25n2rz_yw3s46bn0m580000gn/T/ipykernel_1259/2954263219.py:4: UserWarning: This pattern is interpreted as a regular expression, and has match groups. To actually get the groups, use str.extract.\n",
      "  metadata_df_clean[column] = metadata_df_clean[\"title\"].str.contains(\n"
     ]
    },
    {
     "name": "stdout",
     "output_type": "stream",
     "text": [
      "c_accessories column created with 1988 matches\n",
      "c_suncare column created with 594 matches\n",
      "c_other column created with 799 matches\n"
     ]
    }
   ],
   "source": [
    "#for loop to create columns and then prints out the number of matches \n",
    "for column,regex_search in zip(column_names, regex_list):\n",
    "    \n",
    "    metadata_df_clean[column] = metadata_df_clean[\"title\"].str.contains(\n",
    "    regex_search\n",
    "    , regex = True\n",
    "    , case=False )\n",
    "    counts = metadata_df_clean[column].sum()\n",
    "    print(f\"{column} column created with {counts} matches\")\n",
    "    "
   ]
  },
  {
   "cell_type": "code",
   "execution_count": 76,
   "id": "e35d38af",
   "metadata": {},
   "outputs": [
    {
     "name": "stdout",
     "output_type": "stream",
     "text": [
      "0               skincare\n",
      "1               skincare\n",
      "2               skincare\n",
      "3               skincare\n",
      "4        nails and hands\n",
      "              ...       \n",
      "12294    nails and hands\n",
      "12295    nails and hands\n",
      "12296    nails and hands\n",
      "12297           fragance\n",
      "12298           fragance\n",
      "Name: category, Length: 11966, dtype: object\n"
     ]
    }
   ],
   "source": [
    "#creating new column for category\n",
    "mapping_dict = { False: None\n",
    "                , 'c_skincare': 'skincare'\n",
    "                , 'c_haircare': 'haircare'\n",
    "                , 'c_nailandhands': 'nails and hands'\n",
    "                ,'c_bath&shower' : 'bath and shower'\n",
    "                ,'c_makeup' : 'makeup'\n",
    "                ,'c_fragance' : 'fragance'\n",
    "                ,'c_accessories' : 'accessories'\n",
    "                , 'c_menscare' : 'menscare'\n",
    "                , 'c_other' : 'other'\n",
    "                , 'c_suncare' : 'suncare'\n",
    "               }\n",
    "\n",
    "df_cat = metadata_df_clean.filter(like='c_')\n",
    "metadata_df_clean['category'] = (df_cat.idxmax(axis=1).map(mapping_dict)\n",
    "                    .where(df_cat.any(axis=1), mapping_dict[False]))\n",
    "print (metadata_df_clean['category'])"
   ]
  },
  {
   "cell_type": "code",
   "execution_count": null,
   "id": "89fb8b37",
   "metadata": {},
   "outputs": [],
   "source": []
  },
  {
   "cell_type": "code",
   "execution_count": 77,
   "id": "950c51fd",
   "metadata": {},
   "outputs": [
    {
     "data": {
      "text/plain": [
       "(0, 18)"
      ]
     },
     "execution_count": 77,
     "metadata": {},
     "output_type": "execute_result"
    }
   ],
   "source": [
    "#sanity check \n",
    "metadata_null = metadata_df_clean[metadata_df_clean['category']=='none']\n",
    "metadata_null.shape"
   ]
  },
  {
   "cell_type": "code",
   "execution_count": 78,
   "id": "28184b39",
   "metadata": {},
   "outputs": [],
   "source": [
    "#remove the c columns\n",
    "column_names = ['c_skincare','c_haircare','c_nailandhands','c_bath&shower','c_makeup','c_fragance','c_menscare','c_accessories','c_suncare','c_other']\n",
    "\n",
    "for column in column_names: \n",
    "    metadata_df_clean.drop([column],axis=1, inplace=True)"
   ]
  },
  {
   "cell_type": "code",
   "execution_count": 79,
   "id": "e3421c12",
   "metadata": {},
   "outputs": [
    {
     "data": {
      "text/plain": [
       "title                     0\n",
       "price                  5061\n",
       "asin                      0\n",
       "ranking                   0\n",
       "product_description       0\n",
       "also_buy_counts           0\n",
       "also_view_counts          0\n",
       "category                  1\n",
       "dtype: int64"
      ]
     },
     "execution_count": 79,
     "metadata": {},
     "output_type": "execute_result"
    }
   ],
   "source": [
    "metadata_df_clean.isna().sum()"
   ]
  },
  {
   "cell_type": "code",
   "execution_count": 80,
   "id": "993e8f56",
   "metadata": {},
   "outputs": [
    {
     "data": {
      "text/html": [
       "<div>\n",
       "<style scoped>\n",
       "    .dataframe tbody tr th:only-of-type {\n",
       "        vertical-align: middle;\n",
       "    }\n",
       "\n",
       "    .dataframe tbody tr th {\n",
       "        vertical-align: top;\n",
       "    }\n",
       "\n",
       "    .dataframe thead th {\n",
       "        text-align: right;\n",
       "    }\n",
       "</style>\n",
       "<table border=\"1\" class=\"dataframe\">\n",
       "  <thead>\n",
       "    <tr style=\"text-align: right;\">\n",
       "      <th></th>\n",
       "      <th>title</th>\n",
       "      <th>price</th>\n",
       "      <th>asin</th>\n",
       "      <th>ranking</th>\n",
       "      <th>product_description</th>\n",
       "      <th>also_buy_counts</th>\n",
       "      <th>also_view_counts</th>\n",
       "      <th>category</th>\n",
       "    </tr>\n",
       "  </thead>\n",
       "  <tbody>\n",
       "    <tr>\n",
       "      <th>4406</th>\n",
       "      <td>skyn ICELAND Angelica Line Smoother, 1.5 fl. oz.</td>\n",
       "      <td>NaN</td>\n",
       "      <td>B005G0WAWA</td>\n",
       "      <td>481615</td>\n",
       "      <td>When skin endures the stress of daily life, wr...</td>\n",
       "      <td>0.0</td>\n",
       "      <td>0.0</td>\n",
       "      <td>None</td>\n",
       "    </tr>\n",
       "  </tbody>\n",
       "</table>\n",
       "</div>"
      ],
      "text/plain": [
       "                                                 title price        asin  \\\n",
       "4406  skyn ICELAND Angelica Line Smoother, 1.5 fl. oz.   NaN  B005G0WAWA   \n",
       "\n",
       "      ranking                                product_description  \\\n",
       "4406   481615  When skin endures the stress of daily life, wr...   \n",
       "\n",
       "      also_buy_counts  also_view_counts category  \n",
       "4406              0.0               0.0     None  "
      ]
     },
     "execution_count": 80,
     "metadata": {},
     "output_type": "execute_result"
    }
   ],
   "source": [
    "na_df = metadata_df_clean[metadata_df_clean['category'].isna()]\n",
    "na_df"
   ]
  },
  {
   "cell_type": "code",
   "execution_count": 81,
   "id": "a28e5fa2",
   "metadata": {},
   "outputs": [
    {
     "data": {
      "text/plain": [
       "'\\nfor column,regex_search in zip(column_names, regex_list):\\n    \\n    na_df[column] = na_df[\"title\"].str.contains(\\n    regex_search\\n    , regex = True\\n    , case=False )\\n    counts = na_df[column].sum()\\n    print(f\"{column} column created with {counts} matches\")\\n    \\n'"
      ]
     },
     "execution_count": 81,
     "metadata": {},
     "output_type": "execute_result"
    }
   ],
   "source": [
    "#dont know if I need this anymore\n",
    "\"\"\"\n",
    "for column,regex_search in zip(column_names, regex_list):\n",
    "    \n",
    "    na_df[column] = na_df[\"title\"].str.contains(\n",
    "    regex_search\n",
    "    , regex = True\n",
    "    , case=False )\n",
    "    counts = na_df[column].sum()\n",
    "    print(f\"{column} column created with {counts} matches\")\n",
    "    \n",
    "\"\"\""
   ]
  },
  {
   "cell_type": "markdown",
   "id": "f5aa2558",
   "metadata": {},
   "source": [
    "group by product, order by time, and then see what would look like (poss window function)"
   ]
  },
  {
   "cell_type": "markdown",
   "id": "d5a2146c",
   "metadata": {},
   "source": [
    "### Analysis "
   ]
  },
  {
   "cell_type": "code",
   "execution_count": 83,
   "id": "b07559d9",
   "metadata": {},
   "outputs": [],
   "source": [
    "#splitting out Day month year from reviewtime\n",
    "clean_review_df['reviewTime'] = review_df['reviewTime'].str.replace(\",\",\"\")\n",
    "clean_review_df[['day','month',\"year\"]] = clean_review_df[\"reviewTime\"].str.split(\" \", expand = True)"
   ]
  },
  {
   "cell_type": "code",
   "execution_count": 84,
   "id": "aeb5abd1",
   "metadata": {},
   "outputs": [
    {
     "data": {
      "text/html": [
       "<div>\n",
       "<style scoped>\n",
       "    .dataframe tbody tr th:only-of-type {\n",
       "        vertical-align: middle;\n",
       "    }\n",
       "\n",
       "    .dataframe tbody tr th {\n",
       "        vertical-align: top;\n",
       "    }\n",
       "\n",
       "    .dataframe thead th {\n",
       "        text-align: right;\n",
       "    }\n",
       "</style>\n",
       "<table border=\"1\" class=\"dataframe\">\n",
       "  <thead>\n",
       "    <tr style=\"text-align: right;\">\n",
       "      <th></th>\n",
       "      <th>overall</th>\n",
       "      <th>vote</th>\n",
       "      <th>verified</th>\n",
       "      <th>reviewTime</th>\n",
       "      <th>reviewerID</th>\n",
       "      <th>asin</th>\n",
       "      <th>reviewText</th>\n",
       "      <th>summary</th>\n",
       "      <th>day</th>\n",
       "      <th>month</th>\n",
       "      <th>year</th>\n",
       "      <th>reviewdate</th>\n",
       "    </tr>\n",
       "  </thead>\n",
       "  <tbody>\n",
       "    <tr>\n",
       "      <th>0</th>\n",
       "      <td>2.0</td>\n",
       "      <td>3.0</td>\n",
       "      <td>1</td>\n",
       "      <td>06 15 2010</td>\n",
       "      <td>A1Q6MUU0B2ZDQG</td>\n",
       "      <td>B00004U9V2</td>\n",
       "      <td>I bought two of these 8.5 fl oz hand cream, an...</td>\n",
       "      <td>dispensers don't work</td>\n",
       "      <td>6</td>\n",
       "      <td>15</td>\n",
       "      <td>2010</td>\n",
       "      <td>2010-06-15</td>\n",
       "    </tr>\n",
       "    <tr>\n",
       "      <th>1</th>\n",
       "      <td>5.0</td>\n",
       "      <td>14.0</td>\n",
       "      <td>1</td>\n",
       "      <td>01 7 2010</td>\n",
       "      <td>A3HO2SQDCZIE9S</td>\n",
       "      <td>B00004U9V2</td>\n",
       "      <td>Believe me, over the years I have tried many, ...</td>\n",
       "      <td>Best hand cream ever.</td>\n",
       "      <td>1</td>\n",
       "      <td>7</td>\n",
       "      <td>2010</td>\n",
       "      <td>2010-07-01</td>\n",
       "    </tr>\n",
       "  </tbody>\n",
       "</table>\n",
       "</div>"
      ],
      "text/plain": [
       "   overall  vote  verified  reviewTime      reviewerID        asin  \\\n",
       "0      2.0   3.0         1  06 15 2010  A1Q6MUU0B2ZDQG  B00004U9V2   \n",
       "1      5.0  14.0         1   01 7 2010  A3HO2SQDCZIE9S  B00004U9V2   \n",
       "\n",
       "                                          reviewText                summary  \\\n",
       "0  I bought two of these 8.5 fl oz hand cream, an...  dispensers don't work   \n",
       "1  Believe me, over the years I have tried many, ...  Best hand cream ever.   \n",
       "\n",
       "   day  month  year reviewdate  \n",
       "0    6     15  2010 2010-06-15  \n",
       "1    1      7  2010 2010-07-01  "
      ]
     },
     "execution_count": 84,
     "metadata": {},
     "output_type": "execute_result"
    }
   ],
   "source": [
    "#separating columns of clean_review_df\n",
    "clean_review_df[['day','month',\"year\"]] = clean_review_df[\"reviewTime\"].str.split(\" \", expand = True).astype(\"int32\")\n",
    "clean_review_df.head(2)"
   ]
  },
  {
   "cell_type": "code",
   "execution_count": 85,
   "id": "229ec887",
   "metadata": {},
   "outputs": [],
   "source": [
    "clean_review_df =clean_review_df.drop(columns = \"reviewTime\")"
   ]
  },
  {
   "cell_type": "code",
   "execution_count": 86,
   "id": "a12f9421",
   "metadata": {},
   "outputs": [
    {
     "data": {
      "image/png": "[encoded data removed]",
      "text/plain": [
       "<Figure size 720x576 with 1 Axes>"
      ]
     },
     "metadata": {},
     "output_type": "display_data"
    }
   ],
   "source": [
    "#Looking at number of reviews over the years \n",
    "plt.figure(figsize=(10,8))\n",
    "clean_review_df['year'].value_counts().sort_index().plot(linewidth=2, marker ='o', color = \"navy\")\n",
    "\n",
    "plt.title(\"Reviews by year in Luxury Beauty category\")\n",
    "plt.savefig(\"yearplot.jpg\") "
   ]
  },
  {
   "cell_type": "code",
   "execution_count": null,
   "id": "9d291112",
   "metadata": {},
   "outputs": [],
   "source": [
    "\n"
   ]
  },
  {
   "cell_type": "code",
   "execution_count": 87,
   "id": "38b9b117",
   "metadata": {},
   "outputs": [
    {
     "data": {
      "text/plain": [
       "year\n",
       "2004        34\n",
       "2005       145\n",
       "2006       321\n",
       "2007       931\n",
       "2008      1416\n",
       "2009      2122\n",
       "2010      3614\n",
       "2011      7492\n",
       "2012     14678\n",
       "2013     42876\n",
       "2014     75583\n",
       "2015    105766\n",
       "2016    121076\n",
       "2017    107053\n",
       "2018     56053\n",
       "Name: overall, dtype: int64"
      ]
     },
     "execution_count": 87,
     "metadata": {},
     "output_type": "execute_result"
    }
   ],
   "source": [
    "clean_review_df.groupby(\"year\")[\"overall\"].count()"
   ]
  },
  {
   "cell_type": "markdown",
   "id": "e2ed691e",
   "metadata": {},
   "source": [
    "value_counts, look at percentile, 90% of the products have x number of reviews "
   ]
  },
  {
   "cell_type": "code",
   "execution_count": 88,
   "id": "9586ab08",
   "metadata": {},
   "outputs": [
    {
     "name": "stdout",
     "output_type": "stream",
     "text": [
      "<class 'pandas.core.frame.DataFrame'>\n",
      "Int64Index: 539160 entries, 0 to 574627\n",
      "Data columns (total 11 columns):\n",
      " #   Column      Non-Null Count   Dtype         \n",
      "---  ------      --------------   -----         \n",
      " 0   overall     539160 non-null  float16       \n",
      " 1   vote        539160 non-null  float32       \n",
      " 2   verified    539160 non-null  int32         \n",
      " 3   reviewerID  539160 non-null  object        \n",
      " 4   asin        539160 non-null  object        \n",
      " 5   reviewText  539160 non-null  object        \n",
      " 6   summary     539160 non-null  object        \n",
      " 7   day         539160 non-null  int32         \n",
      " 8   month       539160 non-null  int32         \n",
      " 9   year        539160 non-null  int32         \n",
      " 10  reviewdate  539160 non-null  datetime64[ns]\n",
      "dtypes: datetime64[ns](1), float16(1), float32(1), int32(4), object(4)\n",
      "memory usage: 36.0+ MB\n"
     ]
    }
   ],
   "source": [
    "clean_review_df.info()"
   ]
  },
  {
   "cell_type": "code",
   "execution_count": 89,
   "id": "ec1f6def",
   "metadata": {},
   "outputs": [
    {
     "data": {
      "text/html": [
       "<div>\n",
       "<style scoped>\n",
       "    .dataframe tbody tr th:only-of-type {\n",
       "        vertical-align: middle;\n",
       "    }\n",
       "\n",
       "    .dataframe tbody tr th {\n",
       "        vertical-align: top;\n",
       "    }\n",
       "\n",
       "    .dataframe thead th {\n",
       "        text-align: right;\n",
       "    }\n",
       "</style>\n",
       "<table border=\"1\" class=\"dataframe\">\n",
       "  <thead>\n",
       "    <tr style=\"text-align: right;\">\n",
       "      <th></th>\n",
       "      <th>overall</th>\n",
       "      <th>vote</th>\n",
       "      <th>verified</th>\n",
       "      <th>reviewerID</th>\n",
       "      <th>asin</th>\n",
       "      <th>reviewText</th>\n",
       "      <th>summary</th>\n",
       "      <th>day</th>\n",
       "      <th>month</th>\n",
       "      <th>year</th>\n",
       "      <th>reviewdate</th>\n",
       "    </tr>\n",
       "  </thead>\n",
       "  <tbody>\n",
       "    <tr>\n",
       "      <th>72</th>\n",
       "      <td>5.0</td>\n",
       "      <td>0.0</td>\n",
       "      <td>1</td>\n",
       "      <td>A2BR01CI7K7GAN</td>\n",
       "      <td>B00004U9V2</td>\n",
       "      <td>Bought for my daughter.</td>\n",
       "      <td>Has Good Reviews!</td>\n",
       "      <td>12</td>\n",
       "      <td>30</td>\n",
       "      <td>2017</td>\n",
       "      <td>2017-12-30</td>\n",
       "    </tr>\n",
       "    <tr>\n",
       "      <th>73</th>\n",
       "      <td>5.0</td>\n",
       "      <td>0.0</td>\n",
       "      <td>1</td>\n",
       "      <td>A1N6K3WYGUMHGO</td>\n",
       "      <td>B00004U9V2</td>\n",
       "      <td>Great cream for the skin.</td>\n",
       "      <td>Five Stars</td>\n",
       "      <td>12</td>\n",
       "      <td>29</td>\n",
       "      <td>2017</td>\n",
       "      <td>2017-12-29</td>\n",
       "    </tr>\n",
       "  </tbody>\n",
       "</table>\n",
       "</div>"
      ],
      "text/plain": [
       "    overall  vote  verified      reviewerID        asin  \\\n",
       "72      5.0   0.0         1  A2BR01CI7K7GAN  B00004U9V2   \n",
       "73      5.0   0.0         1  A1N6K3WYGUMHGO  B00004U9V2   \n",
       "\n",
       "                   reviewText            summary  day  month  year reviewdate  \n",
       "72    Bought for my daughter.  Has Good Reviews!   12     30  2017 2017-12-30  \n",
       "73  Great cream for the skin.         Five Stars   12     29  2017 2017-12-29  "
      ]
     },
     "execution_count": 89,
     "metadata": {},
     "output_type": "execute_result"
    }
   ],
   "source": [
    "#filtering to 2016 and 2017 reviews\n",
    "filtered_review_df = clean_review_df[((clean_review_df[\"year\"] == 2016 )|(clean_review_df[\"year\"] == 2017))].copy()\n",
    "filtered_review_df.head(2)"
   ]
  },
  {
   "cell_type": "code",
   "execution_count": 90,
   "id": "f818d8a9",
   "metadata": {},
   "outputs": [],
   "source": [
    "#filtering to only those reviews that have more than 50 counts per product id \n",
    "filtered_review_df=filtered_review_df.groupby(\"asin\").filter(lambda x:x['overall'].count() >=50)"
   ]
  },
  {
   "cell_type": "code",
   "execution_count": 91,
   "id": "267f0ff8",
   "metadata": {},
   "outputs": [
    {
     "data": {
      "text/plain": [
       "(140014, 11)"
      ]
     },
     "execution_count": 91,
     "metadata": {},
     "output_type": "execute_result"
    }
   ],
   "source": [
    "filtered_review_df.shape"
   ]
  },
  {
   "cell_type": "code",
   "execution_count": 92,
   "id": "a6b6c01d",
   "metadata": {},
   "outputs": [
    {
     "data": {
      "text/html": [
       "<div>\n",
       "<style scoped>\n",
       "    .dataframe tbody tr th:only-of-type {\n",
       "        vertical-align: middle;\n",
       "    }\n",
       "\n",
       "    .dataframe tbody tr th {\n",
       "        vertical-align: top;\n",
       "    }\n",
       "\n",
       "    .dataframe thead th {\n",
       "        text-align: right;\n",
       "    }\n",
       "</style>\n",
       "<table border=\"1\" class=\"dataframe\">\n",
       "  <thead>\n",
       "    <tr style=\"text-align: right;\">\n",
       "      <th></th>\n",
       "      <th>asin</th>\n",
       "      <th>year_2016</th>\n",
       "      <th>year_2017</th>\n",
       "      <th>pct_change</th>\n",
       "      <th>total_reviews</th>\n",
       "    </tr>\n",
       "  </thead>\n",
       "  <tbody>\n",
       "    <tr>\n",
       "      <th>0</th>\n",
       "      <td>B00004U9V2</td>\n",
       "      <td>149.0</td>\n",
       "      <td>149.0</td>\n",
       "      <td>0.000000</td>\n",
       "      <td>298.0</td>\n",
       "    </tr>\n",
       "    <tr>\n",
       "      <th>1</th>\n",
       "      <td>B00005V50B</td>\n",
       "      <td>100.0</td>\n",
       "      <td>67.0</td>\n",
       "      <td>-33.000000</td>\n",
       "      <td>167.0</td>\n",
       "    </tr>\n",
       "    <tr>\n",
       "      <th>2</th>\n",
       "      <td>B000066SYB</td>\n",
       "      <td>24.0</td>\n",
       "      <td>34.0</td>\n",
       "      <td>41.666667</td>\n",
       "      <td>58.0</td>\n",
       "    </tr>\n",
       "    <tr>\n",
       "      <th>3</th>\n",
       "      <td>B000068DWY</td>\n",
       "      <td>37.0</td>\n",
       "      <td>36.0</td>\n",
       "      <td>-2.702703</td>\n",
       "      <td>73.0</td>\n",
       "    </tr>\n",
       "    <tr>\n",
       "      <th>4</th>\n",
       "      <td>B00011QUKW</td>\n",
       "      <td>77.0</td>\n",
       "      <td>34.0</td>\n",
       "      <td>-55.844156</td>\n",
       "      <td>111.0</td>\n",
       "    </tr>\n",
       "    <tr>\n",
       "      <th>...</th>\n",
       "      <td>...</td>\n",
       "      <td>...</td>\n",
       "      <td>...</td>\n",
       "      <td>...</td>\n",
       "      <td>...</td>\n",
       "    </tr>\n",
       "    <tr>\n",
       "      <th>945</th>\n",
       "      <td>B01G4WNGGM</td>\n",
       "      <td>NaN</td>\n",
       "      <td>50.0</td>\n",
       "      <td>NaN</td>\n",
       "      <td>NaN</td>\n",
       "    </tr>\n",
       "    <tr>\n",
       "      <th>946</th>\n",
       "      <td>B01G4XAN3A</td>\n",
       "      <td>41.0</td>\n",
       "      <td>18.0</td>\n",
       "      <td>-56.097561</td>\n",
       "      <td>59.0</td>\n",
       "    </tr>\n",
       "    <tr>\n",
       "      <th>947</th>\n",
       "      <td>B01GDUM666</td>\n",
       "      <td>89.0</td>\n",
       "      <td>55.0</td>\n",
       "      <td>-38.202247</td>\n",
       "      <td>144.0</td>\n",
       "    </tr>\n",
       "    <tr>\n",
       "      <th>948</th>\n",
       "      <td>B01GFYWYC6</td>\n",
       "      <td>48.0</td>\n",
       "      <td>137.0</td>\n",
       "      <td>185.416667</td>\n",
       "      <td>185.0</td>\n",
       "    </tr>\n",
       "    <tr>\n",
       "      <th>949</th>\n",
       "      <td>B01GINONQ4</td>\n",
       "      <td>39.0</td>\n",
       "      <td>86.0</td>\n",
       "      <td>120.512821</td>\n",
       "      <td>125.0</td>\n",
       "    </tr>\n",
       "  </tbody>\n",
       "</table>\n",
       "<p>950 rows × 5 columns</p>\n",
       "</div>"
      ],
      "text/plain": [
       "           asin  year_2016  year_2017  pct_change  total_reviews\n",
       "0    B00004U9V2      149.0      149.0    0.000000          298.0\n",
       "1    B00005V50B      100.0       67.0  -33.000000          167.0\n",
       "2    B000066SYB       24.0       34.0   41.666667           58.0\n",
       "3    B000068DWY       37.0       36.0   -2.702703           73.0\n",
       "4    B00011QUKW       77.0       34.0  -55.844156          111.0\n",
       "..          ...        ...        ...         ...            ...\n",
       "945  B01G4WNGGM        NaN       50.0         NaN            NaN\n",
       "946  B01G4XAN3A       41.0       18.0  -56.097561           59.0\n",
       "947  B01GDUM666       89.0       55.0  -38.202247          144.0\n",
       "948  B01GFYWYC6       48.0      137.0  185.416667          185.0\n",
       "949  B01GINONQ4       39.0       86.0  120.512821          125.0\n",
       "\n",
       "[950 rows x 5 columns]"
      ]
     },
     "execution_count": 92,
     "metadata": {},
     "output_type": "execute_result"
    }
   ],
   "source": [
    "#creating pivot table \n",
    "year_pivot = pd.pivot_table(filtered_review_df, index=\"asin\",columns = \"year\",values=\"overall\" ,aggfunc=[\"count\"]).reset_index()\n",
    "\n",
    "#renaming columns\n",
    "year_pivot.columns = [\"asin\", \"year_2016\", \"year_2017\"]\n",
    "\n",
    "#adding in YoY pct change \n",
    "year_pivot[\"pct_change\"] = (year_pivot[\"year_2017\"] - year_pivot[\"year_2016\"])/ year_pivot[\"year_2016\"]*100\n",
    "\n",
    "#total review count\n",
    "year_pivot[\"total_reviews\"] = (year_pivot[\"year_2017\"] + year_pivot[\"year_2016\"])\n",
    "\n",
    "year_pivot"
   ]
  },
  {
   "cell_type": "code",
   "execution_count": 93,
   "id": "454b195a",
   "metadata": {},
   "outputs": [],
   "source": [
    "#taking only counting reviews larger than 50 and pct_change higher than 1\n",
    "asin_review_df = year_pivot[(year_pivot[\"pct_change\"]>= 100) & (year_pivot[\"total_reviews\"] >=50)]"
   ]
  },
  {
   "cell_type": "code",
   "execution_count": 94,
   "id": "6b7d83aa",
   "metadata": {},
   "outputs": [
    {
     "data": {
      "text/html": [
       "<div>\n",
       "<style scoped>\n",
       "    .dataframe tbody tr th:only-of-type {\n",
       "        vertical-align: middle;\n",
       "    }\n",
       "\n",
       "    .dataframe tbody tr th {\n",
       "        vertical-align: top;\n",
       "    }\n",
       "\n",
       "    .dataframe thead th {\n",
       "        text-align: right;\n",
       "    }\n",
       "</style>\n",
       "<table border=\"1\" class=\"dataframe\">\n",
       "  <thead>\n",
       "    <tr style=\"text-align: right;\">\n",
       "      <th></th>\n",
       "      <th>asin</th>\n",
       "      <th>year_2016</th>\n",
       "      <th>year_2017</th>\n",
       "      <th>pct_change</th>\n",
       "      <th>total_reviews</th>\n",
       "    </tr>\n",
       "  </thead>\n",
       "  <tbody>\n",
       "    <tr>\n",
       "      <th>6</th>\n",
       "      <td>B00014340I</td>\n",
       "      <td>86.0</td>\n",
       "      <td>206.0</td>\n",
       "      <td>139.534884</td>\n",
       "      <td>292.0</td>\n",
       "    </tr>\n",
       "    <tr>\n",
       "      <th>8</th>\n",
       "      <td>B0001435D4</td>\n",
       "      <td>68.0</td>\n",
       "      <td>142.0</td>\n",
       "      <td>108.823529</td>\n",
       "      <td>210.0</td>\n",
       "    </tr>\n",
       "    <tr>\n",
       "      <th>9</th>\n",
       "      <td>B00014GT8W</td>\n",
       "      <td>203.0</td>\n",
       "      <td>488.0</td>\n",
       "      <td>140.394089</td>\n",
       "      <td>691.0</td>\n",
       "    </tr>\n",
       "    <tr>\n",
       "      <th>14</th>\n",
       "      <td>B0001Z66UM</td>\n",
       "      <td>32.0</td>\n",
       "      <td>73.0</td>\n",
       "      <td>128.125000</td>\n",
       "      <td>105.0</td>\n",
       "    </tr>\n",
       "    <tr>\n",
       "      <th>51</th>\n",
       "      <td>B0007CXYN6</td>\n",
       "      <td>15.0</td>\n",
       "      <td>35.0</td>\n",
       "      <td>133.333333</td>\n",
       "      <td>50.0</td>\n",
       "    </tr>\n",
       "    <tr>\n",
       "      <th>...</th>\n",
       "      <td>...</td>\n",
       "      <td>...</td>\n",
       "      <td>...</td>\n",
       "      <td>...</td>\n",
       "      <td>...</td>\n",
       "    </tr>\n",
       "    <tr>\n",
       "      <th>936</th>\n",
       "      <td>B01DWRRV4A</td>\n",
       "      <td>8.0</td>\n",
       "      <td>46.0</td>\n",
       "      <td>475.000000</td>\n",
       "      <td>54.0</td>\n",
       "    </tr>\n",
       "    <tr>\n",
       "      <th>937</th>\n",
       "      <td>B01E7UY7AC</td>\n",
       "      <td>13.0</td>\n",
       "      <td>41.0</td>\n",
       "      <td>215.384615</td>\n",
       "      <td>54.0</td>\n",
       "    </tr>\n",
       "    <tr>\n",
       "      <th>944</th>\n",
       "      <td>B01FE6HMSM</td>\n",
       "      <td>7.0</td>\n",
       "      <td>55.0</td>\n",
       "      <td>685.714286</td>\n",
       "      <td>62.0</td>\n",
       "    </tr>\n",
       "    <tr>\n",
       "      <th>948</th>\n",
       "      <td>B01GFYWYC6</td>\n",
       "      <td>48.0</td>\n",
       "      <td>137.0</td>\n",
       "      <td>185.416667</td>\n",
       "      <td>185.0</td>\n",
       "    </tr>\n",
       "    <tr>\n",
       "      <th>949</th>\n",
       "      <td>B01GINONQ4</td>\n",
       "      <td>39.0</td>\n",
       "      <td>86.0</td>\n",
       "      <td>120.512821</td>\n",
       "      <td>125.0</td>\n",
       "    </tr>\n",
       "  </tbody>\n",
       "</table>\n",
       "<p>106 rows × 5 columns</p>\n",
       "</div>"
      ],
      "text/plain": [
       "           asin  year_2016  year_2017  pct_change  total_reviews\n",
       "6    B00014340I       86.0      206.0  139.534884          292.0\n",
       "8    B0001435D4       68.0      142.0  108.823529          210.0\n",
       "9    B00014GT8W      203.0      488.0  140.394089          691.0\n",
       "14   B0001Z66UM       32.0       73.0  128.125000          105.0\n",
       "51   B0007CXYN6       15.0       35.0  133.333333           50.0\n",
       "..          ...        ...        ...         ...            ...\n",
       "936  B01DWRRV4A        8.0       46.0  475.000000           54.0\n",
       "937  B01E7UY7AC       13.0       41.0  215.384615           54.0\n",
       "944  B01FE6HMSM        7.0       55.0  685.714286           62.0\n",
       "948  B01GFYWYC6       48.0      137.0  185.416667          185.0\n",
       "949  B01GINONQ4       39.0       86.0  120.512821          125.0\n",
       "\n",
       "[106 rows x 5 columns]"
      ]
     },
     "execution_count": 94,
     "metadata": {},
     "output_type": "execute_result"
    }
   ],
   "source": [
    "asin_review_df"
   ]
  },
  {
   "cell_type": "code",
   "execution_count": 95,
   "id": "f66d716e",
   "metadata": {},
   "outputs": [
    {
     "data": {
      "text/plain": [
       "138878.0"
      ]
     },
     "execution_count": 95,
     "metadata": {},
     "output_type": "execute_result"
    }
   ],
   "source": [
    "year_pivot[\"total_reviews\"].sum()"
   ]
  },
  {
   "cell_type": "code",
   "execution_count": 96,
   "id": "84853a08",
   "metadata": {},
   "outputs": [
    {
     "data": {
      "text/plain": [
       "(106, 5)"
      ]
     },
     "execution_count": 96,
     "metadata": {},
     "output_type": "execute_result"
    }
   ],
   "source": [
    "asin_review_df.shape"
   ]
  },
  {
   "cell_type": "code",
   "execution_count": 97,
   "id": "d47902d6",
   "metadata": {},
   "outputs": [
    {
     "data": {
      "text/plain": [
       "15527.0"
      ]
     },
     "execution_count": 97,
     "metadata": {},
     "output_type": "execute_result"
    }
   ],
   "source": [
    "\n",
    "asin_review_df[\"total_reviews\"].sum()"
   ]
  },
  {
   "cell_type": "markdown",
   "id": "cc398260",
   "metadata": {},
   "source": [
    "15,527 reviews are included in the total count of where we have 100% growth in review counts year over year. Let's try and map this to a column to include in our table. "
   ]
  },
  {
   "cell_type": "code",
   "execution_count": null,
   "id": "ea7f28ca",
   "metadata": {},
   "outputs": [],
   "source": []
  },
  {
   "cell_type": "code",
   "execution_count": 98,
   "id": "048a050f",
   "metadata": {},
   "outputs": [],
   "source": [
    "#finding unique values of asin\n",
    "asin_targets = list(asin_review_df[\"asin\"].unique())\n",
    "\n",
    "#new column \n",
    "filtered_review_df[\"trending_asin\"] = filtered_review_df['asin'].isin(asin_targets)"
   ]
  },
  {
   "cell_type": "code",
   "execution_count": 99,
   "id": "1ecde3f3",
   "metadata": {},
   "outputs": [
    {
     "data": {
      "text/plain": [
       "106"
      ]
     },
     "execution_count": 99,
     "metadata": {},
     "output_type": "execute_result"
    }
   ],
   "source": [
    "len(asin_targets)"
   ]
  },
  {
   "cell_type": "code",
   "execution_count": 100,
   "id": "8897d059",
   "metadata": {},
   "outputs": [
    {
     "data": {
      "text/html": [
       "<div>\n",
       "<style scoped>\n",
       "    .dataframe tbody tr th:only-of-type {\n",
       "        vertical-align: middle;\n",
       "    }\n",
       "\n",
       "    .dataframe tbody tr th {\n",
       "        vertical-align: top;\n",
       "    }\n",
       "\n",
       "    .dataframe thead th {\n",
       "        text-align: right;\n",
       "    }\n",
       "</style>\n",
       "<table border=\"1\" class=\"dataframe\">\n",
       "  <thead>\n",
       "    <tr style=\"text-align: right;\">\n",
       "      <th></th>\n",
       "      <th>overall</th>\n",
       "      <th>vote</th>\n",
       "      <th>verified</th>\n",
       "      <th>reviewerID</th>\n",
       "      <th>asin</th>\n",
       "      <th>reviewText</th>\n",
       "      <th>summary</th>\n",
       "      <th>day</th>\n",
       "      <th>month</th>\n",
       "      <th>year</th>\n",
       "      <th>reviewdate</th>\n",
       "      <th>trending_asin</th>\n",
       "    </tr>\n",
       "  </thead>\n",
       "  <tbody>\n",
       "    <tr>\n",
       "      <th>72</th>\n",
       "      <td>5.0</td>\n",
       "      <td>0.0</td>\n",
       "      <td>1</td>\n",
       "      <td>A2BR01CI7K7GAN</td>\n",
       "      <td>B00004U9V2</td>\n",
       "      <td>Bought for my daughter.</td>\n",
       "      <td>Has Good Reviews!</td>\n",
       "      <td>12</td>\n",
       "      <td>30</td>\n",
       "      <td>2017</td>\n",
       "      <td>2017-12-30</td>\n",
       "      <td>0</td>\n",
       "    </tr>\n",
       "    <tr>\n",
       "      <th>73</th>\n",
       "      <td>5.0</td>\n",
       "      <td>0.0</td>\n",
       "      <td>1</td>\n",
       "      <td>A1N6K3WYGUMHGO</td>\n",
       "      <td>B00004U9V2</td>\n",
       "      <td>Great cream for the skin.</td>\n",
       "      <td>Five Stars</td>\n",
       "      <td>12</td>\n",
       "      <td>29</td>\n",
       "      <td>2017</td>\n",
       "      <td>2017-12-29</td>\n",
       "      <td>0</td>\n",
       "    </tr>\n",
       "    <tr>\n",
       "      <th>74</th>\n",
       "      <td>1.0</td>\n",
       "      <td>0.0</td>\n",
       "      <td>0</td>\n",
       "      <td>A3KPTMMK9D967W</td>\n",
       "      <td>B00004U9V2</td>\n",
       "      <td>Maybe Im just not familiar with this brand, bu...</td>\n",
       "      <td>Bad fragrance</td>\n",
       "      <td>12</td>\n",
       "      <td>28</td>\n",
       "      <td>2017</td>\n",
       "      <td>2017-12-28</td>\n",
       "      <td>0</td>\n",
       "    </tr>\n",
       "    <tr>\n",
       "      <th>75</th>\n",
       "      <td>5.0</td>\n",
       "      <td>0.0</td>\n",
       "      <td>1</td>\n",
       "      <td>A3CEUD9051WKC0</td>\n",
       "      <td>B00004U9V2</td>\n",
       "      <td>This is one of my favorite creams. Highly reco...</td>\n",
       "      <td>Great product.</td>\n",
       "      <td>12</td>\n",
       "      <td>28</td>\n",
       "      <td>2017</td>\n",
       "      <td>2017-12-28</td>\n",
       "      <td>0</td>\n",
       "    </tr>\n",
       "    <tr>\n",
       "      <th>76</th>\n",
       "      <td>5.0</td>\n",
       "      <td>0.0</td>\n",
       "      <td>1</td>\n",
       "      <td>A69VISV3LE7DA</td>\n",
       "      <td>B00004U9V2</td>\n",
       "      <td>I simply love this lotion!  Originally, I rece...</td>\n",
       "      <td>Five Stars</td>\n",
       "      <td>12</td>\n",
       "      <td>19</td>\n",
       "      <td>2017</td>\n",
       "      <td>2017-12-19</td>\n",
       "      <td>0</td>\n",
       "    </tr>\n",
       "  </tbody>\n",
       "</table>\n",
       "</div>"
      ],
      "text/plain": [
       "    overall  vote  verified      reviewerID        asin  \\\n",
       "72      5.0   0.0         1  A2BR01CI7K7GAN  B00004U9V2   \n",
       "73      5.0   0.0         1  A1N6K3WYGUMHGO  B00004U9V2   \n",
       "74      1.0   0.0         0  A3KPTMMK9D967W  B00004U9V2   \n",
       "75      5.0   0.0         1  A3CEUD9051WKC0  B00004U9V2   \n",
       "76      5.0   0.0         1   A69VISV3LE7DA  B00004U9V2   \n",
       "\n",
       "                                           reviewText            summary  day  \\\n",
       "72                            Bought for my daughter.  Has Good Reviews!   12   \n",
       "73                          Great cream for the skin.         Five Stars   12   \n",
       "74  Maybe Im just not familiar with this brand, bu...      Bad fragrance   12   \n",
       "75  This is one of my favorite creams. Highly reco...     Great product.   12   \n",
       "76  I simply love this lotion!  Originally, I rece...         Five Stars   12   \n",
       "\n",
       "    month  year reviewdate  trending_asin  \n",
       "72     30  2017 2017-12-30              0  \n",
       "73     29  2017 2017-12-29              0  \n",
       "74     28  2017 2017-12-28              0  \n",
       "75     28  2017 2017-12-28              0  \n",
       "76     19  2017 2017-12-19              0  "
      ]
     },
     "execution_count": 100,
     "metadata": {},
     "output_type": "execute_result"
    }
   ],
   "source": [
    "filtered_review_df['trending_asin'] = np.where(filtered_review_df['trending_asin']== True, 1, 0)\n",
    "filtered_review_df.head()"
   ]
  },
  {
   "cell_type": "code",
   "execution_count": 101,
   "id": "955035d1",
   "metadata": {},
   "outputs": [
    {
     "data": {
      "text/plain": [
       "950"
      ]
     },
     "execution_count": 101,
     "metadata": {},
     "output_type": "execute_result"
    }
   ],
   "source": [
    "filtered_review_df['asin'].nunique()"
   ]
  },
  {
   "cell_type": "code",
   "execution_count": 103,
   "id": "be572881",
   "metadata": {},
   "outputs": [
    {
     "name": "stdout",
     "output_type": "stream",
     "text": [
      "Trending products make up 11.09% of the dataset.\n"
     ]
    }
   ],
   "source": [
    "pct_trending = (filtered_review_df['trending_asin'].sum()/filtered_review_df.shape[0])*100\n",
    "print(f\"Trending products make up {round(pct_trending,2)}% of the dataset.\") "
   ]
  },
  {
   "cell_type": "code",
   "execution_count": 104,
   "id": "03711f05",
   "metadata": {},
   "outputs": [],
   "source": [
    "pd.set_option('display.max_colwidth', 150)\n",
    "df_combined = pd.merge(filtered_review_df,metadata_df_clean, how=\"left\", on=[\"asin\", \"asin\"])"
   ]
  },
  {
   "cell_type": "code",
   "execution_count": null,
   "id": "59eacd86",
   "metadata": {},
   "outputs": [],
   "source": []
  },
  {
   "cell_type": "code",
   "execution_count": 105,
   "id": "6f050621",
   "metadata": {},
   "outputs": [
    {
     "data": {
      "text/plain": [
       "overall                    0\n",
       "vote                       0\n",
       "verified                   0\n",
       "reviewerID                 0\n",
       "asin                       0\n",
       "reviewText                 0\n",
       "summary                    0\n",
       "day                        0\n",
       "month                      0\n",
       "year                       0\n",
       "reviewdate                 0\n",
       "trending_asin              0\n",
       "title                    409\n",
       "price                  14655\n",
       "ranking                  409\n",
       "product_description      409\n",
       "also_buy_counts          409\n",
       "also_view_counts         409\n",
       "category                 409\n",
       "dtype: int64"
      ]
     },
     "execution_count": 105,
     "metadata": {},
     "output_type": "execute_result"
    }
   ],
   "source": [
    "df_combined.isna().sum()"
   ]
  },
  {
   "cell_type": "code",
   "execution_count": 106,
   "id": "7f870656",
   "metadata": {},
   "outputs": [
    {
     "data": {
      "text/html": [
       "<div>\n",
       "<style scoped>\n",
       "    .dataframe tbody tr th:only-of-type {\n",
       "        vertical-align: middle;\n",
       "    }\n",
       "\n",
       "    .dataframe tbody tr th {\n",
       "        vertical-align: top;\n",
       "    }\n",
       "\n",
       "    .dataframe thead th {\n",
       "        text-align: right;\n",
       "    }\n",
       "</style>\n",
       "<table border=\"1\" class=\"dataframe\">\n",
       "  <thead>\n",
       "    <tr style=\"text-align: right;\">\n",
       "      <th></th>\n",
       "      <th>overall</th>\n",
       "      <th>vote</th>\n",
       "      <th>verified</th>\n",
       "      <th>reviewerID</th>\n",
       "      <th>asin</th>\n",
       "      <th>reviewText</th>\n",
       "      <th>summary</th>\n",
       "      <th>day</th>\n",
       "      <th>month</th>\n",
       "      <th>year</th>\n",
       "      <th>reviewdate</th>\n",
       "      <th>trending_asin</th>\n",
       "      <th>title</th>\n",
       "      <th>price</th>\n",
       "      <th>ranking</th>\n",
       "      <th>product_description</th>\n",
       "      <th>also_buy_counts</th>\n",
       "      <th>also_view_counts</th>\n",
       "      <th>category</th>\n",
       "    </tr>\n",
       "  </thead>\n",
       "  <tbody>\n",
       "    <tr>\n",
       "      <th>0</th>\n",
       "      <td>NaN</td>\n",
       "      <td>NaN</td>\n",
       "      <td>NaN</td>\n",
       "      <td>NaN</td>\n",
       "      <td>NaN</td>\n",
       "      <td>NaN</td>\n",
       "      <td>NaN</td>\n",
       "      <td>NaN</td>\n",
       "      <td>NaN</td>\n",
       "      <td>NaN</td>\n",
       "      <td>NaT</td>\n",
       "      <td>NaN</td>\n",
       "      <td>NaN</td>\n",
       "      <td>NaN</td>\n",
       "      <td>NaN</td>\n",
       "      <td>NaN</td>\n",
       "      <td>NaN</td>\n",
       "      <td>NaN</td>\n",
       "      <td>NaN</td>\n",
       "    </tr>\n",
       "    <tr>\n",
       "      <th>1</th>\n",
       "      <td>NaN</td>\n",
       "      <td>NaN</td>\n",
       "      <td>NaN</td>\n",
       "      <td>NaN</td>\n",
       "      <td>NaN</td>\n",
       "      <td>NaN</td>\n",
       "      <td>NaN</td>\n",
       "      <td>NaN</td>\n",
       "      <td>NaN</td>\n",
       "      <td>NaN</td>\n",
       "      <td>NaT</td>\n",
       "      <td>NaN</td>\n",
       "      <td>NaN</td>\n",
       "      <td>NaN</td>\n",
       "      <td>NaN</td>\n",
       "      <td>NaN</td>\n",
       "      <td>NaN</td>\n",
       "      <td>NaN</td>\n",
       "      <td>NaN</td>\n",
       "    </tr>\n",
       "    <tr>\n",
       "      <th>2</th>\n",
       "      <td>NaN</td>\n",
       "      <td>NaN</td>\n",
       "      <td>NaN</td>\n",
       "      <td>NaN</td>\n",
       "      <td>NaN</td>\n",
       "      <td>NaN</td>\n",
       "      <td>NaN</td>\n",
       "      <td>NaN</td>\n",
       "      <td>NaN</td>\n",
       "      <td>NaN</td>\n",
       "      <td>NaT</td>\n",
       "      <td>NaN</td>\n",
       "      <td>NaN</td>\n",
       "      <td>NaN</td>\n",
       "      <td>NaN</td>\n",
       "      <td>NaN</td>\n",
       "      <td>NaN</td>\n",
       "      <td>NaN</td>\n",
       "      <td>NaN</td>\n",
       "    </tr>\n",
       "    <tr>\n",
       "      <th>3</th>\n",
       "      <td>NaN</td>\n",
       "      <td>NaN</td>\n",
       "      <td>NaN</td>\n",
       "      <td>NaN</td>\n",
       "      <td>NaN</td>\n",
       "      <td>NaN</td>\n",
       "      <td>NaN</td>\n",
       "      <td>NaN</td>\n",
       "      <td>NaN</td>\n",
       "      <td>NaN</td>\n",
       "      <td>NaT</td>\n",
       "      <td>NaN</td>\n",
       "      <td>NaN</td>\n",
       "      <td>NaN</td>\n",
       "      <td>NaN</td>\n",
       "      <td>NaN</td>\n",
       "      <td>NaN</td>\n",
       "      <td>NaN</td>\n",
       "      <td>NaN</td>\n",
       "    </tr>\n",
       "    <tr>\n",
       "      <th>4</th>\n",
       "      <td>NaN</td>\n",
       "      <td>NaN</td>\n",
       "      <td>NaN</td>\n",
       "      <td>NaN</td>\n",
       "      <td>NaN</td>\n",
       "      <td>NaN</td>\n",
       "      <td>NaN</td>\n",
       "      <td>NaN</td>\n",
       "      <td>NaN</td>\n",
       "      <td>NaN</td>\n",
       "      <td>NaT</td>\n",
       "      <td>NaN</td>\n",
       "      <td>NaN</td>\n",
       "      <td>NaN</td>\n",
       "      <td>NaN</td>\n",
       "      <td>NaN</td>\n",
       "      <td>NaN</td>\n",
       "      <td>NaN</td>\n",
       "      <td>NaN</td>\n",
       "    </tr>\n",
       "    <tr>\n",
       "      <th>...</th>\n",
       "      <td>...</td>\n",
       "      <td>...</td>\n",
       "      <td>...</td>\n",
       "      <td>...</td>\n",
       "      <td>...</td>\n",
       "      <td>...</td>\n",
       "      <td>...</td>\n",
       "      <td>...</td>\n",
       "      <td>...</td>\n",
       "      <td>...</td>\n",
       "      <td>...</td>\n",
       "      <td>...</td>\n",
       "      <td>...</td>\n",
       "      <td>...</td>\n",
       "      <td>...</td>\n",
       "      <td>...</td>\n",
       "      <td>...</td>\n",
       "      <td>...</td>\n",
       "      <td>...</td>\n",
       "    </tr>\n",
       "    <tr>\n",
       "      <th>140009</th>\n",
       "      <td>NaN</td>\n",
       "      <td>NaN</td>\n",
       "      <td>NaN</td>\n",
       "      <td>NaN</td>\n",
       "      <td>NaN</td>\n",
       "      <td>NaN</td>\n",
       "      <td>NaN</td>\n",
       "      <td>NaN</td>\n",
       "      <td>NaN</td>\n",
       "      <td>NaN</td>\n",
       "      <td>NaT</td>\n",
       "      <td>NaN</td>\n",
       "      <td>NaN</td>\n",
       "      <td>NaN</td>\n",
       "      <td>NaN</td>\n",
       "      <td>NaN</td>\n",
       "      <td>NaN</td>\n",
       "      <td>NaN</td>\n",
       "      <td>NaN</td>\n",
       "    </tr>\n",
       "    <tr>\n",
       "      <th>140010</th>\n",
       "      <td>NaN</td>\n",
       "      <td>NaN</td>\n",
       "      <td>NaN</td>\n",
       "      <td>NaN</td>\n",
       "      <td>NaN</td>\n",
       "      <td>NaN</td>\n",
       "      <td>NaN</td>\n",
       "      <td>NaN</td>\n",
       "      <td>NaN</td>\n",
       "      <td>NaN</td>\n",
       "      <td>NaT</td>\n",
       "      <td>NaN</td>\n",
       "      <td>NaN</td>\n",
       "      <td>NaN</td>\n",
       "      <td>NaN</td>\n",
       "      <td>NaN</td>\n",
       "      <td>NaN</td>\n",
       "      <td>NaN</td>\n",
       "      <td>NaN</td>\n",
       "    </tr>\n",
       "    <tr>\n",
       "      <th>140011</th>\n",
       "      <td>NaN</td>\n",
       "      <td>NaN</td>\n",
       "      <td>NaN</td>\n",
       "      <td>NaN</td>\n",
       "      <td>NaN</td>\n",
       "      <td>NaN</td>\n",
       "      <td>NaN</td>\n",
       "      <td>NaN</td>\n",
       "      <td>NaN</td>\n",
       "      <td>NaN</td>\n",
       "      <td>NaT</td>\n",
       "      <td>NaN</td>\n",
       "      <td>NaN</td>\n",
       "      <td>NaN</td>\n",
       "      <td>NaN</td>\n",
       "      <td>NaN</td>\n",
       "      <td>NaN</td>\n",
       "      <td>NaN</td>\n",
       "      <td>NaN</td>\n",
       "    </tr>\n",
       "    <tr>\n",
       "      <th>140012</th>\n",
       "      <td>NaN</td>\n",
       "      <td>NaN</td>\n",
       "      <td>NaN</td>\n",
       "      <td>NaN</td>\n",
       "      <td>NaN</td>\n",
       "      <td>NaN</td>\n",
       "      <td>NaN</td>\n",
       "      <td>NaN</td>\n",
       "      <td>NaN</td>\n",
       "      <td>NaN</td>\n",
       "      <td>NaT</td>\n",
       "      <td>NaN</td>\n",
       "      <td>NaN</td>\n",
       "      <td>NaN</td>\n",
       "      <td>NaN</td>\n",
       "      <td>NaN</td>\n",
       "      <td>NaN</td>\n",
       "      <td>NaN</td>\n",
       "      <td>NaN</td>\n",
       "    </tr>\n",
       "    <tr>\n",
       "      <th>140013</th>\n",
       "      <td>NaN</td>\n",
       "      <td>NaN</td>\n",
       "      <td>NaN</td>\n",
       "      <td>NaN</td>\n",
       "      <td>NaN</td>\n",
       "      <td>NaN</td>\n",
       "      <td>NaN</td>\n",
       "      <td>NaN</td>\n",
       "      <td>NaN</td>\n",
       "      <td>NaN</td>\n",
       "      <td>NaT</td>\n",
       "      <td>NaN</td>\n",
       "      <td>NaN</td>\n",
       "      <td>NaN</td>\n",
       "      <td>NaN</td>\n",
       "      <td>NaN</td>\n",
       "      <td>NaN</td>\n",
       "      <td>NaN</td>\n",
       "      <td>NaN</td>\n",
       "    </tr>\n",
       "  </tbody>\n",
       "</table>\n",
       "<p>140014 rows × 19 columns</p>\n",
       "</div>"
      ],
      "text/plain": [
       "        overall  vote  verified reviewerID asin reviewText summary  day  \\\n",
       "0           NaN   NaN       NaN        NaN  NaN        NaN     NaN  NaN   \n",
       "1           NaN   NaN       NaN        NaN  NaN        NaN     NaN  NaN   \n",
       "2           NaN   NaN       NaN        NaN  NaN        NaN     NaN  NaN   \n",
       "3           NaN   NaN       NaN        NaN  NaN        NaN     NaN  NaN   \n",
       "4           NaN   NaN       NaN        NaN  NaN        NaN     NaN  NaN   \n",
       "...         ...   ...       ...        ...  ...        ...     ...  ...   \n",
       "140009      NaN   NaN       NaN        NaN  NaN        NaN     NaN  NaN   \n",
       "140010      NaN   NaN       NaN        NaN  NaN        NaN     NaN  NaN   \n",
       "140011      NaN   NaN       NaN        NaN  NaN        NaN     NaN  NaN   \n",
       "140012      NaN   NaN       NaN        NaN  NaN        NaN     NaN  NaN   \n",
       "140013      NaN   NaN       NaN        NaN  NaN        NaN     NaN  NaN   \n",
       "\n",
       "        month  year reviewdate  trending_asin title price  ranking  \\\n",
       "0         NaN   NaN        NaT            NaN   NaN   NaN      NaN   \n",
       "1         NaN   NaN        NaT            NaN   NaN   NaN      NaN   \n",
       "2         NaN   NaN        NaT            NaN   NaN   NaN      NaN   \n",
       "3         NaN   NaN        NaT            NaN   NaN   NaN      NaN   \n",
       "4         NaN   NaN        NaT            NaN   NaN   NaN      NaN   \n",
       "...       ...   ...        ...            ...   ...   ...      ...   \n",
       "140009    NaN   NaN        NaT            NaN   NaN   NaN      NaN   \n",
       "140010    NaN   NaN        NaT            NaN   NaN   NaN      NaN   \n",
       "140011    NaN   NaN        NaT            NaN   NaN   NaN      NaN   \n",
       "140012    NaN   NaN        NaT            NaN   NaN   NaN      NaN   \n",
       "140013    NaN   NaN        NaT            NaN   NaN   NaN      NaN   \n",
       "\n",
       "       product_description  also_buy_counts  also_view_counts category  \n",
       "0                      NaN              NaN               NaN      NaN  \n",
       "1                      NaN              NaN               NaN      NaN  \n",
       "2                      NaN              NaN               NaN      NaN  \n",
       "3                      NaN              NaN               NaN      NaN  \n",
       "4                      NaN              NaN               NaN      NaN  \n",
       "...                    ...              ...               ...      ...  \n",
       "140009                 NaN              NaN               NaN      NaN  \n",
       "140010                 NaN              NaN               NaN      NaN  \n",
       "140011                 NaN              NaN               NaN      NaN  \n",
       "140012                 NaN              NaN               NaN      NaN  \n",
       "140013                 NaN              NaN               NaN      NaN  \n",
       "\n",
       "[140014 rows x 19 columns]"
      ]
     },
     "execution_count": 106,
     "metadata": {},
     "output_type": "execute_result"
    }
   ],
   "source": [
    "df_combined[df_combined.isna()]"
   ]
  },
  {
   "cell_type": "code",
   "execution_count": 107,
   "id": "acf08fc7",
   "metadata": {},
   "outputs": [],
   "source": [
    "df_combined =df_combined.dropna()"
   ]
  },
  {
   "cell_type": "code",
   "execution_count": 108,
   "id": "d565d12e",
   "metadata": {},
   "outputs": [
    {
     "data": {
      "text/plain": [
       "0"
      ]
     },
     "execution_count": 108,
     "metadata": {},
     "output_type": "execute_result"
    }
   ],
   "source": [
    "df_combined.isna().sum().sum()"
   ]
  },
  {
   "cell_type": "code",
   "execution_count": 109,
   "id": "cbf09af0",
   "metadata": {},
   "outputs": [
    {
     "data": {
      "text/plain": [
       "(125359, 19)"
      ]
     },
     "execution_count": 109,
     "metadata": {},
     "output_type": "execute_result"
    }
   ],
   "source": [
    "df_combined.shape"
   ]
  },
  {
   "cell_type": "code",
   "execution_count": 110,
   "id": "4668834c",
   "metadata": {},
   "outputs": [
    {
     "data": {
      "text/html": [
       "<div>\n",
       "<style scoped>\n",
       "    .dataframe tbody tr th:only-of-type {\n",
       "        vertical-align: middle;\n",
       "    }\n",
       "\n",
       "    .dataframe tbody tr th {\n",
       "        vertical-align: top;\n",
       "    }\n",
       "\n",
       "    .dataframe thead th {\n",
       "        text-align: right;\n",
       "    }\n",
       "</style>\n",
       "<table border=\"1\" class=\"dataframe\">\n",
       "  <thead>\n",
       "    <tr style=\"text-align: right;\">\n",
       "      <th>trending_asin</th>\n",
       "      <th>0</th>\n",
       "      <th>1</th>\n",
       "    </tr>\n",
       "    <tr>\n",
       "      <th>category</th>\n",
       "      <th></th>\n",
       "      <th></th>\n",
       "    </tr>\n",
       "  </thead>\n",
       "  <tbody>\n",
       "    <tr>\n",
       "      <th>accessories</th>\n",
       "      <td>4.054004</td>\n",
       "      <td>3.890909</td>\n",
       "    </tr>\n",
       "    <tr>\n",
       "      <th>bath and shower</th>\n",
       "      <td>4.524505</td>\n",
       "      <td>NaN</td>\n",
       "    </tr>\n",
       "    <tr>\n",
       "      <th>fragance</th>\n",
       "      <td>4.366303</td>\n",
       "      <td>4.284360</td>\n",
       "    </tr>\n",
       "    <tr>\n",
       "      <th>haircare</th>\n",
       "      <td>4.110930</td>\n",
       "      <td>4.182390</td>\n",
       "    </tr>\n",
       "    <tr>\n",
       "      <th>makeup</th>\n",
       "      <td>4.248683</td>\n",
       "      <td>4.301518</td>\n",
       "    </tr>\n",
       "    <tr>\n",
       "      <th>menscare</th>\n",
       "      <td>4.427225</td>\n",
       "      <td>NaN</td>\n",
       "    </tr>\n",
       "    <tr>\n",
       "      <th>nails and hands</th>\n",
       "      <td>4.280827</td>\n",
       "      <td>4.166205</td>\n",
       "    </tr>\n",
       "    <tr>\n",
       "      <th>other</th>\n",
       "      <td>4.454237</td>\n",
       "      <td>NaN</td>\n",
       "    </tr>\n",
       "    <tr>\n",
       "      <th>skincare</th>\n",
       "      <td>4.264507</td>\n",
       "      <td>4.266975</td>\n",
       "    </tr>\n",
       "    <tr>\n",
       "      <th>suncare</th>\n",
       "      <td>4.256443</td>\n",
       "      <td>4.111111</td>\n",
       "    </tr>\n",
       "  </tbody>\n",
       "</table>\n",
       "</div>"
      ],
      "text/plain": [
       "trending_asin           0         1\n",
       "category                           \n",
       "accessories      4.054004  3.890909\n",
       "bath and shower  4.524505       NaN\n",
       "fragance         4.366303  4.284360\n",
       "haircare         4.110930  4.182390\n",
       "makeup           4.248683  4.301518\n",
       "menscare         4.427225       NaN\n",
       "nails and hands  4.280827  4.166205\n",
       "other            4.454237       NaN\n",
       "skincare         4.264507  4.266975\n",
       "suncare          4.256443  4.111111"
      ]
     },
     "execution_count": 110,
     "metadata": {},
     "output_type": "execute_result"
    }
   ],
   "source": [
    "#verified counts \n",
    "df_combined.groupby([\"category\",\"trending_asin\"])[\"overall\"].agg(\"mean\").unstack()"
   ]
  },
  {
   "cell_type": "code",
   "execution_count": 184,
   "id": "2e55fede",
   "metadata": {},
   "outputs": [],
   "source": [
    "#saving to csv \n",
    "import os  \n",
    "os.makedirs('/Users/mac/Desktop/Data/CAPSTONE', exist_ok=True)  \n",
    "df_combined.to_csv('clean/clean_data.csv') "
   ]
  },
  {
   "cell_type": "code",
   "execution_count": 111,
   "id": "9b5bfa1c",
   "metadata": {},
   "outputs": [
    {
     "ename": "KeyError",
     "evalue": "'price_USD'",
     "output_type": "error",
     "traceback": [
      "\u001b[0;31m---------------------------------------------------------------------------\u001b[0m",
      "\u001b[0;31mKeyError\u001b[0m                                  Traceback (most recent call last)",
      "File \u001b[0;32m~/opt/anaconda3/envs/capstone/lib/python3.11/site-packages/pandas/core/indexes/base.py:3802\u001b[0m, in \u001b[0;36mIndex.get_loc\u001b[0;34m(self, key, method, tolerance)\u001b[0m\n\u001b[1;32m   3801\u001b[0m \u001b[38;5;28;01mtry\u001b[39;00m:\n\u001b[0;32m-> 3802\u001b[0m     \u001b[38;5;28;01mreturn\u001b[39;00m \u001b[38;5;28mself\u001b[39m\u001b[38;5;241m.\u001b[39m_engine\u001b[38;5;241m.\u001b[39mget_loc(casted_key)\n\u001b[1;32m   3803\u001b[0m \u001b[38;5;28;01mexcept\u001b[39;00m \u001b[38;5;167;01mKeyError\u001b[39;00m \u001b[38;5;28;01mas\u001b[39;00m err:\n",
      "File \u001b[0;32m~/opt/anaconda3/envs/capstone/lib/python3.11/site-packages/pandas/_libs/index.pyx:138\u001b[0m, in \u001b[0;36mpandas._libs.index.IndexEngine.get_loc\u001b[0;34m()\u001b[0m\n",
      "File \u001b[0;32m~/opt/anaconda3/envs/capstone/lib/python3.11/site-packages/pandas/_libs/index.pyx:165\u001b[0m, in \u001b[0;36mpandas._libs.index.IndexEngine.get_loc\u001b[0;34m()\u001b[0m\n",
      "File \u001b[0;32mpandas/_libs/hashtable_class_helper.pxi:5745\u001b[0m, in \u001b[0;36mpandas._libs.hashtable.PyObjectHashTable.get_item\u001b[0;34m()\u001b[0m\n",
      "File \u001b[0;32mpandas/_libs/hashtable_class_helper.pxi:5753\u001b[0m, in \u001b[0;36mpandas._libs.hashtable.PyObjectHashTable.get_item\u001b[0;34m()\u001b[0m\n",
      "\u001b[0;31mKeyError\u001b[0m: 'price_USD'",
      "\nThe above exception was the direct cause of the following exception:\n",
      "\u001b[0;31mKeyError\u001b[0m                                  Traceback (most recent call last)",
      "Cell \u001b[0;32mIn[111], line 1\u001b[0m\n\u001b[0;32m----> 1\u001b[0m df_combined_null \u001b[38;5;241m=\u001b[39m df_combined[df_combined[\u001b[38;5;124m\"\u001b[39m\u001b[38;5;124mprice_USD\u001b[39m\u001b[38;5;124m\"\u001b[39m]\u001b[38;5;241m.\u001b[39misna()]\n",
      "File \u001b[0;32m~/opt/anaconda3/envs/capstone/lib/python3.11/site-packages/pandas/core/frame.py:3807\u001b[0m, in \u001b[0;36mDataFrame.__getitem__\u001b[0;34m(self, key)\u001b[0m\n\u001b[1;32m   3805\u001b[0m \u001b[38;5;28;01mif\u001b[39;00m \u001b[38;5;28mself\u001b[39m\u001b[38;5;241m.\u001b[39mcolumns\u001b[38;5;241m.\u001b[39mnlevels \u001b[38;5;241m>\u001b[39m \u001b[38;5;241m1\u001b[39m:\n\u001b[1;32m   3806\u001b[0m     \u001b[38;5;28;01mreturn\u001b[39;00m \u001b[38;5;28mself\u001b[39m\u001b[38;5;241m.\u001b[39m_getitem_multilevel(key)\n\u001b[0;32m-> 3807\u001b[0m indexer \u001b[38;5;241m=\u001b[39m \u001b[38;5;28mself\u001b[39m\u001b[38;5;241m.\u001b[39mcolumns\u001b[38;5;241m.\u001b[39mget_loc(key)\n\u001b[1;32m   3808\u001b[0m \u001b[38;5;28;01mif\u001b[39;00m is_integer(indexer):\n\u001b[1;32m   3809\u001b[0m     indexer \u001b[38;5;241m=\u001b[39m [indexer]\n",
      "File \u001b[0;32m~/opt/anaconda3/envs/capstone/lib/python3.11/site-packages/pandas/core/indexes/base.py:3804\u001b[0m, in \u001b[0;36mIndex.get_loc\u001b[0;34m(self, key, method, tolerance)\u001b[0m\n\u001b[1;32m   3802\u001b[0m     \u001b[38;5;28;01mreturn\u001b[39;00m \u001b[38;5;28mself\u001b[39m\u001b[38;5;241m.\u001b[39m_engine\u001b[38;5;241m.\u001b[39mget_loc(casted_key)\n\u001b[1;32m   3803\u001b[0m \u001b[38;5;28;01mexcept\u001b[39;00m \u001b[38;5;167;01mKeyError\u001b[39;00m \u001b[38;5;28;01mas\u001b[39;00m err:\n\u001b[0;32m-> 3804\u001b[0m     \u001b[38;5;28;01mraise\u001b[39;00m \u001b[38;5;167;01mKeyError\u001b[39;00m(key) \u001b[38;5;28;01mfrom\u001b[39;00m \u001b[38;5;21;01merr\u001b[39;00m\n\u001b[1;32m   3805\u001b[0m \u001b[38;5;28;01mexcept\u001b[39;00m \u001b[38;5;167;01mTypeError\u001b[39;00m:\n\u001b[1;32m   3806\u001b[0m     \u001b[38;5;66;03m# If we have a listlike key, _check_indexing_error will raise\u001b[39;00m\n\u001b[1;32m   3807\u001b[0m     \u001b[38;5;66;03m#  InvalidIndexError. Otherwise we fall through and re-raise\u001b[39;00m\n\u001b[1;32m   3808\u001b[0m     \u001b[38;5;66;03m#  the TypeError.\u001b[39;00m\n\u001b[1;32m   3809\u001b[0m     \u001b[38;5;28mself\u001b[39m\u001b[38;5;241m.\u001b[39m_check_indexing_error(key)\n",
      "\u001b[0;31mKeyError\u001b[0m: 'price_USD'"
     ]
    }
   ],
   "source": [
    "df_combined_null = df_combined[df_combined[\"price_USD\"].isna()]"
   ]
  },
  {
   "cell_type": "code",
   "execution_count": null,
   "id": "49ce32c0",
   "metadata": {},
   "outputs": [],
   "source": [
    "df_combined_null[\"asin\"].nunique()"
   ]
  },
  {
   "cell_type": "code",
   "execution_count": 225,
   "id": "656ddabe",
   "metadata": {},
   "outputs": [
    {
     "data": {
      "text/html": [
       "<div>\n",
       "<style scoped>\n",
       "    .dataframe tbody tr th:only-of-type {\n",
       "        vertical-align: middle;\n",
       "    }\n",
       "\n",
       "    .dataframe tbody tr th {\n",
       "        vertical-align: top;\n",
       "    }\n",
       "\n",
       "    .dataframe thead th {\n",
       "        text-align: right;\n",
       "    }\n",
       "</style>\n",
       "<table border=\"1\" class=\"dataframe\">\n",
       "  <thead>\n",
       "    <tr style=\"text-align: right;\">\n",
       "      <th>category</th>\n",
       "      <th>accessories</th>\n",
       "      <th>bath and shower</th>\n",
       "      <th>fragance</th>\n",
       "      <th>haircare</th>\n",
       "      <th>makeup</th>\n",
       "      <th>menscare</th>\n",
       "      <th>nails and hands</th>\n",
       "      <th>other</th>\n",
       "      <th>skincare</th>\n",
       "      <th>suncare</th>\n",
       "    </tr>\n",
       "    <tr>\n",
       "      <th>trending_asin</th>\n",
       "      <th></th>\n",
       "      <th></th>\n",
       "      <th></th>\n",
       "      <th></th>\n",
       "      <th></th>\n",
       "      <th></th>\n",
       "      <th></th>\n",
       "      <th></th>\n",
       "      <th></th>\n",
       "      <th></th>\n",
       "    </tr>\n",
       "  </thead>\n",
       "  <tbody>\n",
       "    <tr>\n",
       "      <th>0</th>\n",
       "      <td>4670.0</td>\n",
       "      <td>959.0</td>\n",
       "      <td>1466.0</td>\n",
       "      <td>36179.0</td>\n",
       "      <td>10419.0</td>\n",
       "      <td>5368.0</td>\n",
       "      <td>12592.0</td>\n",
       "      <td>366.0</td>\n",
       "      <td>49457.0</td>\n",
       "      <td>2602.0</td>\n",
       "    </tr>\n",
       "    <tr>\n",
       "      <th>1</th>\n",
       "      <td>165.0</td>\n",
       "      <td>NaN</td>\n",
       "      <td>211.0</td>\n",
       "      <td>2606.0</td>\n",
       "      <td>1736.0</td>\n",
       "      <td>NaN</td>\n",
       "      <td>1433.0</td>\n",
       "      <td>125.0</td>\n",
       "      <td>9197.0</td>\n",
       "      <td>54.0</td>\n",
       "    </tr>\n",
       "  </tbody>\n",
       "</table>\n",
       "</div>"
      ],
      "text/plain": [
       "category       accessories  bath and shower  fragance  haircare   makeup  \\\n",
       "trending_asin                                                              \n",
       "0                   4670.0            959.0    1466.0   36179.0  10419.0   \n",
       "1                    165.0              NaN     211.0    2606.0   1736.0   \n",
       "\n",
       "category       menscare  nails and hands  other  skincare  suncare  \n",
       "trending_asin                                                       \n",
       "0                5368.0          12592.0  366.0   49457.0   2602.0  \n",
       "1                   NaN           1433.0  125.0    9197.0     54.0  "
      ]
     },
     "execution_count": 225,
     "metadata": {},
     "output_type": "execute_result"
    }
   ],
   "source": [
    "#verified counts by category\n",
    "category_trending = df_combined.groupby([\"trending_asin\"])[\"category\"].value_counts().unstack()\n",
    "category_trending"
   ]
  },
  {
   "cell_type": "code",
   "execution_count": 227,
   "id": "72a8b38f",
   "metadata": {},
   "outputs": [
    {
     "data": {
      "text/plain": [
       "0    0.888779\n",
       "1    0.111221\n",
       "Name: trending_asin, dtype: float64"
      ]
     },
     "execution_count": 227,
     "metadata": {},
     "output_type": "execute_result"
    }
   ],
   "source": [
    "#Trending ASINs in the dataset \n",
    "df_combined[\"trending_asin\"].value_counts(normalize=True) "
   ]
  },
  {
   "cell_type": "code",
   "execution_count": 248,
   "id": "d5ca9850",
   "metadata": {},
   "outputs": [
    {
     "data": {
      "text/plain": [
       "<Figure size 864x576 with 0 Axes>"
      ]
     },
     "metadata": {},
     "output_type": "display_data"
    },
    {
     "data": {
      "image/png": "[encoded data removed]",
      "text/plain": [
       "<Figure size 576x432 with 1 Axes>"
      ]
     },
     "metadata": {},
     "output_type": "display_data"
    }
   ],
   "source": [
    "#Creating the bar chart\n",
    "plt.figure(figsize=(12,8))\n",
    "column = \"category\"\n",
    "trending_pct_df = df_combined.groupby([column,\"trending_asin\"])[column].count() / df_combined.groupby(column)[column].count()\n",
    "trending_pct_df.unstack().plot(kind=\"barh\", stacked=True, color=[ \"navy\",\"seagreen\"])\n",
    "plt.axvline(.88, c=\"black\", label=\"global mean of trending product\", linestyle=\"--\")\n",
    "plt.legend()\n",
    "sns.despine()\n",
    "plt.title(f\"Trending product by {column}\")\n",
    "\n",
    "plt.savefig(\"category.jpg\",bbox_inches = 'tight') "
   ]
  },
  {
   "cell_type": "code",
   "execution_count": 237,
   "id": "9c47eef6",
   "metadata": {},
   "outputs": [
    {
     "name": "stderr",
     "output_type": "stream",
     "text": [
      "/var/folders/k5/r4y7z25n2rz_yw3s46bn0m580000gn/T/ipykernel_821/125523894.py:2: FutureWarning: The default value of numeric_only in DataFrame.corr is deprecated. In a future version, it will default to False. Select only valid columns or specify the value of numeric_only to silence this warning.\n",
      "  sns.heatmap(df_combined.corr(), annot=True, center=0, vmin=-1, vmax=1)\n"
     ]
    },
    {
     "data": {
      "image/png": "[encoded data removed]",
      "text/plain": [
       "<Figure size 432x432 with 2 Axes>"
      ]
     },
     "metadata": {},
     "output_type": "display_data"
    }
   ],
   "source": [
    "plt.figure(figsize=(6,6))\n",
    "sns.heatmap(df_combined.corr(), annot=True, center=0, vmin=-1, vmax=1)\n",
    "plt.title(\"Figure 5: Correlations between columns of postive cases of WNV\", size=10)\n",
    "plt.show()"
   ]
  },
  {
   "cell_type": "code",
   "execution_count": 185,
   "id": "98f1d13a",
   "metadata": {},
   "outputs": [],
   "source": [
    "asin_counts = clean_review_df.groupby('asin')['asin'].count().sort_values(ascending=False)\n",
    "asin_counts_df = pd.DataFrame(asin_counts)"
   ]
  },
  {
   "cell_type": "code",
   "execution_count": 186,
   "id": "a700c870",
   "metadata": {},
   "outputs": [
    {
     "name": "stdout",
     "output_type": "stream",
     "text": [
      "Interquartile Range is 32.0\n",
      "Lower quartile captures 3.0\n",
      "Upper quartile captures 35.0\n"
     ]
    }
   ],
   "source": [
    "q1, q3 = asin_counts.quantile(0.25), asin_counts.quantile(0.75)\n",
    "iqr = q3-q1\n",
    "print(f\"Interquartile Range is {iqr}\")\n",
    "print(f\"Lower quartile captures {q1}\")\n",
    "print(f\"Upper quartile captures {q3}\")"
   ]
  },
  {
   "cell_type": "code",
   "execution_count": 187,
   "id": "69ebb234",
   "metadata": {},
   "outputs": [
    {
     "ename": "NameError",
     "evalue": "name 'review_new_df' is not defined",
     "output_type": "error",
     "traceback": [
      "\u001b[0;31m---------------------------------------------------------------------------\u001b[0m",
      "\u001b[0;31mNameError\u001b[0m                                 Traceback (most recent call last)",
      "Cell \u001b[0;32mIn[187], line 1\u001b[0m\n\u001b[0;32m----> 1\u001b[0m review_new_df\u001b[38;5;241m.\u001b[39mshape\n",
      "\u001b[0;31mNameError\u001b[0m: name 'review_new_df' is not defined"
     ]
    }
   ],
   "source": [
    "review_new_df.shape"
   ]
  },
  {
   "cell_type": "markdown",
   "id": "2ea58d08",
   "metadata": {},
   "source": [
    "2327 products remain with counts of over 50 but we still maintain over X% of our original dataset."
   ]
  },
  {
   "cell_type": "code",
   "execution_count": null,
   "id": "e978acc0",
   "metadata": {},
   "outputs": [],
   "source": [
    "plot = clean_review_df.groupby(\"overall\").count().reset_index()\n",
    "plot = plot.rename(columns= {\"overall\":\"Review Rating\",\"verified\":\"Counts of Reviews\"})\n",
    "\n",
    "#plot structure\n",
    "fig = px.bar(plot, \n",
    "             x = \"Review Rating\",\n",
    "             y = \"Counts of Reviews\",\n",
    "             title = \"Amazon users are generous when they review, 65% of the dataset gave out a 5 star review\",\n",
    "             color = \"Review Rating\",\n",
    "             color_continuous_scale=\"darkmint\"\n",
    "             \n",
    "             )\n",
    "\n",
    "fig.update_layout(coloraxis_showscale=False)\n",
    "\n",
    "#plot \n",
    "fig.show()"
   ]
  }
 ],
 "metadata": {
  "kernelspec": {
   "display_name": "capstone",
   "language": "python",
   "name": "capstone"
  },
  "language_info": {
   "codemirror_mode": {
    "name": "ipython",
    "version": 3
   },
   "file_extension": ".py",
   "mimetype": "text/x-python",
   "name": "python",
   "nbconvert_exporter": "python",
   "pygments_lexer": "ipython3",
   "version": "3.11.0"
  }
 },
 "nbformat": 4,
 "nbformat_minor": 5
}
