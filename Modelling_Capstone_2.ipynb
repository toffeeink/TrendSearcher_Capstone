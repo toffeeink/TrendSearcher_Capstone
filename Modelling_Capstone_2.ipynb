{
 "cells": [
  {
   "cell_type": "markdown",
   "id": "60db2989",
   "metadata": {
    "id": "60db2989"
   },
   "source": [
    "\n",
    " =====\n",
    "### Author: Stephanie Lo \n",
    "#### Date: 3.17.2023"
   ]
  },
  {
   "cell_type": "markdown",
   "id": "fe321703",
   "metadata": {
    "id": "fe321703"
   },
   "source": [
    "# Table of Contents \n",
    "\n"
   ]
  },
  {
   "cell_type": "code",
   "execution_count": null,
   "id": "U7n4EIfiVcf7",
   "metadata": {
    "id": "U7n4EIfiVcf7"
   },
   "outputs": [],
   "source": [
    "%pip install XGBoost"
   ]
  },
  {
   "cell_type": "code",
   "execution_count": 52,
   "id": "47bba446",
   "metadata": {
    "id": "47bba446"
   },
   "outputs": [],
   "source": [
    "#importing base packages\n",
    "\n",
    "import numpy as np\n",
    "import pandas as pd\n",
    "import matplotlib.pyplot as plt\n",
    "%matplotlib inline\n",
    "import seaborn as sns\n",
    "from scipy import stats\n",
    "import os \n",
    "import time \n",
    "import boto3"
   ]
  },
  {
   "cell_type": "code",
   "execution_count": 53,
   "id": "56c1613b",
   "metadata": {},
   "outputs": [
    {
     "data": {
      "text/plain": [
       "<botocore.client.S3 at 0x123df9950>"
      ]
     },
     "execution_count": 53,
     "metadata": {},
     "output_type": "execute_result"
    }
   ],
   "source": [
    "# Instantiate an S3 client\n",
    "s3_client = boto3.client('s3')\n",
    "\n",
    "# Check\n",
    "s3_client"
   ]
  },
  {
   "cell_type": "code",
   "execution_count": null,
   "id": "219defdc",
   "metadata": {},
   "outputs": [],
   "source": [
    "#instantiating the client\n",
    "s3 = boto3.client('s3')\n",
    "\n",
    "# Setting the bucket and file name \n",
    "bucket_name = 'deliverable-slo-bstn-bucket'\n",
    "file_path = 'clean_data.csv'\n",
    "\n",
    "# Use the S3 client to get the object\n",
    "\n",
    "response = s3.get_object(Bucket=bucket_name, Key=file_path)\n",
    "# Read the object data into a Pandas DataFrame\n",
    "df_combined = pd.read_csv(response['Body'])"
   ]
  },
  {
   "cell_type": "code",
   "execution_count": 3,
   "id": "1b3fe4ab",
   "metadata": {
    "id": "1b3fe4ab"
   },
   "outputs": [],
   "source": [
    "#Setting figure size & background \n",
    "plt.rcParams['figure.figsize'] = (8.0, 6.0)\n",
    "sns.set_theme(style=\"darkgrid\")"
   ]
  },
  {
   "cell_type": "code",
   "execution_count": null,
   "id": "d2369ee4",
   "metadata": {},
   "outputs": [],
   "source": []
  },
  {
   "cell_type": "markdown",
   "id": "0a8b6e1f",
   "metadata": {
    "id": "0a8b6e1f"
   },
   "source": [
    "## 1.Introduction <a id=\"Intro\"></a>"
   ]
  },
  {
   "cell_type": "code",
   "execution_count": null,
   "id": "5DAR158xct2F",
   "metadata": {
    "id": "5DAR158xct2F"
   },
   "outputs": [],
   "source": [
    "df_combined = df_combined.drop(columns =\"Unnamed: 0\")\n",
    "df_combined\n"
   ]
  },
  {
   "cell_type": "code",
   "execution_count": 6,
   "id": "8e56d9af",
   "metadata": {
    "id": "8e56d9af"
   },
   "outputs": [],
   "source": [
    "#directing to the right file path\n",
    "#os.chdir(\"/Users/mac/Desktop/Data/CAPSTONE/clean/\")\n",
    "#cwd = os.getcwd() "
   ]
  },
  {
   "cell_type": "code",
   "execution_count": 7,
   "id": "3429c40c",
   "metadata": {
    "colab": {
     "base_uri": "https://localhost:8080/",
     "height": 310
    },
    "id": "3429c40c",
    "outputId": "fb3d1d35-9b00-428a-b596-f39fec6dc0b6"
   },
   "outputs": [
    {
     "data": {
      "text/html": [
       "<div>\n",
       "<style scoped>\n",
       "    .dataframe tbody tr th:only-of-type {\n",
       "        vertical-align: middle;\n",
       "    }\n",
       "\n",
       "    .dataframe tbody tr th {\n",
       "        vertical-align: top;\n",
       "    }\n",
       "\n",
       "    .dataframe thead th {\n",
       "        text-align: right;\n",
       "    }\n",
       "</style>\n",
       "<table border=\"1\" class=\"dataframe\">\n",
       "  <thead>\n",
       "    <tr style=\"text-align: right;\">\n",
       "      <th></th>\n",
       "      <th>Unnamed: 0</th>\n",
       "      <th>overall</th>\n",
       "      <th>vote</th>\n",
       "      <th>verified</th>\n",
       "      <th>reviewText</th>\n",
       "      <th>trending_asin</th>\n",
       "      <th>price_USD</th>\n",
       "      <th>ranking</th>\n",
       "      <th>product_description</th>\n",
       "      <th>also_buy_counts</th>\n",
       "      <th>...</th>\n",
       "      <th>m_Pureology</th>\n",
       "      <th>m_RUSK</th>\n",
       "      <th>m_Red Flower</th>\n",
       "      <th>m_Rene Furterer</th>\n",
       "      <th>m_Stila</th>\n",
       "      <th>m_StriVectin</th>\n",
       "      <th>m_TS</th>\n",
       "      <th>m_The Art of Shaving</th>\n",
       "      <th>m_Vichy</th>\n",
       "      <th>m_theBalm</th>\n",
       "    </tr>\n",
       "  </thead>\n",
       "  <tbody>\n",
       "    <tr>\n",
       "      <th>0</th>\n",
       "      <td>0</td>\n",
       "      <td>5.0</td>\n",
       "      <td>0.0</td>\n",
       "      <td>1</td>\n",
       "      <td>Bought for my daughter.</td>\n",
       "      <td>0</td>\n",
       "      <td>30.0</td>\n",
       "      <td>4324.0</td>\n",
       "      <td>After a long day of handling thorny situations...</td>\n",
       "      <td>56.0</td>\n",
       "      <td>...</td>\n",
       "      <td>0.0</td>\n",
       "      <td>0.0</td>\n",
       "      <td>0.0</td>\n",
       "      <td>0.0</td>\n",
       "      <td>0.0</td>\n",
       "      <td>0.0</td>\n",
       "      <td>0.0</td>\n",
       "      <td>0.0</td>\n",
       "      <td>0.0</td>\n",
       "      <td>0.0</td>\n",
       "    </tr>\n",
       "    <tr>\n",
       "      <th>1</th>\n",
       "      <td>1</td>\n",
       "      <td>5.0</td>\n",
       "      <td>0.0</td>\n",
       "      <td>1</td>\n",
       "      <td>Great cream for the skin.</td>\n",
       "      <td>0</td>\n",
       "      <td>30.0</td>\n",
       "      <td>4324.0</td>\n",
       "      <td>After a long day of handling thorny situations...</td>\n",
       "      <td>56.0</td>\n",
       "      <td>...</td>\n",
       "      <td>0.0</td>\n",
       "      <td>0.0</td>\n",
       "      <td>0.0</td>\n",
       "      <td>0.0</td>\n",
       "      <td>0.0</td>\n",
       "      <td>0.0</td>\n",
       "      <td>0.0</td>\n",
       "      <td>0.0</td>\n",
       "      <td>0.0</td>\n",
       "      <td>0.0</td>\n",
       "    </tr>\n",
       "  </tbody>\n",
       "</table>\n",
       "<p>2 rows × 63 columns</p>\n",
       "</div>"
      ],
      "text/plain": [
       "   Unnamed: 0  overall  vote  verified                 reviewText  \\\n",
       "0           0      5.0   0.0         1    Bought for my daughter.   \n",
       "1           1      5.0   0.0         1  Great cream for the skin.   \n",
       "\n",
       "   trending_asin  price_USD  ranking  \\\n",
       "0              0       30.0   4324.0   \n",
       "1              0       30.0   4324.0   \n",
       "\n",
       "                                 product_description  also_buy_counts  ...  \\\n",
       "0  After a long day of handling thorny situations...             56.0  ...   \n",
       "1  After a long day of handling thorny situations...             56.0  ...   \n",
       "\n",
       "   m_Pureology  m_RUSK  m_Red Flower  m_Rene Furterer  m_Stila  m_StriVectin  \\\n",
       "0          0.0     0.0           0.0              0.0      0.0           0.0   \n",
       "1          0.0     0.0           0.0              0.0      0.0           0.0   \n",
       "\n",
       "   m_TS  m_The Art of Shaving  m_Vichy  m_theBalm  \n",
       "0   0.0                   0.0      0.0        0.0  \n",
       "1   0.0                   0.0      0.0        0.0  \n",
       "\n",
       "[2 rows x 63 columns]"
      ]
     },
     "execution_count": 7,
     "metadata": {},
     "output_type": "execute_result"
    }
   ],
   "source": [
    "#reading in the datasets\n",
    "#df_combined = pd.read_csv(\"clean_data.csv\")\n",
    "\n",
    "#df_combined.head(2)"
   ]
  },
  {
   "cell_type": "code",
   "execution_count": 107,
   "id": "113a7099",
   "metadata": {},
   "outputs": [],
   "source": [
    "isNumeric = df_combined.select_dtypes('number')\n",
    "short_isNumeric = isNumeric.iloc[:,:8]"
   ]
  },
  {
   "cell_type": "code",
   "execution_count": 109,
   "id": "79836e90",
   "metadata": {},
   "outputs": [
    {
     "data": {
      "image/png": "[encoded data removed]",
      "text/plain": [
       "<Figure size 1080x1080 with 2 Axes>"
      ]
     },
     "metadata": {
      "needs_background": "light"
     },
     "output_type": "display_data"
    }
   ],
   "source": [
    "plt.figure(figsize=(15,15))\n",
    "sns.heatmap(short_isNumeric.corr(), annot=True, center=0, vmin=-1, vmax=1)\n",
    "plt.show()"
   ]
  },
  {
   "cell_type": "code",
   "execution_count": null,
   "id": "U__kxY0N_28A",
   "metadata": {
    "colab": {
     "base_uri": "https://localhost:8080/"
    },
    "id": "U__kxY0N_28A",
    "outputId": "e1d39ba9-6e82-4f66-c0fe-77be902ce857"
   },
   "outputs": [
    {
     "name": "stdout",
     "output_type": "stream",
     "text": [
      "cp: cannot stat '/content/drive/MyDrive/colab/Capstone/Clean/clean_data2.csv': No such file or directory\n"
     ]
    }
   ],
   "source": [
    "!cp  \"/content/drive/MyDrive/colab/Capstone/Clean/clean_data2.csv\" \"clean_data.csv\" "
   ]
  },
  {
   "cell_type": "markdown",
   "id": "JEw8ltq7__KF",
   "metadata": {
    "id": "JEw8ltq7__KF"
   },
   "source": []
  },
  {
   "cell_type": "markdown",
   "id": "d7b89950",
   "metadata": {
    "id": "d7b89950"
   },
   "source": [
    "#### Null and Duplicate Check"
   ]
  },
  {
   "cell_type": "code",
   "execution_count": 8,
   "id": "9e7315ae",
   "metadata": {
    "colab": {
     "base_uri": "https://localhost:8080/"
    },
    "id": "9e7315ae",
    "outputId": "4dfcf2b5-efed-458b-868a-6d10b4829679"
   },
   "outputs": [
    {
     "name": "stdout",
     "output_type": "stream",
     "text": [
      "The final data shape has 139348 columns and 63 rows\n"
     ]
    }
   ],
   "source": [
    "print(f\"The final data shape has {df_combined.shape[0]} columns and {df_combined.shape[1]} rows\") "
   ]
  },
  {
   "cell_type": "code",
   "execution_count": 9,
   "id": "b39e5a60",
   "metadata": {
    "id": "b39e5a60"
   },
   "outputs": [],
   "source": [
    "\n",
    "\n",
    "df_combined= df_combined.drop(columns = \"Unnamed: 0\")"
   ]
  },
  {
   "cell_type": "code",
   "execution_count": 10,
   "id": "506ae4ca",
   "metadata": {
    "colab": {
     "base_uri": "https://localhost:8080/"
    },
    "id": "506ae4ca",
    "outputId": "338ce807-38d3-466a-bf63-119381753f3b"
   },
   "outputs": [
    {
     "name": "stdout",
     "output_type": "stream",
     "text": [
      "<class 'pandas.core.frame.DataFrame'>\n",
      "RangeIndex: 139348 entries, 0 to 139347\n",
      "Data columns (total 62 columns):\n",
      " #   Column                Non-Null Count   Dtype  \n",
      "---  ------                --------------   -----  \n",
      " 0   overall               139348 non-null  float64\n",
      " 1   vote                  139348 non-null  float64\n",
      " 2   verified              139348 non-null  int64  \n",
      " 3   reviewText            139348 non-null  object \n",
      " 4   trending_asin         139348 non-null  int64  \n",
      " 5   price_USD             139348 non-null  float64\n",
      " 6   ranking               139348 non-null  float64\n",
      " 7   product_description   139348 non-null  object \n",
      " 8   also_buy_counts       139348 non-null  float64\n",
      " 9   also_view_counts      139348 non-null  float64\n",
      " 10  c_accessories         139348 non-null  float64\n",
      " 11  c_bath and shower     139348 non-null  float64\n",
      " 12  c_fragance            139348 non-null  float64\n",
      " 13  c_haircare            139348 non-null  float64\n",
      " 14  c_makeup              139348 non-null  float64\n",
      " 15  c_menscare            139348 non-null  float64\n",
      " 16  c_nails and hands     139348 non-null  float64\n",
      " 17  c_other               139348 non-null  float64\n",
      " 18  c_skincare            139348 non-null  float64\n",
      " 19  c_suncare             139348 non-null  float64\n",
      " 20  m_AHAVA               139348 non-null  float64\n",
      " 21  m_Archipelago         139348 non-null  float64\n",
      " 22  m_BaBylissPro         139348 non-null  float64\n",
      " 23  m_Bioelements         139348 non-null  float64\n",
      " 24  m_Bliss               139348 non-null  float64\n",
      " 25  m_Burberry            139348 non-null  float64\n",
      " 26  m_Butter London       139348 non-null  float64\n",
      " 27  m_CHI                 139348 non-null  float64\n",
      " 28  m_CND                 139348 non-null  float64\n",
      " 29  m_Calvin Klein        139348 non-null  float64\n",
      " 30  m_Crabtree & Evelyn   139348 non-null  float64\n",
      " 31  m_Davines             139348 non-null  float64\n",
      " 32  m_Elemis              139348 non-null  float64\n",
      " 33  m_Elizabeth Arden     139348 non-null  float64\n",
      " 34  m_Glo Skin            139348 non-null  float64\n",
      " 35  m_Jane Iredale        139348 non-null  float64\n",
      " 36  m_Japonesque          139348 non-null  float64\n",
      " 37  m_Julep               139348 non-null  float64\n",
      " 38  m_L'occitane          139348 non-null  float64\n",
      " 39  m_LAFCO               139348 non-null  float64\n",
      " 40  m_LORAC               139348 non-null  float64\n",
      " 41  m_La Roche Posay      139348 non-null  float64\n",
      " 42  m_Laura Geller        139348 non-null  float64\n",
      " 43  m_Mario Badescu       139348 non-null  float64\n",
      " 44  m_Mustela             139348 non-null  float64\n",
      " 45  m_NUXE                139348 non-null  float64\n",
      " 46  m_Natura Bisse        139348 non-null  float64\n",
      " 47  m_OPI                 139348 non-null  float64\n",
      " 48  m_Oribe               139348 non-null  float64\n",
      " 49  m_Other               139348 non-null  float64\n",
      " 50  m_PCA Skin            139348 non-null  float64\n",
      " 51  m_Paul Mitchell       139348 non-null  float64\n",
      " 52  m_Pureology           139348 non-null  float64\n",
      " 53  m_RUSK                139348 non-null  float64\n",
      " 54  m_Red Flower          139348 non-null  float64\n",
      " 55  m_Rene Furterer       139348 non-null  float64\n",
      " 56  m_Stila               139348 non-null  float64\n",
      " 57  m_StriVectin          139348 non-null  float64\n",
      " 58  m_TS                  139348 non-null  float64\n",
      " 59  m_The Art of Shaving  139348 non-null  float64\n",
      " 60  m_Vichy               139348 non-null  float64\n",
      " 61  m_theBalm             139348 non-null  float64\n",
      "dtypes: float64(58), int64(2), object(2)\n",
      "memory usage: 65.9+ MB\n"
     ]
    }
   ],
   "source": [
    "#only taking numerical values \n",
    "df_combined.info()"
   ]
  },
  {
   "cell_type": "markdown",
   "id": "0c75fbd0",
   "metadata": {
    "id": "0c75fbd0"
   },
   "source": [
    "Let's just quickly check for any null values and duplicates quickly: "
   ]
  },
  {
   "cell_type": "code",
   "execution_count": 11,
   "id": "522169ae",
   "metadata": {
    "colab": {
     "base_uri": "https://localhost:8080/"
    },
    "id": "522169ae",
    "outputId": "5cf869a4-cfd9-428a-ee10-946f0b26bf37"
   },
   "outputs": [
    {
     "name": "stdout",
     "output_type": "stream",
     "text": [
      "null values = overall                 0\n",
      "vote                    0\n",
      "verified                0\n",
      "reviewText              0\n",
      "trending_asin           0\n",
      "                       ..\n",
      "m_StriVectin            0\n",
      "m_TS                    0\n",
      "m_The Art of Shaving    0\n",
      "m_Vichy                 0\n",
      "m_theBalm               0\n",
      "Length: 62, dtype: int64\n"
     ]
    }
   ],
   "source": [
    "#null values check \n",
    "print(f\"null values = {df_combined.isna().sum()}\")"
   ]
  },
  {
   "cell_type": "code",
   "execution_count": 12,
   "id": "21016bd1",
   "metadata": {
    "colab": {
     "base_uri": "https://localhost:8080/",
     "height": 956
    },
    "id": "21016bd1",
    "outputId": "901b0e59-9bf9-4e94-b843-a9c6fd32cf65"
   },
   "outputs": [
    {
     "data": {
      "text/html": [
       "<div>\n",
       "<style scoped>\n",
       "    .dataframe tbody tr th:only-of-type {\n",
       "        vertical-align: middle;\n",
       "    }\n",
       "\n",
       "    .dataframe tbody tr th {\n",
       "        vertical-align: top;\n",
       "    }\n",
       "\n",
       "    .dataframe thead th {\n",
       "        text-align: right;\n",
       "    }\n",
       "</style>\n",
       "<table border=\"1\" class=\"dataframe\">\n",
       "  <thead>\n",
       "    <tr style=\"text-align: right;\">\n",
       "      <th></th>\n",
       "      <th>overall</th>\n",
       "      <th>vote</th>\n",
       "      <th>verified</th>\n",
       "      <th>reviewText</th>\n",
       "      <th>trending_asin</th>\n",
       "      <th>price_USD</th>\n",
       "      <th>ranking</th>\n",
       "      <th>product_description</th>\n",
       "      <th>also_buy_counts</th>\n",
       "      <th>also_view_counts</th>\n",
       "      <th>...</th>\n",
       "      <th>m_Pureology</th>\n",
       "      <th>m_RUSK</th>\n",
       "      <th>m_Red Flower</th>\n",
       "      <th>m_Rene Furterer</th>\n",
       "      <th>m_Stila</th>\n",
       "      <th>m_StriVectin</th>\n",
       "      <th>m_TS</th>\n",
       "      <th>m_The Art of Shaving</th>\n",
       "      <th>m_Vichy</th>\n",
       "      <th>m_theBalm</th>\n",
       "    </tr>\n",
       "  </thead>\n",
       "  <tbody>\n",
       "    <tr>\n",
       "      <th>0</th>\n",
       "      <td>5.0</td>\n",
       "      <td>0.0</td>\n",
       "      <td>1</td>\n",
       "      <td>Bought for my daughter.</td>\n",
       "      <td>0</td>\n",
       "      <td>30.00</td>\n",
       "      <td>4324.0</td>\n",
       "      <td>After a long day of handling thorny situations...</td>\n",
       "      <td>56.0</td>\n",
       "      <td>48.0</td>\n",
       "      <td>...</td>\n",
       "      <td>0.0</td>\n",
       "      <td>0.0</td>\n",
       "      <td>0.0</td>\n",
       "      <td>0.0</td>\n",
       "      <td>0.0</td>\n",
       "      <td>0.0</td>\n",
       "      <td>0.0</td>\n",
       "      <td>0.0</td>\n",
       "      <td>0.0</td>\n",
       "      <td>0.0</td>\n",
       "    </tr>\n",
       "    <tr>\n",
       "      <th>1</th>\n",
       "      <td>5.0</td>\n",
       "      <td>0.0</td>\n",
       "      <td>1</td>\n",
       "      <td>Great cream for the skin.</td>\n",
       "      <td>0</td>\n",
       "      <td>30.00</td>\n",
       "      <td>4324.0</td>\n",
       "      <td>After a long day of handling thorny situations...</td>\n",
       "      <td>56.0</td>\n",
       "      <td>48.0</td>\n",
       "      <td>...</td>\n",
       "      <td>0.0</td>\n",
       "      <td>0.0</td>\n",
       "      <td>0.0</td>\n",
       "      <td>0.0</td>\n",
       "      <td>0.0</td>\n",
       "      <td>0.0</td>\n",
       "      <td>0.0</td>\n",
       "      <td>0.0</td>\n",
       "      <td>0.0</td>\n",
       "      <td>0.0</td>\n",
       "    </tr>\n",
       "    <tr>\n",
       "      <th>2</th>\n",
       "      <td>1.0</td>\n",
       "      <td>0.0</td>\n",
       "      <td>0</td>\n",
       "      <td>Maybe Im just not familiar with this brand, bu...</td>\n",
       "      <td>0</td>\n",
       "      <td>30.00</td>\n",
       "      <td>4324.0</td>\n",
       "      <td>After a long day of handling thorny situations...</td>\n",
       "      <td>56.0</td>\n",
       "      <td>48.0</td>\n",
       "      <td>...</td>\n",
       "      <td>0.0</td>\n",
       "      <td>0.0</td>\n",
       "      <td>0.0</td>\n",
       "      <td>0.0</td>\n",
       "      <td>0.0</td>\n",
       "      <td>0.0</td>\n",
       "      <td>0.0</td>\n",
       "      <td>0.0</td>\n",
       "      <td>0.0</td>\n",
       "      <td>0.0</td>\n",
       "    </tr>\n",
       "    <tr>\n",
       "      <th>3</th>\n",
       "      <td>5.0</td>\n",
       "      <td>0.0</td>\n",
       "      <td>1</td>\n",
       "      <td>This is one of my favorite creams. Highly reco...</td>\n",
       "      <td>0</td>\n",
       "      <td>30.00</td>\n",
       "      <td>4324.0</td>\n",
       "      <td>After a long day of handling thorny situations...</td>\n",
       "      <td>56.0</td>\n",
       "      <td>48.0</td>\n",
       "      <td>...</td>\n",
       "      <td>0.0</td>\n",
       "      <td>0.0</td>\n",
       "      <td>0.0</td>\n",
       "      <td>0.0</td>\n",
       "      <td>0.0</td>\n",
       "      <td>0.0</td>\n",
       "      <td>0.0</td>\n",
       "      <td>0.0</td>\n",
       "      <td>0.0</td>\n",
       "      <td>0.0</td>\n",
       "    </tr>\n",
       "    <tr>\n",
       "      <th>4</th>\n",
       "      <td>5.0</td>\n",
       "      <td>0.0</td>\n",
       "      <td>1</td>\n",
       "      <td>I simply love this lotion!  Originally, I rece...</td>\n",
       "      <td>0</td>\n",
       "      <td>30.00</td>\n",
       "      <td>4324.0</td>\n",
       "      <td>After a long day of handling thorny situations...</td>\n",
       "      <td>56.0</td>\n",
       "      <td>48.0</td>\n",
       "      <td>...</td>\n",
       "      <td>0.0</td>\n",
       "      <td>0.0</td>\n",
       "      <td>0.0</td>\n",
       "      <td>0.0</td>\n",
       "      <td>0.0</td>\n",
       "      <td>0.0</td>\n",
       "      <td>0.0</td>\n",
       "      <td>0.0</td>\n",
       "      <td>0.0</td>\n",
       "      <td>0.0</td>\n",
       "    </tr>\n",
       "    <tr>\n",
       "      <th>...</th>\n",
       "      <td>...</td>\n",
       "      <td>...</td>\n",
       "      <td>...</td>\n",
       "      <td>...</td>\n",
       "      <td>...</td>\n",
       "      <td>...</td>\n",
       "      <td>...</td>\n",
       "      <td>...</td>\n",
       "      <td>...</td>\n",
       "      <td>...</td>\n",
       "      <td>...</td>\n",
       "      <td>...</td>\n",
       "      <td>...</td>\n",
       "      <td>...</td>\n",
       "      <td>...</td>\n",
       "      <td>...</td>\n",
       "      <td>...</td>\n",
       "      <td>...</td>\n",
       "      <td>...</td>\n",
       "      <td>...</td>\n",
       "      <td>...</td>\n",
       "    </tr>\n",
       "    <tr>\n",
       "      <th>139343</th>\n",
       "      <td>2.0</td>\n",
       "      <td>0.0</td>\n",
       "      <td>1</td>\n",
       "      <td>Meh!  Flat iron works better</td>\n",
       "      <td>0</td>\n",
       "      <td>21.29</td>\n",
       "      <td>171884.0</td>\n",
       "      <td>Thermally activated smoothing treatment combin...</td>\n",
       "      <td>0.0</td>\n",
       "      <td>0.0</td>\n",
       "      <td>...</td>\n",
       "      <td>0.0</td>\n",
       "      <td>0.0</td>\n",
       "      <td>0.0</td>\n",
       "      <td>0.0</td>\n",
       "      <td>0.0</td>\n",
       "      <td>0.0</td>\n",
       "      <td>1.0</td>\n",
       "      <td>0.0</td>\n",
       "      <td>0.0</td>\n",
       "      <td>0.0</td>\n",
       "    </tr>\n",
       "    <tr>\n",
       "      <th>139344</th>\n",
       "      <td>1.0</td>\n",
       "      <td>0.0</td>\n",
       "      <td>1</td>\n",
       "      <td>It doesn't grip the hair - I'm very disappointed.</td>\n",
       "      <td>0</td>\n",
       "      <td>21.29</td>\n",
       "      <td>171884.0</td>\n",
       "      <td>Thermally activated smoothing treatment combin...</td>\n",
       "      <td>0.0</td>\n",
       "      <td>0.0</td>\n",
       "      <td>...</td>\n",
       "      <td>0.0</td>\n",
       "      <td>0.0</td>\n",
       "      <td>0.0</td>\n",
       "      <td>0.0</td>\n",
       "      <td>0.0</td>\n",
       "      <td>0.0</td>\n",
       "      <td>1.0</td>\n",
       "      <td>0.0</td>\n",
       "      <td>0.0</td>\n",
       "      <td>0.0</td>\n",
       "    </tr>\n",
       "    <tr>\n",
       "      <th>139345</th>\n",
       "      <td>4.0</td>\n",
       "      <td>0.0</td>\n",
       "      <td>1</td>\n",
       "      <td>Really works! I have curly hair and you can ge...</td>\n",
       "      <td>0</td>\n",
       "      <td>21.29</td>\n",
       "      <td>171884.0</td>\n",
       "      <td>Thermally activated smoothing treatment combin...</td>\n",
       "      <td>0.0</td>\n",
       "      <td>0.0</td>\n",
       "      <td>...</td>\n",
       "      <td>0.0</td>\n",
       "      <td>0.0</td>\n",
       "      <td>0.0</td>\n",
       "      <td>0.0</td>\n",
       "      <td>0.0</td>\n",
       "      <td>0.0</td>\n",
       "      <td>1.0</td>\n",
       "      <td>0.0</td>\n",
       "      <td>0.0</td>\n",
       "      <td>0.0</td>\n",
       "    </tr>\n",
       "    <tr>\n",
       "      <th>139346</th>\n",
       "      <td>1.0</td>\n",
       "      <td>0.0</td>\n",
       "      <td>1</td>\n",
       "      <td>DIDNT STRAIGHTEN HAIR</td>\n",
       "      <td>0</td>\n",
       "      <td>21.29</td>\n",
       "      <td>171884.0</td>\n",
       "      <td>Thermally activated smoothing treatment combin...</td>\n",
       "      <td>0.0</td>\n",
       "      <td>0.0</td>\n",
       "      <td>...</td>\n",
       "      <td>0.0</td>\n",
       "      <td>0.0</td>\n",
       "      <td>0.0</td>\n",
       "      <td>0.0</td>\n",
       "      <td>0.0</td>\n",
       "      <td>0.0</td>\n",
       "      <td>1.0</td>\n",
       "      <td>0.0</td>\n",
       "      <td>0.0</td>\n",
       "      <td>0.0</td>\n",
       "    </tr>\n",
       "    <tr>\n",
       "      <th>139347</th>\n",
       "      <td>5.0</td>\n",
       "      <td>3.0</td>\n",
       "      <td>1</td>\n",
       "      <td>love this product for wavy hair</td>\n",
       "      <td>0</td>\n",
       "      <td>27.00</td>\n",
       "      <td>15099.0</td>\n",
       "      <td>A lightweight styling primer. TWISTER adds moi...</td>\n",
       "      <td>32.0</td>\n",
       "      <td>35.0</td>\n",
       "      <td>...</td>\n",
       "      <td>0.0</td>\n",
       "      <td>0.0</td>\n",
       "      <td>0.0</td>\n",
       "      <td>0.0</td>\n",
       "      <td>0.0</td>\n",
       "      <td>0.0</td>\n",
       "      <td>0.0</td>\n",
       "      <td>0.0</td>\n",
       "      <td>0.0</td>\n",
       "      <td>0.0</td>\n",
       "    </tr>\n",
       "  </tbody>\n",
       "</table>\n",
       "<p>139348 rows × 62 columns</p>\n",
       "</div>"
      ],
      "text/plain": [
       "        overall  vote  verified  \\\n",
       "0           5.0   0.0         1   \n",
       "1           5.0   0.0         1   \n",
       "2           1.0   0.0         0   \n",
       "3           5.0   0.0         1   \n",
       "4           5.0   0.0         1   \n",
       "...         ...   ...       ...   \n",
       "139343      2.0   0.0         1   \n",
       "139344      1.0   0.0         1   \n",
       "139345      4.0   0.0         1   \n",
       "139346      1.0   0.0         1   \n",
       "139347      5.0   3.0         1   \n",
       "\n",
       "                                               reviewText  trending_asin  \\\n",
       "0                                 Bought for my daughter.              0   \n",
       "1                               Great cream for the skin.              0   \n",
       "2       Maybe Im just not familiar with this brand, bu...              0   \n",
       "3       This is one of my favorite creams. Highly reco...              0   \n",
       "4       I simply love this lotion!  Originally, I rece...              0   \n",
       "...                                                   ...            ...   \n",
       "139343                       Meh!  Flat iron works better              0   \n",
       "139344  It doesn't grip the hair - I'm very disappointed.              0   \n",
       "139345  Really works! I have curly hair and you can ge...              0   \n",
       "139346                              DIDNT STRAIGHTEN HAIR              0   \n",
       "139347                    love this product for wavy hair              0   \n",
       "\n",
       "        price_USD   ranking  \\\n",
       "0           30.00    4324.0   \n",
       "1           30.00    4324.0   \n",
       "2           30.00    4324.0   \n",
       "3           30.00    4324.0   \n",
       "4           30.00    4324.0   \n",
       "...           ...       ...   \n",
       "139343      21.29  171884.0   \n",
       "139344      21.29  171884.0   \n",
       "139345      21.29  171884.0   \n",
       "139346      21.29  171884.0   \n",
       "139347      27.00   15099.0   \n",
       "\n",
       "                                      product_description  also_buy_counts  \\\n",
       "0       After a long day of handling thorny situations...             56.0   \n",
       "1       After a long day of handling thorny situations...             56.0   \n",
       "2       After a long day of handling thorny situations...             56.0   \n",
       "3       After a long day of handling thorny situations...             56.0   \n",
       "4       After a long day of handling thorny situations...             56.0   \n",
       "...                                                   ...              ...   \n",
       "139343  Thermally activated smoothing treatment combin...              0.0   \n",
       "139344  Thermally activated smoothing treatment combin...              0.0   \n",
       "139345  Thermally activated smoothing treatment combin...              0.0   \n",
       "139346  Thermally activated smoothing treatment combin...              0.0   \n",
       "139347  A lightweight styling primer. TWISTER adds moi...             32.0   \n",
       "\n",
       "        also_view_counts  ...  m_Pureology  m_RUSK  m_Red Flower  \\\n",
       "0                   48.0  ...          0.0     0.0           0.0   \n",
       "1                   48.0  ...          0.0     0.0           0.0   \n",
       "2                   48.0  ...          0.0     0.0           0.0   \n",
       "3                   48.0  ...          0.0     0.0           0.0   \n",
       "4                   48.0  ...          0.0     0.0           0.0   \n",
       "...                  ...  ...          ...     ...           ...   \n",
       "139343               0.0  ...          0.0     0.0           0.0   \n",
       "139344               0.0  ...          0.0     0.0           0.0   \n",
       "139345               0.0  ...          0.0     0.0           0.0   \n",
       "139346               0.0  ...          0.0     0.0           0.0   \n",
       "139347              35.0  ...          0.0     0.0           0.0   \n",
       "\n",
       "        m_Rene Furterer  m_Stila  m_StriVectin  m_TS  m_The Art of Shaving  \\\n",
       "0                   0.0      0.0           0.0   0.0                   0.0   \n",
       "1                   0.0      0.0           0.0   0.0                   0.0   \n",
       "2                   0.0      0.0           0.0   0.0                   0.0   \n",
       "3                   0.0      0.0           0.0   0.0                   0.0   \n",
       "4                   0.0      0.0           0.0   0.0                   0.0   \n",
       "...                 ...      ...           ...   ...                   ...   \n",
       "139343              0.0      0.0           0.0   1.0                   0.0   \n",
       "139344              0.0      0.0           0.0   1.0                   0.0   \n",
       "139345              0.0      0.0           0.0   1.0                   0.0   \n",
       "139346              0.0      0.0           0.0   1.0                   0.0   \n",
       "139347              0.0      0.0           0.0   0.0                   0.0   \n",
       "\n",
       "        m_Vichy  m_theBalm  \n",
       "0           0.0        0.0  \n",
       "1           0.0        0.0  \n",
       "2           0.0        0.0  \n",
       "3           0.0        0.0  \n",
       "4           0.0        0.0  \n",
       "...         ...        ...  \n",
       "139343      0.0        0.0  \n",
       "139344      0.0        0.0  \n",
       "139345      0.0        0.0  \n",
       "139346      0.0        0.0  \n",
       "139347      0.0        0.0  \n",
       "\n",
       "[139348 rows x 62 columns]"
      ]
     },
     "execution_count": 12,
     "metadata": {},
     "output_type": "execute_result"
    }
   ],
   "source": [
    "df_combined = df_combined.dropna()\n",
    "df_combined"
   ]
  },
  {
   "cell_type": "code",
   "execution_count": 13,
   "id": "f4c197bd",
   "metadata": {
    "colab": {
     "base_uri": "https://localhost:8080/"
    },
    "id": "f4c197bd",
    "outputId": "05e093b0-b68f-4d71-8606-4ad70b65c02b"
   },
   "outputs": [
    {
     "name": "stdout",
     "output_type": "stream",
     "text": [
      "<class 'pandas.core.frame.DataFrame'>\n",
      "RangeIndex: 139348 entries, 0 to 139347\n",
      "Data columns (total 62 columns):\n",
      " #   Column                Non-Null Count   Dtype  \n",
      "---  ------                --------------   -----  \n",
      " 0   overall               139348 non-null  float64\n",
      " 1   vote                  139348 non-null  float64\n",
      " 2   verified              139348 non-null  int64  \n",
      " 3   reviewText            139348 non-null  object \n",
      " 4   trending_asin         139348 non-null  int64  \n",
      " 5   price_USD             139348 non-null  float64\n",
      " 6   ranking               139348 non-null  float64\n",
      " 7   product_description   139348 non-null  object \n",
      " 8   also_buy_counts       139348 non-null  float64\n",
      " 9   also_view_counts      139348 non-null  float64\n",
      " 10  c_accessories         139348 non-null  float64\n",
      " 11  c_bath and shower     139348 non-null  float64\n",
      " 12  c_fragance            139348 non-null  float64\n",
      " 13  c_haircare            139348 non-null  float64\n",
      " 14  c_makeup              139348 non-null  float64\n",
      " 15  c_menscare            139348 non-null  float64\n",
      " 16  c_nails and hands     139348 non-null  float64\n",
      " 17  c_other               139348 non-null  float64\n",
      " 18  c_skincare            139348 non-null  float64\n",
      " 19  c_suncare             139348 non-null  float64\n",
      " 20  m_AHAVA               139348 non-null  float64\n",
      " 21  m_Archipelago         139348 non-null  float64\n",
      " 22  m_BaBylissPro         139348 non-null  float64\n",
      " 23  m_Bioelements         139348 non-null  float64\n",
      " 24  m_Bliss               139348 non-null  float64\n",
      " 25  m_Burberry            139348 non-null  float64\n",
      " 26  m_Butter London       139348 non-null  float64\n",
      " 27  m_CHI                 139348 non-null  float64\n",
      " 28  m_CND                 139348 non-null  float64\n",
      " 29  m_Calvin Klein        139348 non-null  float64\n",
      " 30  m_Crabtree & Evelyn   139348 non-null  float64\n",
      " 31  m_Davines             139348 non-null  float64\n",
      " 32  m_Elemis              139348 non-null  float64\n",
      " 33  m_Elizabeth Arden     139348 non-null  float64\n",
      " 34  m_Glo Skin            139348 non-null  float64\n",
      " 35  m_Jane Iredale        139348 non-null  float64\n",
      " 36  m_Japonesque          139348 non-null  float64\n",
      " 37  m_Julep               139348 non-null  float64\n",
      " 38  m_L'occitane          139348 non-null  float64\n",
      " 39  m_LAFCO               139348 non-null  float64\n",
      " 40  m_LORAC               139348 non-null  float64\n",
      " 41  m_La Roche Posay      139348 non-null  float64\n",
      " 42  m_Laura Geller        139348 non-null  float64\n",
      " 43  m_Mario Badescu       139348 non-null  float64\n",
      " 44  m_Mustela             139348 non-null  float64\n",
      " 45  m_NUXE                139348 non-null  float64\n",
      " 46  m_Natura Bisse        139348 non-null  float64\n",
      " 47  m_OPI                 139348 non-null  float64\n",
      " 48  m_Oribe               139348 non-null  float64\n",
      " 49  m_Other               139348 non-null  float64\n",
      " 50  m_PCA Skin            139348 non-null  float64\n",
      " 51  m_Paul Mitchell       139348 non-null  float64\n",
      " 52  m_Pureology           139348 non-null  float64\n",
      " 53  m_RUSK                139348 non-null  float64\n",
      " 54  m_Red Flower          139348 non-null  float64\n",
      " 55  m_Rene Furterer       139348 non-null  float64\n",
      " 56  m_Stila               139348 non-null  float64\n",
      " 57  m_StriVectin          139348 non-null  float64\n",
      " 58  m_TS                  139348 non-null  float64\n",
      " 59  m_The Art of Shaving  139348 non-null  float64\n",
      " 60  m_Vichy               139348 non-null  float64\n",
      " 61  m_theBalm             139348 non-null  float64\n",
      "dtypes: float64(58), int64(2), object(2)\n",
      "memory usage: 65.9+ MB\n"
     ]
    }
   ],
   "source": [
    "df_combined.info()"
   ]
  },
  {
   "cell_type": "markdown",
   "id": "afc6ea24",
   "metadata": {
    "id": "afc6ea24"
   },
   "source": [
    "Looks like the dataset is completely clean so let's move onto the modeling."
   ]
  },
  {
   "cell_type": "markdown",
   "id": "bcce6b6e",
   "metadata": {
    "id": "bcce6b6e"
   },
   "source": [
    "## 2. Modeling <a id=\"Modeling\"></a>"
   ]
  },
  {
   "cell_type": "code",
   "execution_count": 116,
   "id": "99483aa2",
   "metadata": {
    "id": "99483aa2"
   },
   "outputs": [],
   "source": [
    "#loading the modules \n",
    "\n",
    "# Scalars\n",
    "from sklearn.preprocessing import StandardScaler, MinMaxScaler, RobustScaler \n",
    "\n",
    "# To make our sets\n",
    "from sklearn.model_selection import train_test_split, GridSearchCV, cross_val_score, RandomizedSearchCV\n",
    "from sklearn.decomposition import PCA\n",
    "\n",
    "\n",
    "# The classifiers \n",
    "from sklearn.linear_model import LogisticRegression\n",
    "from sklearn.neighbors import KNeighborsClassifier\n",
    "from sklearn.svm import SVC\n",
    "from sklearn.ensemble import RandomForestClassifier\n",
    "from xgboost import XGBClassifier\n",
    "\n",
    "from sklearn.metrics import accuracy_score, confusion_matrix, classification_report, f1_score"
   ]
  },
  {
   "cell_type": "markdown",
   "id": "7aabc9b6",
   "metadata": {
    "id": "7aabc9b6"
   },
   "source": [
    "Creating 2 models one with and one without the product description column, let's call them df_with_prod and df"
   ]
  },
  {
   "cell_type": "code",
   "execution_count": 25,
   "id": "25765d9d",
   "metadata": {
    "id": "25765d9d"
   },
   "outputs": [],
   "source": [
    "df_with_desc = df_combined.copy()\n",
    "df = df_combined.copy()"
   ]
  },
  {
   "cell_type": "code",
   "execution_count": 26,
   "id": "dadc231e",
   "metadata": {
    "id": "dadc231e"
   },
   "outputs": [],
   "source": [
    "#dropping remaining text columns\n",
    "columns = ['product_description']\n",
    "for column in columns: \n",
    "     df= df_combined.drop([column],axis=1)"
   ]
  },
  {
   "cell_type": "code",
   "execution_count": 28,
   "id": "83d17b1b",
   "metadata": {
    "colab": {
     "base_uri": "https://localhost:8080/",
     "height": 362
    },
    "id": "83d17b1b",
    "outputId": "5a3eb180-ca00-4a59-98c2-32898cc1e99a"
   },
   "outputs": [
    {
     "data": {
      "text/html": [
       "<div>\n",
       "<style scoped>\n",
       "    .dataframe tbody tr th:only-of-type {\n",
       "        vertical-align: middle;\n",
       "    }\n",
       "\n",
       "    .dataframe tbody tr th {\n",
       "        vertical-align: top;\n",
       "    }\n",
       "\n",
       "    .dataframe thead th {\n",
       "        text-align: right;\n",
       "    }\n",
       "</style>\n",
       "<table border=\"1\" class=\"dataframe\">\n",
       "  <thead>\n",
       "    <tr style=\"text-align: right;\">\n",
       "      <th></th>\n",
       "      <th>overall</th>\n",
       "      <th>vote</th>\n",
       "      <th>verified</th>\n",
       "      <th>reviewText</th>\n",
       "      <th>trending_asin</th>\n",
       "      <th>price_USD</th>\n",
       "      <th>ranking</th>\n",
       "      <th>also_buy_counts</th>\n",
       "      <th>also_view_counts</th>\n",
       "      <th>c_accessories</th>\n",
       "      <th>...</th>\n",
       "      <th>m_Pureology</th>\n",
       "      <th>m_RUSK</th>\n",
       "      <th>m_Red Flower</th>\n",
       "      <th>m_Rene Furterer</th>\n",
       "      <th>m_Stila</th>\n",
       "      <th>m_StriVectin</th>\n",
       "      <th>m_TS</th>\n",
       "      <th>m_The Art of Shaving</th>\n",
       "      <th>m_Vichy</th>\n",
       "      <th>m_theBalm</th>\n",
       "    </tr>\n",
       "  </thead>\n",
       "  <tbody>\n",
       "    <tr>\n",
       "      <th>91440</th>\n",
       "      <td>5.0</td>\n",
       "      <td>0.0</td>\n",
       "      <td>1</td>\n",
       "      <td>I have horrible hormonal cystic acne on my fac...</td>\n",
       "      <td>0</td>\n",
       "      <td>31.99</td>\n",
       "      <td>3055.0</td>\n",
       "      <td>72.0</td>\n",
       "      <td>79.0</td>\n",
       "      <td>0.0</td>\n",
       "      <td>...</td>\n",
       "      <td>0.0</td>\n",
       "      <td>0.0</td>\n",
       "      <td>0.0</td>\n",
       "      <td>0.0</td>\n",
       "      <td>0.0</td>\n",
       "      <td>0.0</td>\n",
       "      <td>0.0</td>\n",
       "      <td>0.0</td>\n",
       "      <td>0.0</td>\n",
       "      <td>0.0</td>\n",
       "    </tr>\n",
       "    <tr>\n",
       "      <th>96171</th>\n",
       "      <td>5.0</td>\n",
       "      <td>0.0</td>\n",
       "      <td>1</td>\n",
       "      <td>I love this stuff.  I was using the MDSolarSci...</td>\n",
       "      <td>0</td>\n",
       "      <td>32.00</td>\n",
       "      <td>5880.0</td>\n",
       "      <td>17.0</td>\n",
       "      <td>50.0</td>\n",
       "      <td>0.0</td>\n",
       "      <td>...</td>\n",
       "      <td>0.0</td>\n",
       "      <td>0.0</td>\n",
       "      <td>0.0</td>\n",
       "      <td>0.0</td>\n",
       "      <td>0.0</td>\n",
       "      <td>0.0</td>\n",
       "      <td>0.0</td>\n",
       "      <td>0.0</td>\n",
       "      <td>0.0</td>\n",
       "      <td>0.0</td>\n",
       "    </tr>\n",
       "  </tbody>\n",
       "</table>\n",
       "<p>2 rows × 61 columns</p>\n",
       "</div>"
      ],
      "text/plain": [
       "       overall  vote  verified  \\\n",
       "91440      5.0   0.0         1   \n",
       "96171      5.0   0.0         1   \n",
       "\n",
       "                                              reviewText  trending_asin  \\\n",
       "91440  I have horrible hormonal cystic acne on my fac...              0   \n",
       "96171  I love this stuff.  I was using the MDSolarSci...              0   \n",
       "\n",
       "       price_USD  ranking  also_buy_counts  also_view_counts  c_accessories  \\\n",
       "91440      31.99   3055.0             72.0              79.0            0.0   \n",
       "96171      32.00   5880.0             17.0              50.0            0.0   \n",
       "\n",
       "       ...  m_Pureology  m_RUSK  m_Red Flower  m_Rene Furterer  m_Stila  \\\n",
       "91440  ...          0.0     0.0           0.0              0.0      0.0   \n",
       "96171  ...          0.0     0.0           0.0              0.0      0.0   \n",
       "\n",
       "       m_StriVectin  m_TS  m_The Art of Shaving  m_Vichy  m_theBalm  \n",
       "91440           0.0   0.0                   0.0      0.0        0.0  \n",
       "96171           0.0   0.0                   0.0      0.0        0.0  \n",
       "\n",
       "[2 rows x 61 columns]"
      ]
     },
     "execution_count": 28,
     "metadata": {},
     "output_type": "execute_result"
    }
   ],
   "source": [
    "df.sample(2)"
   ]
  },
  {
   "cell_type": "markdown",
   "id": "45fac276",
   "metadata": {
    "id": "45fac276"
   },
   "source": [
    "Working with just the review df"
   ]
  },
  {
   "cell_type": "code",
   "execution_count": 29,
   "id": "a82abcc7",
   "metadata": {
    "colab": {
     "base_uri": "https://localhost:8080/"
    },
    "id": "a82abcc7",
    "outputId": "8d6142e0-4d03-4e4a-aad0-a986b890c3ae"
   },
   "outputs": [
    {
     "name": "stdout",
     "output_type": "stream",
     "text": [
      "Remainder shape (97543, 61)\n",
      "Test shape (41805, 61)\n"
     ]
    }
   ],
   "source": [
    "#for Train test split\n",
    "from sklearn.model_selection import train_test_split\n",
    "y = df_combined[\"trending_asin\"]\n",
    "remainder1, test1  = train_test_split(df, test_size=0.3, stratify= y, random_state = 8)\n",
    "print(f\"Remainder shape {remainder1.shape}\")\n",
    "print(f\"Test shape {test1.shape}\")"
   ]
  },
  {
   "cell_type": "code",
   "execution_count": 54,
   "id": "95469997",
   "metadata": {},
   "outputs": [
    {
     "name": "stdout",
     "output_type": "stream",
     "text": [
      "Remainder sample shape (19508, 61)\n",
      "Test shape (78035, 61)\n"
     ]
    }
   ],
   "source": [
    "#for Train test split\n",
    "from sklearn.model_selection import train_test_split\n",
    "y_sample = remainder1[\"trending_asin\"]\n",
    "remainder1_sample, none1 = train_test_split(remainder1, test_size=0.8, stratify= y_sample, random_state = 8)\n",
    "print(f\"Remainder sample shape {remainder1_sample.shape}\")\n",
    "print(f\"Test shape {none1.shape}\")"
   ]
  },
  {
   "cell_type": "code",
   "execution_count": 55,
   "id": "83e7ad8a",
   "metadata": {},
   "outputs": [],
   "source": [
    "y_remainder1_sample = remainder1_sample[\"trending_asin\"]\n",
    "X_remainder1_sample = remainder1_sample.drop([\"trending_asin\"],axis=1)"
   ]
  },
  {
   "cell_type": "code",
   "execution_count": null,
   "id": "400c885e",
   "metadata": {},
   "outputs": [],
   "source": []
  },
  {
   "cell_type": "code",
   "execution_count": 30,
   "id": "99c2adbb",
   "metadata": {
    "id": "99c2adbb"
   },
   "outputs": [],
   "source": [
    "#assigning remainder dataset for X and y \n",
    "y_remainder1 = remainder1[\"trending_asin\"]\n",
    "X_remainder1  = remainder1.drop([\"trending_asin\"],axis=1)"
   ]
  },
  {
   "cell_type": "code",
   "execution_count": 31,
   "id": "50f84ae4",
   "metadata": {
    "id": "50f84ae4"
   },
   "outputs": [],
   "source": [
    "#assigning train dataset for X and y \n",
    "y_test1 = test1[\"trending_asin\"]\n",
    "X_test1  = test1.drop([\"trending_asin\"],axis=1)"
   ]
  },
  {
   "cell_type": "code",
   "execution_count": 32,
   "id": "46ebd777",
   "metadata": {
    "colab": {
     "base_uri": "https://localhost:8080/"
    },
    "id": "46ebd777",
    "outputId": "25bc64ac-76ca-4d39-a654-3d014ab15af3"
   },
   "outputs": [
    {
     "name": "stdout",
     "output_type": "stream",
     "text": [
      "Train shape (68280, 60)\n",
      "Validation shape (29263, 60)\n"
     ]
    }
   ],
   "source": [
    "#for train/validation split \n",
    "from sklearn.model_selection import train_test_split\n",
    "\n",
    "X_train1, X_val1, y_train1, y_val1 = train_test_split(X_remainder1, y_remainder1, test_size=0.3, random_state=1, stratify=y_remainder1)\n",
    "print(f\"Train shape {X_train1.shape}\")\n",
    "print(f\"Validation shape {X_val1.shape}\")"
   ]
  },
  {
   "cell_type": "code",
   "execution_count": 33,
   "id": "308a6691",
   "metadata": {
    "colab": {
     "base_uri": "https://localhost:8080/"
    },
    "id": "308a6691",
    "outputId": "9eb11a0b-4c9a-4879-ad15-a1cc011a079a"
   },
   "outputs": [
    {
     "name": "stdout",
     "output_type": "stream",
     "text": [
      "Proportions in original data:\n",
      "0    0.888574\n",
      "1    0.111426\n",
      "Name: trending_asin, dtype: float64 \n",
      "\n",
      "Proportions in remainder set:\n",
      "0    0.888572\n",
      "1    0.111428\n",
      "Name: trending_asin, dtype: float64 \n",
      "\n",
      "Proportions in test set:\n",
      "0    0.888578\n",
      "1    0.111422\n",
      "Name: trending_asin, dtype: float64 \n",
      "\n",
      "Proportions in train set:\n",
      "0    0.888576\n",
      "1    0.111424\n",
      "Name: trending_asin, dtype: float64 \n",
      "\n",
      "Proportions in validation set:\n",
      "0    0.888562\n",
      "1    0.111438\n",
      "Name: trending_asin, dtype: float64 \n",
      "\n"
     ]
    }
   ],
   "source": [
    "print('Proportions in original data:')\n",
    "print(y.value_counts(normalize=True), '\\n')\n",
    "\n",
    "print('Proportions in remainder set:')\n",
    "print(y_remainder1.value_counts(normalize=True), '\\n')\n",
    "\n",
    "print('Proportions in test set:')\n",
    "print(y_test1.value_counts(normalize=True), '\\n')\n",
    "\n",
    "print('Proportions in train set:')\n",
    "print(y_train1.value_counts(normalize=True), '\\n')\n",
    "\n",
    "print('Proportions in validation set:')\n",
    "print(y_val1.value_counts(normalize=True), '\\n')"
   ]
  },
  {
   "cell_type": "markdown",
   "id": "7f716d25",
   "metadata": {
    "id": "7f716d25"
   },
   "source": [
    "### Splitting out model 2"
   ]
  },
  {
   "cell_type": "code",
   "execution_count": 34,
   "id": "6152688e",
   "metadata": {
    "colab": {
     "base_uri": "https://localhost:8080/"
    },
    "id": "6152688e",
    "outputId": "429b4ac8-e0cf-4c89-f720-7d9316b577ea"
   },
   "outputs": [
    {
     "name": "stdout",
     "output_type": "stream",
     "text": [
      "Remainder shape (97543, 62)\n",
      "Test shape (41805, 62)\n"
     ]
    }
   ],
   "source": [
    "#for Train test split\n",
    "from sklearn.model_selection import train_test_split\n",
    "y = df_combined[\"trending_asin\"]\n",
    "remainder2, test2  = train_test_split(df_with_desc, test_size=0.3, stratify= y, random_state = 8)\n",
    "print(f\"Remainder shape {remainder2.shape}\")\n",
    "print(f\"Test shape {test2.shape}\")"
   ]
  },
  {
   "cell_type": "code",
   "execution_count": 35,
   "id": "4c5926af",
   "metadata": {
    "id": "4c5926af"
   },
   "outputs": [],
   "source": [
    "#assigning remainder dataset for X and y \n",
    "y_remainder2 = remainder2[\"trending_asin\"]\n",
    "X_remainder2  = remainder2.drop([\"trending_asin\"],axis=1)"
   ]
  },
  {
   "cell_type": "code",
   "execution_count": 36,
   "id": "06b91b0c",
   "metadata": {
    "id": "06b91b0c"
   },
   "outputs": [],
   "source": [
    "#assigning train dataset for X and y \n",
    "y_test2 = test2[\"trending_asin\"]\n",
    "X_test2  = test2.drop([\"trending_asin\"],axis=1)"
   ]
  },
  {
   "cell_type": "code",
   "execution_count": 37,
   "id": "45a6f8c2",
   "metadata": {
    "colab": {
     "base_uri": "https://localhost:8080/"
    },
    "id": "45a6f8c2",
    "outputId": "13429afc-96ee-4c30-91fc-8261ed88f716"
   },
   "outputs": [
    {
     "name": "stdout",
     "output_type": "stream",
     "text": [
      "Train shape (68280, 61)\n",
      "Validation shape (29263, 61)\n"
     ]
    }
   ],
   "source": [
    "#for train/validation split \n",
    "from sklearn.model_selection import train_test_split\n",
    "\n",
    "X_train2, X_val2, y_train2, y_val2 = train_test_split(X_remainder2, y_remainder2, test_size=0.3, random_state=2, stratify=y_remainder2)\n",
    "print(f\"Train shape {X_train2.shape}\")\n",
    "print(f\"Validation shape {X_val2.shape}\")"
   ]
  },
  {
   "cell_type": "code",
   "execution_count": null,
   "id": "31ad63fa",
   "metadata": {
    "id": "31ad63fa"
   },
   "outputs": [],
   "source": []
  },
  {
   "cell_type": "markdown",
   "id": "5f724e8c",
   "metadata": {
    "id": "5f724e8c"
   },
   "source": [
    "## Review and Description Analysis "
   ]
  },
  {
   "cell_type": "markdown",
   "id": "8c55c27b",
   "metadata": {
    "id": "8c55c27b"
   },
   "source": [
    "How might we determine what is the best method to apply to our columns of review summaries and description? "
   ]
  },
  {
   "cell_type": "markdown",
   "id": "04c8a1c8",
   "metadata": {
    "id": "04c8a1c8"
   },
   "source": [
    "## PCA"
   ]
  },
  {
   "cell_type": "code",
   "execution_count": 38,
   "id": "d0b2bf29",
   "metadata": {
    "colab": {
     "base_uri": "https://localhost:8080/"
    },
    "id": "d0b2bf29",
    "outputId": "18b967da-cee6-4d56-dc4a-8c5d534af97f"
   },
   "outputs": [
    {
     "data": {
      "text/plain": [
       "<97543x65 sparse matrix of type '<class 'numpy.int64'>'\n",
       "\twith 423478 stored elements in Compressed Sparse Row format>"
      ]
     },
     "execution_count": 38,
     "metadata": {},
     "output_type": "execute_result"
    }
   ],
   "source": [
    "from sklearn.feature_extraction.text import CountVectorizer\n",
    "\n",
    "# 1. Instantiate \n",
    "bagofwords = CountVectorizer(stop_words=\"english\",#removing stop words\n",
    "                             min_df=0.03,\n",
    "                             max_features= 2000,       \n",
    "                             )    \n",
    "\n",
    "# 2. Fit \n",
    "bagofwords.fit(X_remainder1['reviewText'])\n",
    "\n",
    "# 3. Transform\n",
    "remainder_transformed = bagofwords.transform(remainder1['reviewText'])\n",
    "remainder_transformed"
   ]
  },
  {
   "cell_type": "code",
   "execution_count": 39,
   "id": "6a7b55d5",
   "metadata": {
    "colab": {
     "base_uri": "https://localhost:8080/"
    },
    "id": "6a7b55d5",
    "outputId": "d366e12b-9ad2-4427-9e84-4f30d73cf2f9"
   },
   "outputs": [
    {
     "data": {
      "text/plain": [
       "(97543, 65)"
      ]
     },
     "execution_count": 39,
     "metadata": {},
     "output_type": "execute_result"
    }
   ],
   "source": [
    "#making into an array\n",
    "remainder_transformed.toarray().sum(axis=0)\n",
    "remainder_transformed.shape"
   ]
  },
  {
   "cell_type": "code",
   "execution_count": 40,
   "id": "a3b528b1",
   "metadata": {
    "id": "a3b528b1"
   },
   "outputs": [],
   "source": [
    "review_word_counts = pd.DataFrame(\n",
    "    {\"words\": bagofwords.get_feature_names_out(),\n",
    "    \"counts\": remainder_transformed.toarray().sum(axis=0)\n",
    "     }\n",
    ").sort_values(\"counts\", ascending=False).reset_index().drop(columns = \"index\")"
   ]
  },
  {
   "cell_type": "code",
   "execution_count": 41,
   "id": "b3bc4874",
   "metadata": {
    "id": "b3bc4874"
   },
   "outputs": [],
   "source": [
    "review_word_counts[\"words\"] = 'r_' + review_word_counts['words'].astype(str)\n"
   ]
  },
  {
   "cell_type": "code",
   "execution_count": 42,
   "id": "a359a264",
   "metadata": {
    "colab": {
     "base_uri": "https://localhost:8080/",
     "height": 488
    },
    "id": "a359a264",
    "outputId": "3016df41-551e-4244-9b00-e6a10ffbf86b"
   },
   "outputs": [
    {
     "data": {
      "text/html": [
       "<div>\n",
       "<style scoped>\n",
       "    .dataframe tbody tr th:only-of-type {\n",
       "        vertical-align: middle;\n",
       "    }\n",
       "\n",
       "    .dataframe tbody tr th {\n",
       "        vertical-align: top;\n",
       "    }\n",
       "\n",
       "    .dataframe thead th {\n",
       "        text-align: right;\n",
       "    }\n",
       "</style>\n",
       "<table border=\"1\" class=\"dataframe\">\n",
       "  <thead>\n",
       "    <tr style=\"text-align: right;\">\n",
       "      <th>words</th>\n",
       "      <th>r_product</th>\n",
       "      <th>r_hair</th>\n",
       "      <th>r_love</th>\n",
       "      <th>r_great</th>\n",
       "      <th>r_skin</th>\n",
       "      <th>r_use</th>\n",
       "      <th>r_like</th>\n",
       "      <th>r_good</th>\n",
       "      <th>r_just</th>\n",
       "      <th>r_color</th>\n",
       "      <th>...</th>\n",
       "      <th>r_apply</th>\n",
       "      <th>r_definitely</th>\n",
       "      <th>r_try</th>\n",
       "      <th>r_worth</th>\n",
       "      <th>r_looks</th>\n",
       "      <th>r_goes</th>\n",
       "      <th>r_smooth</th>\n",
       "      <th>r_think</th>\n",
       "      <th>r_soft</th>\n",
       "      <th>r_feels</th>\n",
       "    </tr>\n",
       "  </thead>\n",
       "  <tbody>\n",
       "    <tr>\n",
       "      <th>0</th>\n",
       "      <td>0</td>\n",
       "      <td>0</td>\n",
       "      <td>1</td>\n",
       "      <td>1</td>\n",
       "      <td>0</td>\n",
       "      <td>0</td>\n",
       "      <td>0</td>\n",
       "      <td>0</td>\n",
       "      <td>0</td>\n",
       "      <td>0</td>\n",
       "      <td>...</td>\n",
       "      <td>0</td>\n",
       "      <td>0</td>\n",
       "      <td>0</td>\n",
       "      <td>0</td>\n",
       "      <td>0</td>\n",
       "      <td>0</td>\n",
       "      <td>1</td>\n",
       "      <td>0</td>\n",
       "      <td>0</td>\n",
       "      <td>0</td>\n",
       "    </tr>\n",
       "    <tr>\n",
       "      <th>1</th>\n",
       "      <td>0</td>\n",
       "      <td>0</td>\n",
       "      <td>0</td>\n",
       "      <td>0</td>\n",
       "      <td>0</td>\n",
       "      <td>0</td>\n",
       "      <td>0</td>\n",
       "      <td>0</td>\n",
       "      <td>0</td>\n",
       "      <td>0</td>\n",
       "      <td>...</td>\n",
       "      <td>0</td>\n",
       "      <td>0</td>\n",
       "      <td>2</td>\n",
       "      <td>0</td>\n",
       "      <td>0</td>\n",
       "      <td>0</td>\n",
       "      <td>0</td>\n",
       "      <td>0</td>\n",
       "      <td>0</td>\n",
       "      <td>0</td>\n",
       "    </tr>\n",
       "    <tr>\n",
       "      <th>2</th>\n",
       "      <td>1</td>\n",
       "      <td>0</td>\n",
       "      <td>1</td>\n",
       "      <td>0</td>\n",
       "      <td>0</td>\n",
       "      <td>0</td>\n",
       "      <td>0</td>\n",
       "      <td>0</td>\n",
       "      <td>0</td>\n",
       "      <td>0</td>\n",
       "      <td>...</td>\n",
       "      <td>0</td>\n",
       "      <td>0</td>\n",
       "      <td>0</td>\n",
       "      <td>0</td>\n",
       "      <td>0</td>\n",
       "      <td>0</td>\n",
       "      <td>0</td>\n",
       "      <td>0</td>\n",
       "      <td>0</td>\n",
       "      <td>0</td>\n",
       "    </tr>\n",
       "    <tr>\n",
       "      <th>3</th>\n",
       "      <td>0</td>\n",
       "      <td>0</td>\n",
       "      <td>0</td>\n",
       "      <td>0</td>\n",
       "      <td>0</td>\n",
       "      <td>1</td>\n",
       "      <td>0</td>\n",
       "      <td>0</td>\n",
       "      <td>0</td>\n",
       "      <td>0</td>\n",
       "      <td>...</td>\n",
       "      <td>0</td>\n",
       "      <td>0</td>\n",
       "      <td>0</td>\n",
       "      <td>0</td>\n",
       "      <td>0</td>\n",
       "      <td>1</td>\n",
       "      <td>0</td>\n",
       "      <td>0</td>\n",
       "      <td>0</td>\n",
       "      <td>0</td>\n",
       "    </tr>\n",
       "    <tr>\n",
       "      <th>4</th>\n",
       "      <td>0</td>\n",
       "      <td>0</td>\n",
       "      <td>0</td>\n",
       "      <td>0</td>\n",
       "      <td>0</td>\n",
       "      <td>0</td>\n",
       "      <td>0</td>\n",
       "      <td>0</td>\n",
       "      <td>0</td>\n",
       "      <td>0</td>\n",
       "      <td>...</td>\n",
       "      <td>0</td>\n",
       "      <td>0</td>\n",
       "      <td>0</td>\n",
       "      <td>0</td>\n",
       "      <td>0</td>\n",
       "      <td>0</td>\n",
       "      <td>0</td>\n",
       "      <td>0</td>\n",
       "      <td>0</td>\n",
       "      <td>0</td>\n",
       "    </tr>\n",
       "    <tr>\n",
       "      <th>...</th>\n",
       "      <td>...</td>\n",
       "      <td>...</td>\n",
       "      <td>...</td>\n",
       "      <td>...</td>\n",
       "      <td>...</td>\n",
       "      <td>...</td>\n",
       "      <td>...</td>\n",
       "      <td>...</td>\n",
       "      <td>...</td>\n",
       "      <td>...</td>\n",
       "      <td>...</td>\n",
       "      <td>...</td>\n",
       "      <td>...</td>\n",
       "      <td>...</td>\n",
       "      <td>...</td>\n",
       "      <td>...</td>\n",
       "      <td>...</td>\n",
       "      <td>...</td>\n",
       "      <td>...</td>\n",
       "      <td>...</td>\n",
       "      <td>...</td>\n",
       "    </tr>\n",
       "    <tr>\n",
       "      <th>97538</th>\n",
       "      <td>0</td>\n",
       "      <td>0</td>\n",
       "      <td>0</td>\n",
       "      <td>0</td>\n",
       "      <td>0</td>\n",
       "      <td>0</td>\n",
       "      <td>0</td>\n",
       "      <td>0</td>\n",
       "      <td>0</td>\n",
       "      <td>0</td>\n",
       "      <td>...</td>\n",
       "      <td>0</td>\n",
       "      <td>0</td>\n",
       "      <td>0</td>\n",
       "      <td>0</td>\n",
       "      <td>0</td>\n",
       "      <td>0</td>\n",
       "      <td>0</td>\n",
       "      <td>0</td>\n",
       "      <td>0</td>\n",
       "      <td>0</td>\n",
       "    </tr>\n",
       "    <tr>\n",
       "      <th>97539</th>\n",
       "      <td>0</td>\n",
       "      <td>0</td>\n",
       "      <td>0</td>\n",
       "      <td>0</td>\n",
       "      <td>0</td>\n",
       "      <td>0</td>\n",
       "      <td>0</td>\n",
       "      <td>0</td>\n",
       "      <td>0</td>\n",
       "      <td>0</td>\n",
       "      <td>...</td>\n",
       "      <td>0</td>\n",
       "      <td>0</td>\n",
       "      <td>0</td>\n",
       "      <td>0</td>\n",
       "      <td>0</td>\n",
       "      <td>0</td>\n",
       "      <td>0</td>\n",
       "      <td>0</td>\n",
       "      <td>0</td>\n",
       "      <td>0</td>\n",
       "    </tr>\n",
       "    <tr>\n",
       "      <th>97540</th>\n",
       "      <td>0</td>\n",
       "      <td>0</td>\n",
       "      <td>0</td>\n",
       "      <td>1</td>\n",
       "      <td>1</td>\n",
       "      <td>1</td>\n",
       "      <td>0</td>\n",
       "      <td>0</td>\n",
       "      <td>0</td>\n",
       "      <td>0</td>\n",
       "      <td>...</td>\n",
       "      <td>1</td>\n",
       "      <td>1</td>\n",
       "      <td>2</td>\n",
       "      <td>0</td>\n",
       "      <td>1</td>\n",
       "      <td>0</td>\n",
       "      <td>1</td>\n",
       "      <td>0</td>\n",
       "      <td>0</td>\n",
       "      <td>0</td>\n",
       "    </tr>\n",
       "    <tr>\n",
       "      <th>97541</th>\n",
       "      <td>0</td>\n",
       "      <td>0</td>\n",
       "      <td>0</td>\n",
       "      <td>0</td>\n",
       "      <td>0</td>\n",
       "      <td>0</td>\n",
       "      <td>0</td>\n",
       "      <td>0</td>\n",
       "      <td>0</td>\n",
       "      <td>0</td>\n",
       "      <td>...</td>\n",
       "      <td>0</td>\n",
       "      <td>0</td>\n",
       "      <td>0</td>\n",
       "      <td>0</td>\n",
       "      <td>0</td>\n",
       "      <td>0</td>\n",
       "      <td>0</td>\n",
       "      <td>1</td>\n",
       "      <td>0</td>\n",
       "      <td>0</td>\n",
       "    </tr>\n",
       "    <tr>\n",
       "      <th>97542</th>\n",
       "      <td>0</td>\n",
       "      <td>0</td>\n",
       "      <td>0</td>\n",
       "      <td>0</td>\n",
       "      <td>0</td>\n",
       "      <td>0</td>\n",
       "      <td>0</td>\n",
       "      <td>1</td>\n",
       "      <td>0</td>\n",
       "      <td>1</td>\n",
       "      <td>...</td>\n",
       "      <td>0</td>\n",
       "      <td>0</td>\n",
       "      <td>0</td>\n",
       "      <td>0</td>\n",
       "      <td>0</td>\n",
       "      <td>0</td>\n",
       "      <td>0</td>\n",
       "      <td>0</td>\n",
       "      <td>0</td>\n",
       "      <td>0</td>\n",
       "    </tr>\n",
       "  </tbody>\n",
       "</table>\n",
       "<p>97543 rows × 65 columns</p>\n",
       "</div>"
      ],
      "text/plain": [
       "words  r_product  r_hair  r_love  r_great  r_skin  r_use  r_like  r_good  \\\n",
       "0              0       0       1        1       0      0       0       0   \n",
       "1              0       0       0        0       0      0       0       0   \n",
       "2              1       0       1        0       0      0       0       0   \n",
       "3              0       0       0        0       0      1       0       0   \n",
       "4              0       0       0        0       0      0       0       0   \n",
       "...          ...     ...     ...      ...     ...    ...     ...     ...   \n",
       "97538          0       0       0        0       0      0       0       0   \n",
       "97539          0       0       0        0       0      0       0       0   \n",
       "97540          0       0       0        1       1      1       0       0   \n",
       "97541          0       0       0        0       0      0       0       0   \n",
       "97542          0       0       0        0       0      0       0       1   \n",
       "\n",
       "words  r_just  r_color  ...  r_apply  r_definitely  r_try  r_worth  r_looks  \\\n",
       "0           0        0  ...        0             0      0        0        0   \n",
       "1           0        0  ...        0             0      2        0        0   \n",
       "2           0        0  ...        0             0      0        0        0   \n",
       "3           0        0  ...        0             0      0        0        0   \n",
       "4           0        0  ...        0             0      0        0        0   \n",
       "...       ...      ...  ...      ...           ...    ...      ...      ...   \n",
       "97538       0        0  ...        0             0      0        0        0   \n",
       "97539       0        0  ...        0             0      0        0        0   \n",
       "97540       0        0  ...        1             1      2        0        1   \n",
       "97541       0        0  ...        0             0      0        0        0   \n",
       "97542       0        1  ...        0             0      0        0        0   \n",
       "\n",
       "words  r_goes  r_smooth  r_think  r_soft  r_feels  \n",
       "0           0         1        0       0        0  \n",
       "1           0         0        0       0        0  \n",
       "2           0         0        0       0        0  \n",
       "3           1         0        0       0        0  \n",
       "4           0         0        0       0        0  \n",
       "...       ...       ...      ...     ...      ...  \n",
       "97538       0         0        0       0        0  \n",
       "97539       0         0        0       0        0  \n",
       "97540       0         1        0       0        0  \n",
       "97541       0         0        1       0        0  \n",
       "97542       0         0        0       0        0  \n",
       "\n",
       "[97543 rows x 65 columns]"
      ]
     },
     "execution_count": 42,
     "metadata": {},
     "output_type": "execute_result"
    }
   ],
   "source": [
    "review_vect_df = pd.DataFrame(remainder_transformed.todense(), columns= review_word_counts[\"words\"])\n",
    "review_vect_df"
   ]
  },
  {
   "cell_type": "code",
   "execution_count": 43,
   "id": "8f23caa0",
   "metadata": {
    "colab": {
     "base_uri": "https://localhost:8080/",
     "height": 240
    },
    "id": "8f23caa0",
    "outputId": "7c03f0e2-08af-4737-b711-19accbfcfc22"
   },
   "outputs": [
    {
     "data": {
      "text/html": [
       "<div>\n",
       "<style scoped>\n",
       "    .dataframe tbody tr th:only-of-type {\n",
       "        vertical-align: middle;\n",
       "    }\n",
       "\n",
       "    .dataframe tbody tr th {\n",
       "        vertical-align: top;\n",
       "    }\n",
       "\n",
       "    .dataframe thead th {\n",
       "        text-align: right;\n",
       "    }\n",
       "</style>\n",
       "<table border=\"1\" class=\"dataframe\">\n",
       "  <thead>\n",
       "    <tr style=\"text-align: right;\">\n",
       "      <th></th>\n",
       "      <th>overall</th>\n",
       "      <th>vote</th>\n",
       "      <th>verified</th>\n",
       "      <th>price_USD</th>\n",
       "      <th>ranking</th>\n",
       "      <th>also_buy_counts</th>\n",
       "      <th>also_view_counts</th>\n",
       "      <th>c_accessories</th>\n",
       "      <th>c_bath and shower</th>\n",
       "      <th>c_fragance</th>\n",
       "      <th>...</th>\n",
       "      <th>r_apply</th>\n",
       "      <th>r_definitely</th>\n",
       "      <th>r_try</th>\n",
       "      <th>r_worth</th>\n",
       "      <th>r_looks</th>\n",
       "      <th>r_goes</th>\n",
       "      <th>r_smooth</th>\n",
       "      <th>r_think</th>\n",
       "      <th>r_soft</th>\n",
       "      <th>r_feels</th>\n",
       "    </tr>\n",
       "  </thead>\n",
       "  <tbody>\n",
       "    <tr>\n",
       "      <th>68639</th>\n",
       "      <td>5.0</td>\n",
       "      <td>0.0</td>\n",
       "      <td>1</td>\n",
       "      <td>14.0</td>\n",
       "      <td>52221.0</td>\n",
       "      <td>0.0</td>\n",
       "      <td>0.0</td>\n",
       "      <td>0.0</td>\n",
       "      <td>0.0</td>\n",
       "      <td>0.0</td>\n",
       "      <td>...</td>\n",
       "      <td>0</td>\n",
       "      <td>0</td>\n",
       "      <td>0</td>\n",
       "      <td>0</td>\n",
       "      <td>0</td>\n",
       "      <td>0</td>\n",
       "      <td>0</td>\n",
       "      <td>0</td>\n",
       "      <td>0</td>\n",
       "      <td>0</td>\n",
       "    </tr>\n",
       "    <tr>\n",
       "      <th>50227</th>\n",
       "      <td>4.0</td>\n",
       "      <td>0.0</td>\n",
       "      <td>1</td>\n",
       "      <td>12.0</td>\n",
       "      <td>9112.0</td>\n",
       "      <td>13.0</td>\n",
       "      <td>14.0</td>\n",
       "      <td>0.0</td>\n",
       "      <td>0.0</td>\n",
       "      <td>0.0</td>\n",
       "      <td>...</td>\n",
       "      <td>0</td>\n",
       "      <td>0</td>\n",
       "      <td>0</td>\n",
       "      <td>0</td>\n",
       "      <td>0</td>\n",
       "      <td>0</td>\n",
       "      <td>0</td>\n",
       "      <td>0</td>\n",
       "      <td>0</td>\n",
       "      <td>0</td>\n",
       "    </tr>\n",
       "  </tbody>\n",
       "</table>\n",
       "<p>2 rows × 124 columns</p>\n",
       "</div>"
      ],
      "text/plain": [
       "       overall  vote  verified  price_USD  ranking  also_buy_counts  \\\n",
       "68639      5.0   0.0         1       14.0  52221.0              0.0   \n",
       "50227      4.0   0.0         1       12.0   9112.0             13.0   \n",
       "\n",
       "       also_view_counts  c_accessories  c_bath and shower  c_fragance  ...  \\\n",
       "68639               0.0            0.0                0.0         0.0  ...   \n",
       "50227              14.0            0.0                0.0         0.0  ...   \n",
       "\n",
       "       r_apply  r_definitely  r_try  r_worth  r_looks  r_goes  r_smooth  \\\n",
       "68639        0             0      0        0        0       0         0   \n",
       "50227        0             0      0        0        0       0         0   \n",
       "\n",
       "       r_think  r_soft  r_feels  \n",
       "68639        0       0        0  \n",
       "50227        0       0        0  \n",
       "\n",
       "[2 rows x 124 columns]"
      ]
     },
     "execution_count": 43,
     "metadata": {},
     "output_type": "execute_result"
    }
   ],
   "source": [
    "X_remainder1_pca = pd.concat([X_remainder1.reset_index(drop=True), review_vect_df.reset_index(drop=True)], axis=1).drop(columns = 'reviewText')\n",
    "X_remainder1_pca.sample(2)"
   ]
  },
  {
   "cell_type": "code",
   "execution_count": 44,
   "id": "43618313",
   "metadata": {
    "colab": {
     "base_uri": "https://localhost:8080/"
    },
    "id": "43618313",
    "outputId": "542730e4-52ea-4bf6-935e-517fc4690f61"
   },
   "outputs": [
    {
     "name": "stdout",
     "output_type": "stream",
     "text": [
      "shape of scaled and features with applied PCA is (97543, 4)\n"
     ]
    }
   ],
   "source": [
    "#scaling data \n",
    "scaler_pca = StandardScaler()\n",
    "scaler_pca.fit(X_remainder1_pca)\n",
    "feature_scaled = scaler_pca.transform(X_remainder1_pca)\n",
    "\n",
    "#applying PCA \n",
    "pca1 = PCA(n_components=4)\n",
    "pca1.fit(feature_scaled)\n",
    "feature_scaled_pca = pca1.transform(feature_scaled)\n",
    "print(f\"shape of scaled and features with applied PCA is {np.shape(feature_scaled_pca)}\")"
   ]
  },
  {
   "cell_type": "code",
   "execution_count": 45,
   "id": "e356c3bd",
   "metadata": {
    "colab": {
     "base_uri": "https://localhost:8080/"
    },
    "id": "e356c3bd",
    "outputId": "9a5deca1-359b-4e58-b784-06c2531fbb43"
   },
   "outputs": [
    {
     "name": "stdout",
     "output_type": "stream",
     "text": [
      "variance Ratio of the 4 principal components analysis: [0.47247088 0.20034694 0.18259631 0.14458586]\n",
      "0.8554141392073837\n"
     ]
    }
   ],
   "source": [
    "#variance to see which out of the 4 components are contributing most\n",
    "feat_var = np.var(feature_scaled_pca, axis=0)\n",
    "feat_var_rat = feat_var/(np.sum(feat_var))\n",
    "\n",
    "print(f\"variance Ratio of the 4 principal components analysis: {feat_var_rat}\")\n",
    "\n",
    "print(sum(feat_var_rat[0:3]))"
   ]
  },
  {
   "attachments": {},
   "cell_type": "markdown",
   "id": "5492f443",
   "metadata": {},
   "source": [
    "### How to process text data?"
   ]
  },
  {
   "cell_type": "code",
   "execution_count": 50,
   "id": "ba68edfb",
   "metadata": {},
   "outputs": [
    {
     "data": {
      "text/html": [
       "<div>\n",
       "<style scoped>\n",
       "    .dataframe tbody tr th:only-of-type {\n",
       "        vertical-align: middle;\n",
       "    }\n",
       "\n",
       "    .dataframe tbody tr th {\n",
       "        vertical-align: top;\n",
       "    }\n",
       "\n",
       "    .dataframe thead th {\n",
       "        text-align: right;\n",
       "    }\n",
       "</style>\n",
       "<table border=\"1\" class=\"dataframe\">\n",
       "  <thead>\n",
       "    <tr style=\"text-align: right;\">\n",
       "      <th></th>\n",
       "      <th>after using</th>\n",
       "      <th>all day</th>\n",
       "      <th>all the</th>\n",
       "      <th>and does</th>\n",
       "      <th>and doesn</th>\n",
       "      <th>and has</th>\n",
       "      <th>and have</th>\n",
       "      <th>and love</th>\n",
       "      <th>and not</th>\n",
       "      <th>and the</th>\n",
       "      <th>...</th>\n",
       "      <th>works great</th>\n",
       "      <th>works well</th>\n",
       "      <th>worth the</th>\n",
       "      <th>years and</th>\n",
       "      <th>you are</th>\n",
       "      <th>you can</th>\n",
       "      <th>you have</th>\n",
       "      <th>your face</th>\n",
       "      <th>your hair</th>\n",
       "      <th>your skin</th>\n",
       "    </tr>\n",
       "  </thead>\n",
       "  <tbody>\n",
       "    <tr>\n",
       "      <th>0</th>\n",
       "      <td>0</td>\n",
       "      <td>0</td>\n",
       "      <td>0</td>\n",
       "      <td>0</td>\n",
       "      <td>0</td>\n",
       "      <td>0</td>\n",
       "      <td>0</td>\n",
       "      <td>0</td>\n",
       "      <td>0</td>\n",
       "      <td>0</td>\n",
       "      <td>...</td>\n",
       "      <td>0</td>\n",
       "      <td>0</td>\n",
       "      <td>0</td>\n",
       "      <td>0</td>\n",
       "      <td>0</td>\n",
       "      <td>0</td>\n",
       "      <td>0</td>\n",
       "      <td>0</td>\n",
       "      <td>0</td>\n",
       "      <td>0</td>\n",
       "    </tr>\n",
       "    <tr>\n",
       "      <th>1</th>\n",
       "      <td>0</td>\n",
       "      <td>0</td>\n",
       "      <td>0</td>\n",
       "      <td>0</td>\n",
       "      <td>0</td>\n",
       "      <td>0</td>\n",
       "      <td>0</td>\n",
       "      <td>0</td>\n",
       "      <td>0</td>\n",
       "      <td>0</td>\n",
       "      <td>...</td>\n",
       "      <td>0</td>\n",
       "      <td>0</td>\n",
       "      <td>0</td>\n",
       "      <td>0</td>\n",
       "      <td>0</td>\n",
       "      <td>0</td>\n",
       "      <td>0</td>\n",
       "      <td>0</td>\n",
       "      <td>0</td>\n",
       "      <td>0</td>\n",
       "    </tr>\n",
       "    <tr>\n",
       "      <th>2</th>\n",
       "      <td>0</td>\n",
       "      <td>0</td>\n",
       "      <td>0</td>\n",
       "      <td>0</td>\n",
       "      <td>0</td>\n",
       "      <td>0</td>\n",
       "      <td>1</td>\n",
       "      <td>0</td>\n",
       "      <td>0</td>\n",
       "      <td>0</td>\n",
       "      <td>...</td>\n",
       "      <td>0</td>\n",
       "      <td>0</td>\n",
       "      <td>0</td>\n",
       "      <td>0</td>\n",
       "      <td>0</td>\n",
       "      <td>0</td>\n",
       "      <td>0</td>\n",
       "      <td>0</td>\n",
       "      <td>0</td>\n",
       "      <td>0</td>\n",
       "    </tr>\n",
       "    <tr>\n",
       "      <th>3</th>\n",
       "      <td>0</td>\n",
       "      <td>0</td>\n",
       "      <td>0</td>\n",
       "      <td>0</td>\n",
       "      <td>0</td>\n",
       "      <td>0</td>\n",
       "      <td>0</td>\n",
       "      <td>0</td>\n",
       "      <td>0</td>\n",
       "      <td>0</td>\n",
       "      <td>...</td>\n",
       "      <td>0</td>\n",
       "      <td>0</td>\n",
       "      <td>0</td>\n",
       "      <td>0</td>\n",
       "      <td>0</td>\n",
       "      <td>0</td>\n",
       "      <td>0</td>\n",
       "      <td>0</td>\n",
       "      <td>0</td>\n",
       "      <td>0</td>\n",
       "    </tr>\n",
       "    <tr>\n",
       "      <th>4</th>\n",
       "      <td>0</td>\n",
       "      <td>0</td>\n",
       "      <td>0</td>\n",
       "      <td>0</td>\n",
       "      <td>0</td>\n",
       "      <td>0</td>\n",
       "      <td>0</td>\n",
       "      <td>0</td>\n",
       "      <td>0</td>\n",
       "      <td>0</td>\n",
       "      <td>...</td>\n",
       "      <td>0</td>\n",
       "      <td>0</td>\n",
       "      <td>0</td>\n",
       "      <td>0</td>\n",
       "      <td>0</td>\n",
       "      <td>0</td>\n",
       "      <td>0</td>\n",
       "      <td>0</td>\n",
       "      <td>0</td>\n",
       "      <td>0</td>\n",
       "    </tr>\n",
       "    <tr>\n",
       "      <th>...</th>\n",
       "      <td>...</td>\n",
       "      <td>...</td>\n",
       "      <td>...</td>\n",
       "      <td>...</td>\n",
       "      <td>...</td>\n",
       "      <td>...</td>\n",
       "      <td>...</td>\n",
       "      <td>...</td>\n",
       "      <td>...</td>\n",
       "      <td>...</td>\n",
       "      <td>...</td>\n",
       "      <td>...</td>\n",
       "      <td>...</td>\n",
       "      <td>...</td>\n",
       "      <td>...</td>\n",
       "      <td>...</td>\n",
       "      <td>...</td>\n",
       "      <td>...</td>\n",
       "      <td>...</td>\n",
       "      <td>...</td>\n",
       "      <td>...</td>\n",
       "    </tr>\n",
       "    <tr>\n",
       "      <th>97538</th>\n",
       "      <td>0</td>\n",
       "      <td>0</td>\n",
       "      <td>0</td>\n",
       "      <td>0</td>\n",
       "      <td>0</td>\n",
       "      <td>0</td>\n",
       "      <td>0</td>\n",
       "      <td>0</td>\n",
       "      <td>0</td>\n",
       "      <td>0</td>\n",
       "      <td>...</td>\n",
       "      <td>0</td>\n",
       "      <td>0</td>\n",
       "      <td>0</td>\n",
       "      <td>0</td>\n",
       "      <td>0</td>\n",
       "      <td>0</td>\n",
       "      <td>0</td>\n",
       "      <td>0</td>\n",
       "      <td>0</td>\n",
       "      <td>0</td>\n",
       "    </tr>\n",
       "    <tr>\n",
       "      <th>97539</th>\n",
       "      <td>0</td>\n",
       "      <td>0</td>\n",
       "      <td>0</td>\n",
       "      <td>0</td>\n",
       "      <td>0</td>\n",
       "      <td>0</td>\n",
       "      <td>0</td>\n",
       "      <td>0</td>\n",
       "      <td>0</td>\n",
       "      <td>0</td>\n",
       "      <td>...</td>\n",
       "      <td>0</td>\n",
       "      <td>0</td>\n",
       "      <td>0</td>\n",
       "      <td>0</td>\n",
       "      <td>0</td>\n",
       "      <td>0</td>\n",
       "      <td>0</td>\n",
       "      <td>0</td>\n",
       "      <td>0</td>\n",
       "      <td>0</td>\n",
       "    </tr>\n",
       "    <tr>\n",
       "      <th>97540</th>\n",
       "      <td>0</td>\n",
       "      <td>0</td>\n",
       "      <td>0</td>\n",
       "      <td>0</td>\n",
       "      <td>0</td>\n",
       "      <td>0</td>\n",
       "      <td>0</td>\n",
       "      <td>0</td>\n",
       "      <td>0</td>\n",
       "      <td>0</td>\n",
       "      <td>...</td>\n",
       "      <td>0</td>\n",
       "      <td>0</td>\n",
       "      <td>0</td>\n",
       "      <td>0</td>\n",
       "      <td>0</td>\n",
       "      <td>0</td>\n",
       "      <td>0</td>\n",
       "      <td>0</td>\n",
       "      <td>2</td>\n",
       "      <td>0</td>\n",
       "    </tr>\n",
       "    <tr>\n",
       "      <th>97541</th>\n",
       "      <td>0</td>\n",
       "      <td>0</td>\n",
       "      <td>0</td>\n",
       "      <td>0</td>\n",
       "      <td>0</td>\n",
       "      <td>0</td>\n",
       "      <td>0</td>\n",
       "      <td>0</td>\n",
       "      <td>0</td>\n",
       "      <td>0</td>\n",
       "      <td>...</td>\n",
       "      <td>0</td>\n",
       "      <td>0</td>\n",
       "      <td>0</td>\n",
       "      <td>0</td>\n",
       "      <td>0</td>\n",
       "      <td>0</td>\n",
       "      <td>0</td>\n",
       "      <td>0</td>\n",
       "      <td>0</td>\n",
       "      <td>0</td>\n",
       "    </tr>\n",
       "    <tr>\n",
       "      <th>97542</th>\n",
       "      <td>0</td>\n",
       "      <td>0</td>\n",
       "      <td>0</td>\n",
       "      <td>0</td>\n",
       "      <td>0</td>\n",
       "      <td>0</td>\n",
       "      <td>0</td>\n",
       "      <td>0</td>\n",
       "      <td>0</td>\n",
       "      <td>0</td>\n",
       "      <td>...</td>\n",
       "      <td>0</td>\n",
       "      <td>0</td>\n",
       "      <td>0</td>\n",
       "      <td>0</td>\n",
       "      <td>0</td>\n",
       "      <td>0</td>\n",
       "      <td>0</td>\n",
       "      <td>0</td>\n",
       "      <td>0</td>\n",
       "      <td>0</td>\n",
       "    </tr>\n",
       "  </tbody>\n",
       "</table>\n",
       "<p>97543 rows × 106 columns</p>\n",
       "</div>"
      ],
      "text/plain": [
       "       after using  all day  all the  and does  and doesn  and has  and have  \\\n",
       "0                0        0        0         0          0        0         0   \n",
       "1                0        0        0         0          0        0         0   \n",
       "2                0        0        0         0          0        0         1   \n",
       "3                0        0        0         0          0        0         0   \n",
       "4                0        0        0         0          0        0         0   \n",
       "...            ...      ...      ...       ...        ...      ...       ...   \n",
       "97538            0        0        0         0          0        0         0   \n",
       "97539            0        0        0         0          0        0         0   \n",
       "97540            0        0        0         0          0        0         0   \n",
       "97541            0        0        0         0          0        0         0   \n",
       "97542            0        0        0         0          0        0         0   \n",
       "\n",
       "       and love  and not  and the  ...  works great  works well  worth the  \\\n",
       "0             0        0        0  ...            0           0          0   \n",
       "1             0        0        0  ...            0           0          0   \n",
       "2             0        0        0  ...            0           0          0   \n",
       "3             0        0        0  ...            0           0          0   \n",
       "4             0        0        0  ...            0           0          0   \n",
       "...         ...      ...      ...  ...          ...         ...        ...   \n",
       "97538         0        0        0  ...            0           0          0   \n",
       "97539         0        0        0  ...            0           0          0   \n",
       "97540         0        0        0  ...            0           0          0   \n",
       "97541         0        0        0  ...            0           0          0   \n",
       "97542         0        0        0  ...            0           0          0   \n",
       "\n",
       "       years and  you are  you can  you have  your face  your hair  your skin  \n",
       "0              0        0        0         0          0          0          0  \n",
       "1              0        0        0         0          0          0          0  \n",
       "2              0        0        0         0          0          0          0  \n",
       "3              0        0        0         0          0          0          0  \n",
       "4              0        0        0         0          0          0          0  \n",
       "...          ...      ...      ...       ...        ...        ...        ...  \n",
       "97538          0        0        0         0          0          0          0  \n",
       "97539          0        0        0         0          0          0          0  \n",
       "97540          0        0        0         0          0          2          0  \n",
       "97541          0        0        0         0          0          0          0  \n",
       "97542          0        0        0         0          0          0          0  \n",
       "\n",
       "[97543 rows x 106 columns]"
      ]
     },
     "execution_count": 50,
     "metadata": {},
     "output_type": "execute_result"
    }
   ],
   "source": [
    "from sklearn.feature_extraction.text import (CountVectorizer, \n",
    "                                             TfidfVectorizer,\n",
    "                                             TfidfTransformer)\n",
    "\n",
    "vectorizer = CountVectorizer(analyzer='word', \n",
    "                              token_pattern=r'\\b[a-zA-Z]{3,}\\b',  \n",
    "                              ngram_range=(2, 2),\n",
    "                              min_df = 0.01)  # only bigrams\n",
    "vectorized = vectorizer.fit_transform(X_remainder1['reviewText'])\n",
    "pd.DataFrame(vectorized.toarray(), \n",
    "             columns=vectorizer.get_feature_names_out())"
   ]
  },
  {
   "attachments": {},
   "cell_type": "markdown",
   "id": "647eb267",
   "metadata": {},
   "source": [
    "### TF-IDF "
   ]
  },
  {
   "cell_type": "code",
   "execution_count": 51,
   "id": "beaf61f9",
   "metadata": {},
   "outputs": [
    {
     "data": {
      "text/html": [
       "<div>\n",
       "<style scoped>\n",
       "    .dataframe tbody tr th:only-of-type {\n",
       "        vertical-align: middle;\n",
       "    }\n",
       "\n",
       "    .dataframe tbody tr th {\n",
       "        vertical-align: top;\n",
       "    }\n",
       "\n",
       "    .dataframe thead th {\n",
       "        text-align: right;\n",
       "    }\n",
       "</style>\n",
       "<table border=\"1\" class=\"dataframe\">\n",
       "  <thead>\n",
       "    <tr style=\"text-align: right;\">\n",
       "      <th></th>\n",
       "      <th>after using</th>\n",
       "      <th>all day</th>\n",
       "      <th>all the</th>\n",
       "      <th>and does</th>\n",
       "      <th>and doesn</th>\n",
       "      <th>and has</th>\n",
       "      <th>and have</th>\n",
       "      <th>and love</th>\n",
       "      <th>and not</th>\n",
       "      <th>and the</th>\n",
       "      <th>...</th>\n",
       "      <th>works great</th>\n",
       "      <th>works well</th>\n",
       "      <th>worth the</th>\n",
       "      <th>years and</th>\n",
       "      <th>you are</th>\n",
       "      <th>you can</th>\n",
       "      <th>you have</th>\n",
       "      <th>your face</th>\n",
       "      <th>your hair</th>\n",
       "      <th>your skin</th>\n",
       "    </tr>\n",
       "  </thead>\n",
       "  <tbody>\n",
       "    <tr>\n",
       "      <th>0</th>\n",
       "      <td>0.0</td>\n",
       "      <td>0.0</td>\n",
       "      <td>0.0</td>\n",
       "      <td>0.0</td>\n",
       "      <td>0.0</td>\n",
       "      <td>0.0</td>\n",
       "      <td>0.000000</td>\n",
       "      <td>0.0</td>\n",
       "      <td>0.0</td>\n",
       "      <td>0.0</td>\n",
       "      <td>...</td>\n",
       "      <td>0.0</td>\n",
       "      <td>0.0</td>\n",
       "      <td>0.0</td>\n",
       "      <td>0.0</td>\n",
       "      <td>0.0</td>\n",
       "      <td>0.0</td>\n",
       "      <td>0.0</td>\n",
       "      <td>0.0</td>\n",
       "      <td>0.000000</td>\n",
       "      <td>0.0</td>\n",
       "    </tr>\n",
       "    <tr>\n",
       "      <th>1</th>\n",
       "      <td>0.0</td>\n",
       "      <td>0.0</td>\n",
       "      <td>0.0</td>\n",
       "      <td>0.0</td>\n",
       "      <td>0.0</td>\n",
       "      <td>0.0</td>\n",
       "      <td>0.000000</td>\n",
       "      <td>0.0</td>\n",
       "      <td>0.0</td>\n",
       "      <td>0.0</td>\n",
       "      <td>...</td>\n",
       "      <td>0.0</td>\n",
       "      <td>0.0</td>\n",
       "      <td>0.0</td>\n",
       "      <td>0.0</td>\n",
       "      <td>0.0</td>\n",
       "      <td>0.0</td>\n",
       "      <td>0.0</td>\n",
       "      <td>0.0</td>\n",
       "      <td>0.000000</td>\n",
       "      <td>0.0</td>\n",
       "    </tr>\n",
       "    <tr>\n",
       "      <th>2</th>\n",
       "      <td>0.0</td>\n",
       "      <td>0.0</td>\n",
       "      <td>0.0</td>\n",
       "      <td>0.0</td>\n",
       "      <td>0.0</td>\n",
       "      <td>0.0</td>\n",
       "      <td>0.540145</td>\n",
       "      <td>0.0</td>\n",
       "      <td>0.0</td>\n",
       "      <td>0.0</td>\n",
       "      <td>...</td>\n",
       "      <td>0.0</td>\n",
       "      <td>0.0</td>\n",
       "      <td>0.0</td>\n",
       "      <td>0.0</td>\n",
       "      <td>0.0</td>\n",
       "      <td>0.0</td>\n",
       "      <td>0.0</td>\n",
       "      <td>0.0</td>\n",
       "      <td>0.000000</td>\n",
       "      <td>0.0</td>\n",
       "    </tr>\n",
       "    <tr>\n",
       "      <th>3</th>\n",
       "      <td>0.0</td>\n",
       "      <td>0.0</td>\n",
       "      <td>0.0</td>\n",
       "      <td>0.0</td>\n",
       "      <td>0.0</td>\n",
       "      <td>0.0</td>\n",
       "      <td>0.000000</td>\n",
       "      <td>0.0</td>\n",
       "      <td>0.0</td>\n",
       "      <td>0.0</td>\n",
       "      <td>...</td>\n",
       "      <td>0.0</td>\n",
       "      <td>0.0</td>\n",
       "      <td>0.0</td>\n",
       "      <td>0.0</td>\n",
       "      <td>0.0</td>\n",
       "      <td>0.0</td>\n",
       "      <td>0.0</td>\n",
       "      <td>0.0</td>\n",
       "      <td>0.000000</td>\n",
       "      <td>0.0</td>\n",
       "    </tr>\n",
       "    <tr>\n",
       "      <th>4</th>\n",
       "      <td>0.0</td>\n",
       "      <td>0.0</td>\n",
       "      <td>0.0</td>\n",
       "      <td>0.0</td>\n",
       "      <td>0.0</td>\n",
       "      <td>0.0</td>\n",
       "      <td>0.000000</td>\n",
       "      <td>0.0</td>\n",
       "      <td>0.0</td>\n",
       "      <td>0.0</td>\n",
       "      <td>...</td>\n",
       "      <td>0.0</td>\n",
       "      <td>0.0</td>\n",
       "      <td>0.0</td>\n",
       "      <td>0.0</td>\n",
       "      <td>0.0</td>\n",
       "      <td>0.0</td>\n",
       "      <td>0.0</td>\n",
       "      <td>0.0</td>\n",
       "      <td>0.000000</td>\n",
       "      <td>0.0</td>\n",
       "    </tr>\n",
       "    <tr>\n",
       "      <th>...</th>\n",
       "      <td>...</td>\n",
       "      <td>...</td>\n",
       "      <td>...</td>\n",
       "      <td>...</td>\n",
       "      <td>...</td>\n",
       "      <td>...</td>\n",
       "      <td>...</td>\n",
       "      <td>...</td>\n",
       "      <td>...</td>\n",
       "      <td>...</td>\n",
       "      <td>...</td>\n",
       "      <td>...</td>\n",
       "      <td>...</td>\n",
       "      <td>...</td>\n",
       "      <td>...</td>\n",
       "      <td>...</td>\n",
       "      <td>...</td>\n",
       "      <td>...</td>\n",
       "      <td>...</td>\n",
       "      <td>...</td>\n",
       "      <td>...</td>\n",
       "    </tr>\n",
       "    <tr>\n",
       "      <th>97538</th>\n",
       "      <td>0.0</td>\n",
       "      <td>0.0</td>\n",
       "      <td>0.0</td>\n",
       "      <td>0.0</td>\n",
       "      <td>0.0</td>\n",
       "      <td>0.0</td>\n",
       "      <td>0.000000</td>\n",
       "      <td>0.0</td>\n",
       "      <td>0.0</td>\n",
       "      <td>0.0</td>\n",
       "      <td>...</td>\n",
       "      <td>0.0</td>\n",
       "      <td>0.0</td>\n",
       "      <td>0.0</td>\n",
       "      <td>0.0</td>\n",
       "      <td>0.0</td>\n",
       "      <td>0.0</td>\n",
       "      <td>0.0</td>\n",
       "      <td>0.0</td>\n",
       "      <td>0.000000</td>\n",
       "      <td>0.0</td>\n",
       "    </tr>\n",
       "    <tr>\n",
       "      <th>97539</th>\n",
       "      <td>0.0</td>\n",
       "      <td>0.0</td>\n",
       "      <td>0.0</td>\n",
       "      <td>0.0</td>\n",
       "      <td>0.0</td>\n",
       "      <td>0.0</td>\n",
       "      <td>0.000000</td>\n",
       "      <td>0.0</td>\n",
       "      <td>0.0</td>\n",
       "      <td>0.0</td>\n",
       "      <td>...</td>\n",
       "      <td>0.0</td>\n",
       "      <td>0.0</td>\n",
       "      <td>0.0</td>\n",
       "      <td>0.0</td>\n",
       "      <td>0.0</td>\n",
       "      <td>0.0</td>\n",
       "      <td>0.0</td>\n",
       "      <td>0.0</td>\n",
       "      <td>0.000000</td>\n",
       "      <td>0.0</td>\n",
       "    </tr>\n",
       "    <tr>\n",
       "      <th>97540</th>\n",
       "      <td>0.0</td>\n",
       "      <td>0.0</td>\n",
       "      <td>0.0</td>\n",
       "      <td>0.0</td>\n",
       "      <td>0.0</td>\n",
       "      <td>0.0</td>\n",
       "      <td>0.000000</td>\n",
       "      <td>0.0</td>\n",
       "      <td>0.0</td>\n",
       "      <td>0.0</td>\n",
       "      <td>...</td>\n",
       "      <td>0.0</td>\n",
       "      <td>0.0</td>\n",
       "      <td>0.0</td>\n",
       "      <td>0.0</td>\n",
       "      <td>0.0</td>\n",
       "      <td>0.0</td>\n",
       "      <td>0.0</td>\n",
       "      <td>0.0</td>\n",
       "      <td>0.602043</td>\n",
       "      <td>0.0</td>\n",
       "    </tr>\n",
       "    <tr>\n",
       "      <th>97541</th>\n",
       "      <td>0.0</td>\n",
       "      <td>0.0</td>\n",
       "      <td>0.0</td>\n",
       "      <td>0.0</td>\n",
       "      <td>0.0</td>\n",
       "      <td>0.0</td>\n",
       "      <td>0.000000</td>\n",
       "      <td>0.0</td>\n",
       "      <td>0.0</td>\n",
       "      <td>0.0</td>\n",
       "      <td>...</td>\n",
       "      <td>0.0</td>\n",
       "      <td>0.0</td>\n",
       "      <td>0.0</td>\n",
       "      <td>0.0</td>\n",
       "      <td>0.0</td>\n",
       "      <td>0.0</td>\n",
       "      <td>0.0</td>\n",
       "      <td>0.0</td>\n",
       "      <td>0.000000</td>\n",
       "      <td>0.0</td>\n",
       "    </tr>\n",
       "    <tr>\n",
       "      <th>97542</th>\n",
       "      <td>0.0</td>\n",
       "      <td>0.0</td>\n",
       "      <td>0.0</td>\n",
       "      <td>0.0</td>\n",
       "      <td>0.0</td>\n",
       "      <td>0.0</td>\n",
       "      <td>0.000000</td>\n",
       "      <td>0.0</td>\n",
       "      <td>0.0</td>\n",
       "      <td>0.0</td>\n",
       "      <td>...</td>\n",
       "      <td>0.0</td>\n",
       "      <td>0.0</td>\n",
       "      <td>0.0</td>\n",
       "      <td>0.0</td>\n",
       "      <td>0.0</td>\n",
       "      <td>0.0</td>\n",
       "      <td>0.0</td>\n",
       "      <td>0.0</td>\n",
       "      <td>0.000000</td>\n",
       "      <td>0.0</td>\n",
       "    </tr>\n",
       "  </tbody>\n",
       "</table>\n",
       "<p>97543 rows × 106 columns</p>\n",
       "</div>"
      ],
      "text/plain": [
       "       after using  all day  all the  and does  and doesn  and has  and have  \\\n",
       "0              0.0      0.0      0.0       0.0        0.0      0.0  0.000000   \n",
       "1              0.0      0.0      0.0       0.0        0.0      0.0  0.000000   \n",
       "2              0.0      0.0      0.0       0.0        0.0      0.0  0.540145   \n",
       "3              0.0      0.0      0.0       0.0        0.0      0.0  0.000000   \n",
       "4              0.0      0.0      0.0       0.0        0.0      0.0  0.000000   \n",
       "...            ...      ...      ...       ...        ...      ...       ...   \n",
       "97538          0.0      0.0      0.0       0.0        0.0      0.0  0.000000   \n",
       "97539          0.0      0.0      0.0       0.0        0.0      0.0  0.000000   \n",
       "97540          0.0      0.0      0.0       0.0        0.0      0.0  0.000000   \n",
       "97541          0.0      0.0      0.0       0.0        0.0      0.0  0.000000   \n",
       "97542          0.0      0.0      0.0       0.0        0.0      0.0  0.000000   \n",
       "\n",
       "       and love  and not  and the  ...  works great  works well  worth the  \\\n",
       "0           0.0      0.0      0.0  ...          0.0         0.0        0.0   \n",
       "1           0.0      0.0      0.0  ...          0.0         0.0        0.0   \n",
       "2           0.0      0.0      0.0  ...          0.0         0.0        0.0   \n",
       "3           0.0      0.0      0.0  ...          0.0         0.0        0.0   \n",
       "4           0.0      0.0      0.0  ...          0.0         0.0        0.0   \n",
       "...         ...      ...      ...  ...          ...         ...        ...   \n",
       "97538       0.0      0.0      0.0  ...          0.0         0.0        0.0   \n",
       "97539       0.0      0.0      0.0  ...          0.0         0.0        0.0   \n",
       "97540       0.0      0.0      0.0  ...          0.0         0.0        0.0   \n",
       "97541       0.0      0.0      0.0  ...          0.0         0.0        0.0   \n",
       "97542       0.0      0.0      0.0  ...          0.0         0.0        0.0   \n",
       "\n",
       "       years and  you are  you can  you have  your face  your hair  your skin  \n",
       "0            0.0      0.0      0.0       0.0        0.0   0.000000        0.0  \n",
       "1            0.0      0.0      0.0       0.0        0.0   0.000000        0.0  \n",
       "2            0.0      0.0      0.0       0.0        0.0   0.000000        0.0  \n",
       "3            0.0      0.0      0.0       0.0        0.0   0.000000        0.0  \n",
       "4            0.0      0.0      0.0       0.0        0.0   0.000000        0.0  \n",
       "...          ...      ...      ...       ...        ...        ...        ...  \n",
       "97538        0.0      0.0      0.0       0.0        0.0   0.000000        0.0  \n",
       "97539        0.0      0.0      0.0       0.0        0.0   0.000000        0.0  \n",
       "97540        0.0      0.0      0.0       0.0        0.0   0.602043        0.0  \n",
       "97541        0.0      0.0      0.0       0.0        0.0   0.000000        0.0  \n",
       "97542        0.0      0.0      0.0       0.0        0.0   0.000000        0.0  \n",
       "\n",
       "[97543 rows x 106 columns]"
      ]
     },
     "execution_count": 51,
     "metadata": {},
     "output_type": "execute_result"
    }
   ],
   "source": [
    "from sklearn.feature_extraction.text import (CountVectorizer, \n",
    "                                             TfidfVectorizer,\n",
    "                                             TfidfTransformer)\n",
    "\n",
    "vectorizer = TfidfVectorizer(analyzer='word', \n",
    "                              token_pattern=r'\\b[a-zA-Z]{3,}\\b',  \n",
    "                              ngram_range=(2, 2),\n",
    "                              min_df = 0.01)  # only bigrams\n",
    "vectorized = vectorizer.fit_transform(X_remainder1['reviewText'])\n",
    "pd.DataFrame(vectorized.toarray(), \n",
    "             columns=vectorizer.get_feature_names_out())"
   ]
  },
  {
   "cell_type": "code",
   "execution_count": 63,
   "id": "d7cbbb40",
   "metadata": {},
   "outputs": [],
   "source": [
    "review_word_counts_TFIDF = pd.DataFrame(\n",
    "    {\"words\": vectorizer.get_feature_names_out(),\n",
    "    \"counts\": vectorized.toarray().sum(axis=0)\n",
    "     }\n",
    ").sort_values(\"counts\", ascending=False).reset_index().drop(columns = \"index\")"
   ]
  },
  {
   "cell_type": "code",
   "execution_count": 64,
   "id": "b9148d1a",
   "metadata": {},
   "outputs": [
    {
     "data": {
      "text/html": [
       "<div>\n",
       "<style scoped>\n",
       "    .dataframe tbody tr th:only-of-type {\n",
       "        vertical-align: middle;\n",
       "    }\n",
       "\n",
       "    .dataframe tbody tr th {\n",
       "        vertical-align: top;\n",
       "    }\n",
       "\n",
       "    .dataframe thead th {\n",
       "        text-align: right;\n",
       "    }\n",
       "</style>\n",
       "<table border=\"1\" class=\"dataframe\">\n",
       "  <thead>\n",
       "    <tr style=\"text-align: right;\">\n",
       "      <th></th>\n",
       "      <th>words</th>\n",
       "      <th>counts</th>\n",
       "    </tr>\n",
       "  </thead>\n",
       "  <tbody>\n",
       "    <tr>\n",
       "      <th>0</th>\n",
       "      <td>this product</td>\n",
       "      <td>5088.781478</td>\n",
       "    </tr>\n",
       "    <tr>\n",
       "      <th>1</th>\n",
       "      <td>love this</td>\n",
       "      <td>4707.565899</td>\n",
       "    </tr>\n",
       "    <tr>\n",
       "      <th>2</th>\n",
       "      <td>great product</td>\n",
       "      <td>2532.613917</td>\n",
       "    </tr>\n",
       "    <tr>\n",
       "      <th>3</th>\n",
       "      <td>the best</td>\n",
       "      <td>2369.733561</td>\n",
       "    </tr>\n",
       "    <tr>\n",
       "      <th>4</th>\n",
       "      <td>and the</td>\n",
       "      <td>2178.265576</td>\n",
       "    </tr>\n",
       "    <tr>\n",
       "      <th>...</th>\n",
       "      <td>...</td>\n",
       "      <td>...</td>\n",
       "    </tr>\n",
       "    <tr>\n",
       "      <th>101</th>\n",
       "      <td>the other</td>\n",
       "      <td>506.302426</td>\n",
       "    </tr>\n",
       "    <tr>\n",
       "      <th>102</th>\n",
       "      <td>when you</td>\n",
       "      <td>494.207032</td>\n",
       "    </tr>\n",
       "    <tr>\n",
       "      <th>103</th>\n",
       "      <td>because the</td>\n",
       "      <td>493.501642</td>\n",
       "    </tr>\n",
       "    <tr>\n",
       "      <th>104</th>\n",
       "      <td>you are</td>\n",
       "      <td>493.434429</td>\n",
       "    </tr>\n",
       "    <tr>\n",
       "      <th>105</th>\n",
       "      <td>first time</td>\n",
       "      <td>480.794397</td>\n",
       "    </tr>\n",
       "  </tbody>\n",
       "</table>\n",
       "<p>106 rows × 2 columns</p>\n",
       "</div>"
      ],
      "text/plain": [
       "             words       counts\n",
       "0     this product  5088.781478\n",
       "1        love this  4707.565899\n",
       "2    great product  2532.613917\n",
       "3         the best  2369.733561\n",
       "4          and the  2178.265576\n",
       "..             ...          ...\n",
       "101      the other   506.302426\n",
       "102       when you   494.207032\n",
       "103    because the   493.501642\n",
       "104        you are   493.434429\n",
       "105     first time   480.794397\n",
       "\n",
       "[106 rows x 2 columns]"
      ]
     },
     "execution_count": 64,
     "metadata": {},
     "output_type": "execute_result"
    }
   ],
   "source": [
    "review_word_counts_TFIDF"
   ]
  },
  {
   "cell_type": "code",
   "execution_count": 70,
   "id": "2e71b32f",
   "metadata": {},
   "outputs": [],
   "source": [
    "#count vectorizer function\n",
    "from sklearn.compose import ColumnTransformer\n",
    "from sklearn.feature_extraction.text import CountVectorizer\n",
    "\n",
    "\n",
    "cv = ColumnTransformer([\n",
    "        ('TFIDF', TfidfVectorizer(min_df=6, max_features=None, strip_accents='unicode', \n",
    "                                  analyzer=\"word\", token_pattern=r'\\w{1,}', ngram_range=(1, 2)), 'reviewText')\n",
    "    ],\n",
    "    remainder='passthrough'\n",
    ")\n",
    "\n"
   ]
  },
  {
   "cell_type": "code",
   "execution_count": 77,
   "id": "e4811e5a",
   "metadata": {},
   "outputs": [],
   "source": [
    "from sklearn.pipeline import Pipeline\n",
    "from tempfile import mkdtemp\n",
    "cachedir = mkdtemp()\n",
    "\n",
    "#we give our estimators as a list of tuples: name:function.\n",
    "pipe_vec = [('vectorize', cv)]\n",
    "pipe_vec_test = Pipeline(pipe_vec,verbose=4, memory=cachedir)\n"
   ]
  },
  {
   "cell_type": "code",
   "execution_count": 79,
   "id": "a16cc0dd",
   "metadata": {},
   "outputs": [
    {
     "name": "stdout",
     "output_type": "stream",
     "text": [
      "[Pipeline] ......... (step 1 of 1) Processing vectorize, total=  13.5s\n"
     ]
    }
   ],
   "source": [
    "Xtr = pipe_vec_test.fit_transform(X_remainder1)\n",
    "vec = pipe_vec_test.named_steps['vectorize']\n",
    "features = vec.get_feature_names_out()\n"
   ]
  },
  {
   "cell_type": "code",
   "execution_count": 81,
   "id": "cfb3386a",
   "metadata": {},
   "outputs": [],
   "source": [
    "def top_tfidf_feats(row, features, top_n=25):\n",
    "    ''' Get top n tfidf values in row and return them with their corresponding feature names.'''\n",
    "    topn_ids = np.argsort(row)[::-1][:top_n]\n",
    "    top_feats = [(features[i], row[i]) for i in topn_ids]\n",
    "    df = pd.DataFrame(top_feats)\n",
    "    df.columns = ['feature', 'tfidf']\n",
    "    return df"
   ]
  },
  {
   "cell_type": "code",
   "execution_count": 83,
   "id": "a7a099d1",
   "metadata": {},
   "outputs": [],
   "source": [
    "def top_feats_in_doc(Xtr, features, row_id, top_n=25):\n",
    "#Top tfidf features in specific document (matrix row) \n",
    "    row = np.squeeze(Xtr[row_id].toarray())\n",
    "    return top_tfidf_feats(row, features, top_n)"
   ]
  },
  {
   "cell_type": "code",
   "execution_count": 89,
   "id": "309473c9",
   "metadata": {},
   "outputs": [
    {
     "data": {
      "text/html": [
       "<div>\n",
       "<style scoped>\n",
       "    .dataframe tbody tr th:only-of-type {\n",
       "        vertical-align: middle;\n",
       "    }\n",
       "\n",
       "    .dataframe tbody tr th {\n",
       "        vertical-align: top;\n",
       "    }\n",
       "\n",
       "    .dataframe thead th {\n",
       "        text-align: right;\n",
       "    }\n",
       "</style>\n",
       "<table border=\"1\" class=\"dataframe\">\n",
       "  <thead>\n",
       "    <tr style=\"text-align: right;\">\n",
       "      <th></th>\n",
       "      <th>feature</th>\n",
       "      <th>tfidf</th>\n",
       "    </tr>\n",
       "  </thead>\n",
       "  <tbody>\n",
       "    <tr>\n",
       "      <th>0</th>\n",
       "      <td>remainder__ranking</td>\n",
       "      <td>752.000000</td>\n",
       "    </tr>\n",
       "    <tr>\n",
       "      <th>1</th>\n",
       "      <td>remainder__price_USD</td>\n",
       "      <td>10.000000</td>\n",
       "    </tr>\n",
       "    <tr>\n",
       "      <th>2</th>\n",
       "      <td>remainder__overall</td>\n",
       "      <td>5.000000</td>\n",
       "    </tr>\n",
       "    <tr>\n",
       "      <th>3</th>\n",
       "      <td>remainder__m_Other</td>\n",
       "      <td>1.000000</td>\n",
       "    </tr>\n",
       "    <tr>\n",
       "      <th>4</th>\n",
       "      <td>remainder__c_skincare</td>\n",
       "      <td>1.000000</td>\n",
       "    </tr>\n",
       "    <tr>\n",
       "      <th>5</th>\n",
       "      <td>remainder__verified</td>\n",
       "      <td>1.000000</td>\n",
       "    </tr>\n",
       "    <tr>\n",
       "      <th>6</th>\n",
       "      <td>TFIDF__cost</td>\n",
       "      <td>0.129623</td>\n",
       "    </tr>\n",
       "    <tr>\n",
       "      <th>7</th>\n",
       "      <td>TFIDF__that</td>\n",
       "      <td>0.120972</td>\n",
       "    </tr>\n",
       "    <tr>\n",
       "      <th>8</th>\n",
       "      <td>TFIDF__old razor</td>\n",
       "      <td>0.118558</td>\n",
       "    </tr>\n",
       "    <tr>\n",
       "      <th>9</th>\n",
       "      <td>TFIDF__purchase price</td>\n",
       "      <td>0.117056</td>\n",
       "    </tr>\n",
       "    <tr>\n",
       "      <th>10</th>\n",
       "      <td>TFIDF__shaving</td>\n",
       "      <td>0.116665</td>\n",
       "    </tr>\n",
       "    <tr>\n",
       "      <th>11</th>\n",
       "      <td>TFIDF__razor</td>\n",
       "      <td>0.116096</td>\n",
       "    </tr>\n",
       "    <tr>\n",
       "      <th>12</th>\n",
       "      <td>TFIDF__now look</td>\n",
       "      <td>0.115732</td>\n",
       "    </tr>\n",
       "    <tr>\n",
       "      <th>13</th>\n",
       "      <td>TFIDF__two week</td>\n",
       "      <td>0.115732</td>\n",
       "    </tr>\n",
       "    <tr>\n",
       "      <th>14</th>\n",
       "      <td>TFIDF__of for</td>\n",
       "      <td>0.115732</td>\n",
       "    </tr>\n",
       "    <tr>\n",
       "      <th>15</th>\n",
       "      <td>TFIDF__the total</td>\n",
       "      <td>0.114547</td>\n",
       "    </tr>\n",
       "    <tr>\n",
       "      <th>16</th>\n",
       "      <td>TFIDF__a pen</td>\n",
       "      <td>0.112496</td>\n",
       "    </tr>\n",
       "    <tr>\n",
       "      <th>17</th>\n",
       "      <td>TFIDF__speak of</td>\n",
       "      <td>0.111596</td>\n",
       "    </tr>\n",
       "    <tr>\n",
       "      <th>18</th>\n",
       "      <td>TFIDF__different shaving</td>\n",
       "      <td>0.111596</td>\n",
       "    </tr>\n",
       "    <tr>\n",
       "      <th>19</th>\n",
       "      <td>TFIDF__have used</td>\n",
       "      <td>0.110911</td>\n",
       "    </tr>\n",
       "    <tr>\n",
       "      <th>20</th>\n",
       "      <td>TFIDF__week old</td>\n",
       "      <td>0.110763</td>\n",
       "    </tr>\n",
       "    <tr>\n",
       "      <th>21</th>\n",
       "      <td>TFIDF__refreshing to</td>\n",
       "      <td>0.109261</td>\n",
       "    </tr>\n",
       "    <tr>\n",
       "      <th>22</th>\n",
       "      <td>TFIDF__can think</td>\n",
       "      <td>0.107937</td>\n",
       "    </tr>\n",
       "    <tr>\n",
       "      <th>23</th>\n",
       "      <td>TFIDF__no razor</td>\n",
       "      <td>0.106752</td>\n",
       "    </tr>\n",
       "    <tr>\n",
       "      <th>24</th>\n",
       "      <td>TFIDF__get is</td>\n",
       "      <td>0.106752</td>\n",
       "    </tr>\n",
       "  </tbody>\n",
       "</table>\n",
       "</div>"
      ],
      "text/plain": [
       "                     feature       tfidf\n",
       "0         remainder__ranking  752.000000\n",
       "1       remainder__price_USD   10.000000\n",
       "2         remainder__overall    5.000000\n",
       "3         remainder__m_Other    1.000000\n",
       "4      remainder__c_skincare    1.000000\n",
       "5        remainder__verified    1.000000\n",
       "6                TFIDF__cost    0.129623\n",
       "7                TFIDF__that    0.120972\n",
       "8           TFIDF__old razor    0.118558\n",
       "9      TFIDF__purchase price    0.117056\n",
       "10            TFIDF__shaving    0.116665\n",
       "11              TFIDF__razor    0.116096\n",
       "12           TFIDF__now look    0.115732\n",
       "13           TFIDF__two week    0.115732\n",
       "14             TFIDF__of for    0.115732\n",
       "15          TFIDF__the total    0.114547\n",
       "16              TFIDF__a pen    0.112496\n",
       "17           TFIDF__speak of    0.111596\n",
       "18  TFIDF__different shaving    0.111596\n",
       "19          TFIDF__have used    0.110911\n",
       "20           TFIDF__week old    0.110763\n",
       "21      TFIDF__refreshing to    0.109261\n",
       "22          TFIDF__can think    0.107937\n",
       "23           TFIDF__no razor    0.106752\n",
       "24             TFIDF__get is    0.106752"
      ]
     },
     "execution_count": 89,
     "metadata": {},
     "output_type": "execute_result"
    }
   ],
   "source": [
    "top_feats_in_doc(Xtr, features, 1, top_n=25)"
   ]
  },
  {
   "attachments": {},
   "cell_type": "markdown",
   "id": "69b1c46f",
   "metadata": {},
   "source": [
    "### Using stemming "
   ]
  },
  {
   "cell_type": "code",
   "execution_count": null,
   "id": "de285e68",
   "metadata": {},
   "outputs": [],
   "source": []
  },
  {
   "cell_type": "code",
   "execution_count": null,
   "id": "911aa0de",
   "metadata": {},
   "outputs": [],
   "source": []
  },
  {
   "cell_type": "code",
   "execution_count": null,
   "id": "ce8d92a5",
   "metadata": {},
   "outputs": [],
   "source": []
  },
  {
   "cell_type": "code",
   "execution_count": null,
   "id": "edf4f011",
   "metadata": {},
   "outputs": [],
   "source": []
  },
  {
   "cell_type": "code",
   "execution_count": null,
   "id": "4e59336e",
   "metadata": {},
   "outputs": [],
   "source": []
  },
  {
   "cell_type": "code",
   "execution_count": 24,
   "id": "28854011",
   "metadata": {
    "colab": {
     "base_uri": "https://localhost:8080/",
     "height": 87
    },
    "id": "28854011",
    "outputId": "6e931058-cc63-4d0a-d69a-3ce6e1195f33"
   },
   "outputs": [
    {
     "data": {
      "text/plain": [
       "\"\\ndef top_feats_by_class(Xtr, y, features, min_tfidf=0.1, top_n=25):\\n    ''' Return a list of dfs, where each df holds top_n features and their mean tfidf value\\n        calculated across documents with the same class label. '''\\n    dfs = []\\n    labels = np.unique(y)\\n    for label in labels:\\n        ids = np.where(y==label)\\n        feats_df = top_mean_feats(Xtr, features, ids, min_tfidf=min_tfidf, top_n=top_n)\\n        feats_df.label = label\\n        dfs.append(feats_df)\\n    return dfs\\n    \""
      ]
     },
     "execution_count": 24,
     "metadata": {},
     "output_type": "execute_result"
    }
   ],
   "source": [
    "\"\"\"\n",
    "def top_feats_by_class(Xtr, y, features, min_tfidf=0.1, top_n=25):\n",
    "    ''' Return a list of dfs, where each df holds top_n features and their mean tfidf value\n",
    "        calculated across documents with the same class label. '''\n",
    "    dfs = []\n",
    "    labels = np.unique(y)\n",
    "    for label in labels:\n",
    "        ids = np.where(y==label)\n",
    "        feats_df = top_mean_feats(Xtr, features, ids, min_tfidf=min_tfidf, top_n=top_n)\n",
    "        feats_df.label = label\n",
    "        dfs.append(feats_df)\n",
    "    return dfs\n",
    "    \"\"\""
   ]
  },
  {
   "cell_type": "markdown",
   "id": "2cdcd7b1",
   "metadata": {
    "id": "2cdcd7b1"
   },
   "source": [
    "## Setting up pipeline"
   ]
  },
  {
   "cell_type": "code",
   "execution_count": 121,
   "id": "1069a88d",
   "metadata": {
    "colab": {
     "base_uri": "https://localhost:8080/",
     "height": 275
    },
    "id": "1069a88d",
    "outputId": "80284d6e-0054-4cd7-831a-318c014e6446"
   },
   "outputs": [
    {
     "data": {
      "text/html": [
       "<div>\n",
       "<style scoped>\n",
       "    .dataframe tbody tr th:only-of-type {\n",
       "        vertical-align: middle;\n",
       "    }\n",
       "\n",
       "    .dataframe tbody tr th {\n",
       "        vertical-align: top;\n",
       "    }\n",
       "\n",
       "    .dataframe thead th {\n",
       "        text-align: right;\n",
       "    }\n",
       "</style>\n",
       "<table border=\"1\" class=\"dataframe\">\n",
       "  <thead>\n",
       "    <tr style=\"text-align: right;\">\n",
       "      <th></th>\n",
       "      <th>overall</th>\n",
       "      <th>vote</th>\n",
       "      <th>verified</th>\n",
       "      <th>reviewText</th>\n",
       "      <th>trending_asin</th>\n",
       "      <th>price_USD</th>\n",
       "      <th>ranking</th>\n",
       "      <th>also_buy_counts</th>\n",
       "      <th>also_view_counts</th>\n",
       "      <th>c_accessories</th>\n",
       "      <th>...</th>\n",
       "      <th>m_Pureology</th>\n",
       "      <th>m_RUSK</th>\n",
       "      <th>m_Red Flower</th>\n",
       "      <th>m_Rene Furterer</th>\n",
       "      <th>m_Stila</th>\n",
       "      <th>m_StriVectin</th>\n",
       "      <th>m_TS</th>\n",
       "      <th>m_The Art of Shaving</th>\n",
       "      <th>m_Vichy</th>\n",
       "      <th>m_theBalm</th>\n",
       "    </tr>\n",
       "  </thead>\n",
       "  <tbody>\n",
       "    <tr>\n",
       "      <th>0</th>\n",
       "      <td>5.0</td>\n",
       "      <td>0.0</td>\n",
       "      <td>1</td>\n",
       "      <td>Bought for my daughter.</td>\n",
       "      <td>0</td>\n",
       "      <td>30.0</td>\n",
       "      <td>4324.0</td>\n",
       "      <td>56.0</td>\n",
       "      <td>48.0</td>\n",
       "      <td>0.0</td>\n",
       "      <td>...</td>\n",
       "      <td>0.0</td>\n",
       "      <td>0.0</td>\n",
       "      <td>0.0</td>\n",
       "      <td>0.0</td>\n",
       "      <td>0.0</td>\n",
       "      <td>0.0</td>\n",
       "      <td>0.0</td>\n",
       "      <td>0.0</td>\n",
       "      <td>0.0</td>\n",
       "      <td>0.0</td>\n",
       "    </tr>\n",
       "    <tr>\n",
       "      <th>1</th>\n",
       "      <td>5.0</td>\n",
       "      <td>0.0</td>\n",
       "      <td>1</td>\n",
       "      <td>Great cream for the skin.</td>\n",
       "      <td>0</td>\n",
       "      <td>30.0</td>\n",
       "      <td>4324.0</td>\n",
       "      <td>56.0</td>\n",
       "      <td>48.0</td>\n",
       "      <td>0.0</td>\n",
       "      <td>...</td>\n",
       "      <td>0.0</td>\n",
       "      <td>0.0</td>\n",
       "      <td>0.0</td>\n",
       "      <td>0.0</td>\n",
       "      <td>0.0</td>\n",
       "      <td>0.0</td>\n",
       "      <td>0.0</td>\n",
       "      <td>0.0</td>\n",
       "      <td>0.0</td>\n",
       "      <td>0.0</td>\n",
       "    </tr>\n",
       "  </tbody>\n",
       "</table>\n",
       "<p>2 rows × 61 columns</p>\n",
       "</div>"
      ],
      "text/plain": [
       "   overall  vote  verified                 reviewText  trending_asin  \\\n",
       "0      5.0   0.0         1    Bought for my daughter.              0   \n",
       "1      5.0   0.0         1  Great cream for the skin.              0   \n",
       "\n",
       "   price_USD  ranking  also_buy_counts  also_view_counts  c_accessories  ...  \\\n",
       "0       30.0   4324.0             56.0              48.0            0.0  ...   \n",
       "1       30.0   4324.0             56.0              48.0            0.0  ...   \n",
       "\n",
       "   m_Pureology  m_RUSK  m_Red Flower  m_Rene Furterer  m_Stila  m_StriVectin  \\\n",
       "0          0.0     0.0           0.0              0.0      0.0           0.0   \n",
       "1          0.0     0.0           0.0              0.0      0.0           0.0   \n",
       "\n",
       "   m_TS  m_The Art of Shaving  m_Vichy  m_theBalm  \n",
       "0   0.0                   0.0      0.0        0.0  \n",
       "1   0.0                   0.0      0.0        0.0  \n",
       "\n",
       "[2 rows x 61 columns]"
      ]
     },
     "execution_count": 121,
     "metadata": {},
     "output_type": "execute_result"
    }
   ],
   "source": [
    "df.head(2)"
   ]
  },
  {
   "cell_type": "code",
   "execution_count": 122,
   "id": "015ae9b1",
   "metadata": {
    "id": "015ae9b1"
   },
   "outputs": [],
   "source": [
    "num_features = ['overall', 'vote', 'verified',\n",
    "       'price_USD', 'ranking', 'also_buy_counts', 'also_view_counts']"
   ]
  },
  {
   "cell_type": "code",
   "execution_count": 123,
   "id": "020ad699",
   "metadata": {
    "id": "020ad699"
   },
   "outputs": [],
   "source": [
    "num_features = df.select_dtypes(include=['int64','float64']).columns\n",
    "num_features = num_features.drop(\"trending_asin\")"
   ]
  },
  {
   "cell_type": "code",
   "execution_count": 124,
   "id": "c6986519",
   "metadata": {
    "colab": {
     "base_uri": "https://localhost:8080/",
     "height": 118
    },
    "id": "c6986519",
    "outputId": "d256f34e-d017-4b2c-e6d7-630822b84dad"
   },
   "outputs": [
    {
     "data": {
      "text/html": [
       "<style>#sk-container-id-3 {color: black;background-color: white;}#sk-container-id-3 pre{padding: 0;}#sk-container-id-3 div.sk-toggleable {background-color: white;}#sk-container-id-3 label.sk-toggleable__label {cursor: pointer;display: block;width: 100%;margin-bottom: 0;padding: 0.3em;box-sizing: border-box;text-align: center;}#sk-container-id-3 label.sk-toggleable__label-arrow:before {content: \"▸\";float: left;margin-right: 0.25em;color: #696969;}#sk-container-id-3 label.sk-toggleable__label-arrow:hover:before {color: black;}#sk-container-id-3 div.sk-estimator:hover label.sk-toggleable__label-arrow:before {color: black;}#sk-container-id-3 div.sk-toggleable__content {max-height: 0;max-width: 0;overflow: hidden;text-align: left;background-color: #f0f8ff;}#sk-container-id-3 div.sk-toggleable__content pre {margin: 0.2em;color: black;border-radius: 0.25em;background-color: #f0f8ff;}#sk-container-id-3 input.sk-toggleable__control:checked~div.sk-toggleable__content {max-height: 200px;max-width: 100%;overflow: auto;}#sk-container-id-3 input.sk-toggleable__control:checked~label.sk-toggleable__label-arrow:before {content: \"▾\";}#sk-container-id-3 div.sk-estimator input.sk-toggleable__control:checked~label.sk-toggleable__label {background-color: #d4ebff;}#sk-container-id-3 div.sk-label input.sk-toggleable__control:checked~label.sk-toggleable__label {background-color: #d4ebff;}#sk-container-id-3 input.sk-hidden--visually {border: 0;clip: rect(1px 1px 1px 1px);clip: rect(1px, 1px, 1px, 1px);height: 1px;margin: -1px;overflow: hidden;padding: 0;position: absolute;width: 1px;}#sk-container-id-3 div.sk-estimator {font-family: monospace;background-color: #f0f8ff;border: 1px dotted black;border-radius: 0.25em;box-sizing: border-box;margin-bottom: 0.5em;}#sk-container-id-3 div.sk-estimator:hover {background-color: #d4ebff;}#sk-container-id-3 div.sk-parallel-item::after {content: \"\";width: 100%;border-bottom: 1px solid gray;flex-grow: 1;}#sk-container-id-3 div.sk-label:hover label.sk-toggleable__label {background-color: #d4ebff;}#sk-container-id-3 div.sk-serial::before {content: \"\";position: absolute;border-left: 1px solid gray;box-sizing: border-box;top: 0;bottom: 0;left: 50%;z-index: 0;}#sk-container-id-3 div.sk-serial {display: flex;flex-direction: column;align-items: center;background-color: white;padding-right: 0.2em;padding-left: 0.2em;position: relative;}#sk-container-id-3 div.sk-item {position: relative;z-index: 1;}#sk-container-id-3 div.sk-parallel {display: flex;align-items: stretch;justify-content: center;background-color: white;position: relative;}#sk-container-id-3 div.sk-item::before, #sk-container-id-3 div.sk-parallel-item::before {content: \"\";position: absolute;border-left: 1px solid gray;box-sizing: border-box;top: 0;bottom: 0;left: 50%;z-index: -1;}#sk-container-id-3 div.sk-parallel-item {display: flex;flex-direction: column;z-index: 1;position: relative;background-color: white;}#sk-container-id-3 div.sk-parallel-item:first-child::after {align-self: flex-end;width: 50%;}#sk-container-id-3 div.sk-parallel-item:last-child::after {align-self: flex-start;width: 50%;}#sk-container-id-3 div.sk-parallel-item:only-child::after {width: 0;}#sk-container-id-3 div.sk-dashed-wrapped {border: 1px dashed gray;margin: 0 0.4em 0.5em 0.4em;box-sizing: border-box;padding-bottom: 0.4em;background-color: white;}#sk-container-id-3 div.sk-label label {font-family: monospace;font-weight: bold;display: inline-block;line-height: 1.2em;}#sk-container-id-3 div.sk-label-container {text-align: center;}#sk-container-id-3 div.sk-container {/* jupyter's `normalize.less` sets `[hidden] { display: none; }` but bootstrap.min.css set `[hidden] { display: none !important; }` so we also need the `!important` here to be able to override the default hidden behavior on the sphinx rendered scikit-learn.org. See: https://github.com/scikit-learn/scikit-learn/issues/21755 */display: inline-block !important;position: relative;}#sk-container-id-3 div.sk-text-repr-fallback {display: none;}</style><div id=\"sk-container-id-3\" class=\"sk-top-container\"><div class=\"sk-text-repr-fallback\"><pre>ColumnTransformer(remainder=&#x27;passthrough&#x27;,\n",
       "                  transformers=[(&#x27;cv&#x27;,\n",
       "                                 CountVectorizer(min_df=0.05,\n",
       "                                                 stop_words=&#x27;english&#x27;),\n",
       "                                 &#x27;reviewText&#x27;),\n",
       "                                (&#x27;scale&#x27;, StandardScaler(),\n",
       "                                 Index([&#x27;overall&#x27;, &#x27;vote&#x27;, &#x27;verified&#x27;, &#x27;price_USD&#x27;, &#x27;ranking&#x27;,\n",
       "       &#x27;also_buy_counts&#x27;, &#x27;also_view_counts&#x27;, &#x27;c_accessories&#x27;,\n",
       "       &#x27;c_bath and shower&#x27;, &#x27;c_fragance&#x27;, &#x27;c_haircare&#x27;, &#x27;c_makeup&#x27;,\n",
       "       &#x27;c_menscare&#x27;, &#x27;c_nails and hands&#x27;, &#x27;c...\n",
       "       &#x27;m_Glo Skin&#x27;, &#x27;m_Jane Iredale&#x27;, &#x27;m_Japonesque&#x27;, &#x27;m_Julep&#x27;,\n",
       "       &#x27;m_L&#x27;occitane &#x27;, &#x27;m_LAFCO&#x27;, &#x27;m_LORAC&#x27;, &#x27;m_La Roche Posay&#x27;,\n",
       "       &#x27;m_Laura Geller&#x27;, &#x27;m_Mario Badescu&#x27;, &#x27;m_Mustela&#x27;, &#x27;m_NUXE&#x27;,\n",
       "       &#x27;m_Natura Bisse&#x27;, &#x27;m_OPI&#x27;, &#x27;m_Oribe&#x27;, &#x27;m_Other&#x27;, &#x27;m_PCA Skin&#x27;,\n",
       "       &#x27;m_Paul Mitchell&#x27;, &#x27;m_Pureology&#x27;, &#x27;m_RUSK&#x27;, &#x27;m_Red Flower&#x27;,\n",
       "       &#x27;m_Rene Furterer&#x27;, &#x27;m_Stila&#x27;, &#x27;m_StriVectin&#x27;, &#x27;m_TS&#x27;,\n",
       "       &#x27;m_The Art of Shaving&#x27;, &#x27;m_Vichy&#x27;, &#x27;m_theBalm&#x27;],\n",
       "      dtype=&#x27;object&#x27;))])</pre><b>In a Jupyter environment, please rerun this cell to show the HTML representation or trust the notebook. <br />On GitHub, the HTML representation is unable to render, please try loading this page with nbviewer.org.</b></div><div class=\"sk-container\" hidden><div class=\"sk-item sk-dashed-wrapped\"><div class=\"sk-label-container\"><div class=\"sk-label sk-toggleable\"><input class=\"sk-toggleable__control sk-hidden--visually\" id=\"sk-estimator-id-15\" type=\"checkbox\" ><label for=\"sk-estimator-id-15\" class=\"sk-toggleable__label sk-toggleable__label-arrow\">ColumnTransformer</label><div class=\"sk-toggleable__content\"><pre>ColumnTransformer(remainder=&#x27;passthrough&#x27;,\n",
       "                  transformers=[(&#x27;cv&#x27;,\n",
       "                                 CountVectorizer(min_df=0.05,\n",
       "                                                 stop_words=&#x27;english&#x27;),\n",
       "                                 &#x27;reviewText&#x27;),\n",
       "                                (&#x27;scale&#x27;, StandardScaler(),\n",
       "                                 Index([&#x27;overall&#x27;, &#x27;vote&#x27;, &#x27;verified&#x27;, &#x27;price_USD&#x27;, &#x27;ranking&#x27;,\n",
       "       &#x27;also_buy_counts&#x27;, &#x27;also_view_counts&#x27;, &#x27;c_accessories&#x27;,\n",
       "       &#x27;c_bath and shower&#x27;, &#x27;c_fragance&#x27;, &#x27;c_haircare&#x27;, &#x27;c_makeup&#x27;,\n",
       "       &#x27;c_menscare&#x27;, &#x27;c_nails and hands&#x27;, &#x27;c...\n",
       "       &#x27;m_Glo Skin&#x27;, &#x27;m_Jane Iredale&#x27;, &#x27;m_Japonesque&#x27;, &#x27;m_Julep&#x27;,\n",
       "       &#x27;m_L&#x27;occitane &#x27;, &#x27;m_LAFCO&#x27;, &#x27;m_LORAC&#x27;, &#x27;m_La Roche Posay&#x27;,\n",
       "       &#x27;m_Laura Geller&#x27;, &#x27;m_Mario Badescu&#x27;, &#x27;m_Mustela&#x27;, &#x27;m_NUXE&#x27;,\n",
       "       &#x27;m_Natura Bisse&#x27;, &#x27;m_OPI&#x27;, &#x27;m_Oribe&#x27;, &#x27;m_Other&#x27;, &#x27;m_PCA Skin&#x27;,\n",
       "       &#x27;m_Paul Mitchell&#x27;, &#x27;m_Pureology&#x27;, &#x27;m_RUSK&#x27;, &#x27;m_Red Flower&#x27;,\n",
       "       &#x27;m_Rene Furterer&#x27;, &#x27;m_Stila&#x27;, &#x27;m_StriVectin&#x27;, &#x27;m_TS&#x27;,\n",
       "       &#x27;m_The Art of Shaving&#x27;, &#x27;m_Vichy&#x27;, &#x27;m_theBalm&#x27;],\n",
       "      dtype=&#x27;object&#x27;))])</pre></div></div></div><div class=\"sk-parallel\"><div class=\"sk-parallel-item\"><div class=\"sk-item\"><div class=\"sk-label-container\"><div class=\"sk-label sk-toggleable\"><input class=\"sk-toggleable__control sk-hidden--visually\" id=\"sk-estimator-id-16\" type=\"checkbox\" ><label for=\"sk-estimator-id-16\" class=\"sk-toggleable__label sk-toggleable__label-arrow\">cv</label><div class=\"sk-toggleable__content\"><pre>reviewText</pre></div></div></div><div class=\"sk-serial\"><div class=\"sk-item\"><div class=\"sk-estimator sk-toggleable\"><input class=\"sk-toggleable__control sk-hidden--visually\" id=\"sk-estimator-id-17\" type=\"checkbox\" ><label for=\"sk-estimator-id-17\" class=\"sk-toggleable__label sk-toggleable__label-arrow\">CountVectorizer</label><div class=\"sk-toggleable__content\"><pre>CountVectorizer(min_df=0.05, stop_words=&#x27;english&#x27;)</pre></div></div></div></div></div></div><div class=\"sk-parallel-item\"><div class=\"sk-item\"><div class=\"sk-label-container\"><div class=\"sk-label sk-toggleable\"><input class=\"sk-toggleable__control sk-hidden--visually\" id=\"sk-estimator-id-18\" type=\"checkbox\" ><label for=\"sk-estimator-id-18\" class=\"sk-toggleable__label sk-toggleable__label-arrow\">scale</label><div class=\"sk-toggleable__content\"><pre>Index([&#x27;overall&#x27;, &#x27;vote&#x27;, &#x27;verified&#x27;, &#x27;price_USD&#x27;, &#x27;ranking&#x27;,\n",
       "       &#x27;also_buy_counts&#x27;, &#x27;also_view_counts&#x27;, &#x27;c_accessories&#x27;,\n",
       "       &#x27;c_bath and shower&#x27;, &#x27;c_fragance&#x27;, &#x27;c_haircare&#x27;, &#x27;c_makeup&#x27;,\n",
       "       &#x27;c_menscare&#x27;, &#x27;c_nails and hands&#x27;, &#x27;c_other&#x27;, &#x27;c_skincare&#x27;, &#x27;c_suncare&#x27;,\n",
       "       &#x27;m_AHAVA&#x27;, &#x27;m_Archipelago&#x27;, &#x27;m_BaBylissPro&#x27;, &#x27;m_Bioelements&#x27;, &#x27;m_Bliss&#x27;,\n",
       "       &#x27;m_Burberry&#x27;, &#x27;m_Butter London&#x27;, &#x27;m_CHI&#x27;, &#x27;m_CND&#x27;, &#x27;m_Calvin Klein&#x27;,\n",
       "       &#x27;m_Crabtree &amp; Evelyn&#x27;, &#x27;m_Davines&#x27;, &#x27;m_Elemis&#x27;, &#x27;m_Elizabeth Arden&#x27;,\n",
       "       &#x27;m_Glo Skin&#x27;, &#x27;m_Jane Iredale&#x27;, &#x27;m_Japonesque&#x27;, &#x27;m_Julep&#x27;,\n",
       "       &#x27;m_L&#x27;occitane &#x27;, &#x27;m_LAFCO&#x27;, &#x27;m_LORAC&#x27;, &#x27;m_La Roche Posay&#x27;,\n",
       "       &#x27;m_Laura Geller&#x27;, &#x27;m_Mario Badescu&#x27;, &#x27;m_Mustela&#x27;, &#x27;m_NUXE&#x27;,\n",
       "       &#x27;m_Natura Bisse&#x27;, &#x27;m_OPI&#x27;, &#x27;m_Oribe&#x27;, &#x27;m_Other&#x27;, &#x27;m_PCA Skin&#x27;,\n",
       "       &#x27;m_Paul Mitchell&#x27;, &#x27;m_Pureology&#x27;, &#x27;m_RUSK&#x27;, &#x27;m_Red Flower&#x27;,\n",
       "       &#x27;m_Rene Furterer&#x27;, &#x27;m_Stila&#x27;, &#x27;m_StriVectin&#x27;, &#x27;m_TS&#x27;,\n",
       "       &#x27;m_The Art of Shaving&#x27;, &#x27;m_Vichy&#x27;, &#x27;m_theBalm&#x27;],\n",
       "      dtype=&#x27;object&#x27;)</pre></div></div></div><div class=\"sk-serial\"><div class=\"sk-item\"><div class=\"sk-estimator sk-toggleable\"><input class=\"sk-toggleable__control sk-hidden--visually\" id=\"sk-estimator-id-19\" type=\"checkbox\" ><label for=\"sk-estimator-id-19\" class=\"sk-toggleable__label sk-toggleable__label-arrow\">StandardScaler</label><div class=\"sk-toggleable__content\"><pre>StandardScaler()</pre></div></div></div></div></div></div><div class=\"sk-parallel-item\"><div class=\"sk-item\"><div class=\"sk-label-container\"><div class=\"sk-label sk-toggleable\"><input class=\"sk-toggleable__control sk-hidden--visually\" id=\"sk-estimator-id-20\" type=\"checkbox\" ><label for=\"sk-estimator-id-20\" class=\"sk-toggleable__label sk-toggleable__label-arrow\">remainder</label><div class=\"sk-toggleable__content\"><pre>[]</pre></div></div></div><div class=\"sk-serial\"><div class=\"sk-item\"><div class=\"sk-estimator sk-toggleable\"><input class=\"sk-toggleable__control sk-hidden--visually\" id=\"sk-estimator-id-21\" type=\"checkbox\" ><label for=\"sk-estimator-id-21\" class=\"sk-toggleable__label sk-toggleable__label-arrow\">passthrough</label><div class=\"sk-toggleable__content\"><pre>passthrough</pre></div></div></div></div></div></div></div></div></div></div>"
      ],
      "text/plain": [
       "ColumnTransformer(remainder='passthrough',\n",
       "                  transformers=[('cv',\n",
       "                                 CountVectorizer(min_df=0.05,\n",
       "                                                 stop_words='english'),\n",
       "                                 'reviewText'),\n",
       "                                ('scale', StandardScaler(),\n",
       "                                 Index(['overall', 'vote', 'verified', 'price_USD', 'ranking',\n",
       "       'also_buy_counts', 'also_view_counts', 'c_accessories',\n",
       "       'c_bath and shower', 'c_fragance', 'c_haircare', 'c_makeup',\n",
       "       'c_menscare', 'c_nails and hands', 'c...\n",
       "       'm_Glo Skin', 'm_Jane Iredale', 'm_Japonesque', 'm_Julep',\n",
       "       'm_L'occitane ', 'm_LAFCO', 'm_LORAC', 'm_La Roche Posay',\n",
       "       'm_Laura Geller', 'm_Mario Badescu', 'm_Mustela', 'm_NUXE',\n",
       "       'm_Natura Bisse', 'm_OPI', 'm_Oribe', 'm_Other', 'm_PCA Skin',\n",
       "       'm_Paul Mitchell', 'm_Pureology', 'm_RUSK', 'm_Red Flower',\n",
       "       'm_Rene Furterer', 'm_Stila', 'm_StriVectin', 'm_TS',\n",
       "       'm_The Art of Shaving', 'm_Vichy', 'm_theBalm'],\n",
       "      dtype='object'))])"
      ]
     },
     "execution_count": 124,
     "metadata": {},
     "output_type": "execute_result"
    }
   ],
   "source": [
    "#count vectorizer function\n",
    "from sklearn.compose import ColumnTransformer\n",
    "from sklearn.feature_extraction.text import CountVectorizer\n",
    "\n",
    "\n",
    "ct = ColumnTransformer([\n",
    "        ('cv', CountVectorizer( stop_words=\"english\",min_df=0.05), 'reviewText'),\n",
    "        ('scale' , StandardScaler(), num_features)\n",
    "    ],\n",
    "    remainder='passthrough'\n",
    ")\n",
    "\n",
    "# 2. Fit \n",
    "ct.fit(X_remainder1_sample)"
   ]
  },
  {
   "cell_type": "code",
   "execution_count": 125,
   "id": "a12af5e6",
   "metadata": {
    "colab": {
     "base_uri": "https://localhost:8080/"
    },
    "id": "a12af5e6",
    "outputId": "48c33d7d-cc06-4113-dd76-f8d8c4010fbc"
   },
   "outputs": [
    {
     "data": {
      "text/plain": [
       "(19508, 91)"
      ]
     },
     "execution_count": 125,
     "metadata": {},
     "output_type": "execute_result"
    }
   ],
   "source": [
    "# 3. Transform\n",
    "X_remainder_cv = ct.transform(X_remainder1_sample)\n",
    "X_remainder_cv.shape"
   ]
  },
  {
   "cell_type": "code",
   "execution_count": 127,
   "id": "c8ee5021",
   "metadata": {
    "id": "c8ee5021"
   },
   "outputs": [],
   "source": [
    "from sklearn.pipeline import Pipeline\n",
    "from tempfile import mkdtemp\n",
    "from sklearn import svm\n",
    "\n",
    "# Set up a directory to cache the pipeline results\n",
    "\n",
    "cachedir = mkdtemp()\n",
    "\n",
    "#we give our estimators as a list of tuples: name:function.\n",
    "pipe_svm = [('transform', ct),\n",
    "           ('dim_reducer', PCA() ),\n",
    "            ('scaler', StandardScaler()),\n",
    "            ('clf', SVC(random_state=10))]\n",
    "\n",
    "pipe = Pipeline(pipe_svm,verbose=4, memory=cachedir)\n"
   ]
  },
  {
   "cell_type": "code",
   "execution_count": null,
   "id": "bd6bbe15",
   "metadata": {
    "colab": {
     "base_uri": "https://localhost:8080/",
     "height": 201
    },
    "id": "bd6bbe15",
    "outputId": "868c8f17-e21b-4ed2-a75b-a650114ca308"
   },
   "outputs": [
    {
     "ename": "NameError",
     "evalue": "ignored",
     "output_type": "error",
     "traceback": [
      "\u001b[0;31m---------------------------------------------------------------------------\u001b[0m",
      "\u001b[0;31mNameError\u001b[0m                                 Traceback (most recent call last)",
      "\u001b[0;32m<ipython-input-43-a60cfe94d3f7>\u001b[0m in \u001b[0;36m<cell line: 1>\u001b[0;34m()\u001b[0m\n\u001b[0;32m----> 1\u001b[0;31m \u001b[0mpipe\u001b[0m\u001b[0;34m.\u001b[0m\u001b[0mfit\u001b[0m\u001b[0;34m(\u001b[0m\u001b[0mX_train\u001b[0m\u001b[0;34m,\u001b[0m \u001b[0my_train\u001b[0m\u001b[0;34m)\u001b[0m \u001b[0;31m#change to X_train, y_train\u001b[0m\u001b[0;34m\u001b[0m\u001b[0;34m\u001b[0m\u001b[0m\n\u001b[0m\u001b[1;32m      2\u001b[0m \u001b[0;34m\u001b[0m\u001b[0m\n\u001b[1;32m      3\u001b[0m \u001b[0mpipe\u001b[0m\u001b[0;34m.\u001b[0m\u001b[0mscore\u001b[0m\u001b[0;34m(\u001b[0m\u001b[0mX_val\u001b[0m\u001b[0;34m,\u001b[0m \u001b[0my_val\u001b[0m\u001b[0;34m)\u001b[0m\u001b[0;34m\u001b[0m\u001b[0;34m\u001b[0m\u001b[0m\n",
      "\u001b[0;31mNameError\u001b[0m: name 'X_train' is not defined"
     ]
    }
   ],
   "source": [
    "#pipe.fit(X_train, y_train) #change to X_train, y_train\n",
    "\n",
    "#pipe.score(X_val, y_val)"
   ]
  },
  {
   "cell_type": "code",
   "execution_count": 110,
   "id": "61c4b94d",
   "metadata": {
    "colab": {
     "base_uri": "https://localhost:8080/"
    },
    "id": "61c4b94d",
    "outputId": "32fe273b-8ecb-4c7b-87aa-5bb2ba20ce2b"
   },
   "outputs": [],
   "source": [
    "#figuring out params\n",
    "# pipe.get_params()"
   ]
  },
  {
   "cell_type": "markdown",
   "id": "4f121f33",
   "metadata": {
    "id": "4f121f33"
   },
   "source": [
    "## Grid Search"
   ]
  },
  {
   "cell_type": "markdown",
   "id": "23b86f61",
   "metadata": {
    "id": "23b86f61"
   },
   "source": [
    "Let's label the initial pieces like the min_df features that will apply across the each model:"
   ]
  },
  {
   "cell_type": "code",
   "execution_count": 113,
   "id": "9dbcbdc4",
   "metadata": {
    "id": "9dbcbdc4"
   },
   "outputs": [],
   "source": [
    "vectorize_mindf_list = [0.03,0.04,0.05]\n",
    "pca_n_components = [0.95,0.90,0.85,0.80]"
   ]
  },
  {
   "cell_type": "markdown",
   "id": "80f49072",
   "metadata": {
    "id": "80f49072"
   },
   "source": [
    "Since I have an imbalanced data set it would be good to look at F1 score, the harmonic mean between recall and precision"
   ]
  },
  {
   "cell_type": "markdown",
   "id": "d4b1cf16",
   "metadata": {
    "id": "d4b1cf16"
   },
   "source": [
    "#### Logistic Regression"
   ]
  },
  {
   "cell_type": "code",
   "execution_count": null,
   "id": "782572a0",
   "metadata": {
    "id": "782572a0"
   },
   "outputs": [],
   "source": [
    "# Range of c-values \n",
    "c_values = [.001 ,0.1, 1, 10, 100, 1000]"
   ]
  },
  {
   "cell_type": "code",
   "execution_count": null,
   "id": "ad8ffdb1",
   "metadata": {
    "id": "ad8ffdb1"
   },
   "outputs": [],
   "source": [
    "# Parameter grid\n",
    "log_param_grid = [\n",
    "  \n",
    "      # l2 without PCA\n",
    "    {'transform__cv__min_df' : vectorize_mindf_list ,\n",
    "     'transform__cv__max_features': [500],\n",
    "     'scaler' : ['passthrough', StandardScaler(with_mean=False),MinMaxScaler()],\n",
    "     'dim_reducer': ['passthrough'],\n",
    "     'clf': [LogisticRegression(solver='lbfgs', random_state=8, n_jobs=-1,max_iter=10000)],\n",
    "     'clf__C': c_values\n",
    "    },\n",
    "    #l2 with PCA\n",
    "     {'transform__cv__min_df' : vectorize_mindf_list ,\n",
    "     'transform__cv__max_features': [500],\n",
    "     'scaler' : ['passthrough', StandardScaler(with_mean=False),MinMaxScaler()],\n",
    "     'dim_reducer': [PCA()],\n",
    "     'dim_reducer__n_components': pca_n_components, \n",
    "     'clf': [LogisticRegression(solver='lbfgs', random_state=8, n_jobs=-1,max_iter=10000)],\n",
    "     'clf__C': c_values\n",
    "    },\n",
    "   \n",
    "     #L1 without PCA \n",
    "    {'transform__cv__min_df' : vectorize_mindf_list ,\n",
    "     'transform__cv__max_features': [500],\n",
    "     'scaler': [StandardScaler(), MinMaxScaler()], \n",
    "     'dim_reducer': ['passthrough'],\n",
    "     'clf' : [LogisticRegression(solver = 'liblinear', penalty='l1', random_state=8, n_jobs=-1,max_iter=10000)],\n",
    "     'clf__C': c_values }\n",
    "]"
   ]
  },
  {
   "cell_type": "code",
   "execution_count": null,
   "id": "e6YaALlyWYIY",
   "metadata": {
    "colab": {
     "base_uri": "https://localhost:8080/"
    },
    "id": "e6YaALlyWYIY",
    "outputId": "2fabcd93-f81c-4728-c699-317468faff3a"
   },
   "outputs": [
    {
     "name": "stdout",
     "output_type": "stream",
     "text": [
      "Fitting 5 folds for each of 100 candidates, totalling 500 fits\n",
      "[Pipeline] ......... (step 1 of 4) Processing transform, total=   1.9s\n",
      "[Pipeline] ....... (step 2 of 4) Processing dim_reducer, total=   0.0s\n",
      "[Pipeline] ............ (step 3 of 4) Processing scaler, total=   0.1s\n"
     ]
    },
    {
     "name": "stderr",
     "output_type": "stream",
     "text": [
      "/usr/local/lib/python3.9/dist-packages/sklearn/linear_model/_logistic.py:1211: UserWarning: 'n_jobs' > 1 does not have any effect when 'solver' is set to 'liblinear'. Got 'n_jobs' = 12.\n",
      "  warnings.warn(\n"
     ]
    },
    {
     "name": "stdout",
     "output_type": "stream",
     "text": [
      "[Pipeline] ............... (step 4 of 4) Processing clf, total=  23.9s\n",
      "[CV 1/5] END clf=LogisticRegression(max_iter=10000, n_jobs=-1, penalty='l1', random_state=8,\n",
      "                   solver='liblinear'), clf__C=1, dim_reducer=passthrough, scaler=MinMaxScaler(), transform__cv__max_features=500, transform__cv__min_df=0.05;, score=0.903 total time=  28.0s\n",
      "[Pipeline] ......... (step 1 of 4) Processing transform, total=   1.9s\n",
      "[Pipeline] ....... (step 2 of 4) Processing dim_reducer, total=   0.0s\n",
      "[Pipeline] ............ (step 3 of 4) Processing scaler, total=   0.1s\n"
     ]
    },
    {
     "name": "stderr",
     "output_type": "stream",
     "text": [
      "/usr/local/lib/python3.9/dist-packages/sklearn/linear_model/_logistic.py:1211: UserWarning: 'n_jobs' > 1 does not have any effect when 'solver' is set to 'liblinear'. Got 'n_jobs' = 12.\n",
      "  warnings.warn(\n"
     ]
    },
    {
     "name": "stdout",
     "output_type": "stream",
     "text": [
      "[Pipeline] ............... (step 4 of 4) Processing clf, total=  23.9s\n",
      "[CV 2/5] END clf=LogisticRegression(max_iter=10000, n_jobs=-1, penalty='l1', random_state=8,\n",
      "                   solver='liblinear'), clf__C=1, dim_reducer=passthrough, scaler=MinMaxScaler(), transform__cv__max_features=500, transform__cv__min_df=0.05;, score=0.900 total time=  28.0s\n",
      "[Pipeline] ......... (step 1 of 4) Processing transform, total=   1.9s\n",
      "[Pipeline] ....... (step 2 of 4) Processing dim_reducer, total=   0.0s\n",
      "[Pipeline] ............ (step 3 of 4) Processing scaler, total=   0.1s\n"
     ]
    },
    {
     "name": "stderr",
     "output_type": "stream",
     "text": [
      "/usr/local/lib/python3.9/dist-packages/sklearn/linear_model/_logistic.py:1211: UserWarning: 'n_jobs' > 1 does not have any effect when 'solver' is set to 'liblinear'. Got 'n_jobs' = 12.\n",
      "  warnings.warn(\n"
     ]
    },
    {
     "name": "stdout",
     "output_type": "stream",
     "text": [
      "[Pipeline] ............... (step 4 of 4) Processing clf, total=  24.4s\n",
      "[CV 3/5] END clf=LogisticRegression(max_iter=10000, n_jobs=-1, penalty='l1', random_state=8,\n",
      "                   solver='liblinear'), clf__C=1, dim_reducer=passthrough, scaler=MinMaxScaler(), transform__cv__max_features=500, transform__cv__min_df=0.05;, score=0.902 total time=  28.5s\n",
      "[Pipeline] ......... (step 1 of 4) Processing transform, total=   1.9s\n",
      "[Pipeline] ....... (step 2 of 4) Processing dim_reducer, total=   0.0s\n",
      "[Pipeline] ............ (step 3 of 4) Processing scaler, total=   0.1s\n"
     ]
    },
    {
     "name": "stderr",
     "output_type": "stream",
     "text": [
      "/usr/local/lib/python3.9/dist-packages/sklearn/linear_model/_logistic.py:1211: UserWarning: 'n_jobs' > 1 does not have any effect when 'solver' is set to 'liblinear'. Got 'n_jobs' = 12.\n",
      "  warnings.warn(\n"
     ]
    },
    {
     "name": "stdout",
     "output_type": "stream",
     "text": [
      "[Pipeline] ............... (step 4 of 4) Processing clf, total=  24.3s\n",
      "[CV 4/5] END clf=LogisticRegression(max_iter=10000, n_jobs=-1, penalty='l1', random_state=8,\n",
      "                   solver='liblinear'), clf__C=1, dim_reducer=passthrough, scaler=MinMaxScaler(), transform__cv__max_features=500, transform__cv__min_df=0.05;, score=0.899 total time=  28.4s\n",
      "[Pipeline] ......... (step 1 of 4) Processing transform, total=   1.9s\n",
      "[Pipeline] ....... (step 2 of 4) Processing dim_reducer, total=   0.0s\n",
      "[Pipeline] ............ (step 3 of 4) Processing scaler, total=   0.1s\n"
     ]
    },
    {
     "name": "stderr",
     "output_type": "stream",
     "text": [
      "/usr/local/lib/python3.9/dist-packages/sklearn/linear_model/_logistic.py:1211: UserWarning: 'n_jobs' > 1 does not have any effect when 'solver' is set to 'liblinear'. Got 'n_jobs' = 12.\n",
      "  warnings.warn(\n"
     ]
    },
    {
     "name": "stdout",
     "output_type": "stream",
     "text": [
      "[Pipeline] ............... (step 4 of 4) Processing clf, total=  23.4s\n",
      "[CV 5/5] END clf=LogisticRegression(max_iter=10000, n_jobs=-1, penalty='l1', random_state=8,\n",
      "                   solver='liblinear'), clf__C=1, dim_reducer=passthrough, scaler=MinMaxScaler(), transform__cv__max_features=500, transform__cv__min_df=0.05;, score=0.901 total time=  27.4s\n",
      "[Pipeline] ......... (step 1 of 4) Processing transform, total=   1.9s\n",
      "[Pipeline] ....... (step 2 of 4) Processing dim_reducer, total=   0.5s\n",
      "[Pipeline] ............ (step 3 of 4) Processing scaler, total=   0.0s\n",
      "[Pipeline] ............... (step 4 of 4) Processing clf, total=  17.9s\n",
      "[CV 1/5] END clf=LogisticRegression(max_iter=10000, n_jobs=-1, random_state=8), clf__C=1, dim_reducer=PCA(), dim_reducer__n_components=0.95, scaler=passthrough, transform__cv__max_features=500, transform__cv__min_df=0.03;, score=0.903 total time=  22.6s\n",
      "[Pipeline] ......... (step 1 of 4) Processing transform, total=   1.9s\n",
      "[Pipeline] ....... (step 2 of 4) Processing dim_reducer, total=   0.6s\n",
      "[Pipeline] ............ (step 3 of 4) Processing scaler, total=   0.0s\n",
      "[Pipeline] ............... (step 4 of 4) Processing clf, total=  21.0s\n",
      "[CV 2/5] END clf=LogisticRegression(max_iter=10000, n_jobs=-1, random_state=8), clf__C=1, dim_reducer=PCA(), dim_reducer__n_components=0.95, scaler=passthrough, transform__cv__max_features=500, transform__cv__min_df=0.03;, score=0.900 total time=  25.8s\n",
      "[Pipeline] ......... (step 1 of 4) Processing transform, total=   1.9s\n",
      "[Pipeline] ....... (step 2 of 4) Processing dim_reducer, total=   0.7s\n",
      "[Pipeline] ............ (step 3 of 4) Processing scaler, total=   0.0s\n",
      "[Pipeline] ............... (step 4 of 4) Processing clf, total=  18.8s\n",
      "[CV 3/5] END clf=LogisticRegression(max_iter=10000, n_jobs=-1, random_state=8), clf__C=1, dim_reducer=PCA(), dim_reducer__n_components=0.95, scaler=passthrough, transform__cv__max_features=500, transform__cv__min_df=0.03;, score=0.902 total time=  23.7s\n",
      "[Pipeline] ......... (step 1 of 4) Processing transform, total=   1.9s\n",
      "[Pipeline] ....... (step 2 of 4) Processing dim_reducer, total=   0.5s\n",
      "[Pipeline] ............ (step 3 of 4) Processing scaler, total=   0.0s\n",
      "[Pipeline] ............... (step 4 of 4) Processing clf, total=  18.9s\n",
      "[CV 4/5] END clf=LogisticRegression(max_iter=10000, n_jobs=-1, random_state=8), clf__C=1, dim_reducer=PCA(), dim_reducer__n_components=0.95, scaler=passthrough, transform__cv__max_features=500, transform__cv__min_df=0.03;, score=0.899 total time=  23.6s\n",
      "[Pipeline] ......... (step 1 of 4) Processing transform, total=   1.9s\n",
      "[Pipeline] ....... (step 2 of 4) Processing dim_reducer, total=   0.7s\n",
      "[Pipeline] ............ (step 3 of 4) Processing scaler, total=   0.0s\n",
      "[Pipeline] ............... (step 4 of 4) Processing clf, total=  21.9s\n",
      "[CV 5/5] END clf=LogisticRegression(max_iter=10000, n_jobs=-1, random_state=8), clf__C=1, dim_reducer=PCA(), dim_reducer__n_components=0.95, scaler=passthrough, transform__cv__max_features=500, transform__cv__min_df=0.03;, score=0.901 total time=  26.7s\n",
      "[Pipeline] ....... (step 2 of 4) Processing dim_reducer, total=   0.4s\n",
      "[Pipeline] ............ (step 3 of 4) Processing scaler, total=   0.0s\n",
      "[Pipeline] ............... (step 4 of 4) Processing clf, total=  13.2s\n",
      "[CV 1/5] END clf=LogisticRegression(max_iter=10000, n_jobs=-1, random_state=8), clf__C=1, dim_reducer=PCA(), dim_reducer__n_components=0.9, scaler=passthrough, transform__cv__max_features=500, transform__cv__min_df=0.05;, score=0.904 total time=  14.9s\n",
      "[Pipeline] ....... (step 2 of 4) Processing dim_reducer, total=   0.5s\n",
      "[Pipeline] ............ (step 3 of 4) Processing scaler, total=   0.0s\n",
      "[Pipeline] ............... (step 4 of 4) Processing clf, total=  11.1s\n",
      "[CV 2/5] END clf=LogisticRegression(max_iter=10000, n_jobs=-1, random_state=8), clf__C=1, dim_reducer=PCA(), dim_reducer__n_components=0.9, scaler=passthrough, transform__cv__max_features=500, transform__cv__min_df=0.05;, score=0.901 total time=  12.8s\n",
      "[Pipeline] ....... (step 2 of 4) Processing dim_reducer, total=   0.5s\n",
      "[Pipeline] ............ (step 3 of 4) Processing scaler, total=   0.0s\n",
      "[Pipeline] ............... (step 4 of 4) Processing clf, total=  11.5s\n",
      "[CV 3/5] END clf=LogisticRegression(max_iter=10000, n_jobs=-1, random_state=8), clf__C=1, dim_reducer=PCA(), dim_reducer__n_components=0.9, scaler=passthrough, transform__cv__max_features=500, transform__cv__min_df=0.05;, score=0.902 total time=  13.3s\n",
      "[Pipeline] ....... (step 2 of 4) Processing dim_reducer, total=   0.4s\n",
      "[Pipeline] ............ (step 3 of 4) Processing scaler, total=   0.0s\n",
      "[Pipeline] ............... (step 4 of 4) Processing clf, total=  14.1s\n",
      "[CV 4/5] END clf=LogisticRegression(max_iter=10000, n_jobs=-1, random_state=8), clf__C=1, dim_reducer=PCA(), dim_reducer__n_components=0.9, scaler=passthrough, transform__cv__max_features=500, transform__cv__min_df=0.05;, score=0.900 total time=  15.7s\n",
      "[Pipeline] ....... (step 2 of 4) Processing dim_reducer, total=   0.3s\n",
      "[Pipeline] ............ (step 3 of 4) Processing scaler, total=   0.0s\n",
      "[Pipeline] ............... (step 4 of 4) Processing clf, total=  11.4s\n",
      "[CV 5/5] END clf=LogisticRegression(max_iter=10000, n_jobs=-1, random_state=8), clf__C=1, dim_reducer=PCA(), dim_reducer__n_components=0.9, scaler=passthrough, transform__cv__max_features=500, transform__cv__min_df=0.05;, score=0.902 total time=  12.9s\n",
      "[Pipeline] ....... (step 2 of 4) Processing dim_reducer, total=   0.5s\n",
      "[Pipeline] ............ (step 3 of 4) Processing scaler, total=   0.0s\n",
      "[Pipeline] ............... (step 4 of 4) Processing clf, total=  13.4s\n",
      "[CV 1/5] END clf=LogisticRegression(max_iter=10000, n_jobs=-1, random_state=8), clf__C=1, dim_reducer=PCA(), dim_reducer__n_components=0.9, scaler=MinMaxScaler(), transform__cv__max_features=500, transform__cv__min_df=0.03;, score=0.905 total time=  15.6s\n",
      "[Pipeline] ....... (step 2 of 4) Processing dim_reducer, total=   0.5s\n",
      "[Pipeline] ............ (step 3 of 4) Processing scaler, total=   0.0s\n",
      "[Pipeline] ............... (step 4 of 4) Processing clf, total=  14.9s\n",
      "[CV 2/5] END clf=LogisticRegression(max_iter=10000, n_jobs=-1, random_state=8), clf__C=1, dim_reducer=PCA(), dim_reducer__n_components=0.9, scaler=MinMaxScaler(), transform__cv__max_features=500, transform__cv__min_df=0.03;, score=0.902 total time=  17.1s\n",
      "[Pipeline] ....... (step 2 of 4) Processing dim_reducer, total=   0.5s\n",
      "[Pipeline] ............ (step 3 of 4) Processing scaler, total=   0.0s\n",
      "[Pipeline] ............... (step 4 of 4) Processing clf, total=  17.6s\n",
      "[CV 3/5] END clf=LogisticRegression(max_iter=10000, n_jobs=-1, random_state=8), clf__C=1, dim_reducer=PCA(), dim_reducer__n_components=0.9, scaler=MinMaxScaler(), transform__cv__max_features=500, transform__cv__min_df=0.03;, score=0.903 total time=  19.8s\n",
      "[Pipeline] ....... (step 2 of 4) Processing dim_reducer, total=   0.6s\n",
      "[Pipeline] ............ (step 3 of 4) Processing scaler, total=   0.0s\n",
      "[Pipeline] ............... (step 4 of 4) Processing clf, total=  16.4s\n",
      "[CV 4/5] END clf=LogisticRegression(max_iter=10000, n_jobs=-1, random_state=8), clf__C=1, dim_reducer=PCA(), dim_reducer__n_components=0.9, scaler=MinMaxScaler(), transform__cv__max_features=500, transform__cv__min_df=0.03;, score=0.901 total time=  18.6s\n",
      "[Pipeline] ....... (step 2 of 4) Processing dim_reducer, total=   0.6s\n",
      "[Pipeline] ............ (step 3 of 4) Processing scaler, total=   0.0s\n",
      "[Pipeline] ............... (step 4 of 4) Processing clf, total=  15.1s\n",
      "[CV 5/5] END clf=LogisticRegression(max_iter=10000, n_jobs=-1, random_state=8), clf__C=1, dim_reducer=PCA(), dim_reducer__n_components=0.9, scaler=MinMaxScaler(), transform__cv__max_features=500, transform__cv__min_df=0.03;, score=0.902 total time=  17.4s\n",
      "[Pipeline] ............... (step 4 of 4) Processing clf, total=  26.1s\n",
      "[CV 1/5] END clf=LogisticRegression(max_iter=10000, n_jobs=-1, random_state=8), clf__C=10, dim_reducer=PCA(), dim_reducer__n_components=0.9, scaler=MinMaxScaler(), transform__cv__max_features=500, transform__cv__min_df=0.03;, score=0.904 total time=  27.2s\n",
      "[Pipeline] ............... (step 4 of 4) Processing clf, total=  25.6s\n",
      "[CV 2/5] END clf=LogisticRegression(max_iter=10000, n_jobs=-1, random_state=8), clf__C=10, dim_reducer=PCA(), dim_reducer__n_components=0.9, scaler=MinMaxScaler(), transform__cv__max_features=500, transform__cv__min_df=0.03;, score=0.901 total time=  26.7s\n",
      "[Pipeline] ............... (step 4 of 4) Processing clf, total=  33.2s\n",
      "[CV 3/5] END clf=LogisticRegression(max_iter=10000, n_jobs=-1, random_state=8), clf__C=10, dim_reducer=PCA(), dim_reducer__n_components=0.9, scaler=MinMaxScaler(), transform__cv__max_features=500, transform__cv__min_df=0.03;, score=0.903 total time=  34.4s\n",
      "[Pipeline] ............... (step 4 of 4) Processing clf, total=  26.6s\n",
      "[CV 4/5] END clf=LogisticRegression(max_iter=10000, n_jobs=-1, random_state=8), clf__C=10, dim_reducer=PCA(), dim_reducer__n_components=0.9, scaler=MinMaxScaler(), transform__cv__max_features=500, transform__cv__min_df=0.03;, score=0.901 total time=  27.7s\n",
      "[Pipeline] ............... (step 4 of 4) Processing clf, total=  27.4s\n",
      "[CV 5/5] END clf=LogisticRegression(max_iter=10000, n_jobs=-1, random_state=8), clf__C=10, dim_reducer=PCA(), dim_reducer__n_components=0.9, scaler=MinMaxScaler(), transform__cv__max_features=500, transform__cv__min_df=0.03;, score=0.902 total time=  28.6s\n",
      "[Pipeline] ............ (step 3 of 4) Processing scaler, total=   0.1s\n",
      "[Pipeline] ............... (step 4 of 4) Processing clf, total=   5.1s\n",
      "[CV 1/5] END clf=LogisticRegression(max_iter=10000, n_jobs=-1, random_state=8), clf__C=0.1, dim_reducer=PCA(), dim_reducer__n_components=0.95, scaler=StandardScaler(with_mean=False), transform__cv__max_features=500, transform__cv__min_df=0.03;, score=0.903 total time=   6.5s\n",
      "[Pipeline] ............ (step 3 of 4) Processing scaler, total=   0.1s\n",
      "[Pipeline] ............... (step 4 of 4) Processing clf, total=   5.2s\n",
      "[CV 2/5] END clf=LogisticRegression(max_iter=10000, n_jobs=-1, random_state=8), clf__C=0.1, dim_reducer=PCA(), dim_reducer__n_components=0.95, scaler=StandardScaler(with_mean=False), transform__cv__max_features=500, transform__cv__min_df=0.03;, score=0.900 total time=   6.6s\n",
      "[Pipeline] ............ (step 3 of 4) Processing scaler, total=   0.1s\n",
      "[Pipeline] ............... (step 4 of 4) Processing clf, total=   5.1s\n",
      "[CV 3/5] END clf=LogisticRegression(max_iter=10000, n_jobs=-1, random_state=8), clf__C=0.1, dim_reducer=PCA(), dim_reducer__n_components=0.95, scaler=StandardScaler(with_mean=False), transform__cv__max_features=500, transform__cv__min_df=0.03;, score=0.902 total time=   6.6s\n",
      "[Pipeline] ............ (step 3 of 4) Processing scaler, total=   0.1s\n",
      "[Pipeline] ............... (step 4 of 4) Processing clf, total=   4.9s\n",
      "[CV 4/5] END clf=LogisticRegression(max_iter=10000, n_jobs=-1, random_state=8), clf__C=0.1, dim_reducer=PCA(), dim_reducer__n_components=0.95, scaler=StandardScaler(with_mean=False), transform__cv__max_features=500, transform__cv__min_df=0.03;, score=0.900 total time=   6.3s\n",
      "[Pipeline] ............ (step 3 of 4) Processing scaler, total=   0.1s\n",
      "[Pipeline] ............... (step 4 of 4) Processing clf, total=   6.2s\n",
      "[CV 5/5] END clf=LogisticRegression(max_iter=10000, n_jobs=-1, random_state=8), clf__C=0.1, dim_reducer=PCA(), dim_reducer__n_components=0.95, scaler=StandardScaler(with_mean=False), transform__cv__max_features=500, transform__cv__min_df=0.03;, score=0.901 total time=   7.6s\n",
      "[Pipeline] ......... (step 1 of 4) Processing transform, total=   1.9s\n",
      "[Pipeline] ....... (step 2 of 4) Processing dim_reducer, total=   0.4s\n",
      "[Pipeline] ............ (step 3 of 4) Processing scaler, total=   0.0s\n",
      "[Pipeline] ............... (step 4 of 4) Processing clf, total=   9.0s\n",
      "[CV 1/5] END clf=LogisticRegression(max_iter=10000, n_jobs=-1, random_state=8), clf__C=1, dim_reducer=PCA(), dim_reducer__n_components=0.85, scaler=passthrough, transform__cv__max_features=500, transform__cv__min_df=0.04;, score=0.904 total time=  13.4s\n",
      "[Pipeline] ......... (step 1 of 4) Processing transform, total=   1.9s\n",
      "[Pipeline] ....... (step 2 of 4) Processing dim_reducer, total=   0.4s\n",
      "[Pipeline] ............ (step 3 of 4) Processing scaler, total=   0.0s\n",
      "[Pipeline] ............... (step 4 of 4) Processing clf, total=   8.8s\n",
      "[CV 2/5] END clf=LogisticRegression(max_iter=10000, n_jobs=-1, random_state=8), clf__C=1, dim_reducer=PCA(), dim_reducer__n_components=0.85, scaler=passthrough, transform__cv__max_features=500, transform__cv__min_df=0.04;, score=0.901 total time=  13.3s\n",
      "[Pipeline] ......... (step 1 of 4) Processing transform, total=   1.9s\n",
      "[Pipeline] ....... (step 2 of 4) Processing dim_reducer, total=   0.4s\n",
      "[Pipeline] ............ (step 3 of 4) Processing scaler, total=   0.0s\n",
      "[Pipeline] ............... (step 4 of 4) Processing clf, total=   9.2s\n",
      "[CV 3/5] END clf=LogisticRegression(max_iter=10000, n_jobs=-1, random_state=8), clf__C=1, dim_reducer=PCA(), dim_reducer__n_components=0.85, scaler=passthrough, transform__cv__max_features=500, transform__cv__min_df=0.04;, score=0.903 total time=  13.7s\n",
      "[Pipeline] ......... (step 1 of 4) Processing transform, total=   1.9s\n",
      "[Pipeline] ....... (step 2 of 4) Processing dim_reducer, total=   0.4s\n",
      "[Pipeline] ............ (step 3 of 4) Processing scaler, total=   0.0s\n",
      "[Pipeline] ............... (step 4 of 4) Processing clf, total=  11.3s\n",
      "[CV 4/5] END clf=LogisticRegression(max_iter=10000, n_jobs=-1, random_state=8), clf__C=1, dim_reducer=PCA(), dim_reducer__n_components=0.85, scaler=passthrough, transform__cv__max_features=500, transform__cv__min_df=0.04;, score=0.901 total time=  15.7s\n",
      "[Pipeline] ......... (step 1 of 4) Processing transform, total=   1.9s\n",
      "[Pipeline] ....... (step 2 of 4) Processing dim_reducer, total=   0.4s\n",
      "[Pipeline] ............ (step 3 of 4) Processing scaler, total=   0.0s\n",
      "[Pipeline] ............... (step 4 of 4) Processing clf, total=   6.8s\n",
      "[CV 5/5] END clf=LogisticRegression(max_iter=10000, n_jobs=-1, random_state=8), clf__C=1, dim_reducer=PCA(), dim_reducer__n_components=0.85, scaler=passthrough, transform__cv__max_features=500, transform__cv__min_df=0.04;, score=0.902 total time=  11.3s\n",
      "[Pipeline] ............ (step 3 of 4) Processing scaler, total=   0.0s\n",
      "[Pipeline] ............... (step 4 of 4) Processing clf, total=   5.1s\n",
      "[CV 1/5] END clf=LogisticRegression(max_iter=10000, n_jobs=-1, random_state=8), clf__C=0.1, dim_reducer=PCA(), dim_reducer__n_components=0.85, scaler=passthrough, transform__cv__max_features=500, transform__cv__min_df=0.04;, score=0.904 total time=   6.1s\n",
      "[Pipeline] ............ (step 3 of 4) Processing scaler, total=   0.0s\n",
      "[Pipeline] ............... (step 4 of 4) Processing clf, total=   5.6s\n",
      "[CV 2/5] END clf=LogisticRegression(max_iter=10000, n_jobs=-1, random_state=8), clf__C=0.1, dim_reducer=PCA(), dim_reducer__n_components=0.85, scaler=passthrough, transform__cv__max_features=500, transform__cv__min_df=0.04;, score=0.901 total time=   6.6s\n",
      "[Pipeline] ............ (step 3 of 4) Processing scaler, total=   0.0s\n",
      "[Pipeline] ............... (step 4 of 4) Processing clf, total=   5.9s\n",
      "[CV 3/5] END clf=LogisticRegression(max_iter=10000, n_jobs=-1, random_state=8), clf__C=0.1, dim_reducer=PCA(), dim_reducer__n_components=0.85, scaler=passthrough, transform__cv__max_features=500, transform__cv__min_df=0.04;, score=0.903 total time=   6.9s\n",
      "[Pipeline] ............ (step 3 of 4) Processing scaler, total=   0.0s\n",
      "[Pipeline] ............... (step 4 of 4) Processing clf, total=   5.6s\n",
      "[CV 4/5] END clf=LogisticRegression(max_iter=10000, n_jobs=-1, random_state=8), clf__C=0.1, dim_reducer=PCA(), dim_reducer__n_components=0.85, scaler=passthrough, transform__cv__max_features=500, transform__cv__min_df=0.04;, score=0.901 total time=   6.6s\n",
      "[Pipeline] ............ (step 3 of 4) Processing scaler, total=   0.0s\n",
      "[Pipeline] ............... (step 4 of 4) Processing clf, total=   5.1s\n",
      "[CV 5/5] END clf=LogisticRegression(max_iter=10000, n_jobs=-1, random_state=8), clf__C=0.1, dim_reducer=PCA(), dim_reducer__n_components=0.85, scaler=passthrough, transform__cv__max_features=500, transform__cv__min_df=0.04;, score=0.902 total time=   6.1s\n",
      "[Pipeline] ....... (step 2 of 4) Processing dim_reducer, total=   0.6s\n",
      "[Pipeline] ............ (step 3 of 4) Processing scaler, total=   0.0s\n",
      "[Pipeline] ............... (step 4 of 4) Processing clf, total=  32.8s\n",
      "[CV 1/5] END clf=LogisticRegression(max_iter=10000, n_jobs=-1, random_state=8), clf__C=100, dim_reducer=PCA(), dim_reducer__n_components=0.8, scaler=MinMaxScaler(), transform__cv__max_features=500, transform__cv__min_df=0.03;, score=0.904 total time=  34.9s\n",
      "[Pipeline] ....... (step 2 of 4) Processing dim_reducer, total=   0.5s\n",
      "[Pipeline] ............ (step 3 of 4) Processing scaler, total=   0.0s\n",
      "[Pipeline] ............... (step 4 of 4) Processing clf, total=  28.7s\n",
      "[CV 2/5] END clf=LogisticRegression(max_iter=10000, n_jobs=-1, random_state=8), clf__C=100, dim_reducer=PCA(), dim_reducer__n_components=0.8, scaler=MinMaxScaler(), transform__cv__max_features=500, transform__cv__min_df=0.03;, score=0.901 total time=  30.9s\n",
      "[Pipeline] ....... (step 2 of 4) Processing dim_reducer, total=   0.6s\n",
      "[Pipeline] ............ (step 3 of 4) Processing scaler, total=   0.0s\n",
      "[Pipeline] ............... (step 4 of 4) Processing clf, total=  34.2s\n",
      "[CV 3/5] END clf=LogisticRegression(max_iter=10000, n_jobs=-1, random_state=8), clf__C=100, dim_reducer=PCA(), dim_reducer__n_components=0.8, scaler=MinMaxScaler(), transform__cv__max_features=500, transform__cv__min_df=0.03;, score=0.902 total time=  36.3s\n",
      "[Pipeline] ....... (step 2 of 4) Processing dim_reducer, total=   0.5s\n",
      "[Pipeline] ............ (step 3 of 4) Processing scaler, total=   0.0s\n",
      "[Pipeline] ............... (step 4 of 4) Processing clf, total=  45.4s\n",
      "[CV 4/5] END clf=LogisticRegression(max_iter=10000, n_jobs=-1, random_state=8), clf__C=100, dim_reducer=PCA(), dim_reducer__n_components=0.8, scaler=MinMaxScaler(), transform__cv__max_features=500, transform__cv__min_df=0.03;, score=0.901 total time=  47.5s\n",
      "[Pipeline] ....... (step 2 of 4) Processing dim_reducer, total=   1.0s\n",
      "[Pipeline] ............ (step 3 of 4) Processing scaler, total=   0.0s\n",
      "[Pipeline] ............... (step 4 of 4) Processing clf, total=  25.2s\n",
      "[CV 5/5] END clf=LogisticRegression(max_iter=10000, n_jobs=-1, random_state=8), clf__C=100, dim_reducer=PCA(), dim_reducer__n_components=0.8, scaler=MinMaxScaler(), transform__cv__max_features=500, transform__cv__min_df=0.03;, score=0.901 total time=  27.9s\n",
      "[Pipeline] ....... (step 2 of 4) Processing dim_reducer, total=   0.4s\n",
      "[Pipeline] ............ (step 3 of 4) Processing scaler, total=   0.0s\n",
      "[Pipeline] ............... (step 4 of 4) Processing clf, total= 2.3min\n",
      "[CV 1/5] END clf=LogisticRegression(max_iter=10000, n_jobs=-1, random_state=8), clf__C=1000, dim_reducer=PCA(), dim_reducer__n_components=0.9, scaler=MinMaxScaler(), transform__cv__max_features=500, transform__cv__min_df=0.04;, score=0.904 total time= 2.4min\n",
      "[Pipeline] ....... (step 2 of 4) Processing dim_reducer, total=   0.4s\n",
      "[Pipeline] ............ (step 3 of 4) Processing scaler, total=   0.0s\n",
      "[Pipeline] ............... (step 4 of 4) Processing clf, total= 1.0min\n",
      "[CV 2/5] END clf=LogisticRegression(max_iter=10000, n_jobs=-1, random_state=8), clf__C=1000, dim_reducer=PCA(), dim_reducer__n_components=0.9, scaler=MinMaxScaler(), transform__cv__max_features=500, transform__cv__min_df=0.04;, score=0.901 total time= 1.1min\n",
      "[Pipeline] ....... (step 2 of 4) Processing dim_reducer, total=   0.4s\n",
      "[Pipeline] ............ (step 3 of 4) Processing scaler, total=   0.0s\n",
      "[Pipeline] ............... (step 4 of 4) Processing clf, total= 1.6min\n",
      "[CV 3/5] END clf=LogisticRegression(max_iter=10000, n_jobs=-1, random_state=8), clf__C=1000, dim_reducer=PCA(), dim_reducer__n_components=0.9, scaler=MinMaxScaler(), transform__cv__max_features=500, transform__cv__min_df=0.04;, score=0.902 total time= 1.7min\n",
      "[Pipeline] ....... (step 2 of 4) Processing dim_reducer, total=   0.4s\n",
      "[Pipeline] ............ (step 3 of 4) Processing scaler, total=   0.0s\n",
      "[Pipeline] ............... (step 4 of 4) Processing clf, total= 2.0min\n",
      "[CV 4/5] END clf=LogisticRegression(max_iter=10000, n_jobs=-1, random_state=8), clf__C=1000, dim_reducer=PCA(), dim_reducer__n_components=0.9, scaler=MinMaxScaler(), transform__cv__max_features=500, transform__cv__min_df=0.04;, score=0.900 total time= 2.0min\n",
      "[Pipeline] ....... (step 2 of 4) Processing dim_reducer, total=   0.6s\n",
      "[Pipeline] ............ (step 3 of 4) Processing scaler, total=   0.0s\n",
      "[Pipeline] ............... (step 4 of 4) Processing clf, total= 1.6min\n",
      "[CV 5/5] END clf=LogisticRegression(max_iter=10000, n_jobs=-1, random_state=8), clf__C=1000, dim_reducer=PCA(), dim_reducer__n_components=0.9, scaler=MinMaxScaler(), transform__cv__max_features=500, transform__cv__min_df=0.04;, score=0.902 total time= 1.6min\n",
      "[Pipeline] ............ (step 3 of 4) Processing scaler, total=   0.0s\n",
      "[Pipeline] ............... (step 4 of 4) Processing clf, total= 1.9min\n",
      "[CV 1/5] END clf=LogisticRegression(max_iter=10000, n_jobs=-1, random_state=8), clf__C=1000, dim_reducer=PCA(), dim_reducer__n_components=0.85, scaler=MinMaxScaler(), transform__cv__max_features=500, transform__cv__min_df=0.04;, score=0.904 total time= 2.0min\n",
      "[Pipeline] ............ (step 3 of 4) Processing scaler, total=   0.0s\n",
      "[Pipeline] ............... (step 4 of 4) Processing clf, total=  50.7s\n",
      "[CV 2/5] END clf=LogisticRegression(max_iter=10000, n_jobs=-1, random_state=8), clf__C=1000, dim_reducer=PCA(), dim_reducer__n_components=0.85, scaler=MinMaxScaler(), transform__cv__max_features=500, transform__cv__min_df=0.04;, score=0.901 total time=  52.1s\n",
      "[Pipeline] ............ (step 3 of 4) Processing scaler, total=   0.0s\n",
      "[Pipeline] ............... (step 4 of 4) Processing clf, total=  43.7s\n",
      "[CV 3/5] END clf=LogisticRegression(max_iter=10000, n_jobs=-1, random_state=8), clf__C=1000, dim_reducer=PCA(), dim_reducer__n_components=0.85, scaler=MinMaxScaler(), transform__cv__max_features=500, transform__cv__min_df=0.04;, score=0.903 total time=  45.1s\n",
      "[Pipeline] ............ (step 3 of 4) Processing scaler, total=   0.0s\n",
      "[Pipeline] ............... (step 4 of 4) Processing clf, total=  49.6s\n",
      "[CV 4/5] END clf=LogisticRegression(max_iter=10000, n_jobs=-1, random_state=8), clf__C=1000, dim_reducer=PCA(), dim_reducer__n_components=0.85, scaler=MinMaxScaler(), transform__cv__max_features=500, transform__cv__min_df=0.04;, score=0.901 total time=  50.9s\n",
      "[Pipeline] ............ (step 3 of 4) Processing scaler, total=   0.0s\n",
      "[Pipeline] ............... (step 4 of 4) Processing clf, total= 1.3min\n",
      "[CV 5/5] END clf=LogisticRegression(max_iter=10000, n_jobs=-1, random_state=8), clf__C=1000, dim_reducer=PCA(), dim_reducer__n_components=0.85, scaler=MinMaxScaler(), transform__cv__max_features=500, transform__cv__min_df=0.04;, score=0.902 total time= 1.3min\n",
      "[Pipeline] ....... (step 2 of 4) Processing dim_reducer, total=   0.0s\n",
      "[Pipeline] ............... (step 4 of 4) Processing clf, total=  46.8s\n",
      "[CV 1/5] END clf=LogisticRegression(max_iter=10000, n_jobs=-1, random_state=8), clf__C=1000, dim_reducer=passthrough, scaler=MinMaxScaler(), transform__cv__max_features=500, transform__cv__min_df=0.05;, score=0.903 total time=  47.9s\n",
      "[Pipeline] ....... (step 2 of 4) Processing dim_reducer, total=   0.0s\n",
      "[Pipeline] ............... (step 4 of 4) Processing clf, total=  35.5s\n",
      "[CV 2/5] END clf=LogisticRegression(max_iter=10000, n_jobs=-1, random_state=8), clf__C=1000, dim_reducer=passthrough, scaler=MinMaxScaler(), transform__cv__max_features=500, transform__cv__min_df=0.05;, score=0.899 total time=  36.5s\n",
      "[Pipeline] ....... (step 2 of 4) Processing dim_reducer, total=   0.0s\n",
      "[Pipeline] ............... (step 4 of 4) Processing clf, total=  42.2s\n",
      "[CV 3/5] END clf=LogisticRegression(max_iter=10000, n_jobs=-1, random_state=8), clf__C=1000, dim_reducer=passthrough, scaler=MinMaxScaler(), transform__cv__max_features=500, transform__cv__min_df=0.05;, score=0.902 total time=  43.3s\n",
      "[Pipeline] ....... (step 2 of 4) Processing dim_reducer, total=   0.0s\n",
      "[Pipeline] ............... (step 4 of 4) Processing clf, total=  42.6s\n",
      "[CV 4/5] END clf=LogisticRegression(max_iter=10000, n_jobs=-1, random_state=8), clf__C=1000, dim_reducer=passthrough, scaler=MinMaxScaler(), transform__cv__max_features=500, transform__cv__min_df=0.05;, score=0.899 total time=  43.6s\n",
      "[Pipeline] ....... (step 2 of 4) Processing dim_reducer, total=   0.0s\n",
      "[Pipeline] ............... (step 4 of 4) Processing clf, total=  44.3s\n",
      "[CV 5/5] END clf=LogisticRegression(max_iter=10000, n_jobs=-1, random_state=8), clf__C=1000, dim_reducer=passthrough, scaler=MinMaxScaler(), transform__cv__max_features=500, transform__cv__min_df=0.05;, score=0.901 total time=  45.3s\n",
      "[Pipeline] ............ (step 3 of 4) Processing scaler, total=   0.0s\n",
      "[Pipeline] ............... (step 4 of 4) Processing clf, total=  20.7s\n",
      "[CV 1/5] END clf=LogisticRegression(max_iter=10000, n_jobs=-1, random_state=8), clf__C=1000, dim_reducer=PCA(), dim_reducer__n_components=0.9, scaler=StandardScaler(with_mean=False), transform__cv__max_features=500, transform__cv__min_df=0.03;, score=0.904 total time=  22.1s\n",
      "[Pipeline] ............ (step 3 of 4) Processing scaler, total=   0.1s\n",
      "[Pipeline] ............... (step 4 of 4) Processing clf, total=  22.0s\n",
      "[CV 2/5] END clf=LogisticRegression(max_iter=10000, n_jobs=-1, random_state=8), clf__C=1000, dim_reducer=PCA(), dim_reducer__n_components=0.9, scaler=StandardScaler(with_mean=False), transform__cv__max_features=500, transform__cv__min_df=0.03;, score=0.901 total time=  23.4s\n",
      "[Pipeline] ............ (step 3 of 4) Processing scaler, total=   0.0s\n",
      "[Pipeline] ............... (step 4 of 4) Processing clf, total=  22.9s\n",
      "[CV 3/5] END clf=LogisticRegression(max_iter=10000, n_jobs=-1, random_state=8), clf__C=1000, dim_reducer=PCA(), dim_reducer__n_components=0.9, scaler=StandardScaler(with_mean=False), transform__cv__max_features=500, transform__cv__min_df=0.03;, score=0.903 total time=  24.3s\n",
      "[Pipeline] ............ (step 3 of 4) Processing scaler, total=   0.0s\n",
      "[Pipeline] ............... (step 4 of 4) Processing clf, total=  25.0s\n",
      "[CV 4/5] END clf=LogisticRegression(max_iter=10000, n_jobs=-1, random_state=8), clf__C=1000, dim_reducer=PCA(), dim_reducer__n_components=0.9, scaler=StandardScaler(with_mean=False), transform__cv__max_features=500, transform__cv__min_df=0.03;, score=0.900 total time=  26.3s\n",
      "[Pipeline] ............ (step 3 of 4) Processing scaler, total=   0.0s\n",
      "[Pipeline] ............... (step 4 of 4) Processing clf, total=  24.4s\n",
      "[CV 5/5] END clf=LogisticRegression(max_iter=10000, n_jobs=-1, random_state=8), clf__C=1000, dim_reducer=PCA(), dim_reducer__n_components=0.9, scaler=StandardScaler(with_mean=False), transform__cv__max_features=500, transform__cv__min_df=0.03;, score=0.901 total time=  25.7s\n",
      "[Pipeline] ............ (step 3 of 4) Processing scaler, total=   0.0s\n",
      "[Pipeline] ............... (step 4 of 4) Processing clf, total= 1.9min\n",
      "[CV 1/5] END clf=LogisticRegression(max_iter=10000, n_jobs=-1, random_state=8), clf__C=1000, dim_reducer=PCA(), dim_reducer__n_components=0.95, scaler=passthrough, transform__cv__max_features=500, transform__cv__min_df=0.03;, score=0.903 total time= 2.0min\n",
      "[Pipeline] ............ (step 3 of 4) Processing scaler, total=   0.0s\n",
      "[Pipeline] ............... (step 4 of 4) Processing clf, total= 1.7min\n",
      "[CV 2/5] END clf=LogisticRegression(max_iter=10000, n_jobs=-1, random_state=8), clf__C=1000, dim_reducer=PCA(), dim_reducer__n_components=0.95, scaler=passthrough, transform__cv__max_features=500, transform__cv__min_df=0.03;, score=0.900 total time= 1.7min\n",
      "[Pipeline] ............ (step 3 of 4) Processing scaler, total=   0.0s\n",
      "[Pipeline] ............... (step 4 of 4) Processing clf, total= 2.2min\n",
      "[CV 3/5] END clf=LogisticRegression(max_iter=10000, n_jobs=-1, random_state=8), clf__C=1000, dim_reducer=PCA(), dim_reducer__n_components=0.95, scaler=passthrough, transform__cv__max_features=500, transform__cv__min_df=0.03;, score=0.902 total time= 2.2min\n",
      "[Pipeline] ............ (step 3 of 4) Processing scaler, total=   0.0s\n",
      "[Pipeline] ............... (step 4 of 4) Processing clf, total= 2.5min\n",
      "[CV 4/5] END clf=LogisticRegression(max_iter=10000, n_jobs=-1, random_state=8), clf__C=1000, dim_reducer=PCA(), dim_reducer__n_components=0.95, scaler=passthrough, transform__cv__max_features=500, transform__cv__min_df=0.03;, score=0.900 total time= 2.5min\n",
      "[Pipeline] ............ (step 3 of 4) Processing scaler, total=   0.0s\n",
      "[Pipeline] ............... (step 4 of 4) Processing clf, total= 1.8min\n",
      "[CV 5/5] END clf=LogisticRegression(max_iter=10000, n_jobs=-1, random_state=8), clf__C=1000, dim_reducer=PCA(), dim_reducer__n_components=0.95, scaler=passthrough, transform__cv__max_features=500, transform__cv__min_df=0.03;, score=0.901 total time= 1.8min\n",
      "[Pipeline] ....... (step 2 of 4) Processing dim_reducer, total=   0.3s\n",
      "[Pipeline] ............ (step 3 of 4) Processing scaler, total=   0.0s\n",
      "[Pipeline] ............... (step 4 of 4) Processing clf, total=   9.9s\n",
      "[CV 1/5] END clf=LogisticRegression(max_iter=10000, n_jobs=-1, random_state=8), clf__C=1, dim_reducer=PCA(), dim_reducer__n_components=0.85, scaler=passthrough, transform__cv__max_features=500, transform__cv__min_df=0.05;, score=0.904 total time=  11.5s\n",
      "[Pipeline] ....... (step 2 of 4) Processing dim_reducer, total=   0.3s\n",
      "[Pipeline] ............ (step 3 of 4) Processing scaler, total=   0.0s\n",
      "[Pipeline] ............... (step 4 of 4) Processing clf, total=  10.7s\n",
      "[CV 2/5] END clf=LogisticRegression(max_iter=10000, n_jobs=-1, random_state=8), clf__C=1, dim_reducer=PCA(), dim_reducer__n_components=0.85, scaler=passthrough, transform__cv__max_features=500, transform__cv__min_df=0.05;, score=0.901 total time=  12.2s\n",
      "[Pipeline] ....... (step 2 of 4) Processing dim_reducer, total=   0.3s\n",
      "[Pipeline] ............ (step 3 of 4) Processing scaler, total=   0.0s\n",
      "[Pipeline] ............... (step 4 of 4) Processing clf, total=   7.8s\n",
      "[CV 3/5] END clf=LogisticRegression(max_iter=10000, n_jobs=-1, random_state=8), clf__C=1, dim_reducer=PCA(), dim_reducer__n_components=0.85, scaler=passthrough, transform__cv__max_features=500, transform__cv__min_df=0.05;, score=0.903 total time=   9.4s\n",
      "[Pipeline] ....... (step 2 of 4) Processing dim_reducer, total=   0.4s\n",
      "[Pipeline] ............ (step 3 of 4) Processing scaler, total=   0.0s\n",
      "[Pipeline] ............... (step 4 of 4) Processing clf, total=   9.3s\n",
      "[CV 4/5] END clf=LogisticRegression(max_iter=10000, n_jobs=-1, random_state=8), clf__C=1, dim_reducer=PCA(), dim_reducer__n_components=0.85, scaler=passthrough, transform__cv__max_features=500, transform__cv__min_df=0.05;, score=0.901 total time=  10.9s\n",
      "[Pipeline] ....... (step 2 of 4) Processing dim_reducer, total=   0.4s\n",
      "[Pipeline] ............ (step 3 of 4) Processing scaler, total=   0.0s\n",
      "[Pipeline] ............... (step 4 of 4) Processing clf, total=  10.6s\n",
      "[CV 5/5] END clf=LogisticRegression(max_iter=10000, n_jobs=-1, random_state=8), clf__C=1, dim_reducer=PCA(), dim_reducer__n_components=0.85, scaler=passthrough, transform__cv__max_features=500, transform__cv__min_df=0.05;, score=0.902 total time=  12.2s\n",
      "[Pipeline] ....... (step 2 of 4) Processing dim_reducer, total=   0.3s\n",
      "[Pipeline] ............ (step 3 of 4) Processing scaler, total=   0.1s\n",
      "[Pipeline] ............... (step 4 of 4) Processing clf, total=  18.8s\n",
      "[CV 1/5] END clf=LogisticRegression(max_iter=10000, n_jobs=-1, random_state=8), clf__C=1000, dim_reducer=PCA(), dim_reducer__n_components=0.95, scaler=StandardScaler(with_mean=False), transform__cv__max_features=500, transform__cv__min_df=0.05;, score=0.903 total time=  20.7s\n",
      "[Pipeline] ....... (step 2 of 4) Processing dim_reducer, total=   0.3s\n",
      "[Pipeline] ............ (step 3 of 4) Processing scaler, total=   0.1s\n",
      "[Pipeline] ............... (step 4 of 4) Processing clf, total=  15.8s\n",
      "[CV 2/5] END clf=LogisticRegression(max_iter=10000, n_jobs=-1, random_state=8), clf__C=1000, dim_reducer=PCA(), dim_reducer__n_components=0.95, scaler=StandardScaler(with_mean=False), transform__cv__max_features=500, transform__cv__min_df=0.05;, score=0.900 total time=  17.7s\n",
      "[Pipeline] ....... (step 2 of 4) Processing dim_reducer, total=   0.3s\n",
      "[Pipeline] ............ (step 3 of 4) Processing scaler, total=   0.1s\n",
      "[Pipeline] ............... (step 4 of 4) Processing clf, total=  15.9s\n",
      "[CV 3/5] END clf=LogisticRegression(max_iter=10000, n_jobs=-1, random_state=8), clf__C=1000, dim_reducer=PCA(), dim_reducer__n_components=0.95, scaler=StandardScaler(with_mean=False), transform__cv__max_features=500, transform__cv__min_df=0.05;, score=0.902 total time=  17.8s\n",
      "[Pipeline] ....... (step 2 of 4) Processing dim_reducer, total=   0.3s\n",
      "[Pipeline] ............ (step 3 of 4) Processing scaler, total=   0.1s\n",
      "[Pipeline] ............... (step 4 of 4) Processing clf, total=  42.4s\n",
      "[CV 4/5] END clf=LogisticRegression(max_iter=10000, n_jobs=-1, random_state=8), clf__C=1000, dim_reducer=PCA(), dim_reducer__n_components=0.95, scaler=StandardScaler(with_mean=False), transform__cv__max_features=500, transform__cv__min_df=0.05;, score=0.899 total time=  44.2s\n",
      "[Pipeline] ....... (step 2 of 4) Processing dim_reducer, total=   0.3s\n",
      "[Pipeline] ............ (step 3 of 4) Processing scaler, total=   0.1s\n",
      "[Pipeline] ............... (step 4 of 4) Processing clf, total=  42.3s\n",
      "[CV 5/5] END clf=LogisticRegression(max_iter=10000, n_jobs=-1, random_state=8), clf__C=1000, dim_reducer=PCA(), dim_reducer__n_components=0.95, scaler=StandardScaler(with_mean=False), transform__cv__max_features=500, transform__cv__min_df=0.05;, score=0.900 total time=  44.2s\n",
      "[Pipeline] ............ (step 3 of 4) Processing scaler, total=   0.0s\n",
      "[Pipeline] ............... (step 4 of 4) Processing clf, total=   1.7s\n",
      "[CV 1/5] END clf=LogisticRegression(max_iter=10000, n_jobs=-1, random_state=8), clf__C=0.001, dim_reducer=PCA(), dim_reducer__n_components=0.95, scaler=passthrough, transform__cv__max_features=500, transform__cv__min_df=0.05;, score=0.905 total time=   2.7s\n",
      "[Pipeline] ............ (step 3 of 4) Processing scaler, total=   0.0s\n",
      "[Pipeline] ............... (step 4 of 4) Processing clf, total=   1.6s\n",
      "[CV 2/5] END clf=LogisticRegression(max_iter=10000, n_jobs=-1, random_state=8), clf__C=0.001, dim_reducer=PCA(), dim_reducer__n_components=0.95, scaler=passthrough, transform__cv__max_features=500, transform__cv__min_df=0.05;, score=0.902 total time=   2.6s\n",
      "[Pipeline] ............ (step 3 of 4) Processing scaler, total=   0.0s\n",
      "[Pipeline] ............... (step 4 of 4) Processing clf, total=   1.7s\n",
      "[CV 3/5] END clf=LogisticRegression(max_iter=10000, n_jobs=-1, random_state=8), clf__C=0.001, dim_reducer=PCA(), dim_reducer__n_components=0.95, scaler=passthrough, transform__cv__max_features=500, transform__cv__min_df=0.05;, score=0.903 total time=   2.7s\n",
      "[Pipeline] ............ (step 3 of 4) Processing scaler, total=   0.0s\n",
      "[Pipeline] ............... (step 4 of 4) Processing clf, total=   1.7s\n",
      "[CV 4/5] END clf=LogisticRegression(max_iter=10000, n_jobs=-1, random_state=8), clf__C=0.001, dim_reducer=PCA(), dim_reducer__n_components=0.95, scaler=passthrough, transform__cv__max_features=500, transform__cv__min_df=0.05;, score=0.902 total time=   2.7s\n",
      "[Pipeline] ............ (step 3 of 4) Processing scaler, total=   0.0s\n",
      "[Pipeline] ............... (step 4 of 4) Processing clf, total=   1.6s\n",
      "[CV 5/5] END clf=LogisticRegression(max_iter=10000, n_jobs=-1, random_state=8), clf__C=0.001, dim_reducer=PCA(), dim_reducer__n_components=0.95, scaler=passthrough, transform__cv__max_features=500, transform__cv__min_df=0.05;, score=0.903 total time=   2.6s\n",
      "[Pipeline] ....... (step 2 of 4) Processing dim_reducer, total=   0.4s\n",
      "[Pipeline] ............ (step 3 of 4) Processing scaler, total=   0.0s\n",
      "[Pipeline] ............... (step 4 of 4) Processing clf, total=   0.9s\n",
      "[CV 1/5] END clf=LogisticRegression(max_iter=10000, n_jobs=-1, random_state=8), clf__C=0.001, dim_reducer=PCA(), dim_reducer__n_components=0.8, scaler=MinMaxScaler(), transform__cv__max_features=500, transform__cv__min_df=0.04;, score=0.889 total time=   2.9s\n",
      "[Pipeline] ....... (step 2 of 4) Processing dim_reducer, total=   0.4s\n",
      "[Pipeline] ............ (step 3 of 4) Processing scaler, total=   0.0s\n",
      "[Pipeline] ............... (step 4 of 4) Processing clf, total=   1.3s\n",
      "[CV 2/5] END clf=LogisticRegression(max_iter=10000, n_jobs=-1, random_state=8), clf__C=0.001, dim_reducer=PCA(), dim_reducer__n_components=0.8, scaler=MinMaxScaler(), transform__cv__max_features=500, transform__cv__min_df=0.04;, score=0.889 total time=   3.2s\n",
      "[Pipeline] ....... (step 2 of 4) Processing dim_reducer, total=   0.4s\n",
      "[Pipeline] ............ (step 3 of 4) Processing scaler, total=   0.0s\n",
      "[Pipeline] ............... (step 4 of 4) Processing clf, total=   1.0s\n",
      "[CV 3/5] END clf=LogisticRegression(max_iter=10000, n_jobs=-1, random_state=8), clf__C=0.001, dim_reducer=PCA(), dim_reducer__n_components=0.8, scaler=MinMaxScaler(), transform__cv__max_features=500, transform__cv__min_df=0.04;, score=0.889 total time=   3.0s\n",
      "[Pipeline] ....... (step 2 of 4) Processing dim_reducer, total=   0.4s\n",
      "[Pipeline] ............ (step 3 of 4) Processing scaler, total=   0.0s\n",
      "[Pipeline] ............... (step 4 of 4) Processing clf, total=   1.1s\n",
      "[CV 4/5] END clf=LogisticRegression(max_iter=10000, n_jobs=-1, random_state=8), clf__C=0.001, dim_reducer=PCA(), dim_reducer__n_components=0.8, scaler=MinMaxScaler(), transform__cv__max_features=500, transform__cv__min_df=0.04;, score=0.889 total time=   3.0s\n",
      "[Pipeline] ....... (step 2 of 4) Processing dim_reducer, total=   0.5s\n",
      "[Pipeline] ............ (step 3 of 4) Processing scaler, total=   0.0s\n",
      "[Pipeline] ............... (step 4 of 4) Processing clf, total=   1.0s\n",
      "[CV 5/5] END clf=LogisticRegression(max_iter=10000, n_jobs=-1, random_state=8), clf__C=0.001, dim_reducer=PCA(), dim_reducer__n_components=0.8, scaler=MinMaxScaler(), transform__cv__max_features=500, transform__cv__min_df=0.04;, score=0.889 total time=   3.0s\n",
      "[Pipeline] ............... (step 4 of 4) Processing clf, total=   1.4s\n",
      "[CV 1/5] END clf=LogisticRegression(max_iter=10000, n_jobs=-1, random_state=8), clf__C=0.001, dim_reducer=PCA(), dim_reducer__n_components=0.85, scaler=MinMaxScaler(), transform__cv__max_features=500, transform__cv__min_df=0.04;, score=0.889 total time=   2.5s\n",
      "[Pipeline] ............... (step 4 of 4) Processing clf, total=   1.5s\n",
      "[CV 2/5] END clf=LogisticRegression(max_iter=10000, n_jobs=-1, random_state=8), clf__C=0.001, dim_reducer=PCA(), dim_reducer__n_components=0.85, scaler=MinMaxScaler(), transform__cv__max_features=500, transform__cv__min_df=0.04;, score=0.889 total time=   2.6s\n",
      "[Pipeline] ............... (step 4 of 4) Processing clf, total=   1.5s\n",
      "[CV 3/5] END clf=LogisticRegression(max_iter=10000, n_jobs=-1, random_state=8), clf__C=0.001, dim_reducer=PCA(), dim_reducer__n_components=0.85, scaler=MinMaxScaler(), transform__cv__max_features=500, transform__cv__min_df=0.04;, score=0.889 total time=   2.6s\n",
      "[Pipeline] ............... (step 4 of 4) Processing clf, total=   1.3s\n",
      "[CV 4/5] END clf=LogisticRegression(max_iter=10000, n_jobs=-1, random_state=8), clf__C=0.001, dim_reducer=PCA(), dim_reducer__n_components=0.85, scaler=MinMaxScaler(), transform__cv__max_features=500, transform__cv__min_df=0.04;, score=0.889 total time=   2.5s\n",
      "[Pipeline] ............... (step 4 of 4) Processing clf, total=   1.4s\n",
      "[CV 5/5] END clf=LogisticRegression(max_iter=10000, n_jobs=-1, random_state=8), clf__C=0.001, dim_reducer=PCA(), dim_reducer__n_components=0.85, scaler=MinMaxScaler(), transform__cv__max_features=500, transform__cv__min_df=0.04;, score=0.889 total time=   2.5s\n",
      "[Pipeline] ....... (step 2 of 4) Processing dim_reducer, total=   0.0s\n",
      "[Pipeline] ............ (step 3 of 4) Processing scaler, total=   0.1s\n",
      "[Pipeline] ............... (step 4 of 4) Processing clf, total=   6.7s\n",
      "[CV 1/5] END clf=LogisticRegression(max_iter=10000, n_jobs=-1, random_state=8), clf__C=10, dim_reducer=passthrough, scaler=StandardScaler(with_mean=False), transform__cv__max_features=500, transform__cv__min_df=0.03;, score=0.904 total time=   8.2s\n",
      "[Pipeline] ....... (step 2 of 4) Processing dim_reducer, total=   0.0s\n",
      "[Pipeline] ............ (step 3 of 4) Processing scaler, total=   0.1s\n",
      "[Pipeline] ............... (step 4 of 4) Processing clf, total=   6.3s\n",
      "[CV 2/5] END clf=LogisticRegression(max_iter=10000, n_jobs=-1, random_state=8), clf__C=10, dim_reducer=passthrough, scaler=StandardScaler(with_mean=False), transform__cv__max_features=500, transform__cv__min_df=0.03;, score=0.900 total time=   7.9s\n",
      "[Pipeline] ....... (step 2 of 4) Processing dim_reducer, total=   0.0s\n",
      "[Pipeline] ............ (step 3 of 4) Processing scaler, total=   0.1s\n",
      "[Pipeline] ............... (step 4 of 4) Processing clf, total=   6.6s\n",
      "[CV 3/5] END clf=LogisticRegression(max_iter=10000, n_jobs=-1, random_state=8), clf__C=10, dim_reducer=passthrough, scaler=StandardScaler(with_mean=False), transform__cv__max_features=500, transform__cv__min_df=0.03;, score=0.902 total time=   8.1s\n",
      "[Pipeline] ....... (step 2 of 4) Processing dim_reducer, total=   0.0s\n",
      "[Pipeline] ............ (step 3 of 4) Processing scaler, total=   0.1s\n",
      "[Pipeline] ............... (step 4 of 4) Processing clf, total=   6.4s\n",
      "[CV 4/5] END clf=LogisticRegression(max_iter=10000, n_jobs=-1, random_state=8), clf__C=10, dim_reducer=passthrough, scaler=StandardScaler(with_mean=False), transform__cv__max_features=500, transform__cv__min_df=0.03;, score=0.900 total time=   7.9s\n",
      "[Pipeline] ....... (step 2 of 4) Processing dim_reducer, total=   0.0s\n",
      "[Pipeline] ............ (step 3 of 4) Processing scaler, total=   0.1s\n",
      "[Pipeline] ............... (step 4 of 4) Processing clf, total=   6.5s\n",
      "[CV 5/5] END clf=LogisticRegression(max_iter=10000, n_jobs=-1, random_state=8), clf__C=10, dim_reducer=passthrough, scaler=StandardScaler(with_mean=False), transform__cv__max_features=500, transform__cv__min_df=0.03;, score=0.902 total time=   8.0s\n",
      "[Pipeline] ....... (step 2 of 4) Processing dim_reducer, total=   0.0s\n",
      "[Pipeline] ............ (step 3 of 4) Processing scaler, total=   0.1s\n",
      "[Pipeline] ............... (step 4 of 4) Processing clf, total=  25.6s\n",
      "[CV 1/5] END clf=LogisticRegression(max_iter=10000, n_jobs=-1, random_state=8), clf__C=1, dim_reducer=passthrough, scaler=MinMaxScaler(), transform__cv__max_features=500, transform__cv__min_df=0.04;, score=0.903 total time=  27.0s\n",
      "[Pipeline] ....... (step 2 of 4) Processing dim_reducer, total=   0.0s\n",
      "[Pipeline] ............ (step 3 of 4) Processing scaler, total=   0.1s\n",
      "[Pipeline] ............... (step 4 of 4) Processing clf, total=  24.1s\n",
      "[CV 2/5] END clf=LogisticRegression(max_iter=10000, n_jobs=-1, random_state=8), clf__C=1, dim_reducer=passthrough, scaler=MinMaxScaler(), transform__cv__max_features=500, transform__cv__min_df=0.04;, score=0.900 total time=  25.5s\n",
      "[Pipeline] ....... (step 2 of 4) Processing dim_reducer, total=   0.0s\n",
      "[Pipeline] ............ (step 3 of 4) Processing scaler, total=   0.1s\n",
      "[Pipeline] ............... (step 4 of 4) Processing clf, total=  26.0s\n",
      "[CV 3/5] END clf=LogisticRegression(max_iter=10000, n_jobs=-1, random_state=8), clf__C=1, dim_reducer=passthrough, scaler=MinMaxScaler(), transform__cv__max_features=500, transform__cv__min_df=0.04;, score=0.903 total time=  27.3s\n",
      "[Pipeline] ....... (step 2 of 4) Processing dim_reducer, total=   0.0s\n",
      "[Pipeline] ............ (step 3 of 4) Processing scaler, total=   0.1s\n",
      "[Pipeline] ............... (step 4 of 4) Processing clf, total=  22.7s\n",
      "[CV 4/5] END clf=LogisticRegression(max_iter=10000, n_jobs=-1, random_state=8), clf__C=1, dim_reducer=passthrough, scaler=MinMaxScaler(), transform__cv__max_features=500, transform__cv__min_df=0.04;, score=0.900 total time=  24.1s\n",
      "[Pipeline] ....... (step 2 of 4) Processing dim_reducer, total=   0.0s\n",
      "[Pipeline] ............ (step 3 of 4) Processing scaler, total=   0.1s\n",
      "[Pipeline] ............... (step 4 of 4) Processing clf, total=  24.1s\n",
      "[CV 5/5] END clf=LogisticRegression(max_iter=10000, n_jobs=-1, random_state=8), clf__C=1, dim_reducer=passthrough, scaler=MinMaxScaler(), transform__cv__max_features=500, transform__cv__min_df=0.04;, score=0.902 total time=  25.5s\n",
      "[Pipeline] ....... (step 2 of 4) Processing dim_reducer, total=   0.5s\n",
      "[Pipeline] ............ (step 3 of 4) Processing scaler, total=   0.0s\n",
      "[Pipeline] ............... (step 4 of 4) Processing clf, total=   5.9s\n",
      "[CV 1/5] END clf=LogisticRegression(max_iter=10000, n_jobs=-1, random_state=8), clf__C=0.1, dim_reducer=PCA(), dim_reducer__n_components=0.85, scaler=MinMaxScaler(), transform__cv__max_features=500, transform__cv__min_df=0.03;, score=0.891 total time=   8.0s\n",
      "[Pipeline] ....... (step 2 of 4) Processing dim_reducer, total=   0.6s\n",
      "[Pipeline] ............ (step 3 of 4) Processing scaler, total=   0.0s\n",
      "[Pipeline] ............... (step 4 of 4) Processing clf, total=   4.6s\n",
      "[CV 2/5] END clf=LogisticRegression(max_iter=10000, n_jobs=-1, random_state=8), clf__C=0.1, dim_reducer=PCA(), dim_reducer__n_components=0.85, scaler=MinMaxScaler(), transform__cv__max_features=500, transform__cv__min_df=0.03;, score=0.892 total time=   6.8s\n",
      "[Pipeline] ....... (step 2 of 4) Processing dim_reducer, total=   0.5s\n",
      "[Pipeline] ............ (step 3 of 4) Processing scaler, total=   0.0s\n",
      "[Pipeline] ............... (step 4 of 4) Processing clf, total=   5.8s\n",
      "[CV 3/5] END clf=LogisticRegression(max_iter=10000, n_jobs=-1, random_state=8), clf__C=0.1, dim_reducer=PCA(), dim_reducer__n_components=0.85, scaler=MinMaxScaler(), transform__cv__max_features=500, transform__cv__min_df=0.03;, score=0.892 total time=   8.0s\n",
      "[Pipeline] ....... (step 2 of 4) Processing dim_reducer, total=   0.5s\n",
      "[Pipeline] ............ (step 3 of 4) Processing scaler, total=   0.0s\n",
      "[Pipeline] ............... (step 4 of 4) Processing clf, total=   5.4s\n",
      "[CV 4/5] END clf=LogisticRegression(max_iter=10000, n_jobs=-1, random_state=8), clf__C=0.1, dim_reducer=PCA(), dim_reducer__n_components=0.85, scaler=MinMaxScaler(), transform__cv__max_features=500, transform__cv__min_df=0.03;, score=0.891 total time=   7.5s\n",
      "[Pipeline] ....... (step 2 of 4) Processing dim_reducer, total=   0.7s\n",
      "[Pipeline] ............ (step 3 of 4) Processing scaler, total=   0.0s\n",
      "[Pipeline] ............... (step 4 of 4) Processing clf, total=   5.5s\n",
      "[CV 5/5] END clf=LogisticRegression(max_iter=10000, n_jobs=-1, random_state=8), clf__C=0.1, dim_reducer=PCA(), dim_reducer__n_components=0.85, scaler=MinMaxScaler(), transform__cv__max_features=500, transform__cv__min_df=0.03;, score=0.892 total time=   7.9s\n",
      "[Pipeline] ............... (step 4 of 4) Processing clf, total=  47.0s\n",
      "[CV 1/5] END clf=LogisticRegression(max_iter=10000, n_jobs=-1, random_state=8), clf__C=10, dim_reducer=PCA(), dim_reducer__n_components=0.95, scaler=StandardScaler(with_mean=False), transform__cv__max_features=500, transform__cv__min_df=0.03;, score=0.903 total time=  48.2s\n",
      "[Pipeline] ............... (step 4 of 4) Processing clf, total=  45.9s\n",
      "[CV 2/5] END clf=LogisticRegression(max_iter=10000, n_jobs=-1, random_state=8), clf__C=10, dim_reducer=PCA(), dim_reducer__n_components=0.95, scaler=StandardScaler(with_mean=False), transform__cv__max_features=500, transform__cv__min_df=0.03;, score=0.900 total time=  47.1s\n",
      "[Pipeline] ............... (step 4 of 4) Processing clf, total=  50.7s\n",
      "[CV 3/5] END clf=LogisticRegression(max_iter=10000, n_jobs=-1, random_state=8), clf__C=10, dim_reducer=PCA(), dim_reducer__n_components=0.95, scaler=StandardScaler(with_mean=False), transform__cv__max_features=500, transform__cv__min_df=0.03;, score=0.902 total time=  51.9s\n",
      "[Pipeline] ............... (step 4 of 4) Processing clf, total=  48.0s\n",
      "[CV 4/5] END clf=LogisticRegression(max_iter=10000, n_jobs=-1, random_state=8), clf__C=10, dim_reducer=PCA(), dim_reducer__n_components=0.95, scaler=StandardScaler(with_mean=False), transform__cv__max_features=500, transform__cv__min_df=0.03;, score=0.899 total time=  49.2s\n",
      "[Pipeline] ............... (step 4 of 4) Processing clf, total=  42.5s\n",
      "[CV 5/5] END clf=LogisticRegression(max_iter=10000, n_jobs=-1, random_state=8), clf__C=10, dim_reducer=PCA(), dim_reducer__n_components=0.95, scaler=StandardScaler(with_mean=False), transform__cv__max_features=500, transform__cv__min_df=0.03;, score=0.901 total time=  43.7s\n",
      "[Pipeline] ............... (step 4 of 4) Processing clf, total=   1.9s\n",
      "[CV 1/5] END clf=LogisticRegression(max_iter=10000, n_jobs=-1, random_state=8), clf__C=0.001, dim_reducer=PCA(), dim_reducer__n_components=0.9, scaler=MinMaxScaler(), transform__cv__max_features=500, transform__cv__min_df=0.03;, score=0.889 total time=   3.1s\n",
      "[Pipeline] ............... (step 4 of 4) Processing clf, total=   1.9s\n",
      "[CV 2/5] END clf=LogisticRegression(max_iter=10000, n_jobs=-1, random_state=8), clf__C=0.001, dim_reducer=PCA(), dim_reducer__n_components=0.9, scaler=MinMaxScaler(), transform__cv__max_features=500, transform__cv__min_df=0.03;, score=0.889 total time=   3.0s\n",
      "[Pipeline] ............... (step 4 of 4) Processing clf, total=   1.9s\n",
      "[CV 3/5] END clf=LogisticRegression(max_iter=10000, n_jobs=-1, random_state=8), clf__C=0.001, dim_reducer=PCA(), dim_reducer__n_components=0.9, scaler=MinMaxScaler(), transform__cv__max_features=500, transform__cv__min_df=0.03;, score=0.889 total time=   3.0s\n",
      "[Pipeline] ............... (step 4 of 4) Processing clf, total=   2.0s\n",
      "[CV 4/5] END clf=LogisticRegression(max_iter=10000, n_jobs=-1, random_state=8), clf__C=0.001, dim_reducer=PCA(), dim_reducer__n_components=0.9, scaler=MinMaxScaler(), transform__cv__max_features=500, transform__cv__min_df=0.03;, score=0.889 total time=   3.1s\n",
      "[Pipeline] ............... (step 4 of 4) Processing clf, total=   2.0s\n",
      "[CV 5/5] END clf=LogisticRegression(max_iter=10000, n_jobs=-1, random_state=8), clf__C=0.001, dim_reducer=PCA(), dim_reducer__n_components=0.9, scaler=MinMaxScaler(), transform__cv__max_features=500, transform__cv__min_df=0.03;, score=0.889 total time=   3.1s\n",
      "[Pipeline] ............ (step 3 of 4) Processing scaler, total=   0.0s\n",
      "[Pipeline] ............... (step 4 of 4) Processing clf, total=   7.6s\n",
      "[CV 1/5] END clf=LogisticRegression(max_iter=10000, n_jobs=-1, random_state=8), clf__C=1, dim_reducer=PCA(), dim_reducer__n_components=0.85, scaler=StandardScaler(with_mean=False), transform__cv__max_features=500, transform__cv__min_df=0.04;, score=0.904 total time=   8.9s\n",
      "[Pipeline] ............ (step 3 of 4) Processing scaler, total=   0.0s\n",
      "[Pipeline] ............... (step 4 of 4) Processing clf, total=   7.9s\n",
      "[CV 2/5] END clf=LogisticRegression(max_iter=10000, n_jobs=-1, random_state=8), clf__C=1, dim_reducer=PCA(), dim_reducer__n_components=0.85, scaler=StandardScaler(with_mean=False), transform__cv__max_features=500, transform__cv__min_df=0.04;, score=0.901 total time=   9.2s\n",
      "[Pipeline] ............ (step 3 of 4) Processing scaler, total=   0.0s\n",
      "[Pipeline] ............... (step 4 of 4) Processing clf, total=   7.2s\n",
      "[CV 3/5] END clf=LogisticRegression(max_iter=10000, n_jobs=-1, random_state=8), clf__C=1, dim_reducer=PCA(), dim_reducer__n_components=0.85, scaler=StandardScaler(with_mean=False), transform__cv__max_features=500, transform__cv__min_df=0.04;, score=0.903 total time=   8.5s\n",
      "[Pipeline] ............ (step 3 of 4) Processing scaler, total=   0.0s\n",
      "[Pipeline] ............... (step 4 of 4) Processing clf, total=   9.3s\n",
      "[CV 4/5] END clf=LogisticRegression(max_iter=10000, n_jobs=-1, random_state=8), clf__C=1, dim_reducer=PCA(), dim_reducer__n_components=0.85, scaler=StandardScaler(with_mean=False), transform__cv__max_features=500, transform__cv__min_df=0.04;, score=0.901 total time=  10.6s\n",
      "[Pipeline] ............ (step 3 of 4) Processing scaler, total=   0.0s\n",
      "[Pipeline] ............... (step 4 of 4) Processing clf, total=   6.4s\n",
      "[CV 5/5] END clf=LogisticRegression(max_iter=10000, n_jobs=-1, random_state=8), clf__C=1, dim_reducer=PCA(), dim_reducer__n_components=0.85, scaler=StandardScaler(with_mean=False), transform__cv__max_features=500, transform__cv__min_df=0.04;, score=0.902 total time=   7.7s\n",
      "[Pipeline] ............... (step 4 of 4) Processing clf, total=  27.5s\n",
      "[CV 1/5] END clf=LogisticRegression(max_iter=10000, n_jobs=-1, random_state=8), clf__C=10, dim_reducer=PCA(), dim_reducer__n_components=0.9, scaler=MinMaxScaler(), transform__cv__max_features=500, transform__cv__min_df=0.04;, score=0.904 total time=  28.6s\n",
      "[Pipeline] ............... (step 4 of 4) Processing clf, total=  26.3s\n",
      "[CV 2/5] END clf=LogisticRegression(max_iter=10000, n_jobs=-1, random_state=8), clf__C=10, dim_reducer=PCA(), dim_reducer__n_components=0.9, scaler=MinMaxScaler(), transform__cv__max_features=500, transform__cv__min_df=0.04;, score=0.901 total time=  27.4s\n",
      "[Pipeline] ............... (step 4 of 4) Processing clf, total=  29.7s\n",
      "[CV 3/5] END clf=LogisticRegression(max_iter=10000, n_jobs=-1, random_state=8), clf__C=10, dim_reducer=PCA(), dim_reducer__n_components=0.9, scaler=MinMaxScaler(), transform__cv__max_features=500, transform__cv__min_df=0.04;, score=0.903 total time=  30.8s\n",
      "[Pipeline] ............... (step 4 of 4) Processing clf, total=  34.0s\n",
      "[CV 4/5] END clf=LogisticRegression(max_iter=10000, n_jobs=-1, random_state=8), clf__C=10, dim_reducer=PCA(), dim_reducer__n_components=0.9, scaler=MinMaxScaler(), transform__cv__max_features=500, transform__cv__min_df=0.04;, score=0.900 total time=  35.1s\n",
      "[Pipeline] ............... (step 4 of 4) Processing clf, total=  31.7s\n",
      "[CV 5/5] END clf=LogisticRegression(max_iter=10000, n_jobs=-1, random_state=8), clf__C=10, dim_reducer=PCA(), dim_reducer__n_components=0.9, scaler=MinMaxScaler(), transform__cv__max_features=500, transform__cv__min_df=0.04;, score=0.902 total time=  32.8s\n",
      "[Pipeline] ............ (step 3 of 4) Processing scaler, total=   0.0s\n",
      "[Pipeline] ............... (step 4 of 4) Processing clf, total= 1.2min\n",
      "[CV 1/5] END clf=LogisticRegression(max_iter=10000, n_jobs=-1, random_state=8), clf__C=100, dim_reducer=PCA(), dim_reducer__n_components=0.95, scaler=MinMaxScaler(), transform__cv__max_features=500, transform__cv__min_df=0.03;, score=0.903 total time= 1.2min\n",
      "[Pipeline] ............ (step 3 of 4) Processing scaler, total=   0.0s\n",
      "[Pipeline] ............... (step 4 of 4) Processing clf, total=  50.4s\n",
      "[CV 2/5] END clf=LogisticRegression(max_iter=10000, n_jobs=-1, random_state=8), clf__C=100, dim_reducer=PCA(), dim_reducer__n_components=0.95, scaler=MinMaxScaler(), transform__cv__max_features=500, transform__cv__min_df=0.03;, score=0.900 total time=  51.8s\n",
      "[Pipeline] ............ (step 3 of 4) Processing scaler, total=   0.0s\n",
      "[Pipeline] ............... (step 4 of 4) Processing clf, total=  50.0s\n",
      "[CV 3/5] END clf=LogisticRegression(max_iter=10000, n_jobs=-1, random_state=8), clf__C=100, dim_reducer=PCA(), dim_reducer__n_components=0.95, scaler=MinMaxScaler(), transform__cv__max_features=500, transform__cv__min_df=0.03;, score=0.902 total time=  51.4s\n",
      "[Pipeline] ............ (step 3 of 4) Processing scaler, total=   0.0s\n",
      "[Pipeline] ............... (step 4 of 4) Processing clf, total=  45.2s\n",
      "[CV 4/5] END clf=LogisticRegression(max_iter=10000, n_jobs=-1, random_state=8), clf__C=100, dim_reducer=PCA(), dim_reducer__n_components=0.95, scaler=MinMaxScaler(), transform__cv__max_features=500, transform__cv__min_df=0.03;, score=0.899 total time=  46.6s\n",
      "[Pipeline] ............ (step 3 of 4) Processing scaler, total=   0.0s\n",
      "[Pipeline] ............... (step 4 of 4) Processing clf, total= 1.0min\n",
      "[CV 5/5] END clf=LogisticRegression(max_iter=10000, n_jobs=-1, random_state=8), clf__C=100, dim_reducer=PCA(), dim_reducer__n_components=0.95, scaler=MinMaxScaler(), transform__cv__max_features=500, transform__cv__min_df=0.03;, score=0.901 total time= 1.1min\n",
      "[Pipeline] ....... (step 2 of 4) Processing dim_reducer, total=   0.0s\n",
      "[Pipeline] ............... (step 4 of 4) Processing clf, total=  44.0s\n",
      "[CV 1/5] END clf=LogisticRegression(max_iter=10000, n_jobs=-1, random_state=8), clf__C=100, dim_reducer=passthrough, scaler=MinMaxScaler(), transform__cv__max_features=500, transform__cv__min_df=0.05;, score=0.903 total time=  45.1s\n",
      "[Pipeline] ....... (step 2 of 4) Processing dim_reducer, total=   0.0s\n",
      "[Pipeline] ............... (step 4 of 4) Processing clf, total=  31.3s\n",
      "[CV 2/5] END clf=LogisticRegression(max_iter=10000, n_jobs=-1, random_state=8), clf__C=100, dim_reducer=passthrough, scaler=MinMaxScaler(), transform__cv__max_features=500, transform__cv__min_df=0.05;, score=0.899 total time=  32.3s\n",
      "[Pipeline] ....... (step 2 of 4) Processing dim_reducer, total=   0.0s\n",
      "[Pipeline] ............... (step 4 of 4) Processing clf, total=  37.4s\n",
      "[CV 3/5] END clf=LogisticRegression(max_iter=10000, n_jobs=-1, random_state=8), clf__C=100, dim_reducer=passthrough, scaler=MinMaxScaler(), transform__cv__max_features=500, transform__cv__min_df=0.05;, score=0.902 total time=  38.4s\n",
      "[Pipeline] ....... (step 2 of 4) Processing dim_reducer, total=   0.0s\n",
      "[Pipeline] ............... (step 4 of 4) Processing clf, total=  53.3s\n",
      "[CV 4/5] END clf=LogisticRegression(max_iter=10000, n_jobs=-1, random_state=8), clf__C=100, dim_reducer=passthrough, scaler=MinMaxScaler(), transform__cv__max_features=500, transform__cv__min_df=0.05;, score=0.899 total time=  54.4s\n",
      "[Pipeline] ....... (step 2 of 4) Processing dim_reducer, total=   0.0s\n",
      "[Pipeline] ............... (step 4 of 4) Processing clf, total=  47.6s\n",
      "[CV 5/5] END clf=LogisticRegression(max_iter=10000, n_jobs=-1, random_state=8), clf__C=100, dim_reducer=passthrough, scaler=MinMaxScaler(), transform__cv__max_features=500, transform__cv__min_df=0.05;, score=0.901 total time=  48.6s\n",
      "[Pipeline] ....... (step 2 of 4) Processing dim_reducer, total=   0.6s\n",
      "[Pipeline] ............ (step 3 of 4) Processing scaler, total=   0.0s\n",
      "[Pipeline] ............... (step 4 of 4) Processing clf, total= 2.1min\n",
      "[CV 1/5] END clf=LogisticRegression(max_iter=10000, n_jobs=-1, random_state=8), clf__C=1000, dim_reducer=PCA(), dim_reducer__n_components=0.95, scaler=MinMaxScaler(), transform__cv__max_features=500, transform__cv__min_df=0.04;, score=0.903 total time= 2.2min\n",
      "[Pipeline] ....... (step 2 of 4) Processing dim_reducer, total=   0.4s\n",
      "[Pipeline] ............ (step 3 of 4) Processing scaler, total=   0.0s\n",
      "[Pipeline] ............... (step 4 of 4) Processing clf, total= 1.7min\n",
      "[CV 2/5] END clf=LogisticRegression(max_iter=10000, n_jobs=-1, random_state=8), clf__C=1000, dim_reducer=PCA(), dim_reducer__n_components=0.95, scaler=MinMaxScaler(), transform__cv__max_features=500, transform__cv__min_df=0.04;, score=0.900 total time= 1.7min\n",
      "[Pipeline] ....... (step 2 of 4) Processing dim_reducer, total=   0.4s\n",
      "[Pipeline] ............ (step 3 of 4) Processing scaler, total=   0.0s\n",
      "[Pipeline] ............... (step 4 of 4) Processing clf, total= 1.8min\n",
      "[CV 3/5] END clf=LogisticRegression(max_iter=10000, n_jobs=-1, random_state=8), clf__C=1000, dim_reducer=PCA(), dim_reducer__n_components=0.95, scaler=MinMaxScaler(), transform__cv__max_features=500, transform__cv__min_df=0.04;, score=0.901 total time= 1.9min\n",
      "[Pipeline] ....... (step 2 of 4) Processing dim_reducer, total=   0.6s\n",
      "[Pipeline] ............ (step 3 of 4) Processing scaler, total=   0.0s\n",
      "[Pipeline] ............... (step 4 of 4) Processing clf, total= 1.2min\n",
      "[CV 4/5] END clf=LogisticRegression(max_iter=10000, n_jobs=-1, random_state=8), clf__C=1000, dim_reducer=PCA(), dim_reducer__n_components=0.95, scaler=MinMaxScaler(), transform__cv__max_features=500, transform__cv__min_df=0.04;, score=0.899 total time= 1.3min\n",
      "[Pipeline] ....... (step 2 of 4) Processing dim_reducer, total=   0.6s\n",
      "[Pipeline] ............ (step 3 of 4) Processing scaler, total=   0.0s\n",
      "[Pipeline] ............... (step 4 of 4) Processing clf, total= 2.9min\n",
      "[CV 5/5] END clf=LogisticRegression(max_iter=10000, n_jobs=-1, random_state=8), clf__C=1000, dim_reducer=PCA(), dim_reducer__n_components=0.95, scaler=MinMaxScaler(), transform__cv__max_features=500, transform__cv__min_df=0.04;, score=0.901 total time= 2.9min\n",
      "[Pipeline] ............... (step 4 of 4) Processing clf, total= 1.2min\n",
      "[CV 1/5] END clf=LogisticRegression(max_iter=10000, n_jobs=-1, random_state=8), clf__C=100, dim_reducer=PCA(), dim_reducer__n_components=0.9, scaler=MinMaxScaler(), transform__cv__max_features=500, transform__cv__min_df=0.03;, score=0.904 total time= 1.3min\n",
      "[Pipeline] ............... (step 4 of 4) Processing clf, total= 1.1min\n",
      "[CV 2/5] END clf=LogisticRegression(max_iter=10000, n_jobs=-1, random_state=8), clf__C=100, dim_reducer=PCA(), dim_reducer__n_components=0.9, scaler=MinMaxScaler(), transform__cv__max_features=500, transform__cv__min_df=0.03;, score=0.901 total time= 1.1min\n",
      "[Pipeline] ............... (step 4 of 4) Processing clf, total=  59.9s\n",
      "[CV 3/5] END clf=LogisticRegression(max_iter=10000, n_jobs=-1, random_state=8), clf__C=100, dim_reducer=PCA(), dim_reducer__n_components=0.9, scaler=MinMaxScaler(), transform__cv__max_features=500, transform__cv__min_df=0.03;, score=0.902 total time= 1.0min\n",
      "[Pipeline] ............... (step 4 of 4) Processing clf, total= 1.0min\n",
      "[CV 4/5] END clf=LogisticRegression(max_iter=10000, n_jobs=-1, random_state=8), clf__C=100, dim_reducer=PCA(), dim_reducer__n_components=0.9, scaler=MinMaxScaler(), transform__cv__max_features=500, transform__cv__min_df=0.03;, score=0.900 total time= 1.0min\n",
      "[Pipeline] ............... (step 4 of 4) Processing clf, total= 1.1min\n",
      "[CV 5/5] END clf=LogisticRegression(max_iter=10000, n_jobs=-1, random_state=8), clf__C=100, dim_reducer=PCA(), dim_reducer__n_components=0.9, scaler=MinMaxScaler(), transform__cv__max_features=500, transform__cv__min_df=0.03;, score=0.902 total time= 1.1min\n",
      "[Pipeline] ............ (step 3 of 4) Processing scaler, total=   0.0s\n",
      "[Pipeline] ............... (step 4 of 4) Processing clf, total=   5.4s\n",
      "[CV 1/5] END clf=LogisticRegression(max_iter=10000, n_jobs=-1, random_state=8), clf__C=0.1, dim_reducer=PCA(), dim_reducer__n_components=0.9, scaler=MinMaxScaler(), transform__cv__max_features=500, transform__cv__min_df=0.05;, score=0.896 total time=   6.6s\n",
      "[Pipeline] ............ (step 3 of 4) Processing scaler, total=   0.0s\n",
      "[Pipeline] ............... (step 4 of 4) Processing clf, total=   3.9s\n",
      "[CV 2/5] END clf=LogisticRegression(max_iter=10000, n_jobs=-1, random_state=8), clf__C=0.1, dim_reducer=PCA(), dim_reducer__n_components=0.9, scaler=MinMaxScaler(), transform__cv__max_features=500, transform__cv__min_df=0.05;, score=0.898 total time=   5.2s\n",
      "[Pipeline] ............ (step 3 of 4) Processing scaler, total=   0.0s\n",
      "[Pipeline] ............... (step 4 of 4) Processing clf, total=   5.5s\n",
      "[CV 3/5] END clf=LogisticRegression(max_iter=10000, n_jobs=-1, random_state=8), clf__C=0.1, dim_reducer=PCA(), dim_reducer__n_components=0.9, scaler=MinMaxScaler(), transform__cv__max_features=500, transform__cv__min_df=0.05;, score=0.898 total time=   6.7s\n",
      "[Pipeline] ............ (step 3 of 4) Processing scaler, total=   0.0s\n",
      "[Pipeline] ............... (step 4 of 4) Processing clf, total=   4.0s\n",
      "[CV 4/5] END clf=LogisticRegression(max_iter=10000, n_jobs=-1, random_state=8), clf__C=0.1, dim_reducer=PCA(), dim_reducer__n_components=0.9, scaler=MinMaxScaler(), transform__cv__max_features=500, transform__cv__min_df=0.05;, score=0.901 total time=   5.2s\n",
      "[Pipeline] ............ (step 3 of 4) Processing scaler, total=   0.0s\n",
      "[Pipeline] ............... (step 4 of 4) Processing clf, total=   5.6s\n",
      "[CV 5/5] END clf=LogisticRegression(max_iter=10000, n_jobs=-1, random_state=8), clf__C=0.1, dim_reducer=PCA(), dim_reducer__n_components=0.9, scaler=MinMaxScaler(), transform__cv__max_features=500, transform__cv__min_df=0.05;, score=0.899 total time=   6.9s\n",
      "[Pipeline] ....... (step 2 of 4) Processing dim_reducer, total=   0.0s\n",
      "[Pipeline] ............ (step 3 of 4) Processing scaler, total=   0.1s\n"
     ]
    },
    {
     "name": "stderr",
     "output_type": "stream",
     "text": [
      "/usr/local/lib/python3.9/dist-packages/sklearn/linear_model/_logistic.py:1211: UserWarning: 'n_jobs' > 1 does not have any effect when 'solver' is set to 'liblinear'. Got 'n_jobs' = 12.\n",
      "  warnings.warn(\n"
     ]
    },
    {
     "name": "stdout",
     "output_type": "stream",
     "text": [
      "[Pipeline] ............... (step 4 of 4) Processing clf, total=  53.2s\n",
      "[CV 1/5] END clf=LogisticRegression(max_iter=10000, n_jobs=-1, penalty='l1', random_state=8,\n",
      "                   solver='liblinear'), clf__C=1, dim_reducer=passthrough, scaler=StandardScaler(), transform__cv__max_features=500, transform__cv__min_df=0.05;, score=0.903 total time=  54.5s\n",
      "[Pipeline] ....... (step 2 of 4) Processing dim_reducer, total=   0.0s\n",
      "[Pipeline] ............ (step 3 of 4) Processing scaler, total=   0.1s\n"
     ]
    },
    {
     "name": "stderr",
     "output_type": "stream",
     "text": [
      "/usr/local/lib/python3.9/dist-packages/sklearn/linear_model/_logistic.py:1211: UserWarning: 'n_jobs' > 1 does not have any effect when 'solver' is set to 'liblinear'. Got 'n_jobs' = 12.\n",
      "  warnings.warn(\n"
     ]
    },
    {
     "name": "stdout",
     "output_type": "stream",
     "text": [
      "[Pipeline] ............... (step 4 of 4) Processing clf, total=  36.7s\n",
      "[CV 2/5] END clf=LogisticRegression(max_iter=10000, n_jobs=-1, penalty='l1', random_state=8,\n",
      "                   solver='liblinear'), clf__C=1, dim_reducer=passthrough, scaler=StandardScaler(), transform__cv__max_features=500, transform__cv__min_df=0.05;, score=0.899 total time=  38.0s\n",
      "[Pipeline] ....... (step 2 of 4) Processing dim_reducer, total=   0.0s\n",
      "[Pipeline] ............ (step 3 of 4) Processing scaler, total=   0.1s\n"
     ]
    },
    {
     "name": "stderr",
     "output_type": "stream",
     "text": [
      "/usr/local/lib/python3.9/dist-packages/sklearn/linear_model/_logistic.py:1211: UserWarning: 'n_jobs' > 1 does not have any effect when 'solver' is set to 'liblinear'. Got 'n_jobs' = 12.\n",
      "  warnings.warn(\n"
     ]
    },
    {
     "name": "stdout",
     "output_type": "stream",
     "text": [
      "[Pipeline] ............... (step 4 of 4) Processing clf, total=  45.3s\n",
      "[CV 3/5] END clf=LogisticRegression(max_iter=10000, n_jobs=-1, penalty='l1', random_state=8,\n",
      "                   solver='liblinear'), clf__C=1, dim_reducer=passthrough, scaler=StandardScaler(), transform__cv__max_features=500, transform__cv__min_df=0.05;, score=0.902 total time=  46.7s\n",
      "[Pipeline] ....... (step 2 of 4) Processing dim_reducer, total=   0.0s\n",
      "[Pipeline] ............ (step 3 of 4) Processing scaler, total=   0.1s\n"
     ]
    },
    {
     "name": "stderr",
     "output_type": "stream",
     "text": [
      "/usr/local/lib/python3.9/dist-packages/sklearn/linear_model/_logistic.py:1211: UserWarning: 'n_jobs' > 1 does not have any effect when 'solver' is set to 'liblinear'. Got 'n_jobs' = 12.\n",
      "  warnings.warn(\n"
     ]
    },
    {
     "name": "stdout",
     "output_type": "stream",
     "text": [
      "[Pipeline] ............... (step 4 of 4) Processing clf, total=  46.9s\n",
      "[CV 4/5] END clf=LogisticRegression(max_iter=10000, n_jobs=-1, penalty='l1', random_state=8,\n",
      "                   solver='liblinear'), clf__C=1, dim_reducer=passthrough, scaler=StandardScaler(), transform__cv__max_features=500, transform__cv__min_df=0.05;, score=0.899 total time=  48.2s\n",
      "[Pipeline] ....... (step 2 of 4) Processing dim_reducer, total=   0.0s\n",
      "[Pipeline] ............ (step 3 of 4) Processing scaler, total=   0.1s\n"
     ]
    },
    {
     "name": "stderr",
     "output_type": "stream",
     "text": [
      "/usr/local/lib/python3.9/dist-packages/sklearn/linear_model/_logistic.py:1211: UserWarning: 'n_jobs' > 1 does not have any effect when 'solver' is set to 'liblinear'. Got 'n_jobs' = 12.\n",
      "  warnings.warn(\n"
     ]
    },
    {
     "name": "stdout",
     "output_type": "stream",
     "text": [
      "[Pipeline] ............... (step 4 of 4) Processing clf, total=  49.7s\n",
      "[CV 5/5] END clf=LogisticRegression(max_iter=10000, n_jobs=-1, penalty='l1', random_state=8,\n",
      "                   solver='liblinear'), clf__C=1, dim_reducer=passthrough, scaler=StandardScaler(), transform__cv__max_features=500, transform__cv__min_df=0.05;, score=0.901 total time=  51.0s\n",
      "[Pipeline] ............ (step 3 of 4) Processing scaler, total=   0.0s\n",
      "[Pipeline] ............... (step 4 of 4) Processing clf, total=   5.6s\n",
      "[CV 1/5] END clf=LogisticRegression(max_iter=10000, n_jobs=-1, random_state=8), clf__C=0.1, dim_reducer=PCA(), dim_reducer__n_components=0.85, scaler=passthrough, transform__cv__max_features=500, transform__cv__min_df=0.05;, score=0.904 total time=   6.6s\n",
      "[Pipeline] ............ (step 3 of 4) Processing scaler, total=   0.0s\n",
      "[Pipeline] ............... (step 4 of 4) Processing clf, total=   5.5s\n",
      "[CV 2/5] END clf=LogisticRegression(max_iter=10000, n_jobs=-1, random_state=8), clf__C=0.1, dim_reducer=PCA(), dim_reducer__n_components=0.85, scaler=passthrough, transform__cv__max_features=500, transform__cv__min_df=0.05;, score=0.901 total time=   6.5s\n",
      "[Pipeline] ............ (step 3 of 4) Processing scaler, total=   0.0s\n",
      "[Pipeline] ............... (step 4 of 4) Processing clf, total=   4.5s\n",
      "[CV 3/5] END clf=LogisticRegression(max_iter=10000, n_jobs=-1, random_state=8), clf__C=0.1, dim_reducer=PCA(), dim_reducer__n_components=0.85, scaler=passthrough, transform__cv__max_features=500, transform__cv__min_df=0.05;, score=0.903 total time=   5.5s\n",
      "[Pipeline] ............ (step 3 of 4) Processing scaler, total=   0.0s\n",
      "[Pipeline] ............... (step 4 of 4) Processing clf, total=   5.1s\n",
      "[CV 4/5] END clf=LogisticRegression(max_iter=10000, n_jobs=-1, random_state=8), clf__C=0.1, dim_reducer=PCA(), dim_reducer__n_components=0.85, scaler=passthrough, transform__cv__max_features=500, transform__cv__min_df=0.05;, score=0.901 total time=   6.2s\n",
      "[Pipeline] ............ (step 3 of 4) Processing scaler, total=   0.0s\n",
      "[Pipeline] ............... (step 4 of 4) Processing clf, total=   4.9s\n",
      "[CV 5/5] END clf=LogisticRegression(max_iter=10000, n_jobs=-1, random_state=8), clf__C=0.1, dim_reducer=PCA(), dim_reducer__n_components=0.85, scaler=passthrough, transform__cv__max_features=500, transform__cv__min_df=0.05;, score=0.901 total time=   5.9s\n",
      "[Pipeline] ............ (step 3 of 4) Processing scaler, total=   0.0s\n",
      "[Pipeline] ............... (step 4 of 4) Processing clf, total=  11.4s\n",
      "[CV 1/5] END clf=LogisticRegression(max_iter=10000, n_jobs=-1, random_state=8), clf__C=1, dim_reducer=PCA(), dim_reducer__n_components=0.85, scaler=StandardScaler(with_mean=False), transform__cv__max_features=500, transform__cv__min_df=0.05;, score=0.904 total time=  12.7s\n",
      "[Pipeline] ............ (step 3 of 4) Processing scaler, total=   0.0s\n",
      "[Pipeline] ............... (step 4 of 4) Processing clf, total=   9.2s\n",
      "[CV 2/5] END clf=LogisticRegression(max_iter=10000, n_jobs=-1, random_state=8), clf__C=1, dim_reducer=PCA(), dim_reducer__n_components=0.85, scaler=StandardScaler(with_mean=False), transform__cv__max_features=500, transform__cv__min_df=0.05;, score=0.901 total time=  10.5s\n",
      "[Pipeline] ............ (step 3 of 4) Processing scaler, total=   0.0s\n",
      "[Pipeline] ............... (step 4 of 4) Processing clf, total=   6.9s\n",
      "[CV 3/5] END clf=LogisticRegression(max_iter=10000, n_jobs=-1, random_state=8), clf__C=1, dim_reducer=PCA(), dim_reducer__n_components=0.85, scaler=StandardScaler(with_mean=False), transform__cv__max_features=500, transform__cv__min_df=0.05;, score=0.903 total time=   8.2s\n",
      "[Pipeline] ............ (step 3 of 4) Processing scaler, total=   0.0s\n",
      "[Pipeline] ............... (step 4 of 4) Processing clf, total=   8.2s\n",
      "[CV 4/5] END clf=LogisticRegression(max_iter=10000, n_jobs=-1, random_state=8), clf__C=1, dim_reducer=PCA(), dim_reducer__n_components=0.85, scaler=StandardScaler(with_mean=False), transform__cv__max_features=500, transform__cv__min_df=0.05;, score=0.901 total time=   9.4s\n",
      "[Pipeline] ............ (step 3 of 4) Processing scaler, total=   0.0s\n",
      "[Pipeline] ............... (step 4 of 4) Processing clf, total=   9.7s\n",
      "[CV 5/5] END clf=LogisticRegression(max_iter=10000, n_jobs=-1, random_state=8), clf__C=1, dim_reducer=PCA(), dim_reducer__n_components=0.85, scaler=StandardScaler(with_mean=False), transform__cv__max_features=500, transform__cv__min_df=0.05;, score=0.902 total time=  11.0s\n",
      "[Pipeline] ............... (step 4 of 4) Processing clf, total=  10.2s\n",
      "[CV 1/5] END clf=LogisticRegression(max_iter=10000, n_jobs=-1, random_state=8), clf__C=1, dim_reducer=PCA(), dim_reducer__n_components=0.85, scaler=MinMaxScaler(), transform__cv__max_features=500, transform__cv__min_df=0.04;, score=0.894 total time=  11.3s\n",
      "[Pipeline] ............... (step 4 of 4) Processing clf, total=   8.4s\n",
      "[CV 2/5] END clf=LogisticRegression(max_iter=10000, n_jobs=-1, random_state=8), clf__C=1, dim_reducer=PCA(), dim_reducer__n_components=0.85, scaler=MinMaxScaler(), transform__cv__max_features=500, transform__cv__min_df=0.04;, score=0.901 total time=   9.4s\n",
      "[Pipeline] ............... (step 4 of 4) Processing clf, total=   9.4s\n",
      "[CV 3/5] END clf=LogisticRegression(max_iter=10000, n_jobs=-1, random_state=8), clf__C=1, dim_reducer=PCA(), dim_reducer__n_components=0.85, scaler=MinMaxScaler(), transform__cv__max_features=500, transform__cv__min_df=0.04;, score=0.903 total time=  10.5s\n",
      "[Pipeline] ............... (step 4 of 4) Processing clf, total=  10.1s\n",
      "[CV 4/5] END clf=LogisticRegression(max_iter=10000, n_jobs=-1, random_state=8), clf__C=1, dim_reducer=PCA(), dim_reducer__n_components=0.85, scaler=MinMaxScaler(), transform__cv__max_features=500, transform__cv__min_df=0.04;, score=0.892 total time=  11.2s\n",
      "[Pipeline] ............... (step 4 of 4) Processing clf, total=  10.4s\n",
      "[CV 5/5] END clf=LogisticRegression(max_iter=10000, n_jobs=-1, random_state=8), clf__C=1, dim_reducer=PCA(), dim_reducer__n_components=0.85, scaler=MinMaxScaler(), transform__cv__max_features=500, transform__cv__min_df=0.04;, score=0.893 total time=  11.5s\n",
      "[Pipeline] ............ (step 3 of 4) Processing scaler, total=   0.0s\n",
      "[Pipeline] ............... (step 4 of 4) Processing clf, total=   1.6s\n",
      "[CV 1/5] END clf=LogisticRegression(max_iter=10000, n_jobs=-1, random_state=8), clf__C=0.001, dim_reducer=PCA(), dim_reducer__n_components=0.9, scaler=passthrough, transform__cv__max_features=500, transform__cv__min_df=0.04;, score=0.905 total time=   2.6s\n",
      "[Pipeline] ............ (step 3 of 4) Processing scaler, total=   0.0s\n",
      "[Pipeline] ............... (step 4 of 4) Processing clf, total=   1.6s\n",
      "[CV 2/5] END clf=LogisticRegression(max_iter=10000, n_jobs=-1, random_state=8), clf__C=0.001, dim_reducer=PCA(), dim_reducer__n_components=0.9, scaler=passthrough, transform__cv__max_features=500, transform__cv__min_df=0.04;, score=0.903 total time=   2.6s\n",
      "[Pipeline] ............ (step 3 of 4) Processing scaler, total=   0.0s\n",
      "[Pipeline] ............... (step 4 of 4) Processing clf, total=   1.5s\n",
      "[CV 3/5] END clf=LogisticRegression(max_iter=10000, n_jobs=-1, random_state=8), clf__C=0.001, dim_reducer=PCA(), dim_reducer__n_components=0.9, scaler=passthrough, transform__cv__max_features=500, transform__cv__min_df=0.04;, score=0.903 total time=   2.6s\n",
      "[Pipeline] ............ (step 3 of 4) Processing scaler, total=   0.0s\n",
      "[Pipeline] ............... (step 4 of 4) Processing clf, total=   1.5s\n",
      "[CV 4/5] END clf=LogisticRegression(max_iter=10000, n_jobs=-1, random_state=8), clf__C=0.001, dim_reducer=PCA(), dim_reducer__n_components=0.9, scaler=passthrough, transform__cv__max_features=500, transform__cv__min_df=0.04;, score=0.902 total time=   2.6s\n",
      "[Pipeline] ............ (step 3 of 4) Processing scaler, total=   0.0s\n",
      "[Pipeline] ............... (step 4 of 4) Processing clf, total=   1.5s\n",
      "[CV 5/5] END clf=LogisticRegression(max_iter=10000, n_jobs=-1, random_state=8), clf__C=0.001, dim_reducer=PCA(), dim_reducer__n_components=0.9, scaler=passthrough, transform__cv__max_features=500, transform__cv__min_df=0.04;, score=0.903 total time=   2.6s\n",
      "[Pipeline] ....... (step 2 of 4) Processing dim_reducer, total=   0.3s\n",
      "[Pipeline] ............ (step 3 of 4) Processing scaler, total=   0.0s\n",
      "[Pipeline] ............... (step 4 of 4) Processing clf, total=   3.1s\n",
      "[CV 1/5] END clf=LogisticRegression(max_iter=10000, n_jobs=-1, random_state=8), clf__C=1, dim_reducer=PCA(), dim_reducer__n_components=0.8, scaler=StandardScaler(with_mean=False), transform__cv__max_features=500, transform__cv__min_df=0.05;, score=0.904 total time=   4.8s\n",
      "[Pipeline] ....... (step 2 of 4) Processing dim_reducer, total=   0.3s\n",
      "[Pipeline] ............ (step 3 of 4) Processing scaler, total=   0.0s\n",
      "[Pipeline] ............... (step 4 of 4) Processing clf, total=   3.9s\n",
      "[CV 2/5] END clf=LogisticRegression(max_iter=10000, n_jobs=-1, random_state=8), clf__C=1, dim_reducer=PCA(), dim_reducer__n_components=0.8, scaler=StandardScaler(with_mean=False), transform__cv__max_features=500, transform__cv__min_df=0.05;, score=0.901 total time=   5.7s\n",
      "[Pipeline] ....... (step 2 of 4) Processing dim_reducer, total=   0.4s\n",
      "[Pipeline] ............ (step 3 of 4) Processing scaler, total=   0.0s\n",
      "[Pipeline] ............... (step 4 of 4) Processing clf, total=   3.8s\n",
      "[CV 3/5] END clf=LogisticRegression(max_iter=10000, n_jobs=-1, random_state=8), clf__C=1, dim_reducer=PCA(), dim_reducer__n_components=0.8, scaler=StandardScaler(with_mean=False), transform__cv__max_features=500, transform__cv__min_df=0.05;, score=0.902 total time=   5.6s\n",
      "[Pipeline] ....... (step 2 of 4) Processing dim_reducer, total=   0.3s\n",
      "[Pipeline] ............ (step 3 of 4) Processing scaler, total=   0.0s\n",
      "[Pipeline] ............... (step 4 of 4) Processing clf, total=   3.4s\n",
      "[CV 4/5] END clf=LogisticRegression(max_iter=10000, n_jobs=-1, random_state=8), clf__C=1, dim_reducer=PCA(), dim_reducer__n_components=0.8, scaler=StandardScaler(with_mean=False), transform__cv__max_features=500, transform__cv__min_df=0.05;, score=0.900 total time=   5.2s\n",
      "[Pipeline] ....... (step 2 of 4) Processing dim_reducer, total=   0.3s\n",
      "[Pipeline] ............ (step 3 of 4) Processing scaler, total=   0.0s\n",
      "[Pipeline] ............... (step 4 of 4) Processing clf, total=   3.2s\n",
      "[CV 5/5] END clf=LogisticRegression(max_iter=10000, n_jobs=-1, random_state=8), clf__C=1, dim_reducer=PCA(), dim_reducer__n_components=0.8, scaler=StandardScaler(with_mean=False), transform__cv__max_features=500, transform__cv__min_df=0.05;, score=0.900 total time=   5.0s\n",
      "[Pipeline] ............ (step 3 of 4) Processing scaler, total=   0.0s\n",
      "[Pipeline] ............... (step 4 of 4) Processing clf, total=  13.9s\n",
      "[CV 1/5] END clf=LogisticRegression(max_iter=10000, n_jobs=-1, random_state=8), clf__C=1, dim_reducer=PCA(), dim_reducer__n_components=0.9, scaler=passthrough, transform__cv__max_features=500, transform__cv__min_df=0.03;, score=0.904 total time=  14.9s\n",
      "[Pipeline] ............ (step 3 of 4) Processing scaler, total=   0.0s\n",
      "[Pipeline] ............... (step 4 of 4) Processing clf, total=  15.3s\n",
      "[CV 2/5] END clf=LogisticRegression(max_iter=10000, n_jobs=-1, random_state=8), clf__C=1, dim_reducer=PCA(), dim_reducer__n_components=0.9, scaler=passthrough, transform__cv__max_features=500, transform__cv__min_df=0.03;, score=0.901 total time=  16.3s\n",
      "[Pipeline] ............ (step 3 of 4) Processing scaler, total=   0.0s\n",
      "[Pipeline] ............... (step 4 of 4) Processing clf, total=  15.3s\n",
      "[CV 3/5] END clf=LogisticRegression(max_iter=10000, n_jobs=-1, random_state=8), clf__C=1, dim_reducer=PCA(), dim_reducer__n_components=0.9, scaler=passthrough, transform__cv__max_features=500, transform__cv__min_df=0.03;, score=0.903 total time=  16.4s\n",
      "[Pipeline] ............ (step 3 of 4) Processing scaler, total=   0.0s\n",
      "[Pipeline] ............... (step 4 of 4) Processing clf, total=  19.0s\n",
      "[CV 4/5] END clf=LogisticRegression(max_iter=10000, n_jobs=-1, random_state=8), clf__C=1, dim_reducer=PCA(), dim_reducer__n_components=0.9, scaler=passthrough, transform__cv__max_features=500, transform__cv__min_df=0.03;, score=0.900 total time=  20.1s\n",
      "[Pipeline] ............ (step 3 of 4) Processing scaler, total=   0.0s\n",
      "[Pipeline] ............... (step 4 of 4) Processing clf, total=  17.7s\n",
      "[CV 5/5] END clf=LogisticRegression(max_iter=10000, n_jobs=-1, random_state=8), clf__C=1, dim_reducer=PCA(), dim_reducer__n_components=0.9, scaler=passthrough, transform__cv__max_features=500, transform__cv__min_df=0.03;, score=0.902 total time=  18.8s\n",
      "[Pipeline] ....... (step 2 of 4) Processing dim_reducer, total=   0.0s\n"
     ]
    },
    {
     "name": "stderr",
     "output_type": "stream",
     "text": [
      "/usr/local/lib/python3.9/dist-packages/sklearn/linear_model/_logistic.py:1211: UserWarning: 'n_jobs' > 1 does not have any effect when 'solver' is set to 'liblinear'. Got 'n_jobs' = 12.\n",
      "  warnings.warn(\n"
     ]
    },
    {
     "name": "stdout",
     "output_type": "stream",
     "text": [
      "[Pipeline] ............... (step 4 of 4) Processing clf, total=   0.4s\n",
      "[CV 1/5] END clf=LogisticRegression(max_iter=10000, n_jobs=-1, penalty='l1', random_state=8,\n",
      "                   solver='liblinear'), clf__C=1000, dim_reducer=passthrough, scaler=MinMaxScaler(), transform__cv__max_features=500, transform__cv__min_df=0.04;, score=0.903 total time=   1.4s\n",
      "[Pipeline] ....... (step 2 of 4) Processing dim_reducer, total=   0.0s\n"
     ]
    },
    {
     "name": "stderr",
     "output_type": "stream",
     "text": [
      "/usr/local/lib/python3.9/dist-packages/sklearn/linear_model/_logistic.py:1211: UserWarning: 'n_jobs' > 1 does not have any effect when 'solver' is set to 'liblinear'. Got 'n_jobs' = 12.\n",
      "  warnings.warn(\n"
     ]
    },
    {
     "name": "stdout",
     "output_type": "stream",
     "text": [
      "[Pipeline] ............... (step 4 of 4) Processing clf, total=   0.4s\n",
      "[CV 2/5] END clf=LogisticRegression(max_iter=10000, n_jobs=-1, penalty='l1', random_state=8,\n",
      "                   solver='liblinear'), clf__C=1000, dim_reducer=passthrough, scaler=MinMaxScaler(), transform__cv__max_features=500, transform__cv__min_df=0.04;, score=0.900 total time=   1.4s\n",
      "[Pipeline] ....... (step 2 of 4) Processing dim_reducer, total=   0.0s\n"
     ]
    },
    {
     "name": "stderr",
     "output_type": "stream",
     "text": [
      "/usr/local/lib/python3.9/dist-packages/sklearn/linear_model/_logistic.py:1211: UserWarning: 'n_jobs' > 1 does not have any effect when 'solver' is set to 'liblinear'. Got 'n_jobs' = 12.\n",
      "  warnings.warn(\n"
     ]
    },
    {
     "name": "stdout",
     "output_type": "stream",
     "text": [
      "[Pipeline] ............... (step 4 of 4) Processing clf, total=   0.4s\n",
      "[CV 3/5] END clf=LogisticRegression(max_iter=10000, n_jobs=-1, penalty='l1', random_state=8,\n",
      "                   solver='liblinear'), clf__C=1000, dim_reducer=passthrough, scaler=MinMaxScaler(), transform__cv__max_features=500, transform__cv__min_df=0.04;, score=0.902 total time=   1.4s\n",
      "[Pipeline] ....... (step 2 of 4) Processing dim_reducer, total=   0.0s\n"
     ]
    },
    {
     "name": "stderr",
     "output_type": "stream",
     "text": [
      "/usr/local/lib/python3.9/dist-packages/sklearn/linear_model/_logistic.py:1211: UserWarning: 'n_jobs' > 1 does not have any effect when 'solver' is set to 'liblinear'. Got 'n_jobs' = 12.\n",
      "  warnings.warn(\n"
     ]
    },
    {
     "name": "stdout",
     "output_type": "stream",
     "text": [
      "[Pipeline] ............... (step 4 of 4) Processing clf, total=   0.4s\n",
      "[CV 4/5] END clf=LogisticRegression(max_iter=10000, n_jobs=-1, penalty='l1', random_state=8,\n",
      "                   solver='liblinear'), clf__C=1000, dim_reducer=passthrough, scaler=MinMaxScaler(), transform__cv__max_features=500, transform__cv__min_df=0.04;, score=0.900 total time=   1.4s\n",
      "[Pipeline] ....... (step 2 of 4) Processing dim_reducer, total=   0.0s\n"
     ]
    },
    {
     "name": "stderr",
     "output_type": "stream",
     "text": [
      "/usr/local/lib/python3.9/dist-packages/sklearn/linear_model/_logistic.py:1211: UserWarning: 'n_jobs' > 1 does not have any effect when 'solver' is set to 'liblinear'. Got 'n_jobs' = 12.\n",
      "  warnings.warn(\n"
     ]
    },
    {
     "name": "stdout",
     "output_type": "stream",
     "text": [
      "[Pipeline] ............... (step 4 of 4) Processing clf, total=   0.4s\n",
      "[CV 5/5] END clf=LogisticRegression(max_iter=10000, n_jobs=-1, penalty='l1', random_state=8,\n",
      "                   solver='liblinear'), clf__C=1000, dim_reducer=passthrough, scaler=MinMaxScaler(), transform__cv__max_features=500, transform__cv__min_df=0.04;, score=0.901 total time=   1.4s\n",
      "[Pipeline] ............ (step 3 of 4) Processing scaler, total=   0.0s\n",
      "[Pipeline] ............... (step 4 of 4) Processing clf, total=   2.0s\n",
      "[CV 1/5] END clf=LogisticRegression(max_iter=10000, n_jobs=-1, random_state=8), clf__C=0.001, dim_reducer=PCA(), dim_reducer__n_components=0.95, scaler=passthrough, transform__cv__max_features=500, transform__cv__min_df=0.04;, score=0.904 total time=   3.0s\n",
      "[Pipeline] ............ (step 3 of 4) Processing scaler, total=   0.0s\n",
      "[Pipeline] ............... (step 4 of 4) Processing clf, total=   2.0s\n",
      "[CV 2/5] END clf=LogisticRegression(max_iter=10000, n_jobs=-1, random_state=8), clf__C=0.001, dim_reducer=PCA(), dim_reducer__n_components=0.95, scaler=passthrough, transform__cv__max_features=500, transform__cv__min_df=0.04;, score=0.902 total time=   3.0s\n",
      "[Pipeline] ............ (step 3 of 4) Processing scaler, total=   0.0s\n",
      "[Pipeline] ............... (step 4 of 4) Processing clf, total=   2.1s\n",
      "[CV 3/5] END clf=LogisticRegression(max_iter=10000, n_jobs=-1, random_state=8), clf__C=0.001, dim_reducer=PCA(), dim_reducer__n_components=0.95, scaler=passthrough, transform__cv__max_features=500, transform__cv__min_df=0.04;, score=0.903 total time=   3.2s\n",
      "[Pipeline] ............ (step 3 of 4) Processing scaler, total=   0.0s\n",
      "[Pipeline] ............... (step 4 of 4) Processing clf, total=   2.1s\n",
      "[CV 4/5] END clf=LogisticRegression(max_iter=10000, n_jobs=-1, random_state=8), clf__C=0.001, dim_reducer=PCA(), dim_reducer__n_components=0.95, scaler=passthrough, transform__cv__max_features=500, transform__cv__min_df=0.04;, score=0.902 total time=   3.1s\n",
      "[Pipeline] ............ (step 3 of 4) Processing scaler, total=   0.0s\n",
      "[Pipeline] ............... (step 4 of 4) Processing clf, total=   2.0s\n",
      "[CV 5/5] END clf=LogisticRegression(max_iter=10000, n_jobs=-1, random_state=8), clf__C=0.001, dim_reducer=PCA(), dim_reducer__n_components=0.95, scaler=passthrough, transform__cv__max_features=500, transform__cv__min_df=0.04;, score=0.903 total time=   3.0s\n",
      "[Pipeline] ............... (step 4 of 4) Processing clf, total=   8.6s\n",
      "[CV 1/5] END clf=LogisticRegression(max_iter=10000, n_jobs=-1, random_state=8), clf__C=1000, dim_reducer=PCA(), dim_reducer__n_components=0.85, scaler=StandardScaler(with_mean=False), transform__cv__max_features=500, transform__cv__min_df=0.04;, score=0.904 total time=   9.6s\n",
      "[Pipeline] ............... (step 4 of 4) Processing clf, total=   9.6s\n",
      "[CV 2/5] END clf=LogisticRegression(max_iter=10000, n_jobs=-1, random_state=8), clf__C=1000, dim_reducer=PCA(), dim_reducer__n_components=0.85, scaler=StandardScaler(with_mean=False), transform__cv__max_features=500, transform__cv__min_df=0.04;, score=0.901 total time=  10.7s\n",
      "[Pipeline] ............... (step 4 of 4) Processing clf, total=   8.7s\n",
      "[CV 3/5] END clf=LogisticRegression(max_iter=10000, n_jobs=-1, random_state=8), clf__C=1000, dim_reducer=PCA(), dim_reducer__n_components=0.85, scaler=StandardScaler(with_mean=False), transform__cv__max_features=500, transform__cv__min_df=0.04;, score=0.903 total time=   9.8s\n",
      "[Pipeline] ............... (step 4 of 4) Processing clf, total=  14.3s\n",
      "[CV 4/5] END clf=LogisticRegression(max_iter=10000, n_jobs=-1, random_state=8), clf__C=1000, dim_reducer=PCA(), dim_reducer__n_components=0.85, scaler=StandardScaler(with_mean=False), transform__cv__max_features=500, transform__cv__min_df=0.04;, score=0.901 total time=  15.4s\n",
      "[Pipeline] ............... (step 4 of 4) Processing clf, total=   6.3s\n",
      "[CV 5/5] END clf=LogisticRegression(max_iter=10000, n_jobs=-1, random_state=8), clf__C=1000, dim_reducer=PCA(), dim_reducer__n_components=0.85, scaler=StandardScaler(with_mean=False), transform__cv__max_features=500, transform__cv__min_df=0.04;, score=0.902 total time=   7.4s\n",
      "[Pipeline] ....... (step 2 of 4) Processing dim_reducer, total=   0.0s\n",
      "[Pipeline] ............... (step 4 of 4) Processing clf, total=   4.2s\n",
      "[CV 1/5] END clf=LogisticRegression(max_iter=10000, n_jobs=-1, random_state=8), clf__C=0.001, dim_reducer=passthrough, scaler=StandardScaler(with_mean=False), transform__cv__max_features=500, transform__cv__min_df=0.03;, score=0.905 total time=   5.3s\n",
      "[Pipeline] ....... (step 2 of 4) Processing dim_reducer, total=   0.0s\n",
      "[Pipeline] ............... (step 4 of 4) Processing clf, total=   3.9s\n",
      "[CV 2/5] END clf=LogisticRegression(max_iter=10000, n_jobs=-1, random_state=8), clf__C=0.001, dim_reducer=passthrough, scaler=StandardScaler(with_mean=False), transform__cv__max_features=500, transform__cv__min_df=0.03;, score=0.902 total time=   5.0s\n",
      "[Pipeline] ....... (step 2 of 4) Processing dim_reducer, total=   0.0s\n",
      "[Pipeline] ............... (step 4 of 4) Processing clf, total=   3.7s\n",
      "[CV 3/5] END clf=LogisticRegression(max_iter=10000, n_jobs=-1, random_state=8), clf__C=0.001, dim_reducer=passthrough, scaler=StandardScaler(with_mean=False), transform__cv__max_features=500, transform__cv__min_df=0.03;, score=0.903 total time=   4.8s\n",
      "[Pipeline] ....... (step 2 of 4) Processing dim_reducer, total=   0.0s\n",
      "[Pipeline] ............... (step 4 of 4) Processing clf, total=   3.7s\n",
      "[CV 4/5] END clf=LogisticRegression(max_iter=10000, n_jobs=-1, random_state=8), clf__C=0.001, dim_reducer=passthrough, scaler=StandardScaler(with_mean=False), transform__cv__max_features=500, transform__cv__min_df=0.03;, score=0.901 total time=   4.8s\n",
      "[Pipeline] ....... (step 2 of 4) Processing dim_reducer, total=   0.0s\n",
      "[Pipeline] ............... (step 4 of 4) Processing clf, total=   4.1s\n",
      "[CV 5/5] END clf=LogisticRegression(max_iter=10000, n_jobs=-1, random_state=8), clf__C=0.001, dim_reducer=passthrough, scaler=StandardScaler(with_mean=False), transform__cv__max_features=500, transform__cv__min_df=0.03;, score=0.903 total time=   5.2s\n",
      "[Pipeline] ............ (step 3 of 4) Processing scaler, total=   0.0s\n",
      "[Pipeline] ............... (step 4 of 4) Processing clf, total=  18.9s\n",
      "[CV 1/5] END clf=LogisticRegression(max_iter=10000, n_jobs=-1, random_state=8), clf__C=10, dim_reducer=PCA(), dim_reducer__n_components=0.95, scaler=passthrough, transform__cv__max_features=500, transform__cv__min_df=0.05;, score=0.903 total time=  19.9s\n",
      "[Pipeline] ............ (step 3 of 4) Processing scaler, total=   0.0s\n",
      "[Pipeline] ............... (step 4 of 4) Processing clf, total=  16.6s\n",
      "[CV 2/5] END clf=LogisticRegression(max_iter=10000, n_jobs=-1, random_state=8), clf__C=10, dim_reducer=PCA(), dim_reducer__n_components=0.95, scaler=passthrough, transform__cv__max_features=500, transform__cv__min_df=0.05;, score=0.900 total time=  17.6s\n",
      "[Pipeline] ............ (step 3 of 4) Processing scaler, total=   0.0s\n",
      "[Pipeline] ............... (step 4 of 4) Processing clf, total=  23.1s\n",
      "[CV 3/5] END clf=LogisticRegression(max_iter=10000, n_jobs=-1, random_state=8), clf__C=10, dim_reducer=PCA(), dim_reducer__n_components=0.95, scaler=passthrough, transform__cv__max_features=500, transform__cv__min_df=0.05;, score=0.902 total time=  24.1s\n",
      "[Pipeline] ............ (step 3 of 4) Processing scaler, total=   0.0s\n",
      "[Pipeline] ............... (step 4 of 4) Processing clf, total=  35.5s\n",
      "[CV 4/5] END clf=LogisticRegression(max_iter=10000, n_jobs=-1, random_state=8), clf__C=10, dim_reducer=PCA(), dim_reducer__n_components=0.95, scaler=passthrough, transform__cv__max_features=500, transform__cv__min_df=0.05;, score=0.899 total time=  36.6s\n",
      "[Pipeline] ............ (step 3 of 4) Processing scaler, total=   0.0s\n",
      "[Pipeline] ............... (step 4 of 4) Processing clf, total=  30.6s\n",
      "[CV 5/5] END clf=LogisticRegression(max_iter=10000, n_jobs=-1, random_state=8), clf__C=10, dim_reducer=PCA(), dim_reducer__n_components=0.95, scaler=passthrough, transform__cv__max_features=500, transform__cv__min_df=0.05;, score=0.901 total time=  31.6s\n",
      "[Pipeline] ....... (step 2 of 4) Processing dim_reducer, total=   0.0s\n",
      "[Pipeline] ............ (step 3 of 4) Processing scaler, total=   0.1s\n",
      "[Pipeline] ............... (step 4 of 4) Processing clf, total=   6.7s\n",
      "[CV 1/5] END clf=LogisticRegression(max_iter=10000, n_jobs=-1, random_state=8), clf__C=0.1, dim_reducer=passthrough, scaler=StandardScaler(with_mean=False), transform__cv__max_features=500, transform__cv__min_df=0.04;, score=0.903 total time=   8.1s\n",
      "[Pipeline] ....... (step 2 of 4) Processing dim_reducer, total=   0.0s\n",
      "[Pipeline] ............ (step 3 of 4) Processing scaler, total=   0.1s\n",
      "[Pipeline] ............... (step 4 of 4) Processing clf, total=   7.0s\n",
      "[CV 2/5] END clf=LogisticRegression(max_iter=10000, n_jobs=-1, random_state=8), clf__C=0.1, dim_reducer=passthrough, scaler=StandardScaler(with_mean=False), transform__cv__max_features=500, transform__cv__min_df=0.04;, score=0.900 total time=   8.4s\n",
      "[Pipeline] ....... (step 2 of 4) Processing dim_reducer, total=   0.0s\n",
      "[Pipeline] ............ (step 3 of 4) Processing scaler, total=   0.1s\n",
      "[Pipeline] ............... (step 4 of 4) Processing clf, total=   6.7s\n",
      "[CV 3/5] END clf=LogisticRegression(max_iter=10000, n_jobs=-1, random_state=8), clf__C=0.1, dim_reducer=passthrough, scaler=StandardScaler(with_mean=False), transform__cv__max_features=500, transform__cv__min_df=0.04;, score=0.902 total time=   8.1s\n",
      "[Pipeline] ....... (step 2 of 4) Processing dim_reducer, total=   0.0s\n",
      "[Pipeline] ............ (step 3 of 4) Processing scaler, total=   0.1s\n",
      "[Pipeline] ............... (step 4 of 4) Processing clf, total=   7.1s\n",
      "[CV 4/5] END clf=LogisticRegression(max_iter=10000, n_jobs=-1, random_state=8), clf__C=0.1, dim_reducer=passthrough, scaler=StandardScaler(with_mean=False), transform__cv__max_features=500, transform__cv__min_df=0.04;, score=0.900 total time=   8.5s\n",
      "[Pipeline] ....... (step 2 of 4) Processing dim_reducer, total=   0.0s\n",
      "[Pipeline] ............ (step 3 of 4) Processing scaler, total=   0.1s\n",
      "[Pipeline] ............... (step 4 of 4) Processing clf, total=   6.6s\n",
      "[CV 5/5] END clf=LogisticRegression(max_iter=10000, n_jobs=-1, random_state=8), clf__C=0.1, dim_reducer=passthrough, scaler=StandardScaler(with_mean=False), transform__cv__max_features=500, transform__cv__min_df=0.04;, score=0.901 total time=   8.1s\n",
      "[Pipeline] ............ (step 3 of 4) Processing scaler, total=   0.0s\n",
      "[Pipeline] ............... (step 4 of 4) Processing clf, total=  19.3s\n",
      "[CV 1/5] END clf=LogisticRegression(max_iter=10000, n_jobs=-1, random_state=8), clf__C=100, dim_reducer=PCA(), dim_reducer__n_components=0.9, scaler=StandardScaler(with_mean=False), transform__cv__max_features=500, transform__cv__min_df=0.05;, score=0.904 total time=  20.6s\n",
      "[Pipeline] ............ (step 3 of 4) Processing scaler, total=   0.0s\n",
      "[Pipeline] ............... (step 4 of 4) Processing clf, total=  17.6s\n",
      "[CV 2/5] END clf=LogisticRegression(max_iter=10000, n_jobs=-1, random_state=8), clf__C=100, dim_reducer=PCA(), dim_reducer__n_components=0.9, scaler=StandardScaler(with_mean=False), transform__cv__max_features=500, transform__cv__min_df=0.05;, score=0.901 total time=  18.9s\n",
      "[Pipeline] ............ (step 3 of 4) Processing scaler, total=   0.0s\n",
      "[Pipeline] ............... (step 4 of 4) Processing clf, total=  17.4s\n",
      "[CV 3/5] END clf=LogisticRegression(max_iter=10000, n_jobs=-1, random_state=8), clf__C=100, dim_reducer=PCA(), dim_reducer__n_components=0.9, scaler=StandardScaler(with_mean=False), transform__cv__max_features=500, transform__cv__min_df=0.05;, score=0.902 total time=  18.7s\n",
      "[Pipeline] ............ (step 3 of 4) Processing scaler, total=   0.0s\n",
      "[Pipeline] ............... (step 4 of 4) Processing clf, total=  19.6s\n",
      "[CV 4/5] END clf=LogisticRegression(max_iter=10000, n_jobs=-1, random_state=8), clf__C=100, dim_reducer=PCA(), dim_reducer__n_components=0.9, scaler=StandardScaler(with_mean=False), transform__cv__max_features=500, transform__cv__min_df=0.05;, score=0.900 total time=  20.9s\n",
      "[Pipeline] ............ (step 3 of 4) Processing scaler, total=   0.0s\n",
      "[Pipeline] ............... (step 4 of 4) Processing clf, total=  18.5s\n",
      "[CV 5/5] END clf=LogisticRegression(max_iter=10000, n_jobs=-1, random_state=8), clf__C=100, dim_reducer=PCA(), dim_reducer__n_components=0.9, scaler=StandardScaler(with_mean=False), transform__cv__max_features=500, transform__cv__min_df=0.05;, score=0.902 total time=  19.8s\n",
      "[Pipeline] ............ (step 3 of 4) Processing scaler, total=   0.0s\n",
      "[Pipeline] ............... (step 4 of 4) Processing clf, total=   6.6s\n",
      "[CV 1/5] END clf=LogisticRegression(max_iter=10000, n_jobs=-1, random_state=8), clf__C=0.1, dim_reducer=PCA(), dim_reducer__n_components=0.95, scaler=passthrough, transform__cv__max_features=500, transform__cv__min_df=0.05;, score=0.903 total time=   7.6s\n",
      "[Pipeline] ............ (step 3 of 4) Processing scaler, total=   0.0s\n",
      "[Pipeline] ............... (step 4 of 4) Processing clf, total=   6.2s\n",
      "[CV 2/5] END clf=LogisticRegression(max_iter=10000, n_jobs=-1, random_state=8), clf__C=0.1, dim_reducer=PCA(), dim_reducer__n_components=0.95, scaler=passthrough, transform__cv__max_features=500, transform__cv__min_df=0.05;, score=0.900 total time=   7.2s\n",
      "[Pipeline] ............ (step 3 of 4) Processing scaler, total=   0.0s\n",
      "[Pipeline] ............... (step 4 of 4) Processing clf, total=   7.1s\n",
      "[CV 3/5] END clf=LogisticRegression(max_iter=10000, n_jobs=-1, random_state=8), clf__C=0.1, dim_reducer=PCA(), dim_reducer__n_components=0.95, scaler=passthrough, transform__cv__max_features=500, transform__cv__min_df=0.05;, score=0.902 total time=   8.1s\n",
      "[Pipeline] ............ (step 3 of 4) Processing scaler, total=   0.0s\n",
      "[Pipeline] ............... (step 4 of 4) Processing clf, total=   6.4s\n",
      "[CV 4/5] END clf=LogisticRegression(max_iter=10000, n_jobs=-1, random_state=8), clf__C=0.1, dim_reducer=PCA(), dim_reducer__n_components=0.95, scaler=passthrough, transform__cv__max_features=500, transform__cv__min_df=0.05;, score=0.900 total time=   7.4s\n",
      "[Pipeline] ............ (step 3 of 4) Processing scaler, total=   0.0s\n",
      "[Pipeline] ............... (step 4 of 4) Processing clf, total=   7.1s\n",
      "[CV 5/5] END clf=LogisticRegression(max_iter=10000, n_jobs=-1, random_state=8), clf__C=0.1, dim_reducer=PCA(), dim_reducer__n_components=0.95, scaler=passthrough, transform__cv__max_features=500, transform__cv__min_df=0.05;, score=0.901 total time=   8.1s\n",
      "[Pipeline] ....... (step 2 of 4) Processing dim_reducer, total=   0.0s\n"
     ]
    },
    {
     "name": "stderr",
     "output_type": "stream",
     "text": [
      "/usr/local/lib/python3.9/dist-packages/sklearn/linear_model/_logistic.py:1211: UserWarning: 'n_jobs' > 1 does not have any effect when 'solver' is set to 'liblinear'. Got 'n_jobs' = 12.\n",
      "  warnings.warn(\n"
     ]
    },
    {
     "name": "stdout",
     "output_type": "stream",
     "text": [
      "[Pipeline] ............... (step 4 of 4) Processing clf, total=   0.5s\n",
      "[CV 1/5] END clf=LogisticRegression(max_iter=10000, n_jobs=-1, penalty='l1', random_state=8,\n",
      "                   solver='liblinear'), clf__C=0.001, dim_reducer=passthrough, scaler=StandardScaler(), transform__cv__max_features=500, transform__cv__min_df=0.05;, score=0.893 total time=   1.5s\n",
      "[Pipeline] ....... (step 2 of 4) Processing dim_reducer, total=   0.0s\n"
     ]
    },
    {
     "name": "stderr",
     "output_type": "stream",
     "text": [
      "/usr/local/lib/python3.9/dist-packages/sklearn/linear_model/_logistic.py:1211: UserWarning: 'n_jobs' > 1 does not have any effect when 'solver' is set to 'liblinear'. Got 'n_jobs' = 12.\n",
      "  warnings.warn(\n"
     ]
    },
    {
     "name": "stdout",
     "output_type": "stream",
     "text": [
      "[Pipeline] ............... (step 4 of 4) Processing clf, total=   0.5s\n",
      "[CV 2/5] END clf=LogisticRegression(max_iter=10000, n_jobs=-1, penalty='l1', random_state=8,\n",
      "                   solver='liblinear'), clf__C=0.001, dim_reducer=passthrough, scaler=StandardScaler(), transform__cv__max_features=500, transform__cv__min_df=0.05;, score=0.895 total time=   1.5s\n",
      "[Pipeline] ....... (step 2 of 4) Processing dim_reducer, total=   0.0s\n"
     ]
    },
    {
     "name": "stderr",
     "output_type": "stream",
     "text": [
      "/usr/local/lib/python3.9/dist-packages/sklearn/linear_model/_logistic.py:1211: UserWarning: 'n_jobs' > 1 does not have any effect when 'solver' is set to 'liblinear'. Got 'n_jobs' = 12.\n",
      "  warnings.warn(\n"
     ]
    },
    {
     "name": "stdout",
     "output_type": "stream",
     "text": [
      "[Pipeline] ............... (step 4 of 4) Processing clf, total=   0.6s\n",
      "[CV 3/5] END clf=LogisticRegression(max_iter=10000, n_jobs=-1, penalty='l1', random_state=8,\n",
      "                   solver='liblinear'), clf__C=0.001, dim_reducer=passthrough, scaler=StandardScaler(), transform__cv__max_features=500, transform__cv__min_df=0.05;, score=0.896 total time=   1.6s\n",
      "[Pipeline] ....... (step 2 of 4) Processing dim_reducer, total=   0.0s\n"
     ]
    },
    {
     "name": "stderr",
     "output_type": "stream",
     "text": [
      "/usr/local/lib/python3.9/dist-packages/sklearn/linear_model/_logistic.py:1211: UserWarning: 'n_jobs' > 1 does not have any effect when 'solver' is set to 'liblinear'. Got 'n_jobs' = 12.\n",
      "  warnings.warn(\n"
     ]
    },
    {
     "name": "stdout",
     "output_type": "stream",
     "text": [
      "[Pipeline] ............... (step 4 of 4) Processing clf, total=   0.5s\n",
      "[CV 4/5] END clf=LogisticRegression(max_iter=10000, n_jobs=-1, penalty='l1', random_state=8,\n",
      "                   solver='liblinear'), clf__C=0.001, dim_reducer=passthrough, scaler=StandardScaler(), transform__cv__max_features=500, transform__cv__min_df=0.05;, score=0.895 total time=   1.6s\n",
      "[Pipeline] ....... (step 2 of 4) Processing dim_reducer, total=   0.0s\n"
     ]
    },
    {
     "name": "stderr",
     "output_type": "stream",
     "text": [
      "/usr/local/lib/python3.9/dist-packages/sklearn/linear_model/_logistic.py:1211: UserWarning: 'n_jobs' > 1 does not have any effect when 'solver' is set to 'liblinear'. Got 'n_jobs' = 12.\n",
      "  warnings.warn(\n"
     ]
    },
    {
     "name": "stdout",
     "output_type": "stream",
     "text": [
      "[Pipeline] ............... (step 4 of 4) Processing clf, total=   0.6s\n",
      "[CV 5/5] END clf=LogisticRegression(max_iter=10000, n_jobs=-1, penalty='l1', random_state=8,\n",
      "                   solver='liblinear'), clf__C=0.001, dim_reducer=passthrough, scaler=StandardScaler(), transform__cv__max_features=500, transform__cv__min_df=0.05;, score=0.896 total time=   1.6s\n",
      "[Pipeline] ............... (step 4 of 4) Processing clf, total=   6.2s\n",
      "[CV 1/5] END clf=LogisticRegression(max_iter=10000, n_jobs=-1, random_state=8), clf__C=0.1, dim_reducer=PCA(), dim_reducer__n_components=0.95, scaler=StandardScaler(with_mean=False), transform__cv__max_features=500, transform__cv__min_df=0.05;, score=0.903 total time=   7.3s\n",
      "[Pipeline] ............... (step 4 of 4) Processing clf, total=   7.3s\n",
      "[CV 2/5] END clf=LogisticRegression(max_iter=10000, n_jobs=-1, random_state=8), clf__C=0.1, dim_reducer=PCA(), dim_reducer__n_components=0.95, scaler=StandardScaler(with_mean=False), transform__cv__max_features=500, transform__cv__min_df=0.05;, score=0.900 total time=   8.4s\n",
      "[Pipeline] ............... (step 4 of 4) Processing clf, total=   6.6s\n",
      "[CV 3/5] END clf=LogisticRegression(max_iter=10000, n_jobs=-1, random_state=8), clf__C=0.1, dim_reducer=PCA(), dim_reducer__n_components=0.95, scaler=StandardScaler(with_mean=False), transform__cv__max_features=500, transform__cv__min_df=0.05;, score=0.902 total time=   7.7s\n",
      "[Pipeline] ............... (step 4 of 4) Processing clf, total=   7.7s\n",
      "[CV 4/5] END clf=LogisticRegression(max_iter=10000, n_jobs=-1, random_state=8), clf__C=0.1, dim_reducer=PCA(), dim_reducer__n_components=0.95, scaler=StandardScaler(with_mean=False), transform__cv__max_features=500, transform__cv__min_df=0.05;, score=0.900 total time=   8.8s\n",
      "[Pipeline] ............... (step 4 of 4) Processing clf, total=   7.3s\n",
      "[CV 5/5] END clf=LogisticRegression(max_iter=10000, n_jobs=-1, random_state=8), clf__C=0.1, dim_reducer=PCA(), dim_reducer__n_components=0.95, scaler=StandardScaler(with_mean=False), transform__cv__max_features=500, transform__cv__min_df=0.05;, score=0.901 total time=   8.4s\n",
      "[Pipeline] ....... (step 2 of 4) Processing dim_reducer, total=   0.0s\n",
      "[Pipeline] ............ (step 3 of 4) Processing scaler, total=   0.1s\n"
     ]
    },
    {
     "name": "stderr",
     "output_type": "stream",
     "text": [
      "/usr/local/lib/python3.9/dist-packages/sklearn/linear_model/_logistic.py:1211: UserWarning: 'n_jobs' > 1 does not have any effect when 'solver' is set to 'liblinear'. Got 'n_jobs' = 12.\n",
      "  warnings.warn(\n"
     ]
    },
    {
     "name": "stdout",
     "output_type": "stream",
     "text": [
      "[Pipeline] ............... (step 4 of 4) Processing clf, total= 1.4min\n",
      "[CV 1/5] END clf=LogisticRegression(max_iter=10000, n_jobs=-1, penalty='l1', random_state=8,\n",
      "                   solver='liblinear'), clf__C=100, dim_reducer=passthrough, scaler=StandardScaler(), transform__cv__max_features=500, transform__cv__min_df=0.03;, score=0.904 total time= 1.4min\n",
      "[Pipeline] ....... (step 2 of 4) Processing dim_reducer, total=   0.0s\n",
      "[Pipeline] ............ (step 3 of 4) Processing scaler, total=   0.1s\n"
     ]
    },
    {
     "name": "stderr",
     "output_type": "stream",
     "text": [
      "/usr/local/lib/python3.9/dist-packages/sklearn/linear_model/_logistic.py:1211: UserWarning: 'n_jobs' > 1 does not have any effect when 'solver' is set to 'liblinear'. Got 'n_jobs' = 12.\n",
      "  warnings.warn(\n"
     ]
    },
    {
     "name": "stdout",
     "output_type": "stream",
     "text": [
      "[Pipeline] ............... (step 4 of 4) Processing clf, total= 1.4min\n",
      "[CV 2/5] END clf=LogisticRegression(max_iter=10000, n_jobs=-1, penalty='l1', random_state=8,\n",
      "                   solver='liblinear'), clf__C=100, dim_reducer=passthrough, scaler=StandardScaler(), transform__cv__max_features=500, transform__cv__min_df=0.03;, score=0.900 total time= 1.4min\n",
      "[Pipeline] ....... (step 2 of 4) Processing dim_reducer, total=   0.0s\n",
      "[Pipeline] ............ (step 3 of 4) Processing scaler, total=   0.1s\n"
     ]
    },
    {
     "name": "stderr",
     "output_type": "stream",
     "text": [
      "/usr/local/lib/python3.9/dist-packages/sklearn/linear_model/_logistic.py:1211: UserWarning: 'n_jobs' > 1 does not have any effect when 'solver' is set to 'liblinear'. Got 'n_jobs' = 12.\n",
      "  warnings.warn(\n"
     ]
    },
    {
     "name": "stdout",
     "output_type": "stream",
     "text": [
      "[Pipeline] ............... (step 4 of 4) Processing clf, total= 1.5min\n",
      "[CV 3/5] END clf=LogisticRegression(max_iter=10000, n_jobs=-1, penalty='l1', random_state=8,\n",
      "                   solver='liblinear'), clf__C=100, dim_reducer=passthrough, scaler=StandardScaler(), transform__cv__max_features=500, transform__cv__min_df=0.03;, score=0.902 total time= 1.5min\n",
      "[Pipeline] ....... (step 2 of 4) Processing dim_reducer, total=   0.0s\n",
      "[Pipeline] ............ (step 3 of 4) Processing scaler, total=   0.1s\n"
     ]
    },
    {
     "name": "stderr",
     "output_type": "stream",
     "text": [
      "/usr/local/lib/python3.9/dist-packages/sklearn/linear_model/_logistic.py:1211: UserWarning: 'n_jobs' > 1 does not have any effect when 'solver' is set to 'liblinear'. Got 'n_jobs' = 12.\n",
      "  warnings.warn(\n"
     ]
    },
    {
     "name": "stdout",
     "output_type": "stream",
     "text": [
      "[Pipeline] ............... (step 4 of 4) Processing clf, total= 1.5min\n",
      "[CV 4/5] END clf=LogisticRegression(max_iter=10000, n_jobs=-1, penalty='l1', random_state=8,\n",
      "                   solver='liblinear'), clf__C=100, dim_reducer=passthrough, scaler=StandardScaler(), transform__cv__max_features=500, transform__cv__min_df=0.03;, score=0.900 total time= 1.5min\n",
      "[Pipeline] ....... (step 2 of 4) Processing dim_reducer, total=   0.0s\n",
      "[Pipeline] ............ (step 3 of 4) Processing scaler, total=   0.1s\n"
     ]
    },
    {
     "name": "stderr",
     "output_type": "stream",
     "text": [
      "/usr/local/lib/python3.9/dist-packages/sklearn/linear_model/_logistic.py:1211: UserWarning: 'n_jobs' > 1 does not have any effect when 'solver' is set to 'liblinear'. Got 'n_jobs' = 12.\n",
      "  warnings.warn(\n"
     ]
    },
    {
     "name": "stdout",
     "output_type": "stream",
     "text": [
      "[Pipeline] ............... (step 4 of 4) Processing clf, total= 1.5min\n",
      "[CV 5/5] END clf=LogisticRegression(max_iter=10000, n_jobs=-1, penalty='l1', random_state=8,\n",
      "                   solver='liblinear'), clf__C=100, dim_reducer=passthrough, scaler=StandardScaler(), transform__cv__max_features=500, transform__cv__min_df=0.03;, score=0.902 total time= 1.5min\n",
      "[Pipeline] ....... (step 2 of 4) Processing dim_reducer, total=   0.0s\n",
      "[Pipeline] ............... (step 4 of 4) Processing clf, total=   7.5s\n",
      "[CV 1/5] END clf=LogisticRegression(max_iter=10000, n_jobs=-1, random_state=8), clf__C=1, dim_reducer=passthrough, scaler=StandardScaler(with_mean=False), transform__cv__max_features=500, transform__cv__min_df=0.04;, score=0.903 total time=   8.6s\n",
      "[Pipeline] ....... (step 2 of 4) Processing dim_reducer, total=   0.0s\n",
      "[Pipeline] ............... (step 4 of 4) Processing clf, total=   9.7s\n",
      "[CV 2/5] END clf=LogisticRegression(max_iter=10000, n_jobs=-1, random_state=8), clf__C=1, dim_reducer=passthrough, scaler=StandardScaler(with_mean=False), transform__cv__max_features=500, transform__cv__min_df=0.04;, score=0.900 total time=  10.7s\n",
      "[Pipeline] ....... (step 2 of 4) Processing dim_reducer, total=   0.0s\n",
      "[Pipeline] ............... (step 4 of 4) Processing clf, total=   8.3s\n",
      "[CV 3/5] END clf=LogisticRegression(max_iter=10000, n_jobs=-1, random_state=8), clf__C=1, dim_reducer=passthrough, scaler=StandardScaler(with_mean=False), transform__cv__max_features=500, transform__cv__min_df=0.04;, score=0.902 total time=   9.4s\n",
      "[Pipeline] ....... (step 2 of 4) Processing dim_reducer, total=   0.0s\n",
      "[Pipeline] ............... (step 4 of 4) Processing clf, total=   9.1s\n",
      "[CV 4/5] END clf=LogisticRegression(max_iter=10000, n_jobs=-1, random_state=8), clf__C=1, dim_reducer=passthrough, scaler=StandardScaler(with_mean=False), transform__cv__max_features=500, transform__cv__min_df=0.04;, score=0.900 total time=  10.1s\n",
      "[Pipeline] ....... (step 2 of 4) Processing dim_reducer, total=   0.0s\n",
      "[Pipeline] ............... (step 4 of 4) Processing clf, total=   8.0s\n",
      "[CV 5/5] END clf=LogisticRegression(max_iter=10000, n_jobs=-1, random_state=8), clf__C=1, dim_reducer=passthrough, scaler=StandardScaler(with_mean=False), transform__cv__max_features=500, transform__cv__min_df=0.04;, score=0.901 total time=   9.0s\n",
      "[Pipeline] ....... (step 2 of 4) Processing dim_reducer, total=   0.0s\n",
      "[Pipeline] ............ (step 3 of 4) Processing scaler, total=   0.0s\n",
      "[Pipeline] ............... (step 4 of 4) Processing clf, total=   4.1s\n",
      "[CV 1/5] END clf=LogisticRegression(max_iter=10000, n_jobs=-1, random_state=8), clf__C=0.001, dim_reducer=passthrough, scaler=passthrough, transform__cv__max_features=500, transform__cv__min_df=0.03;, score=0.905 total time=   5.0s\n",
      "[Pipeline] ....... (step 2 of 4) Processing dim_reducer, total=   0.0s\n",
      "[Pipeline] ............ (step 3 of 4) Processing scaler, total=   0.0s\n",
      "[Pipeline] ............... (step 4 of 4) Processing clf, total=   3.9s\n",
      "[CV 2/5] END clf=LogisticRegression(max_iter=10000, n_jobs=-1, random_state=8), clf__C=0.001, dim_reducer=passthrough, scaler=passthrough, transform__cv__max_features=500, transform__cv__min_df=0.03;, score=0.902 total time=   4.8s\n",
      "[Pipeline] ....... (step 2 of 4) Processing dim_reducer, total=   0.0s\n",
      "[Pipeline] ............ (step 3 of 4) Processing scaler, total=   0.0s\n",
      "[Pipeline] ............... (step 4 of 4) Processing clf, total=   4.0s\n",
      "[CV 3/5] END clf=LogisticRegression(max_iter=10000, n_jobs=-1, random_state=8), clf__C=0.001, dim_reducer=passthrough, scaler=passthrough, transform__cv__max_features=500, transform__cv__min_df=0.03;, score=0.903 total time=   4.9s\n",
      "[Pipeline] ....... (step 2 of 4) Processing dim_reducer, total=   0.0s\n",
      "[Pipeline] ............ (step 3 of 4) Processing scaler, total=   0.0s\n",
      "[Pipeline] ............... (step 4 of 4) Processing clf, total=   3.8s\n",
      "[CV 4/5] END clf=LogisticRegression(max_iter=10000, n_jobs=-1, random_state=8), clf__C=0.001, dim_reducer=passthrough, scaler=passthrough, transform__cv__max_features=500, transform__cv__min_df=0.03;, score=0.902 total time=   4.7s\n",
      "[Pipeline] ....... (step 2 of 4) Processing dim_reducer, total=   0.0s\n",
      "[Pipeline] ............ (step 3 of 4) Processing scaler, total=   0.0s\n",
      "[Pipeline] ............... (step 4 of 4) Processing clf, total=   4.1s\n",
      "[CV 5/5] END clf=LogisticRegression(max_iter=10000, n_jobs=-1, random_state=8), clf__C=0.001, dim_reducer=passthrough, scaler=passthrough, transform__cv__max_features=500, transform__cv__min_df=0.03;, score=0.903 total time=   5.0s\n",
      "[Pipeline] ............... (step 4 of 4) Processing clf, total=  30.0s\n",
      "[CV 1/5] END clf=LogisticRegression(max_iter=10000, n_jobs=-1, random_state=8), clf__C=1000, dim_reducer=PCA(), dim_reducer__n_components=0.8, scaler=MinMaxScaler(), transform__cv__max_features=500, transform__cv__min_df=0.04;, score=0.904 total time=  31.1s\n",
      "[Pipeline] ............... (step 4 of 4) Processing clf, total=  33.4s\n",
      "[CV 2/5] END clf=LogisticRegression(max_iter=10000, n_jobs=-1, random_state=8), clf__C=1000, dim_reducer=PCA(), dim_reducer__n_components=0.8, scaler=MinMaxScaler(), transform__cv__max_features=500, transform__cv__min_df=0.04;, score=0.901 total time=  34.5s\n",
      "[Pipeline] ............... (step 4 of 4) Processing clf, total=  40.1s\n",
      "[CV 3/5] END clf=LogisticRegression(max_iter=10000, n_jobs=-1, random_state=8), clf__C=1000, dim_reducer=PCA(), dim_reducer__n_components=0.8, scaler=MinMaxScaler(), transform__cv__max_features=500, transform__cv__min_df=0.04;, score=0.902 total time=  41.2s\n",
      "[Pipeline] ............... (step 4 of 4) Processing clf, total=  31.4s\n",
      "[CV 4/5] END clf=LogisticRegression(max_iter=10000, n_jobs=-1, random_state=8), clf__C=1000, dim_reducer=PCA(), dim_reducer__n_components=0.8, scaler=MinMaxScaler(), transform__cv__max_features=500, transform__cv__min_df=0.04;, score=0.901 total time=  32.5s\n",
      "[Pipeline] ............... (step 4 of 4) Processing clf, total=  30.7s\n",
      "[CV 5/5] END clf=LogisticRegression(max_iter=10000, n_jobs=-1, random_state=8), clf__C=1000, dim_reducer=PCA(), dim_reducer__n_components=0.8, scaler=MinMaxScaler(), transform__cv__max_features=500, transform__cv__min_df=0.04;, score=0.901 total time=  31.8s\n",
      "[Pipeline] ....... (step 2 of 4) Processing dim_reducer, total=   0.0s\n",
      "[Pipeline] ............... (step 4 of 4) Processing clf, total=   9.4s\n",
      "[CV 1/5] END clf=LogisticRegression(max_iter=10000, n_jobs=-1, random_state=8), clf__C=0.1, dim_reducer=passthrough, scaler=MinMaxScaler(), transform__cv__max_features=500, transform__cv__min_df=0.05;, score=0.905 total time=  10.4s\n",
      "[Pipeline] ....... (step 2 of 4) Processing dim_reducer, total=   0.0s\n",
      "[Pipeline] ............... (step 4 of 4) Processing clf, total=  10.7s\n",
      "[CV 2/5] END clf=LogisticRegression(max_iter=10000, n_jobs=-1, random_state=8), clf__C=0.1, dim_reducer=passthrough, scaler=MinMaxScaler(), transform__cv__max_features=500, transform__cv__min_df=0.05;, score=0.902 total time=  11.7s\n",
      "[Pipeline] ....... (step 2 of 4) Processing dim_reducer, total=   0.0s\n",
      "[Pipeline] ............... (step 4 of 4) Processing clf, total=  10.3s\n",
      "[CV 3/5] END clf=LogisticRegression(max_iter=10000, n_jobs=-1, random_state=8), clf__C=0.1, dim_reducer=passthrough, scaler=MinMaxScaler(), transform__cv__max_features=500, transform__cv__min_df=0.05;, score=0.902 total time=  11.3s\n",
      "[Pipeline] ....... (step 2 of 4) Processing dim_reducer, total=   0.0s\n",
      "[Pipeline] ............... (step 4 of 4) Processing clf, total=   9.4s\n",
      "[CV 4/5] END clf=LogisticRegression(max_iter=10000, n_jobs=-1, random_state=8), clf__C=0.1, dim_reducer=passthrough, scaler=MinMaxScaler(), transform__cv__max_features=500, transform__cv__min_df=0.05;, score=0.901 total time=  10.4s\n",
      "[Pipeline] ....... (step 2 of 4) Processing dim_reducer, total=   0.0s\n",
      "[Pipeline] ............... (step 4 of 4) Processing clf, total=  10.4s\n",
      "[CV 5/5] END clf=LogisticRegression(max_iter=10000, n_jobs=-1, random_state=8), clf__C=0.1, dim_reducer=passthrough, scaler=MinMaxScaler(), transform__cv__max_features=500, transform__cv__min_df=0.05;, score=0.902 total time=  11.4s\n",
      "[Pipeline] ............ (step 3 of 4) Processing scaler, total=   0.0s\n",
      "[Pipeline] ............... (step 4 of 4) Processing clf, total=   1.5s\n",
      "[CV 1/5] END clf=LogisticRegression(max_iter=10000, n_jobs=-1, random_state=8), clf__C=0.001, dim_reducer=PCA(), dim_reducer__n_components=0.85, scaler=passthrough, transform__cv__max_features=500, transform__cv__min_df=0.03;, score=0.904 total time=   2.5s\n",
      "[Pipeline] ............ (step 3 of 4) Processing scaler, total=   0.0s\n",
      "[Pipeline] ............... (step 4 of 4) Processing clf, total=   1.4s\n",
      "[CV 2/5] END clf=LogisticRegression(max_iter=10000, n_jobs=-1, random_state=8), clf__C=0.001, dim_reducer=PCA(), dim_reducer__n_components=0.85, scaler=passthrough, transform__cv__max_features=500, transform__cv__min_df=0.03;, score=0.902 total time=   2.5s\n",
      "[Pipeline] ............ (step 3 of 4) Processing scaler, total=   0.0s\n",
      "[Pipeline] ............... (step 4 of 4) Processing clf, total=   1.4s\n",
      "[CV 3/5] END clf=LogisticRegression(max_iter=10000, n_jobs=-1, random_state=8), clf__C=0.001, dim_reducer=PCA(), dim_reducer__n_components=0.85, scaler=passthrough, transform__cv__max_features=500, transform__cv__min_df=0.03;, score=0.903 total time=   2.5s\n",
      "[Pipeline] ............ (step 3 of 4) Processing scaler, total=   0.0s\n",
      "[Pipeline] ............... (step 4 of 4) Processing clf, total=   1.4s\n",
      "[CV 4/5] END clf=LogisticRegression(max_iter=10000, n_jobs=-1, random_state=8), clf__C=0.001, dim_reducer=PCA(), dim_reducer__n_components=0.85, scaler=passthrough, transform__cv__max_features=500, transform__cv__min_df=0.03;, score=0.895 total time=   2.4s\n",
      "[Pipeline] ............ (step 3 of 4) Processing scaler, total=   0.0s\n",
      "[Pipeline] ............... (step 4 of 4) Processing clf, total=   1.4s\n",
      "[CV 5/5] END clf=LogisticRegression(max_iter=10000, n_jobs=-1, random_state=8), clf__C=0.001, dim_reducer=PCA(), dim_reducer__n_components=0.85, scaler=passthrough, transform__cv__max_features=500, transform__cv__min_df=0.03;, score=0.903 total time=   2.5s\n",
      "[Pipeline] ............ (step 3 of 4) Processing scaler, total=   0.0s\n",
      "[Pipeline] ............... (step 4 of 4) Processing clf, total=   9.8s\n",
      "[CV 1/5] END clf=LogisticRegression(max_iter=10000, n_jobs=-1, random_state=8), clf__C=10, dim_reducer=PCA(), dim_reducer__n_components=0.85, scaler=passthrough, transform__cv__max_features=500, transform__cv__min_df=0.03;, score=0.904 total time=  10.8s\n",
      "[Pipeline] ............ (step 3 of 4) Processing scaler, total=   0.0s\n",
      "[Pipeline] ............... (step 4 of 4) Processing clf, total=  11.3s\n",
      "[CV 2/5] END clf=LogisticRegression(max_iter=10000, n_jobs=-1, random_state=8), clf__C=10, dim_reducer=PCA(), dim_reducer__n_components=0.85, scaler=passthrough, transform__cv__max_features=500, transform__cv__min_df=0.03;, score=0.901 total time=  12.4s\n",
      "[Pipeline] ............ (step 3 of 4) Processing scaler, total=   0.0s\n",
      "[Pipeline] ............... (step 4 of 4) Processing clf, total=  11.7s\n",
      "[CV 3/5] END clf=LogisticRegression(max_iter=10000, n_jobs=-1, random_state=8), clf__C=10, dim_reducer=PCA(), dim_reducer__n_components=0.85, scaler=passthrough, transform__cv__max_features=500, transform__cv__min_df=0.03;, score=0.902 total time=  12.8s\n",
      "[Pipeline] ............ (step 3 of 4) Processing scaler, total=   0.0s\n",
      "[Pipeline] ............... (step 4 of 4) Processing clf, total=  14.3s\n",
      "[CV 4/5] END clf=LogisticRegression(max_iter=10000, n_jobs=-1, random_state=8), clf__C=10, dim_reducer=PCA(), dim_reducer__n_components=0.85, scaler=passthrough, transform__cv__max_features=500, transform__cv__min_df=0.03;, score=0.901 total time=  15.3s\n",
      "[Pipeline] ............ (step 3 of 4) Processing scaler, total=   0.0s\n",
      "[Pipeline] ............... (step 4 of 4) Processing clf, total=  10.5s\n",
      "[CV 5/5] END clf=LogisticRegression(max_iter=10000, n_jobs=-1, random_state=8), clf__C=10, dim_reducer=PCA(), dim_reducer__n_components=0.85, scaler=passthrough, transform__cv__max_features=500, transform__cv__min_df=0.03;, score=0.902 total time=  11.6s\n",
      "[Pipeline] ....... (step 2 of 4) Processing dim_reducer, total=   0.0s\n",
      "[Pipeline] ............ (step 3 of 4) Processing scaler, total=   0.1s\n",
      "[Pipeline] ............... (step 4 of 4) Processing clf, total=  59.6s\n",
      "[CV 1/5] END clf=LogisticRegression(max_iter=10000, n_jobs=-1, random_state=8), clf__C=10, dim_reducer=passthrough, scaler=MinMaxScaler(), transform__cv__max_features=500, transform__cv__min_df=0.03;, score=0.904 total time= 1.0min\n",
      "[Pipeline] ....... (step 2 of 4) Processing dim_reducer, total=   0.0s\n",
      "[Pipeline] ............ (step 3 of 4) Processing scaler, total=   0.1s\n",
      "[Pipeline] ............... (step 4 of 4) Processing clf, total=  54.2s\n",
      "[CV 2/5] END clf=LogisticRegression(max_iter=10000, n_jobs=-1, random_state=8), clf__C=10, dim_reducer=passthrough, scaler=MinMaxScaler(), transform__cv__max_features=500, transform__cv__min_df=0.03;, score=0.901 total time=  55.7s\n",
      "[Pipeline] ....... (step 2 of 4) Processing dim_reducer, total=   0.0s\n",
      "[Pipeline] ............ (step 3 of 4) Processing scaler, total=   0.1s\n",
      "[Pipeline] ............... (step 4 of 4) Processing clf, total= 1.1min\n",
      "[CV 3/5] END clf=LogisticRegression(max_iter=10000, n_jobs=-1, random_state=8), clf__C=10, dim_reducer=passthrough, scaler=MinMaxScaler(), transform__cv__max_features=500, transform__cv__min_df=0.03;, score=0.902 total time= 1.1min\n",
      "[Pipeline] ....... (step 2 of 4) Processing dim_reducer, total=   0.0s\n",
      "[Pipeline] ............ (step 3 of 4) Processing scaler, total=   0.1s\n",
      "[Pipeline] ............... (step 4 of 4) Processing clf, total=  55.7s\n",
      "[CV 4/5] END clf=LogisticRegression(max_iter=10000, n_jobs=-1, random_state=8), clf__C=10, dim_reducer=passthrough, scaler=MinMaxScaler(), transform__cv__max_features=500, transform__cv__min_df=0.03;, score=0.900 total time=  57.2s\n",
      "[Pipeline] ....... (step 2 of 4) Processing dim_reducer, total=   0.0s\n",
      "[Pipeline] ............ (step 3 of 4) Processing scaler, total=   0.1s\n",
      "[Pipeline] ............... (step 4 of 4) Processing clf, total= 1.2min\n",
      "[CV 5/5] END clf=LogisticRegression(max_iter=10000, n_jobs=-1, random_state=8), clf__C=10, dim_reducer=passthrough, scaler=MinMaxScaler(), transform__cv__max_features=500, transform__cv__min_df=0.03;, score=0.902 total time= 1.2min\n",
      "[Pipeline] ............... (step 4 of 4) Processing clf, total=   9.9s\n",
      "[CV 1/5] END clf=LogisticRegression(max_iter=10000, n_jobs=-1, random_state=8), clf__C=0.1, dim_reducer=PCA(), dim_reducer__n_components=0.95, scaler=MinMaxScaler(), transform__cv__max_features=500, transform__cv__min_df=0.03;, score=0.905 total time=  11.2s\n",
      "[Pipeline] ............... (step 4 of 4) Processing clf, total=  10.5s\n",
      "[CV 2/5] END clf=LogisticRegression(max_iter=10000, n_jobs=-1, random_state=8), clf__C=0.1, dim_reducer=PCA(), dim_reducer__n_components=0.95, scaler=MinMaxScaler(), transform__cv__max_features=500, transform__cv__min_df=0.03;, score=0.903 total time=  11.7s\n",
      "[Pipeline] ............... (step 4 of 4) Processing clf, total=   9.0s\n",
      "[CV 3/5] END clf=LogisticRegression(max_iter=10000, n_jobs=-1, random_state=8), clf__C=0.1, dim_reducer=PCA(), dim_reducer__n_components=0.95, scaler=MinMaxScaler(), transform__cv__max_features=500, transform__cv__min_df=0.03;, score=0.904 total time=  10.1s\n",
      "[Pipeline] ............... (step 4 of 4) Processing clf, total=  10.4s\n",
      "[CV 4/5] END clf=LogisticRegression(max_iter=10000, n_jobs=-1, random_state=8), clf__C=0.1, dim_reducer=PCA(), dim_reducer__n_components=0.95, scaler=MinMaxScaler(), transform__cv__max_features=500, transform__cv__min_df=0.03;, score=0.902 total time=  11.6s\n",
      "[Pipeline] ............... (step 4 of 4) Processing clf, total=  13.1s\n",
      "[CV 5/5] END clf=LogisticRegression(max_iter=10000, n_jobs=-1, random_state=8), clf__C=0.1, dim_reducer=PCA(), dim_reducer__n_components=0.95, scaler=MinMaxScaler(), transform__cv__max_features=500, transform__cv__min_df=0.03;, score=0.903 total time=  14.3s\n",
      "[Pipeline] ............ (step 3 of 4) Processing scaler, total=   0.0s\n",
      "[Pipeline] ............... (step 4 of 4) Processing clf, total=   5.7s\n",
      "[CV 1/5] END clf=LogisticRegression(max_iter=10000, n_jobs=-1, random_state=8), clf__C=1, dim_reducer=PCA(), dim_reducer__n_components=0.8, scaler=passthrough, transform__cv__max_features=500, transform__cv__min_df=0.03;, score=0.904 total time=   6.8s\n",
      "[Pipeline] ............ (step 3 of 4) Processing scaler, total=   0.0s\n",
      "[Pipeline] ............... (step 4 of 4) Processing clf, total=   4.9s\n",
      "[CV 2/5] END clf=LogisticRegression(max_iter=10000, n_jobs=-1, random_state=8), clf__C=1, dim_reducer=PCA(), dim_reducer__n_components=0.8, scaler=passthrough, transform__cv__max_features=500, transform__cv__min_df=0.03;, score=0.901 total time=   5.9s\n",
      "[Pipeline] ............ (step 3 of 4) Processing scaler, total=   0.0s\n",
      "[Pipeline] ............... (step 4 of 4) Processing clf, total=   4.3s\n",
      "[CV 3/5] END clf=LogisticRegression(max_iter=10000, n_jobs=-1, random_state=8), clf__C=1, dim_reducer=PCA(), dim_reducer__n_components=0.8, scaler=passthrough, transform__cv__max_features=500, transform__cv__min_df=0.03;, score=0.902 total time=   5.3s\n",
      "[Pipeline] ............ (step 3 of 4) Processing scaler, total=   0.0s\n",
      "[Pipeline] ............... (step 4 of 4) Processing clf, total=   4.7s\n",
      "[CV 4/5] END clf=LogisticRegression(max_iter=10000, n_jobs=-1, random_state=8), clf__C=1, dim_reducer=PCA(), dim_reducer__n_components=0.8, scaler=passthrough, transform__cv__max_features=500, transform__cv__min_df=0.03;, score=0.901 total time=   5.7s\n",
      "[Pipeline] ............ (step 3 of 4) Processing scaler, total=   0.0s\n",
      "[Pipeline] ............... (step 4 of 4) Processing clf, total=   5.0s\n",
      "[CV 5/5] END clf=LogisticRegression(max_iter=10000, n_jobs=-1, random_state=8), clf__C=1, dim_reducer=PCA(), dim_reducer__n_components=0.8, scaler=passthrough, transform__cv__max_features=500, transform__cv__min_df=0.03;, score=0.901 total time=   6.0s\n",
      "[Pipeline] ....... (step 2 of 4) Processing dim_reducer, total=   0.0s\n"
     ]
    },
    {
     "name": "stderr",
     "output_type": "stream",
     "text": [
      "/usr/local/lib/python3.9/dist-packages/sklearn/linear_model/_logistic.py:1211: UserWarning: 'n_jobs' > 1 does not have any effect when 'solver' is set to 'liblinear'. Got 'n_jobs' = 12.\n",
      "  warnings.warn(\n"
     ]
    },
    {
     "name": "stdout",
     "output_type": "stream",
     "text": [
      "[Pipeline] ............... (step 4 of 4) Processing clf, total=  15.8s\n",
      "[CV 1/5] END clf=LogisticRegression(max_iter=10000, n_jobs=-1, penalty='l1', random_state=8,\n",
      "                   solver='liblinear'), clf__C=10, dim_reducer=passthrough, scaler=MinMaxScaler(), transform__cv__max_features=500, transform__cv__min_df=0.03;, score=0.904 total time=  16.9s\n",
      "[Pipeline] ....... (step 2 of 4) Processing dim_reducer, total=   0.0s\n"
     ]
    },
    {
     "name": "stderr",
     "output_type": "stream",
     "text": [
      "/usr/local/lib/python3.9/dist-packages/sklearn/linear_model/_logistic.py:1211: UserWarning: 'n_jobs' > 1 does not have any effect when 'solver' is set to 'liblinear'. Got 'n_jobs' = 12.\n",
      "  warnings.warn(\n"
     ]
    },
    {
     "name": "stdout",
     "output_type": "stream",
     "text": [
      "[Pipeline] ............... (step 4 of 4) Processing clf, total=  14.5s\n",
      "[CV 2/5] END clf=LogisticRegression(max_iter=10000, n_jobs=-1, penalty='l1', random_state=8,\n",
      "                   solver='liblinear'), clf__C=10, dim_reducer=passthrough, scaler=MinMaxScaler(), transform__cv__max_features=500, transform__cv__min_df=0.03;, score=0.900 total time=  15.6s\n",
      "[Pipeline] ....... (step 2 of 4) Processing dim_reducer, total=   0.0s\n"
     ]
    },
    {
     "name": "stderr",
     "output_type": "stream",
     "text": [
      "/usr/local/lib/python3.9/dist-packages/sklearn/linear_model/_logistic.py:1211: UserWarning: 'n_jobs' > 1 does not have any effect when 'solver' is set to 'liblinear'. Got 'n_jobs' = 12.\n",
      "  warnings.warn(\n"
     ]
    },
    {
     "name": "stdout",
     "output_type": "stream",
     "text": [
      "[Pipeline] ............... (step 4 of 4) Processing clf, total=  11.5s\n",
      "[CV 3/5] END clf=LogisticRegression(max_iter=10000, n_jobs=-1, penalty='l1', random_state=8,\n",
      "                   solver='liblinear'), clf__C=10, dim_reducer=passthrough, scaler=MinMaxScaler(), transform__cv__max_features=500, transform__cv__min_df=0.03;, score=0.902 total time=  12.5s\n",
      "[Pipeline] ....... (step 2 of 4) Processing dim_reducer, total=   0.0s\n"
     ]
    },
    {
     "name": "stderr",
     "output_type": "stream",
     "text": [
      "/usr/local/lib/python3.9/dist-packages/sklearn/linear_model/_logistic.py:1211: UserWarning: 'n_jobs' > 1 does not have any effect when 'solver' is set to 'liblinear'. Got 'n_jobs' = 12.\n",
      "  warnings.warn(\n"
     ]
    },
    {
     "name": "stdout",
     "output_type": "stream",
     "text": [
      "[Pipeline] ............... (step 4 of 4) Processing clf, total=  11.8s\n",
      "[CV 4/5] END clf=LogisticRegression(max_iter=10000, n_jobs=-1, penalty='l1', random_state=8,\n",
      "                   solver='liblinear'), clf__C=10, dim_reducer=passthrough, scaler=MinMaxScaler(), transform__cv__max_features=500, transform__cv__min_df=0.03;, score=0.900 total time=  12.8s\n",
      "[Pipeline] ....... (step 2 of 4) Processing dim_reducer, total=   0.0s\n"
     ]
    },
    {
     "name": "stderr",
     "output_type": "stream",
     "text": [
      "/usr/local/lib/python3.9/dist-packages/sklearn/linear_model/_logistic.py:1211: UserWarning: 'n_jobs' > 1 does not have any effect when 'solver' is set to 'liblinear'. Got 'n_jobs' = 12.\n",
      "  warnings.warn(\n"
     ]
    },
    {
     "name": "stdout",
     "output_type": "stream",
     "text": [
      "[Pipeline] ............... (step 4 of 4) Processing clf, total=  15.7s\n",
      "[CV 5/5] END clf=LogisticRegression(max_iter=10000, n_jobs=-1, penalty='l1', random_state=8,\n",
      "                   solver='liblinear'), clf__C=10, dim_reducer=passthrough, scaler=MinMaxScaler(), transform__cv__max_features=500, transform__cv__min_df=0.03;, score=0.902 total time=  16.7s\n",
      "[Pipeline] ............ (step 3 of 4) Processing scaler, total=   0.0s\n",
      "[Pipeline] ............... (step 4 of 4) Processing clf, total=   5.4s\n",
      "[CV 1/5] END clf=LogisticRegression(max_iter=10000, n_jobs=-1, random_state=8), clf__C=0.1, dim_reducer=PCA(), dim_reducer__n_components=0.85, scaler=StandardScaler(with_mean=False), transform__cv__max_features=500, transform__cv__min_df=0.03;, score=0.904 total time=   6.7s\n",
      "[Pipeline] ............ (step 3 of 4) Processing scaler, total=   0.0s\n",
      "[Pipeline] ............... (step 4 of 4) Processing clf, total=   5.2s\n",
      "[CV 2/5] END clf=LogisticRegression(max_iter=10000, n_jobs=-1, random_state=8), clf__C=0.1, dim_reducer=PCA(), dim_reducer__n_components=0.85, scaler=StandardScaler(with_mean=False), transform__cv__max_features=500, transform__cv__min_df=0.03;, score=0.901 total time=   6.5s\n",
      "[Pipeline] ............ (step 3 of 4) Processing scaler, total=   0.0s\n",
      "[Pipeline] ............... (step 4 of 4) Processing clf, total=   5.8s\n",
      "[CV 3/5] END clf=LogisticRegression(max_iter=10000, n_jobs=-1, random_state=8), clf__C=0.1, dim_reducer=PCA(), dim_reducer__n_components=0.85, scaler=StandardScaler(with_mean=False), transform__cv__max_features=500, transform__cv__min_df=0.03;, score=0.902 total time=   7.1s\n",
      "[Pipeline] ............ (step 3 of 4) Processing scaler, total=   0.0s\n",
      "[Pipeline] ............... (step 4 of 4) Processing clf, total=   5.6s\n",
      "[CV 4/5] END clf=LogisticRegression(max_iter=10000, n_jobs=-1, random_state=8), clf__C=0.1, dim_reducer=PCA(), dim_reducer__n_components=0.85, scaler=StandardScaler(with_mean=False), transform__cv__max_features=500, transform__cv__min_df=0.03;, score=0.901 total time=   6.9s\n",
      "[Pipeline] ............ (step 3 of 4) Processing scaler, total=   0.0s\n",
      "[Pipeline] ............... (step 4 of 4) Processing clf, total=   5.4s\n",
      "[CV 5/5] END clf=LogisticRegression(max_iter=10000, n_jobs=-1, random_state=8), clf__C=0.1, dim_reducer=PCA(), dim_reducer__n_components=0.85, scaler=StandardScaler(with_mean=False), transform__cv__max_features=500, transform__cv__min_df=0.03;, score=0.902 total time=   6.8s\n",
      "[Pipeline] ............ (step 3 of 4) Processing scaler, total=   0.0s\n",
      "[Pipeline] ............... (step 4 of 4) Processing clf, total=   7.3s\n",
      "[CV 1/5] END clf=LogisticRegression(max_iter=10000, n_jobs=-1, random_state=8), clf__C=0.1, dim_reducer=PCA(), dim_reducer__n_components=0.9, scaler=passthrough, transform__cv__max_features=500, transform__cv__min_df=0.04;, score=0.904 total time=   8.3s\n",
      "[Pipeline] ............ (step 3 of 4) Processing scaler, total=   0.0s\n",
      "[Pipeline] ............... (step 4 of 4) Processing clf, total=   7.5s\n",
      "[CV 2/5] END clf=LogisticRegression(max_iter=10000, n_jobs=-1, random_state=8), clf__C=0.1, dim_reducer=PCA(), dim_reducer__n_components=0.9, scaler=passthrough, transform__cv__max_features=500, transform__cv__min_df=0.04;, score=0.901 total time=   8.5s\n",
      "[Pipeline] ............ (step 3 of 4) Processing scaler, total=   0.0s\n",
      "[Pipeline] ............... (step 4 of 4) Processing clf, total=   7.2s\n",
      "[CV 3/5] END clf=LogisticRegression(max_iter=10000, n_jobs=-1, random_state=8), clf__C=0.1, dim_reducer=PCA(), dim_reducer__n_components=0.9, scaler=passthrough, transform__cv__max_features=500, transform__cv__min_df=0.04;, score=0.903 total time=   8.2s\n",
      "[Pipeline] ............ (step 3 of 4) Processing scaler, total=   0.0s\n",
      "[Pipeline] ............... (step 4 of 4) Processing clf, total=   8.2s\n",
      "[CV 4/5] END clf=LogisticRegression(max_iter=10000, n_jobs=-1, random_state=8), clf__C=0.1, dim_reducer=PCA(), dim_reducer__n_components=0.9, scaler=passthrough, transform__cv__max_features=500, transform__cv__min_df=0.04;, score=0.900 total time=   9.2s\n",
      "[Pipeline] ............ (step 3 of 4) Processing scaler, total=   0.0s\n",
      "[Pipeline] ............... (step 4 of 4) Processing clf, total=   9.3s\n",
      "[CV 5/5] END clf=LogisticRegression(max_iter=10000, n_jobs=-1, random_state=8), clf__C=0.1, dim_reducer=PCA(), dim_reducer__n_components=0.9, scaler=passthrough, transform__cv__max_features=500, transform__cv__min_df=0.04;, score=0.902 total time=  10.4s\n",
      "[Pipeline] ............ (step 3 of 4) Processing scaler, total=   0.0s\n",
      "[Pipeline] ............... (step 4 of 4) Processing clf, total=  14.5s\n",
      "[CV 1/5] END clf=LogisticRegression(max_iter=10000, n_jobs=-1, random_state=8), clf__C=10, dim_reducer=PCA(), dim_reducer__n_components=0.9, scaler=StandardScaler(with_mean=False), transform__cv__max_features=500, transform__cv__min_df=0.04;, score=0.904 total time=  15.8s\n",
      "[Pipeline] ............ (step 3 of 4) Processing scaler, total=   0.1s\n",
      "[Pipeline] ............... (step 4 of 4) Processing clf, total=  22.6s\n",
      "[CV 2/5] END clf=LogisticRegression(max_iter=10000, n_jobs=-1, random_state=8), clf__C=10, dim_reducer=PCA(), dim_reducer__n_components=0.9, scaler=StandardScaler(with_mean=False), transform__cv__max_features=500, transform__cv__min_df=0.04;, score=0.901 total time=  23.9s\n",
      "[Pipeline] ............ (step 3 of 4) Processing scaler, total=   0.0s\n",
      "[Pipeline] ............... (step 4 of 4) Processing clf, total=  24.2s\n",
      "[CV 3/5] END clf=LogisticRegression(max_iter=10000, n_jobs=-1, random_state=8), clf__C=10, dim_reducer=PCA(), dim_reducer__n_components=0.9, scaler=StandardScaler(with_mean=False), transform__cv__max_features=500, transform__cv__min_df=0.04;, score=0.902 total time=  25.5s\n",
      "[Pipeline] ............ (step 3 of 4) Processing scaler, total=   0.0s\n",
      "[Pipeline] ............... (step 4 of 4) Processing clf, total=  25.7s\n",
      "[CV 4/5] END clf=LogisticRegression(max_iter=10000, n_jobs=-1, random_state=8), clf__C=10, dim_reducer=PCA(), dim_reducer__n_components=0.9, scaler=StandardScaler(with_mean=False), transform__cv__max_features=500, transform__cv__min_df=0.04;, score=0.900 total time=  27.1s\n",
      "[Pipeline] ............ (step 3 of 4) Processing scaler, total=   0.0s\n",
      "[Pipeline] ............... (step 4 of 4) Processing clf, total=  29.8s\n",
      "[CV 5/5] END clf=LogisticRegression(max_iter=10000, n_jobs=-1, random_state=8), clf__C=10, dim_reducer=PCA(), dim_reducer__n_components=0.9, scaler=StandardScaler(with_mean=False), transform__cv__max_features=500, transform__cv__min_df=0.04;, score=0.901 total time=  31.1s\n",
      "[Pipeline] ............... (step 4 of 4) Processing clf, total=   4.3s\n",
      "[CV 1/5] END clf=LogisticRegression(max_iter=10000, n_jobs=-1, random_state=8), clf__C=0.1, dim_reducer=PCA(), dim_reducer__n_components=0.85, scaler=StandardScaler(with_mean=False), transform__cv__max_features=500, transform__cv__min_df=0.05;, score=0.904 total time=   5.4s\n",
      "[Pipeline] ............... (step 4 of 4) Processing clf, total=   5.1s\n",
      "[CV 2/5] END clf=LogisticRegression(max_iter=10000, n_jobs=-1, random_state=8), clf__C=0.1, dim_reducer=PCA(), dim_reducer__n_components=0.85, scaler=StandardScaler(with_mean=False), transform__cv__max_features=500, transform__cv__min_df=0.05;, score=0.901 total time=   6.2s\n",
      "[Pipeline] ............... (step 4 of 4) Processing clf, total=   4.5s\n",
      "[CV 3/5] END clf=LogisticRegression(max_iter=10000, n_jobs=-1, random_state=8), clf__C=0.1, dim_reducer=PCA(), dim_reducer__n_components=0.85, scaler=StandardScaler(with_mean=False), transform__cv__max_features=500, transform__cv__min_df=0.05;, score=0.903 total time=   5.6s\n",
      "[Pipeline] ............... (step 4 of 4) Processing clf, total=   5.2s\n",
      "[CV 4/5] END clf=LogisticRegression(max_iter=10000, n_jobs=-1, random_state=8), clf__C=0.1, dim_reducer=PCA(), dim_reducer__n_components=0.85, scaler=StandardScaler(with_mean=False), transform__cv__max_features=500, transform__cv__min_df=0.05;, score=0.901 total time=   6.3s\n",
      "[Pipeline] ............... (step 4 of 4) Processing clf, total=   5.5s\n",
      "[CV 5/5] END clf=LogisticRegression(max_iter=10000, n_jobs=-1, random_state=8), clf__C=0.1, dim_reducer=PCA(), dim_reducer__n_components=0.85, scaler=StandardScaler(with_mean=False), transform__cv__max_features=500, transform__cv__min_df=0.05;, score=0.901 total time=   6.6s\n",
      "[Pipeline] ....... (step 2 of 4) Processing dim_reducer, total=   0.0s\n",
      "[Pipeline] ............ (step 3 of 4) Processing scaler, total=   0.0s\n",
      "[Pipeline] ............... (step 4 of 4) Processing clf, total=  11.5s\n",
      "[CV 1/5] END clf=LogisticRegression(max_iter=10000, n_jobs=-1, random_state=8), clf__C=100, dim_reducer=passthrough, scaler=passthrough, transform__cv__max_features=500, transform__cv__min_df=0.04;, score=0.903 total time=  12.4s\n",
      "[Pipeline] ....... (step 2 of 4) Processing dim_reducer, total=   0.0s\n",
      "[Pipeline] ............ (step 3 of 4) Processing scaler, total=   0.0s\n",
      "[Pipeline] ............... (step 4 of 4) Processing clf, total=  10.4s\n",
      "[CV 2/5] END clf=LogisticRegression(max_iter=10000, n_jobs=-1, random_state=8), clf__C=100, dim_reducer=passthrough, scaler=passthrough, transform__cv__max_features=500, transform__cv__min_df=0.04;, score=0.900 total time=  11.3s\n",
      "[Pipeline] ....... (step 2 of 4) Processing dim_reducer, total=   0.0s\n",
      "[Pipeline] ............ (step 3 of 4) Processing scaler, total=   0.0s\n",
      "[Pipeline] ............... (step 4 of 4) Processing clf, total=  11.2s\n",
      "[CV 3/5] END clf=LogisticRegression(max_iter=10000, n_jobs=-1, random_state=8), clf__C=100, dim_reducer=passthrough, scaler=passthrough, transform__cv__max_features=500, transform__cv__min_df=0.04;, score=0.902 total time=  12.1s\n",
      "[Pipeline] ....... (step 2 of 4) Processing dim_reducer, total=   0.0s\n",
      "[Pipeline] ............ (step 3 of 4) Processing scaler, total=   0.0s\n",
      "[Pipeline] ............... (step 4 of 4) Processing clf, total=  10.0s\n",
      "[CV 4/5] END clf=LogisticRegression(max_iter=10000, n_jobs=-1, random_state=8), clf__C=100, dim_reducer=passthrough, scaler=passthrough, transform__cv__max_features=500, transform__cv__min_df=0.04;, score=0.900 total time=  10.8s\n",
      "[Pipeline] ....... (step 2 of 4) Processing dim_reducer, total=   0.0s\n",
      "[Pipeline] ............ (step 3 of 4) Processing scaler, total=   0.0s\n",
      "[Pipeline] ............... (step 4 of 4) Processing clf, total=  10.2s\n",
      "[CV 5/5] END clf=LogisticRegression(max_iter=10000, n_jobs=-1, random_state=8), clf__C=100, dim_reducer=passthrough, scaler=passthrough, transform__cv__max_features=500, transform__cv__min_df=0.04;, score=0.901 total time=  11.1s\n",
      "[Pipeline] ............... (step 4 of 4) Processing clf, total=  15.2s\n",
      "[CV 1/5] END clf=LogisticRegression(max_iter=10000, n_jobs=-1, random_state=8), clf__C=1, dim_reducer=PCA(), dim_reducer__n_components=0.9, scaler=StandardScaler(with_mean=False), transform__cv__max_features=500, transform__cv__min_df=0.04;, score=0.904 total time=  16.3s\n",
      "[Pipeline] ............... (step 4 of 4) Processing clf, total=  16.0s\n",
      "[CV 2/5] END clf=LogisticRegression(max_iter=10000, n_jobs=-1, random_state=8), clf__C=1, dim_reducer=PCA(), dim_reducer__n_components=0.9, scaler=StandardScaler(with_mean=False), transform__cv__max_features=500, transform__cv__min_df=0.04;, score=0.901 total time=  17.1s\n",
      "[Pipeline] ............... (step 4 of 4) Processing clf, total=  13.0s\n",
      "[CV 3/5] END clf=LogisticRegression(max_iter=10000, n_jobs=-1, random_state=8), clf__C=1, dim_reducer=PCA(), dim_reducer__n_components=0.9, scaler=StandardScaler(with_mean=False), transform__cv__max_features=500, transform__cv__min_df=0.04;, score=0.902 total time=  14.1s\n",
      "[Pipeline] ............... (step 4 of 4) Processing clf, total=  14.7s\n",
      "[CV 4/5] END clf=LogisticRegression(max_iter=10000, n_jobs=-1, random_state=8), clf__C=1, dim_reducer=PCA(), dim_reducer__n_components=0.9, scaler=StandardScaler(with_mean=False), transform__cv__max_features=500, transform__cv__min_df=0.04;, score=0.900 total time=  15.8s\n",
      "[Pipeline] ............... (step 4 of 4) Processing clf, total=  16.5s\n",
      "[CV 5/5] END clf=LogisticRegression(max_iter=10000, n_jobs=-1, random_state=8), clf__C=1, dim_reducer=PCA(), dim_reducer__n_components=0.9, scaler=StandardScaler(with_mean=False), transform__cv__max_features=500, transform__cv__min_df=0.04;, score=0.902 total time=  17.6s\n",
      "[Pipeline] ............... (step 4 of 4) Processing clf, total=  19.1s\n",
      "[CV 1/5] END clf=LogisticRegression(max_iter=10000, n_jobs=-1, random_state=8), clf__C=100, dim_reducer=PCA(), dim_reducer__n_components=0.95, scaler=StandardScaler(with_mean=False), transform__cv__max_features=500, transform__cv__min_df=0.05;, score=0.903 total time=  20.2s\n",
      "[Pipeline] ............... (step 4 of 4) Processing clf, total=  15.1s\n",
      "[CV 2/5] END clf=LogisticRegression(max_iter=10000, n_jobs=-1, random_state=8), clf__C=100, dim_reducer=PCA(), dim_reducer__n_components=0.95, scaler=StandardScaler(with_mean=False), transform__cv__max_features=500, transform__cv__min_df=0.05;, score=0.900 total time=  16.2s\n",
      "[Pipeline] ............... (step 4 of 4) Processing clf, total=  15.8s\n",
      "[CV 3/5] END clf=LogisticRegression(max_iter=10000, n_jobs=-1, random_state=8), clf__C=100, dim_reducer=PCA(), dim_reducer__n_components=0.95, scaler=StandardScaler(with_mean=False), transform__cv__max_features=500, transform__cv__min_df=0.05;, score=0.902 total time=  16.9s\n",
      "[Pipeline] ............... (step 4 of 4) Processing clf, total=  45.7s\n",
      "[CV 4/5] END clf=LogisticRegression(max_iter=10000, n_jobs=-1, random_state=8), clf__C=100, dim_reducer=PCA(), dim_reducer__n_components=0.95, scaler=StandardScaler(with_mean=False), transform__cv__max_features=500, transform__cv__min_df=0.05;, score=0.899 total time=  46.8s\n",
      "[Pipeline] ............... (step 4 of 4) Processing clf, total=  16.2s\n",
      "[CV 5/5] END clf=LogisticRegression(max_iter=10000, n_jobs=-1, random_state=8), clf__C=100, dim_reducer=PCA(), dim_reducer__n_components=0.95, scaler=StandardScaler(with_mean=False), transform__cv__max_features=500, transform__cv__min_df=0.05;, score=0.901 total time=  17.3s\n",
      "[Pipeline] ....... (step 2 of 4) Processing dim_reducer, total=   0.0s\n"
     ]
    },
    {
     "name": "stderr",
     "output_type": "stream",
     "text": [
      "/usr/local/lib/python3.9/dist-packages/sklearn/linear_model/_logistic.py:1211: UserWarning: 'n_jobs' > 1 does not have any effect when 'solver' is set to 'liblinear'. Got 'n_jobs' = 12.\n",
      "  warnings.warn(\n"
     ]
    },
    {
     "name": "stdout",
     "output_type": "stream",
     "text": [
      "[Pipeline] ............... (step 4 of 4) Processing clf, total= 1.8min\n",
      "[CV 1/5] END clf=LogisticRegression(max_iter=10000, n_jobs=-1, penalty='l1', random_state=8,\n",
      "                   solver='liblinear'), clf__C=10, dim_reducer=passthrough, scaler=StandardScaler(), transform__cv__max_features=500, transform__cv__min_df=0.03;, score=0.904 total time= 1.8min\n",
      "[Pipeline] ....... (step 2 of 4) Processing dim_reducer, total=   0.0s\n"
     ]
    },
    {
     "name": "stderr",
     "output_type": "stream",
     "text": [
      "/usr/local/lib/python3.9/dist-packages/sklearn/linear_model/_logistic.py:1211: UserWarning: 'n_jobs' > 1 does not have any effect when 'solver' is set to 'liblinear'. Got 'n_jobs' = 12.\n",
      "  warnings.warn(\n"
     ]
    },
    {
     "name": "stdout",
     "output_type": "stream",
     "text": [
      "[Pipeline] ............... (step 4 of 4) Processing clf, total= 1.8min\n",
      "[CV 2/5] END clf=LogisticRegression(max_iter=10000, n_jobs=-1, penalty='l1', random_state=8,\n",
      "                   solver='liblinear'), clf__C=10, dim_reducer=passthrough, scaler=StandardScaler(), transform__cv__max_features=500, transform__cv__min_df=0.03;, score=0.900 total time= 1.8min\n",
      "[Pipeline] ....... (step 2 of 4) Processing dim_reducer, total=   0.0s\n"
     ]
    },
    {
     "name": "stderr",
     "output_type": "stream",
     "text": [
      "/usr/local/lib/python3.9/dist-packages/sklearn/linear_model/_logistic.py:1211: UserWarning: 'n_jobs' > 1 does not have any effect when 'solver' is set to 'liblinear'. Got 'n_jobs' = 12.\n",
      "  warnings.warn(\n"
     ]
    },
    {
     "name": "stdout",
     "output_type": "stream",
     "text": [
      "[Pipeline] ............... (step 4 of 4) Processing clf, total= 2.4min\n",
      "[CV 3/5] END clf=LogisticRegression(max_iter=10000, n_jobs=-1, penalty='l1', random_state=8,\n",
      "                   solver='liblinear'), clf__C=10, dim_reducer=passthrough, scaler=StandardScaler(), transform__cv__max_features=500, transform__cv__min_df=0.03;, score=0.902 total time= 2.4min\n",
      "[Pipeline] ....... (step 2 of 4) Processing dim_reducer, total=   0.0s\n"
     ]
    },
    {
     "name": "stderr",
     "output_type": "stream",
     "text": [
      "/usr/local/lib/python3.9/dist-packages/sklearn/linear_model/_logistic.py:1211: UserWarning: 'n_jobs' > 1 does not have any effect when 'solver' is set to 'liblinear'. Got 'n_jobs' = 12.\n",
      "  warnings.warn(\n"
     ]
    },
    {
     "name": "stdout",
     "output_type": "stream",
     "text": [
      "[Pipeline] ............... (step 4 of 4) Processing clf, total= 1.1min\n",
      "[CV 4/5] END clf=LogisticRegression(max_iter=10000, n_jobs=-1, penalty='l1', random_state=8,\n",
      "                   solver='liblinear'), clf__C=10, dim_reducer=passthrough, scaler=StandardScaler(), transform__cv__max_features=500, transform__cv__min_df=0.03;, score=0.900 total time= 1.1min\n",
      "[Pipeline] ....... (step 2 of 4) Processing dim_reducer, total=   0.0s\n"
     ]
    },
    {
     "name": "stderr",
     "output_type": "stream",
     "text": [
      "/usr/local/lib/python3.9/dist-packages/sklearn/linear_model/_logistic.py:1211: UserWarning: 'n_jobs' > 1 does not have any effect when 'solver' is set to 'liblinear'. Got 'n_jobs' = 12.\n",
      "  warnings.warn(\n"
     ]
    },
    {
     "name": "stdout",
     "output_type": "stream",
     "text": [
      "[Pipeline] ............... (step 4 of 4) Processing clf, total= 2.4min\n",
      "[CV 5/5] END clf=LogisticRegression(max_iter=10000, n_jobs=-1, penalty='l1', random_state=8,\n",
      "                   solver='liblinear'), clf__C=10, dim_reducer=passthrough, scaler=StandardScaler(), transform__cv__max_features=500, transform__cv__min_df=0.03;, score=0.902 total time= 2.4min\n",
      "[Pipeline] ............ (step 3 of 4) Processing scaler, total=   0.0s\n",
      "[Pipeline] ............... (step 4 of 4) Processing clf, total=   1.3s\n",
      "[CV 1/5] END clf=LogisticRegression(max_iter=10000, n_jobs=-1, random_state=8), clf__C=0.001, dim_reducer=PCA(), dim_reducer__n_components=0.8, scaler=MinMaxScaler(), transform__cv__max_features=500, transform__cv__min_df=0.05;, score=0.889 total time=   2.6s\n",
      "[Pipeline] ............ (step 3 of 4) Processing scaler, total=   0.0s\n",
      "[Pipeline] ............... (step 4 of 4) Processing clf, total=   1.0s\n",
      "[CV 2/5] END clf=LogisticRegression(max_iter=10000, n_jobs=-1, random_state=8), clf__C=0.001, dim_reducer=PCA(), dim_reducer__n_components=0.8, scaler=MinMaxScaler(), transform__cv__max_features=500, transform__cv__min_df=0.05;, score=0.889 total time=   2.3s\n",
      "[Pipeline] ............ (step 3 of 4) Processing scaler, total=   0.0s\n",
      "[Pipeline] ............... (step 4 of 4) Processing clf, total=   0.9s\n",
      "[CV 3/5] END clf=LogisticRegression(max_iter=10000, n_jobs=-1, random_state=8), clf__C=0.001, dim_reducer=PCA(), dim_reducer__n_components=0.8, scaler=MinMaxScaler(), transform__cv__max_features=500, transform__cv__min_df=0.05;, score=0.889 total time=   2.2s\n",
      "[Pipeline] ............ (step 3 of 4) Processing scaler, total=   0.0s\n",
      "[Pipeline] ............... (step 4 of 4) Processing clf, total=   1.0s\n",
      "[CV 4/5] END clf=LogisticRegression(max_iter=10000, n_jobs=-1, random_state=8), clf__C=0.001, dim_reducer=PCA(), dim_reducer__n_components=0.8, scaler=MinMaxScaler(), transform__cv__max_features=500, transform__cv__min_df=0.05;, score=0.889 total time=   2.3s\n",
      "[Pipeline] ............ (step 3 of 4) Processing scaler, total=   0.0s\n",
      "[Pipeline] ............... (step 4 of 4) Processing clf, total=   0.9s\n",
      "[CV 5/5] END clf=LogisticRegression(max_iter=10000, n_jobs=-1, random_state=8), clf__C=0.001, dim_reducer=PCA(), dim_reducer__n_components=0.8, scaler=MinMaxScaler(), transform__cv__max_features=500, transform__cv__min_df=0.05;, score=0.889 total time=   2.2s\n",
      "[Pipeline] ............... (step 4 of 4) Processing clf, total=   1.4s\n",
      "[CV 1/5] END clf=LogisticRegression(max_iter=10000, n_jobs=-1, random_state=8), clf__C=0.001, dim_reducer=PCA(), dim_reducer__n_components=0.85, scaler=MinMaxScaler(), transform__cv__max_features=500, transform__cv__min_df=0.03;, score=0.889 total time=   2.5s\n",
      "[Pipeline] ............... (step 4 of 4) Processing clf, total=   1.5s\n",
      "[CV 2/5] END clf=LogisticRegression(max_iter=10000, n_jobs=-1, random_state=8), clf__C=0.001, dim_reducer=PCA(), dim_reducer__n_components=0.85, scaler=MinMaxScaler(), transform__cv__max_features=500, transform__cv__min_df=0.03;, score=0.889 total time=   2.6s\n",
      "[Pipeline] ............... (step 4 of 4) Processing clf, total=   1.4s\n",
      "[CV 3/5] END clf=LogisticRegression(max_iter=10000, n_jobs=-1, random_state=8), clf__C=0.001, dim_reducer=PCA(), dim_reducer__n_components=0.85, scaler=MinMaxScaler(), transform__cv__max_features=500, transform__cv__min_df=0.03;, score=0.889 total time=   2.6s\n",
      "[Pipeline] ............... (step 4 of 4) Processing clf, total=   1.3s\n",
      "[CV 4/5] END clf=LogisticRegression(max_iter=10000, n_jobs=-1, random_state=8), clf__C=0.001, dim_reducer=PCA(), dim_reducer__n_components=0.85, scaler=MinMaxScaler(), transform__cv__max_features=500, transform__cv__min_df=0.03;, score=0.889 total time=   2.5s\n",
      "[Pipeline] ............... (step 4 of 4) Processing clf, total=   1.4s\n",
      "[CV 5/5] END clf=LogisticRegression(max_iter=10000, n_jobs=-1, random_state=8), clf__C=0.001, dim_reducer=PCA(), dim_reducer__n_components=0.85, scaler=MinMaxScaler(), transform__cv__max_features=500, transform__cv__min_df=0.03;, score=0.889 total time=   2.6s\n",
      "[Pipeline] ....... (step 2 of 4) Processing dim_reducer, total=   0.0s\n",
      "[Pipeline] ............... (step 4 of 4) Processing clf, total=  45.2s\n",
      "[CV 1/5] END clf=LogisticRegression(max_iter=10000, n_jobs=-1, random_state=8), clf__C=1000, dim_reducer=passthrough, scaler=MinMaxScaler(), transform__cv__max_features=500, transform__cv__min_df=0.04;, score=0.903 total time=  46.2s\n",
      "[Pipeline] ....... (step 2 of 4) Processing dim_reducer, total=   0.0s\n",
      "[Pipeline] ............... (step 4 of 4) Processing clf, total=  50.4s\n",
      "[CV 2/5] END clf=LogisticRegression(max_iter=10000, n_jobs=-1, random_state=8), clf__C=1000, dim_reducer=passthrough, scaler=MinMaxScaler(), transform__cv__max_features=500, transform__cv__min_df=0.04;, score=0.900 total time=  51.5s\n",
      "[Pipeline] ....... (step 2 of 4) Processing dim_reducer, total=   0.0s\n",
      "[Pipeline] ............... (step 4 of 4) Processing clf, total=  56.1s\n",
      "[CV 3/5] END clf=LogisticRegression(max_iter=10000, n_jobs=-1, random_state=8), clf__C=1000, dim_reducer=passthrough, scaler=MinMaxScaler(), transform__cv__max_features=500, transform__cv__min_df=0.04;, score=0.902 total time=  57.1s\n",
      "[Pipeline] ....... (step 2 of 4) Processing dim_reducer, total=   0.0s\n",
      "[Pipeline] ............... (step 4 of 4) Processing clf, total=  55.2s\n",
      "[CV 4/5] END clf=LogisticRegression(max_iter=10000, n_jobs=-1, random_state=8), clf__C=1000, dim_reducer=passthrough, scaler=MinMaxScaler(), transform__cv__max_features=500, transform__cv__min_df=0.04;, score=0.900 total time=  56.3s\n",
      "[Pipeline] ....... (step 2 of 4) Processing dim_reducer, total=   0.0s\n",
      "[Pipeline] ............... (step 4 of 4) Processing clf, total=  48.8s\n",
      "[CV 5/5] END clf=LogisticRegression(max_iter=10000, n_jobs=-1, random_state=8), clf__C=1000, dim_reducer=passthrough, scaler=MinMaxScaler(), transform__cv__max_features=500, transform__cv__min_df=0.04;, score=0.901 total time=  49.9s\n",
      "[Pipeline] ............... (step 4 of 4) Processing clf, total=  25.3s\n",
      "[CV 1/5] END clf=LogisticRegression(max_iter=10000, n_jobs=-1, random_state=8), clf__C=100, dim_reducer=PCA(), dim_reducer__n_components=0.9, scaler=StandardScaler(with_mean=False), transform__cv__max_features=500, transform__cv__min_df=0.03;, score=0.904 total time=  26.4s\n",
      "[Pipeline] ............... (step 4 of 4) Processing clf, total=  25.8s\n",
      "[CV 2/5] END clf=LogisticRegression(max_iter=10000, n_jobs=-1, random_state=8), clf__C=100, dim_reducer=PCA(), dim_reducer__n_components=0.9, scaler=StandardScaler(with_mean=False), transform__cv__max_features=500, transform__cv__min_df=0.03;, score=0.901 total time=  27.0s\n",
      "[Pipeline] ............... (step 4 of 4) Processing clf, total=  24.2s\n",
      "[CV 3/5] END clf=LogisticRegression(max_iter=10000, n_jobs=-1, random_state=8), clf__C=100, dim_reducer=PCA(), dim_reducer__n_components=0.9, scaler=StandardScaler(with_mean=False), transform__cv__max_features=500, transform__cv__min_df=0.03;, score=0.903 total time=  25.4s\n",
      "[Pipeline] ............... (step 4 of 4) Processing clf, total=  25.8s\n",
      "[CV 4/5] END clf=LogisticRegression(max_iter=10000, n_jobs=-1, random_state=8), clf__C=100, dim_reducer=PCA(), dim_reducer__n_components=0.9, scaler=StandardScaler(with_mean=False), transform__cv__max_features=500, transform__cv__min_df=0.03;, score=0.900 total time=  27.0s\n",
      "[Pipeline] ............... (step 4 of 4) Processing clf, total=  25.6s\n",
      "[CV 5/5] END clf=LogisticRegression(max_iter=10000, n_jobs=-1, random_state=8), clf__C=100, dim_reducer=PCA(), dim_reducer__n_components=0.9, scaler=StandardScaler(with_mean=False), transform__cv__max_features=500, transform__cv__min_df=0.03;, score=0.901 total time=  26.7s\n",
      "[Pipeline] ............... (step 4 of 4) Processing clf, total=  18.1s\n",
      "[CV 1/5] END clf=LogisticRegression(max_iter=10000, n_jobs=-1, random_state=8), clf__C=10, dim_reducer=PCA(), dim_reducer__n_components=0.9, scaler=StandardScaler(with_mean=False), transform__cv__max_features=500, transform__cv__min_df=0.05;, score=0.904 total time=  19.1s\n",
      "[Pipeline] ............... (step 4 of 4) Processing clf, total=  14.7s\n",
      "[CV 2/5] END clf=LogisticRegression(max_iter=10000, n_jobs=-1, random_state=8), clf__C=10, dim_reducer=PCA(), dim_reducer__n_components=0.9, scaler=StandardScaler(with_mean=False), transform__cv__max_features=500, transform__cv__min_df=0.05;, score=0.901 total time=  15.8s\n",
      "[Pipeline] ............... (step 4 of 4) Processing clf, total=  16.6s\n",
      "[CV 3/5] END clf=LogisticRegression(max_iter=10000, n_jobs=-1, random_state=8), clf__C=10, dim_reducer=PCA(), dim_reducer__n_components=0.9, scaler=StandardScaler(with_mean=False), transform__cv__max_features=500, transform__cv__min_df=0.05;, score=0.902 total time=  17.7s\n",
      "[Pipeline] ............... (step 4 of 4) Processing clf, total=  19.1s\n",
      "[CV 4/5] END clf=LogisticRegression(max_iter=10000, n_jobs=-1, random_state=8), clf__C=10, dim_reducer=PCA(), dim_reducer__n_components=0.9, scaler=StandardScaler(with_mean=False), transform__cv__max_features=500, transform__cv__min_df=0.05;, score=0.900 total time=  20.2s\n",
      "[Pipeline] ............... (step 4 of 4) Processing clf, total=  16.1s\n",
      "[CV 5/5] END clf=LogisticRegression(max_iter=10000, n_jobs=-1, random_state=8), clf__C=10, dim_reducer=PCA(), dim_reducer__n_components=0.9, scaler=StandardScaler(with_mean=False), transform__cv__max_features=500, transform__cv__min_df=0.05;, score=0.902 total time=  17.2s\n",
      "[Pipeline] ....... (step 2 of 4) Processing dim_reducer, total=   0.0s\n",
      "[Pipeline] ............... (step 4 of 4) Processing clf, total=  51.1s\n",
      "[CV 1/5] END clf=LogisticRegression(max_iter=10000, n_jobs=-1, random_state=8), clf__C=10, dim_reducer=passthrough, scaler=MinMaxScaler(), transform__cv__max_features=500, transform__cv__min_df=0.04;, score=0.903 total time=  52.1s\n",
      "[Pipeline] ....... (step 2 of 4) Processing dim_reducer, total=   0.0s\n",
      "[Pipeline] ............... (step 4 of 4) Processing clf, total=  55.5s\n",
      "[CV 2/5] END clf=LogisticRegression(max_iter=10000, n_jobs=-1, random_state=8), clf__C=10, dim_reducer=passthrough, scaler=MinMaxScaler(), transform__cv__max_features=500, transform__cv__min_df=0.04;, score=0.900 total time=  56.5s\n",
      "[Pipeline] ....... (step 2 of 4) Processing dim_reducer, total=   0.0s\n",
      "[Pipeline] ............... (step 4 of 4) Processing clf, total=  40.9s\n",
      "[CV 3/5] END clf=LogisticRegression(max_iter=10000, n_jobs=-1, random_state=8), clf__C=10, dim_reducer=passthrough, scaler=MinMaxScaler(), transform__cv__max_features=500, transform__cv__min_df=0.04;, score=0.902 total time=  42.0s\n",
      "[Pipeline] ....... (step 2 of 4) Processing dim_reducer, total=   0.0s\n",
      "[Pipeline] ............... (step 4 of 4) Processing clf, total=  48.9s\n",
      "[CV 4/5] END clf=LogisticRegression(max_iter=10000, n_jobs=-1, random_state=8), clf__C=10, dim_reducer=passthrough, scaler=MinMaxScaler(), transform__cv__max_features=500, transform__cv__min_df=0.04;, score=0.900 total time=  49.9s\n",
      "[Pipeline] ....... (step 2 of 4) Processing dim_reducer, total=   0.0s\n",
      "[Pipeline] ............... (step 4 of 4) Processing clf, total=  57.5s\n",
      "[CV 5/5] END clf=LogisticRegression(max_iter=10000, n_jobs=-1, random_state=8), clf__C=10, dim_reducer=passthrough, scaler=MinMaxScaler(), transform__cv__max_features=500, transform__cv__min_df=0.04;, score=0.901 total time=  58.6s\n",
      "[Pipeline] ............... (step 4 of 4) Processing clf, total=  26.7s\n",
      "[CV 1/5] END clf=LogisticRegression(max_iter=10000, n_jobs=-1, random_state=8), clf__C=10, dim_reducer=PCA(), dim_reducer__n_components=0.85, scaler=MinMaxScaler(), transform__cv__max_features=500, transform__cv__min_df=0.03;, score=0.903 total time=  27.9s\n",
      "[Pipeline] ............... (step 4 of 4) Processing clf, total=  21.7s\n",
      "[CV 2/5] END clf=LogisticRegression(max_iter=10000, n_jobs=-1, random_state=8), clf__C=10, dim_reducer=PCA(), dim_reducer__n_components=0.85, scaler=MinMaxScaler(), transform__cv__max_features=500, transform__cv__min_df=0.03;, score=0.901 total time=  22.8s\n",
      "[Pipeline] ............... (step 4 of 4) Processing clf, total=  27.3s\n",
      "[CV 3/5] END clf=LogisticRegression(max_iter=10000, n_jobs=-1, random_state=8), clf__C=10, dim_reducer=PCA(), dim_reducer__n_components=0.85, scaler=MinMaxScaler(), transform__cv__max_features=500, transform__cv__min_df=0.03;, score=0.902 total time=  28.4s\n",
      "[Pipeline] ............... (step 4 of 4) Processing clf, total=  28.6s\n",
      "[CV 4/5] END clf=LogisticRegression(max_iter=10000, n_jobs=-1, random_state=8), clf__C=10, dim_reducer=PCA(), dim_reducer__n_components=0.85, scaler=MinMaxScaler(), transform__cv__max_features=500, transform__cv__min_df=0.03;, score=0.901 total time=  29.8s\n",
      "[Pipeline] ............... (step 4 of 4) Processing clf, total=  27.6s\n",
      "[CV 5/5] END clf=LogisticRegression(max_iter=10000, n_jobs=-1, random_state=8), clf__C=10, dim_reducer=PCA(), dim_reducer__n_components=0.85, scaler=MinMaxScaler(), transform__cv__max_features=500, transform__cv__min_df=0.03;, score=0.901 total time=  28.7s\n",
      "[Pipeline] ....... (step 2 of 4) Processing dim_reducer, total=   0.0s\n",
      "[Pipeline] ............ (step 3 of 4) Processing scaler, total=   0.0s\n",
      "[Pipeline] ............... (step 4 of 4) Processing clf, total=  17.9s\n",
      "[CV 1/5] END clf=LogisticRegression(max_iter=10000, n_jobs=-1, random_state=8), clf__C=1000, dim_reducer=passthrough, scaler=passthrough, transform__cv__max_features=500, transform__cv__min_df=0.03;, score=0.904 total time=  18.8s\n",
      "[Pipeline] ....... (step 2 of 4) Processing dim_reducer, total=   0.0s\n",
      "[Pipeline] ............ (step 3 of 4) Processing scaler, total=   0.0s\n",
      "[Pipeline] ............... (step 4 of 4) Processing clf, total=  16.2s\n",
      "[CV 2/5] END clf=LogisticRegression(max_iter=10000, n_jobs=-1, random_state=8), clf__C=1000, dim_reducer=passthrough, scaler=passthrough, transform__cv__max_features=500, transform__cv__min_df=0.03;, score=0.900 total time=  17.1s\n",
      "[Pipeline] ....... (step 2 of 4) Processing dim_reducer, total=   0.0s\n",
      "[Pipeline] ............ (step 3 of 4) Processing scaler, total=   0.0s\n",
      "[Pipeline] ............... (step 4 of 4) Processing clf, total=  16.5s\n",
      "[CV 3/5] END clf=LogisticRegression(max_iter=10000, n_jobs=-1, random_state=8), clf__C=1000, dim_reducer=passthrough, scaler=passthrough, transform__cv__max_features=500, transform__cv__min_df=0.03;, score=0.902 total time=  17.4s\n",
      "[Pipeline] ....... (step 2 of 4) Processing dim_reducer, total=   0.0s\n",
      "[Pipeline] ............ (step 3 of 4) Processing scaler, total=   0.0s\n",
      "[Pipeline] ............... (step 4 of 4) Processing clf, total=  17.2s\n",
      "[CV 4/5] END clf=LogisticRegression(max_iter=10000, n_jobs=-1, random_state=8), clf__C=1000, dim_reducer=passthrough, scaler=passthrough, transform__cv__max_features=500, transform__cv__min_df=0.03;, score=0.900 total time=  18.1s\n",
      "[Pipeline] ....... (step 2 of 4) Processing dim_reducer, total=   0.0s\n",
      "[Pipeline] ............ (step 3 of 4) Processing scaler, total=   0.0s\n",
      "[Pipeline] ............... (step 4 of 4) Processing clf, total=  14.7s\n",
      "[CV 5/5] END clf=LogisticRegression(max_iter=10000, n_jobs=-1, random_state=8), clf__C=1000, dim_reducer=passthrough, scaler=passthrough, transform__cv__max_features=500, transform__cv__min_df=0.03;, score=0.902 total time=  15.5s\n",
      "[Pipeline] ............ (step 3 of 4) Processing scaler, total=   0.0s\n",
      "[Pipeline] ............... (step 4 of 4) Processing clf, total=  17.4s\n",
      "[CV 1/5] END clf=LogisticRegression(max_iter=10000, n_jobs=-1, random_state=8), clf__C=10, dim_reducer=PCA(), dim_reducer__n_components=0.9, scaler=passthrough, transform__cv__max_features=500, transform__cv__min_df=0.04;, score=0.904 total time=  18.4s\n",
      "[Pipeline] ............ (step 3 of 4) Processing scaler, total=   0.0s\n",
      "[Pipeline] ............... (step 4 of 4) Processing clf, total=  24.5s\n",
      "[CV 2/5] END clf=LogisticRegression(max_iter=10000, n_jobs=-1, random_state=8), clf__C=10, dim_reducer=PCA(), dim_reducer__n_components=0.9, scaler=passthrough, transform__cv__max_features=500, transform__cv__min_df=0.04;, score=0.901 total time=  25.5s\n",
      "[Pipeline] ............ (step 3 of 4) Processing scaler, total=   0.0s\n",
      "[Pipeline] ............... (step 4 of 4) Processing clf, total=  20.6s\n",
      "[CV 3/5] END clf=LogisticRegression(max_iter=10000, n_jobs=-1, random_state=8), clf__C=10, dim_reducer=PCA(), dim_reducer__n_components=0.9, scaler=passthrough, transform__cv__max_features=500, transform__cv__min_df=0.04;, score=0.902 total time=  21.7s\n",
      "[Pipeline] ............ (step 3 of 4) Processing scaler, total=   0.0s\n",
      "[Pipeline] ............... (step 4 of 4) Processing clf, total=  31.5s\n",
      "[CV 4/5] END clf=LogisticRegression(max_iter=10000, n_jobs=-1, random_state=8), clf__C=10, dim_reducer=PCA(), dim_reducer__n_components=0.9, scaler=passthrough, transform__cv__max_features=500, transform__cv__min_df=0.04;, score=0.900 total time=  32.6s\n",
      "[Pipeline] ............ (step 3 of 4) Processing scaler, total=   0.0s\n",
      "[Pipeline] ............... (step 4 of 4) Processing clf, total=  24.3s\n",
      "[CV 5/5] END clf=LogisticRegression(max_iter=10000, n_jobs=-1, random_state=8), clf__C=10, dim_reducer=PCA(), dim_reducer__n_components=0.9, scaler=passthrough, transform__cv__max_features=500, transform__cv__min_df=0.04;, score=0.901 total time=  25.3s\n",
      "[Pipeline] ............ (step 3 of 4) Processing scaler, total=   0.0s\n",
      "[Pipeline] ............... (step 4 of 4) Processing clf, total=   1.2s\n",
      "[CV 1/5] END clf=LogisticRegression(max_iter=10000, n_jobs=-1, random_state=8), clf__C=0.001, dim_reducer=PCA(), dim_reducer__n_components=0.85, scaler=passthrough, transform__cv__max_features=500, transform__cv__min_df=0.04;, score=0.891 total time=   2.3s\n",
      "[Pipeline] ............ (step 3 of 4) Processing scaler, total=   0.0s\n",
      "[Pipeline] ............... (step 4 of 4) Processing clf, total=   1.3s\n",
      "[CV 2/5] END clf=LogisticRegression(max_iter=10000, n_jobs=-1, random_state=8), clf__C=0.001, dim_reducer=PCA(), dim_reducer__n_components=0.85, scaler=passthrough, transform__cv__max_features=500, transform__cv__min_df=0.04;, score=0.894 total time=   2.3s\n",
      "[Pipeline] ............ (step 3 of 4) Processing scaler, total=   0.0s\n",
      "[Pipeline] ............... (step 4 of 4) Processing clf, total=   1.3s\n",
      "[CV 3/5] END clf=LogisticRegression(max_iter=10000, n_jobs=-1, random_state=8), clf__C=0.001, dim_reducer=PCA(), dim_reducer__n_components=0.85, scaler=passthrough, transform__cv__max_features=500, transform__cv__min_df=0.04;, score=0.896 total time=   2.3s\n",
      "[Pipeline] ............ (step 3 of 4) Processing scaler, total=   0.0s\n",
      "[Pipeline] ............... (step 4 of 4) Processing clf, total=   1.4s\n",
      "[CV 4/5] END clf=LogisticRegression(max_iter=10000, n_jobs=-1, random_state=8), clf__C=0.001, dim_reducer=PCA(), dim_reducer__n_components=0.85, scaler=passthrough, transform__cv__max_features=500, transform__cv__min_df=0.04;, score=0.891 total time=   2.4s\n",
      "[Pipeline] ............ (step 3 of 4) Processing scaler, total=   0.0s\n",
      "[Pipeline] ............... (step 4 of 4) Processing clf, total=   1.4s\n",
      "[CV 5/5] END clf=LogisticRegression(max_iter=10000, n_jobs=-1, random_state=8), clf__C=0.001, dim_reducer=PCA(), dim_reducer__n_components=0.85, scaler=passthrough, transform__cv__max_features=500, transform__cv__min_df=0.04;, score=0.891 total time=   2.4s\n",
      "[Pipeline] ............ (step 3 of 4) Processing scaler, total=   0.0s\n",
      "[Pipeline] ............... (step 4 of 4) Processing clf, total=  13.1s\n",
      "[CV 1/5] END clf=LogisticRegression(max_iter=10000, n_jobs=-1, random_state=8), clf__C=10, dim_reducer=PCA(), dim_reducer__n_components=0.85, scaler=passthrough, transform__cv__max_features=500, transform__cv__min_df=0.05;, score=0.904 total time=  14.1s\n",
      "[Pipeline] ............ (step 3 of 4) Processing scaler, total=   0.0s\n",
      "[Pipeline] ............... (step 4 of 4) Processing clf, total=  10.5s\n",
      "[CV 2/5] END clf=LogisticRegression(max_iter=10000, n_jobs=-1, random_state=8), clf__C=10, dim_reducer=PCA(), dim_reducer__n_components=0.85, scaler=passthrough, transform__cv__max_features=500, transform__cv__min_df=0.05;, score=0.901 total time=  11.5s\n",
      "[Pipeline] ............ (step 3 of 4) Processing scaler, total=   0.0s\n",
      "[Pipeline] ............... (step 4 of 4) Processing clf, total=  10.3s\n",
      "[CV 3/5] END clf=LogisticRegression(max_iter=10000, n_jobs=-1, random_state=8), clf__C=10, dim_reducer=PCA(), dim_reducer__n_components=0.85, scaler=passthrough, transform__cv__max_features=500, transform__cv__min_df=0.05;, score=0.903 total time=  11.3s\n",
      "[Pipeline] ............ (step 3 of 4) Processing scaler, total=   0.0s\n",
      "[Pipeline] ............... (step 4 of 4) Processing clf, total=  14.4s\n",
      "[CV 4/5] END clf=LogisticRegression(max_iter=10000, n_jobs=-1, random_state=8), clf__C=10, dim_reducer=PCA(), dim_reducer__n_components=0.85, scaler=passthrough, transform__cv__max_features=500, transform__cv__min_df=0.05;, score=0.901 total time=  15.4s\n",
      "[Pipeline] ............ (step 3 of 4) Processing scaler, total=   0.0s\n",
      "[Pipeline] ............... (step 4 of 4) Processing clf, total=  12.1s\n",
      "[CV 5/5] END clf=LogisticRegression(max_iter=10000, n_jobs=-1, random_state=8), clf__C=10, dim_reducer=PCA(), dim_reducer__n_components=0.85, scaler=passthrough, transform__cv__max_features=500, transform__cv__min_df=0.05;, score=0.902 total time=  13.1s\n",
      "[Pipeline] ............... (step 4 of 4) Processing clf, total=   1.7s\n",
      "[CV 1/5] END clf=LogisticRegression(max_iter=10000, n_jobs=-1, random_state=8), clf__C=0.001, dim_reducer=PCA(), dim_reducer__n_components=0.95, scaler=StandardScaler(with_mean=False), transform__cv__max_features=500, transform__cv__min_df=0.05;, score=0.905 total time=   2.8s\n",
      "[Pipeline] ............... (step 4 of 4) Processing clf, total=   1.5s\n",
      "[CV 2/5] END clf=LogisticRegression(max_iter=10000, n_jobs=-1, random_state=8), clf__C=0.001, dim_reducer=PCA(), dim_reducer__n_components=0.95, scaler=StandardScaler(with_mean=False), transform__cv__max_features=500, transform__cv__min_df=0.05;, score=0.902 total time=   2.6s\n",
      "[Pipeline] ............... (step 4 of 4) Processing clf, total=   1.6s\n",
      "[CV 3/5] END clf=LogisticRegression(max_iter=10000, n_jobs=-1, random_state=8), clf__C=0.001, dim_reducer=PCA(), dim_reducer__n_components=0.95, scaler=StandardScaler(with_mean=False), transform__cv__max_features=500, transform__cv__min_df=0.05;, score=0.903 total time=   2.7s\n",
      "[Pipeline] ............... (step 4 of 4) Processing clf, total=   1.6s\n",
      "[CV 4/5] END clf=LogisticRegression(max_iter=10000, n_jobs=-1, random_state=8), clf__C=0.001, dim_reducer=PCA(), dim_reducer__n_components=0.95, scaler=StandardScaler(with_mean=False), transform__cv__max_features=500, transform__cv__min_df=0.05;, score=0.901 total time=   2.7s\n",
      "[Pipeline] ............... (step 4 of 4) Processing clf, total=   1.6s\n",
      "[CV 5/5] END clf=LogisticRegression(max_iter=10000, n_jobs=-1, random_state=8), clf__C=0.001, dim_reducer=PCA(), dim_reducer__n_components=0.95, scaler=StandardScaler(with_mean=False), transform__cv__max_features=500, transform__cv__min_df=0.05;, score=0.902 total time=   2.7s\n",
      "[Pipeline] ............ (step 3 of 4) Processing scaler, total=   0.0s\n",
      "[Pipeline] ............... (step 4 of 4) Processing clf, total=   5.3s\n",
      "[CV 1/5] END clf=LogisticRegression(max_iter=10000, n_jobs=-1, random_state=8), clf__C=1, dim_reducer=PCA(), dim_reducer__n_components=0.8, scaler=passthrough, transform__cv__max_features=500, transform__cv__min_df=0.04;, score=0.904 total time=   6.4s\n",
      "[Pipeline] ............ (step 3 of 4) Processing scaler, total=   0.0s\n",
      "[Pipeline] ............... (step 4 of 4) Processing clf, total=   4.6s\n",
      "[CV 2/5] END clf=LogisticRegression(max_iter=10000, n_jobs=-1, random_state=8), clf__C=1, dim_reducer=PCA(), dim_reducer__n_components=0.8, scaler=passthrough, transform__cv__max_features=500, transform__cv__min_df=0.04;, score=0.901 total time=   5.7s\n",
      "[Pipeline] ............ (step 3 of 4) Processing scaler, total=   0.0s\n",
      "[Pipeline] ............... (step 4 of 4) Processing clf, total=   4.3s\n",
      "[CV 3/5] END clf=LogisticRegression(max_iter=10000, n_jobs=-1, random_state=8), clf__C=1, dim_reducer=PCA(), dim_reducer__n_components=0.8, scaler=passthrough, transform__cv__max_features=500, transform__cv__min_df=0.04;, score=0.902 total time=   5.4s\n",
      "[Pipeline] ............ (step 3 of 4) Processing scaler, total=   0.0s\n",
      "[Pipeline] ............... (step 4 of 4) Processing clf, total=   4.6s\n",
      "[CV 4/5] END clf=LogisticRegression(max_iter=10000, n_jobs=-1, random_state=8), clf__C=1, dim_reducer=PCA(), dim_reducer__n_components=0.8, scaler=passthrough, transform__cv__max_features=500, transform__cv__min_df=0.04;, score=0.901 total time=   5.6s\n",
      "[Pipeline] ............ (step 3 of 4) Processing scaler, total=   0.0s\n",
      "[Pipeline] ............... (step 4 of 4) Processing clf, total=   5.0s\n",
      "[CV 5/5] END clf=LogisticRegression(max_iter=10000, n_jobs=-1, random_state=8), clf__C=1, dim_reducer=PCA(), dim_reducer__n_components=0.8, scaler=passthrough, transform__cv__max_features=500, transform__cv__min_df=0.04;, score=0.901 total time=   6.0s\n",
      "[Pipeline] ............... (step 4 of 4) Processing clf, total=  11.2s\n",
      "[CV 1/5] END clf=LogisticRegression(max_iter=10000, n_jobs=-1, random_state=8), clf__C=1, dim_reducer=PCA(), dim_reducer__n_components=0.8, scaler=MinMaxScaler(), transform__cv__max_features=500, transform__cv__min_df=0.03;, score=0.890 total time=  12.4s\n",
      "[Pipeline] ............... (step 4 of 4) Processing clf, total=   8.6s\n",
      "[CV 2/5] END clf=LogisticRegression(max_iter=10000, n_jobs=-1, random_state=8), clf__C=1, dim_reducer=PCA(), dim_reducer__n_components=0.8, scaler=MinMaxScaler(), transform__cv__max_features=500, transform__cv__min_df=0.03;, score=0.890 total time=   9.7s\n",
      "[Pipeline] ............... (step 4 of 4) Processing clf, total=  11.3s\n",
      "[CV 3/5] END clf=LogisticRegression(max_iter=10000, n_jobs=-1, random_state=8), clf__C=1, dim_reducer=PCA(), dim_reducer__n_components=0.8, scaler=MinMaxScaler(), transform__cv__max_features=500, transform__cv__min_df=0.03;, score=0.891 total time=  12.5s\n",
      "[Pipeline] ............... (step 4 of 4) Processing clf, total=  11.9s\n",
      "[CV 4/5] END clf=LogisticRegression(max_iter=10000, n_jobs=-1, random_state=8), clf__C=1, dim_reducer=PCA(), dim_reducer__n_components=0.8, scaler=MinMaxScaler(), transform__cv__max_features=500, transform__cv__min_df=0.03;, score=0.891 total time=  13.0s\n",
      "[Pipeline] ............... (step 4 of 4) Processing clf, total=   9.3s\n",
      "[CV 5/5] END clf=LogisticRegression(max_iter=10000, n_jobs=-1, random_state=8), clf__C=1, dim_reducer=PCA(), dim_reducer__n_components=0.8, scaler=MinMaxScaler(), transform__cv__max_features=500, transform__cv__min_df=0.03;, score=0.889 total time=  10.5s\n",
      "[Pipeline] ....... (step 2 of 4) Processing dim_reducer, total=   0.0s\n"
     ]
    },
    {
     "name": "stderr",
     "output_type": "stream",
     "text": [
      "/usr/local/lib/python3.9/dist-packages/sklearn/linear_model/_logistic.py:1211: UserWarning: 'n_jobs' > 1 does not have any effect when 'solver' is set to 'liblinear'. Got 'n_jobs' = 12.\n",
      "  warnings.warn(\n"
     ]
    },
    {
     "name": "stdout",
     "output_type": "stream",
     "text": [
      "[Pipeline] ............... (step 4 of 4) Processing clf, total=   0.5s\n",
      "[CV 1/5] END clf=LogisticRegression(max_iter=10000, n_jobs=-1, penalty='l1', random_state=8,\n",
      "                   solver='liblinear'), clf__C=100, dim_reducer=passthrough, scaler=MinMaxScaler(), transform__cv__max_features=500, transform__cv__min_df=0.03;, score=0.904 total time=   1.5s\n",
      "[Pipeline] ....... (step 2 of 4) Processing dim_reducer, total=   0.0s\n"
     ]
    },
    {
     "name": "stderr",
     "output_type": "stream",
     "text": [
      "/usr/local/lib/python3.9/dist-packages/sklearn/linear_model/_logistic.py:1211: UserWarning: 'n_jobs' > 1 does not have any effect when 'solver' is set to 'liblinear'. Got 'n_jobs' = 12.\n",
      "  warnings.warn(\n"
     ]
    },
    {
     "name": "stdout",
     "output_type": "stream",
     "text": [
      "[Pipeline] ............... (step 4 of 4) Processing clf, total=   0.5s\n",
      "[CV 2/5] END clf=LogisticRegression(max_iter=10000, n_jobs=-1, penalty='l1', random_state=8,\n",
      "                   solver='liblinear'), clf__C=100, dim_reducer=passthrough, scaler=MinMaxScaler(), transform__cv__max_features=500, transform__cv__min_df=0.03;, score=0.900 total time=   1.5s\n",
      "[Pipeline] ....... (step 2 of 4) Processing dim_reducer, total=   0.0s\n"
     ]
    },
    {
     "name": "stderr",
     "output_type": "stream",
     "text": [
      "/usr/local/lib/python3.9/dist-packages/sklearn/linear_model/_logistic.py:1211: UserWarning: 'n_jobs' > 1 does not have any effect when 'solver' is set to 'liblinear'. Got 'n_jobs' = 12.\n",
      "  warnings.warn(\n"
     ]
    },
    {
     "name": "stdout",
     "output_type": "stream",
     "text": [
      "[Pipeline] ............... (step 4 of 4) Processing clf, total=   0.5s\n",
      "[CV 3/5] END clf=LogisticRegression(max_iter=10000, n_jobs=-1, penalty='l1', random_state=8,\n",
      "                   solver='liblinear'), clf__C=100, dim_reducer=passthrough, scaler=MinMaxScaler(), transform__cv__max_features=500, transform__cv__min_df=0.03;, score=0.902 total time=   1.5s\n",
      "[Pipeline] ....... (step 2 of 4) Processing dim_reducer, total=   0.0s\n"
     ]
    },
    {
     "name": "stderr",
     "output_type": "stream",
     "text": [
      "/usr/local/lib/python3.9/dist-packages/sklearn/linear_model/_logistic.py:1211: UserWarning: 'n_jobs' > 1 does not have any effect when 'solver' is set to 'liblinear'. Got 'n_jobs' = 12.\n",
      "  warnings.warn(\n"
     ]
    },
    {
     "name": "stdout",
     "output_type": "stream",
     "text": [
      "[Pipeline] ............... (step 4 of 4) Processing clf, total=   0.4s\n",
      "[CV 4/5] END clf=LogisticRegression(max_iter=10000, n_jobs=-1, penalty='l1', random_state=8,\n",
      "                   solver='liblinear'), clf__C=100, dim_reducer=passthrough, scaler=MinMaxScaler(), transform__cv__max_features=500, transform__cv__min_df=0.03;, score=0.900 total time=   1.5s\n",
      "[Pipeline] ....... (step 2 of 4) Processing dim_reducer, total=   0.0s\n"
     ]
    },
    {
     "name": "stderr",
     "output_type": "stream",
     "text": [
      "/usr/local/lib/python3.9/dist-packages/sklearn/linear_model/_logistic.py:1211: UserWarning: 'n_jobs' > 1 does not have any effect when 'solver' is set to 'liblinear'. Got 'n_jobs' = 12.\n",
      "  warnings.warn(\n"
     ]
    },
    {
     "name": "stdout",
     "output_type": "stream",
     "text": [
      "[Pipeline] ............... (step 4 of 4) Processing clf, total=   0.3s\n",
      "[CV 5/5] END clf=LogisticRegression(max_iter=10000, n_jobs=-1, penalty='l1', random_state=8,\n",
      "                   solver='liblinear'), clf__C=100, dim_reducer=passthrough, scaler=MinMaxScaler(), transform__cv__max_features=500, transform__cv__min_df=0.03;, score=0.902 total time=   1.4s\n",
      "[Pipeline] ....... (step 2 of 4) Processing dim_reducer, total=   0.0s\n"
     ]
    },
    {
     "name": "stderr",
     "output_type": "stream",
     "text": [
      "/usr/local/lib/python3.9/dist-packages/sklearn/linear_model/_logistic.py:1211: UserWarning: 'n_jobs' > 1 does not have any effect when 'solver' is set to 'liblinear'. Got 'n_jobs' = 12.\n",
      "  warnings.warn(\n"
     ]
    },
    {
     "name": "stdout",
     "output_type": "stream",
     "text": [
      "[Pipeline] ............... (step 4 of 4) Processing clf, total= 1.4min\n",
      "[CV 1/5] END clf=LogisticRegression(max_iter=10000, n_jobs=-1, penalty='l1', random_state=8,\n",
      "                   solver='liblinear'), clf__C=1, dim_reducer=passthrough, scaler=StandardScaler(), transform__cv__max_features=500, transform__cv__min_df=0.03;, score=0.904 total time= 1.4min\n",
      "[Pipeline] ....... (step 2 of 4) Processing dim_reducer, total=   0.0s\n"
     ]
    },
    {
     "name": "stderr",
     "output_type": "stream",
     "text": [
      "/usr/local/lib/python3.9/dist-packages/sklearn/linear_model/_logistic.py:1211: UserWarning: 'n_jobs' > 1 does not have any effect when 'solver' is set to 'liblinear'. Got 'n_jobs' = 12.\n",
      "  warnings.warn(\n"
     ]
    },
    {
     "name": "stdout",
     "output_type": "stream",
     "text": [
      "[Pipeline] ............... (step 4 of 4) Processing clf, total= 1.4min\n",
      "[CV 2/5] END clf=LogisticRegression(max_iter=10000, n_jobs=-1, penalty='l1', random_state=8,\n",
      "                   solver='liblinear'), clf__C=1, dim_reducer=passthrough, scaler=StandardScaler(), transform__cv__max_features=500, transform__cv__min_df=0.03;, score=0.900 total time= 1.4min\n",
      "[Pipeline] ....... (step 2 of 4) Processing dim_reducer, total=   0.0s\n"
     ]
    },
    {
     "name": "stderr",
     "output_type": "stream",
     "text": [
      "/usr/local/lib/python3.9/dist-packages/sklearn/linear_model/_logistic.py:1211: UserWarning: 'n_jobs' > 1 does not have any effect when 'solver' is set to 'liblinear'. Got 'n_jobs' = 12.\n",
      "  warnings.warn(\n"
     ]
    },
    {
     "name": "stdout",
     "output_type": "stream",
     "text": [
      "[Pipeline] ............... (step 4 of 4) Processing clf, total= 1.7min\n",
      "[CV 3/5] END clf=LogisticRegression(max_iter=10000, n_jobs=-1, penalty='l1', random_state=8,\n",
      "                   solver='liblinear'), clf__C=1, dim_reducer=passthrough, scaler=StandardScaler(), transform__cv__max_features=500, transform__cv__min_df=0.03;, score=0.902 total time= 1.8min\n",
      "[Pipeline] ....... (step 2 of 4) Processing dim_reducer, total=   0.0s\n"
     ]
    },
    {
     "name": "stderr",
     "output_type": "stream",
     "text": [
      "/usr/local/lib/python3.9/dist-packages/sklearn/linear_model/_logistic.py:1211: UserWarning: 'n_jobs' > 1 does not have any effect when 'solver' is set to 'liblinear'. Got 'n_jobs' = 12.\n",
      "  warnings.warn(\n"
     ]
    },
    {
     "name": "stdout",
     "output_type": "stream",
     "text": [
      "[Pipeline] ............... (step 4 of 4) Processing clf, total= 1.4min\n",
      "[CV 4/5] END clf=LogisticRegression(max_iter=10000, n_jobs=-1, penalty='l1', random_state=8,\n",
      "                   solver='liblinear'), clf__C=1, dim_reducer=passthrough, scaler=StandardScaler(), transform__cv__max_features=500, transform__cv__min_df=0.03;, score=0.900 total time= 1.4min\n",
      "[Pipeline] ....... (step 2 of 4) Processing dim_reducer, total=   0.0s\n"
     ]
    },
    {
     "name": "stderr",
     "output_type": "stream",
     "text": [
      "/usr/local/lib/python3.9/dist-packages/sklearn/linear_model/_logistic.py:1211: UserWarning: 'n_jobs' > 1 does not have any effect when 'solver' is set to 'liblinear'. Got 'n_jobs' = 12.\n",
      "  warnings.warn(\n"
     ]
    },
    {
     "name": "stdout",
     "output_type": "stream",
     "text": [
      "[Pipeline] ............... (step 4 of 4) Processing clf, total= 1.6min\n",
      "[CV 5/5] END clf=LogisticRegression(max_iter=10000, n_jobs=-1, penalty='l1', random_state=8,\n",
      "                   solver='liblinear'), clf__C=1, dim_reducer=passthrough, scaler=StandardScaler(), transform__cv__max_features=500, transform__cv__min_df=0.03;, score=0.902 total time= 1.6min\n",
      "[Pipeline] ............ (step 3 of 4) Processing scaler, total=   0.0s\n",
      "[Pipeline] ............... (step 4 of 4) Processing clf, total=  58.7s\n",
      "[CV 1/5] END clf=LogisticRegression(max_iter=10000, n_jobs=-1, random_state=8), clf__C=100, dim_reducer=PCA(), dim_reducer__n_components=0.85, scaler=MinMaxScaler(), transform__cv__max_features=500, transform__cv__min_df=0.05;, score=0.904 total time=  60.0s\n",
      "[Pipeline] ............ (step 3 of 4) Processing scaler, total=   0.0s\n",
      "[Pipeline] ............... (step 4 of 4) Processing clf, total=  33.2s\n",
      "[CV 2/5] END clf=LogisticRegression(max_iter=10000, n_jobs=-1, random_state=8), clf__C=100, dim_reducer=PCA(), dim_reducer__n_components=0.85, scaler=MinMaxScaler(), transform__cv__max_features=500, transform__cv__min_df=0.05;, score=0.901 total time=  34.4s\n",
      "[Pipeline] ............ (step 3 of 4) Processing scaler, total=   0.0s\n",
      "[Pipeline] ............... (step 4 of 4) Processing clf, total=  29.7s\n",
      "[CV 3/5] END clf=LogisticRegression(max_iter=10000, n_jobs=-1, random_state=8), clf__C=100, dim_reducer=PCA(), dim_reducer__n_components=0.85, scaler=MinMaxScaler(), transform__cv__max_features=500, transform__cv__min_df=0.05;, score=0.903 total time=  30.9s\n",
      "[Pipeline] ............ (step 3 of 4) Processing scaler, total=   0.0s\n",
      "[Pipeline] ............... (step 4 of 4) Processing clf, total=  32.7s\n",
      "[CV 4/5] END clf=LogisticRegression(max_iter=10000, n_jobs=-1, random_state=8), clf__C=100, dim_reducer=PCA(), dim_reducer__n_components=0.85, scaler=MinMaxScaler(), transform__cv__max_features=500, transform__cv__min_df=0.05;, score=0.901 total time=  33.9s\n",
      "[Pipeline] ............ (step 3 of 4) Processing scaler, total=   0.0s\n",
      "[Pipeline] ............... (step 4 of 4) Processing clf, total=  34.9s\n",
      "[CV 5/5] END clf=LogisticRegression(max_iter=10000, n_jobs=-1, random_state=8), clf__C=100, dim_reducer=PCA(), dim_reducer__n_components=0.85, scaler=MinMaxScaler(), transform__cv__max_features=500, transform__cv__min_df=0.05;, score=0.902 total time=  36.1s\n",
      "[Pipeline] ............... (step 4 of 4) Processing clf, total=  32.6s\n",
      "[CV 1/5] END clf=LogisticRegression(max_iter=10000, n_jobs=-1, random_state=8), clf__C=100, dim_reducer=PCA(), dim_reducer__n_components=0.8, scaler=MinMaxScaler(), transform__cv__max_features=500, transform__cv__min_df=0.04;, score=0.904 total time=  33.7s\n",
      "[Pipeline] ............... (step 4 of 4) Processing clf, total=  25.0s\n",
      "[CV 2/5] END clf=LogisticRegression(max_iter=10000, n_jobs=-1, random_state=8), clf__C=100, dim_reducer=PCA(), dim_reducer__n_components=0.8, scaler=MinMaxScaler(), transform__cv__max_features=500, transform__cv__min_df=0.04;, score=0.901 total time=  26.1s\n",
      "[Pipeline] ............... (step 4 of 4) Processing clf, total=  41.1s\n",
      "[CV 3/5] END clf=LogisticRegression(max_iter=10000, n_jobs=-1, random_state=8), clf__C=100, dim_reducer=PCA(), dim_reducer__n_components=0.8, scaler=MinMaxScaler(), transform__cv__max_features=500, transform__cv__min_df=0.04;, score=0.902 total time=  42.2s\n",
      "[Pipeline] ............... (step 4 of 4) Processing clf, total=  26.2s\n",
      "[CV 4/5] END clf=LogisticRegression(max_iter=10000, n_jobs=-1, random_state=8), clf__C=100, dim_reducer=PCA(), dim_reducer__n_components=0.8, scaler=MinMaxScaler(), transform__cv__max_features=500, transform__cv__min_df=0.04;, score=0.901 total time=  27.3s\n",
      "[Pipeline] ............... (step 4 of 4) Processing clf, total=  34.0s\n",
      "[CV 5/5] END clf=LogisticRegression(max_iter=10000, n_jobs=-1, random_state=8), clf__C=100, dim_reducer=PCA(), dim_reducer__n_components=0.8, scaler=MinMaxScaler(), transform__cv__max_features=500, transform__cv__min_df=0.04;, score=0.901 total time=  35.2s\n",
      "[Pipeline] ....... (step 2 of 4) Processing dim_reducer, total=   0.0s\n",
      "[Pipeline] ............ (step 3 of 4) Processing scaler, total=   0.1s\n",
      "[Pipeline] ............... (step 4 of 4) Processing clf, total=   5.3s\n",
      "[CV 1/5] END clf=LogisticRegression(max_iter=10000, n_jobs=-1, random_state=8), clf__C=1000, dim_reducer=passthrough, scaler=StandardScaler(with_mean=False), transform__cv__max_features=500, transform__cv__min_df=0.05;, score=0.903 total time=   6.7s\n",
      "[Pipeline] ....... (step 2 of 4) Processing dim_reducer, total=   0.0s\n",
      "[Pipeline] ............ (step 3 of 4) Processing scaler, total=   0.1s\n",
      "[Pipeline] ............... (step 4 of 4) Processing clf, total=   5.7s\n",
      "[CV 2/5] END clf=LogisticRegression(max_iter=10000, n_jobs=-1, random_state=8), clf__C=1000, dim_reducer=passthrough, scaler=StandardScaler(with_mean=False), transform__cv__max_features=500, transform__cv__min_df=0.05;, score=0.899 total time=   7.1s\n",
      "[Pipeline] ....... (step 2 of 4) Processing dim_reducer, total=   0.0s\n",
      "[Pipeline] ............ (step 3 of 4) Processing scaler, total=   0.1s\n",
      "[Pipeline] ............... (step 4 of 4) Processing clf, total=   5.4s\n",
      "[CV 3/5] END clf=LogisticRegression(max_iter=10000, n_jobs=-1, random_state=8), clf__C=1000, dim_reducer=passthrough, scaler=StandardScaler(with_mean=False), transform__cv__max_features=500, transform__cv__min_df=0.05;, score=0.902 total time=   6.8s\n",
      "[Pipeline] ....... (step 2 of 4) Processing dim_reducer, total=   0.0s\n",
      "[Pipeline] ............ (step 3 of 4) Processing scaler, total=   0.1s\n",
      "[Pipeline] ............... (step 4 of 4) Processing clf, total=   5.2s\n",
      "[CV 4/5] END clf=LogisticRegression(max_iter=10000, n_jobs=-1, random_state=8), clf__C=1000, dim_reducer=passthrough, scaler=StandardScaler(with_mean=False), transform__cv__max_features=500, transform__cv__min_df=0.05;, score=0.899 total time=   6.5s\n",
      "[Pipeline] ....... (step 2 of 4) Processing dim_reducer, total=   0.0s\n",
      "[Pipeline] ............ (step 3 of 4) Processing scaler, total=   0.1s\n",
      "[Pipeline] ............... (step 4 of 4) Processing clf, total=   5.1s\n",
      "[CV 5/5] END clf=LogisticRegression(max_iter=10000, n_jobs=-1, random_state=8), clf__C=1000, dim_reducer=passthrough, scaler=StandardScaler(with_mean=False), transform__cv__max_features=500, transform__cv__min_df=0.05;, score=0.901 total time=   6.4s\n",
      "[Pipeline] ............... (step 4 of 4) Processing clf, total=   9.3s\n",
      "[CV 1/5] END clf=LogisticRegression(max_iter=10000, n_jobs=-1, random_state=8), clf__C=100, dim_reducer=PCA(), dim_reducer__n_components=0.85, scaler=StandardScaler(with_mean=False), transform__cv__max_features=500, transform__cv__min_df=0.03;, score=0.904 total time=  10.4s\n",
      "[Pipeline] ............... (step 4 of 4) Processing clf, total=  11.6s\n",
      "[CV 2/5] END clf=LogisticRegression(max_iter=10000, n_jobs=-1, random_state=8), clf__C=100, dim_reducer=PCA(), dim_reducer__n_components=0.85, scaler=StandardScaler(with_mean=False), transform__cv__max_features=500, transform__cv__min_df=0.03;, score=0.901 total time=  12.7s\n",
      "[Pipeline] ............... (step 4 of 4) Processing clf, total=  12.4s\n",
      "[CV 3/5] END clf=LogisticRegression(max_iter=10000, n_jobs=-1, random_state=8), clf__C=100, dim_reducer=PCA(), dim_reducer__n_components=0.85, scaler=StandardScaler(with_mean=False), transform__cv__max_features=500, transform__cv__min_df=0.03;, score=0.902 total time=  13.6s\n",
      "[Pipeline] ............... (step 4 of 4) Processing clf, total=  12.0s\n",
      "[CV 4/5] END clf=LogisticRegression(max_iter=10000, n_jobs=-1, random_state=8), clf__C=100, dim_reducer=PCA(), dim_reducer__n_components=0.85, scaler=StandardScaler(with_mean=False), transform__cv__max_features=500, transform__cv__min_df=0.03;, score=0.901 total time=  13.1s\n",
      "[Pipeline] ............... (step 4 of 4) Processing clf, total=   9.5s\n",
      "[CV 5/5] END clf=LogisticRegression(max_iter=10000, n_jobs=-1, random_state=8), clf__C=100, dim_reducer=PCA(), dim_reducer__n_components=0.85, scaler=StandardScaler(with_mean=False), transform__cv__max_features=500, transform__cv__min_df=0.03;, score=0.902 total time=  10.7s\n",
      "[Pipeline] ............... (step 4 of 4) Processing clf, total=   1.5s\n",
      "[CV 1/5] END clf=LogisticRegression(max_iter=10000, n_jobs=-1, random_state=8), clf__C=0.001, dim_reducer=PCA(), dim_reducer__n_components=0.9, scaler=MinMaxScaler(), transform__cv__max_features=500, transform__cv__min_df=0.05;, score=0.889 total time=   2.6s\n",
      "[Pipeline] ............... (step 4 of 4) Processing clf, total=   1.6s\n",
      "[CV 2/5] END clf=LogisticRegression(max_iter=10000, n_jobs=-1, random_state=8), clf__C=0.001, dim_reducer=PCA(), dim_reducer__n_components=0.9, scaler=MinMaxScaler(), transform__cv__max_features=500, transform__cv__min_df=0.05;, score=0.889 total time=   2.6s\n",
      "[Pipeline] ............... (step 4 of 4) Processing clf, total=   1.4s\n",
      "[CV 3/5] END clf=LogisticRegression(max_iter=10000, n_jobs=-1, random_state=8), clf__C=0.001, dim_reducer=PCA(), dim_reducer__n_components=0.9, scaler=MinMaxScaler(), transform__cv__max_features=500, transform__cv__min_df=0.05;, score=0.889 total time=   2.5s\n",
      "[Pipeline] ............... (step 4 of 4) Processing clf, total=   1.6s\n",
      "[CV 4/5] END clf=LogisticRegression(max_iter=10000, n_jobs=-1, random_state=8), clf__C=0.001, dim_reducer=PCA(), dim_reducer__n_components=0.9, scaler=MinMaxScaler(), transform__cv__max_features=500, transform__cv__min_df=0.05;, score=0.889 total time=   2.7s\n",
      "[Pipeline] ............... (step 4 of 4) Processing clf, total=   1.6s\n",
      "[CV 5/5] END clf=LogisticRegression(max_iter=10000, n_jobs=-1, random_state=8), clf__C=0.001, dim_reducer=PCA(), dim_reducer__n_components=0.9, scaler=MinMaxScaler(), transform__cv__max_features=500, transform__cv__min_df=0.05;, score=0.889 total time=   2.8s\n",
      "[Pipeline] ....... (step 2 of 4) Processing dim_reducer, total=   0.0s\n"
     ]
    },
    {
     "name": "stderr",
     "output_type": "stream",
     "text": [
      "/usr/local/lib/python3.9/dist-packages/sklearn/linear_model/_logistic.py:1211: UserWarning: 'n_jobs' > 1 does not have any effect when 'solver' is set to 'liblinear'. Got 'n_jobs' = 12.\n",
      "  warnings.warn(\n"
     ]
    },
    {
     "name": "stdout",
     "output_type": "stream",
     "text": [
      "[Pipeline] ............... (step 4 of 4) Processing clf, total=   0.4s\n",
      "[CV 1/5] END clf=LogisticRegression(max_iter=10000, n_jobs=-1, penalty='l1', random_state=8,\n",
      "                   solver='liblinear'), clf__C=1000, dim_reducer=passthrough, scaler=MinMaxScaler(), transform__cv__max_features=500, transform__cv__min_df=0.03;, score=0.904 total time=   1.5s\n",
      "[Pipeline] ....... (step 2 of 4) Processing dim_reducer, total=   0.0s\n"
     ]
    },
    {
     "name": "stderr",
     "output_type": "stream",
     "text": [
      "/usr/local/lib/python3.9/dist-packages/sklearn/linear_model/_logistic.py:1211: UserWarning: 'n_jobs' > 1 does not have any effect when 'solver' is set to 'liblinear'. Got 'n_jobs' = 12.\n",
      "  warnings.warn(\n"
     ]
    },
    {
     "name": "stdout",
     "output_type": "stream",
     "text": [
      "[Pipeline] ............... (step 4 of 4) Processing clf, total=   0.4s\n",
      "[CV 2/5] END clf=LogisticRegression(max_iter=10000, n_jobs=-1, penalty='l1', random_state=8,\n",
      "                   solver='liblinear'), clf__C=1000, dim_reducer=passthrough, scaler=MinMaxScaler(), transform__cv__max_features=500, transform__cv__min_df=0.03;, score=0.900 total time=   1.4s\n",
      "[Pipeline] ....... (step 2 of 4) Processing dim_reducer, total=   0.0s\n"
     ]
    },
    {
     "name": "stderr",
     "output_type": "stream",
     "text": [
      "/usr/local/lib/python3.9/dist-packages/sklearn/linear_model/_logistic.py:1211: UserWarning: 'n_jobs' > 1 does not have any effect when 'solver' is set to 'liblinear'. Got 'n_jobs' = 12.\n",
      "  warnings.warn(\n"
     ]
    },
    {
     "name": "stdout",
     "output_type": "stream",
     "text": [
      "[Pipeline] ............... (step 4 of 4) Processing clf, total=   0.4s\n",
      "[CV 3/5] END clf=LogisticRegression(max_iter=10000, n_jobs=-1, penalty='l1', random_state=8,\n",
      "                   solver='liblinear'), clf__C=1000, dim_reducer=passthrough, scaler=MinMaxScaler(), transform__cv__max_features=500, transform__cv__min_df=0.03;, score=0.902 total time=   1.5s\n",
      "[Pipeline] ....... (step 2 of 4) Processing dim_reducer, total=   0.0s\n"
     ]
    },
    {
     "name": "stderr",
     "output_type": "stream",
     "text": [
      "/usr/local/lib/python3.9/dist-packages/sklearn/linear_model/_logistic.py:1211: UserWarning: 'n_jobs' > 1 does not have any effect when 'solver' is set to 'liblinear'. Got 'n_jobs' = 12.\n",
      "  warnings.warn(\n"
     ]
    },
    {
     "name": "stdout",
     "output_type": "stream",
     "text": [
      "[Pipeline] ............... (step 4 of 4) Processing clf, total=   0.4s\n",
      "[CV 4/5] END clf=LogisticRegression(max_iter=10000, n_jobs=-1, penalty='l1', random_state=8,\n",
      "                   solver='liblinear'), clf__C=1000, dim_reducer=passthrough, scaler=MinMaxScaler(), transform__cv__max_features=500, transform__cv__min_df=0.03;, score=0.900 total time=   1.5s\n",
      "[Pipeline] ....... (step 2 of 4) Processing dim_reducer, total=   0.0s\n"
     ]
    },
    {
     "name": "stderr",
     "output_type": "stream",
     "text": [
      "/usr/local/lib/python3.9/dist-packages/sklearn/linear_model/_logistic.py:1211: UserWarning: 'n_jobs' > 1 does not have any effect when 'solver' is set to 'liblinear'. Got 'n_jobs' = 12.\n",
      "  warnings.warn(\n"
     ]
    },
    {
     "name": "stdout",
     "output_type": "stream",
     "text": [
      "[Pipeline] ............... (step 4 of 4) Processing clf, total=   0.4s\n",
      "[CV 5/5] END clf=LogisticRegression(max_iter=10000, n_jobs=-1, penalty='l1', random_state=8,\n",
      "                   solver='liblinear'), clf__C=1000, dim_reducer=passthrough, scaler=MinMaxScaler(), transform__cv__max_features=500, transform__cv__min_df=0.03;, score=0.902 total time=   1.5s\n",
      "[Pipeline] ............ (step 3 of 4) Processing scaler, total=   0.1s\n",
      "[Pipeline] ............... (step 4 of 4) Processing clf, total= 1.6min\n",
      "[CV 1/5] END clf=LogisticRegression(max_iter=10000, n_jobs=-1, random_state=8), clf__C=1000, dim_reducer=PCA(), dim_reducer__n_components=0.95, scaler=StandardScaler(with_mean=False), transform__cv__max_features=500, transform__cv__min_df=0.04;, score=0.902 total time= 1.6min\n",
      "[Pipeline] ............ (step 3 of 4) Processing scaler, total=   0.1s\n",
      "[Pipeline] ............... (step 4 of 4) Processing clf, total= 1.5min\n",
      "[CV 2/5] END clf=LogisticRegression(max_iter=10000, n_jobs=-1, random_state=8), clf__C=1000, dim_reducer=PCA(), dim_reducer__n_components=0.95, scaler=StandardScaler(with_mean=False), transform__cv__max_features=500, transform__cv__min_df=0.04;, score=0.900 total time= 1.5min\n",
      "[Pipeline] ............ (step 3 of 4) Processing scaler, total=   0.1s\n",
      "[Pipeline] ............... (step 4 of 4) Processing clf, total= 1.3min\n",
      "[CV 3/5] END clf=LogisticRegression(max_iter=10000, n_jobs=-1, random_state=8), clf__C=1000, dim_reducer=PCA(), dim_reducer__n_components=0.95, scaler=StandardScaler(with_mean=False), transform__cv__max_features=500, transform__cv__min_df=0.04;, score=0.902 total time= 1.3min\n",
      "[Pipeline] ............ (step 3 of 4) Processing scaler, total=   0.1s\n",
      "[Pipeline] ............... (step 4 of 4) Processing clf, total= 1.6min\n",
      "[CV 4/5] END clf=LogisticRegression(max_iter=10000, n_jobs=-1, random_state=8), clf__C=1000, dim_reducer=PCA(), dim_reducer__n_components=0.95, scaler=StandardScaler(with_mean=False), transform__cv__max_features=500, transform__cv__min_df=0.04;, score=0.899 total time= 1.6min\n",
      "[Pipeline] ............ (step 3 of 4) Processing scaler, total=   0.1s\n",
      "[Pipeline] ............... (step 4 of 4) Processing clf, total= 2.1min\n",
      "[CV 5/5] END clf=LogisticRegression(max_iter=10000, n_jobs=-1, random_state=8), clf__C=1000, dim_reducer=PCA(), dim_reducer__n_components=0.95, scaler=StandardScaler(with_mean=False), transform__cv__max_features=500, transform__cv__min_df=0.04;, score=0.901 total time= 2.1min\n",
      "[Pipeline] ............... (step 4 of 4) Processing clf, total= 2.1min\n",
      "[CV 1/5] END clf=LogisticRegression(max_iter=10000, n_jobs=-1, random_state=8), clf__C=1000, dim_reducer=PCA(), dim_reducer__n_components=0.9, scaler=MinMaxScaler(), transform__cv__max_features=500, transform__cv__min_df=0.05;, score=0.904 total time= 2.1min\n",
      "[Pipeline] ............... (step 4 of 4) Processing clf, total= 1.7min\n",
      "[CV 2/5] END clf=LogisticRegression(max_iter=10000, n_jobs=-1, random_state=8), clf__C=1000, dim_reducer=PCA(), dim_reducer__n_components=0.9, scaler=MinMaxScaler(), transform__cv__max_features=500, transform__cv__min_df=0.05;, score=0.901 total time= 1.7min\n",
      "[Pipeline] ............... (step 4 of 4) Processing clf, total= 2.1min\n",
      "[CV 3/5] END clf=LogisticRegression(max_iter=10000, n_jobs=-1, random_state=8), clf__C=1000, dim_reducer=PCA(), dim_reducer__n_components=0.9, scaler=MinMaxScaler(), transform__cv__max_features=500, transform__cv__min_df=0.05;, score=0.902 total time= 2.1min\n",
      "[Pipeline] ............... (step 4 of 4) Processing clf, total= 1.9min\n",
      "[CV 4/5] END clf=LogisticRegression(max_iter=10000, n_jobs=-1, random_state=8), clf__C=1000, dim_reducer=PCA(), dim_reducer__n_components=0.9, scaler=MinMaxScaler(), transform__cv__max_features=500, transform__cv__min_df=0.05;, score=0.901 total time= 1.9min\n",
      "[Pipeline] ............... (step 4 of 4) Processing clf, total= 1.9min\n",
      "[CV 5/5] END clf=LogisticRegression(max_iter=10000, n_jobs=-1, random_state=8), clf__C=1000, dim_reducer=PCA(), dim_reducer__n_components=0.9, scaler=MinMaxScaler(), transform__cv__max_features=500, transform__cv__min_df=0.05;, score=0.902 total time= 1.9min\n",
      "[Pipeline] ....... (step 2 of 4) Processing dim_reducer, total=   0.0s\n",
      "[Pipeline] ............... (step 4 of 4) Processing clf, total=   8.4s\n",
      "[CV 1/5] END clf=LogisticRegression(max_iter=10000, n_jobs=-1, random_state=8), clf__C=0.1, dim_reducer=passthrough, scaler=StandardScaler(with_mean=False), transform__cv__max_features=500, transform__cv__min_df=0.03;, score=0.904 total time=   9.5s\n",
      "[Pipeline] ....... (step 2 of 4) Processing dim_reducer, total=   0.0s\n",
      "[Pipeline] ............... (step 4 of 4) Processing clf, total=   7.6s\n",
      "[CV 2/5] END clf=LogisticRegression(max_iter=10000, n_jobs=-1, random_state=8), clf__C=0.1, dim_reducer=passthrough, scaler=StandardScaler(with_mean=False), transform__cv__max_features=500, transform__cv__min_df=0.03;, score=0.901 total time=   8.7s\n",
      "[Pipeline] ....... (step 2 of 4) Processing dim_reducer, total=   0.0s\n",
      "[Pipeline] ............... (step 4 of 4) Processing clf, total=   9.3s\n",
      "[CV 3/5] END clf=LogisticRegression(max_iter=10000, n_jobs=-1, random_state=8), clf__C=0.1, dim_reducer=passthrough, scaler=StandardScaler(with_mean=False), transform__cv__max_features=500, transform__cv__min_df=0.03;, score=0.902 total time=  10.4s\n",
      "[Pipeline] ....... (step 2 of 4) Processing dim_reducer, total=   0.0s\n",
      "[Pipeline] ............... (step 4 of 4) Processing clf, total=   7.6s\n",
      "[CV 4/5] END clf=LogisticRegression(max_iter=10000, n_jobs=-1, random_state=8), clf__C=0.1, dim_reducer=passthrough, scaler=StandardScaler(with_mean=False), transform__cv__max_features=500, transform__cv__min_df=0.03;, score=0.900 total time=   8.7s\n",
      "[Pipeline] ....... (step 2 of 4) Processing dim_reducer, total=   0.0s\n",
      "[Pipeline] ............... (step 4 of 4) Processing clf, total=   8.1s\n",
      "[CV 5/5] END clf=LogisticRegression(max_iter=10000, n_jobs=-1, random_state=8), clf__C=0.1, dim_reducer=passthrough, scaler=StandardScaler(with_mean=False), transform__cv__max_features=500, transform__cv__min_df=0.03;, score=0.902 total time=   9.2s\n",
      "[Pipeline] ............... (step 4 of 4) Processing clf, total=   5.8s\n",
      "[CV 1/5] END clf=LogisticRegression(max_iter=10000, n_jobs=-1, random_state=8), clf__C=0.1, dim_reducer=PCA(), dim_reducer__n_components=0.95, scaler=StandardScaler(with_mean=False), transform__cv__max_features=500, transform__cv__min_df=0.04;, score=0.902 total time=   6.9s\n",
      "[Pipeline] ............... (step 4 of 4) Processing clf, total=   5.2s\n",
      "[CV 2/5] END clf=LogisticRegression(max_iter=10000, n_jobs=-1, random_state=8), clf__C=0.1, dim_reducer=PCA(), dim_reducer__n_components=0.95, scaler=StandardScaler(with_mean=False), transform__cv__max_features=500, transform__cv__min_df=0.04;, score=0.900 total time=   6.3s\n",
      "[Pipeline] ............... (step 4 of 4) Processing clf, total=   6.0s\n",
      "[CV 3/5] END clf=LogisticRegression(max_iter=10000, n_jobs=-1, random_state=8), clf__C=0.1, dim_reducer=PCA(), dim_reducer__n_components=0.95, scaler=StandardScaler(with_mean=False), transform__cv__max_features=500, transform__cv__min_df=0.04;, score=0.901 total time=   7.1s\n",
      "[Pipeline] ............... (step 4 of 4) Processing clf, total=   4.9s\n",
      "[CV 4/5] END clf=LogisticRegression(max_iter=10000, n_jobs=-1, random_state=8), clf__C=0.1, dim_reducer=PCA(), dim_reducer__n_components=0.95, scaler=StandardScaler(with_mean=False), transform__cv__max_features=500, transform__cv__min_df=0.04;, score=0.900 total time=   6.1s\n",
      "[Pipeline] ............... (step 4 of 4) Processing clf, total=   5.4s\n",
      "[CV 5/5] END clf=LogisticRegression(max_iter=10000, n_jobs=-1, random_state=8), clf__C=0.1, dim_reducer=PCA(), dim_reducer__n_components=0.95, scaler=StandardScaler(with_mean=False), transform__cv__max_features=500, transform__cv__min_df=0.04;, score=0.901 total time=   6.5s\n",
      "[Pipeline] ............... (step 4 of 4) Processing clf, total=  15.0s\n",
      "[CV 1/5] END clf=LogisticRegression(max_iter=10000, n_jobs=-1, random_state=8), clf__C=1000, dim_reducer=PCA(), dim_reducer__n_components=0.9, scaler=StandardScaler(with_mean=False), transform__cv__max_features=500, transform__cv__min_df=0.04;, score=0.904 total time=  16.1s\n",
      "[Pipeline] ............... (step 4 of 4) Processing clf, total=  26.3s\n",
      "[CV 2/5] END clf=LogisticRegression(max_iter=10000, n_jobs=-1, random_state=8), clf__C=1000, dim_reducer=PCA(), dim_reducer__n_components=0.9, scaler=StandardScaler(with_mean=False), transform__cv__max_features=500, transform__cv__min_df=0.04;, score=0.901 total time=  27.4s\n",
      "[Pipeline] ............... (step 4 of 4) Processing clf, total=  28.5s\n",
      "[CV 3/5] END clf=LogisticRegression(max_iter=10000, n_jobs=-1, random_state=8), clf__C=1000, dim_reducer=PCA(), dim_reducer__n_components=0.9, scaler=StandardScaler(with_mean=False), transform__cv__max_features=500, transform__cv__min_df=0.04;, score=0.902 total time=  29.6s\n",
      "[Pipeline] ............... (step 4 of 4) Processing clf, total=  21.9s\n",
      "[CV 4/5] END clf=LogisticRegression(max_iter=10000, n_jobs=-1, random_state=8), clf__C=1000, dim_reducer=PCA(), dim_reducer__n_components=0.9, scaler=StandardScaler(with_mean=False), transform__cv__max_features=500, transform__cv__min_df=0.04;, score=0.900 total time=  23.1s\n",
      "[Pipeline] ............... (step 4 of 4) Processing clf, total=  26.0s\n",
      "[CV 5/5] END clf=LogisticRegression(max_iter=10000, n_jobs=-1, random_state=8), clf__C=1000, dim_reducer=PCA(), dim_reducer__n_components=0.9, scaler=StandardScaler(with_mean=False), transform__cv__max_features=500, transform__cv__min_df=0.04;, score=0.901 total time=  27.1s\n",
      "[Pipeline] ............... (step 4 of 4) Processing clf, total=  11.4s\n",
      "[CV 1/5] END clf=LogisticRegression(max_iter=10000, n_jobs=-1, random_state=8), clf__C=10, dim_reducer=PCA(), dim_reducer__n_components=0.85, scaler=StandardScaler(with_mean=False), transform__cv__max_features=500, transform__cv__min_df=0.05;, score=0.904 total time=  12.5s\n",
      "[Pipeline] ............... (step 4 of 4) Processing clf, total=   9.9s\n",
      "[CV 2/5] END clf=LogisticRegression(max_iter=10000, n_jobs=-1, random_state=8), clf__C=10, dim_reducer=PCA(), dim_reducer__n_components=0.85, scaler=StandardScaler(with_mean=False), transform__cv__max_features=500, transform__cv__min_df=0.05;, score=0.901 total time=  11.0s\n",
      "[Pipeline] ............... (step 4 of 4) Processing clf, total=  10.2s\n",
      "[CV 3/5] END clf=LogisticRegression(max_iter=10000, n_jobs=-1, random_state=8), clf__C=10, dim_reducer=PCA(), dim_reducer__n_components=0.85, scaler=StandardScaler(with_mean=False), transform__cv__max_features=500, transform__cv__min_df=0.05;, score=0.903 total time=  11.2s\n",
      "[Pipeline] ............... (step 4 of 4) Processing clf, total=  12.8s\n",
      "[CV 4/5] END clf=LogisticRegression(max_iter=10000, n_jobs=-1, random_state=8), clf__C=10, dim_reducer=PCA(), dim_reducer__n_components=0.85, scaler=StandardScaler(with_mean=False), transform__cv__max_features=500, transform__cv__min_df=0.05;, score=0.901 total time=  13.8s\n",
      "[Pipeline] ............... (step 4 of 4) Processing clf, total=  10.8s\n",
      "[CV 5/5] END clf=LogisticRegression(max_iter=10000, n_jobs=-1, random_state=8), clf__C=10, dim_reducer=PCA(), dim_reducer__n_components=0.85, scaler=StandardScaler(with_mean=False), transform__cv__max_features=500, transform__cv__min_df=0.05;, score=0.902 total time=  11.9s\n",
      "[Pipeline] ............ (step 3 of 4) Processing scaler, total=   0.0s\n",
      "[Pipeline] ............... (step 4 of 4) Processing clf, total=   2.2s\n",
      "[CV 1/5] END clf=LogisticRegression(max_iter=10000, n_jobs=-1, random_state=8), clf__C=0.001, dim_reducer=PCA(), dim_reducer__n_components=0.95, scaler=MinMaxScaler(), transform__cv__max_features=500, transform__cv__min_df=0.05;, score=0.889 total time=   3.6s\n",
      "[Pipeline] ............ (step 3 of 4) Processing scaler, total=   0.0s\n",
      "[Pipeline] ............... (step 4 of 4) Processing clf, total=   2.1s\n",
      "[CV 2/5] END clf=LogisticRegression(max_iter=10000, n_jobs=-1, random_state=8), clf__C=0.001, dim_reducer=PCA(), dim_reducer__n_components=0.95, scaler=MinMaxScaler(), transform__cv__max_features=500, transform__cv__min_df=0.05;, score=0.889 total time=   3.4s\n",
      "[Pipeline] ............ (step 3 of 4) Processing scaler, total=   0.0s\n",
      "[Pipeline] ............... (step 4 of 4) Processing clf, total=   2.2s\n",
      "[CV 3/5] END clf=LogisticRegression(max_iter=10000, n_jobs=-1, random_state=8), clf__C=0.001, dim_reducer=PCA(), dim_reducer__n_components=0.95, scaler=MinMaxScaler(), transform__cv__max_features=500, transform__cv__min_df=0.05;, score=0.889 total time=   3.5s\n",
      "[Pipeline] ............ (step 3 of 4) Processing scaler, total=   0.0s\n",
      "[Pipeline] ............... (step 4 of 4) Processing clf, total=   2.2s\n",
      "[CV 4/5] END clf=LogisticRegression(max_iter=10000, n_jobs=-1, random_state=8), clf__C=0.001, dim_reducer=PCA(), dim_reducer__n_components=0.95, scaler=MinMaxScaler(), transform__cv__max_features=500, transform__cv__min_df=0.05;, score=0.889 total time=   3.6s\n",
      "[Pipeline] ............ (step 3 of 4) Processing scaler, total=   0.0s\n",
      "[Pipeline] ............... (step 4 of 4) Processing clf, total=   1.8s\n",
      "[CV 5/5] END clf=LogisticRegression(max_iter=10000, n_jobs=-1, random_state=8), clf__C=0.001, dim_reducer=PCA(), dim_reducer__n_components=0.95, scaler=MinMaxScaler(), transform__cv__max_features=500, transform__cv__min_df=0.05;, score=0.889 total time=   3.1s\n",
      "[Pipeline] ....... (step 2 of 4) Processing dim_reducer, total=   0.0s\n",
      "[Pipeline] ............... (step 4 of 4) Processing clf, total=  23.0s\n",
      "[CV 1/5] END clf=LogisticRegression(max_iter=10000, n_jobs=-1, random_state=8), clf__C=1, dim_reducer=passthrough, scaler=MinMaxScaler(), transform__cv__max_features=500, transform__cv__min_df=0.05;, score=0.903 total time=  24.0s\n",
      "[Pipeline] ....... (step 2 of 4) Processing dim_reducer, total=   0.0s\n",
      "[Pipeline] ............... (step 4 of 4) Processing clf, total=  25.1s\n",
      "[CV 2/5] END clf=LogisticRegression(max_iter=10000, n_jobs=-1, random_state=8), clf__C=1, dim_reducer=passthrough, scaler=MinMaxScaler(), transform__cv__max_features=500, transform__cv__min_df=0.05;, score=0.900 total time=  26.1s\n",
      "[Pipeline] ....... (step 2 of 4) Processing dim_reducer, total=   0.0s\n",
      "[Pipeline] ............... (step 4 of 4) Processing clf, total=  23.7s\n",
      "[CV 3/5] END clf=LogisticRegression(max_iter=10000, n_jobs=-1, random_state=8), clf__C=1, dim_reducer=passthrough, scaler=MinMaxScaler(), transform__cv__max_features=500, transform__cv__min_df=0.05;, score=0.903 total time=  24.7s\n",
      "[Pipeline] ....... (step 2 of 4) Processing dim_reducer, total=   0.0s\n",
      "[Pipeline] ............... (step 4 of 4) Processing clf, total=  23.6s\n",
      "[CV 4/5] END clf=LogisticRegression(max_iter=10000, n_jobs=-1, random_state=8), clf__C=1, dim_reducer=passthrough, scaler=MinMaxScaler(), transform__cv__max_features=500, transform__cv__min_df=0.05;, score=0.900 total time=  24.6s\n",
      "[Pipeline] ....... (step 2 of 4) Processing dim_reducer, total=   0.0s\n",
      "[Pipeline] ............... (step 4 of 4) Processing clf, total=  23.9s\n",
      "[CV 5/5] END clf=LogisticRegression(max_iter=10000, n_jobs=-1, random_state=8), clf__C=1, dim_reducer=passthrough, scaler=MinMaxScaler(), transform__cv__max_features=500, transform__cv__min_df=0.05;, score=0.902 total time=  25.0s\n",
      "[Pipeline] ....... (step 2 of 4) Processing dim_reducer, total=   0.0s\n"
     ]
    },
    {
     "name": "stderr",
     "output_type": "stream",
     "text": [
      "/usr/local/lib/python3.9/dist-packages/sklearn/linear_model/_logistic.py:1211: UserWarning: 'n_jobs' > 1 does not have any effect when 'solver' is set to 'liblinear'. Got 'n_jobs' = 12.\n",
      "  warnings.warn(\n"
     ]
    },
    {
     "name": "stdout",
     "output_type": "stream",
     "text": [
      "[Pipeline] ............... (step 4 of 4) Processing clf, total= 1.4min\n",
      "[CV 1/5] END clf=LogisticRegression(max_iter=10000, n_jobs=-1, penalty='l1', random_state=8,\n",
      "                   solver='liblinear'), clf__C=1000, dim_reducer=passthrough, scaler=StandardScaler(), transform__cv__max_features=500, transform__cv__min_df=0.03;, score=0.904 total time= 1.4min\n",
      "[Pipeline] ....... (step 2 of 4) Processing dim_reducer, total=   0.0s\n"
     ]
    },
    {
     "name": "stderr",
     "output_type": "stream",
     "text": [
      "/usr/local/lib/python3.9/dist-packages/sklearn/linear_model/_logistic.py:1211: UserWarning: 'n_jobs' > 1 does not have any effect when 'solver' is set to 'liblinear'. Got 'n_jobs' = 12.\n",
      "  warnings.warn(\n"
     ]
    },
    {
     "name": "stdout",
     "output_type": "stream",
     "text": [
      "[Pipeline] ............... (step 4 of 4) Processing clf, total= 1.4min\n",
      "[CV 2/5] END clf=LogisticRegression(max_iter=10000, n_jobs=-1, penalty='l1', random_state=8,\n",
      "                   solver='liblinear'), clf__C=1000, dim_reducer=passthrough, scaler=StandardScaler(), transform__cv__max_features=500, transform__cv__min_df=0.03;, score=0.900 total time= 1.4min\n",
      "[Pipeline] ....... (step 2 of 4) Processing dim_reducer, total=   0.0s\n"
     ]
    },
    {
     "name": "stderr",
     "output_type": "stream",
     "text": [
      "/usr/local/lib/python3.9/dist-packages/sklearn/linear_model/_logistic.py:1211: UserWarning: 'n_jobs' > 1 does not have any effect when 'solver' is set to 'liblinear'. Got 'n_jobs' = 12.\n",
      "  warnings.warn(\n"
     ]
    },
    {
     "name": "stdout",
     "output_type": "stream",
     "text": [
      "[Pipeline] ............... (step 4 of 4) Processing clf, total= 1.5min\n",
      "[CV 3/5] END clf=LogisticRegression(max_iter=10000, n_jobs=-1, penalty='l1', random_state=8,\n",
      "                   solver='liblinear'), clf__C=1000, dim_reducer=passthrough, scaler=StandardScaler(), transform__cv__max_features=500, transform__cv__min_df=0.03;, score=0.902 total time= 1.5min\n",
      "[Pipeline] ....... (step 2 of 4) Processing dim_reducer, total=   0.0s\n"
     ]
    },
    {
     "name": "stderr",
     "output_type": "stream",
     "text": [
      "/usr/local/lib/python3.9/dist-packages/sklearn/linear_model/_logistic.py:1211: UserWarning: 'n_jobs' > 1 does not have any effect when 'solver' is set to 'liblinear'. Got 'n_jobs' = 12.\n",
      "  warnings.warn(\n"
     ]
    },
    {
     "name": "stdout",
     "output_type": "stream",
     "text": [
      "[Pipeline] ............... (step 4 of 4) Processing clf, total= 1.5min\n",
      "[CV 4/5] END clf=LogisticRegression(max_iter=10000, n_jobs=-1, penalty='l1', random_state=8,\n",
      "                   solver='liblinear'), clf__C=1000, dim_reducer=passthrough, scaler=StandardScaler(), transform__cv__max_features=500, transform__cv__min_df=0.03;, score=0.900 total time= 1.5min\n",
      "[Pipeline] ....... (step 2 of 4) Processing dim_reducer, total=   0.0s\n"
     ]
    },
    {
     "name": "stderr",
     "output_type": "stream",
     "text": [
      "/usr/local/lib/python3.9/dist-packages/sklearn/linear_model/_logistic.py:1211: UserWarning: 'n_jobs' > 1 does not have any effect when 'solver' is set to 'liblinear'. Got 'n_jobs' = 12.\n",
      "  warnings.warn(\n"
     ]
    },
    {
     "name": "stdout",
     "output_type": "stream",
     "text": [
      "[Pipeline] ............... (step 4 of 4) Processing clf, total= 1.5min\n",
      "[CV 5/5] END clf=LogisticRegression(max_iter=10000, n_jobs=-1, penalty='l1', random_state=8,\n",
      "                   solver='liblinear'), clf__C=1000, dim_reducer=passthrough, scaler=StandardScaler(), transform__cv__max_features=500, transform__cv__min_df=0.03;, score=0.902 total time= 1.5min\n",
      "[Pipeline] ....... (step 2 of 4) Processing dim_reducer, total=   0.0s\n",
      "[Pipeline] ............... (step 4 of 4) Processing clf, total=   3.4s\n",
      "[CV 1/5] END clf=LogisticRegression(max_iter=10000, n_jobs=-1, random_state=8), clf__C=0.001, dim_reducer=passthrough, scaler=StandardScaler(with_mean=False), transform__cv__max_features=500, transform__cv__min_df=0.04;, score=0.905 total time=   4.4s\n",
      "[Pipeline] ....... (step 2 of 4) Processing dim_reducer, total=   0.0s\n",
      "[Pipeline] ............... (step 4 of 4) Processing clf, total=   3.0s\n",
      "[CV 2/5] END clf=LogisticRegression(max_iter=10000, n_jobs=-1, random_state=8), clf__C=0.001, dim_reducer=passthrough, scaler=StandardScaler(with_mean=False), transform__cv__max_features=500, transform__cv__min_df=0.04;, score=0.902 total time=   4.1s\n",
      "[Pipeline] ....... (step 2 of 4) Processing dim_reducer, total=   0.0s\n",
      "[Pipeline] ............... (step 4 of 4) Processing clf, total=   3.3s\n",
      "[CV 3/5] END clf=LogisticRegression(max_iter=10000, n_jobs=-1, random_state=8), clf__C=0.001, dim_reducer=passthrough, scaler=StandardScaler(with_mean=False), transform__cv__max_features=500, transform__cv__min_df=0.04;, score=0.903 total time=   4.3s\n",
      "[Pipeline] ....... (step 2 of 4) Processing dim_reducer, total=   0.0s\n",
      "[Pipeline] ............... (step 4 of 4) Processing clf, total=   3.1s\n",
      "[CV 4/5] END clf=LogisticRegression(max_iter=10000, n_jobs=-1, random_state=8), clf__C=0.001, dim_reducer=passthrough, scaler=StandardScaler(with_mean=False), transform__cv__max_features=500, transform__cv__min_df=0.04;, score=0.901 total time=   4.2s\n",
      "[Pipeline] ....... (step 2 of 4) Processing dim_reducer, total=   0.0s\n",
      "[Pipeline] ............... (step 4 of 4) Processing clf, total=   3.2s\n",
      "[CV 5/5] END clf=LogisticRegression(max_iter=10000, n_jobs=-1, random_state=8), clf__C=0.001, dim_reducer=passthrough, scaler=StandardScaler(with_mean=False), transform__cv__max_features=500, transform__cv__min_df=0.04;, score=0.903 total time=   4.2s\n",
      "[Pipeline] ............... (step 4 of 4) Processing clf, total= 1.9min\n",
      "[CV 1/5] END clf=LogisticRegression(max_iter=10000, n_jobs=-1, random_state=8), clf__C=1000, dim_reducer=PCA(), dim_reducer__n_components=0.95, scaler=MinMaxScaler(), transform__cv__max_features=500, transform__cv__min_df=0.05;, score=0.903 total time= 1.9min\n",
      "[Pipeline] ............... (step 4 of 4) Processing clf, total= 1.8min\n",
      "[CV 2/5] END clf=LogisticRegression(max_iter=10000, n_jobs=-1, random_state=8), clf__C=1000, dim_reducer=PCA(), dim_reducer__n_components=0.95, scaler=MinMaxScaler(), transform__cv__max_features=500, transform__cv__min_df=0.05;, score=0.901 total time= 1.8min\n",
      "[Pipeline] ............... (step 4 of 4) Processing clf, total= 1.4min\n",
      "[CV 3/5] END clf=LogisticRegression(max_iter=10000, n_jobs=-1, random_state=8), clf__C=1000, dim_reducer=PCA(), dim_reducer__n_components=0.95, scaler=MinMaxScaler(), transform__cv__max_features=500, transform__cv__min_df=0.05;, score=0.902 total time= 1.4min\n",
      "[Pipeline] ............... (step 4 of 4) Processing clf, total= 1.6min\n",
      "[CV 4/5] END clf=LogisticRegression(max_iter=10000, n_jobs=-1, random_state=8), clf__C=1000, dim_reducer=PCA(), dim_reducer__n_components=0.95, scaler=MinMaxScaler(), transform__cv__max_features=500, transform__cv__min_df=0.05;, score=0.899 total time= 1.6min\n",
      "[Pipeline] ............... (step 4 of 4) Processing clf, total= 2.5min\n",
      "[CV 5/5] END clf=LogisticRegression(max_iter=10000, n_jobs=-1, random_state=8), clf__C=1000, dim_reducer=PCA(), dim_reducer__n_components=0.95, scaler=MinMaxScaler(), transform__cv__max_features=500, transform__cv__min_df=0.05;, score=0.901 total time= 2.5min\n",
      "[Pipeline] ......... (step 1 of 4) Processing transform, total=   2.4s\n"
     ]
    },
    {
     "name": "stderr",
     "output_type": "stream",
     "text": [
      "/usr/local/lib/python3.9/dist-packages/sklearn/pipeline.py:359: UserWarning: Persisting input arguments took 0.55s to run.\n",
      "If this happens often in your code, it can cause performance problems \n",
      "(results will be correct in all cases). \n",
      "The reason for this is probably some large input arguments for a wrapped\n",
      " function (e.g. large strings).\n",
      "THIS IS A JOBLIB ISSUE. If you can, kindly provide the joblib's team with an\n",
      " example so that they can fix the problem.\n",
      "  X, fitted_transformer = fit_transform_one_cached(\n"
     ]
    },
    {
     "name": "stdout",
     "output_type": "stream",
     "text": [
      "[Pipeline] ....... (step 2 of 4) Processing dim_reducer, total=   0.9s\n",
      "[Pipeline] ............ (step 3 of 4) Processing scaler, total=   0.1s\n",
      "[Pipeline] ............... (step 4 of 4) Processing clf, total=   9.5s\n"
     ]
    }
   ],
   "source": [
    "#logistic grid search set up \n",
    "log_gs = RandomizedSearchCV(estimator = pipe, \n",
    "                           param_distributions= log_param_grid, \n",
    "                           cv=5, \n",
    "                           n_jobs = 1,\n",
    "                           n_iter = 100,\n",
    "                           verbose = 3,\n",
    "                           refit=True,\n",
    "                           scoring = 'f1_micro', \n",
    "                           random_state = 8)\n",
    "\n",
    "fitted_log_gs = log_gs.fit(X_remainder1, y_remainder1)\n",
    "\n",
    "grid_search_results = fitted_log_gs.cv_results_\n",
    "\n",
    "best_estimator = fitted_log_gs.best_estimator_"
   ]
  },
  {
   "cell_type": "code",
   "execution_count": null,
   "id": "3becdbb5",
   "metadata": {},
   "outputs": [],
   "source": [
    "def write_results_to_s3(cv_results, filename, bucket, key):\n",
    "    \"\"\"\n",
    "    Write a DataFrame of grid search results to a CSV file and upload it to an S3 bucket.\n",
    "\n",
    "    Args:\n",
    "    - cv_results: A DataFrame of grid search results.\n",
    "    - filename: The name of the CSV file to write the results to.\n",
    "    - bucket: The name of the S3 bucket to upload the file to.\n",
    "    - key: The S3 key to use for the uploaded file.\n",
    "\n",
    "    Returns:\n",
    "    - None\n",
    "    \"\"\"\n",
    "    # Write the results to a CSV file\n",
    "    grid_search_results.to_csv(filename, index=False)\n",
    "\n",
    "    # Upload the file to S3\n",
    "    s3_client = boto3.client('s3')\n",
    "    s3_client.upload_file(Filename=filename, Bucket=bucket, Key=key)\n",
    "\n",
    "     print(f\"{filename} has been saved to {bucket}\")\n",
    "\n"
   ]
  },
  {
   "cell_type": "code",
   "execution_count": null,
   "id": "jJEiTzVpYAoh",
   "metadata": {
    "id": "jJEiTzVpYAoh"
   },
   "outputs": [],
   "source": [
    "# Example usage\n",
    "write_results_to_s3(grid_search_results, 'log_results_model_1.csv', 'deliverable-slo-bstn-bucket', 'log_results_model_1.csv')"
   ]
  },
  {
   "cell_type": "code",
   "execution_count": null,
   "id": "b7f1e064",
   "metadata": {},
   "outputs": [],
   "source": [
    "#calling the file\n",
    "log_results_model_1"
   ]
  },
  {
   "cell_type": "code",
   "execution_count": null,
   "id": "4a5642f5",
   "metadata": {},
   "outputs": [],
   "source": [
    "import joblib\n",
    "import boto3\n",
    "\n",
    "def save_best_model(best_estimator, filename, bucket='deliverable-slo-bstn-bucket', key=None):\n",
    "    \"\"\"\n",
    "    Save the best estimator from a grid search to a joblib file and upload it to an S3 bucket (optional).\n",
    "\n",
    "    Args:\n",
    "    - best_estimator: The best estimator from a scikit-learn grid search.\n",
    "    - filename: The name of the file to save the best estimator to.\n",
    "    - bucket (optional): The name of the S3 bucket to upload the file to (if provided).\n",
    "    - key (optional): The S3 key to use for the uploaded file (if provided).\n",
    "\n",
    "    Returns:\n",
    "    - None\n",
    "    \"\"\"\n",
    "    joblib.dump(best_estimator, filename)\n",
    "\n",
    "    if bucket is not None and key is not None:\n",
    "        s3_client = boto3.client('s3')\n",
    "        s3_client.upload_file(Filename=filename, Bucket=bucket, Key=key)\n",
    "\n",
    "    print(f\"{filename} has been saved to {bucket}\")\n"
   ]
  },
  {
   "cell_type": "code",
   "execution_count": null,
   "id": "qtbu3g2fEwUG",
   "metadata": {
    "id": "qtbu3g2fEwUG"
   },
   "outputs": [],
   "source": [
    "# saving logreg pickle file\n",
    "save_best_model(best_estimator, 'pickled_best_log_reg1.pkl', bucket='deliverable-slo-bstn-bucket', key='pickled_best_log_reg1.pkl')"
   ]
  },
  {
   "cell_type": "code",
   "execution_count": null,
   "id": "9e03501f",
   "metadata": {
    "colab": {
     "base_uri": "https://localhost:8080/"
    },
    "id": "9e03501f",
    "outputId": "fbb52000-f02d-4f15-c499-b65d7be6f8bb"
   },
   "outputs": [
    {
     "name": "stdout",
     "output_type": "stream",
     "text": [
      "The best logistic regression's accuracy on the remainder set: 0.903509221574075\n",
      "The best logistic regression's accuracy on the test set: 0.9040784595144121\n"
     ]
    }
   ],
   "source": [
    "# Sanity check on the pickled model\n",
    "pickled_best_logreg = joblib.load(filename)\n",
    "\n",
    "# Print the accuracies\n",
    "print(f\"The best logistic regression's accuracy on the remainder set: {pickled_best_logreg.score(X_remainder1, y_remainder1)}\")\n",
    "print(f\"The best logistic regression's accuracy on the test set: {pickled_best_logreg.score(X_test1, y_test1)}\")\n"
   ]
  },
  {
   "cell_type": "markdown",
   "id": "96e51a82",
   "metadata": {
    "id": "96e51a82"
   },
   "source": [
    "#### Support Vector Machine"
   ]
  },
  {
   "cell_type": "markdown",
   "id": "c08e255f",
   "metadata": {
    "id": "c08e255f"
   },
   "source": [
    "Best results with standard scaler so far"
   ]
  },
  {
   "cell_type": "code",
   "execution_count": 117,
   "id": "fd45abb2",
   "metadata": {
    "id": "fd45abb2"
   },
   "outputs": [],
   "source": [
    "#hyper parameters SVM\n",
    "param_range =[0.1,1,10]\n",
    "gamma_range = [0.1,0.01]"
   ]
  },
  {
   "cell_type": "code",
   "execution_count": 119,
   "id": "c455c0ab",
   "metadata": {
    "id": "c455c0ab"
   },
   "outputs": [],
   "source": [
    "# Parameter grid\n",
    "svm_param_grid = [\n",
    "    # SVM  without PCA\n",
    "    {'transform__cv__min_df' : vectorize_mindf_list ,\n",
    "     'transform__cv__max_features': [500],\n",
    "     'scaler' : ['passthrough', StandardScaler(with_mean=False)],\n",
    "     'dim_reducer': ['passthrough'],\n",
    "     'clf' : [SVC(random_state=10)],\n",
    "     'clf__kernel': ['rbf','sigmoid'],\n",
    "     'clf__C': param_range,\n",
    "     'clf__gamma':gamma_range\n",
    "     },\n",
    "     \n",
    "     #SVM with PCA\n",
    "     {'transform__cv__min_df' : vectorize_mindf_list ,\n",
    "     'transform__cv__max_features': [500],\n",
    "     'scaler' : [StandardScaler(with_mean=False)],\n",
    "     'dim_reducer': [PCA()],\n",
    "     'dim_reducer__n_components':[0.95 ,0.9 ,0.8],\n",
    "      'clf' : [SVC(random_state=10)], \n",
    "     'clf__kernel': ['rbf','sigmoid'],\n",
    "     'clf__C': param_range,\n",
    "     'clf__gamma':gamma_range\n",
    "     }\n",
    "]\n"
   ]
  },
  {
   "cell_type": "code",
   "execution_count": 128,
   "id": "XQXGrHYAWuN5",
   "metadata": {
    "colab": {
     "base_uri": "https://localhost:8080/"
    },
    "id": "XQXGrHYAWuN5",
    "outputId": "59336935-1513-413a-f36a-19de195ae614"
   },
   "outputs": [
    {
     "name": "stdout",
     "output_type": "stream",
     "text": [
      "Fitting 5 folds for each of 100 candidates, totalling 500 fits\n",
      "[Pipeline] ......... (step 1 of 4) Processing transform, total=   1.0s\n"
     ]
    },
    {
     "name": "stderr",
     "output_type": "stream",
     "text": [
      "/Users/mac/opt/anaconda3/envs/capstone/lib/python3.11/site-packages/sklearn/pipeline.py:359: UserWarning: Persisting input arguments took 1.13s to run.\n",
      "If this happens often in your code, it can cause performance problems \n",
      "(results will be correct in all cases). \n",
      "The reason for this is probably some large input arguments for a wrapped\n",
      " function (e.g. large strings).\n",
      "THIS IS A JOBLIB ISSUE. If you can, kindly provide the joblib's team with an\n",
      " example so that they can fix the problem.\n",
      "  X, fitted_transformer = fit_transform_one_cached(\n"
     ]
    },
    {
     "name": "stdout",
     "output_type": "stream",
     "text": [
      "[Pipeline] ....... (step 2 of 4) Processing dim_reducer, total=   0.0s\n",
      "[Pipeline] ............ (step 3 of 4) Processing scaler, total=   0.0s\n",
      "[Pipeline] ............... (step 4 of 4) Processing clf, total=  43.0s\n",
      "[CV 1/5] END clf=SVC(random_state=10), clf__C=1, clf__gamma=0.1, clf__kernel=rbf, dim_reducer=passthrough, scaler=passthrough, transform__cv__max_features=500, transform__cv__min_df=0.05;, score=0.922 total time= 1.0min\n",
      "[Pipeline] ......... (step 1 of 4) Processing transform, total=   0.7s\n"
     ]
    },
    {
     "name": "stderr",
     "output_type": "stream",
     "text": [
      "/Users/mac/opt/anaconda3/envs/capstone/lib/python3.11/site-packages/sklearn/pipeline.py:359: UserWarning: Persisting input arguments took 0.69s to run.\n",
      "If this happens often in your code, it can cause performance problems \n",
      "(results will be correct in all cases). \n",
      "The reason for this is probably some large input arguments for a wrapped\n",
      " function (e.g. large strings).\n",
      "THIS IS A JOBLIB ISSUE. If you can, kindly provide the joblib's team with an\n",
      " example so that they can fix the problem.\n",
      "  X, fitted_transformer = fit_transform_one_cached(\n"
     ]
    },
    {
     "name": "stdout",
     "output_type": "stream",
     "text": [
      "[Pipeline] ....... (step 2 of 4) Processing dim_reducer, total=   0.0s\n",
      "[Pipeline] ............ (step 3 of 4) Processing scaler, total=   0.0s\n",
      "[Pipeline] ............... (step 4 of 4) Processing clf, total=  46.2s\n",
      "[CV 2/5] END clf=SVC(random_state=10), clf__C=1, clf__gamma=0.1, clf__kernel=rbf, dim_reducer=passthrough, scaler=passthrough, transform__cv__max_features=500, transform__cv__min_df=0.05;, score=0.924 total time=  59.8s\n",
      "[Pipeline] ......... (step 1 of 4) Processing transform, total=   0.7s\n"
     ]
    },
    {
     "name": "stderr",
     "output_type": "stream",
     "text": [
      "/Users/mac/opt/anaconda3/envs/capstone/lib/python3.11/site-packages/sklearn/pipeline.py:359: UserWarning: Persisting input arguments took 0.71s to run.\n",
      "If this happens often in your code, it can cause performance problems \n",
      "(results will be correct in all cases). \n",
      "The reason for this is probably some large input arguments for a wrapped\n",
      " function (e.g. large strings).\n",
      "THIS IS A JOBLIB ISSUE. If you can, kindly provide the joblib's team with an\n",
      " example so that they can fix the problem.\n",
      "  X, fitted_transformer = fit_transform_one_cached(\n"
     ]
    },
    {
     "name": "stdout",
     "output_type": "stream",
     "text": [
      "[Pipeline] ....... (step 2 of 4) Processing dim_reducer, total=   0.0s\n",
      "[Pipeline] ............ (step 3 of 4) Processing scaler, total=   0.0s\n",
      "[Pipeline] ............... (step 4 of 4) Processing clf, total=  40.4s\n",
      "[CV 3/5] END clf=SVC(random_state=10), clf__C=1, clf__gamma=0.1, clf__kernel=rbf, dim_reducer=passthrough, scaler=passthrough, transform__cv__max_features=500, transform__cv__min_df=0.05;, score=0.921 total time=  52.0s\n"
     ]
    },
    {
     "ename": "KeyboardInterrupt",
     "evalue": "",
     "output_type": "error",
     "traceback": [
      "\u001b[0;31m---------------------------------------------------------------------------\u001b[0m",
      "\u001b[0;31mKeyboardInterrupt\u001b[0m                         Traceback (most recent call last)",
      "Cell \u001b[0;32mIn[128], line 11\u001b[0m\n\u001b[1;32m      1\u001b[0m \u001b[39m#activating randomized grid search \u001b[39;00m\n\u001b[1;32m      2\u001b[0m svm_random \u001b[39m=\u001b[39m RandomizedSearchCV(estimator \u001b[39m=\u001b[39m pipe, \n\u001b[1;32m      3\u001b[0m                            param_distributions\u001b[39m=\u001b[39m svm_param_grid, \n\u001b[1;32m      4\u001b[0m                            cv\u001b[39m=\u001b[39m\u001b[39m5\u001b[39m, \n\u001b[0;32m   (...)\u001b[0m\n\u001b[1;32m      8\u001b[0m                            scoring \u001b[39m=\u001b[39m \u001b[39m'\u001b[39m\u001b[39mf1_micro\u001b[39m\u001b[39m'\u001b[39m, \n\u001b[1;32m      9\u001b[0m                            random_state \u001b[39m=\u001b[39m \u001b[39m8\u001b[39m)\n\u001b[0;32m---> 11\u001b[0m fitted_svmrandom_gs \u001b[39m=\u001b[39m svm_random\u001b[39m.\u001b[39mfit(X_remainder1_sample, y_remainder1_sample)\n\u001b[1;32m     13\u001b[0m grid_search_results \u001b[39m=\u001b[39m fitted_svmrandom_gs\u001b[39m.\u001b[39mcv_results_\n\u001b[1;32m     15\u001b[0m best_estimator \u001b[39m=\u001b[39m fitted_svmrandom_gs\u001b[39m.\u001b[39mbest_estimator_\n",
      "File \u001b[0;32m~/opt/anaconda3/envs/capstone/lib/python3.11/site-packages/sklearn/model_selection/_search.py:874\u001b[0m, in \u001b[0;36mBaseSearchCV.fit\u001b[0;34m(self, X, y, groups, **fit_params)\u001b[0m\n\u001b[1;32m    868\u001b[0m     results \u001b[39m=\u001b[39m \u001b[39mself\u001b[39m\u001b[39m.\u001b[39m_format_results(\n\u001b[1;32m    869\u001b[0m         all_candidate_params, n_splits, all_out, all_more_results\n\u001b[1;32m    870\u001b[0m     )\n\u001b[1;32m    872\u001b[0m     \u001b[39mreturn\u001b[39;00m results\n\u001b[0;32m--> 874\u001b[0m \u001b[39mself\u001b[39m\u001b[39m.\u001b[39m_run_search(evaluate_candidates)\n\u001b[1;32m    876\u001b[0m \u001b[39m# multimetric is determined here because in the case of a callable\u001b[39;00m\n\u001b[1;32m    877\u001b[0m \u001b[39m# self.scoring the return type is only known after calling\u001b[39;00m\n\u001b[1;32m    878\u001b[0m first_test_score \u001b[39m=\u001b[39m all_out[\u001b[39m0\u001b[39m][\u001b[39m\"\u001b[39m\u001b[39mtest_scores\u001b[39m\u001b[39m\"\u001b[39m]\n",
      "File \u001b[0;32m~/opt/anaconda3/envs/capstone/lib/python3.11/site-packages/sklearn/model_selection/_search.py:1768\u001b[0m, in \u001b[0;36mRandomizedSearchCV._run_search\u001b[0;34m(self, evaluate_candidates)\u001b[0m\n\u001b[1;32m   1766\u001b[0m \u001b[39mdef\u001b[39;00m \u001b[39m_run_search\u001b[39m(\u001b[39mself\u001b[39m, evaluate_candidates):\n\u001b[1;32m   1767\u001b[0m     \u001b[39m\"\"\"Search n_iter candidates from param_distributions\"\"\"\u001b[39;00m\n\u001b[0;32m-> 1768\u001b[0m     evaluate_candidates(\n\u001b[1;32m   1769\u001b[0m         ParameterSampler(\n\u001b[1;32m   1770\u001b[0m             \u001b[39mself\u001b[39m\u001b[39m.\u001b[39mparam_distributions, \u001b[39mself\u001b[39m\u001b[39m.\u001b[39mn_iter, random_state\u001b[39m=\u001b[39m\u001b[39mself\u001b[39m\u001b[39m.\u001b[39mrandom_state\n\u001b[1;32m   1771\u001b[0m         )\n\u001b[1;32m   1772\u001b[0m     )\n",
      "File \u001b[0;32m~/opt/anaconda3/envs/capstone/lib/python3.11/site-packages/sklearn/model_selection/_search.py:821\u001b[0m, in \u001b[0;36mBaseSearchCV.fit.<locals>.evaluate_candidates\u001b[0;34m(candidate_params, cv, more_results)\u001b[0m\n\u001b[1;32m    813\u001b[0m \u001b[39mif\u001b[39;00m \u001b[39mself\u001b[39m\u001b[39m.\u001b[39mverbose \u001b[39m>\u001b[39m \u001b[39m0\u001b[39m:\n\u001b[1;32m    814\u001b[0m     \u001b[39mprint\u001b[39m(\n\u001b[1;32m    815\u001b[0m         \u001b[39m\"\u001b[39m\u001b[39mFitting \u001b[39m\u001b[39m{0}\u001b[39;00m\u001b[39m folds for each of \u001b[39m\u001b[39m{1}\u001b[39;00m\u001b[39m candidates,\u001b[39m\u001b[39m\"\u001b[39m\n\u001b[1;32m    816\u001b[0m         \u001b[39m\"\u001b[39m\u001b[39m totalling \u001b[39m\u001b[39m{2}\u001b[39;00m\u001b[39m fits\u001b[39m\u001b[39m\"\u001b[39m\u001b[39m.\u001b[39mformat(\n\u001b[1;32m    817\u001b[0m             n_splits, n_candidates, n_candidates \u001b[39m*\u001b[39m n_splits\n\u001b[1;32m    818\u001b[0m         )\n\u001b[1;32m    819\u001b[0m     )\n\u001b[0;32m--> 821\u001b[0m out \u001b[39m=\u001b[39m parallel(\n\u001b[1;32m    822\u001b[0m     delayed(_fit_and_score)(\n\u001b[1;32m    823\u001b[0m         clone(base_estimator),\n\u001b[1;32m    824\u001b[0m         X,\n\u001b[1;32m    825\u001b[0m         y,\n\u001b[1;32m    826\u001b[0m         train\u001b[39m=\u001b[39mtrain,\n\u001b[1;32m    827\u001b[0m         test\u001b[39m=\u001b[39mtest,\n\u001b[1;32m    828\u001b[0m         parameters\u001b[39m=\u001b[39mparameters,\n\u001b[1;32m    829\u001b[0m         split_progress\u001b[39m=\u001b[39m(split_idx, n_splits),\n\u001b[1;32m    830\u001b[0m         candidate_progress\u001b[39m=\u001b[39m(cand_idx, n_candidates),\n\u001b[1;32m    831\u001b[0m         \u001b[39m*\u001b[39m\u001b[39m*\u001b[39mfit_and_score_kwargs,\n\u001b[1;32m    832\u001b[0m     )\n\u001b[1;32m    833\u001b[0m     \u001b[39mfor\u001b[39;00m (cand_idx, parameters), (split_idx, (train, test)) \u001b[39min\u001b[39;00m product(\n\u001b[1;32m    834\u001b[0m         \u001b[39menumerate\u001b[39m(candidate_params), \u001b[39menumerate\u001b[39m(cv\u001b[39m.\u001b[39msplit(X, y, groups))\n\u001b[1;32m    835\u001b[0m     )\n\u001b[1;32m    836\u001b[0m )\n\u001b[1;32m    838\u001b[0m \u001b[39mif\u001b[39;00m \u001b[39mlen\u001b[39m(out) \u001b[39m<\u001b[39m \u001b[39m1\u001b[39m:\n\u001b[1;32m    839\u001b[0m     \u001b[39mraise\u001b[39;00m \u001b[39mValueError\u001b[39;00m(\n\u001b[1;32m    840\u001b[0m         \u001b[39m\"\u001b[39m\u001b[39mNo fits were performed. \u001b[39m\u001b[39m\"\u001b[39m\n\u001b[1;32m    841\u001b[0m         \u001b[39m\"\u001b[39m\u001b[39mWas the CV iterator empty? \u001b[39m\u001b[39m\"\u001b[39m\n\u001b[1;32m    842\u001b[0m         \u001b[39m\"\u001b[39m\u001b[39mWere there no candidates?\u001b[39m\u001b[39m\"\u001b[39m\n\u001b[1;32m    843\u001b[0m     )\n",
      "File \u001b[0;32m~/opt/anaconda3/envs/capstone/lib/python3.11/site-packages/sklearn/utils/parallel.py:63\u001b[0m, in \u001b[0;36mParallel.__call__\u001b[0;34m(self, iterable)\u001b[0m\n\u001b[1;32m     58\u001b[0m config \u001b[39m=\u001b[39m get_config()\n\u001b[1;32m     59\u001b[0m iterable_with_config \u001b[39m=\u001b[39m (\n\u001b[1;32m     60\u001b[0m     (_with_config(delayed_func, config), args, kwargs)\n\u001b[1;32m     61\u001b[0m     \u001b[39mfor\u001b[39;00m delayed_func, args, kwargs \u001b[39min\u001b[39;00m iterable\n\u001b[1;32m     62\u001b[0m )\n\u001b[0;32m---> 63\u001b[0m \u001b[39mreturn\u001b[39;00m \u001b[39msuper\u001b[39m()\u001b[39m.\u001b[39m\u001b[39m__call__\u001b[39m(iterable_with_config)\n",
      "File \u001b[0;32m~/opt/anaconda3/envs/capstone/lib/python3.11/site-packages/joblib/parallel.py:1088\u001b[0m, in \u001b[0;36mParallel.__call__\u001b[0;34m(self, iterable)\u001b[0m\n\u001b[1;32m   1085\u001b[0m \u001b[39mif\u001b[39;00m \u001b[39mself\u001b[39m\u001b[39m.\u001b[39mdispatch_one_batch(iterator):\n\u001b[1;32m   1086\u001b[0m     \u001b[39mself\u001b[39m\u001b[39m.\u001b[39m_iterating \u001b[39m=\u001b[39m \u001b[39mself\u001b[39m\u001b[39m.\u001b[39m_original_iterator \u001b[39mis\u001b[39;00m \u001b[39mnot\u001b[39;00m \u001b[39mNone\u001b[39;00m\n\u001b[0;32m-> 1088\u001b[0m \u001b[39mwhile\u001b[39;00m \u001b[39mself\u001b[39m\u001b[39m.\u001b[39mdispatch_one_batch(iterator):\n\u001b[1;32m   1089\u001b[0m     \u001b[39mpass\u001b[39;00m\n\u001b[1;32m   1091\u001b[0m \u001b[39mif\u001b[39;00m pre_dispatch \u001b[39m==\u001b[39m \u001b[39m\"\u001b[39m\u001b[39mall\u001b[39m\u001b[39m\"\u001b[39m \u001b[39mor\u001b[39;00m n_jobs \u001b[39m==\u001b[39m \u001b[39m1\u001b[39m:\n\u001b[1;32m   1092\u001b[0m     \u001b[39m# The iterable was consumed all at once by the above for loop.\u001b[39;00m\n\u001b[1;32m   1093\u001b[0m     \u001b[39m# No need to wait for async callbacks to trigger to\u001b[39;00m\n\u001b[1;32m   1094\u001b[0m     \u001b[39m# consumption.\u001b[39;00m\n",
      "File \u001b[0;32m~/opt/anaconda3/envs/capstone/lib/python3.11/site-packages/joblib/parallel.py:901\u001b[0m, in \u001b[0;36mParallel.dispatch_one_batch\u001b[0;34m(self, iterator)\u001b[0m\n\u001b[1;32m    899\u001b[0m     \u001b[39mreturn\u001b[39;00m \u001b[39mFalse\u001b[39;00m\n\u001b[1;32m    900\u001b[0m \u001b[39melse\u001b[39;00m:\n\u001b[0;32m--> 901\u001b[0m     \u001b[39mself\u001b[39m\u001b[39m.\u001b[39m_dispatch(tasks)\n\u001b[1;32m    902\u001b[0m     \u001b[39mreturn\u001b[39;00m \u001b[39mTrue\u001b[39;00m\n",
      "File \u001b[0;32m~/opt/anaconda3/envs/capstone/lib/python3.11/site-packages/joblib/parallel.py:819\u001b[0m, in \u001b[0;36mParallel._dispatch\u001b[0;34m(self, batch)\u001b[0m\n\u001b[1;32m    817\u001b[0m \u001b[39mwith\u001b[39;00m \u001b[39mself\u001b[39m\u001b[39m.\u001b[39m_lock:\n\u001b[1;32m    818\u001b[0m     job_idx \u001b[39m=\u001b[39m \u001b[39mlen\u001b[39m(\u001b[39mself\u001b[39m\u001b[39m.\u001b[39m_jobs)\n\u001b[0;32m--> 819\u001b[0m     job \u001b[39m=\u001b[39m \u001b[39mself\u001b[39m\u001b[39m.\u001b[39m_backend\u001b[39m.\u001b[39mapply_async(batch, callback\u001b[39m=\u001b[39mcb)\n\u001b[1;32m    820\u001b[0m     \u001b[39m# A job can complete so quickly than its callback is\u001b[39;00m\n\u001b[1;32m    821\u001b[0m     \u001b[39m# called before we get here, causing self._jobs to\u001b[39;00m\n\u001b[1;32m    822\u001b[0m     \u001b[39m# grow. To ensure correct results ordering, .insert is\u001b[39;00m\n\u001b[1;32m    823\u001b[0m     \u001b[39m# used (rather than .append) in the following line\u001b[39;00m\n\u001b[1;32m    824\u001b[0m     \u001b[39mself\u001b[39m\u001b[39m.\u001b[39m_jobs\u001b[39m.\u001b[39minsert(job_idx, job)\n",
      "File \u001b[0;32m~/opt/anaconda3/envs/capstone/lib/python3.11/site-packages/joblib/_parallel_backends.py:208\u001b[0m, in \u001b[0;36mSequentialBackend.apply_async\u001b[0;34m(self, func, callback)\u001b[0m\n\u001b[1;32m    206\u001b[0m \u001b[39mdef\u001b[39;00m \u001b[39mapply_async\u001b[39m(\u001b[39mself\u001b[39m, func, callback\u001b[39m=\u001b[39m\u001b[39mNone\u001b[39;00m):\n\u001b[1;32m    207\u001b[0m     \u001b[39m\"\"\"Schedule a func to be run\"\"\"\u001b[39;00m\n\u001b[0;32m--> 208\u001b[0m     result \u001b[39m=\u001b[39m ImmediateResult(func)\n\u001b[1;32m    209\u001b[0m     \u001b[39mif\u001b[39;00m callback:\n\u001b[1;32m    210\u001b[0m         callback(result)\n",
      "File \u001b[0;32m~/opt/anaconda3/envs/capstone/lib/python3.11/site-packages/joblib/_parallel_backends.py:597\u001b[0m, in \u001b[0;36mImmediateResult.__init__\u001b[0;34m(self, batch)\u001b[0m\n\u001b[1;32m    594\u001b[0m \u001b[39mdef\u001b[39;00m \u001b[39m__init__\u001b[39m(\u001b[39mself\u001b[39m, batch):\n\u001b[1;32m    595\u001b[0m     \u001b[39m# Don't delay the application, to avoid keeping the input\u001b[39;00m\n\u001b[1;32m    596\u001b[0m     \u001b[39m# arguments in memory\u001b[39;00m\n\u001b[0;32m--> 597\u001b[0m     \u001b[39mself\u001b[39m\u001b[39m.\u001b[39mresults \u001b[39m=\u001b[39m batch()\n",
      "File \u001b[0;32m~/opt/anaconda3/envs/capstone/lib/python3.11/site-packages/joblib/parallel.py:288\u001b[0m, in \u001b[0;36mBatchedCalls.__call__\u001b[0;34m(self)\u001b[0m\n\u001b[1;32m    284\u001b[0m \u001b[39mdef\u001b[39;00m \u001b[39m__call__\u001b[39m(\u001b[39mself\u001b[39m):\n\u001b[1;32m    285\u001b[0m     \u001b[39m# Set the default nested backend to self._backend but do not set the\u001b[39;00m\n\u001b[1;32m    286\u001b[0m     \u001b[39m# change the default number of processes to -1\u001b[39;00m\n\u001b[1;32m    287\u001b[0m     \u001b[39mwith\u001b[39;00m parallel_backend(\u001b[39mself\u001b[39m\u001b[39m.\u001b[39m_backend, n_jobs\u001b[39m=\u001b[39m\u001b[39mself\u001b[39m\u001b[39m.\u001b[39m_n_jobs):\n\u001b[0;32m--> 288\u001b[0m         \u001b[39mreturn\u001b[39;00m [func(\u001b[39m*\u001b[39margs, \u001b[39m*\u001b[39m\u001b[39m*\u001b[39mkwargs)\n\u001b[1;32m    289\u001b[0m                 \u001b[39mfor\u001b[39;00m func, args, kwargs \u001b[39min\u001b[39;00m \u001b[39mself\u001b[39m\u001b[39m.\u001b[39mitems]\n",
      "File \u001b[0;32m~/opt/anaconda3/envs/capstone/lib/python3.11/site-packages/joblib/parallel.py:288\u001b[0m, in \u001b[0;36m<listcomp>\u001b[0;34m(.0)\u001b[0m\n\u001b[1;32m    284\u001b[0m \u001b[39mdef\u001b[39;00m \u001b[39m__call__\u001b[39m(\u001b[39mself\u001b[39m):\n\u001b[1;32m    285\u001b[0m     \u001b[39m# Set the default nested backend to self._backend but do not set the\u001b[39;00m\n\u001b[1;32m    286\u001b[0m     \u001b[39m# change the default number of processes to -1\u001b[39;00m\n\u001b[1;32m    287\u001b[0m     \u001b[39mwith\u001b[39;00m parallel_backend(\u001b[39mself\u001b[39m\u001b[39m.\u001b[39m_backend, n_jobs\u001b[39m=\u001b[39m\u001b[39mself\u001b[39m\u001b[39m.\u001b[39m_n_jobs):\n\u001b[0;32m--> 288\u001b[0m         \u001b[39mreturn\u001b[39;00m [func(\u001b[39m*\u001b[39margs, \u001b[39m*\u001b[39m\u001b[39m*\u001b[39mkwargs)\n\u001b[1;32m    289\u001b[0m                 \u001b[39mfor\u001b[39;00m func, args, kwargs \u001b[39min\u001b[39;00m \u001b[39mself\u001b[39m\u001b[39m.\u001b[39mitems]\n",
      "File \u001b[0;32m~/opt/anaconda3/envs/capstone/lib/python3.11/site-packages/sklearn/utils/parallel.py:123\u001b[0m, in \u001b[0;36m_FuncWrapper.__call__\u001b[0;34m(self, *args, **kwargs)\u001b[0m\n\u001b[1;32m    121\u001b[0m     config \u001b[39m=\u001b[39m {}\n\u001b[1;32m    122\u001b[0m \u001b[39mwith\u001b[39;00m config_context(\u001b[39m*\u001b[39m\u001b[39m*\u001b[39mconfig):\n\u001b[0;32m--> 123\u001b[0m     \u001b[39mreturn\u001b[39;00m \u001b[39mself\u001b[39m\u001b[39m.\u001b[39mfunction(\u001b[39m*\u001b[39margs, \u001b[39m*\u001b[39m\u001b[39m*\u001b[39mkwargs)\n",
      "File \u001b[0;32m~/opt/anaconda3/envs/capstone/lib/python3.11/site-packages/sklearn/model_selection/_validation.py:686\u001b[0m, in \u001b[0;36m_fit_and_score\u001b[0;34m(estimator, X, y, scorer, train, test, verbose, parameters, fit_params, return_train_score, return_parameters, return_n_test_samples, return_times, return_estimator, split_progress, candidate_progress, error_score)\u001b[0m\n\u001b[1;32m    684\u001b[0m         estimator\u001b[39m.\u001b[39mfit(X_train, \u001b[39m*\u001b[39m\u001b[39m*\u001b[39mfit_params)\n\u001b[1;32m    685\u001b[0m     \u001b[39melse\u001b[39;00m:\n\u001b[0;32m--> 686\u001b[0m         estimator\u001b[39m.\u001b[39mfit(X_train, y_train, \u001b[39m*\u001b[39m\u001b[39m*\u001b[39mfit_params)\n\u001b[1;32m    688\u001b[0m \u001b[39mexcept\u001b[39;00m \u001b[39mException\u001b[39;00m:\n\u001b[1;32m    689\u001b[0m     \u001b[39m# Note fit time as time until error\u001b[39;00m\n\u001b[1;32m    690\u001b[0m     fit_time \u001b[39m=\u001b[39m time\u001b[39m.\u001b[39mtime() \u001b[39m-\u001b[39m start_time\n",
      "File \u001b[0;32m~/opt/anaconda3/envs/capstone/lib/python3.11/site-packages/sklearn/pipeline.py:401\u001b[0m, in \u001b[0;36mPipeline.fit\u001b[0;34m(self, X, y, **fit_params)\u001b[0m\n\u001b[1;32m    375\u001b[0m \u001b[39m\"\"\"Fit the model.\u001b[39;00m\n\u001b[1;32m    376\u001b[0m \n\u001b[1;32m    377\u001b[0m \u001b[39mFit all the transformers one after the other and transform the\u001b[39;00m\n\u001b[0;32m   (...)\u001b[0m\n\u001b[1;32m    398\u001b[0m \u001b[39m    Pipeline with fitted steps.\u001b[39;00m\n\u001b[1;32m    399\u001b[0m \u001b[39m\"\"\"\u001b[39;00m\n\u001b[1;32m    400\u001b[0m fit_params_steps \u001b[39m=\u001b[39m \u001b[39mself\u001b[39m\u001b[39m.\u001b[39m_check_fit_params(\u001b[39m*\u001b[39m\u001b[39m*\u001b[39mfit_params)\n\u001b[0;32m--> 401\u001b[0m Xt \u001b[39m=\u001b[39m \u001b[39mself\u001b[39m\u001b[39m.\u001b[39m_fit(X, y, \u001b[39m*\u001b[39m\u001b[39m*\u001b[39mfit_params_steps)\n\u001b[1;32m    402\u001b[0m \u001b[39mwith\u001b[39;00m _print_elapsed_time(\u001b[39m\"\u001b[39m\u001b[39mPipeline\u001b[39m\u001b[39m\"\u001b[39m, \u001b[39mself\u001b[39m\u001b[39m.\u001b[39m_log_message(\u001b[39mlen\u001b[39m(\u001b[39mself\u001b[39m\u001b[39m.\u001b[39msteps) \u001b[39m-\u001b[39m \u001b[39m1\u001b[39m)):\n\u001b[1;32m    403\u001b[0m     \u001b[39mif\u001b[39;00m \u001b[39mself\u001b[39m\u001b[39m.\u001b[39m_final_estimator \u001b[39m!=\u001b[39m \u001b[39m\"\u001b[39m\u001b[39mpassthrough\u001b[39m\u001b[39m\"\u001b[39m:\n",
      "File \u001b[0;32m~/opt/anaconda3/envs/capstone/lib/python3.11/site-packages/sklearn/pipeline.py:359\u001b[0m, in \u001b[0;36mPipeline._fit\u001b[0;34m(self, X, y, **fit_params_steps)\u001b[0m\n\u001b[1;32m    357\u001b[0m     cloned_transformer \u001b[39m=\u001b[39m clone(transformer)\n\u001b[1;32m    358\u001b[0m \u001b[39m# Fit or load from cache the current transformer\u001b[39;00m\n\u001b[0;32m--> 359\u001b[0m X, fitted_transformer \u001b[39m=\u001b[39m fit_transform_one_cached(\n\u001b[1;32m    360\u001b[0m     cloned_transformer,\n\u001b[1;32m    361\u001b[0m     X,\n\u001b[1;32m    362\u001b[0m     y,\n\u001b[1;32m    363\u001b[0m     \u001b[39mNone\u001b[39;00m,\n\u001b[1;32m    364\u001b[0m     message_clsname\u001b[39m=\u001b[39m\u001b[39m\"\u001b[39m\u001b[39mPipeline\u001b[39m\u001b[39m\"\u001b[39m,\n\u001b[1;32m    365\u001b[0m     message\u001b[39m=\u001b[39m\u001b[39mself\u001b[39m\u001b[39m.\u001b[39m_log_message(step_idx),\n\u001b[1;32m    366\u001b[0m     \u001b[39m*\u001b[39m\u001b[39m*\u001b[39mfit_params_steps[name],\n\u001b[1;32m    367\u001b[0m )\n\u001b[1;32m    368\u001b[0m \u001b[39m# Replace the transformer of the step with the fitted\u001b[39;00m\n\u001b[1;32m    369\u001b[0m \u001b[39m# transformer. This is necessary when loading the transformer\u001b[39;00m\n\u001b[1;32m    370\u001b[0m \u001b[39m# from the cache.\u001b[39;00m\n\u001b[1;32m    371\u001b[0m \u001b[39mself\u001b[39m\u001b[39m.\u001b[39msteps[step_idx] \u001b[39m=\u001b[39m (name, fitted_transformer)\n",
      "File \u001b[0;32m~/opt/anaconda3/envs/capstone/lib/python3.11/site-packages/joblib/memory.py:594\u001b[0m, in \u001b[0;36mMemorizedFunc.__call__\u001b[0;34m(self, *args, **kwargs)\u001b[0m\n\u001b[1;32m    593\u001b[0m \u001b[39mdef\u001b[39;00m \u001b[39m__call__\u001b[39m(\u001b[39mself\u001b[39m, \u001b[39m*\u001b[39margs, \u001b[39m*\u001b[39m\u001b[39m*\u001b[39mkwargs):\n\u001b[0;32m--> 594\u001b[0m     \u001b[39mreturn\u001b[39;00m \u001b[39mself\u001b[39m\u001b[39m.\u001b[39m_cached_call(args, kwargs)[\u001b[39m0\u001b[39m]\n",
      "File \u001b[0;32m~/opt/anaconda3/envs/capstone/lib/python3.11/site-packages/joblib/memory.py:486\u001b[0m, in \u001b[0;36mMemorizedFunc._cached_call\u001b[0;34m(self, args, kwargs, shelving)\u001b[0m\n\u001b[1;32m    458\u001b[0m \u001b[39mdef\u001b[39;00m \u001b[39m_cached_call\u001b[39m(\u001b[39mself\u001b[39m, args, kwargs, shelving\u001b[39m=\u001b[39m\u001b[39mFalse\u001b[39;00m):\n\u001b[1;32m    459\u001b[0m     \u001b[39m\"\"\"Call wrapped function and cache result, or read cache if available.\u001b[39;00m\n\u001b[1;32m    460\u001b[0m \n\u001b[1;32m    461\u001b[0m \u001b[39m    This function returns the wrapped function output and some metadata.\u001b[39;00m\n\u001b[0;32m   (...)\u001b[0m\n\u001b[1;32m    484\u001b[0m \u001b[39m        Some metadata about wrapped function call (see _persist_input()).\u001b[39;00m\n\u001b[1;32m    485\u001b[0m \u001b[39m    \"\"\"\u001b[39;00m\n\u001b[0;32m--> 486\u001b[0m     func_id, args_id \u001b[39m=\u001b[39m \u001b[39mself\u001b[39m\u001b[39m.\u001b[39m_get_output_identifiers(\u001b[39m*\u001b[39margs, \u001b[39m*\u001b[39m\u001b[39m*\u001b[39mkwargs)\n\u001b[1;32m    487\u001b[0m     metadata \u001b[39m=\u001b[39m \u001b[39mNone\u001b[39;00m\n\u001b[1;32m    488\u001b[0m     msg \u001b[39m=\u001b[39m \u001b[39mNone\u001b[39;00m\n",
      "File \u001b[0;32m~/opt/anaconda3/envs/capstone/lib/python3.11/site-packages/joblib/memory.py:638\u001b[0m, in \u001b[0;36mMemorizedFunc._get_output_identifiers\u001b[0;34m(self, *args, **kwargs)\u001b[0m\n\u001b[1;32m    636\u001b[0m \u001b[39m\"\"\"Return the func identifier and input parameter hash of a result.\"\"\"\u001b[39;00m\n\u001b[1;32m    637\u001b[0m func_id \u001b[39m=\u001b[39m _build_func_identifier(\u001b[39mself\u001b[39m\u001b[39m.\u001b[39mfunc)\n\u001b[0;32m--> 638\u001b[0m argument_hash \u001b[39m=\u001b[39m \u001b[39mself\u001b[39m\u001b[39m.\u001b[39m_get_argument_hash(\u001b[39m*\u001b[39margs, \u001b[39m*\u001b[39m\u001b[39m*\u001b[39mkwargs)\n\u001b[1;32m    639\u001b[0m \u001b[39mreturn\u001b[39;00m func_id, argument_hash\n",
      "File \u001b[0;32m~/opt/anaconda3/envs/capstone/lib/python3.11/site-packages/joblib/memory.py:632\u001b[0m, in \u001b[0;36mMemorizedFunc._get_argument_hash\u001b[0;34m(self, *args, **kwargs)\u001b[0m\n\u001b[1;32m    631\u001b[0m \u001b[39mdef\u001b[39;00m \u001b[39m_get_argument_hash\u001b[39m(\u001b[39mself\u001b[39m, \u001b[39m*\u001b[39margs, \u001b[39m*\u001b[39m\u001b[39m*\u001b[39mkwargs):\n\u001b[0;32m--> 632\u001b[0m     \u001b[39mreturn\u001b[39;00m hashing\u001b[39m.\u001b[39mhash(filter_args(\u001b[39mself\u001b[39m\u001b[39m.\u001b[39mfunc, \u001b[39mself\u001b[39m\u001b[39m.\u001b[39mignore, args, kwargs),\n\u001b[1;32m    633\u001b[0m                         coerce_mmap\u001b[39m=\u001b[39m(\u001b[39mself\u001b[39m\u001b[39m.\u001b[39mmmap_mode \u001b[39mis\u001b[39;00m \u001b[39mnot\u001b[39;00m \u001b[39mNone\u001b[39;00m))\n",
      "File \u001b[0;32m~/opt/anaconda3/envs/capstone/lib/python3.11/site-packages/joblib/hashing.py:266\u001b[0m, in \u001b[0;36mhash\u001b[0;34m(obj, hash_name, coerce_mmap)\u001b[0m\n\u001b[1;32m    264\u001b[0m \u001b[39melse\u001b[39;00m:\n\u001b[1;32m    265\u001b[0m     hasher \u001b[39m=\u001b[39m Hasher(hash_name\u001b[39m=\u001b[39mhash_name)\n\u001b[0;32m--> 266\u001b[0m \u001b[39mreturn\u001b[39;00m hasher\u001b[39m.\u001b[39mhash(obj)\n",
      "File \u001b[0;32m~/opt/anaconda3/envs/capstone/lib/python3.11/site-packages/joblib/hashing.py:63\u001b[0m, in \u001b[0;36mHasher.hash\u001b[0;34m(self, obj, return_digest)\u001b[0m\n\u001b[1;32m     61\u001b[0m \u001b[39mdef\u001b[39;00m \u001b[39mhash\u001b[39m(\u001b[39mself\u001b[39m, obj, return_digest\u001b[39m=\u001b[39m\u001b[39mTrue\u001b[39;00m):\n\u001b[1;32m     62\u001b[0m     \u001b[39mtry\u001b[39;00m:\n\u001b[0;32m---> 63\u001b[0m         \u001b[39mself\u001b[39m\u001b[39m.\u001b[39mdump(obj)\n\u001b[1;32m     64\u001b[0m     \u001b[39mexcept\u001b[39;00m pickle\u001b[39m.\u001b[39mPicklingError \u001b[39mas\u001b[39;00m e:\n\u001b[1;32m     65\u001b[0m         e\u001b[39m.\u001b[39margs \u001b[39m+\u001b[39m\u001b[39m=\u001b[39m (\u001b[39m'\u001b[39m\u001b[39mPicklingError while hashing \u001b[39m\u001b[39m%r\u001b[39;00m\u001b[39m: \u001b[39m\u001b[39m%r\u001b[39;00m\u001b[39m'\u001b[39m \u001b[39m%\u001b[39m (obj, e),)\n",
      "File \u001b[0;32m~/opt/anaconda3/envs/capstone/lib/python3.11/pickle.py:487\u001b[0m, in \u001b[0;36m_Pickler.dump\u001b[0;34m(self, obj)\u001b[0m\n\u001b[1;32m    485\u001b[0m \u001b[39mif\u001b[39;00m \u001b[39mself\u001b[39m\u001b[39m.\u001b[39mproto \u001b[39m>\u001b[39m\u001b[39m=\u001b[39m \u001b[39m4\u001b[39m:\n\u001b[1;32m    486\u001b[0m     \u001b[39mself\u001b[39m\u001b[39m.\u001b[39mframer\u001b[39m.\u001b[39mstart_framing()\n\u001b[0;32m--> 487\u001b[0m \u001b[39mself\u001b[39m\u001b[39m.\u001b[39msave(obj)\n\u001b[1;32m    488\u001b[0m \u001b[39mself\u001b[39m\u001b[39m.\u001b[39mwrite(STOP)\n\u001b[1;32m    489\u001b[0m \u001b[39mself\u001b[39m\u001b[39m.\u001b[39mframer\u001b[39m.\u001b[39mend_framing()\n",
      "File \u001b[0;32m~/opt/anaconda3/envs/capstone/lib/python3.11/site-packages/joblib/hashing.py:241\u001b[0m, in \u001b[0;36mNumpyHasher.save\u001b[0;34m(self, obj)\u001b[0m\n\u001b[1;32m    239\u001b[0m     \u001b[39mself\u001b[39m\u001b[39m.\u001b[39m_hash\u001b[39m.\u001b[39mupdate(pickle\u001b[39m.\u001b[39mdumps(obj))\n\u001b[1;32m    240\u001b[0m     \u001b[39mreturn\u001b[39;00m\n\u001b[0;32m--> 241\u001b[0m Hasher\u001b[39m.\u001b[39msave(\u001b[39mself\u001b[39m, obj)\n",
      "File \u001b[0;32m~/opt/anaconda3/envs/capstone/lib/python3.11/site-packages/joblib/hashing.py:89\u001b[0m, in \u001b[0;36mHasher.save\u001b[0;34m(self, obj)\u001b[0m\n\u001b[1;32m     87\u001b[0m         \u001b[39mcls\u001b[39m \u001b[39m=\u001b[39m obj\u001b[39m.\u001b[39m\u001b[39m__self__\u001b[39m\u001b[39m.\u001b[39m\u001b[39m__class__\u001b[39m\n\u001b[1;32m     88\u001b[0m         obj \u001b[39m=\u001b[39m _MyHash(func_name, inst, \u001b[39mcls\u001b[39m)\n\u001b[0;32m---> 89\u001b[0m Pickler\u001b[39m.\u001b[39msave(\u001b[39mself\u001b[39m, obj)\n",
      "File \u001b[0;32m~/opt/anaconda3/envs/capstone/lib/python3.11/pickle.py:560\u001b[0m, in \u001b[0;36m_Pickler.save\u001b[0;34m(self, obj, save_persistent_id)\u001b[0m\n\u001b[1;32m    558\u001b[0m f \u001b[39m=\u001b[39m \u001b[39mself\u001b[39m\u001b[39m.\u001b[39mdispatch\u001b[39m.\u001b[39mget(t)\n\u001b[1;32m    559\u001b[0m \u001b[39mif\u001b[39;00m f \u001b[39mis\u001b[39;00m \u001b[39mnot\u001b[39;00m \u001b[39mNone\u001b[39;00m:\n\u001b[0;32m--> 560\u001b[0m     f(\u001b[39mself\u001b[39m, obj)  \u001b[39m# Call unbound method with explicit self\u001b[39;00m\n\u001b[1;32m    561\u001b[0m     \u001b[39mreturn\u001b[39;00m\n\u001b[1;32m    563\u001b[0m \u001b[39m# Check private dispatch table if any, or else\u001b[39;00m\n\u001b[1;32m    564\u001b[0m \u001b[39m# copyreg.dispatch_table\u001b[39;00m\n",
      "File \u001b[0;32m~/opt/anaconda3/envs/capstone/lib/python3.11/pickle.py:972\u001b[0m, in \u001b[0;36m_Pickler.save_dict\u001b[0;34m(self, obj)\u001b[0m\n\u001b[1;32m    969\u001b[0m     \u001b[39mself\u001b[39m\u001b[39m.\u001b[39mwrite(MARK \u001b[39m+\u001b[39m DICT)\n\u001b[1;32m    971\u001b[0m \u001b[39mself\u001b[39m\u001b[39m.\u001b[39mmemoize(obj)\n\u001b[0;32m--> 972\u001b[0m \u001b[39mself\u001b[39m\u001b[39m.\u001b[39m_batch_setitems(obj\u001b[39m.\u001b[39mitems())\n",
      "File \u001b[0;32m~/opt/anaconda3/envs/capstone/lib/python3.11/site-packages/joblib/hashing.py:140\u001b[0m, in \u001b[0;36mHasher._batch_setitems\u001b[0;34m(self, items)\u001b[0m\n\u001b[1;32m    133\u001b[0m \u001b[39mdef\u001b[39;00m \u001b[39m_batch_setitems\u001b[39m(\u001b[39mself\u001b[39m, items):\n\u001b[1;32m    134\u001b[0m     \u001b[39m# forces order of keys in dict to ensure consistent hash.\u001b[39;00m\n\u001b[1;32m    135\u001b[0m     \u001b[39mtry\u001b[39;00m:\n\u001b[1;32m    136\u001b[0m         \u001b[39m# Trying first to compare dict assuming the type of keys is\u001b[39;00m\n\u001b[1;32m    137\u001b[0m         \u001b[39m# consistent and orderable.\u001b[39;00m\n\u001b[1;32m    138\u001b[0m         \u001b[39m# This fails on python 3 when keys are unorderable\u001b[39;00m\n\u001b[1;32m    139\u001b[0m         \u001b[39m# but we keep it in a try as it's faster.\u001b[39;00m\n\u001b[0;32m--> 140\u001b[0m         Pickler\u001b[39m.\u001b[39m_batch_setitems(\u001b[39mself\u001b[39m, \u001b[39miter\u001b[39m(\u001b[39msorted\u001b[39m(items)))\n\u001b[1;32m    141\u001b[0m     \u001b[39mexcept\u001b[39;00m \u001b[39mTypeError\u001b[39;00m:\n\u001b[1;32m    142\u001b[0m         \u001b[39m# If keys are unorderable, sorting them using their hash. This is\u001b[39;00m\n\u001b[1;32m    143\u001b[0m         \u001b[39m# slower but works in any case.\u001b[39;00m\n\u001b[1;32m    144\u001b[0m         Pickler\u001b[39m.\u001b[39m_batch_setitems(\u001b[39mself\u001b[39m, \u001b[39miter\u001b[39m(\u001b[39msorted\u001b[39m((\u001b[39mhash\u001b[39m(k), v)\n\u001b[1;32m    145\u001b[0m                                                   \u001b[39mfor\u001b[39;00m k, v \u001b[39min\u001b[39;00m items)))\n",
      "File \u001b[0;32m~/opt/anaconda3/envs/capstone/lib/python3.11/pickle.py:998\u001b[0m, in \u001b[0;36m_Pickler._batch_setitems\u001b[0;34m(self, items)\u001b[0m\n\u001b[1;32m    996\u001b[0m     \u001b[39mfor\u001b[39;00m k, v \u001b[39min\u001b[39;00m tmp:\n\u001b[1;32m    997\u001b[0m         save(k)\n\u001b[0;32m--> 998\u001b[0m         save(v)\n\u001b[1;32m    999\u001b[0m     write(SETITEMS)\n\u001b[1;32m   1000\u001b[0m \u001b[39melif\u001b[39;00m n:\n",
      "File \u001b[0;32m~/opt/anaconda3/envs/capstone/lib/python3.11/site-packages/joblib/hashing.py:241\u001b[0m, in \u001b[0;36mNumpyHasher.save\u001b[0;34m(self, obj)\u001b[0m\n\u001b[1;32m    239\u001b[0m     \u001b[39mself\u001b[39m\u001b[39m.\u001b[39m_hash\u001b[39m.\u001b[39mupdate(pickle\u001b[39m.\u001b[39mdumps(obj))\n\u001b[1;32m    240\u001b[0m     \u001b[39mreturn\u001b[39;00m\n\u001b[0;32m--> 241\u001b[0m Hasher\u001b[39m.\u001b[39msave(\u001b[39mself\u001b[39m, obj)\n",
      "File \u001b[0;32m~/opt/anaconda3/envs/capstone/lib/python3.11/site-packages/joblib/hashing.py:89\u001b[0m, in \u001b[0;36mHasher.save\u001b[0;34m(self, obj)\u001b[0m\n\u001b[1;32m     87\u001b[0m         \u001b[39mcls\u001b[39m \u001b[39m=\u001b[39m obj\u001b[39m.\u001b[39m\u001b[39m__self__\u001b[39m\u001b[39m.\u001b[39m\u001b[39m__class__\u001b[39m\n\u001b[1;32m     88\u001b[0m         obj \u001b[39m=\u001b[39m _MyHash(func_name, inst, \u001b[39mcls\u001b[39m)\n\u001b[0;32m---> 89\u001b[0m Pickler\u001b[39m.\u001b[39msave(\u001b[39mself\u001b[39m, obj)\n",
      "File \u001b[0;32m~/opt/anaconda3/envs/capstone/lib/python3.11/pickle.py:603\u001b[0m, in \u001b[0;36m_Pickler.save\u001b[0;34m(self, obj, save_persistent_id)\u001b[0m\n\u001b[1;32m    599\u001b[0m     \u001b[39mraise\u001b[39;00m PicklingError(\u001b[39m\"\u001b[39m\u001b[39mTuple returned by \u001b[39m\u001b[39m%s\u001b[39;00m\u001b[39m must have \u001b[39m\u001b[39m\"\u001b[39m\n\u001b[1;32m    600\u001b[0m                         \u001b[39m\"\u001b[39m\u001b[39mtwo to six elements\u001b[39m\u001b[39m\"\u001b[39m \u001b[39m%\u001b[39m reduce)\n\u001b[1;32m    602\u001b[0m \u001b[39m# Save the reduce() output and finally memoize the object\u001b[39;00m\n\u001b[0;32m--> 603\u001b[0m \u001b[39mself\u001b[39m\u001b[39m.\u001b[39msave_reduce(obj\u001b[39m=\u001b[39mobj, \u001b[39m*\u001b[39mrv)\n",
      "File \u001b[0;32m~/opt/anaconda3/envs/capstone/lib/python3.11/pickle.py:717\u001b[0m, in \u001b[0;36m_Pickler.save_reduce\u001b[0;34m(self, func, args, state, listitems, dictitems, state_setter, obj)\u001b[0m\n\u001b[1;32m    715\u001b[0m \u001b[39mif\u001b[39;00m state \u001b[39mis\u001b[39;00m \u001b[39mnot\u001b[39;00m \u001b[39mNone\u001b[39;00m:\n\u001b[1;32m    716\u001b[0m     \u001b[39mif\u001b[39;00m state_setter \u001b[39mis\u001b[39;00m \u001b[39mNone\u001b[39;00m:\n\u001b[0;32m--> 717\u001b[0m         save(state)\n\u001b[1;32m    718\u001b[0m         write(BUILD)\n\u001b[1;32m    719\u001b[0m     \u001b[39melse\u001b[39;00m:\n\u001b[1;32m    720\u001b[0m         \u001b[39m# If a state_setter is specified, call it instead of load_build\u001b[39;00m\n\u001b[1;32m    721\u001b[0m         \u001b[39m# to update obj's with its previous state.\u001b[39;00m\n\u001b[1;32m    722\u001b[0m         \u001b[39m# First, push state_setter and its tuple of expected arguments\u001b[39;00m\n\u001b[1;32m    723\u001b[0m         \u001b[39m# (obj, state) onto the stack.\u001b[39;00m\n",
      "File \u001b[0;32m~/opt/anaconda3/envs/capstone/lib/python3.11/site-packages/joblib/hashing.py:241\u001b[0m, in \u001b[0;36mNumpyHasher.save\u001b[0;34m(self, obj)\u001b[0m\n\u001b[1;32m    239\u001b[0m     \u001b[39mself\u001b[39m\u001b[39m.\u001b[39m_hash\u001b[39m.\u001b[39mupdate(pickle\u001b[39m.\u001b[39mdumps(obj))\n\u001b[1;32m    240\u001b[0m     \u001b[39mreturn\u001b[39;00m\n\u001b[0;32m--> 241\u001b[0m Hasher\u001b[39m.\u001b[39msave(\u001b[39mself\u001b[39m, obj)\n",
      "File \u001b[0;32m~/opt/anaconda3/envs/capstone/lib/python3.11/site-packages/joblib/hashing.py:89\u001b[0m, in \u001b[0;36mHasher.save\u001b[0;34m(self, obj)\u001b[0m\n\u001b[1;32m     87\u001b[0m         \u001b[39mcls\u001b[39m \u001b[39m=\u001b[39m obj\u001b[39m.\u001b[39m\u001b[39m__self__\u001b[39m\u001b[39m.\u001b[39m\u001b[39m__class__\u001b[39m\n\u001b[1;32m     88\u001b[0m         obj \u001b[39m=\u001b[39m _MyHash(func_name, inst, \u001b[39mcls\u001b[39m)\n\u001b[0;32m---> 89\u001b[0m Pickler\u001b[39m.\u001b[39msave(\u001b[39mself\u001b[39m, obj)\n",
      "File \u001b[0;32m~/opt/anaconda3/envs/capstone/lib/python3.11/pickle.py:560\u001b[0m, in \u001b[0;36m_Pickler.save\u001b[0;34m(self, obj, save_persistent_id)\u001b[0m\n\u001b[1;32m    558\u001b[0m f \u001b[39m=\u001b[39m \u001b[39mself\u001b[39m\u001b[39m.\u001b[39mdispatch\u001b[39m.\u001b[39mget(t)\n\u001b[1;32m    559\u001b[0m \u001b[39mif\u001b[39;00m f \u001b[39mis\u001b[39;00m \u001b[39mnot\u001b[39;00m \u001b[39mNone\u001b[39;00m:\n\u001b[0;32m--> 560\u001b[0m     f(\u001b[39mself\u001b[39m, obj)  \u001b[39m# Call unbound method with explicit self\u001b[39;00m\n\u001b[1;32m    561\u001b[0m     \u001b[39mreturn\u001b[39;00m\n\u001b[1;32m    563\u001b[0m \u001b[39m# Check private dispatch table if any, or else\u001b[39;00m\n\u001b[1;32m    564\u001b[0m \u001b[39m# copyreg.dispatch_table\u001b[39;00m\n",
      "File \u001b[0;32m~/opt/anaconda3/envs/capstone/lib/python3.11/pickle.py:972\u001b[0m, in \u001b[0;36m_Pickler.save_dict\u001b[0;34m(self, obj)\u001b[0m\n\u001b[1;32m    969\u001b[0m     \u001b[39mself\u001b[39m\u001b[39m.\u001b[39mwrite(MARK \u001b[39m+\u001b[39m DICT)\n\u001b[1;32m    971\u001b[0m \u001b[39mself\u001b[39m\u001b[39m.\u001b[39mmemoize(obj)\n\u001b[0;32m--> 972\u001b[0m \u001b[39mself\u001b[39m\u001b[39m.\u001b[39m_batch_setitems(obj\u001b[39m.\u001b[39mitems())\n",
      "File \u001b[0;32m~/opt/anaconda3/envs/capstone/lib/python3.11/site-packages/joblib/hashing.py:140\u001b[0m, in \u001b[0;36mHasher._batch_setitems\u001b[0;34m(self, items)\u001b[0m\n\u001b[1;32m    133\u001b[0m \u001b[39mdef\u001b[39;00m \u001b[39m_batch_setitems\u001b[39m(\u001b[39mself\u001b[39m, items):\n\u001b[1;32m    134\u001b[0m     \u001b[39m# forces order of keys in dict to ensure consistent hash.\u001b[39;00m\n\u001b[1;32m    135\u001b[0m     \u001b[39mtry\u001b[39;00m:\n\u001b[1;32m    136\u001b[0m         \u001b[39m# Trying first to compare dict assuming the type of keys is\u001b[39;00m\n\u001b[1;32m    137\u001b[0m         \u001b[39m# consistent and orderable.\u001b[39;00m\n\u001b[1;32m    138\u001b[0m         \u001b[39m# This fails on python 3 when keys are unorderable\u001b[39;00m\n\u001b[1;32m    139\u001b[0m         \u001b[39m# but we keep it in a try as it's faster.\u001b[39;00m\n\u001b[0;32m--> 140\u001b[0m         Pickler\u001b[39m.\u001b[39m_batch_setitems(\u001b[39mself\u001b[39m, \u001b[39miter\u001b[39m(\u001b[39msorted\u001b[39m(items)))\n\u001b[1;32m    141\u001b[0m     \u001b[39mexcept\u001b[39;00m \u001b[39mTypeError\u001b[39;00m:\n\u001b[1;32m    142\u001b[0m         \u001b[39m# If keys are unorderable, sorting them using their hash. This is\u001b[39;00m\n\u001b[1;32m    143\u001b[0m         \u001b[39m# slower but works in any case.\u001b[39;00m\n\u001b[1;32m    144\u001b[0m         Pickler\u001b[39m.\u001b[39m_batch_setitems(\u001b[39mself\u001b[39m, \u001b[39miter\u001b[39m(\u001b[39msorted\u001b[39m((\u001b[39mhash\u001b[39m(k), v)\n\u001b[1;32m    145\u001b[0m                                                   \u001b[39mfor\u001b[39;00m k, v \u001b[39min\u001b[39;00m items)))\n",
      "File \u001b[0;32m~/opt/anaconda3/envs/capstone/lib/python3.11/pickle.py:998\u001b[0m, in \u001b[0;36m_Pickler._batch_setitems\u001b[0;34m(self, items)\u001b[0m\n\u001b[1;32m    996\u001b[0m     \u001b[39mfor\u001b[39;00m k, v \u001b[39min\u001b[39;00m tmp:\n\u001b[1;32m    997\u001b[0m         save(k)\n\u001b[0;32m--> 998\u001b[0m         save(v)\n\u001b[1;32m    999\u001b[0m     write(SETITEMS)\n\u001b[1;32m   1000\u001b[0m \u001b[39melif\u001b[39;00m n:\n",
      "File \u001b[0;32m~/opt/anaconda3/envs/capstone/lib/python3.11/site-packages/joblib/hashing.py:241\u001b[0m, in \u001b[0;36mNumpyHasher.save\u001b[0;34m(self, obj)\u001b[0m\n\u001b[1;32m    239\u001b[0m     \u001b[39mself\u001b[39m\u001b[39m.\u001b[39m_hash\u001b[39m.\u001b[39mupdate(pickle\u001b[39m.\u001b[39mdumps(obj))\n\u001b[1;32m    240\u001b[0m     \u001b[39mreturn\u001b[39;00m\n\u001b[0;32m--> 241\u001b[0m Hasher\u001b[39m.\u001b[39msave(\u001b[39mself\u001b[39m, obj)\n",
      "File \u001b[0;32m~/opt/anaconda3/envs/capstone/lib/python3.11/site-packages/joblib/hashing.py:89\u001b[0m, in \u001b[0;36mHasher.save\u001b[0;34m(self, obj)\u001b[0m\n\u001b[1;32m     87\u001b[0m         \u001b[39mcls\u001b[39m \u001b[39m=\u001b[39m obj\u001b[39m.\u001b[39m\u001b[39m__self__\u001b[39m\u001b[39m.\u001b[39m\u001b[39m__class__\u001b[39m\n\u001b[1;32m     88\u001b[0m         obj \u001b[39m=\u001b[39m _MyHash(func_name, inst, \u001b[39mcls\u001b[39m)\n\u001b[0;32m---> 89\u001b[0m Pickler\u001b[39m.\u001b[39msave(\u001b[39mself\u001b[39m, obj)\n",
      "File \u001b[0;32m~/opt/anaconda3/envs/capstone/lib/python3.11/pickle.py:603\u001b[0m, in \u001b[0;36m_Pickler.save\u001b[0;34m(self, obj, save_persistent_id)\u001b[0m\n\u001b[1;32m    599\u001b[0m     \u001b[39mraise\u001b[39;00m PicklingError(\u001b[39m\"\u001b[39m\u001b[39mTuple returned by \u001b[39m\u001b[39m%s\u001b[39;00m\u001b[39m must have \u001b[39m\u001b[39m\"\u001b[39m\n\u001b[1;32m    600\u001b[0m                         \u001b[39m\"\u001b[39m\u001b[39mtwo to six elements\u001b[39m\u001b[39m\"\u001b[39m \u001b[39m%\u001b[39m reduce)\n\u001b[1;32m    602\u001b[0m \u001b[39m# Save the reduce() output and finally memoize the object\u001b[39;00m\n\u001b[0;32m--> 603\u001b[0m \u001b[39mself\u001b[39m\u001b[39m.\u001b[39msave_reduce(obj\u001b[39m=\u001b[39mobj, \u001b[39m*\u001b[39mrv)\n",
      "File \u001b[0;32m~/opt/anaconda3/envs/capstone/lib/python3.11/pickle.py:692\u001b[0m, in \u001b[0;36m_Pickler.save_reduce\u001b[0;34m(self, func, args, state, listitems, dictitems, state_setter, obj)\u001b[0m\n\u001b[1;32m    690\u001b[0m \u001b[39melse\u001b[39;00m:\n\u001b[1;32m    691\u001b[0m     save(func)\n\u001b[0;32m--> 692\u001b[0m     save(args)\n\u001b[1;32m    693\u001b[0m     write(REDUCE)\n\u001b[1;32m    695\u001b[0m \u001b[39mif\u001b[39;00m obj \u001b[39mis\u001b[39;00m \u001b[39mnot\u001b[39;00m \u001b[39mNone\u001b[39;00m:\n\u001b[1;32m    696\u001b[0m     \u001b[39m# If the object is already in the memo, this means it is\u001b[39;00m\n\u001b[1;32m    697\u001b[0m     \u001b[39m# recursive. In this case, throw away everything we put on the\u001b[39;00m\n\u001b[1;32m    698\u001b[0m     \u001b[39m# stack, and fetch the object back from the memo.\u001b[39;00m\n",
      "File \u001b[0;32m~/opt/anaconda3/envs/capstone/lib/python3.11/site-packages/joblib/hashing.py:241\u001b[0m, in \u001b[0;36mNumpyHasher.save\u001b[0;34m(self, obj)\u001b[0m\n\u001b[1;32m    239\u001b[0m     \u001b[39mself\u001b[39m\u001b[39m.\u001b[39m_hash\u001b[39m.\u001b[39mupdate(pickle\u001b[39m.\u001b[39mdumps(obj))\n\u001b[1;32m    240\u001b[0m     \u001b[39mreturn\u001b[39;00m\n\u001b[0;32m--> 241\u001b[0m Hasher\u001b[39m.\u001b[39msave(\u001b[39mself\u001b[39m, obj)\n",
      "File \u001b[0;32m~/opt/anaconda3/envs/capstone/lib/python3.11/site-packages/joblib/hashing.py:89\u001b[0m, in \u001b[0;36mHasher.save\u001b[0;34m(self, obj)\u001b[0m\n\u001b[1;32m     87\u001b[0m         \u001b[39mcls\u001b[39m \u001b[39m=\u001b[39m obj\u001b[39m.\u001b[39m\u001b[39m__self__\u001b[39m\u001b[39m.\u001b[39m\u001b[39m__class__\u001b[39m\n\u001b[1;32m     88\u001b[0m         obj \u001b[39m=\u001b[39m _MyHash(func_name, inst, \u001b[39mcls\u001b[39m)\n\u001b[0;32m---> 89\u001b[0m Pickler\u001b[39m.\u001b[39msave(\u001b[39mself\u001b[39m, obj)\n",
      "File \u001b[0;32m~/opt/anaconda3/envs/capstone/lib/python3.11/pickle.py:560\u001b[0m, in \u001b[0;36m_Pickler.save\u001b[0;34m(self, obj, save_persistent_id)\u001b[0m\n\u001b[1;32m    558\u001b[0m f \u001b[39m=\u001b[39m \u001b[39mself\u001b[39m\u001b[39m.\u001b[39mdispatch\u001b[39m.\u001b[39mget(t)\n\u001b[1;32m    559\u001b[0m \u001b[39mif\u001b[39;00m f \u001b[39mis\u001b[39;00m \u001b[39mnot\u001b[39;00m \u001b[39mNone\u001b[39;00m:\n\u001b[0;32m--> 560\u001b[0m     f(\u001b[39mself\u001b[39m, obj)  \u001b[39m# Call unbound method with explicit self\u001b[39;00m\n\u001b[1;32m    561\u001b[0m     \u001b[39mreturn\u001b[39;00m\n\u001b[1;32m    563\u001b[0m \u001b[39m# Check private dispatch table if any, or else\u001b[39;00m\n\u001b[1;32m    564\u001b[0m \u001b[39m# copyreg.dispatch_table\u001b[39;00m\n",
      "File \u001b[0;32m~/opt/anaconda3/envs/capstone/lib/python3.11/pickle.py:887\u001b[0m, in \u001b[0;36m_Pickler.save_tuple\u001b[0;34m(self, obj)\u001b[0m\n\u001b[1;32m    885\u001b[0m \u001b[39mif\u001b[39;00m n \u001b[39m<\u001b[39m\u001b[39m=\u001b[39m \u001b[39m3\u001b[39m \u001b[39mand\u001b[39;00m \u001b[39mself\u001b[39m\u001b[39m.\u001b[39mproto \u001b[39m>\u001b[39m\u001b[39m=\u001b[39m \u001b[39m2\u001b[39m:\n\u001b[1;32m    886\u001b[0m     \u001b[39mfor\u001b[39;00m element \u001b[39min\u001b[39;00m obj:\n\u001b[0;32m--> 887\u001b[0m         save(element)\n\u001b[1;32m    888\u001b[0m     \u001b[39m# Subtle.  Same as in the big comment below.\u001b[39;00m\n\u001b[1;32m    889\u001b[0m     \u001b[39mif\u001b[39;00m \u001b[39mid\u001b[39m(obj) \u001b[39min\u001b[39;00m memo:\n",
      "File \u001b[0;32m~/opt/anaconda3/envs/capstone/lib/python3.11/site-packages/joblib/hashing.py:241\u001b[0m, in \u001b[0;36mNumpyHasher.save\u001b[0;34m(self, obj)\u001b[0m\n\u001b[1;32m    239\u001b[0m     \u001b[39mself\u001b[39m\u001b[39m.\u001b[39m_hash\u001b[39m.\u001b[39mupdate(pickle\u001b[39m.\u001b[39mdumps(obj))\n\u001b[1;32m    240\u001b[0m     \u001b[39mreturn\u001b[39;00m\n\u001b[0;32m--> 241\u001b[0m Hasher\u001b[39m.\u001b[39msave(\u001b[39mself\u001b[39m, obj)\n",
      "File \u001b[0;32m~/opt/anaconda3/envs/capstone/lib/python3.11/site-packages/joblib/hashing.py:89\u001b[0m, in \u001b[0;36mHasher.save\u001b[0;34m(self, obj)\u001b[0m\n\u001b[1;32m     87\u001b[0m         \u001b[39mcls\u001b[39m \u001b[39m=\u001b[39m obj\u001b[39m.\u001b[39m\u001b[39m__self__\u001b[39m\u001b[39m.\u001b[39m\u001b[39m__class__\u001b[39m\n\u001b[1;32m     88\u001b[0m         obj \u001b[39m=\u001b[39m _MyHash(func_name, inst, \u001b[39mcls\u001b[39m)\n\u001b[0;32m---> 89\u001b[0m Pickler\u001b[39m.\u001b[39msave(\u001b[39mself\u001b[39m, obj)\n",
      "File \u001b[0;32m~/opt/anaconda3/envs/capstone/lib/python3.11/pickle.py:560\u001b[0m, in \u001b[0;36m_Pickler.save\u001b[0;34m(self, obj, save_persistent_id)\u001b[0m\n\u001b[1;32m    558\u001b[0m f \u001b[39m=\u001b[39m \u001b[39mself\u001b[39m\u001b[39m.\u001b[39mdispatch\u001b[39m.\u001b[39mget(t)\n\u001b[1;32m    559\u001b[0m \u001b[39mif\u001b[39;00m f \u001b[39mis\u001b[39;00m \u001b[39mnot\u001b[39;00m \u001b[39mNone\u001b[39;00m:\n\u001b[0;32m--> 560\u001b[0m     f(\u001b[39mself\u001b[39m, obj)  \u001b[39m# Call unbound method with explicit self\u001b[39;00m\n\u001b[1;32m    561\u001b[0m     \u001b[39mreturn\u001b[39;00m\n\u001b[1;32m    563\u001b[0m \u001b[39m# Check private dispatch table if any, or else\u001b[39;00m\n\u001b[1;32m    564\u001b[0m \u001b[39m# copyreg.dispatch_table\u001b[39;00m\n",
      "File \u001b[0;32m~/opt/anaconda3/envs/capstone/lib/python3.11/pickle.py:887\u001b[0m, in \u001b[0;36m_Pickler.save_tuple\u001b[0;34m(self, obj)\u001b[0m\n\u001b[1;32m    885\u001b[0m \u001b[39mif\u001b[39;00m n \u001b[39m<\u001b[39m\u001b[39m=\u001b[39m \u001b[39m3\u001b[39m \u001b[39mand\u001b[39;00m \u001b[39mself\u001b[39m\u001b[39m.\u001b[39mproto \u001b[39m>\u001b[39m\u001b[39m=\u001b[39m \u001b[39m2\u001b[39m:\n\u001b[1;32m    886\u001b[0m     \u001b[39mfor\u001b[39;00m element \u001b[39min\u001b[39;00m obj:\n\u001b[0;32m--> 887\u001b[0m         save(element)\n\u001b[1;32m    888\u001b[0m     \u001b[39m# Subtle.  Same as in the big comment below.\u001b[39;00m\n\u001b[1;32m    889\u001b[0m     \u001b[39mif\u001b[39;00m \u001b[39mid\u001b[39m(obj) \u001b[39min\u001b[39;00m memo:\n",
      "File \u001b[0;32m~/opt/anaconda3/envs/capstone/lib/python3.11/site-packages/joblib/hashing.py:241\u001b[0m, in \u001b[0;36mNumpyHasher.save\u001b[0;34m(self, obj)\u001b[0m\n\u001b[1;32m    239\u001b[0m     \u001b[39mself\u001b[39m\u001b[39m.\u001b[39m_hash\u001b[39m.\u001b[39mupdate(pickle\u001b[39m.\u001b[39mdumps(obj))\n\u001b[1;32m    240\u001b[0m     \u001b[39mreturn\u001b[39;00m\n\u001b[0;32m--> 241\u001b[0m Hasher\u001b[39m.\u001b[39msave(\u001b[39mself\u001b[39m, obj)\n",
      "File \u001b[0;32m~/opt/anaconda3/envs/capstone/lib/python3.11/site-packages/joblib/hashing.py:89\u001b[0m, in \u001b[0;36mHasher.save\u001b[0;34m(self, obj)\u001b[0m\n\u001b[1;32m     87\u001b[0m         \u001b[39mcls\u001b[39m \u001b[39m=\u001b[39m obj\u001b[39m.\u001b[39m\u001b[39m__self__\u001b[39m\u001b[39m.\u001b[39m\u001b[39m__class__\u001b[39m\n\u001b[1;32m     88\u001b[0m         obj \u001b[39m=\u001b[39m _MyHash(func_name, inst, \u001b[39mcls\u001b[39m)\n\u001b[0;32m---> 89\u001b[0m Pickler\u001b[39m.\u001b[39msave(\u001b[39mself\u001b[39m, obj)\n",
      "File \u001b[0;32m~/opt/anaconda3/envs/capstone/lib/python3.11/pickle.py:603\u001b[0m, in \u001b[0;36m_Pickler.save\u001b[0;34m(self, obj, save_persistent_id)\u001b[0m\n\u001b[1;32m    599\u001b[0m     \u001b[39mraise\u001b[39;00m PicklingError(\u001b[39m\"\u001b[39m\u001b[39mTuple returned by \u001b[39m\u001b[39m%s\u001b[39;00m\u001b[39m must have \u001b[39m\u001b[39m\"\u001b[39m\n\u001b[1;32m    600\u001b[0m                         \u001b[39m\"\u001b[39m\u001b[39mtwo to six elements\u001b[39m\u001b[39m\"\u001b[39m \u001b[39m%\u001b[39m reduce)\n\u001b[1;32m    602\u001b[0m \u001b[39m# Save the reduce() output and finally memoize the object\u001b[39;00m\n\u001b[0;32m--> 603\u001b[0m \u001b[39mself\u001b[39m\u001b[39m.\u001b[39msave_reduce(obj\u001b[39m=\u001b[39mobj, \u001b[39m*\u001b[39mrv)\n",
      "File \u001b[0;32m~/opt/anaconda3/envs/capstone/lib/python3.11/pickle.py:692\u001b[0m, in \u001b[0;36m_Pickler.save_reduce\u001b[0;34m(self, func, args, state, listitems, dictitems, state_setter, obj)\u001b[0m\n\u001b[1;32m    690\u001b[0m \u001b[39melse\u001b[39;00m:\n\u001b[1;32m    691\u001b[0m     save(func)\n\u001b[0;32m--> 692\u001b[0m     save(args)\n\u001b[1;32m    693\u001b[0m     write(REDUCE)\n\u001b[1;32m    695\u001b[0m \u001b[39mif\u001b[39;00m obj \u001b[39mis\u001b[39;00m \u001b[39mnot\u001b[39;00m \u001b[39mNone\u001b[39;00m:\n\u001b[1;32m    696\u001b[0m     \u001b[39m# If the object is already in the memo, this means it is\u001b[39;00m\n\u001b[1;32m    697\u001b[0m     \u001b[39m# recursive. In this case, throw away everything we put on the\u001b[39;00m\n\u001b[1;32m    698\u001b[0m     \u001b[39m# stack, and fetch the object back from the memo.\u001b[39;00m\n",
      "File \u001b[0;32m~/opt/anaconda3/envs/capstone/lib/python3.11/site-packages/joblib/hashing.py:241\u001b[0m, in \u001b[0;36mNumpyHasher.save\u001b[0;34m(self, obj)\u001b[0m\n\u001b[1;32m    239\u001b[0m     \u001b[39mself\u001b[39m\u001b[39m.\u001b[39m_hash\u001b[39m.\u001b[39mupdate(pickle\u001b[39m.\u001b[39mdumps(obj))\n\u001b[1;32m    240\u001b[0m     \u001b[39mreturn\u001b[39;00m\n\u001b[0;32m--> 241\u001b[0m Hasher\u001b[39m.\u001b[39msave(\u001b[39mself\u001b[39m, obj)\n",
      "File \u001b[0;32m~/opt/anaconda3/envs/capstone/lib/python3.11/site-packages/joblib/hashing.py:89\u001b[0m, in \u001b[0;36mHasher.save\u001b[0;34m(self, obj)\u001b[0m\n\u001b[1;32m     87\u001b[0m         \u001b[39mcls\u001b[39m \u001b[39m=\u001b[39m obj\u001b[39m.\u001b[39m\u001b[39m__self__\u001b[39m\u001b[39m.\u001b[39m\u001b[39m__class__\u001b[39m\n\u001b[1;32m     88\u001b[0m         obj \u001b[39m=\u001b[39m _MyHash(func_name, inst, \u001b[39mcls\u001b[39m)\n\u001b[0;32m---> 89\u001b[0m Pickler\u001b[39m.\u001b[39msave(\u001b[39mself\u001b[39m, obj)\n",
      "File \u001b[0;32m~/opt/anaconda3/envs/capstone/lib/python3.11/pickle.py:560\u001b[0m, in \u001b[0;36m_Pickler.save\u001b[0;34m(self, obj, save_persistent_id)\u001b[0m\n\u001b[1;32m    558\u001b[0m f \u001b[39m=\u001b[39m \u001b[39mself\u001b[39m\u001b[39m.\u001b[39mdispatch\u001b[39m.\u001b[39mget(t)\n\u001b[1;32m    559\u001b[0m \u001b[39mif\u001b[39;00m f \u001b[39mis\u001b[39;00m \u001b[39mnot\u001b[39;00m \u001b[39mNone\u001b[39;00m:\n\u001b[0;32m--> 560\u001b[0m     f(\u001b[39mself\u001b[39m, obj)  \u001b[39m# Call unbound method with explicit self\u001b[39;00m\n\u001b[1;32m    561\u001b[0m     \u001b[39mreturn\u001b[39;00m\n\u001b[1;32m    563\u001b[0m \u001b[39m# Check private dispatch table if any, or else\u001b[39;00m\n\u001b[1;32m    564\u001b[0m \u001b[39m# copyreg.dispatch_table\u001b[39;00m\n",
      "File \u001b[0;32m~/opt/anaconda3/envs/capstone/lib/python3.11/pickle.py:887\u001b[0m, in \u001b[0;36m_Pickler.save_tuple\u001b[0;34m(self, obj)\u001b[0m\n\u001b[1;32m    885\u001b[0m \u001b[39mif\u001b[39;00m n \u001b[39m<\u001b[39m\u001b[39m=\u001b[39m \u001b[39m3\u001b[39m \u001b[39mand\u001b[39;00m \u001b[39mself\u001b[39m\u001b[39m.\u001b[39mproto \u001b[39m>\u001b[39m\u001b[39m=\u001b[39m \u001b[39m2\u001b[39m:\n\u001b[1;32m    886\u001b[0m     \u001b[39mfor\u001b[39;00m element \u001b[39min\u001b[39;00m obj:\n\u001b[0;32m--> 887\u001b[0m         save(element)\n\u001b[1;32m    888\u001b[0m     \u001b[39m# Subtle.  Same as in the big comment below.\u001b[39;00m\n\u001b[1;32m    889\u001b[0m     \u001b[39mif\u001b[39;00m \u001b[39mid\u001b[39m(obj) \u001b[39min\u001b[39;00m memo:\n",
      "File \u001b[0;32m~/opt/anaconda3/envs/capstone/lib/python3.11/site-packages/joblib/hashing.py:241\u001b[0m, in \u001b[0;36mNumpyHasher.save\u001b[0;34m(self, obj)\u001b[0m\n\u001b[1;32m    239\u001b[0m     \u001b[39mself\u001b[39m\u001b[39m.\u001b[39m_hash\u001b[39m.\u001b[39mupdate(pickle\u001b[39m.\u001b[39mdumps(obj))\n\u001b[1;32m    240\u001b[0m     \u001b[39mreturn\u001b[39;00m\n\u001b[0;32m--> 241\u001b[0m Hasher\u001b[39m.\u001b[39msave(\u001b[39mself\u001b[39m, obj)\n",
      "File \u001b[0;32m~/opt/anaconda3/envs/capstone/lib/python3.11/site-packages/joblib/hashing.py:89\u001b[0m, in \u001b[0;36mHasher.save\u001b[0;34m(self, obj)\u001b[0m\n\u001b[1;32m     87\u001b[0m         \u001b[39mcls\u001b[39m \u001b[39m=\u001b[39m obj\u001b[39m.\u001b[39m\u001b[39m__self__\u001b[39m\u001b[39m.\u001b[39m\u001b[39m__class__\u001b[39m\n\u001b[1;32m     88\u001b[0m         obj \u001b[39m=\u001b[39m _MyHash(func_name, inst, \u001b[39mcls\u001b[39m)\n\u001b[0;32m---> 89\u001b[0m Pickler\u001b[39m.\u001b[39msave(\u001b[39mself\u001b[39m, obj)\n",
      "File \u001b[0;32m~/opt/anaconda3/envs/capstone/lib/python3.11/pickle.py:603\u001b[0m, in \u001b[0;36m_Pickler.save\u001b[0;34m(self, obj, save_persistent_id)\u001b[0m\n\u001b[1;32m    599\u001b[0m     \u001b[39mraise\u001b[39;00m PicklingError(\u001b[39m\"\u001b[39m\u001b[39mTuple returned by \u001b[39m\u001b[39m%s\u001b[39;00m\u001b[39m must have \u001b[39m\u001b[39m\"\u001b[39m\n\u001b[1;32m    600\u001b[0m                         \u001b[39m\"\u001b[39m\u001b[39mtwo to six elements\u001b[39m\u001b[39m\"\u001b[39m \u001b[39m%\u001b[39m reduce)\n\u001b[1;32m    602\u001b[0m \u001b[39m# Save the reduce() output and finally memoize the object\u001b[39;00m\n\u001b[0;32m--> 603\u001b[0m \u001b[39mself\u001b[39m\u001b[39m.\u001b[39msave_reduce(obj\u001b[39m=\u001b[39mobj, \u001b[39m*\u001b[39mrv)\n",
      "File \u001b[0;32m~/opt/anaconda3/envs/capstone/lib/python3.11/pickle.py:717\u001b[0m, in \u001b[0;36m_Pickler.save_reduce\u001b[0;34m(self, func, args, state, listitems, dictitems, state_setter, obj)\u001b[0m\n\u001b[1;32m    715\u001b[0m \u001b[39mif\u001b[39;00m state \u001b[39mis\u001b[39;00m \u001b[39mnot\u001b[39;00m \u001b[39mNone\u001b[39;00m:\n\u001b[1;32m    716\u001b[0m     \u001b[39mif\u001b[39;00m state_setter \u001b[39mis\u001b[39;00m \u001b[39mNone\u001b[39;00m:\n\u001b[0;32m--> 717\u001b[0m         save(state)\n\u001b[1;32m    718\u001b[0m         write(BUILD)\n\u001b[1;32m    719\u001b[0m     \u001b[39melse\u001b[39;00m:\n\u001b[1;32m    720\u001b[0m         \u001b[39m# If a state_setter is specified, call it instead of load_build\u001b[39;00m\n\u001b[1;32m    721\u001b[0m         \u001b[39m# to update obj's with its previous state.\u001b[39;00m\n\u001b[1;32m    722\u001b[0m         \u001b[39m# First, push state_setter and its tuple of expected arguments\u001b[39;00m\n\u001b[1;32m    723\u001b[0m         \u001b[39m# (obj, state) onto the stack.\u001b[39;00m\n",
      "File \u001b[0;32m~/opt/anaconda3/envs/capstone/lib/python3.11/site-packages/joblib/hashing.py:241\u001b[0m, in \u001b[0;36mNumpyHasher.save\u001b[0;34m(self, obj)\u001b[0m\n\u001b[1;32m    239\u001b[0m     \u001b[39mself\u001b[39m\u001b[39m.\u001b[39m_hash\u001b[39m.\u001b[39mupdate(pickle\u001b[39m.\u001b[39mdumps(obj))\n\u001b[1;32m    240\u001b[0m     \u001b[39mreturn\u001b[39;00m\n\u001b[0;32m--> 241\u001b[0m Hasher\u001b[39m.\u001b[39msave(\u001b[39mself\u001b[39m, obj)\n",
      "File \u001b[0;32m~/opt/anaconda3/envs/capstone/lib/python3.11/site-packages/joblib/hashing.py:89\u001b[0m, in \u001b[0;36mHasher.save\u001b[0;34m(self, obj)\u001b[0m\n\u001b[1;32m     87\u001b[0m         \u001b[39mcls\u001b[39m \u001b[39m=\u001b[39m obj\u001b[39m.\u001b[39m\u001b[39m__self__\u001b[39m\u001b[39m.\u001b[39m\u001b[39m__class__\u001b[39m\n\u001b[1;32m     88\u001b[0m         obj \u001b[39m=\u001b[39m _MyHash(func_name, inst, \u001b[39mcls\u001b[39m)\n\u001b[0;32m---> 89\u001b[0m Pickler\u001b[39m.\u001b[39msave(\u001b[39mself\u001b[39m, obj)\n",
      "File \u001b[0;32m~/opt/anaconda3/envs/capstone/lib/python3.11/pickle.py:560\u001b[0m, in \u001b[0;36m_Pickler.save\u001b[0;34m(self, obj, save_persistent_id)\u001b[0m\n\u001b[1;32m    558\u001b[0m f \u001b[39m=\u001b[39m \u001b[39mself\u001b[39m\u001b[39m.\u001b[39mdispatch\u001b[39m.\u001b[39mget(t)\n\u001b[1;32m    559\u001b[0m \u001b[39mif\u001b[39;00m f \u001b[39mis\u001b[39;00m \u001b[39mnot\u001b[39;00m \u001b[39mNone\u001b[39;00m:\n\u001b[0;32m--> 560\u001b[0m     f(\u001b[39mself\u001b[39m, obj)  \u001b[39m# Call unbound method with explicit self\u001b[39;00m\n\u001b[1;32m    561\u001b[0m     \u001b[39mreturn\u001b[39;00m\n\u001b[1;32m    563\u001b[0m \u001b[39m# Check private dispatch table if any, or else\u001b[39;00m\n\u001b[1;32m    564\u001b[0m \u001b[39m# copyreg.dispatch_table\u001b[39;00m\n",
      "File \u001b[0;32m~/opt/anaconda3/envs/capstone/lib/python3.11/pickle.py:902\u001b[0m, in \u001b[0;36m_Pickler.save_tuple\u001b[0;34m(self, obj)\u001b[0m\n\u001b[1;32m    900\u001b[0m write(MARK)\n\u001b[1;32m    901\u001b[0m \u001b[39mfor\u001b[39;00m element \u001b[39min\u001b[39;00m obj:\n\u001b[0;32m--> 902\u001b[0m     save(element)\n\u001b[1;32m    904\u001b[0m \u001b[39mif\u001b[39;00m \u001b[39mid\u001b[39m(obj) \u001b[39min\u001b[39;00m memo:\n\u001b[1;32m    905\u001b[0m     \u001b[39m# Subtle.  d was not in memo when we entered save_tuple(), so\u001b[39;00m\n\u001b[1;32m    906\u001b[0m     \u001b[39m# the process of saving the tuple's elements must have saved\u001b[39;00m\n\u001b[0;32m   (...)\u001b[0m\n\u001b[1;32m    910\u001b[0m     \u001b[39m# could have been done in the \"for element\" loop instead, but\u001b[39;00m\n\u001b[1;32m    911\u001b[0m     \u001b[39m# recursive tuples are a rare thing.\u001b[39;00m\n\u001b[1;32m    912\u001b[0m     get \u001b[39m=\u001b[39m \u001b[39mself\u001b[39m\u001b[39m.\u001b[39mget(memo[\u001b[39mid\u001b[39m(obj)][\u001b[39m0\u001b[39m])\n",
      "File \u001b[0;32m~/opt/anaconda3/envs/capstone/lib/python3.11/site-packages/joblib/hashing.py:241\u001b[0m, in \u001b[0;36mNumpyHasher.save\u001b[0;34m(self, obj)\u001b[0m\n\u001b[1;32m    239\u001b[0m     \u001b[39mself\u001b[39m\u001b[39m.\u001b[39m_hash\u001b[39m.\u001b[39mupdate(pickle\u001b[39m.\u001b[39mdumps(obj))\n\u001b[1;32m    240\u001b[0m     \u001b[39mreturn\u001b[39;00m\n\u001b[0;32m--> 241\u001b[0m Hasher\u001b[39m.\u001b[39msave(\u001b[39mself\u001b[39m, obj)\n",
      "File \u001b[0;32m~/opt/anaconda3/envs/capstone/lib/python3.11/site-packages/joblib/hashing.py:89\u001b[0m, in \u001b[0;36mHasher.save\u001b[0;34m(self, obj)\u001b[0m\n\u001b[1;32m     87\u001b[0m         \u001b[39mcls\u001b[39m \u001b[39m=\u001b[39m obj\u001b[39m.\u001b[39m\u001b[39m__self__\u001b[39m\u001b[39m.\u001b[39m\u001b[39m__class__\u001b[39m\n\u001b[1;32m     88\u001b[0m         obj \u001b[39m=\u001b[39m _MyHash(func_name, inst, \u001b[39mcls\u001b[39m)\n\u001b[0;32m---> 89\u001b[0m Pickler\u001b[39m.\u001b[39msave(\u001b[39mself\u001b[39m, obj)\n",
      "File \u001b[0;32m~/opt/anaconda3/envs/capstone/lib/python3.11/pickle.py:560\u001b[0m, in \u001b[0;36m_Pickler.save\u001b[0;34m(self, obj, save_persistent_id)\u001b[0m\n\u001b[1;32m    558\u001b[0m f \u001b[39m=\u001b[39m \u001b[39mself\u001b[39m\u001b[39m.\u001b[39mdispatch\u001b[39m.\u001b[39mget(t)\n\u001b[1;32m    559\u001b[0m \u001b[39mif\u001b[39;00m f \u001b[39mis\u001b[39;00m \u001b[39mnot\u001b[39;00m \u001b[39mNone\u001b[39;00m:\n\u001b[0;32m--> 560\u001b[0m     f(\u001b[39mself\u001b[39m, obj)  \u001b[39m# Call unbound method with explicit self\u001b[39;00m\n\u001b[1;32m    561\u001b[0m     \u001b[39mreturn\u001b[39;00m\n\u001b[1;32m    563\u001b[0m \u001b[39m# Check private dispatch table if any, or else\u001b[39;00m\n\u001b[1;32m    564\u001b[0m \u001b[39m# copyreg.dispatch_table\u001b[39;00m\n",
      "File \u001b[0;32m~/opt/anaconda3/envs/capstone/lib/python3.11/pickle.py:932\u001b[0m, in \u001b[0;36m_Pickler.save_list\u001b[0;34m(self, obj)\u001b[0m\n\u001b[1;32m    929\u001b[0m     \u001b[39mself\u001b[39m\u001b[39m.\u001b[39mwrite(MARK \u001b[39m+\u001b[39m LIST)\n\u001b[1;32m    931\u001b[0m \u001b[39mself\u001b[39m\u001b[39m.\u001b[39mmemoize(obj)\n\u001b[0;32m--> 932\u001b[0m \u001b[39mself\u001b[39m\u001b[39m.\u001b[39m_batch_appends(obj)\n",
      "File \u001b[0;32m~/opt/anaconda3/envs/capstone/lib/python3.11/pickle.py:956\u001b[0m, in \u001b[0;36m_Pickler._batch_appends\u001b[0;34m(self, items)\u001b[0m\n\u001b[1;32m    954\u001b[0m     write(MARK)\n\u001b[1;32m    955\u001b[0m     \u001b[39mfor\u001b[39;00m x \u001b[39min\u001b[39;00m tmp:\n\u001b[0;32m--> 956\u001b[0m         save(x)\n\u001b[1;32m    957\u001b[0m     write(APPENDS)\n\u001b[1;32m    958\u001b[0m \u001b[39melif\u001b[39;00m n:\n",
      "File \u001b[0;32m~/opt/anaconda3/envs/capstone/lib/python3.11/site-packages/joblib/hashing.py:241\u001b[0m, in \u001b[0;36mNumpyHasher.save\u001b[0;34m(self, obj)\u001b[0m\n\u001b[1;32m    239\u001b[0m     \u001b[39mself\u001b[39m\u001b[39m.\u001b[39m_hash\u001b[39m.\u001b[39mupdate(pickle\u001b[39m.\u001b[39mdumps(obj))\n\u001b[1;32m    240\u001b[0m     \u001b[39mreturn\u001b[39;00m\n\u001b[0;32m--> 241\u001b[0m Hasher\u001b[39m.\u001b[39msave(\u001b[39mself\u001b[39m, obj)\n",
      "File \u001b[0;32m~/opt/anaconda3/envs/capstone/lib/python3.11/site-packages/joblib/hashing.py:72\u001b[0m, in \u001b[0;36mHasher.save\u001b[0;34m(self, obj)\u001b[0m\n\u001b[1;32m     69\u001b[0m     \u001b[39mif\u001b[39;00m return_digest:\n\u001b[1;32m     70\u001b[0m         \u001b[39mreturn\u001b[39;00m \u001b[39mself\u001b[39m\u001b[39m.\u001b[39m_hash\u001b[39m.\u001b[39mhexdigest()\n\u001b[0;32m---> 72\u001b[0m \u001b[39mdef\u001b[39;00m \u001b[39msave\u001b[39m(\u001b[39mself\u001b[39m, obj):\n\u001b[1;32m     73\u001b[0m     \u001b[39mif\u001b[39;00m \u001b[39misinstance\u001b[39m(obj, (types\u001b[39m.\u001b[39mMethodType, \u001b[39mtype\u001b[39m({}\u001b[39m.\u001b[39mpop))):\n\u001b[1;32m     74\u001b[0m         \u001b[39m# the Pickler cannot pickle instance methods; here we decompose\u001b[39;00m\n\u001b[1;32m     75\u001b[0m         \u001b[39m# them into components that make them uniquely identifiable\u001b[39;00m\n\u001b[1;32m     76\u001b[0m         \u001b[39mif\u001b[39;00m \u001b[39mhasattr\u001b[39m(obj, \u001b[39m'\u001b[39m\u001b[39m__func__\u001b[39m\u001b[39m'\u001b[39m):\n",
      "\u001b[0;31mKeyboardInterrupt\u001b[0m: "
     ]
    }
   ],
   "source": [
    "#activating randomized grid search \n",
    "svm_random = RandomizedSearchCV(estimator = pipe, \n",
    "                           param_distributions= svm_param_grid, \n",
    "                           cv=5, \n",
    "                           n_iter = 100,\n",
    "                           verbose = 6,\n",
    "                           refit=True,\n",
    "                           scoring = 'f1_micro', \n",
    "                           random_state = 8)\n",
    "\n",
    "fitted_svmrandom_gs = svm_random.fit(X_remainder1_sample, y_remainder1_sample)\n",
    "\n",
    "grid_search_results = fitted_svmrandom_gs.cv_results_\n",
    "\n",
    "best_estimator = fitted_svmrandom_gs.best_estimator_"
   ]
  },
  {
   "cell_type": "code",
   "execution_count": null,
   "id": "2ffbe788",
   "metadata": {},
   "outputs": [],
   "source": [
    "# saving results to s3 bucket\n",
    "write_results_to_s3(grid_search_results, 'svm_results_random_model1.csv', 'deliverable-slo-bstn-bucket', 'svm_results_random_model1.csv')"
   ]
  },
  {
   "attachments": {},
   "cell_type": "markdown",
   "id": "2c62bd93",
   "metadata": {},
   "source": [
    "Best parameters: \n",
    "- min_df = 0.05 \n",
    "- PCA(0.95)\n",
    "- Param_clf = rbf \n",
    "- Scaler = StandardScaler()"
   ]
  },
  {
   "cell_type": "code",
   "execution_count": null,
   "id": "495c9646",
   "metadata": {},
   "outputs": [],
   "source": [
    "#more refined parameters\n",
    "# Parameter grid\n",
    "svm_param_grid2 = [ \n",
    "     #SVM with PCA\n",
    "     {'transform__cv__min_df' : [0.05],\n",
    "     'transform__cv__max_features': [500],\n",
    "     'scaler' : [StandardScaler(with_mean=False)],\n",
    "     'dim_reducer': [PCA()],\n",
    "     'dim_reducer__n_components':[0.95 ,0.92,0.90],\n",
    "      'clf' : [SVC(random_state=10)], \n",
    "     'clf__kernel': ['rbf'],\n",
    "     'clf__C': [10,1],\n",
    "     'clf__gamma':[1,0.1]\n",
    "     }\n",
    "]"
   ]
  },
  {
   "cell_type": "code",
   "execution_count": null,
   "id": "88e86aa2",
   "metadata": {},
   "outputs": [],
   "source": [
    "#more refined grid search\n",
    "svm_gs = GridSearchCV(estimator = pipe, \n",
    "                           param_grid= svm_param_grid2, \n",
    "                           cv=5, \n",
    "                           verbose = 4,\n",
    "                           refit=True,\n",
    "                           scoring = 'f1_micro', \n",
    "                           random_state = 8)\n",
    "\n",
    "fitted_svm_gs = svm_gs.fit(X_remainder1, y_remainder1)\n",
    "\n",
    "grid_search_results = fitted_svm_gs.cv_results_\n",
    "\n",
    "best_estimator = fitted_svm_gs.best_estimator_\n",
    "print(best_estimator)"
   ]
  },
  {
   "cell_type": "code",
   "execution_count": 1,
   "id": "0e7CYuELHSxL",
   "metadata": {
    "id": "0e7CYuELHSxL"
   },
   "outputs": [
    {
     "ename": "ModuleNotFoundError",
     "evalue": "No module named 'boto3'",
     "output_type": "error",
     "traceback": [
      "\u001b[0;31m---------------------------------------------------------------------------\u001b[0m",
      "\u001b[0;31mModuleNotFoundError\u001b[0m                       Traceback (most recent call last)",
      "Cell \u001b[0;32mIn[1], line 2\u001b[0m\n\u001b[1;32m      1\u001b[0m \u001b[38;5;66;03m#saving results to an s3 bucket\u001b[39;00m\n\u001b[0;32m----> 2\u001b[0m \u001b[38;5;28;01mimport\u001b[39;00m \u001b[38;5;21;01mboto3\u001b[39;00m\n\u001b[1;32m      3\u001b[0m \u001b[38;5;28;01mimport\u001b[39;00m \u001b[38;5;21;01mpickle\u001b[39;00m\n\u001b[1;32m      5\u001b[0m bucket\u001b[38;5;241m=\u001b[39m\u001b[38;5;124m'\u001b[39m\u001b[38;5;124mdeliverable-slo-bstn-bucket\u001b[39m\u001b[38;5;124m'\u001b[39m\n",
      "\u001b[0;31mModuleNotFoundError\u001b[0m: No module named 'boto3'"
     ]
    }
   ],
   "source": [
    "# saving svmreg pickle file\n",
    "save_best_model(best_estimator, 'pickled_best_svm_model1.pkl', bucket='deliverable-slo-bstn-bucket', key='pickled_best_svm_model1.pkl')"
   ]
  },
  {
   "cell_type": "code",
   "execution_count": null,
   "id": "10ec6a47",
   "metadata": {
    "id": "10ec6a47"
   },
   "outputs": [],
   "source": [
    "# Sanity check on the pickled model\n",
    "pklfilename = 'pickled_best_svm_model1.pkl'\n",
    "\n",
    "pickled_best_svm1 = joblib.load(pklfilename)\n",
    "\n",
    "# Print the accuracies\n",
    "print(f\"The best SVM accuracy on the remainder set: {pickled_best_svm1.score(X_remainder1, y_remainder1)}\")\n",
    "print(f\"The best SVM accuracy on the test set: {pickled_best_svm1.score(X_val1, y_val1)}\")\n"
   ]
  },
  {
   "cell_type": "markdown",
   "id": "dfa2b308",
   "metadata": {
    "id": "dfa2b308"
   },
   "source": [
    "### Random Forest Model "
   ]
  },
  {
   "cell_type": "code",
   "execution_count": null,
   "id": "3c120af2",
   "metadata": {
    "id": "3c120af2"
   },
   "outputs": [],
   "source": [
    "#hyper parameters Random Forest \n",
    "n_estimators_range = list(range(100,1600,200))\n",
    "max_depth_range = list(range(10,50,10))\n",
    "max_features_range = np.arange(0.2,0.6,0.8)"
   ]
  },
  {
   "cell_type": "code",
   "execution_count": null,
   "id": "97f613f0",
   "metadata": {
    "id": "97f613f0"
   },
   "outputs": [],
   "source": [
    "# Parameter grid\n",
    "\n",
    "rf_param_grid = [\n",
    "    # Random Forest without PCA\n",
    "    {'transform__cv__min_df' : vectorize_mindf_list ,\n",
    "     'transform__cv__max_features': [500],\n",
    "     'dim_reducer': ['passthrough'],\n",
    "     'scaler' : ['passthrough'],\n",
    "     'clf': [RandomForestClassifier(n_jobs = 1)],\n",
    "     'clf__max_depth': max_depth_range,\n",
    "     'clf__n_estimators':n_estimators_range,\n",
    "     'clf__max_features' :max_features_range\n",
    "     },\n",
    "     \n",
    "     #Random Forest with PCA\n",
    "     {'transform__cv__min_df' : vectorize_mindf_list ,\n",
    "     'transform__cv__max_features': [500],\n",
    "     'scaler' : ['passthrough'],\n",
    "     'dim_reducer': [PCA()],\n",
    "     'dim_reducer__n_components':[0.95, 0.8], \n",
    "     'clf': [RandomForestClassifier(n_jobs = 1)],\n",
    "     'clf__max_depth': max_depth_range,\n",
    "     'clf__n_estimators':n_estimators_range,\n",
    "     'clf__max_features' :max_features_range\n",
    "     }\n",
    "]"
   ]
  },
  {
   "cell_type": "code",
   "execution_count": null,
   "id": "e3c22501",
   "metadata": {
    "id": "e3c22501"
   },
   "outputs": [],
   "source": [
    "#activating grid search \n",
    "rf_random = RandomizedSearchCV(estimator = pipe, \n",
    "                           param_distributions= rf_param_grid, \n",
    "                           cv=5, \n",
    "                           n_iter = 75,\n",
    "                           verbose = 4,\n",
    "                           refit=True,\n",
    "                           scoring = 'f1_micro', \n",
    "                           random_state = 8)\n",
    "\n",
    "fitted_rf_gs = rf_random.fit(X_remainder1_sample, y_remainder1_sample)\n",
    "\n",
    "grid_search_results = fitted_rf_gs.cv_results_\n",
    "\n",
    "best_estimator = fitted_rf_gs.best_estimator_"
   ]
  },
  {
   "cell_type": "code",
   "execution_count": null,
   "id": "2ba35b75",
   "metadata": {},
   "outputs": [],
   "source": [
    "#calling the save function\n",
    "write_results_to_s3(grid_search_results, 'rf_random_results_model_1.csv', 'deliverable-slo-bstn-bucket', 'rf_random_results_model_1.csv')"
   ]
  },
  {
   "cell_type": "code",
   "execution_count": null,
   "id": "a338b9c9",
   "metadata": {},
   "outputs": [],
   "source": [
    "#more refined grid search to total train set \n"
   ]
  },
  {
   "cell_type": "code",
   "execution_count": null,
   "id": "3e3ce6f8",
   "metadata": {},
   "outputs": [],
   "source": [
    "#more refined grid search to total train set "
   ]
  },
  {
   "cell_type": "code",
   "execution_count": null,
   "id": "6a51f6ce",
   "metadata": {},
   "outputs": [],
   "source": [
    "# saving random forest pickle file\n",
    "save_best_model(best_estimator, 'pickled_best_rf_model1.pkl', bucket='deliverable-slo-bstn-bucket', key='pickled_best_rf_model1.pkl')"
   ]
  },
  {
   "cell_type": "code",
   "execution_count": null,
   "id": "7cc52f97",
   "metadata": {
    "id": "7cc52f97"
   },
   "outputs": [],
   "source": [
    "# Sanity check on the pickled model\n",
    "\n",
    "filename = 'pickled_best_rf_reg1.pkl'\n",
    "pickled_best = joblib.load(filename)\n",
    "\n",
    "# Print the accuracies\n",
    "print(f\"The best Random Forest accuracy on the remainder set: {pickled_best.score(X_train1, y_train1)}\")\n",
    "print(f\"The best Random Forest accuracy on the validation set: {pickled_best.score(X_val1, y_val1)}\")\n"
   ]
  },
  {
   "cell_type": "code",
   "execution_count": null,
   "id": "WUBdNWshLQ09",
   "metadata": {
    "id": "WUBdNWshLQ09"
   },
   "outputs": [],
   "source": []
  },
  {
   "cell_type": "markdown",
   "id": "f57fa7ba",
   "metadata": {
    "id": "f57fa7ba"
   },
   "source": [
    "1. A Random Forest works by fitting several deep decision trees. Each tree is fitted to a random subset of the data and features. The trees are trained in parallel and their decisions are totally independent of each other. The only thing we can control for is the depth of the trees and number of trees we fit. "
   ]
  },
  {
   "cell_type": "markdown",
   "id": "af2fc849",
   "metadata": {
    "id": "af2fc849"
   },
   "source": [
    "### XGBOOST Model"
   ]
  },
  {
   "cell_type": "markdown",
   "id": "85b45749",
   "metadata": {
    "id": "85b45749"
   },
   "source": [
    "2. Boosting-based methods work by fitting one model at a time. Each subsequent model is fitted to correct for the mistakes made by the previous models. In addition to the number of models and their complexity, we can control for how strong of a correction each model makes."
   ]
  },
  {
   "cell_type": "code",
   "execution_count": null,
   "id": "2c535776",
   "metadata": {
    "id": "2c535776"
   },
   "outputs": [],
   "source": []
  },
  {
   "cell_type": "code",
   "execution_count": 90,
   "id": "fe17c22c",
   "metadata": {
    "id": "fe17c22c"
   },
   "outputs": [],
   "source": [
    "#hyper parameters XGBoost \n",
    "\n",
    "gamma_range = [i/10.0 for i in range(0,5)]\n",
    "# Percentage of columns to be randomly samples for each tree\n",
    "colsample_bytree_range = [i/10.0 for i in range(3,10)]\n",
    " # Maximum depth of the tree, increasing it increases the model complexity\n",
    "max_depth_range = list(range(3,21,3))\n",
    "  # Learning rate shrinks the weights to make the boosting process more conservative\n",
    "learning_rate_range = [0.01 , 0.1, 1] "
   ]
  },
  {
   "cell_type": "code",
   "execution_count": null,
   "id": "677972df",
   "metadata": {
    "id": "677972df"
   },
   "outputs": [],
   "source": [
    "# Parameter grid\n",
    "\n",
    "boost_param_grid = [\n",
    "    # boost without PCA\n",
    "    {'transform__cv__min_df' : vectorize_mindf_list ,\n",
    "     'transform__cv__max_features': [500],\n",
    "     'scaler' : ['passthrough'],\n",
    "     'dim_reducer': ['passthrough'],\n",
    "     'clf': [XGBClassifier()],\n",
    "     'clf__gamma': gamma_range,\n",
    "     'clf__colsample_bytree':colsample_bytree_range,\n",
    "     'clf__max_depth':max_depth_range,\n",
    "     'clf__learning_rate' :learning_rate_range\n",
    "     },\n",
    "     \n",
    "     #boost with PCA\n",
    "     {'transform__cv__min_df' : vectorize_mindf_list ,\n",
    "     'transform__cv__max_features': [500],\n",
    "     'scaler' : ['passthrough'],\n",
    "     'dim_reducer': [XGBClassifier()],\n",
    "     'dim_reducer__n_components':[0.95, 0.8], \n",
    "     'clf': [XGBClassifier()],\n",
    "     'clf__gamma': gamma_range,\n",
    "     'clf__colsample_bytree':colsample_bytree_range,\n",
    "     'clf__max_depth':max_depth_range,\n",
    "     'clf__learning_rate' :learning_rate_range\n",
    "     }\n",
    "]"
   ]
  },
  {
   "cell_type": "code",
   "execution_count": null,
   "id": "7b1e03a2",
   "metadata": {
    "id": "7b1e03a2"
   },
   "outputs": [],
   "source": [
    "from sklearn.model_selection import GridSearchCV\n",
    "\n",
    "#activating grid search \n",
    "boost_random = RandomizedSearchCV(estimator = pipe, \n",
    "                           param_distributions= boost_param_grid, \n",
    "                           cv=5, \n",
    "                           n_iter = 60,\n",
    "                           verbose = 4,\n",
    "                           refit=True,\n",
    "                           scoring = 'f1_micro', \n",
    "                           random_state = 8)\n",
    "\n",
    "fitted_boost_random = boost_random.fit(X_remainder1_sample, y_remainder1_sample)\n",
    "\n",
    "\n",
    "grid_search_results = fitted_boost_random.cv_results_\n",
    "\n",
    "best_estimator = fitted_boost_random.best_estimator_"
   ]
  },
  {
   "cell_type": "code",
   "execution_count": 98,
   "id": "b8662d84",
   "metadata": {},
   "outputs": [
    {
     "ename": "NameError",
     "evalue": "name 'boost_random' is not defined",
     "output_type": "error",
     "traceback": [
      "\u001b[0;31m---------------------------------------------------------------------------\u001b[0m",
      "\u001b[0;31mNameError\u001b[0m                                 Traceback (most recent call last)",
      "Cell \u001b[0;32mIn[98], line 1\u001b[0m\n\u001b[0;32m----> 1\u001b[0m boost_random_results_model_1  \u001b[39m=\u001b[39m pd\u001b[39m.\u001b[39mDataFrame(boost_random\u001b[39m.\u001b[39mcv_results_)\n\u001b[1;32m      2\u001b[0m boost_random_results_model_1\u001b[39m.\u001b[39mto_csv(\u001b[39m'\u001b[39m\u001b[39mboost_random_results_model_1.csv\u001b[39m\u001b[39m'\u001b[39m,index\u001b[39m=\u001b[39m\u001b[39mFalse\u001b[39;00m)\n",
      "\u001b[0;31mNameError\u001b[0m: name 'boost_random' is not defined"
     ]
    }
   ],
   "source": [
    "#calling the save function\n",
    "write_results_to_s3(grid_search_results, 'boost_random_results_model_1.csv', 'deliverable-slo-bstn-bucket', 'boost_random_results_model_1.csv')"
   ]
  },
  {
   "cell_type": "code",
   "execution_count": null,
   "id": "a70c973e",
   "metadata": {},
   "outputs": [],
   "source": []
  },
  {
   "cell_type": "code",
   "execution_count": 97,
   "id": "c022088b",
   "metadata": {},
   "outputs": [
    {
     "ename": "NameError",
     "evalue": "name 'boost_random_results_model_1' is not defined",
     "output_type": "error",
     "traceback": [
      "\u001b[0;31m---------------------------------------------------------------------------\u001b[0m",
      "\u001b[0;31mNameError\u001b[0m                                 Traceback (most recent call last)",
      "Cell \u001b[0;32mIn[97], line 1\u001b[0m\n\u001b[0;32m----> 1\u001b[0m \u001b[39mstr\u001b[39m(boost_random_results_model_1)\n",
      "\u001b[0;31mNameError\u001b[0m: name 'boost_random_results_model_1' is not defined"
     ]
    }
   ],
   "source": [
    "s3_client.upload_file(Filename='boost_random_results_model_1.csv',\n",
    "                  Bucket='deliverable-slo-bstn-bucket',\n",
    "                  Key='boost_random_results_model_1.csv')"
   ]
  },
  {
   "cell_type": "code",
   "execution_count": null,
   "id": "uyKOMYpsKKE8",
   "metadata": {
    "id": "uyKOMYpsKKE8"
   },
   "outputs": [],
   "source": [
    "#more refined grid search with train sample\n"
   ]
  },
  {
   "cell_type": "code",
   "execution_count": null,
   "id": "40d999f3",
   "metadata": {
    "id": "40d999f3"
   },
   "outputs": [],
   "source": []
  },
  {
   "cell_type": "code",
   "execution_count": null,
   "id": "ea6b1dbb",
   "metadata": {},
   "outputs": [],
   "source": [
    "# saving random forest pickle file\n",
    "save_best_model(best_estimator, 'pickled_best_boost_model1.pkl', bucket='deliverable-slo-bstn-bucket', key='pickled_best_boost_model1.pkl')"
   ]
  },
  {
   "cell_type": "code",
   "execution_count": null,
   "id": "f3e1d692",
   "metadata": {
    "id": "f3e1d692"
   },
   "outputs": [],
   "source": [
    "# Sanity check on the pickled model\n",
    "pickled_best_boost1 = joblib.load('pickled_best_boost_reg1.pkl')\n",
    "\n",
    "# Print the accuracies\n",
    "print(f\"The best XGBoost accuracy on the remainder set: {pickled_best_boost1.score(X_train1, y_train1)}\")\n",
    "print(f\"The best XGBoost accuracy on the validation set: {pickled_best_boost1.score(X_val1, y_val1)}\")\n"
   ]
  },
  {
   "cell_type": "code",
   "execution_count": null,
   "id": "cfd5c523",
   "metadata": {
    "id": "cfd5c523"
   },
   "outputs": [],
   "source": []
  },
  {
   "cell_type": "code",
   "execution_count": null,
   "id": "982c133a",
   "metadata": {
    "id": "982c133a"
   },
   "outputs": [],
   "source": []
  },
  {
   "cell_type": "code",
   "execution_count": null,
   "id": "a8f56246",
   "metadata": {
    "id": "a8f56246"
   },
   "outputs": [],
   "source": []
  },
  {
   "cell_type": "code",
   "execution_count": null,
   "id": "7b0f6e4b",
   "metadata": {
    "id": "7b0f6e4b"
   },
   "outputs": [],
   "source": [
    "#figuring out baseline to compare against\n",
    "pct = 100 - (y_train.sum()/y_train.shape[0]*100)\n",
    "print(f\"Number of review in the training dataset that have trending products: {y_train.sum()} which means our baseline for the model is: {round(pct,4)}%\")"
   ]
  },
  {
   "cell_type": "code",
   "execution_count": null,
   "id": "a15deae5",
   "metadata": {
    "id": "a15deae5"
   },
   "outputs": [],
   "source": []
  },
  {
   "cell_type": "code",
   "execution_count": null,
   "id": "e6c3fe27",
   "metadata": {
    "id": "e6c3fe27"
   },
   "outputs": [],
   "source": []
  },
  {
   "cell_type": "markdown",
   "id": "b108f9c5",
   "metadata": {
    "id": "b108f9c5"
   },
   "source": [
    "## Count Vectorizer"
   ]
  },
  {
   "cell_type": "markdown",
   "id": "4b3bde95",
   "metadata": {
    "id": "4b3bde95"
   },
   "source": [
    "We will start by inputting a count vectorizer on the model for the review data. "
   ]
  },
  {
   "cell_type": "code",
   "execution_count": null,
   "id": "161f5596",
   "metadata": {
    "id": "161f5596"
   },
   "outputs": [],
   "source": [
    "def length(text):    \n",
    "    '''a function which returns the length of text'''\n",
    "    return len(text)"
   ]
  },
  {
   "cell_type": "code",
   "execution_count": null,
   "id": "955530fb",
   "metadata": {
    "id": "955530fb"
   },
   "outputs": [],
   "source": [
    "train[\"length\"]=train[\"reviewText\"].apply(length)"
   ]
  },
  {
   "cell_type": "code",
   "execution_count": null,
   "id": "4ed48cc7",
   "metadata": {
    "id": "4ed48cc7"
   },
   "outputs": [],
   "source": [
    "def get_top_tweet_bigrams(corpus, n=None):\n",
    "    vec = CountVectorizer(ngram_range=(2, 2)).fit(corpus)\n",
    "    bag_of_words = vec.transform(corpus)\n",
    "    sum_words = bag_of_words.sum(axis=0) \n",
    "    words_freq = [(word, sum_words[0, idx]) for word, idx in vec.vocabulary_.items()]\n",
    "    words_freq =sorted(words_freq, key = lambda x: x[1], reverse=True)\n",
    "    return words_freq[:n]"
   ]
  },
  {
   "cell_type": "code",
   "execution_count": null,
   "id": "e1efd27f",
   "metadata": {
    "id": "e1efd27f"
   },
   "outputs": [],
   "source": []
  },
  {
   "cell_type": "code",
   "execution_count": null,
   "id": "b5d2b097",
   "metadata": {
    "id": "b5d2b097",
    "outputId": "c47f68df-6e71-4fe7-895e-5dd17c28e5e3"
   },
   "outputs": [
    {
     "data": {
      "image/png": "[encoded data removed]",
      "text/plain": [
       "<Figure size 1500x500 with 1 Axes>"
      ]
     },
     "metadata": {},
     "output_type": "display_data"
    }
   ],
   "source": [
    "#plotting it out\n",
    "\n",
    "pos_word_counts = pd.DataFrame(\n",
    "    {\"counts\": train_transformed.toarray().sum(axis=0)},\n",
    "    index=bagofwords.get_feature_names_out()\n",
    ").sort_values(\"counts\", ascending=False)\n",
    "\n",
    "pos_word_counts.head(20).plot(kind=\"barh\", figsize=(15, 5), legend=False, color = \"navy\")\n",
    "plt.title(\"Figure: Top most frequently occurring words in review text\")\n",
    "plt.ylabel(\"Count\")\n",
    "plt.xticks(rotation=45)\n",
    "plt.show()"
   ]
  },
  {
   "cell_type": "code",
   "execution_count": null,
   "id": "1c4f02f4",
   "metadata": {
    "id": "1c4f02f4",
    "outputId": "71be606e-2006-43c1-ffd1-464dcbda7e18"
   },
   "outputs": [
    {
     "data": {
      "text/html": [
       "<div>\n",
       "<style scoped>\n",
       "    .dataframe tbody tr th:only-of-type {\n",
       "        vertical-align: middle;\n",
       "    }\n",
       "\n",
       "    .dataframe tbody tr th {\n",
       "        vertical-align: top;\n",
       "    }\n",
       "\n",
       "    .dataframe thead th {\n",
       "        text-align: right;\n",
       "    }\n",
       "</style>\n",
       "<table border=\"1\" class=\"dataframe\">\n",
       "  <thead>\n",
       "    <tr style=\"text-align: right;\">\n",
       "      <th>words</th>\n",
       "      <th>r_product</th>\n",
       "      <th>r_hair</th>\n",
       "      <th>r_love</th>\n",
       "      <th>r_great</th>\n",
       "      <th>r_use</th>\n",
       "      <th>r_skin</th>\n",
       "      <th>r_like</th>\n",
       "      <th>r_color</th>\n",
       "      <th>r_good</th>\n",
       "      <th>r_just</th>\n",
       "      <th>...</th>\n",
       "      <th>r_bit</th>\n",
       "      <th>r_easy</th>\n",
       "      <th>r_looks</th>\n",
       "      <th>r_got</th>\n",
       "      <th>r_need</th>\n",
       "      <th>r_definitely</th>\n",
       "      <th>r_worth</th>\n",
       "      <th>r_smooth</th>\n",
       "      <th>r_goes</th>\n",
       "      <th>r_favorite</th>\n",
       "    </tr>\n",
       "  </thead>\n",
       "  <tbody>\n",
       "    <tr>\n",
       "      <th>0</th>\n",
       "      <td>0</td>\n",
       "      <td>0</td>\n",
       "      <td>0</td>\n",
       "      <td>0</td>\n",
       "      <td>0</td>\n",
       "      <td>0</td>\n",
       "      <td>0</td>\n",
       "      <td>0</td>\n",
       "      <td>0</td>\n",
       "      <td>0</td>\n",
       "      <td>...</td>\n",
       "      <td>0</td>\n",
       "      <td>0</td>\n",
       "      <td>0</td>\n",
       "      <td>0</td>\n",
       "      <td>0</td>\n",
       "      <td>0</td>\n",
       "      <td>0</td>\n",
       "      <td>0</td>\n",
       "      <td>0</td>\n",
       "      <td>0</td>\n",
       "    </tr>\n",
       "    <tr>\n",
       "      <th>1</th>\n",
       "      <td>0</td>\n",
       "      <td>0</td>\n",
       "      <td>0</td>\n",
       "      <td>0</td>\n",
       "      <td>0</td>\n",
       "      <td>0</td>\n",
       "      <td>0</td>\n",
       "      <td>0</td>\n",
       "      <td>0</td>\n",
       "      <td>0</td>\n",
       "      <td>...</td>\n",
       "      <td>0</td>\n",
       "      <td>0</td>\n",
       "      <td>0</td>\n",
       "      <td>0</td>\n",
       "      <td>0</td>\n",
       "      <td>0</td>\n",
       "      <td>0</td>\n",
       "      <td>0</td>\n",
       "      <td>0</td>\n",
       "      <td>0</td>\n",
       "    </tr>\n",
       "    <tr>\n",
       "      <th>2</th>\n",
       "      <td>0</td>\n",
       "      <td>0</td>\n",
       "      <td>0</td>\n",
       "      <td>0</td>\n",
       "      <td>0</td>\n",
       "      <td>0</td>\n",
       "      <td>0</td>\n",
       "      <td>0</td>\n",
       "      <td>0</td>\n",
       "      <td>0</td>\n",
       "      <td>...</td>\n",
       "      <td>0</td>\n",
       "      <td>0</td>\n",
       "      <td>0</td>\n",
       "      <td>0</td>\n",
       "      <td>0</td>\n",
       "      <td>0</td>\n",
       "      <td>0</td>\n",
       "      <td>0</td>\n",
       "      <td>0</td>\n",
       "      <td>0</td>\n",
       "    </tr>\n",
       "    <tr>\n",
       "      <th>3</th>\n",
       "      <td>0</td>\n",
       "      <td>0</td>\n",
       "      <td>0</td>\n",
       "      <td>0</td>\n",
       "      <td>0</td>\n",
       "      <td>0</td>\n",
       "      <td>0</td>\n",
       "      <td>0</td>\n",
       "      <td>0</td>\n",
       "      <td>0</td>\n",
       "      <td>...</td>\n",
       "      <td>0</td>\n",
       "      <td>2</td>\n",
       "      <td>0</td>\n",
       "      <td>0</td>\n",
       "      <td>0</td>\n",
       "      <td>0</td>\n",
       "      <td>0</td>\n",
       "      <td>0</td>\n",
       "      <td>0</td>\n",
       "      <td>0</td>\n",
       "    </tr>\n",
       "    <tr>\n",
       "      <th>4</th>\n",
       "      <td>0</td>\n",
       "      <td>0</td>\n",
       "      <td>0</td>\n",
       "      <td>1</td>\n",
       "      <td>0</td>\n",
       "      <td>0</td>\n",
       "      <td>0</td>\n",
       "      <td>0</td>\n",
       "      <td>0</td>\n",
       "      <td>0</td>\n",
       "      <td>...</td>\n",
       "      <td>0</td>\n",
       "      <td>3</td>\n",
       "      <td>0</td>\n",
       "      <td>0</td>\n",
       "      <td>0</td>\n",
       "      <td>1</td>\n",
       "      <td>0</td>\n",
       "      <td>0</td>\n",
       "      <td>0</td>\n",
       "      <td>0</td>\n",
       "    </tr>\n",
       "    <tr>\n",
       "      <th>...</th>\n",
       "      <td>...</td>\n",
       "      <td>...</td>\n",
       "      <td>...</td>\n",
       "      <td>...</td>\n",
       "      <td>...</td>\n",
       "      <td>...</td>\n",
       "      <td>...</td>\n",
       "      <td>...</td>\n",
       "      <td>...</td>\n",
       "      <td>...</td>\n",
       "      <td>...</td>\n",
       "      <td>...</td>\n",
       "      <td>...</td>\n",
       "      <td>...</td>\n",
       "      <td>...</td>\n",
       "      <td>...</td>\n",
       "      <td>...</td>\n",
       "      <td>...</td>\n",
       "      <td>...</td>\n",
       "      <td>...</td>\n",
       "      <td>...</td>\n",
       "    </tr>\n",
       "    <tr>\n",
       "      <th>42593</th>\n",
       "      <td>0</td>\n",
       "      <td>0</td>\n",
       "      <td>0</td>\n",
       "      <td>0</td>\n",
       "      <td>0</td>\n",
       "      <td>0</td>\n",
       "      <td>0</td>\n",
       "      <td>0</td>\n",
       "      <td>0</td>\n",
       "      <td>0</td>\n",
       "      <td>...</td>\n",
       "      <td>0</td>\n",
       "      <td>0</td>\n",
       "      <td>0</td>\n",
       "      <td>0</td>\n",
       "      <td>0</td>\n",
       "      <td>0</td>\n",
       "      <td>1</td>\n",
       "      <td>0</td>\n",
       "      <td>0</td>\n",
       "      <td>0</td>\n",
       "    </tr>\n",
       "    <tr>\n",
       "      <th>42594</th>\n",
       "      <td>0</td>\n",
       "      <td>0</td>\n",
       "      <td>0</td>\n",
       "      <td>0</td>\n",
       "      <td>0</td>\n",
       "      <td>0</td>\n",
       "      <td>0</td>\n",
       "      <td>0</td>\n",
       "      <td>0</td>\n",
       "      <td>0</td>\n",
       "      <td>...</td>\n",
       "      <td>0</td>\n",
       "      <td>0</td>\n",
       "      <td>0</td>\n",
       "      <td>1</td>\n",
       "      <td>0</td>\n",
       "      <td>0</td>\n",
       "      <td>0</td>\n",
       "      <td>1</td>\n",
       "      <td>0</td>\n",
       "      <td>0</td>\n",
       "    </tr>\n",
       "    <tr>\n",
       "      <th>42595</th>\n",
       "      <td>0</td>\n",
       "      <td>0</td>\n",
       "      <td>1</td>\n",
       "      <td>0</td>\n",
       "      <td>0</td>\n",
       "      <td>0</td>\n",
       "      <td>0</td>\n",
       "      <td>0</td>\n",
       "      <td>0</td>\n",
       "      <td>1</td>\n",
       "      <td>...</td>\n",
       "      <td>0</td>\n",
       "      <td>0</td>\n",
       "      <td>0</td>\n",
       "      <td>0</td>\n",
       "      <td>0</td>\n",
       "      <td>0</td>\n",
       "      <td>0</td>\n",
       "      <td>0</td>\n",
       "      <td>0</td>\n",
       "      <td>0</td>\n",
       "    </tr>\n",
       "    <tr>\n",
       "      <th>42596</th>\n",
       "      <td>0</td>\n",
       "      <td>0</td>\n",
       "      <td>0</td>\n",
       "      <td>0</td>\n",
       "      <td>0</td>\n",
       "      <td>0</td>\n",
       "      <td>0</td>\n",
       "      <td>0</td>\n",
       "      <td>0</td>\n",
       "      <td>0</td>\n",
       "      <td>...</td>\n",
       "      <td>0</td>\n",
       "      <td>0</td>\n",
       "      <td>0</td>\n",
       "      <td>0</td>\n",
       "      <td>0</td>\n",
       "      <td>0</td>\n",
       "      <td>0</td>\n",
       "      <td>0</td>\n",
       "      <td>0</td>\n",
       "      <td>0</td>\n",
       "    </tr>\n",
       "    <tr>\n",
       "      <th>42597</th>\n",
       "      <td>0</td>\n",
       "      <td>0</td>\n",
       "      <td>0</td>\n",
       "      <td>0</td>\n",
       "      <td>0</td>\n",
       "      <td>0</td>\n",
       "      <td>0</td>\n",
       "      <td>0</td>\n",
       "      <td>0</td>\n",
       "      <td>0</td>\n",
       "      <td>...</td>\n",
       "      <td>0</td>\n",
       "      <td>0</td>\n",
       "      <td>0</td>\n",
       "      <td>0</td>\n",
       "      <td>0</td>\n",
       "      <td>0</td>\n",
       "      <td>0</td>\n",
       "      <td>0</td>\n",
       "      <td>0</td>\n",
       "      <td>0</td>\n",
       "    </tr>\n",
       "  </tbody>\n",
       "</table>\n",
       "<p>42598 rows × 63 columns</p>\n",
       "</div>"
      ],
      "text/plain": [
       "words  r_product  r_hair  r_love  r_great  r_use  r_skin  r_like  r_color  \\\n",
       "0              0       0       0        0      0       0       0        0   \n",
       "1              0       0       0        0      0       0       0        0   \n",
       "2              0       0       0        0      0       0       0        0   \n",
       "3              0       0       0        0      0       0       0        0   \n",
       "4              0       0       0        1      0       0       0        0   \n",
       "...          ...     ...     ...      ...    ...     ...     ...      ...   \n",
       "42593          0       0       0        0      0       0       0        0   \n",
       "42594          0       0       0        0      0       0       0        0   \n",
       "42595          0       0       1        0      0       0       0        0   \n",
       "42596          0       0       0        0      0       0       0        0   \n",
       "42597          0       0       0        0      0       0       0        0   \n",
       "\n",
       "words  r_good  r_just  ...  r_bit  r_easy  r_looks  r_got  r_need  \\\n",
       "0           0       0  ...      0       0        0      0       0   \n",
       "1           0       0  ...      0       0        0      0       0   \n",
       "2           0       0  ...      0       0        0      0       0   \n",
       "3           0       0  ...      0       2        0      0       0   \n",
       "4           0       0  ...      0       3        0      0       0   \n",
       "...       ...     ...  ...    ...     ...      ...    ...     ...   \n",
       "42593       0       0  ...      0       0        0      0       0   \n",
       "42594       0       0  ...      0       0        0      1       0   \n",
       "42595       0       1  ...      0       0        0      0       0   \n",
       "42596       0       0  ...      0       0        0      0       0   \n",
       "42597       0       0  ...      0       0        0      0       0   \n",
       "\n",
       "words  r_definitely  r_worth  r_smooth  r_goes  r_favorite  \n",
       "0                 0        0         0       0           0  \n",
       "1                 0        0         0       0           0  \n",
       "2                 0        0         0       0           0  \n",
       "3                 0        0         0       0           0  \n",
       "4                 1        0         0       0           0  \n",
       "...             ...      ...       ...     ...         ...  \n",
       "42593             0        1         0       0           0  \n",
       "42594             0        0         1       0           0  \n",
       "42595             0        0         0       0           0  \n",
       "42596             0        0         0       0           0  \n",
       "42597             0        0         0       0           0  \n",
       "\n",
       "[42598 rows x 63 columns]"
      ]
     },
     "execution_count": 78,
     "metadata": {},
     "output_type": "execute_result"
    }
   ],
   "source": [
    "review_vect_df = pd.DataFrame(train_transformed.todense(), columns= review_word_counts[\"words\"])\n",
    "review_vect_df"
   ]
  },
  {
   "cell_type": "code",
   "execution_count": null,
   "id": "dd51a8e8",
   "metadata": {
    "id": "dd51a8e8"
   },
   "outputs": [],
   "source": [
    "trending_graph = pd.concat([train[\"trending_asin\"].reset_index(drop=True), review_vect_df.reset_index(drop=True)], axis=1)"
   ]
  },
  {
   "cell_type": "code",
   "execution_count": null,
   "id": "f62cfd11",
   "metadata": {
    "id": "f62cfd11"
   },
   "outputs": [],
   "source": [
    "columns = trending_graph.columns[trending_graph.columns.str.startswith('r_')]"
   ]
  },
  {
   "cell_type": "code",
   "execution_count": null,
   "id": "37f6dd04",
   "metadata": {
    "id": "37f6dd04",
    "outputId": "58f977bb-2a1d-449b-bc38-b420064ced33"
   },
   "outputs": [
    {
     "data": {
      "text/html": [
       "<div>\n",
       "<style scoped>\n",
       "    .dataframe tbody tr th:only-of-type {\n",
       "        vertical-align: middle;\n",
       "    }\n",
       "\n",
       "    .dataframe tbody tr th {\n",
       "        vertical-align: top;\n",
       "    }\n",
       "\n",
       "    .dataframe thead th {\n",
       "        text-align: right;\n",
       "    }\n",
       "</style>\n",
       "<table border=\"1\" class=\"dataframe\">\n",
       "  <thead>\n",
       "    <tr style=\"text-align: right;\">\n",
       "      <th>trending_asin</th>\n",
       "      <th>index</th>\n",
       "      <th>0</th>\n",
       "      <th>1</th>\n",
       "    </tr>\n",
       "  </thead>\n",
       "  <tbody>\n",
       "    <tr>\n",
       "      <th>58</th>\n",
       "      <td>r_way</td>\n",
       "      <td>6330</td>\n",
       "      <td>1430</td>\n",
       "    </tr>\n",
       "    <tr>\n",
       "      <th>9</th>\n",
       "      <td>r_cream</td>\n",
       "      <td>11544</td>\n",
       "      <td>1231</td>\n",
       "    </tr>\n",
       "    <tr>\n",
       "      <th>7</th>\n",
       "      <td>r_buy</td>\n",
       "      <td>9070</td>\n",
       "      <td>1039</td>\n",
       "    </tr>\n",
       "    <tr>\n",
       "      <th>18</th>\n",
       "      <td>r_easy</td>\n",
       "      <td>6835</td>\n",
       "      <td>976</td>\n",
       "    </tr>\n",
       "    <tr>\n",
       "      <th>16</th>\n",
       "      <td>r_don</td>\n",
       "      <td>3039</td>\n",
       "      <td>827</td>\n",
       "    </tr>\n",
       "    <tr>\n",
       "      <th>40</th>\n",
       "      <td>r_polish</td>\n",
       "      <td>6594</td>\n",
       "      <td>775</td>\n",
       "    </tr>\n",
       "    <tr>\n",
       "      <th>62</th>\n",
       "      <td>r_years</td>\n",
       "      <td>8566</td>\n",
       "      <td>773</td>\n",
       "    </tr>\n",
       "    <tr>\n",
       "      <th>30</th>\n",
       "      <td>r_little</td>\n",
       "      <td>4752</td>\n",
       "      <td>572</td>\n",
       "    </tr>\n",
       "    <tr>\n",
       "      <th>23</th>\n",
       "      <td>r_good</td>\n",
       "      <td>5511</td>\n",
       "      <td>529</td>\n",
       "    </tr>\n",
       "    <tr>\n",
       "      <th>48</th>\n",
       "      <td>r_smell</td>\n",
       "      <td>4512</td>\n",
       "      <td>489</td>\n",
       "    </tr>\n",
       "    <tr>\n",
       "      <th>36</th>\n",
       "      <td>r_makes</td>\n",
       "      <td>4000</td>\n",
       "      <td>445</td>\n",
       "    </tr>\n",
       "    <tr>\n",
       "      <th>2</th>\n",
       "      <td>r_best</td>\n",
       "      <td>2697</td>\n",
       "      <td>440</td>\n",
       "    </tr>\n",
       "    <tr>\n",
       "      <th>24</th>\n",
       "      <td>r_got</td>\n",
       "      <td>3935</td>\n",
       "      <td>424</td>\n",
       "    </tr>\n",
       "    <tr>\n",
       "      <th>33</th>\n",
       "      <td>r_looks</td>\n",
       "      <td>4267</td>\n",
       "      <td>406</td>\n",
       "    </tr>\n",
       "    <tr>\n",
       "      <th>6</th>\n",
       "      <td>r_bought</td>\n",
       "      <td>1619</td>\n",
       "      <td>395</td>\n",
       "    </tr>\n",
       "  </tbody>\n",
       "</table>\n",
       "</div>"
      ],
      "text/plain": [
       "trending_asin     index      0     1\n",
       "58                r_way   6330  1430\n",
       "9               r_cream  11544  1231\n",
       "7                 r_buy   9070  1039\n",
       "18               r_easy   6835   976\n",
       "16                r_don   3039   827\n",
       "40             r_polish   6594   775\n",
       "62              r_years   8566   773\n",
       "30             r_little   4752   572\n",
       "23               r_good   5511   529\n",
       "48              r_smell   4512   489\n",
       "36              r_makes   4000   445\n",
       "2                r_best   2697   440\n",
       "24                r_got   3935   424\n",
       "33              r_looks   4267   406\n",
       "6              r_bought   1619   395"
      ]
     },
     "execution_count": 151,
     "metadata": {},
     "output_type": "execute_result"
    }
   ],
   "source": [
    "#show graph with different count vectorizer counts, melt function (transpose, trending ,non-trending )\n",
    "df = pd.pivot_table(trending_graph, index = \"trending_asin\",aggfunc = \"sum\").T\n",
    "df= df.reset_index()\n",
    "df= df.sort_values(by=1, ascending=False).head(15)\n",
    "df"
   ]
  },
  {
   "cell_type": "code",
   "execution_count": null,
   "id": "4122f11d",
   "metadata": {
    "id": "4122f11d"
   },
   "outputs": [],
   "source": [
    "df[\"total\"] = df[0]+df[1]\n",
    "df[0]= df[0]/df[\"total\"]\n",
    "df[1]= df[1]/df[\"total\"]"
   ]
  },
  {
   "cell_type": "code",
   "execution_count": null,
   "id": "d34b3fcc",
   "metadata": {
    "id": "d34b3fcc"
   },
   "outputs": [],
   "source": [
    "df = df.rename({'index': 'word', 0: 'not trending', 1: 'trending'}, axis=1)\n",
    "df = df.drop(columns='total')\n"
   ]
  },
  {
   "cell_type": "code",
   "execution_count": null,
   "id": "555ad08e",
   "metadata": {
    "id": "555ad08e"
   },
   "outputs": [],
   "source": [
    "df = df.melt(id_vars = 'word').rename(columns = str.title)"
   ]
  },
  {
   "cell_type": "code",
   "execution_count": null,
   "id": "0d12d9d0",
   "metadata": {
    "id": "0d12d9d0"
   },
   "outputs": [],
   "source": [
    "\n"
   ]
  },
  {
   "cell_type": "code",
   "execution_count": null,
   "id": "6e4a7dd9",
   "metadata": {
    "id": "6e4a7dd9",
    "outputId": "d29414f8-239c-46a6-ce75-9b13cc1778b5"
   },
   "outputs": [
    {
     "data": {
      "image/png": "[encoded data removed]",
      "text/plain": [
       "<Figure size 800x600 with 1 Axes>"
      ]
     },
     "metadata": {},
     "output_type": "display_data"
    }
   ],
   "source": [
    "sns.barplot(x='Word',y='Value', hue='Trending_Asin', data = df)\n",
    "plt.show()"
   ]
  },
  {
   "cell_type": "code",
   "execution_count": null,
   "id": "3ce6c0e6",
   "metadata": {
    "id": "3ce6c0e6",
    "outputId": "dec964b5-466f-4ba5-bfab-97ebf8c8526e"
   },
   "outputs": [
    {
     "data": {
      "text/html": [
       "<div>\n",
       "<style scoped>\n",
       "    .dataframe tbody tr th:only-of-type {\n",
       "        vertical-align: middle;\n",
       "    }\n",
       "\n",
       "    .dataframe tbody tr th {\n",
       "        vertical-align: top;\n",
       "    }\n",
       "\n",
       "    .dataframe thead th {\n",
       "        text-align: right;\n",
       "    }\n",
       "</style>\n",
       "<table border=\"1\" class=\"dataframe\">\n",
       "  <thead>\n",
       "    <tr style=\"text-align: right;\">\n",
       "      <th></th>\n",
       "      <th>overall</th>\n",
       "      <th>vote</th>\n",
       "      <th>verified</th>\n",
       "      <th>asin</th>\n",
       "      <th>reviewText</th>\n",
       "      <th>summary</th>\n",
       "      <th>year</th>\n",
       "      <th>month</th>\n",
       "      <th>trending_asin</th>\n",
       "      <th>title</th>\n",
       "      <th>...</th>\n",
       "      <th>r_bit</th>\n",
       "      <th>r_easy</th>\n",
       "      <th>r_looks</th>\n",
       "      <th>r_got</th>\n",
       "      <th>r_need</th>\n",
       "      <th>r_definitely</th>\n",
       "      <th>r_worth</th>\n",
       "      <th>r_smooth</th>\n",
       "      <th>r_goes</th>\n",
       "      <th>r_favorite</th>\n",
       "    </tr>\n",
       "  </thead>\n",
       "  <tbody>\n",
       "    <tr>\n",
       "      <th>7982</th>\n",
       "      <td>5.0</td>\n",
       "      <td>0.0</td>\n",
       "      <td>1</td>\n",
       "      <td>B000142FVW</td>\n",
       "      <td>nice color and OPI is high quality nail enamel</td>\n",
       "      <td>Five Stars</td>\n",
       "      <td>2016</td>\n",
       "      <td>7</td>\n",
       "      <td>0</td>\n",
       "      <td>OPI Nail Lacquer  Not So Bora Bora ing Pink   ...</td>\n",
       "      <td>...</td>\n",
       "      <td>0</td>\n",
       "      <td>0</td>\n",
       "      <td>0</td>\n",
       "      <td>0</td>\n",
       "      <td>0</td>\n",
       "      <td>0</td>\n",
       "      <td>0</td>\n",
       "      <td>0</td>\n",
       "      <td>0</td>\n",
       "      <td>0</td>\n",
       "    </tr>\n",
       "    <tr>\n",
       "      <th>7370</th>\n",
       "      <td>1.0</td>\n",
       "      <td>2.0</td>\n",
       "      <td>1</td>\n",
       "      <td>B006RBR7NO</td>\n",
       "      <td>Caused a rash all over my face.</td>\n",
       "      <td>Threw it away!</td>\n",
       "      <td>2017</td>\n",
       "      <td>12</td>\n",
       "      <td>1</td>\n",
       "      <td>Bioderma Sensibio H O Micellar Water  Cleansin...</td>\n",
       "      <td>...</td>\n",
       "      <td>0</td>\n",
       "      <td>0</td>\n",
       "      <td>0</td>\n",
       "      <td>0</td>\n",
       "      <td>0</td>\n",
       "      <td>0</td>\n",
       "      <td>0</td>\n",
       "      <td>0</td>\n",
       "      <td>0</td>\n",
       "      <td>0</td>\n",
       "    </tr>\n",
       "  </tbody>\n",
       "</table>\n",
       "<p>2 rows × 133 columns</p>\n",
       "</div>"
      ],
      "text/plain": [
       "      overall  vote  verified        asin  \\\n",
       "7982      5.0   0.0         1  B000142FVW   \n",
       "7370      1.0   2.0         1  B006RBR7NO   \n",
       "\n",
       "                                          reviewText         summary  year  \\\n",
       "7982  nice color and OPI is high quality nail enamel      Five Stars  2016   \n",
       "7370                 Caused a rash all over my face.  Threw it away!  2017   \n",
       "\n",
       "      month  trending_asin                                              title  \\\n",
       "7982      7              0  OPI Nail Lacquer  Not So Bora Bora ing Pink   ...   \n",
       "7370     12              1  Bioderma Sensibio H O Micellar Water  Cleansin...   \n",
       "\n",
       "      ...  r_bit  r_easy r_looks  r_got  r_need r_definitely r_worth  \\\n",
       "7982  ...      0       0       0      0       0            0       0   \n",
       "7370  ...      0       0       0      0       0            0       0   \n",
       "\n",
       "      r_smooth  r_goes  r_favorite  \n",
       "7982         0       0           0  \n",
       "7370         0       0           0  \n",
       "\n",
       "[2 rows x 133 columns]"
      ]
     },
     "execution_count": 83,
     "metadata": {},
     "output_type": "execute_result"
    }
   ],
   "source": [
    "#concatenating review vector to train \n",
    "train = pd.concat([train.reset_index(drop=True), review_vect_df.reset_index(drop=True)], axis=1)\n",
    "train.sample(2)"
   ]
  },
  {
   "cell_type": "markdown",
   "id": "6b0d4759",
   "metadata": {
    "id": "6b0d4759"
   },
   "source": [
    "### count vectorizer on review headline description"
   ]
  },
  {
   "cell_type": "code",
   "execution_count": null,
   "id": "ab6a504d",
   "metadata": {
    "id": "ab6a504d"
   },
   "outputs": [],
   "source": [
    "fig,(ax1,ax2)=plt.subplots(1,2,figsize=(10,5))\n",
    "review_len=train[train['trending_asin']==1]['reviewText'].str.len()\n",
    "ax1.hist(review_len,color='blue',bins=100)\n",
    "ax1.set_title('Trending Products')\n",
    "tweet_len=train[train['trending_asin']==0]['reviewText'].str.len()\n",
    "ax2.hist(review_len,color='red',bins=100)\n",
    "ax2.set_title('Non Trending products')\n",
    "fig.suptitle('Characters in Review Text')\n",
    "plt.show()"
   ]
  },
  {
   "cell_type": "code",
   "execution_count": null,
   "id": "dab3728f",
   "metadata": {
    "id": "dab3728f",
    "outputId": "3c356ed8-2267-4312-b6f0-effcef23c805"
   },
   "outputs": [
    {
     "data": {
      "text/plain": [
       "Index(['overall', 'vote', 'verified', 'asin', 'reviewText', 'summary', 'year',\n",
       "       'month', 'trending_asin', 'title',\n",
       "       ...\n",
       "       'r_bit', 'r_easy', 'r_looks', 'r_got', 'r_need', 'r_definitely',\n",
       "       'r_worth', 'r_smooth', 'r_goes', 'r_favorite'],\n",
       "      dtype='object', length=133)"
      ]
     },
     "execution_count": 87,
     "metadata": {},
     "output_type": "execute_result"
    }
   ],
   "source": [
    "train.columns"
   ]
  },
  {
   "cell_type": "code",
   "execution_count": null,
   "id": "94dd0a95",
   "metadata": {
    "id": "94dd0a95",
    "outputId": "ed204c1b-8fd4-4228-9e6f-876703d51843"
   },
   "outputs": [
    {
     "name": "stderr",
     "output_type": "stream",
     "text": [
      "/Users/mac/opt/anaconda3/lib/python3.9/site-packages/sklearn/utils/deprecation.py:87: FutureWarning: Function get_feature_names is deprecated; get_feature_names is deprecated in 1.0 and will be removed in 1.2. Please use get_feature_names_out instead.\n",
      "  warnings.warn(msg, category=FutureWarning)\n"
     ]
    },
    {
     "data": {
      "text/html": [
       "<div>\n",
       "<style scoped>\n",
       "    .dataframe tbody tr th:only-of-type {\n",
       "        vertical-align: middle;\n",
       "    }\n",
       "\n",
       "    .dataframe tbody tr th {\n",
       "        vertical-align: top;\n",
       "    }\n",
       "\n",
       "    .dataframe thead th {\n",
       "        text-align: right;\n",
       "    }\n",
       "</style>\n",
       "<table border=\"1\" class=\"dataframe\">\n",
       "  <thead>\n",
       "    <tr style=\"text-align: right;\">\n",
       "      <th></th>\n",
       "      <th>039</th>\n",
       "      <th>090d845f</th>\n",
       "      <th>10</th>\n",
       "      <th>1000</th>\n",
       "      <th>1000_pt0_sx300__</th>\n",
       "      <th>15</th>\n",
       "      <th>17200</th>\n",
       "      <th>1981</th>\n",
       "      <th>20</th>\n",
       "      <th>200</th>\n",
       "      <th>...</th>\n",
       "      <th>women</th>\n",
       "      <th>work</th>\n",
       "      <th>works</th>\n",
       "      <th>world</th>\n",
       "      <th>worldwide</th>\n",
       "      <th>year</th>\n",
       "      <th>years</th>\n",
       "      <th>yet</th>\n",
       "      <th>you</th>\n",
       "      <th>your</th>\n",
       "    </tr>\n",
       "  </thead>\n",
       "  <tbody>\n",
       "    <tr>\n",
       "      <th>0</th>\n",
       "      <td>0</td>\n",
       "      <td>0</td>\n",
       "      <td>0</td>\n",
       "      <td>0</td>\n",
       "      <td>0</td>\n",
       "      <td>0</td>\n",
       "      <td>0</td>\n",
       "      <td>0</td>\n",
       "      <td>0</td>\n",
       "      <td>0</td>\n",
       "      <td>...</td>\n",
       "      <td>0</td>\n",
       "      <td>0</td>\n",
       "      <td>0</td>\n",
       "      <td>0</td>\n",
       "      <td>0</td>\n",
       "      <td>0</td>\n",
       "      <td>0</td>\n",
       "      <td>0</td>\n",
       "      <td>0</td>\n",
       "      <td>0</td>\n",
       "    </tr>\n",
       "    <tr>\n",
       "      <th>1</th>\n",
       "      <td>0</td>\n",
       "      <td>0</td>\n",
       "      <td>0</td>\n",
       "      <td>0</td>\n",
       "      <td>0</td>\n",
       "      <td>0</td>\n",
       "      <td>0</td>\n",
       "      <td>0</td>\n",
       "      <td>0</td>\n",
       "      <td>0</td>\n",
       "      <td>...</td>\n",
       "      <td>0</td>\n",
       "      <td>0</td>\n",
       "      <td>1</td>\n",
       "      <td>0</td>\n",
       "      <td>0</td>\n",
       "      <td>0</td>\n",
       "      <td>0</td>\n",
       "      <td>0</td>\n",
       "      <td>1</td>\n",
       "      <td>0</td>\n",
       "    </tr>\n",
       "    <tr>\n",
       "      <th>2</th>\n",
       "      <td>0</td>\n",
       "      <td>0</td>\n",
       "      <td>0</td>\n",
       "      <td>0</td>\n",
       "      <td>0</td>\n",
       "      <td>0</td>\n",
       "      <td>0</td>\n",
       "      <td>0</td>\n",
       "      <td>0</td>\n",
       "      <td>0</td>\n",
       "      <td>...</td>\n",
       "      <td>0</td>\n",
       "      <td>0</td>\n",
       "      <td>0</td>\n",
       "      <td>0</td>\n",
       "      <td>0</td>\n",
       "      <td>0</td>\n",
       "      <td>0</td>\n",
       "      <td>1</td>\n",
       "      <td>0</td>\n",
       "      <td>0</td>\n",
       "    </tr>\n",
       "    <tr>\n",
       "      <th>3</th>\n",
       "      <td>0</td>\n",
       "      <td>0</td>\n",
       "      <td>0</td>\n",
       "      <td>0</td>\n",
       "      <td>0</td>\n",
       "      <td>0</td>\n",
       "      <td>1</td>\n",
       "      <td>0</td>\n",
       "      <td>1</td>\n",
       "      <td>0</td>\n",
       "      <td>...</td>\n",
       "      <td>0</td>\n",
       "      <td>0</td>\n",
       "      <td>0</td>\n",
       "      <td>0</td>\n",
       "      <td>0</td>\n",
       "      <td>0</td>\n",
       "      <td>0</td>\n",
       "      <td>0</td>\n",
       "      <td>0</td>\n",
       "      <td>1</td>\n",
       "    </tr>\n",
       "    <tr>\n",
       "      <th>4</th>\n",
       "      <td>0</td>\n",
       "      <td>0</td>\n",
       "      <td>0</td>\n",
       "      <td>0</td>\n",
       "      <td>0</td>\n",
       "      <td>0</td>\n",
       "      <td>0</td>\n",
       "      <td>0</td>\n",
       "      <td>0</td>\n",
       "      <td>0</td>\n",
       "      <td>...</td>\n",
       "      <td>0</td>\n",
       "      <td>0</td>\n",
       "      <td>0</td>\n",
       "      <td>0</td>\n",
       "      <td>0</td>\n",
       "      <td>0</td>\n",
       "      <td>0</td>\n",
       "      <td>1</td>\n",
       "      <td>1</td>\n",
       "      <td>1</td>\n",
       "    </tr>\n",
       "    <tr>\n",
       "      <th>...</th>\n",
       "      <td>...</td>\n",
       "      <td>...</td>\n",
       "      <td>...</td>\n",
       "      <td>...</td>\n",
       "      <td>...</td>\n",
       "      <td>...</td>\n",
       "      <td>...</td>\n",
       "      <td>...</td>\n",
       "      <td>...</td>\n",
       "      <td>...</td>\n",
       "      <td>...</td>\n",
       "      <td>...</td>\n",
       "      <td>...</td>\n",
       "      <td>...</td>\n",
       "      <td>...</td>\n",
       "      <td>...</td>\n",
       "      <td>...</td>\n",
       "      <td>...</td>\n",
       "      <td>...</td>\n",
       "      <td>...</td>\n",
       "      <td>...</td>\n",
       "    </tr>\n",
       "    <tr>\n",
       "      <th>42593</th>\n",
       "      <td>0</td>\n",
       "      <td>0</td>\n",
       "      <td>0</td>\n",
       "      <td>0</td>\n",
       "      <td>0</td>\n",
       "      <td>0</td>\n",
       "      <td>0</td>\n",
       "      <td>0</td>\n",
       "      <td>0</td>\n",
       "      <td>0</td>\n",
       "      <td>...</td>\n",
       "      <td>0</td>\n",
       "      <td>0</td>\n",
       "      <td>0</td>\n",
       "      <td>0</td>\n",
       "      <td>0</td>\n",
       "      <td>0</td>\n",
       "      <td>0</td>\n",
       "      <td>0</td>\n",
       "      <td>1</td>\n",
       "      <td>0</td>\n",
       "    </tr>\n",
       "    <tr>\n",
       "      <th>42594</th>\n",
       "      <td>0</td>\n",
       "      <td>0</td>\n",
       "      <td>0</td>\n",
       "      <td>0</td>\n",
       "      <td>0</td>\n",
       "      <td>0</td>\n",
       "      <td>0</td>\n",
       "      <td>0</td>\n",
       "      <td>0</td>\n",
       "      <td>0</td>\n",
       "      <td>...</td>\n",
       "      <td>0</td>\n",
       "      <td>0</td>\n",
       "      <td>0</td>\n",
       "      <td>1</td>\n",
       "      <td>0</td>\n",
       "      <td>0</td>\n",
       "      <td>0</td>\n",
       "      <td>0</td>\n",
       "      <td>0</td>\n",
       "      <td>0</td>\n",
       "    </tr>\n",
       "    <tr>\n",
       "      <th>42595</th>\n",
       "      <td>1</td>\n",
       "      <td>0</td>\n",
       "      <td>0</td>\n",
       "      <td>0</td>\n",
       "      <td>0</td>\n",
       "      <td>0</td>\n",
       "      <td>0</td>\n",
       "      <td>0</td>\n",
       "      <td>0</td>\n",
       "      <td>0</td>\n",
       "      <td>...</td>\n",
       "      <td>0</td>\n",
       "      <td>2</td>\n",
       "      <td>0</td>\n",
       "      <td>1</td>\n",
       "      <td>0</td>\n",
       "      <td>0</td>\n",
       "      <td>0</td>\n",
       "      <td>0</td>\n",
       "      <td>1</td>\n",
       "      <td>0</td>\n",
       "    </tr>\n",
       "    <tr>\n",
       "      <th>42596</th>\n",
       "      <td>0</td>\n",
       "      <td>0</td>\n",
       "      <td>0</td>\n",
       "      <td>0</td>\n",
       "      <td>0</td>\n",
       "      <td>0</td>\n",
       "      <td>0</td>\n",
       "      <td>0</td>\n",
       "      <td>0</td>\n",
       "      <td>0</td>\n",
       "      <td>...</td>\n",
       "      <td>0</td>\n",
       "      <td>0</td>\n",
       "      <td>0</td>\n",
       "      <td>1</td>\n",
       "      <td>0</td>\n",
       "      <td>0</td>\n",
       "      <td>0</td>\n",
       "      <td>0</td>\n",
       "      <td>1</td>\n",
       "      <td>0</td>\n",
       "    </tr>\n",
       "    <tr>\n",
       "      <th>42597</th>\n",
       "      <td>0</td>\n",
       "      <td>0</td>\n",
       "      <td>0</td>\n",
       "      <td>0</td>\n",
       "      <td>0</td>\n",
       "      <td>0</td>\n",
       "      <td>0</td>\n",
       "      <td>0</td>\n",
       "      <td>0</td>\n",
       "      <td>0</td>\n",
       "      <td>...</td>\n",
       "      <td>0</td>\n",
       "      <td>0</td>\n",
       "      <td>0</td>\n",
       "      <td>0</td>\n",
       "      <td>0</td>\n",
       "      <td>0</td>\n",
       "      <td>0</td>\n",
       "      <td>0</td>\n",
       "      <td>0</td>\n",
       "      <td>0</td>\n",
       "    </tr>\n",
       "  </tbody>\n",
       "</table>\n",
       "<p>42598 rows × 534 columns</p>\n",
       "</div>"
      ],
      "text/plain": [
       "       039  090d845f  10  1000  1000_pt0_sx300__  15  17200  1981  20  200  \\\n",
       "0        0         0   0     0                 0   0      0     0   0    0   \n",
       "1        0         0   0     0                 0   0      0     0   0    0   \n",
       "2        0         0   0     0                 0   0      0     0   0    0   \n",
       "3        0         0   0     0                 0   0      1     0   1    0   \n",
       "4        0         0   0     0                 0   0      0     0   0    0   \n",
       "...    ...       ...  ..   ...               ...  ..    ...   ...  ..  ...   \n",
       "42593    0         0   0     0                 0   0      0     0   0    0   \n",
       "42594    0         0   0     0                 0   0      0     0   0    0   \n",
       "42595    1         0   0     0                 0   0      0     0   0    0   \n",
       "42596    0         0   0     0                 0   0      0     0   0    0   \n",
       "42597    0         0   0     0                 0   0      0     0   0    0   \n",
       "\n",
       "       ...  women  work  works  world  worldwide  year  years  yet  you  your  \n",
       "0      ...      0     0      0      0          0     0      0    0    0     0  \n",
       "1      ...      0     0      1      0          0     0      0    0    1     0  \n",
       "2      ...      0     0      0      0          0     0      0    1    0     0  \n",
       "3      ...      0     0      0      0          0     0      0    0    0     1  \n",
       "4      ...      0     0      0      0          0     0      0    1    1     1  \n",
       "...    ...    ...   ...    ...    ...        ...   ...    ...  ...  ...   ...  \n",
       "42593  ...      0     0      0      0          0     0      0    0    1     0  \n",
       "42594  ...      0     0      0      1          0     0      0    0    0     0  \n",
       "42595  ...      0     2      0      1          0     0      0    0    1     0  \n",
       "42596  ...      0     0      0      1          0     0      0    0    1     0  \n",
       "42597  ...      0     0      0      0          0     0      0    0    0     0  \n",
       "\n",
       "[42598 rows x 534 columns]"
      ]
     },
     "metadata": {},
     "output_type": "display_data"
    }
   ],
   "source": [
    "### count vectorizer on review headline description\n",
    "bagofwords = CountVectorizer(min_df = 0.05).fit(train[\"product_description\"])\n",
    "small_transformed = bagofwords.transform(train[\"product_description\"])\n",
    "\n",
    "my_df = pd.DataFrame(columns=bagofwords.get_feature_names(), data=small_transformed.toarray())\n",
    "display(my_df)"
   ]
  },
  {
   "cell_type": "code",
   "execution_count": null,
   "id": "61294d6f",
   "metadata": {
    "id": "61294d6f"
   },
   "outputs": [],
   "source": [
    "#starting TF-IDF\n",
    "from sklearn.feature_extraction.text import TfidfVectorizer\n",
    "\n",
    "tfidf = TfidfVectorizer(min_df = 0.05, max_features= 200\n",
    "                         ).fit(train[\"product_description\"])\n",
    "small_transformed = tfidf.transform(train[\"product_description\"])\n",
    "\n"
   ]
  },
  {
   "cell_type": "code",
   "execution_count": null,
   "id": "97d7a39e",
   "metadata": {
    "id": "97d7a39e"
   },
   "outputs": [],
   "source": [
    "my_df = pd.DataFrame(columns=(f\"d_{tfidf.get_feature_names()}\"), data=small_transformed.toarray())\n",
    "display(my_df)"
   ]
  },
  {
   "cell_type": "code",
   "execution_count": null,
   "id": "732f7f21",
   "metadata": {
    "id": "732f7f21",
    "outputId": "4ce5e0f6-b2dc-445d-c660-81ad8a1ca422"
   },
   "outputs": [
    {
     "data": {
      "text/plain": [
       "TfidfVectorizer(max_features=200, min_df=0.05)"
      ]
     },
     "execution_count": 132,
     "metadata": {},
     "output_type": "execute_result"
    }
   ],
   "source": [
    "tfidf"
   ]
  },
  {
   "cell_type": "code",
   "execution_count": null,
   "id": "56f29a1e",
   "metadata": {
    "id": "56f29a1e",
    "outputId": "a120b3de-dbcc-467a-ce5d-c5161659b7e6"
   },
   "outputs": [
    {
     "name": "stderr",
     "output_type": "stream",
     "text": [
      "/Users/mac/opt/anaconda3/lib/python3.9/site-packages/sklearn/utils/deprecation.py:87: FutureWarning: Function get_feature_names is deprecated; get_feature_names is deprecated in 1.0 and will be removed in 1.2. Please use get_feature_names_out instead.\n",
      "  warnings.warn(msg, category=FutureWarning)\n"
     ]
    },
    {
     "data": {
      "text/html": [
       "<div>\n",
       "<style scoped>\n",
       "    .dataframe tbody tr th:only-of-type {\n",
       "        vertical-align: middle;\n",
       "    }\n",
       "\n",
       "    .dataframe tbody tr th {\n",
       "        vertical-align: top;\n",
       "    }\n",
       "\n",
       "    .dataframe thead th {\n",
       "        text-align: right;\n",
       "    }\n",
       "</style>\n",
       "<table border=\"1\" class=\"dataframe\">\n",
       "  <thead>\n",
       "    <tr style=\"text-align: right;\">\n",
       "      <th></th>\n",
       "      <th>039</th>\n",
       "      <th>1000</th>\n",
       "      <th>1000_pt0_sx300__</th>\n",
       "      <th>_blank</th>\n",
       "      <th>_cr0</th>\n",
       "      <th>_sl220__</th>\n",
       "      <th>_sl300__</th>\n",
       "      <th>acid</th>\n",
       "      <th>after</th>\n",
       "      <th>all</th>\n",
       "      <th>...</th>\n",
       "      <th>which</th>\n",
       "      <th>while</th>\n",
       "      <th>will</th>\n",
       "      <th>with</th>\n",
       "      <th>without</th>\n",
       "      <th>world</th>\n",
       "      <th>worldwide</th>\n",
       "      <th>years</th>\n",
       "      <th>you</th>\n",
       "      <th>your</th>\n",
       "    </tr>\n",
       "  </thead>\n",
       "  <tbody>\n",
       "    <tr>\n",
       "      <th>0</th>\n",
       "      <td>0.000000</td>\n",
       "      <td>0.0</td>\n",
       "      <td>0.0</td>\n",
       "      <td>0.0</td>\n",
       "      <td>0.000000</td>\n",
       "      <td>0.0</td>\n",
       "      <td>0.0</td>\n",
       "      <td>0.000000</td>\n",
       "      <td>0.000000</td>\n",
       "      <td>0.101884</td>\n",
       "      <td>...</td>\n",
       "      <td>0.000000</td>\n",
       "      <td>0.063490</td>\n",
       "      <td>0.0</td>\n",
       "      <td>0.034358</td>\n",
       "      <td>0.078736</td>\n",
       "      <td>0.000000</td>\n",
       "      <td>0.0</td>\n",
       "      <td>0.0</td>\n",
       "      <td>0.000000</td>\n",
       "      <td>0.000000</td>\n",
       "    </tr>\n",
       "    <tr>\n",
       "      <th>1</th>\n",
       "      <td>0.000000</td>\n",
       "      <td>0.0</td>\n",
       "      <td>0.0</td>\n",
       "      <td>0.0</td>\n",
       "      <td>0.000000</td>\n",
       "      <td>0.0</td>\n",
       "      <td>0.0</td>\n",
       "      <td>0.000000</td>\n",
       "      <td>0.000000</td>\n",
       "      <td>0.119753</td>\n",
       "      <td>...</td>\n",
       "      <td>0.000000</td>\n",
       "      <td>0.000000</td>\n",
       "      <td>0.0</td>\n",
       "      <td>0.161538</td>\n",
       "      <td>0.000000</td>\n",
       "      <td>0.000000</td>\n",
       "      <td>0.0</td>\n",
       "      <td>0.0</td>\n",
       "      <td>0.123912</td>\n",
       "      <td>0.000000</td>\n",
       "    </tr>\n",
       "    <tr>\n",
       "      <th>2</th>\n",
       "      <td>0.000000</td>\n",
       "      <td>0.0</td>\n",
       "      <td>0.0</td>\n",
       "      <td>0.0</td>\n",
       "      <td>0.203939</td>\n",
       "      <td>0.0</td>\n",
       "      <td>0.0</td>\n",
       "      <td>0.000000</td>\n",
       "      <td>0.000000</td>\n",
       "      <td>0.000000</td>\n",
       "      <td>...</td>\n",
       "      <td>0.071004</td>\n",
       "      <td>0.000000</td>\n",
       "      <td>0.0</td>\n",
       "      <td>0.081673</td>\n",
       "      <td>0.000000</td>\n",
       "      <td>0.000000</td>\n",
       "      <td>0.0</td>\n",
       "      <td>0.0</td>\n",
       "      <td>0.000000</td>\n",
       "      <td>0.000000</td>\n",
       "    </tr>\n",
       "    <tr>\n",
       "      <th>3</th>\n",
       "      <td>0.000000</td>\n",
       "      <td>0.0</td>\n",
       "      <td>0.0</td>\n",
       "      <td>0.0</td>\n",
       "      <td>0.000000</td>\n",
       "      <td>0.0</td>\n",
       "      <td>0.0</td>\n",
       "      <td>0.000000</td>\n",
       "      <td>0.000000</td>\n",
       "      <td>0.070864</td>\n",
       "      <td>...</td>\n",
       "      <td>0.000000</td>\n",
       "      <td>0.000000</td>\n",
       "      <td>0.0</td>\n",
       "      <td>0.047795</td>\n",
       "      <td>0.000000</td>\n",
       "      <td>0.000000</td>\n",
       "      <td>0.0</td>\n",
       "      <td>0.0</td>\n",
       "      <td>0.000000</td>\n",
       "      <td>0.070410</td>\n",
       "    </tr>\n",
       "    <tr>\n",
       "      <th>4</th>\n",
       "      <td>0.000000</td>\n",
       "      <td>0.0</td>\n",
       "      <td>0.0</td>\n",
       "      <td>0.0</td>\n",
       "      <td>0.000000</td>\n",
       "      <td>0.0</td>\n",
       "      <td>0.0</td>\n",
       "      <td>0.000000</td>\n",
       "      <td>0.059267</td>\n",
       "      <td>0.041532</td>\n",
       "      <td>...</td>\n",
       "      <td>0.219174</td>\n",
       "      <td>0.000000</td>\n",
       "      <td>0.0</td>\n",
       "      <td>0.112047</td>\n",
       "      <td>0.000000</td>\n",
       "      <td>0.000000</td>\n",
       "      <td>0.0</td>\n",
       "      <td>0.0</td>\n",
       "      <td>0.042974</td>\n",
       "      <td>0.041266</td>\n",
       "    </tr>\n",
       "    <tr>\n",
       "      <th>...</th>\n",
       "      <td>...</td>\n",
       "      <td>...</td>\n",
       "      <td>...</td>\n",
       "      <td>...</td>\n",
       "      <td>...</td>\n",
       "      <td>...</td>\n",
       "      <td>...</td>\n",
       "      <td>...</td>\n",
       "      <td>...</td>\n",
       "      <td>...</td>\n",
       "      <td>...</td>\n",
       "      <td>...</td>\n",
       "      <td>...</td>\n",
       "      <td>...</td>\n",
       "      <td>...</td>\n",
       "      <td>...</td>\n",
       "      <td>...</td>\n",
       "      <td>...</td>\n",
       "      <td>...</td>\n",
       "      <td>...</td>\n",
       "      <td>...</td>\n",
       "    </tr>\n",
       "    <tr>\n",
       "      <th>42593</th>\n",
       "      <td>0.000000</td>\n",
       "      <td>0.0</td>\n",
       "      <td>0.0</td>\n",
       "      <td>0.0</td>\n",
       "      <td>0.000000</td>\n",
       "      <td>0.0</td>\n",
       "      <td>0.0</td>\n",
       "      <td>0.000000</td>\n",
       "      <td>0.000000</td>\n",
       "      <td>0.000000</td>\n",
       "      <td>...</td>\n",
       "      <td>0.000000</td>\n",
       "      <td>0.077114</td>\n",
       "      <td>0.0</td>\n",
       "      <td>0.292119</td>\n",
       "      <td>0.000000</td>\n",
       "      <td>0.000000</td>\n",
       "      <td>0.0</td>\n",
       "      <td>0.0</td>\n",
       "      <td>0.064022</td>\n",
       "      <td>0.000000</td>\n",
       "    </tr>\n",
       "    <tr>\n",
       "      <th>42594</th>\n",
       "      <td>0.000000</td>\n",
       "      <td>0.0</td>\n",
       "      <td>0.0</td>\n",
       "      <td>0.0</td>\n",
       "      <td>0.000000</td>\n",
       "      <td>0.0</td>\n",
       "      <td>0.0</td>\n",
       "      <td>0.000000</td>\n",
       "      <td>0.000000</td>\n",
       "      <td>0.066395</td>\n",
       "      <td>...</td>\n",
       "      <td>0.116794</td>\n",
       "      <td>0.000000</td>\n",
       "      <td>0.0</td>\n",
       "      <td>0.179123</td>\n",
       "      <td>0.000000</td>\n",
       "      <td>0.094017</td>\n",
       "      <td>0.0</td>\n",
       "      <td>0.0</td>\n",
       "      <td>0.000000</td>\n",
       "      <td>0.000000</td>\n",
       "    </tr>\n",
       "    <tr>\n",
       "      <th>42595</th>\n",
       "      <td>0.062414</td>\n",
       "      <td>0.0</td>\n",
       "      <td>0.0</td>\n",
       "      <td>0.0</td>\n",
       "      <td>0.000000</td>\n",
       "      <td>0.0</td>\n",
       "      <td>0.0</td>\n",
       "      <td>0.076332</td>\n",
       "      <td>0.057536</td>\n",
       "      <td>0.040319</td>\n",
       "      <td>...</td>\n",
       "      <td>0.070924</td>\n",
       "      <td>0.050250</td>\n",
       "      <td>0.0</td>\n",
       "      <td>0.108774</td>\n",
       "      <td>0.000000</td>\n",
       "      <td>0.057093</td>\n",
       "      <td>0.0</td>\n",
       "      <td>0.0</td>\n",
       "      <td>0.041719</td>\n",
       "      <td>0.000000</td>\n",
       "    </tr>\n",
       "    <tr>\n",
       "      <th>42596</th>\n",
       "      <td>0.000000</td>\n",
       "      <td>0.0</td>\n",
       "      <td>0.0</td>\n",
       "      <td>0.0</td>\n",
       "      <td>0.000000</td>\n",
       "      <td>0.0</td>\n",
       "      <td>0.0</td>\n",
       "      <td>0.000000</td>\n",
       "      <td>0.000000</td>\n",
       "      <td>0.000000</td>\n",
       "      <td>...</td>\n",
       "      <td>0.000000</td>\n",
       "      <td>0.000000</td>\n",
       "      <td>0.0</td>\n",
       "      <td>0.118066</td>\n",
       "      <td>0.000000</td>\n",
       "      <td>0.049576</td>\n",
       "      <td>0.0</td>\n",
       "      <td>0.0</td>\n",
       "      <td>0.036226</td>\n",
       "      <td>0.000000</td>\n",
       "    </tr>\n",
       "    <tr>\n",
       "      <th>42597</th>\n",
       "      <td>0.000000</td>\n",
       "      <td>0.0</td>\n",
       "      <td>0.0</td>\n",
       "      <td>0.0</td>\n",
       "      <td>0.000000</td>\n",
       "      <td>0.0</td>\n",
       "      <td>0.0</td>\n",
       "      <td>0.000000</td>\n",
       "      <td>0.000000</td>\n",
       "      <td>0.101884</td>\n",
       "      <td>...</td>\n",
       "      <td>0.000000</td>\n",
       "      <td>0.063490</td>\n",
       "      <td>0.0</td>\n",
       "      <td>0.034358</td>\n",
       "      <td>0.078736</td>\n",
       "      <td>0.000000</td>\n",
       "      <td>0.0</td>\n",
       "      <td>0.0</td>\n",
       "      <td>0.000000</td>\n",
       "      <td>0.000000</td>\n",
       "    </tr>\n",
       "  </tbody>\n",
       "</table>\n",
       "<p>42598 rows × 200 columns</p>\n",
       "</div>"
      ],
      "text/plain": [
       "            039  1000  1000_pt0_sx300__  _blank      _cr0  _sl220__  _sl300__  \\\n",
       "0      0.000000   0.0               0.0     0.0  0.000000       0.0       0.0   \n",
       "1      0.000000   0.0               0.0     0.0  0.000000       0.0       0.0   \n",
       "2      0.000000   0.0               0.0     0.0  0.203939       0.0       0.0   \n",
       "3      0.000000   0.0               0.0     0.0  0.000000       0.0       0.0   \n",
       "4      0.000000   0.0               0.0     0.0  0.000000       0.0       0.0   \n",
       "...         ...   ...               ...     ...       ...       ...       ...   \n",
       "42593  0.000000   0.0               0.0     0.0  0.000000       0.0       0.0   \n",
       "42594  0.000000   0.0               0.0     0.0  0.000000       0.0       0.0   \n",
       "42595  0.062414   0.0               0.0     0.0  0.000000       0.0       0.0   \n",
       "42596  0.000000   0.0               0.0     0.0  0.000000       0.0       0.0   \n",
       "42597  0.000000   0.0               0.0     0.0  0.000000       0.0       0.0   \n",
       "\n",
       "           acid     after       all  ...     which     while  will      with  \\\n",
       "0      0.000000  0.000000  0.101884  ...  0.000000  0.063490   0.0  0.034358   \n",
       "1      0.000000  0.000000  0.119753  ...  0.000000  0.000000   0.0  0.161538   \n",
       "2      0.000000  0.000000  0.000000  ...  0.071004  0.000000   0.0  0.081673   \n",
       "3      0.000000  0.000000  0.070864  ...  0.000000  0.000000   0.0  0.047795   \n",
       "4      0.000000  0.059267  0.041532  ...  0.219174  0.000000   0.0  0.112047   \n",
       "...         ...       ...       ...  ...       ...       ...   ...       ...   \n",
       "42593  0.000000  0.000000  0.000000  ...  0.000000  0.077114   0.0  0.292119   \n",
       "42594  0.000000  0.000000  0.066395  ...  0.116794  0.000000   0.0  0.179123   \n",
       "42595  0.076332  0.057536  0.040319  ...  0.070924  0.050250   0.0  0.108774   \n",
       "42596  0.000000  0.000000  0.000000  ...  0.000000  0.000000   0.0  0.118066   \n",
       "42597  0.000000  0.000000  0.101884  ...  0.000000  0.063490   0.0  0.034358   \n",
       "\n",
       "        without     world  worldwide  years       you      your  \n",
       "0      0.078736  0.000000        0.0    0.0  0.000000  0.000000  \n",
       "1      0.000000  0.000000        0.0    0.0  0.123912  0.000000  \n",
       "2      0.000000  0.000000        0.0    0.0  0.000000  0.000000  \n",
       "3      0.000000  0.000000        0.0    0.0  0.000000  0.070410  \n",
       "4      0.000000  0.000000        0.0    0.0  0.042974  0.041266  \n",
       "...         ...       ...        ...    ...       ...       ...  \n",
       "42593  0.000000  0.000000        0.0    0.0  0.064022  0.000000  \n",
       "42594  0.000000  0.094017        0.0    0.0  0.000000  0.000000  \n",
       "42595  0.000000  0.057093        0.0    0.0  0.041719  0.000000  \n",
       "42596  0.000000  0.049576        0.0    0.0  0.036226  0.000000  \n",
       "42597  0.078736  0.000000        0.0    0.0  0.000000  0.000000  \n",
       "\n",
       "[42598 rows x 200 columns]"
      ]
     },
     "metadata": {},
     "output_type": "display_data"
    }
   ],
   "source": [
    "my_df = pd.DataFrame(columns=tfidf.get_feature_names(), data=small_transformed.toarray())\n",
    "display(my_df)"
   ]
  },
  {
   "cell_type": "code",
   "execution_count": null,
   "id": "eaac3436",
   "metadata": {
    "id": "eaac3436",
    "outputId": "09d91aee-c0d2-424f-8b4b-bcbb7eb6bacf"
   },
   "outputs": [
    {
     "name": "stderr",
     "output_type": "stream",
     "text": [
      "/Users/mac/opt/anaconda3/lib/python3.9/site-packages/sklearn/utils/deprecation.py:87: FutureWarning: Function get_feature_names is deprecated; get_feature_names is deprecated in 1.0 and will be removed in 1.2. Please use get_feature_names_out instead.\n",
      "  warnings.warn(msg, category=FutureWarning)\n"
     ]
    },
    {
     "data": {
      "text/html": [
       "<div>\n",
       "<style scoped>\n",
       "    .dataframe tbody tr th:only-of-type {\n",
       "        vertical-align: middle;\n",
       "    }\n",
       "\n",
       "    .dataframe tbody tr th {\n",
       "        vertical-align: top;\n",
       "    }\n",
       "\n",
       "    .dataframe thead th {\n",
       "        text-align: right;\n",
       "    }\n",
       "</style>\n",
       "<table border=\"1\" class=\"dataframe\">\n",
       "  <thead>\n",
       "    <tr style=\"text-align: right;\">\n",
       "      <th></th>\n",
       "      <th>d_039</th>\n",
       "      <th>d_1000</th>\n",
       "      <th>d_1000_pt0_sx300__</th>\n",
       "      <th>d__blank</th>\n",
       "      <th>d__cr0</th>\n",
       "      <th>d__sl220__</th>\n",
       "      <th>d__sl300__</th>\n",
       "      <th>d_acid</th>\n",
       "      <th>d_after</th>\n",
       "      <th>d_all</th>\n",
       "      <th>...</th>\n",
       "      <th>d_which</th>\n",
       "      <th>d_while</th>\n",
       "      <th>d_will</th>\n",
       "      <th>d_with</th>\n",
       "      <th>d_without</th>\n",
       "      <th>d_world</th>\n",
       "      <th>d_worldwide</th>\n",
       "      <th>d_years</th>\n",
       "      <th>d_you</th>\n",
       "      <th>d_your</th>\n",
       "    </tr>\n",
       "  </thead>\n",
       "  <tbody>\n",
       "    <tr>\n",
       "      <th>81887</th>\n",
       "      <td>NaN</td>\n",
       "      <td>NaN</td>\n",
       "      <td>NaN</td>\n",
       "      <td>NaN</td>\n",
       "      <td>NaN</td>\n",
       "      <td>NaN</td>\n",
       "      <td>NaN</td>\n",
       "      <td>NaN</td>\n",
       "      <td>NaN</td>\n",
       "      <td>NaN</td>\n",
       "      <td>...</td>\n",
       "      <td>NaN</td>\n",
       "      <td>NaN</td>\n",
       "      <td>NaN</td>\n",
       "      <td>NaN</td>\n",
       "      <td>NaN</td>\n",
       "      <td>NaN</td>\n",
       "      <td>NaN</td>\n",
       "      <td>NaN</td>\n",
       "      <td>NaN</td>\n",
       "      <td>NaN</td>\n",
       "    </tr>\n",
       "    <tr>\n",
       "      <th>64609</th>\n",
       "      <td>NaN</td>\n",
       "      <td>NaN</td>\n",
       "      <td>NaN</td>\n",
       "      <td>NaN</td>\n",
       "      <td>NaN</td>\n",
       "      <td>NaN</td>\n",
       "      <td>NaN</td>\n",
       "      <td>NaN</td>\n",
       "      <td>NaN</td>\n",
       "      <td>NaN</td>\n",
       "      <td>...</td>\n",
       "      <td>NaN</td>\n",
       "      <td>NaN</td>\n",
       "      <td>NaN</td>\n",
       "      <td>NaN</td>\n",
       "      <td>NaN</td>\n",
       "      <td>NaN</td>\n",
       "      <td>NaN</td>\n",
       "      <td>NaN</td>\n",
       "      <td>NaN</td>\n",
       "      <td>NaN</td>\n",
       "    </tr>\n",
       "    <tr>\n",
       "      <th>17752</th>\n",
       "      <td>NaN</td>\n",
       "      <td>NaN</td>\n",
       "      <td>NaN</td>\n",
       "      <td>NaN</td>\n",
       "      <td>NaN</td>\n",
       "      <td>NaN</td>\n",
       "      <td>NaN</td>\n",
       "      <td>NaN</td>\n",
       "      <td>NaN</td>\n",
       "      <td>NaN</td>\n",
       "      <td>...</td>\n",
       "      <td>NaN</td>\n",
       "      <td>NaN</td>\n",
       "      <td>NaN</td>\n",
       "      <td>NaN</td>\n",
       "      <td>NaN</td>\n",
       "      <td>NaN</td>\n",
       "      <td>NaN</td>\n",
       "      <td>NaN</td>\n",
       "      <td>NaN</td>\n",
       "      <td>NaN</td>\n",
       "    </tr>\n",
       "    <tr>\n",
       "      <th>44538</th>\n",
       "      <td>NaN</td>\n",
       "      <td>NaN</td>\n",
       "      <td>NaN</td>\n",
       "      <td>NaN</td>\n",
       "      <td>NaN</td>\n",
       "      <td>NaN</td>\n",
       "      <td>NaN</td>\n",
       "      <td>NaN</td>\n",
       "      <td>NaN</td>\n",
       "      <td>NaN</td>\n",
       "      <td>...</td>\n",
       "      <td>NaN</td>\n",
       "      <td>NaN</td>\n",
       "      <td>NaN</td>\n",
       "      <td>NaN</td>\n",
       "      <td>NaN</td>\n",
       "      <td>NaN</td>\n",
       "      <td>NaN</td>\n",
       "      <td>NaN</td>\n",
       "      <td>NaN</td>\n",
       "      <td>NaN</td>\n",
       "    </tr>\n",
       "    <tr>\n",
       "      <th>68507</th>\n",
       "      <td>NaN</td>\n",
       "      <td>NaN</td>\n",
       "      <td>NaN</td>\n",
       "      <td>NaN</td>\n",
       "      <td>NaN</td>\n",
       "      <td>NaN</td>\n",
       "      <td>NaN</td>\n",
       "      <td>NaN</td>\n",
       "      <td>NaN</td>\n",
       "      <td>NaN</td>\n",
       "      <td>...</td>\n",
       "      <td>NaN</td>\n",
       "      <td>NaN</td>\n",
       "      <td>NaN</td>\n",
       "      <td>NaN</td>\n",
       "      <td>NaN</td>\n",
       "      <td>NaN</td>\n",
       "      <td>NaN</td>\n",
       "      <td>NaN</td>\n",
       "      <td>NaN</td>\n",
       "      <td>NaN</td>\n",
       "    </tr>\n",
       "    <tr>\n",
       "      <th>...</th>\n",
       "      <td>...</td>\n",
       "      <td>...</td>\n",
       "      <td>...</td>\n",
       "      <td>...</td>\n",
       "      <td>...</td>\n",
       "      <td>...</td>\n",
       "      <td>...</td>\n",
       "      <td>...</td>\n",
       "      <td>...</td>\n",
       "      <td>...</td>\n",
       "      <td>...</td>\n",
       "      <td>...</td>\n",
       "      <td>...</td>\n",
       "      <td>...</td>\n",
       "      <td>...</td>\n",
       "      <td>...</td>\n",
       "      <td>...</td>\n",
       "      <td>...</td>\n",
       "      <td>...</td>\n",
       "      <td>...</td>\n",
       "      <td>...</td>\n",
       "    </tr>\n",
       "    <tr>\n",
       "      <th>66975</th>\n",
       "      <td>NaN</td>\n",
       "      <td>NaN</td>\n",
       "      <td>NaN</td>\n",
       "      <td>NaN</td>\n",
       "      <td>NaN</td>\n",
       "      <td>NaN</td>\n",
       "      <td>NaN</td>\n",
       "      <td>NaN</td>\n",
       "      <td>NaN</td>\n",
       "      <td>NaN</td>\n",
       "      <td>...</td>\n",
       "      <td>NaN</td>\n",
       "      <td>NaN</td>\n",
       "      <td>NaN</td>\n",
       "      <td>NaN</td>\n",
       "      <td>NaN</td>\n",
       "      <td>NaN</td>\n",
       "      <td>NaN</td>\n",
       "      <td>NaN</td>\n",
       "      <td>NaN</td>\n",
       "      <td>NaN</td>\n",
       "    </tr>\n",
       "    <tr>\n",
       "      <th>15881</th>\n",
       "      <td>NaN</td>\n",
       "      <td>NaN</td>\n",
       "      <td>NaN</td>\n",
       "      <td>NaN</td>\n",
       "      <td>NaN</td>\n",
       "      <td>NaN</td>\n",
       "      <td>NaN</td>\n",
       "      <td>NaN</td>\n",
       "      <td>NaN</td>\n",
       "      <td>NaN</td>\n",
       "      <td>...</td>\n",
       "      <td>NaN</td>\n",
       "      <td>NaN</td>\n",
       "      <td>NaN</td>\n",
       "      <td>NaN</td>\n",
       "      <td>NaN</td>\n",
       "      <td>NaN</td>\n",
       "      <td>NaN</td>\n",
       "      <td>NaN</td>\n",
       "      <td>NaN</td>\n",
       "      <td>NaN</td>\n",
       "    </tr>\n",
       "    <tr>\n",
       "      <th>280</th>\n",
       "      <td>NaN</td>\n",
       "      <td>NaN</td>\n",
       "      <td>NaN</td>\n",
       "      <td>NaN</td>\n",
       "      <td>NaN</td>\n",
       "      <td>NaN</td>\n",
       "      <td>NaN</td>\n",
       "      <td>NaN</td>\n",
       "      <td>NaN</td>\n",
       "      <td>NaN</td>\n",
       "      <td>...</td>\n",
       "      <td>NaN</td>\n",
       "      <td>NaN</td>\n",
       "      <td>NaN</td>\n",
       "      <td>NaN</td>\n",
       "      <td>NaN</td>\n",
       "      <td>NaN</td>\n",
       "      <td>NaN</td>\n",
       "      <td>NaN</td>\n",
       "      <td>NaN</td>\n",
       "      <td>NaN</td>\n",
       "    </tr>\n",
       "    <tr>\n",
       "      <th>54151</th>\n",
       "      <td>NaN</td>\n",
       "      <td>NaN</td>\n",
       "      <td>NaN</td>\n",
       "      <td>NaN</td>\n",
       "      <td>NaN</td>\n",
       "      <td>NaN</td>\n",
       "      <td>NaN</td>\n",
       "      <td>NaN</td>\n",
       "      <td>NaN</td>\n",
       "      <td>NaN</td>\n",
       "      <td>...</td>\n",
       "      <td>NaN</td>\n",
       "      <td>NaN</td>\n",
       "      <td>NaN</td>\n",
       "      <td>NaN</td>\n",
       "      <td>NaN</td>\n",
       "      <td>NaN</td>\n",
       "      <td>NaN</td>\n",
       "      <td>NaN</td>\n",
       "      <td>NaN</td>\n",
       "      <td>NaN</td>\n",
       "    </tr>\n",
       "    <tr>\n",
       "      <th>81926</th>\n",
       "      <td>NaN</td>\n",
       "      <td>NaN</td>\n",
       "      <td>NaN</td>\n",
       "      <td>NaN</td>\n",
       "      <td>NaN</td>\n",
       "      <td>NaN</td>\n",
       "      <td>NaN</td>\n",
       "      <td>NaN</td>\n",
       "      <td>NaN</td>\n",
       "      <td>NaN</td>\n",
       "      <td>...</td>\n",
       "      <td>NaN</td>\n",
       "      <td>NaN</td>\n",
       "      <td>NaN</td>\n",
       "      <td>NaN</td>\n",
       "      <td>NaN</td>\n",
       "      <td>NaN</td>\n",
       "      <td>NaN</td>\n",
       "      <td>NaN</td>\n",
       "      <td>NaN</td>\n",
       "      <td>NaN</td>\n",
       "    </tr>\n",
       "  </tbody>\n",
       "</table>\n",
       "<p>42598 rows × 200 columns</p>\n",
       "</div>"
      ],
      "text/plain": [
       "      d_039 d_1000 d_1000_pt0_sx300__ d__blank d__cr0 d__sl220__ d__sl300__  \\\n",
       "81887   NaN    NaN                NaN      NaN    NaN        NaN        NaN   \n",
       "64609   NaN    NaN                NaN      NaN    NaN        NaN        NaN   \n",
       "17752   NaN    NaN                NaN      NaN    NaN        NaN        NaN   \n",
       "44538   NaN    NaN                NaN      NaN    NaN        NaN        NaN   \n",
       "68507   NaN    NaN                NaN      NaN    NaN        NaN        NaN   \n",
       "...     ...    ...                ...      ...    ...        ...        ...   \n",
       "66975   NaN    NaN                NaN      NaN    NaN        NaN        NaN   \n",
       "15881   NaN    NaN                NaN      NaN    NaN        NaN        NaN   \n",
       "280     NaN    NaN                NaN      NaN    NaN        NaN        NaN   \n",
       "54151   NaN    NaN                NaN      NaN    NaN        NaN        NaN   \n",
       "81926   NaN    NaN                NaN      NaN    NaN        NaN        NaN   \n",
       "\n",
       "      d_acid d_after d_all  ... d_which d_while d_will d_with d_without  \\\n",
       "81887    NaN     NaN   NaN  ...     NaN     NaN    NaN    NaN       NaN   \n",
       "64609    NaN     NaN   NaN  ...     NaN     NaN    NaN    NaN       NaN   \n",
       "17752    NaN     NaN   NaN  ...     NaN     NaN    NaN    NaN       NaN   \n",
       "44538    NaN     NaN   NaN  ...     NaN     NaN    NaN    NaN       NaN   \n",
       "68507    NaN     NaN   NaN  ...     NaN     NaN    NaN    NaN       NaN   \n",
       "...      ...     ...   ...  ...     ...     ...    ...    ...       ...   \n",
       "66975    NaN     NaN   NaN  ...     NaN     NaN    NaN    NaN       NaN   \n",
       "15881    NaN     NaN   NaN  ...     NaN     NaN    NaN    NaN       NaN   \n",
       "280      NaN     NaN   NaN  ...     NaN     NaN    NaN    NaN       NaN   \n",
       "54151    NaN     NaN   NaN  ...     NaN     NaN    NaN    NaN       NaN   \n",
       "81926    NaN     NaN   NaN  ...     NaN     NaN    NaN    NaN       NaN   \n",
       "\n",
       "      d_world d_worldwide d_years d_you d_your  \n",
       "81887     NaN         NaN     NaN   NaN    NaN  \n",
       "64609     NaN         NaN     NaN   NaN    NaN  \n",
       "17752     NaN         NaN     NaN   NaN    NaN  \n",
       "44538     NaN         NaN     NaN   NaN    NaN  \n",
       "68507     NaN         NaN     NaN   NaN    NaN  \n",
       "...       ...         ...     ...   ...    ...  \n",
       "66975     NaN         NaN     NaN   NaN    NaN  \n",
       "15881     NaN         NaN     NaN   NaN    NaN  \n",
       "280       NaN         NaN     NaN   NaN    NaN  \n",
       "54151     NaN         NaN     NaN   NaN    NaN  \n",
       "81926     NaN         NaN     NaN   NaN    NaN  \n",
       "\n",
       "[42598 rows x 200 columns]"
      ]
     },
     "execution_count": 140,
     "metadata": {},
     "output_type": "execute_result"
    }
   ],
   "source": [
    "description_counts_train = pd.DataFrame(\n",
    "    columns=['d_' + col for col in tfidf.get_feature_names()], # add 'p_' to the start of each column name\n",
    "    index=X_train.index # keep original train index to ensure matching with the numeric data\n",
    ")\n",
    "description_counts_train "
   ]
  },
  {
   "cell_type": "code",
   "execution_count": null,
   "id": "177a881c",
   "metadata": {
    "id": "177a881c"
   },
   "outputs": [],
   "source": []
  },
  {
   "cell_type": "code",
   "execution_count": null,
   "id": "e66a51fa",
   "metadata": {
    "id": "e66a51fa"
   },
   "outputs": [],
   "source": []
  },
  {
   "cell_type": "markdown",
   "id": "b71964c7",
   "metadata": {
    "id": "b71964c7"
   },
   "source": [
    "### count vectorizer on review title headline"
   ]
  },
  {
   "cell_type": "code",
   "execution_count": null,
   "id": "4fa95654",
   "metadata": {
    "id": "4fa95654",
    "outputId": "edf55408-c6ac-4aaf-99d1-2b57201cf142"
   },
   "outputs": [
    {
     "data": {
      "text/plain": [
       "<42598x12 sparse matrix of type '<class 'numpy.int64'>'\n",
       "\twith 34281 stored elements in Compressed Sparse Row format>"
      ]
     },
     "execution_count": 124,
     "metadata": {},
     "output_type": "execute_result"
    }
   ],
   "source": [
    " from sklearn.feature_extraction.text import CountVectorizer\n",
    "\n",
    "# 1. Instantiate \n",
    "bagofwords = CountVectorizer(stop_words=\"english\",#removing stop words\n",
    "                             min_df=0.02,\n",
    "                             max_features= 2000,        #showing up in minimum 10% of documents     #only selecting 100 columns  \n",
    "                             )    \n",
    "\n",
    "# 2. Fit \n",
    "bagofwords.fit(train['summary'])\n",
    "\n",
    "# 3. Transform\n",
    "train_transformed = bagofwords.transform(train['summary'])\n",
    "train_transformed"
   ]
  },
  {
   "cell_type": "code",
   "execution_count": null,
   "id": "d40ae0d9",
   "metadata": {
    "id": "d40ae0d9",
    "outputId": "96ed364b-fe1e-4fed-a0e3-7843df1f8f8b"
   },
   "outputs": [
    {
     "data": {
      "text/plain": [
       "(42598, 12)"
      ]
     },
     "execution_count": 125,
     "metadata": {},
     "output_type": "execute_result"
    }
   ],
   "source": [
    "#making into an array\n",
    "train_transformed.toarray().sum(axis=0)\n",
    "train_transformed.shape"
   ]
  },
  {
   "cell_type": "code",
   "execution_count": null,
   "id": "b0cbad07",
   "metadata": {
    "id": "b0cbad07",
    "outputId": "972fbe0f-cfce-4698-bc5f-3dcbd4c6469f"
   },
   "outputs": [
    {
     "data": {
      "image/png": "[encoded data removed]",
      "text/plain": [
       "<Figure size 1500x500 with 1 Axes>"
      ]
     },
     "metadata": {},
     "output_type": "display_data"
    }
   ],
   "source": [
    "#plotting it out\n",
    "\n",
    "pos_word_counts = pd.DataFrame(\n",
    "    {\"counts\": train_transformed.toarray().sum(axis=0)},\n",
    "    index=bagofwords.get_feature_names_out()\n",
    ").sort_values(\"counts\", ascending=False)\n",
    "\n",
    "pos_word_counts.head(20).plot(kind=\"barh\", figsize=(15, 5), legend=False, color = \"navy\")\n",
    "plt.title(\"Figure: Top most frequently occurring words in review text\")\n",
    "plt.ylabel(\"Count\")\n",
    "plt.xticks(rotation=45)\n",
    "plt.show()"
   ]
  },
  {
   "cell_type": "markdown",
   "id": "8e17fe78",
   "metadata": {
    "id": "8e17fe78"
   },
   "source": [
    "### count vectorizer on description headline"
   ]
  },
  {
   "cell_type": "code",
   "execution_count": null,
   "id": "19277244",
   "metadata": {
    "id": "19277244"
   },
   "outputs": [],
   "source": []
  },
  {
   "cell_type": "markdown",
   "id": "222cfe35",
   "metadata": {
    "id": "222cfe35"
   },
   "source": [
    "Porter stemmer"
   ]
  },
  {
   "cell_type": "code",
   "execution_count": null,
   "id": "16b30fbe",
   "metadata": {
    "id": "16b30fbe",
    "outputId": "ef5642ff-4842-4271-cecb-1c7aaedc3e0b"
   },
   "outputs": [
    {
     "name": "stdout",
     "output_type": "stream",
     "text": [
      "!\"#$%&'()*+,-./:;<=>?@[\\]^_`{|}~\n"
     ]
    }
   ],
   "source": [
    "# the python string package has a helpful punctuation list\n",
    "import string\n",
    "print(string.punctuation)"
   ]
  },
  {
   "cell_type": "code",
   "execution_count": null,
   "id": "0e749cc1",
   "metadata": {
    "id": "0e749cc1"
   },
   "outputs": [],
   "source": [
    "# library to clean data\n",
    "import re\n",
    " \n",
    "#to remove stopword\n",
    "from nltk.corpus import stopwords\n",
    " \n",
    "# for Stemming propose\n",
    "from nltk.stem.porter import PorterStemmer\n",
    "\n",
    "ENGLISH_STOP_WORDS = stopwords.words('english')\n",
    "\n",
    "def my_tokenizer(sentence):\n",
    "    '''\n",
    "    Custom tokernizer for preprocessing. \n",
    "    \n",
    "    Input: string, raw document\n",
    "    Output:  \n",
    "    \n",
    "    '''\n",
    "    # remove punctuation and set to lower case\n",
    "    for punctuation_mark in string.punctuation:\n",
    "        sentence = sentence.replace(punctuation_mark,'').lower()\n",
    "\n",
    "    # split sentence into words\n",
    "    listofwords = sentence.split(' ')\n",
    "    listofstemmed_words = []\n",
    "    \n",
    "    ps = PorterStemmer()\n",
    "    \n",
    "    # remove stopwords and any tokens that are just empty strings\n",
    "    for word in listofwords:\n",
    "        if (not word in ENGLISH_STOP_WORDS) and (word!=''):\n",
    "            # Stem words\n",
    "            stemmed_word = ps.stem(word)\n",
    "            listofstemmed_words.append(stemmed_word)\n",
    "\n",
    "    return listofstemmed_words"
   ]
  },
  {
   "cell_type": "code",
   "execution_count": null,
   "id": "497c8ce8",
   "metadata": {
    "id": "497c8ce8"
   },
   "outputs": [],
   "source": [
    "sentence  = \"the quick fox jumped over the lazy dog\""
   ]
  },
  {
   "cell_type": "code",
   "execution_count": null,
   "id": "13edcb6e",
   "metadata": {
    "id": "13edcb6e",
    "outputId": "917070cd-07eb-49f3-f67e-506dec8c8c29"
   },
   "outputs": [
    {
     "data": {
      "text/plain": [
       "['quick', 'fox', 'jump', 'lazi', 'dog']"
      ]
     },
     "execution_count": 105,
     "metadata": {},
     "output_type": "execute_result"
    }
   ],
   "source": [
    "my_tokenizer(sentence)"
   ]
  },
  {
   "cell_type": "code",
   "execution_count": null,
   "id": "a2ca5865",
   "metadata": {
    "id": "a2ca5865"
   },
   "outputs": [],
   "source": [
    "train, test  = train_test_split(combined_df, test_size=0.3, stratify= y, random_state = 8)"
   ]
  },
  {
   "cell_type": "code",
   "execution_count": null,
   "id": "47552894",
   "metadata": {
    "id": "47552894"
   },
   "outputs": [],
   "source": [
    "train_review = train[\"reviewText\"]\n",
    "test_review = test[\"reviewText\"]"
   ]
  },
  {
   "cell_type": "code",
   "execution_count": null,
   "id": "d456a9f5",
   "metadata": {
    "id": "d456a9f5",
    "outputId": "379e655b-6ca7-4fc1-e62e-10db837001cd"
   },
   "outputs": [
    {
     "name": "stderr",
     "output_type": "stream",
     "text": [
      "/Users/mac/opt/anaconda3/lib/python3.9/site-packages/sklearn/feature_extraction/text.py:516: UserWarning: The parameter 'token_pattern' will not be used since 'tokenizer' is not None'\n",
      "  warnings.warn(\n"
     ]
    },
    {
     "data": {
      "text/plain": [
       "(97722, 7343)"
      ]
     },
     "execution_count": 110,
     "metadata": {},
     "output_type": "execute_result"
    }
   ],
   "source": [
    "bagofwords = CountVectorizer(min_df=5, \n",
    "                             tokenizer=my_tokenizer)\n",
    "bagofwords.fit(train_review)\n",
    "\n",
    "X_train_transformed = bagofwords.transform(train_review)\n",
    "X_test_transformed = bagofwords.transform(test_review)\n",
    "\n",
    "X_train_transformed.shape"
   ]
  },
  {
   "cell_type": "code",
   "execution_count": null,
   "id": "9c09d9af",
   "metadata": {
    "id": "9c09d9af",
    "outputId": "84b123c9-1bf4-4ebd-b5f4-877b3b32c353"
   },
   "outputs": [
    {
     "name": "stderr",
     "output_type": "stream",
     "text": [
      "/Users/mac/opt/anaconda3/lib/python3.9/site-packages/sklearn/utils/deprecation.py:87: FutureWarning: Function get_feature_names is deprecated; get_feature_names is deprecated in 1.0 and will be removed in 1.2. Please use get_feature_names_out instead.\n",
      "  warnings.warn(msg, category=FutureWarning)\n"
     ]
    },
    {
     "data": {
      "image/png": "[encoded data removed]",
      "text/plain": [
       "<Figure size 1500x500 with 1 Axes>"
      ]
     },
     "metadata": {},
     "output_type": "display_data"
    }
   ],
   "source": [
    "word_counts = pd.DataFrame(\n",
    "    {\"counts\": X_train_transformed.toarray().sum(axis=0)},\n",
    "    index=bagofwords.get_feature_names()\n",
    ").sort_values(\"counts\", ascending=False)\n",
    "\n",
    "word_counts.head(20).plot(kind=\"bar\", figsize=(15, 5), legend=False)\n",
    "plt.title(\"Top 20 most frequently occurring words\")\n",
    "plt.ylabel(\"Count\")\n",
    "plt.xticks(rotation=45)\n",
    "plt.show()"
   ]
  },
  {
   "cell_type": "markdown",
   "id": "32a7a5ce",
   "metadata": {
    "id": "32a7a5ce"
   },
   "source": [
    "bi-grams "
   ]
  },
  {
   "cell_type": "markdown",
   "id": "32393cb4",
   "metadata": {
    "id": "32393cb4"
   },
   "source": []
  },
  {
   "cell_type": "code",
   "execution_count": null,
   "id": "4653773f",
   "metadata": {
    "id": "4653773f"
   },
   "outputs": [],
   "source": []
  },
  {
   "cell_type": "code",
   "execution_count": null,
   "id": "610937a6",
   "metadata": {
    "id": "610937a6"
   },
   "outputs": [],
   "source": []
  },
  {
   "cell_type": "code",
   "execution_count": null,
   "id": "95bb5d3a",
   "metadata": {
    "id": "95bb5d3a"
   },
   "outputs": [],
   "source": []
  },
  {
   "cell_type": "markdown",
   "id": "f031c527",
   "metadata": {
    "id": "f031c527"
   },
   "source": [
    "Let's refit our best parameters to the model: "
   ]
  },
  {
   "cell_type": "code",
   "execution_count": null,
   "id": "82baa978",
   "metadata": {
    "id": "82baa978",
    "outputId": "f904b163-272d-4b60-be1c-3413f286e567"
   },
   "outputs": [
    {
     "data": {
      "text/plain": [
       "{'model': LogisticRegression(max_iter=10000, n_jobs=-1, random_state=8),\n",
       " 'model__C': 0.1,\n",
       " 'normalise': RobustScaler(),\n",
       " 'reduce_dim': None}"
      ]
     },
     "execution_count": 222,
     "metadata": {},
     "output_type": "execute_result"
    }
   ],
   "source": [
    "fitted_logreg.best_params_"
   ]
  },
  {
   "cell_type": "markdown",
   "id": "93b13e9e",
   "metadata": {
    "id": "93b13e9e"
   },
   "source": [
    "From our final data set with log transformation we can see that the best hyper parameters have remained the same. "
   ]
  },
  {
   "cell_type": "markdown",
   "id": "d01d38cc",
   "metadata": {
    "id": "d01d38cc"
   },
   "source": [
    "Let's fit this to our final model and see the test accuracy score: "
   ]
  },
  {
   "cell_type": "code",
   "execution_count": null,
   "id": "89ba414d",
   "metadata": {
    "id": "89ba414d",
    "outputId": "49e87aaa-bb14-4a21-fb30-dee294173bc9"
   },
   "outputs": [
    {
     "name": "stdout",
     "output_type": "stream",
     "text": [
      "              precision    recall  f1-score   support\n",
      "\n",
      "           0       0.77      0.70      0.73      1809\n",
      "           1       0.79      0.84      0.82      2458\n",
      "\n",
      "    accuracy                           0.78      4267\n",
      "   macro avg       0.78      0.77      0.77      4267\n",
      "weighted avg       0.78      0.78      0.78      4267\n",
      "\n"
     ]
    }
   ],
   "source": [
    "# Get class predictions\n",
    "y_pred = logreg2.predict(X_test_rs)\n",
    "\n",
    "#classification\n",
    "from sklearn.metrics import classification_report\n",
    "\n",
    "report_logreg = classification_report(y_test, y_pred)\n",
    "print(report_logreg)"
   ]
  },
  {
   "cell_type": "markdown",
   "id": "7790da9a",
   "metadata": {
    "id": "7790da9a"
   },
   "source": [
    "In the end we have dropped the accuracy score by 0.3% but increased our f1-score by 0.01 so we may need to make a few more tweaks but overall we can say that our model can predict sentiment given logistic regression. "
   ]
  }
 ],
 "metadata": {
  "accelerator": "GPU",
  "colab": {
   "provenance": [],
   "toc_visible": true
  },
  "gpuClass": "standard",
  "kernelspec": {
   "display_name": "capstone",
   "language": "python",
   "name": "python3"
  },
  "language_info": {
   "codemirror_mode": {
    "name": "ipython",
    "version": 3
   },
   "file_extension": ".py",
   "mimetype": "text/x-python",
   "name": "python",
   "nbconvert_exporter": "python",
   "pygments_lexer": "ipython3",
   "version": "3.11.0"
  },
  "vscode": {
   "interpreter": {
    "hash": "e0ba38779ffb9a4a239c9d3f794622790caf3152bd20f11a748f045f68414ade"
   }
  }
 },
 "nbformat": 4,
 "nbformat_minor": 5
}
