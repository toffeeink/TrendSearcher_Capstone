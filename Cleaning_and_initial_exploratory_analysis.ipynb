{
 "cells": [
  {
   "cell_type": "code",
   "execution_count": 3,
   "id": "e52ec846",
   "metadata": {},
   "outputs": [],
   "source": [
    "#loading packages in \n",
    "import numpy as np\n",
    "import pandas as pd\n",
    "import matplotlib.pyplot as plt\n",
    "%matplotlib inline\n",
    "import seaborn as sns\n",
    "import json\n",
    "import os \n",
    "import statsmodels.api as sm\n",
    "import plotly.express as px\n",
    "import re\n",
    "import gzip\n",
    "from urllib.request import urlopen\n",
    "from statsmodels.api import tsa"
   ]
  },
  {
   "cell_type": "code",
   "execution_count": 4,
   "id": "5a32e234",
   "metadata": {},
   "outputs": [],
   "source": [
    "#Setting figure size & background \n",
    "plt.rcParams['figure.figsize'] = (8.0, 6.0)\n",
    "sns.set_theme(style=\"darkgrid\")"
   ]
  },
  {
   "cell_type": "markdown",
   "id": "0732061c",
   "metadata": {},
   "source": [
    "We have two notebooks to process: the review data and the metadata of the products. The first important step is to process and clean the review dataset. "
   ]
  },
  {
   "cell_type": "code",
   "execution_count": 5,
   "id": "95829b70",
   "metadata": {},
   "outputs": [],
   "source": [
    "#directing to the right file path\n",
    "os.chdir(\"/Users/mac/Desktop/Data/CAPSTONE\")\n",
    "cwd = os.getcwd() "
   ]
  },
  {
   "cell_type": "markdown",
   "id": "dfd78534",
   "metadata": {},
   "source": [
    "## Review Data"
   ]
  },
  {
   "cell_type": "code",
   "execution_count": 6,
   "id": "81275a7d",
   "metadata": {},
   "outputs": [],
   "source": [
    "#Opening the reviews,  resource: https://towardsdatascience.com/load-yelp-reviews-or-other-huge-json-files-with-ease-ad804c2f1537\n",
    "review_df = []\n",
    "r_dtypes = {\"overall\": np.float16, \n",
    "            \"verified\": np.int32, \n",
    "            \"vote\": np.int32,\n",
    "            \"reviewTime\": np.int32,\n",
    "            \"reviewerID\": np.int32,\n",
    "            \"asin\": object,\n",
    "            \"reviewerName\": object,\n",
    "            \"reviewText\":object , \n",
    "            \"summary\": object,     \n",
    "            \"style\": object, \n",
    "            \"image\": object, \n",
    "           }\n",
    "with open(\"Luxury_Beauty.json\", \"r\") as f:\n",
    "    reader = pd.read_json(f, orient=\"records\", lines=True, \n",
    "                          dtype=r_dtypes, chunksize=1000)\n",
    "        \n",
    "    for chunk in reader:\n",
    "        reduced_chunk = chunk.drop(columns=['unixReviewTime'],axis=1)\n",
    "        review_df.append(reduced_chunk)\n",
    "    \n",
    "review_df = pd.concat(review_df, ignore_index=True)"
   ]
  },
  {
   "cell_type": "code",
   "execution_count": 7,
   "id": "9963dcf2",
   "metadata": {},
   "outputs": [
    {
     "data": {
      "text/html": [
       "<div>\n",
       "<style scoped>\n",
       "    .dataframe tbody tr th:only-of-type {\n",
       "        vertical-align: middle;\n",
       "    }\n",
       "\n",
       "    .dataframe tbody tr th {\n",
       "        vertical-align: top;\n",
       "    }\n",
       "\n",
       "    .dataframe thead th {\n",
       "        text-align: right;\n",
       "    }\n",
       "</style>\n",
       "<table border=\"1\" class=\"dataframe\">\n",
       "  <thead>\n",
       "    <tr style=\"text-align: right;\">\n",
       "      <th></th>\n",
       "      <th>overall</th>\n",
       "      <th>vote</th>\n",
       "      <th>verified</th>\n",
       "      <th>reviewTime</th>\n",
       "      <th>reviewerID</th>\n",
       "      <th>asin</th>\n",
       "      <th>reviewerName</th>\n",
       "      <th>reviewText</th>\n",
       "      <th>summary</th>\n",
       "      <th>style</th>\n",
       "      <th>image</th>\n",
       "    </tr>\n",
       "  </thead>\n",
       "  <tbody>\n",
       "    <tr>\n",
       "      <th>0</th>\n",
       "      <td>2.0</td>\n",
       "      <td>3</td>\n",
       "      <td>1</td>\n",
       "      <td>06 15, 2010</td>\n",
       "      <td>A1Q6MUU0B2ZDQG</td>\n",
       "      <td>B00004U9V2</td>\n",
       "      <td>D. Poston</td>\n",
       "      <td>I bought two of these 8.5 fl oz hand cream, an...</td>\n",
       "      <td>dispensers don't work</td>\n",
       "      <td>NaN</td>\n",
       "      <td>NaN</td>\n",
       "    </tr>\n",
       "    <tr>\n",
       "      <th>1</th>\n",
       "      <td>5.0</td>\n",
       "      <td>14</td>\n",
       "      <td>1</td>\n",
       "      <td>01 7, 2010</td>\n",
       "      <td>A3HO2SQDCZIE9S</td>\n",
       "      <td>B00004U9V2</td>\n",
       "      <td>chandra</td>\n",
       "      <td>Believe me, over the years I have tried many, ...</td>\n",
       "      <td>Best hand cream ever.</td>\n",
       "      <td>NaN</td>\n",
       "      <td>NaN</td>\n",
       "    </tr>\n",
       "  </tbody>\n",
       "</table>\n",
       "</div>"
      ],
      "text/plain": [
       "   overall vote  verified   reviewTime      reviewerID        asin  \\\n",
       "0      2.0    3         1  06 15, 2010  A1Q6MUU0B2ZDQG  B00004U9V2   \n",
       "1      5.0   14         1   01 7, 2010  A3HO2SQDCZIE9S  B00004U9V2   \n",
       "\n",
       "  reviewerName                                         reviewText  \\\n",
       "0    D. Poston  I bought two of these 8.5 fl oz hand cream, an...   \n",
       "1      chandra  Believe me, over the years I have tried many, ...   \n",
       "\n",
       "                 summary style image  \n",
       "0  dispensers don't work   NaN   NaN  \n",
       "1  Best hand cream ever.   NaN   NaN  "
      ]
     },
     "execution_count": 7,
     "metadata": {},
     "output_type": "execute_result"
    }
   ],
   "source": [
    "#checking review_df dataset\n",
    "review_df.head(2)"
   ]
  },
  {
   "cell_type": "markdown",
   "id": "5c11ed62",
   "metadata": {},
   "source": [
    "#### Review Data Dictionary"
   ]
  },
  {
   "cell_type": "markdown",
   "id": "9d989fc3",
   "metadata": {},
   "source": [
    "| Column Name    | Column Contents                                                           |\n",
    "|----------------|---------------------------------------------------------------------------|\n",
    "| `overall`      | Rating given by user out of 5.0 (numeric)                                 |\n",
    "| `verified`     | Denotes verified purchases or not (numeric)                               |\n",
    "| `vote`         | Number of users that have liked the review (numeric)                      |\n",
    "| `reviewTime`   | Recorded time of review (numeric)                                         |\n",
    "| `reviewerID`   | Unique reviewer ID (object)                                               |\n",
    "| `reviewerName` | Name given of reviewer (object)                                           |\n",
    "| `reviewText`   | Body of user review (object)                                              |\n",
    "| `summary`      | Title of user review (object                                              |\n",
    "| `style`        | Dictionary object containing details on the product reviewed (dictionary) |\n",
    "| `image`        | Associated images in JPEGs of the product uploaded by user (object)       |"
   ]
  },
  {
   "cell_type": "markdown",
   "id": "50e33b0e",
   "metadata": {},
   "source": [
    "#### Metadata Dictionary"
   ]
  },
  {
   "cell_type": "markdown",
   "id": "5c52af4f",
   "metadata": {},
   "source": [
    "| Column Name              | Column Contents                                                     |\n",
    "|--------------------------|---------------------------------------------------------------------|\n",
    "| `category`               | object                                                              |\n",
    "| `description`            | Description of product                                              |\n",
    "| `fit`                    | Number of users that have liked the review (object)                 |\n",
    "| `title`                  | product headline (object)                                           |\n",
    "| `also_buy`               | related ASINs that purchasers have also bought (object)             |\n",
    "| `tech2`                  | first technical detail table of the product (object)                |\n",
    "| `brand`                  | brand name (object)                                                 |\n",
    "| `feature`                | (object)                                                            |\n",
    "| `rank`                   | ranking of the category at the time of the data extraction (object) |\n",
    "| `also_view`              | related ASINs, those that have also been viewed (list)              |\n",
    "| `details`                | (object)                                                            |\n",
    "| `Shipping Weight`        | (object)                                                            |\n",
    "| `International Shipping` | (object)                                                            |\n",
    "| `ASIN`                   | (object)                                                            |\n",
    "| `Item model number`      | (object)                                                            |\n",
    "| `main_cat`               | (object)                                                            |\n",
    "| `similar_item`           | (object)                                                            |\n",
    "| `date`                   | (object)                                                            |\n",
    "| `price`                  | (object)                                                            |\n",
    "| `asin`                   | (object)                                                            |\n",
    "| `imageURL`               | url of the product image (list)                                     |\n",
    "| `imageURLHighRes`        | url of the high resolution product image (list)                     |"
   ]
  },
  {
   "cell_type": "code",
   "execution_count": null,
   "id": "abbaeba3",
   "metadata": {},
   "outputs": [],
   "source": []
  },
  {
   "cell_type": "markdown",
   "id": "a324296d",
   "metadata": {},
   "source": [
    "### Changing Data Types"
   ]
  },
  {
   "cell_type": "markdown",
   "id": "101b1992",
   "metadata": {},
   "source": [
    "One of the initial things we can do is to check what if we would need to explore changing any data types."
   ]
  },
  {
   "cell_type": "code",
   "execution_count": 8,
   "id": "72229dbc",
   "metadata": {},
   "outputs": [
    {
     "name": "stdout",
     "output_type": "stream",
     "text": [
      "<class 'pandas.core.frame.DataFrame'>\n",
      "RangeIndex: 574628 entries, 0 to 574627\n",
      "Data columns (total 11 columns):\n",
      " #   Column        Non-Null Count   Dtype  \n",
      "---  ------        --------------   -----  \n",
      " 0   overall       574628 non-null  float16\n",
      " 1   vote          103689 non-null  object \n",
      " 2   verified      574628 non-null  int32  \n",
      " 3   reviewTime    574628 non-null  object \n",
      " 4   reviewerID    574628 non-null  object \n",
      " 5   asin          574628 non-null  object \n",
      " 6   reviewerName  574597 non-null  object \n",
      " 7   reviewText    574228 non-null  object \n",
      " 8   summary       574445 non-null  object \n",
      " 9   style         251013 non-null  object \n",
      " 10  image         7418 non-null    object \n",
      "dtypes: float16(1), int32(1), object(9)\n",
      "memory usage: 42.7+ MB\n"
     ]
    }
   ],
   "source": [
    "review_df.info()"
   ]
  },
  {
   "cell_type": "markdown",
   "id": "0021cb43",
   "metadata": {},
   "source": [
    "From a quick summary at the current data types we have read in a few tasks stand out: \n",
    "- `vote` needs to be edited to a number, with the null values replaced to 0 since if there were no upvotes on the review (not all reviews have upvotes) this would be represented as 0.\n",
    "- `ReviewTime` can be converted to datetime. "
   ]
  },
  {
   "cell_type": "code",
   "execution_count": 9,
   "id": "27991a1c",
   "metadata": {},
   "outputs": [],
   "source": [
    "#filling Vote column nulls and chanding datatype\n",
    "review_df['vote']= review_df['vote'].str.replace(\",\",\"\").astype(\"float32\")\n",
    "review_df[\"vote\"].fillna(0, inplace = True)"
   ]
  },
  {
   "cell_type": "code",
   "execution_count": 10,
   "id": "43746f34",
   "metadata": {},
   "outputs": [
    {
     "data": {
      "text/plain": [
       "0"
      ]
     },
     "execution_count": 10,
     "metadata": {},
     "output_type": "execute_result"
    }
   ],
   "source": [
    "#sanity check\n",
    "review_df[\"vote\"].isna().sum()"
   ]
  },
  {
   "cell_type": "code",
   "execution_count": 11,
   "id": "435758b4",
   "metadata": {},
   "outputs": [
    {
     "name": "stderr",
     "output_type": "stream",
     "text": [
      "/var/folders/k5/r4y7z25n2rz_yw3s46bn0m580000gn/T/ipykernel_12435/2835448208.py:2: UserWarning: Parsing dates in MM/DD/YYYY format when dayfirst=True was specified. This may lead to inconsistently parsed dates! Specify a format to ensure consistent parsing.\n",
      "  review_df['reviewTime'] =pd.to_datetime(review_df['reviewTime'],\n"
     ]
    }
   ],
   "source": [
    "review_df['reviewTime'] = review_df['reviewTime'].str.replace(\",\",\"\")\n",
    "review_df['reviewTime'] =pd.to_datetime(review_df['reviewTime'],\n",
    "                                        dayfirst=True).dt.tz_localize(None)"
   ]
  },
  {
   "cell_type": "code",
   "execution_count": 12,
   "id": "a96a58f8",
   "metadata": {},
   "outputs": [
    {
     "name": "stdout",
     "output_type": "stream",
     "text": [
      "<class 'pandas.core.frame.DataFrame'>\n",
      "RangeIndex: 574628 entries, 0 to 574627\n",
      "Data columns (total 11 columns):\n",
      " #   Column        Non-Null Count   Dtype         \n",
      "---  ------        --------------   -----         \n",
      " 0   overall       574628 non-null  float16       \n",
      " 1   vote          574628 non-null  float32       \n",
      " 2   verified      574628 non-null  int32         \n",
      " 3   reviewTime    574628 non-null  datetime64[ns]\n",
      " 4   reviewerID    574628 non-null  object        \n",
      " 5   asin          574628 non-null  object        \n",
      " 6   reviewerName  574597 non-null  object        \n",
      " 7   reviewText    574228 non-null  object        \n",
      " 8   summary       574445 non-null  object        \n",
      " 9   style         251013 non-null  object        \n",
      " 10  image         7418 non-null    object        \n",
      "dtypes: datetime64[ns](1), float16(1), float32(1), int32(1), object(7)\n",
      "memory usage: 40.6+ MB\n"
     ]
    }
   ],
   "source": [
    "review_df.info()"
   ]
  },
  {
   "cell_type": "markdown",
   "id": "578459c5",
   "metadata": {},
   "source": [
    "Looks like all the initial formats seem to be in the right place. Let's move onto processing the null values and the dataset a little more."
   ]
  },
  {
   "cell_type": "markdown",
   "id": "0b80b9a6",
   "metadata": {},
   "source": [
    "## Processing Null Values"
   ]
  },
  {
   "cell_type": "code",
   "execution_count": 13,
   "id": "76bff53e",
   "metadata": {},
   "outputs": [
    {
     "name": "stdout",
     "output_type": "stream",
     "text": [
      "overall              0\n",
      "vote                 0\n",
      "verified             0\n",
      "reviewTime           0\n",
      "reviewerID           0\n",
      "asin                 0\n",
      "reviewerName        31\n",
      "reviewText         400\n",
      "summary            183\n",
      "style           323615\n",
      "image           567210\n",
      "dtype: int64\n"
     ]
    }
   ],
   "source": [
    "#checking amount of nulls   \n",
    "nan_count = review_df.isna().sum()\n",
    "print(nan_count)"
   ]
  },
  {
   "cell_type": "markdown",
   "id": "04c099e0",
   "metadata": {},
   "source": [
    "From the summary above we do have a couple of null values: \n",
    "- Reviewer Name : can fill these in with other unique identifiers (i.e.reviewerID)\n",
    "- Style is a dictionary so we should explore what the expanded columns may look like\n",
    "- Review Text and Summary: this amount is negligible so we can drop these null values. \n",
    "- Image for now is not relevant to our model so we can drop this. "
   ]
  },
  {
   "cell_type": "code",
   "execution_count": 14,
   "id": "912521b9",
   "metadata": {},
   "outputs": [],
   "source": [
    "#replacing na values of reviewer name with reviewer ID \n",
    "review_df['reviewerName'] =review_df.loc[:,'reviewerName'].fillna(review_df[\"reviewerID\"])"
   ]
  },
  {
   "cell_type": "markdown",
   "id": "443c72ee",
   "metadata": {},
   "source": [
    "### Exploring `style` column"
   ]
  },
  {
   "cell_type": "code",
   "execution_count": 15,
   "id": "b1047cdc",
   "metadata": {},
   "outputs": [],
   "source": [
    "#creating a new df for style\n",
    "style_df = review_df[\"style\"].apply(pd.Series)"
   ]
  },
  {
   "cell_type": "code",
   "execution_count": 16,
   "id": "7e41ff9b",
   "metadata": {},
   "outputs": [
    {
     "name": "stdout",
     "output_type": "stream",
     "text": [
      "Even column with the lowest amount of nulls, size: still contains 75.67% of null values which is quite a lot so we can drop the Style column altogether\n"
     ]
    }
   ],
   "source": [
    "#checking for null values in style column broken out\n",
    "style_df.isnull().sum()\n",
    "p = (style_df[\"Size:\"].isna().sum()/review_df.shape[0])*100\n",
    "print(f\"Even column with the lowest amount of nulls, size: still contains {round(p,2)}% of null values which is quite a lot so we can drop the Style column altogether\")"
   ]
  },
  {
   "cell_type": "markdown",
   "id": "1574bbc6",
   "metadata": {},
   "source": [
    "*add in something about content of columns here*"
   ]
  },
  {
   "cell_type": "code",
   "execution_count": 17,
   "id": "0527f26a",
   "metadata": {},
   "outputs": [],
   "source": [
    "#dropping image and style columns from review_df \n",
    "columns = [\"style\",\"image\"]\n",
    "for column in columns: \n",
    "     review_df = review_df.drop([column],axis=1)"
   ]
  },
  {
   "cell_type": "code",
   "execution_count": 18,
   "id": "7c4a6d61",
   "metadata": {},
   "outputs": [
    {
     "name": "stdout",
     "output_type": "stream",
     "text": [
      "Null values of reviewText makes up 0.07% of dataset, this is small so we can remove these lines\n"
     ]
    }
   ],
   "source": [
    "# % of na values of review_df\n",
    "pct_reviewText = review_df[\"reviewText\"].isna().sum()/review_df.shape[0]*100\n",
    "print(f\"Null values of reviewText makes up {round(pct_reviewText,2)}% of dataset, this is small so we can remove these lines\")"
   ]
  },
  {
   "cell_type": "code",
   "execution_count": 19,
   "id": "e4e633fe",
   "metadata": {},
   "outputs": [
    {
     "data": {
      "text/plain": [
       "(574053, 9)"
      ]
     },
     "execution_count": 19,
     "metadata": {},
     "output_type": "execute_result"
    }
   ],
   "source": [
    "#removing remaining rows with null values and checking row counts, saved to df1\n",
    "review_df1 = review_df.dropna().copy()\n",
    "review_df1.shape"
   ]
  },
  {
   "cell_type": "code",
   "execution_count": 20,
   "id": "4e3d2de8",
   "metadata": {},
   "outputs": [
    {
     "data": {
      "text/plain": [
       "0"
      ]
     },
     "execution_count": 20,
     "metadata": {},
     "output_type": "execute_result"
    }
   ],
   "source": [
    "#sanity check\n",
    "review_df1.isna().sum().sum()"
   ]
  },
  {
   "cell_type": "markdown",
   "id": "eb2d1c37",
   "metadata": {},
   "source": [
    "### Row Duplicates"
   ]
  },
  {
   "cell_type": "markdown",
   "id": "e981d370",
   "metadata": {},
   "source": [
    "Now that we have dealt with the null values we can move onto checking if we have any duplicates of rows. "
   ]
  },
  {
   "cell_type": "code",
   "execution_count": 21,
   "id": "de90402d",
   "metadata": {},
   "outputs": [
    {
     "data": {
      "text/plain": [
       "34893"
      ]
     },
     "execution_count": 21,
     "metadata": {},
     "output_type": "execute_result"
    }
   ],
   "source": [
    "#checking count of duplicated rows \n",
    "review_df1.duplicated().sum()"
   ]
  },
  {
   "cell_type": "code",
   "execution_count": 22,
   "id": "dc11b96a",
   "metadata": {},
   "outputs": [
    {
     "name": "stdout",
     "output_type": "stream",
     "text": [
      "Duplicate rows make up 6.08 % of dataset, which is fairly large\n"
     ]
    }
   ],
   "source": [
    "# % of na values of review_df\n",
    "pct_duplicates = review_df1.duplicated().sum()/review_df1.shape[0]*100\n",
    "print(f\"Duplicate rows make up {round(pct_duplicates,2)} % of dataset, which is fairly large\")"
   ]
  },
  {
   "cell_type": "code",
   "execution_count": 23,
   "id": "75f82aa2",
   "metadata": {},
   "outputs": [
    {
     "data": {
      "text/html": [
       "<div>\n",
       "<style scoped>\n",
       "    .dataframe tbody tr th:only-of-type {\n",
       "        vertical-align: middle;\n",
       "    }\n",
       "\n",
       "    .dataframe tbody tr th {\n",
       "        vertical-align: top;\n",
       "    }\n",
       "\n",
       "    .dataframe thead th {\n",
       "        text-align: right;\n",
       "    }\n",
       "</style>\n",
       "<table border=\"1\" class=\"dataframe\">\n",
       "  <thead>\n",
       "    <tr style=\"text-align: right;\">\n",
       "      <th></th>\n",
       "      <th>overall</th>\n",
       "      <th>vote</th>\n",
       "      <th>verified</th>\n",
       "      <th>reviewTime</th>\n",
       "      <th>reviewerID</th>\n",
       "      <th>asin</th>\n",
       "      <th>reviewerName</th>\n",
       "      <th>reviewText</th>\n",
       "      <th>summary</th>\n",
       "    </tr>\n",
       "  </thead>\n",
       "  <tbody>\n",
       "    <tr>\n",
       "      <th>211719</th>\n",
       "      <td>4.0</td>\n",
       "      <td>0.0</td>\n",
       "      <td>1</td>\n",
       "      <td>2015-01-22</td>\n",
       "      <td>A2MS6GT9F0CB01</td>\n",
       "      <td>B0009OAGVA</td>\n",
       "      <td>KMS</td>\n",
       "      <td>About 20 years ago (ugh feeling old), this was...</td>\n",
       "      <td>Bringing it back</td>\n",
       "    </tr>\n",
       "    <tr>\n",
       "      <th>181623</th>\n",
       "      <td>4.0</td>\n",
       "      <td>0.0</td>\n",
       "      <td>1</td>\n",
       "      <td>2011-11-25</td>\n",
       "      <td>ASZK59NXEHTYU</td>\n",
       "      <td>B00176GSEI</td>\n",
       "      <td>mirage201</td>\n",
       "      <td>This iron gets hot really fast and curls beaut...</td>\n",
       "      <td>Love the way it curls</td>\n",
       "    </tr>\n",
       "    <tr>\n",
       "      <th>171670</th>\n",
       "      <td>5.0</td>\n",
       "      <td>0.0</td>\n",
       "      <td>1</td>\n",
       "      <td>2017-04-11</td>\n",
       "      <td>A13I3H2999W6F</td>\n",
       "      <td>B0016KTQ0I</td>\n",
       "      <td>MZLYNNY</td>\n",
       "      <td>Well made brush!!</td>\n",
       "      <td>Five Stars</td>\n",
       "    </tr>\n",
       "    <tr>\n",
       "      <th>159454</th>\n",
       "      <td>5.0</td>\n",
       "      <td>0.0</td>\n",
       "      <td>1</td>\n",
       "      <td>2017-04-09</td>\n",
       "      <td>AOV59WW0NRN7I</td>\n",
       "      <td>B0010OKF7S</td>\n",
       "      <td>LVgal</td>\n",
       "      <td>My favorite hair spray</td>\n",
       "      <td>Five Stars</td>\n",
       "    </tr>\n",
       "    <tr>\n",
       "      <th>180588</th>\n",
       "      <td>4.0</td>\n",
       "      <td>0.0</td>\n",
       "      <td>1</td>\n",
       "      <td>2014-11-15</td>\n",
       "      <td>A2I9RGT06S31AU</td>\n",
       "      <td>B00176GSEI</td>\n",
       "      <td>Cassidy R</td>\n",
       "      <td>Gives me great curl although I wish it would g...</td>\n",
       "      <td>Gives me great curl although I wish it would g...</td>\n",
       "    </tr>\n",
       "  </tbody>\n",
       "</table>\n",
       "</div>"
      ],
      "text/plain": [
       "        overall  vote  verified reviewTime      reviewerID        asin  \\\n",
       "211719      4.0   0.0         1 2015-01-22  A2MS6GT9F0CB01  B0009OAGVA   \n",
       "181623      4.0   0.0         1 2011-11-25   ASZK59NXEHTYU  B00176GSEI   \n",
       "171670      5.0   0.0         1 2017-04-11   A13I3H2999W6F  B0016KTQ0I   \n",
       "159454      5.0   0.0         1 2017-04-09   AOV59WW0NRN7I  B0010OKF7S   \n",
       "180588      4.0   0.0         1 2014-11-15  A2I9RGT06S31AU  B00176GSEI   \n",
       "\n",
       "       reviewerName                                         reviewText  \\\n",
       "211719          KMS  About 20 years ago (ugh feeling old), this was...   \n",
       "181623    mirage201  This iron gets hot really fast and curls beaut...   \n",
       "171670      MZLYNNY                                  Well made brush!!   \n",
       "159454        LVgal                             My favorite hair spray   \n",
       "180588    Cassidy R  Gives me great curl although I wish it would g...   \n",
       "\n",
       "                                                  summary  \n",
       "211719                                   Bringing it back  \n",
       "181623                              Love the way it curls  \n",
       "171670                                         Five Stars  \n",
       "159454                                         Five Stars  \n",
       "180588  Gives me great curl although I wish it would g...  "
      ]
     },
     "execution_count": 23,
     "metadata": {},
     "output_type": "execute_result"
    }
   ],
   "source": [
    "#looking at duplicates\n",
    "review_df1[review_df1.duplicated()].sample(5)"
   ]
  },
  {
   "cell_type": "code",
   "execution_count": 24,
   "id": "85b8f5fb",
   "metadata": {},
   "outputs": [
    {
     "name": "stdout",
     "output_type": "stream",
     "text": [
      "Each duplicated row appears close to twice at 0.51% of the dataset, so there was likely a data recording issue.\n"
     ]
    }
   ],
   "source": [
    "pct_origin_row = review_df.duplicated().sum() /review_df.duplicated(keep=False).sum()\n",
    "print(f\"Each duplicated row appears close to twice at {round(pct_origin_row,2)}% of the dataset, so there was likely a data recording issue.\")"
   ]
  },
  {
   "cell_type": "code",
   "execution_count": 25,
   "id": "2b43e2b7",
   "metadata": {},
   "outputs": [
    {
     "data": {
      "text/plain": [
       "(539160, 9)"
      ]
     },
     "execution_count": 25,
     "metadata": {},
     "output_type": "execute_result"
    }
   ],
   "source": [
    "#removing duplicates\n",
    "review_df1 = review_df1.drop_duplicates()\n",
    "review_df1.shape"
   ]
  },
  {
   "cell_type": "code",
   "execution_count": 26,
   "id": "ba3701a6",
   "metadata": {},
   "outputs": [],
   "source": [
    "#creating clean review_df and copying in review_df into it \n",
    "clean_review_df = pd.DataFrame()\n",
    "clean_review_df = review_df1.copy()"
   ]
  },
  {
   "cell_type": "code",
   "execution_count": 27,
   "id": "3d84f24e",
   "metadata": {},
   "outputs": [
    {
     "data": {
      "text/plain": [
       "overall         0\n",
       "vote            0\n",
       "verified        0\n",
       "reviewTime      0\n",
       "reviewerID      0\n",
       "asin            0\n",
       "reviewerName    0\n",
       "reviewText      0\n",
       "summary         0\n",
       "dtype: int64"
      ]
     },
     "execution_count": 27,
     "metadata": {},
     "output_type": "execute_result"
    }
   ],
   "source": [
    "clean_review_df.isna().sum()"
   ]
  },
  {
   "cell_type": "code",
   "execution_count": 28,
   "id": "faecb4a6",
   "metadata": {},
   "outputs": [
    {
     "data": {
      "text/html": [
       "<div>\n",
       "<style scoped>\n",
       "    .dataframe tbody tr th:only-of-type {\n",
       "        vertical-align: middle;\n",
       "    }\n",
       "\n",
       "    .dataframe tbody tr th {\n",
       "        vertical-align: top;\n",
       "    }\n",
       "\n",
       "    .dataframe thead th {\n",
       "        text-align: right;\n",
       "    }\n",
       "</style>\n",
       "<table border=\"1\" class=\"dataframe\">\n",
       "  <thead>\n",
       "    <tr style=\"text-align: right;\">\n",
       "      <th></th>\n",
       "      <th>overall</th>\n",
       "      <th>vote</th>\n",
       "      <th>verified</th>\n",
       "      <th>reviewTime</th>\n",
       "      <th>reviewerID</th>\n",
       "      <th>asin</th>\n",
       "      <th>reviewerName</th>\n",
       "      <th>reviewText</th>\n",
       "      <th>summary</th>\n",
       "      <th>year</th>\n",
       "      <th>month</th>\n",
       "    </tr>\n",
       "  </thead>\n",
       "  <tbody>\n",
       "    <tr>\n",
       "      <th>0</th>\n",
       "      <td>2.0</td>\n",
       "      <td>3.0</td>\n",
       "      <td>1</td>\n",
       "      <td>2010-06-15</td>\n",
       "      <td>A1Q6MUU0B2ZDQG</td>\n",
       "      <td>B00004U9V2</td>\n",
       "      <td>D. Poston</td>\n",
       "      <td>I bought two of these 8.5 fl oz hand cream, an...</td>\n",
       "      <td>dispensers don't work</td>\n",
       "      <td>2010</td>\n",
       "      <td>6</td>\n",
       "    </tr>\n",
       "    <tr>\n",
       "      <th>1</th>\n",
       "      <td>5.0</td>\n",
       "      <td>14.0</td>\n",
       "      <td>1</td>\n",
       "      <td>2010-07-01</td>\n",
       "      <td>A3HO2SQDCZIE9S</td>\n",
       "      <td>B00004U9V2</td>\n",
       "      <td>chandra</td>\n",
       "      <td>Believe me, over the years I have tried many, ...</td>\n",
       "      <td>Best hand cream ever.</td>\n",
       "      <td>2010</td>\n",
       "      <td>7</td>\n",
       "    </tr>\n",
       "  </tbody>\n",
       "</table>\n",
       "</div>"
      ],
      "text/plain": [
       "   overall  vote  verified reviewTime      reviewerID        asin  \\\n",
       "0      2.0   3.0         1 2010-06-15  A1Q6MUU0B2ZDQG  B00004U9V2   \n",
       "1      5.0  14.0         1 2010-07-01  A3HO2SQDCZIE9S  B00004U9V2   \n",
       "\n",
       "  reviewerName                                         reviewText  \\\n",
       "0    D. Poston  I bought two of these 8.5 fl oz hand cream, an...   \n",
       "1      chandra  Believe me, over the years I have tried many, ...   \n",
       "\n",
       "                 summary  year  month  \n",
       "0  dispensers don't work  2010      6  \n",
       "1  Best hand cream ever.  2010      7  "
      ]
     },
     "execution_count": 28,
     "metadata": {},
     "output_type": "execute_result"
    }
   ],
   "source": [
    "#separating columns of clean_review_df\n",
    "clean_review_df['year']  = clean_review_df['reviewTime'].dt.strftime('%Y').astype('int32')\n",
    "clean_review_df['month']  = clean_review_df['reviewTime'].dt.strftime('%m').astype('int32')\n",
    "clean_review_df.head(2)"
   ]
  },
  {
   "cell_type": "code",
   "execution_count": 29,
   "id": "49fc1224",
   "metadata": {},
   "outputs": [
    {
     "name": "stdout",
     "output_type": "stream",
     "text": [
      "<class 'pandas.core.frame.DataFrame'>\n",
      "Int64Index: 539160 entries, 0 to 574627\n",
      "Data columns (total 11 columns):\n",
      " #   Column        Non-Null Count   Dtype         \n",
      "---  ------        --------------   -----         \n",
      " 0   overall       539160 non-null  float16       \n",
      " 1   vote          539160 non-null  float32       \n",
      " 2   verified      539160 non-null  int32         \n",
      " 3   reviewTime    539160 non-null  datetime64[ns]\n",
      " 4   reviewerID    539160 non-null  object        \n",
      " 5   asin          539160 non-null  object        \n",
      " 6   reviewerName  539160 non-null  object        \n",
      " 7   reviewText    539160 non-null  object        \n",
      " 8   summary       539160 non-null  object        \n",
      " 9   year          539160 non-null  int32         \n",
      " 10  month         539160 non-null  int32         \n",
      "dtypes: datetime64[ns](1), float16(1), float32(1), int32(3), object(5)\n",
      "memory usage: 38.0+ MB\n"
     ]
    }
   ],
   "source": [
    "clean_review_df.info()"
   ]
  },
  {
   "cell_type": "markdown",
   "id": "7c9074a4",
   "metadata": {},
   "source": [
    "## MetaData"
   ]
  },
  {
   "cell_type": "code",
   "execution_count": 30,
   "id": "1ce25fbc",
   "metadata": {},
   "outputs": [],
   "source": [
    "#Opening the Meta data \n",
    "metadata_df = []\n",
    "r_dtypes = {\"category\": object,\n",
    "            \"tech1\": object,\n",
    "            \"description\": object,\n",
    "            \"fit\": object,\n",
    "            \"title\": object,\n",
    "            \"also_buy\": list,\n",
    "            \"tech2\": object, \n",
    "            \"brand\": object,\n",
    "            \"feature\": object,\n",
    "            \"rank\":object,\n",
    "            \"also_view\": list, \n",
    "            \"details\": object,\n",
    "            \"Shipping Weight\": object,\n",
    "            'International Shipping': object,\n",
    "            \"ASIN\": object, \n",
    "            \"Item model number\": object,\n",
    "            \"main_cat\": object,\n",
    "            \"similar_item\": object,\n",
    "            \"date\": object,\n",
    "            \"price\": np.float32,\n",
    "            \"asin\": object, \n",
    "            \"imageURL\": list, \n",
    "            \"imageURLHighRes\": list ,\n",
    "           }\n",
    "with open(\"meta_Luxury_Beauty.json\", \"r\") as f:\n",
    "    reader = pd.read_json(f, orient=\"records\", lines=True, \n",
    "                          dtype=r_dtypes, chunksize=1000)\n",
    "        \n",
    "    for chunk in reader:\n",
    "        reduced_chunk = chunk.drop(columns=[\"tech1\"],axis=1)\n",
    "        metadata_df.append(reduced_chunk)\n",
    "    \n",
    "metadata_df = pd.concat(metadata_df, ignore_index=True)"
   ]
  },
  {
   "cell_type": "code",
   "execution_count": 31,
   "id": "dd6f902f",
   "metadata": {},
   "outputs": [
    {
     "name": "stdout",
     "output_type": "stream",
     "text": [
      "Initial Metadata reading shows 12299 rows and 18 columns\n"
     ]
    }
   ],
   "source": [
    "#Row and column count \n",
    "\n",
    "print(f\"Initial Metadata reading shows {metadata_df.shape[0]} rows and {metadata_df.shape[1]} columns\")"
   ]
  },
  {
   "cell_type": "markdown",
   "id": "39997aed",
   "metadata": {},
   "source": [
    "### Changing Data Types"
   ]
  },
  {
   "cell_type": "code",
   "execution_count": 32,
   "id": "94972277",
   "metadata": {},
   "outputs": [
    {
     "name": "stdout",
     "output_type": "stream",
     "text": [
      "<class 'pandas.core.frame.DataFrame'>\n",
      "RangeIndex: 12299 entries, 0 to 12298\n",
      "Data columns (total 18 columns):\n",
      " #   Column           Non-Null Count  Dtype \n",
      "---  ------           --------------  ----- \n",
      " 0   category         12299 non-null  object\n",
      " 1   description      12299 non-null  object\n",
      " 2   fit              12299 non-null  object\n",
      " 3   title            12299 non-null  object\n",
      " 4   also_buy         12299 non-null  object\n",
      " 5   tech2            12299 non-null  object\n",
      " 6   brand            12299 non-null  object\n",
      " 7   feature          12299 non-null  object\n",
      " 8   rank             12299 non-null  object\n",
      " 9   also_view        12299 non-null  object\n",
      " 10  details          12299 non-null  object\n",
      " 11  main_cat         12299 non-null  object\n",
      " 12  similar_item     12299 non-null  object\n",
      " 13  date             0 non-null      object\n",
      " 14  price            12299 non-null  object\n",
      " 15  asin             12299 non-null  object\n",
      " 16  imageURL         12299 non-null  object\n",
      " 17  imageURLHighRes  12299 non-null  object\n",
      "dtypes: object(18)\n",
      "memory usage: 1.7+ MB\n"
     ]
    }
   ],
   "source": [
    "metadata_df.info()"
   ]
  },
  {
   "cell_type": "markdown",
   "id": "b75c7daa",
   "metadata": {},
   "source": [
    "`price` is an object right now, this needs to convert to numeric value. \n",
    "`Ranking` can also be processed since we just need to extract the number from this"
   ]
  },
  {
   "cell_type": "code",
   "execution_count": 33,
   "id": "119aaf83",
   "metadata": {},
   "outputs": [],
   "source": [
    "#removing dollar sign from price and replacing those values with 0 \n",
    "metadata_df['price'] = metadata_df[\"price\"].str.replace(\"$\", \"\", regex=False)\n",
    "metadata_df[\"price\"].fillna(0, inplace = True)"
   ]
  },
  {
   "cell_type": "code",
   "execution_count": 34,
   "id": "21fe4067",
   "metadata": {},
   "outputs": [],
   "source": [
    "#extracting string and converting to float\n",
    "\n",
    "metadata_df[\"price\"] = metadata_df[\"price\"].str.strip()\n",
    "metadata_df['price_USD']= metadata_df['price'].str.extract(r'(\\d*?\\.\\d{2})', expand=False)\n",
    "metadata_df['price_USD'] = metadata_df['price_USD'].astype(float)"
   ]
  },
  {
   "cell_type": "code",
   "execution_count": 35,
   "id": "0287f7a3",
   "metadata": {},
   "outputs": [],
   "source": [
    "metadata_df.drop(columns= \"price\",inplace=True)"
   ]
  },
  {
   "cell_type": "code",
   "execution_count": 36,
   "id": "4cddbb48",
   "metadata": {},
   "outputs": [],
   "source": [
    "metadata_df[['ranking','remove']] = metadata_df[\"rank\"].str.split(\" \", n=1,expand = True)"
   ]
  },
  {
   "cell_type": "code",
   "execution_count": 37,
   "id": "8d219a7d",
   "metadata": {},
   "outputs": [],
   "source": [
    "#convert ranking column to integer\n",
    "metadata_df['ranking'] = metadata_df[\"ranking\"].str.replace(\",\", \"\", regex=False)\n",
    "metadata_df[\"ranking\"].fillna(0, inplace = True)\n",
    "metadata_df[\"ranking\"] =metadata_df[\"ranking\"].astype(\"int32\")"
   ]
  },
  {
   "cell_type": "code",
   "execution_count": 38,
   "id": "d87be9dc",
   "metadata": {},
   "outputs": [
    {
     "name": "stdout",
     "output_type": "stream",
     "text": [
      "<class 'pandas.core.frame.DataFrame'>\n",
      "RangeIndex: 12299 entries, 0 to 12298\n",
      "Data columns (total 20 columns):\n",
      " #   Column           Non-Null Count  Dtype  \n",
      "---  ------           --------------  -----  \n",
      " 0   category         12299 non-null  object \n",
      " 1   description      12299 non-null  object \n",
      " 2   fit              12299 non-null  object \n",
      " 3   title            12299 non-null  object \n",
      " 4   also_buy         12299 non-null  object \n",
      " 5   tech2            12299 non-null  object \n",
      " 6   brand            12299 non-null  object \n",
      " 7   feature          12299 non-null  object \n",
      " 8   rank             12299 non-null  object \n",
      " 9   also_view        12299 non-null  object \n",
      " 10  details          12299 non-null  object \n",
      " 11  main_cat         12299 non-null  object \n",
      " 12  similar_item     12299 non-null  object \n",
      " 13  date             0 non-null      object \n",
      " 14  asin             12299 non-null  object \n",
      " 15  imageURL         12299 non-null  object \n",
      " 16  imageURLHighRes  12299 non-null  object \n",
      " 17  price_USD        6958 non-null   float64\n",
      " 18  ranking          12299 non-null  int32  \n",
      " 19  remove           12201 non-null  object \n",
      "dtypes: float64(1), int32(1), object(18)\n",
      "memory usage: 1.8+ MB\n"
     ]
    }
   ],
   "source": [
    "metadata_df.info()"
   ]
  },
  {
   "cell_type": "code",
   "execution_count": 39,
   "id": "d5977a71",
   "metadata": {},
   "outputs": [],
   "source": [
    "#remove unnecessary columns\n",
    "metadata_df.drop(['remove','rank'],axis=1,inplace=True )"
   ]
  },
  {
   "cell_type": "markdown",
   "id": "f90a20ce",
   "metadata": {},
   "source": [
    "## Processing Null Values"
   ]
  },
  {
   "cell_type": "markdown",
   "id": "763fcfe3",
   "metadata": {},
   "source": [
    "*add summary* \n",
    "There are many empty columns in the dataset, and many with just empty lists or the same value repeated throughout: category, tech1, fit, tech2, brand, feature, main_cat, date. \n",
    "\n",
    "Equally since we wont be needing the image URLs we can remove these columns as well."
   ]
  },
  {
   "cell_type": "code",
   "execution_count": 40,
   "id": "fb92a319",
   "metadata": {},
   "outputs": [],
   "source": [
    "#removing columns \n",
    "columns= [\"category\", \"fit\", \"tech2\", \"brand\", \"feature\", \"main_cat\", \"date\", \"imageURL\",\"imageURLHighRes\",\"similar_item\"]\n",
    "\n",
    "metadata_df.drop(columns,axis=1, inplace=True)"
   ]
  },
  {
   "cell_type": "code",
   "execution_count": 41,
   "id": "cbf1ab88",
   "metadata": {},
   "outputs": [
    {
     "data": {
      "text/html": [
       "<div>\n",
       "<style scoped>\n",
       "    .dataframe tbody tr th:only-of-type {\n",
       "        vertical-align: middle;\n",
       "    }\n",
       "\n",
       "    .dataframe tbody tr th {\n",
       "        vertical-align: top;\n",
       "    }\n",
       "\n",
       "    .dataframe thead th {\n",
       "        text-align: right;\n",
       "    }\n",
       "</style>\n",
       "<table border=\"1\" class=\"dataframe\">\n",
       "  <thead>\n",
       "    <tr style=\"text-align: right;\">\n",
       "      <th></th>\n",
       "      <th>description</th>\n",
       "      <th>title</th>\n",
       "      <th>also_buy</th>\n",
       "      <th>also_view</th>\n",
       "      <th>details</th>\n",
       "      <th>asin</th>\n",
       "      <th>price_USD</th>\n",
       "      <th>ranking</th>\n",
       "    </tr>\n",
       "  </thead>\n",
       "  <tbody>\n",
       "    <tr>\n",
       "      <th>0</th>\n",
       "      <td>[After a long day of handling thorny situation...</td>\n",
       "      <td>Crabtree &amp;amp; Evelyn - Gardener's Ultra-Moist...</td>\n",
       "      <td>[B00GHX7H0A, B00FRERO7G, B00R68QXCS, B000Z65AZ...</td>\n",
       "      <td>[B00FRERO7G, B00GHX7H0A, B07GFHJRMX, B00TJ3NBN...</td>\n",
       "      <td>{'\n",
       "    Product Dimensions: \n",
       "    ': '2.2 x 2.2 ...</td>\n",
       "      <td>B00004U9V2</td>\n",
       "      <td>30.0</td>\n",
       "      <td>4324</td>\n",
       "    </tr>\n",
       "    <tr>\n",
       "      <th>1</th>\n",
       "      <td>[If you haven't experienced the pleasures of b...</td>\n",
       "      <td>AHAVA Bath Salts</td>\n",
       "      <td>[]</td>\n",
       "      <td>[]</td>\n",
       "      <td>{'\n",
       "    Product Dimensions: \n",
       "    ': '3 x 3.5 x ...</td>\n",
       "      <td>B0000531EN</td>\n",
       "      <td>NaN</td>\n",
       "      <td>1633549</td>\n",
       "    </tr>\n",
       "  </tbody>\n",
       "</table>\n",
       "</div>"
      ],
      "text/plain": [
       "                                         description  \\\n",
       "0  [After a long day of handling thorny situation...   \n",
       "1  [If you haven't experienced the pleasures of b...   \n",
       "\n",
       "                                               title  \\\n",
       "0  Crabtree &amp; Evelyn - Gardener's Ultra-Moist...   \n",
       "1                                   AHAVA Bath Salts   \n",
       "\n",
       "                                            also_buy  \\\n",
       "0  [B00GHX7H0A, B00FRERO7G, B00R68QXCS, B000Z65AZ...   \n",
       "1                                                 []   \n",
       "\n",
       "                                           also_view  \\\n",
       "0  [B00FRERO7G, B00GHX7H0A, B07GFHJRMX, B00TJ3NBN...   \n",
       "1                                                 []   \n",
       "\n",
       "                                             details        asin  price_USD  \\\n",
       "0  {'\n",
       "    Product Dimensions: \n",
       "    ': '2.2 x 2.2 ...  B00004U9V2       30.0   \n",
       "1  {'\n",
       "    Product Dimensions: \n",
       "    ': '3 x 3.5 x ...  B0000531EN        NaN   \n",
       "\n",
       "   ranking  \n",
       "0     4324  \n",
       "1  1633549  "
      ]
     },
     "execution_count": 41,
     "metadata": {},
     "output_type": "execute_result"
    }
   ],
   "source": [
    "metadata_df.head(2)"
   ]
  },
  {
   "cell_type": "code",
   "execution_count": 42,
   "id": "7af0a800",
   "metadata": {},
   "outputs": [],
   "source": [
    "#applying NaN values in place of empty lists\n",
    "metadata_df = metadata_df.where(~metadata_df.applymap(lambda x: x == [] or x is None or x == ''))"
   ]
  },
  {
   "cell_type": "code",
   "execution_count": 43,
   "id": "9669b809",
   "metadata": {},
   "outputs": [],
   "source": [
    "#removing description from list \n",
    "metadata_df['product_description'] = metadata_df['description'].str.join(', ')"
   ]
  },
  {
   "cell_type": "code",
   "execution_count": 44,
   "id": "e3b23453",
   "metadata": {},
   "outputs": [
    {
     "data": {
      "text/plain": [
       "dict_keys(['\\n    Product Dimensions: \\n    ', 'Shipping Weight:', 'Domestic Shipping: ', 'International Shipping: ', 'ASIN:', 'Item model number:'])"
      ]
     },
     "execution_count": 44,
     "metadata": {},
     "output_type": "execute_result"
    }
   ],
   "source": [
    "#taking a look at details column\n",
    "d = metadata_df[\"details\"].iloc[0]\n",
    "d.keys()"
   ]
  },
  {
   "cell_type": "markdown",
   "id": "3f857ecf",
   "metadata": {},
   "source": [
    "Taking a look at the values that are contained in the `details` column, we can pass on these since these don't have much relation to contributing to the individual products. If we didnt already have access to the ASIN then we would keep this value. "
   ]
  },
  {
   "cell_type": "code",
   "execution_count": 45,
   "id": "5ba3a28c",
   "metadata": {},
   "outputs": [],
   "source": [
    "metadata_df.drop([\"details\",\"description\"],axis=1, inplace=True)"
   ]
  },
  {
   "cell_type": "code",
   "execution_count": 46,
   "id": "1578081b",
   "metadata": {},
   "outputs": [
    {
     "data": {
      "text/plain": [
       "title                     0\n",
       "also_buy               4575\n",
       "also_view              3253\n",
       "asin                      0\n",
       "price_USD              5341\n",
       "ranking                   0\n",
       "product_description     150\n",
       "dtype: int64"
      ]
     },
     "execution_count": 46,
     "metadata": {},
     "output_type": "execute_result"
    }
   ],
   "source": [
    "metadata_df.isna().sum()"
   ]
  },
  {
   "cell_type": "markdown",
   "id": "603f7cab",
   "metadata": {},
   "source": [
    "#### Also buy and Also view"
   ]
  },
  {
   "cell_type": "markdown",
   "id": "29d3e87a",
   "metadata": {},
   "source": [
    "We can extract also buy and also view counts from the lists so that we can remove these columns: "
   ]
  },
  {
   "cell_type": "code",
   "execution_count": 47,
   "id": "fecbf9e2",
   "metadata": {},
   "outputs": [],
   "source": [
    "#for loop to get also_buy counts, also_view counts \n",
    "columns = [\"also_buy\",\"also_view\"]\n",
    "\n",
    "for column in columns: \n",
    "    name =  column + \"_\" + \"counts\"\n",
    "    \n",
    "    #Using explode function to count all of the times each asin appears\n",
    "    x = metadata_df.explode(column)[column]\n",
    "    \n",
    "    my_count = x.value_counts()\n",
    "    \n",
    "    #creating a dictionary\n",
    "    dict_counts = my_count.to_dict()\n",
    "    \n",
    "    #assigning the values using the dictionary created and creating a new column\n",
    "    metadata_df[name] = metadata_df[\"asin\"].map(dict_counts)\n"
   ]
  },
  {
   "cell_type": "code",
   "execution_count": 48,
   "id": "a7425366",
   "metadata": {},
   "outputs": [
    {
     "data": {
      "text/html": [
       "<div>\n",
       "<style scoped>\n",
       "    .dataframe tbody tr th:only-of-type {\n",
       "        vertical-align: middle;\n",
       "    }\n",
       "\n",
       "    .dataframe tbody tr th {\n",
       "        vertical-align: top;\n",
       "    }\n",
       "\n",
       "    .dataframe thead th {\n",
       "        text-align: right;\n",
       "    }\n",
       "</style>\n",
       "<table border=\"1\" class=\"dataframe\">\n",
       "  <thead>\n",
       "    <tr style=\"text-align: right;\">\n",
       "      <th></th>\n",
       "      <th>title</th>\n",
       "      <th>also_buy</th>\n",
       "      <th>also_view</th>\n",
       "      <th>asin</th>\n",
       "      <th>price_USD</th>\n",
       "      <th>ranking</th>\n",
       "      <th>product_description</th>\n",
       "      <th>also_buy_counts</th>\n",
       "      <th>also_view_counts</th>\n",
       "    </tr>\n",
       "  </thead>\n",
       "  <tbody>\n",
       "    <tr>\n",
       "      <th>0</th>\n",
       "      <td>Crabtree &amp;amp; Evelyn - Gardener's Ultra-Moist...</td>\n",
       "      <td>[B00GHX7H0A, B00FRERO7G, B00R68QXCS, B000Z65AZ...</td>\n",
       "      <td>[B00FRERO7G, B00GHX7H0A, B07GFHJRMX, B00TJ3NBN...</td>\n",
       "      <td>B00004U9V2</td>\n",
       "      <td>30.0</td>\n",
       "      <td>4324</td>\n",
       "      <td>After a long day of handling thorny situations...</td>\n",
       "      <td>56.0</td>\n",
       "      <td>48.0</td>\n",
       "    </tr>\n",
       "    <tr>\n",
       "      <th>1</th>\n",
       "      <td>AHAVA Bath Salts</td>\n",
       "      <td>NaN</td>\n",
       "      <td>NaN</td>\n",
       "      <td>B0000531EN</td>\n",
       "      <td>NaN</td>\n",
       "      <td>1633549</td>\n",
       "      <td>If you haven't experienced the pleasures of ba...</td>\n",
       "      <td>NaN</td>\n",
       "      <td>NaN</td>\n",
       "    </tr>\n",
       "  </tbody>\n",
       "</table>\n",
       "</div>"
      ],
      "text/plain": [
       "                                               title  \\\n",
       "0  Crabtree &amp; Evelyn - Gardener's Ultra-Moist...   \n",
       "1                                   AHAVA Bath Salts   \n",
       "\n",
       "                                            also_buy  \\\n",
       "0  [B00GHX7H0A, B00FRERO7G, B00R68QXCS, B000Z65AZ...   \n",
       "1                                                NaN   \n",
       "\n",
       "                                           also_view        asin  price_USD  \\\n",
       "0  [B00FRERO7G, B00GHX7H0A, B07GFHJRMX, B00TJ3NBN...  B00004U9V2       30.0   \n",
       "1                                                NaN  B0000531EN        NaN   \n",
       "\n",
       "   ranking                                product_description  \\\n",
       "0     4324  After a long day of handling thorny situations...   \n",
       "1  1633549  If you haven't experienced the pleasures of ba...   \n",
       "\n",
       "   also_buy_counts  also_view_counts  \n",
       "0             56.0              48.0  \n",
       "1              NaN               NaN  "
      ]
     },
     "execution_count": 48,
     "metadata": {},
     "output_type": "execute_result"
    }
   ],
   "source": [
    "metadata_df.head(2)"
   ]
  },
  {
   "cell_type": "code",
   "execution_count": 49,
   "id": "83c6e77e",
   "metadata": {},
   "outputs": [],
   "source": [
    "metadata_df[\"also_buy_counts\"].fillna(0, inplace = True)\n",
    "metadata_df[\"also_view_counts\"].fillna(0, inplace = True)"
   ]
  },
  {
   "cell_type": "code",
   "execution_count": 50,
   "id": "cca78abd",
   "metadata": {},
   "outputs": [],
   "source": [
    "columns = ['also_buy','also_view']\n",
    "for column in columns: \n",
    "     metadata_df = metadata_df.drop([column],axis=1)"
   ]
  },
  {
   "cell_type": "markdown",
   "id": "66b5d103",
   "metadata": {},
   "source": [
    "if product description is null then we will remove these since they only make up 1.2% of the dataset"
   ]
  },
  {
   "cell_type": "code",
   "execution_count": 51,
   "id": "5c7752fa",
   "metadata": {},
   "outputs": [
    {
     "data": {
      "text/plain": [
       "1.219611350516302"
      ]
     },
     "execution_count": 51,
     "metadata": {},
     "output_type": "execute_result"
    }
   ],
   "source": [
    "(metadata_df[\"product_description\"].isna().sum()/metadata_df.shape[0])*100"
   ]
  },
  {
   "cell_type": "code",
   "execution_count": 52,
   "id": "54f5eaf1",
   "metadata": {},
   "outputs": [],
   "source": [
    "metadata_df = metadata_df[metadata_df['product_description'].notna()]"
   ]
  },
  {
   "cell_type": "code",
   "execution_count": 53,
   "id": "5b8b5b3b",
   "metadata": {},
   "outputs": [
    {
     "data": {
      "text/plain": [
       "title                     0\n",
       "asin                      0\n",
       "price_USD              5218\n",
       "ranking                   0\n",
       "product_description       0\n",
       "also_buy_counts           0\n",
       "also_view_counts          0\n",
       "dtype: int64"
      ]
     },
     "execution_count": 53,
     "metadata": {},
     "output_type": "execute_result"
    }
   ],
   "source": [
    "metadata_df.isna().sum()"
   ]
  },
  {
   "cell_type": "markdown",
   "id": "da7dad54",
   "metadata": {},
   "source": [
    "Price is still an issue, but since we are measuring trending products and price may be an important factor in determining if it is trending we can leave these in for now"
   ]
  },
  {
   "cell_type": "markdown",
   "id": "379b3f94",
   "metadata": {},
   "source": [
    "### Row Duplicates"
   ]
  },
  {
   "cell_type": "code",
   "execution_count": 54,
   "id": "a65f9e1a",
   "metadata": {},
   "outputs": [
    {
     "data": {
      "text/plain": [
       "183"
      ]
     },
     "execution_count": 54,
     "metadata": {},
     "output_type": "execute_result"
    }
   ],
   "source": [
    "#checking for duplicates\n",
    "metadata_df.duplicated().sum()"
   ]
  },
  {
   "cell_type": "code",
   "execution_count": 55,
   "id": "c6b1cf11",
   "metadata": {},
   "outputs": [
    {
     "data": {
      "text/plain": [
       "asin        title                                                                                   \n",
       "B00004U9V2  Crabtree &amp; Evelyn - Gardener's Ultra-Moisturising Hand Therapy Pump - 250g/8.8 OZ       1\n",
       "B0000531EN  AHAVA Bath Salts                                                                            1\n",
       "B0000532JH  AHAVA Dead Sea Mineral Mud, 8.5 oz, Pack of 4                                               1\n",
       "B00005A77F  Crabtree &amp; Evelyn Hand Soap, Gardeners, 10.1 fl. oz.                                    1\n",
       "B00005NDTD  Soy Milk Hand Crme                                                                          1\n",
       "                                                                                                       ..\n",
       "B0002ZZT5Y  Glycolix Elite Fortified Facial Cream, 1.6 oz                                               1\n",
       "B0003MJ9DY  Glo Skin Beauty Minerals Blush, Sheer Petal                                                 1\n",
       "B0003MJFSS  Glo Skin Beauty Precision Brow Pencil - Blonde - Eyebrow Pencil, 3 Shades | Cruelty Free    1\n",
       "B0003MJITY  Glo Minerals Precision Lip Pencil, Rosewood, .04 Ounce                                      1\n",
       "B0003MJIWQ  glo Minerals Eye Shadow, Rain Forest                                                        1\n",
       "Name: title, Length: 183, dtype: int64"
      ]
     },
     "execution_count": 55,
     "metadata": {},
     "output_type": "execute_result"
    }
   ],
   "source": [
    "duplicate_df = metadata_df[metadata_df.duplicated()]\n",
    "duplicate_df.groupby('asin')['title'].value_counts(ascending=True)"
   ]
  },
  {
   "cell_type": "markdown",
   "id": "bbb4b686",
   "metadata": {},
   "source": [
    "Doing a quick groupby the value counts seem to check out as just being duplicates so we can remove these from the dataset. "
   ]
  },
  {
   "cell_type": "code",
   "execution_count": 56,
   "id": "13d0bf4c",
   "metadata": {},
   "outputs": [],
   "source": [
    "#removing duplicates\n",
    "metadata_df = metadata_df.drop_duplicates()"
   ]
  },
  {
   "cell_type": "code",
   "execution_count": 57,
   "id": "cdd19a04",
   "metadata": {},
   "outputs": [
    {
     "data": {
      "text/plain": [
       "0"
      ]
     },
     "execution_count": 57,
     "metadata": {},
     "output_type": "execute_result"
    }
   ],
   "source": [
    "#sanity check\n",
    "metadata_df.duplicated().sum()"
   ]
  },
  {
   "cell_type": "code",
   "execution_count": 207,
   "id": "b504f849",
   "metadata": {},
   "outputs": [
    {
     "data": {
      "text/html": [
       "<div>\n",
       "<style scoped>\n",
       "    .dataframe tbody tr th:only-of-type {\n",
       "        vertical-align: middle;\n",
       "    }\n",
       "\n",
       "    .dataframe tbody tr th {\n",
       "        vertical-align: top;\n",
       "    }\n",
       "\n",
       "    .dataframe thead th {\n",
       "        text-align: right;\n",
       "    }\n",
       "</style>\n",
       "<table border=\"1\" class=\"dataframe\">\n",
       "  <thead>\n",
       "    <tr style=\"text-align: right;\">\n",
       "      <th></th>\n",
       "      <th>title</th>\n",
       "      <th>asin</th>\n",
       "      <th>price_USD</th>\n",
       "      <th>ranking</th>\n",
       "      <th>product_description</th>\n",
       "      <th>also_buy_counts</th>\n",
       "      <th>also_view_counts</th>\n",
       "    </tr>\n",
       "  </thead>\n",
       "  <tbody>\n",
       "    <tr>\n",
       "      <th>0</th>\n",
       "      <td>Crabtree &amp;amp; Evelyn - Gardener's Ultra-Moisturising Hand Therapy Pump - 250g/8.8 OZ</td>\n",
       "      <td>B00004U9V2</td>\n",
       "      <td>30.0</td>\n",
       "      <td>4324</td>\n",
       "      <td>After a long day of handling thorny situations, our new hand therapy pump is just the help you need. It contains shea butter as well as extracts o...</td>\n",
       "      <td>56.0</td>\n",
       "      <td>48.0</td>\n",
       "    </tr>\n",
       "    <tr>\n",
       "      <th>1</th>\n",
       "      <td>AHAVA Bath Salts</td>\n",
       "      <td>B0000531EN</td>\n",
       "      <td>NaN</td>\n",
       "      <td>1633549</td>\n",
       "      <td>If you haven't experienced the pleasures of bathing in the Dead Sea, Bath Crystals are the next best thing. Rich in health-inducing minerals inclu...</td>\n",
       "      <td>0.0</td>\n",
       "      <td>0.0</td>\n",
       "    </tr>\n",
       "  </tbody>\n",
       "</table>\n",
       "</div>"
      ],
      "text/plain": [
       "                                                                                   title  \\\n",
       "0  Crabtree &amp; Evelyn - Gardener's Ultra-Moisturising Hand Therapy Pump - 250g/8.8 OZ   \n",
       "1                                                                       AHAVA Bath Salts   \n",
       "\n",
       "         asin  price_USD  ranking  \\\n",
       "0  B00004U9V2       30.0     4324   \n",
       "1  B0000531EN        NaN  1633549   \n",
       "\n",
       "                                                                                                                                     product_description  \\\n",
       "0  After a long day of handling thorny situations, our new hand therapy pump is just the help you need. It contains shea butter as well as extracts o...   \n",
       "1  If you haven't experienced the pleasures of bathing in the Dead Sea, Bath Crystals are the next best thing. Rich in health-inducing minerals inclu...   \n",
       "\n",
       "   also_buy_counts  also_view_counts  \n",
       "0             56.0              48.0  \n",
       "1              0.0               0.0  "
      ]
     },
     "execution_count": 207,
     "metadata": {},
     "output_type": "execute_result"
    }
   ],
   "source": [
    "metadata_df_clean = metadata_df.copy()\n",
    "metadata_df_clean.head(2)"
   ]
  },
  {
   "cell_type": "markdown",
   "id": "6dc645f1",
   "metadata": {},
   "source": [
    "### Initial data analysis"
   ]
  },
  {
   "cell_type": "markdown",
   "id": "95275d8f",
   "metadata": {},
   "source": [
    "How do we diagnose if a product is trending or not? \n",
    "- We can analyze the product rating reviews or the review count increase over time. \n",
    "Let's explore the two from just looking at the review data"
   ]
  },
  {
   "cell_type": "markdown",
   "id": "3235e2e4",
   "metadata": {},
   "source": [
    "Not high count of reviews from 2004 to 2018 "
   ]
  },
  {
   "cell_type": "markdown",
   "id": "d8b6e1bb",
   "metadata": {},
   "source": [
    "Analyzing product rating reviews"
   ]
  },
  {
   "cell_type": "code",
   "execution_count": 208,
   "id": "e2d8438b",
   "metadata": {},
   "outputs": [
    {
     "data": {
      "text/plain": [
       "asin\n",
       "B0013U0EYI    3475\n",
       "B0002ZW5UQ    3455\n",
       "B000IIA5UO    3196\n",
       "B00172O9NO    3068\n",
       "B000NG80GM    3054\n",
       "B000142FVW    3035\n",
       "B002K6AHQY    2742\n",
       "B000ASDGK8    2732\n",
       "B000PZA2KS    2717\n",
       "B00176GSEI    2635\n",
       "Name: asin, dtype: int64"
      ]
     },
     "execution_count": 208,
     "metadata": {},
     "output_type": "execute_result"
    }
   ],
   "source": [
    "clean_review_df.groupby('asin')[\"asin\"].count().sort_values(ascending=False).head(10)"
   ]
  },
  {
   "cell_type": "code",
   "execution_count": 209,
   "id": "0a924659",
   "metadata": {},
   "outputs": [
    {
     "data": {
      "text/plain": [
       "(3475, 11)"
      ]
     },
     "execution_count": 209,
     "metadata": {},
     "output_type": "execute_result"
    }
   ],
   "source": [
    "B0013U0EYI_df = clean_review_df.loc[clean_review_df[\"asin\"]=='B0013U0EYI'].copy()\n",
    "B0013U0EYI_df.shape"
   ]
  },
  {
   "cell_type": "code",
   "execution_count": 210,
   "id": "f46dedc6",
   "metadata": {},
   "outputs": [
    {
     "name": "stdout",
     "output_type": "stream",
     "text": [
      "<class 'pandas.core.frame.DataFrame'>\n",
      "Int64Index: 3475 entries, 130741 to 504409\n",
      "Data columns (total 11 columns):\n",
      " #   Column        Non-Null Count  Dtype         \n",
      "---  ------        --------------  -----         \n",
      " 0   overall       3475 non-null   float16       \n",
      " 1   vote          3475 non-null   float32       \n",
      " 2   verified      3475 non-null   int32         \n",
      " 3   reviewTime    3475 non-null   datetime64[ns]\n",
      " 4   reviewerID    3475 non-null   object        \n",
      " 5   asin          3475 non-null   object        \n",
      " 6   reviewerName  3475 non-null   object        \n",
      " 7   reviewText    3475 non-null   object        \n",
      " 8   summary       3475 non-null   object        \n",
      " 9   year          3475 non-null   int32         \n",
      " 10  month         3475 non-null   int32         \n",
      "dtypes: datetime64[ns](1), float16(1), float32(1), int32(3), object(5)\n",
      "memory usage: 251.1+ KB\n"
     ]
    }
   ],
   "source": [
    "B0013U0EYI_df.info()"
   ]
  },
  {
   "cell_type": "code",
   "execution_count": 211,
   "id": "f249db0e",
   "metadata": {},
   "outputs": [
    {
     "name": "stdout",
     "output_type": "stream",
     "text": [
      "type for datetime.date as index: <class 'pandas.core.indexes.datetimes.DatetimeIndex'>\n"
     ]
    }
   ],
   "source": [
    "#https://stackoverflow.com/questions/53677957/assigning-datetime-as-index-does-not-give-datetimeindex\n",
    "B0013U0EYI_df.set_index('reviewTime', inplace=True) # set datetime.date as index\n",
    "print(f\"type for datetime.date as index: {type(B0013U0EYI_df.index)}\")"
   ]
  },
  {
   "cell_type": "code",
   "execution_count": 212,
   "id": "2f5c720b",
   "metadata": {},
   "outputs": [],
   "source": [
    "#setting date colymn as index\n",
    "monthly_ts = B0013U0EYI_df.resample(\"M\").mean(numeric_only=True)\n",
    "monthly_ts = monthly_ts.iloc[:,0:1]"
   ]
  },
  {
   "cell_type": "code",
   "execution_count": 213,
   "id": "1d5010f3",
   "metadata": {},
   "outputs": [
    {
     "data": {
      "application/vnd.plotly.v1+json": {
       "config": {
        "plotlyServerURL": "https://plot.ly"
       },
       "data": [
        {
         "hovertemplate": "variable=overall<br>reviewTime=%{x}<br>value=%{y}<extra></extra>",
         "legendgroup": "overall",
         "line": {
          "color": "#636efa",
          "dash": "solid"
         },
         "marker": {
          "symbol": "circle"
         },
         "mode": "lines",
         "name": "overall",
         "orientation": "v",
         "showlegend": true,
         "type": "scatter",
         "x": [
          "2006-08-31T00:00:00",
          "2006-09-30T00:00:00",
          "2006-10-31T00:00:00",
          "2006-11-30T00:00:00",
          "2006-12-31T00:00:00",
          "2007-01-31T00:00:00",
          "2007-02-28T00:00:00",
          "2007-03-31T00:00:00",
          "2007-04-30T00:00:00",
          "2007-05-31T00:00:00",
          "2007-06-30T00:00:00",
          "2007-07-31T00:00:00",
          "2007-08-31T00:00:00",
          "2007-09-30T00:00:00",
          "2007-10-31T00:00:00",
          "2007-11-30T00:00:00",
          "2007-12-31T00:00:00",
          "2008-01-31T00:00:00",
          "2008-02-29T00:00:00",
          "2008-03-31T00:00:00",
          "2008-04-30T00:00:00",
          "2008-05-31T00:00:00",
          "2008-06-30T00:00:00",
          "2008-07-31T00:00:00",
          "2008-08-31T00:00:00",
          "2008-09-30T00:00:00",
          "2008-10-31T00:00:00",
          "2008-11-30T00:00:00",
          "2008-12-31T00:00:00",
          "2009-01-31T00:00:00",
          "2009-02-28T00:00:00",
          "2009-03-31T00:00:00",
          "2009-04-30T00:00:00",
          "2009-05-31T00:00:00",
          "2009-06-30T00:00:00",
          "2009-07-31T00:00:00",
          "2009-08-31T00:00:00",
          "2009-09-30T00:00:00",
          "2009-10-31T00:00:00",
          "2009-11-30T00:00:00",
          "2009-12-31T00:00:00",
          "2010-01-31T00:00:00",
          "2010-02-28T00:00:00",
          "2010-03-31T00:00:00",
          "2010-04-30T00:00:00",
          "2010-05-31T00:00:00",
          "2010-06-30T00:00:00",
          "2010-07-31T00:00:00",
          "2010-08-31T00:00:00",
          "2010-09-30T00:00:00",
          "2010-10-31T00:00:00",
          "2010-11-30T00:00:00",
          "2010-12-31T00:00:00",
          "2011-01-31T00:00:00",
          "2011-02-28T00:00:00",
          "2011-03-31T00:00:00",
          "2011-04-30T00:00:00",
          "2011-05-31T00:00:00",
          "2011-06-30T00:00:00",
          "2011-07-31T00:00:00",
          "2011-08-31T00:00:00",
          "2011-09-30T00:00:00",
          "2011-10-31T00:00:00",
          "2011-11-30T00:00:00",
          "2011-12-31T00:00:00",
          "2012-01-31T00:00:00",
          "2012-02-29T00:00:00",
          "2012-03-31T00:00:00",
          "2012-04-30T00:00:00",
          "2012-05-31T00:00:00",
          "2012-06-30T00:00:00",
          "2012-07-31T00:00:00",
          "2012-08-31T00:00:00",
          "2012-09-30T00:00:00",
          "2012-10-31T00:00:00",
          "2012-11-30T00:00:00",
          "2012-12-31T00:00:00",
          "2013-01-31T00:00:00",
          "2013-02-28T00:00:00",
          "2013-03-31T00:00:00",
          "2013-04-30T00:00:00",
          "2013-05-31T00:00:00",
          "2013-06-30T00:00:00",
          "2013-07-31T00:00:00",
          "2013-08-31T00:00:00",
          "2013-09-30T00:00:00",
          "2013-10-31T00:00:00",
          "2013-11-30T00:00:00",
          "2013-12-31T00:00:00",
          "2014-01-31T00:00:00",
          "2014-02-28T00:00:00",
          "2014-03-31T00:00:00",
          "2014-04-30T00:00:00",
          "2014-05-31T00:00:00",
          "2014-06-30T00:00:00",
          "2014-07-31T00:00:00",
          "2014-08-31T00:00:00",
          "2014-09-30T00:00:00",
          "2014-10-31T00:00:00",
          "2014-11-30T00:00:00",
          "2014-12-31T00:00:00",
          "2015-01-31T00:00:00",
          "2015-02-28T00:00:00",
          "2015-03-31T00:00:00",
          "2015-04-30T00:00:00",
          "2015-05-31T00:00:00",
          "2015-06-30T00:00:00",
          "2015-07-31T00:00:00",
          "2015-08-31T00:00:00",
          "2015-09-30T00:00:00",
          "2015-10-31T00:00:00",
          "2015-11-30T00:00:00",
          "2015-12-31T00:00:00",
          "2016-01-31T00:00:00",
          "2016-02-29T00:00:00",
          "2016-03-31T00:00:00",
          "2016-04-30T00:00:00",
          "2016-05-31T00:00:00",
          "2016-06-30T00:00:00",
          "2016-07-31T00:00:00",
          "2016-08-31T00:00:00",
          "2016-09-30T00:00:00",
          "2016-10-31T00:00:00",
          "2016-11-30T00:00:00",
          "2016-12-31T00:00:00",
          "2017-01-31T00:00:00",
          "2017-02-28T00:00:00",
          "2017-03-31T00:00:00",
          "2017-04-30T00:00:00",
          "2017-05-31T00:00:00",
          "2017-06-30T00:00:00",
          "2017-07-31T00:00:00",
          "2017-08-31T00:00:00",
          "2017-09-30T00:00:00",
          "2017-10-31T00:00:00",
          "2017-11-30T00:00:00",
          "2017-12-31T00:00:00",
          "2018-01-31T00:00:00",
          "2018-02-28T00:00:00",
          "2018-03-31T00:00:00",
          "2018-04-30T00:00:00",
          "2018-05-31T00:00:00",
          "2018-06-30T00:00:00",
          "2018-07-31T00:00:00",
          "2018-08-31T00:00:00",
          "2018-09-30T00:00:00",
          "2018-10-31T00:00:00",
          "2018-11-30T00:00:00",
          "2018-12-31T00:00:00"
         ],
         "xaxis": "x",
         "y": [
          5,
          null,
          null,
          null,
          null,
          null,
          null,
          5,
          null,
          null,
          null,
          1,
          null,
          null,
          null,
          null,
          null,
          null,
          5,
          null,
          null,
          5,
          null,
          5,
          4,
          3.6666667461395264,
          null,
          4,
          5,
          4.666666507720947,
          4.666666507720947,
          4,
          2.6666667461395264,
          1,
          4.5,
          5,
          5,
          4.199999809265137,
          3,
          5,
          3.6666667461395264,
          3.6666667461395264,
          null,
          4.333333492279053,
          4.666666507720947,
          3.75,
          4.769230842590332,
          4.599999904632568,
          4.5,
          4.599999904632568,
          5,
          4.111111164093018,
          3.5,
          4.333333492279053,
          4,
          3.5,
          3.75,
          4.333333492279053,
          4,
          4.5,
          4.400000095367432,
          4.199999809265137,
          4.692307472229004,
          4.25,
          4.333333492279053,
          4.666666507720947,
          4.400000095367432,
          5,
          4.111111164093018,
          4.307692527770996,
          4.4285712242126465,
          4.44444465637207,
          4.300000190734863,
          4.222222328186035,
          3.2142856121063232,
          3.9000000953674316,
          4.409090995788574,
          4.485714435577393,
          4.161290168762207,
          4.19444465637207,
          4.25,
          4.400000095367432,
          3.971428632736206,
          4.2727274894714355,
          4,
          4.4242424964904785,
          4.416666507720947,
          4.1315789222717285,
          4.079999923706055,
          4.307692527770996,
          4.285714149475098,
          4.41304349899292,
          4.4571428298950195,
          4.282051086425781,
          4.357142925262451,
          4.4146342277526855,
          4.300000190734863,
          4.454545497894287,
          4.306122303009033,
          4.5714287757873535,
          4.232142925262451,
          4.4285712242126465,
          4.446808338165283,
          4.595744609832764,
          4.354166507720947,
          4.592592716217041,
          4,
          4.04878044128418,
          4.425000190734863,
          4.146341323852539,
          4.3947367668151855,
          4.387754917144775,
          4.677419185638428,
          4.5227274894714355,
          4.392157077789307,
          4.096153736114502,
          4.452381134033203,
          4.5,
          4,
          4.019999980926514,
          4.363636493682861,
          4.551020622253418,
          4.395349025726318,
          4.333333492279053,
          4.309523582458496,
          4.106382846832275,
          3.8913042545318604,
          3.866666555404663,
          4.145833492279053,
          3.903225898742676,
          3.7068965435028076,
          3.6666667461395264,
          3.8108108043670654,
          3.761904716491699,
          3.671428680419922,
          3.9344263076782227,
          3.5714285373687744,
          3.682539701461792,
          3.682539701461792,
          4.113924026489258,
          3.7746479511260986,
          3.3518519401550293,
          4.133333206176758,
          3.8518519401550293,
          3.5999999046325684,
          3.7647058963775635,
          4.111111164093018,
          3.3888888359069824,
          2.9000000953674316
         ],
         "yaxis": "y"
        }
       ],
       "layout": {
        "legend": {
         "title": {
          "text": "average score"
         },
         "tracegroupgap": 0
        },
        "margin": {
         "t": 60
        },
        "template": {
         "data": {
          "bar": [
           {
            "error_x": {
             "color": "#2a3f5f"
            },
            "error_y": {
             "color": "#2a3f5f"
            },
            "marker": {
             "line": {
              "color": "#E5ECF6",
              "width": 0.5
             },
             "pattern": {
              "fillmode": "overlay",
              "size": 10,
              "solidity": 0.2
             }
            },
            "type": "bar"
           }
          ],
          "barpolar": [
           {
            "marker": {
             "line": {
              "color": "#E5ECF6",
              "width": 0.5
             },
             "pattern": {
              "fillmode": "overlay",
              "size": 10,
              "solidity": 0.2
             }
            },
            "type": "barpolar"
           }
          ],
          "carpet": [
           {
            "aaxis": {
             "endlinecolor": "#2a3f5f",
             "gridcolor": "white",
             "linecolor": "white",
             "minorgridcolor": "white",
             "startlinecolor": "#2a3f5f"
            },
            "baxis": {
             "endlinecolor": "#2a3f5f",
             "gridcolor": "white",
             "linecolor": "white",
             "minorgridcolor": "white",
             "startlinecolor": "#2a3f5f"
            },
            "type": "carpet"
           }
          ],
          "choropleth": [
           {
            "colorbar": {
             "outlinewidth": 0,
             "ticks": ""
            },
            "type": "choropleth"
           }
          ],
          "contour": [
           {
            "colorbar": {
             "outlinewidth": 0,
             "ticks": ""
            },
            "colorscale": [
             [
              0,
              "#0d0887"
             ],
             [
              0.1111111111111111,
              "#46039f"
             ],
             [
              0.2222222222222222,
              "#7201a8"
             ],
             [
              0.3333333333333333,
              "#9c179e"
             ],
             [
              0.4444444444444444,
              "#bd3786"
             ],
             [
              0.5555555555555556,
              "#d8576b"
             ],
             [
              0.6666666666666666,
              "#ed7953"
             ],
             [
              0.7777777777777778,
              "#fb9f3a"
             ],
             [
              0.8888888888888888,
              "#fdca26"
             ],
             [
              1,
              "#f0f921"
             ]
            ],
            "type": "contour"
           }
          ],
          "contourcarpet": [
           {
            "colorbar": {
             "outlinewidth": 0,
             "ticks": ""
            },
            "type": "contourcarpet"
           }
          ],
          "heatmap": [
           {
            "colorbar": {
             "outlinewidth": 0,
             "ticks": ""
            },
            "colorscale": [
             [
              0,
              "#0d0887"
             ],
             [
              0.1111111111111111,
              "#46039f"
             ],
             [
              0.2222222222222222,
              "#7201a8"
             ],
             [
              0.3333333333333333,
              "#9c179e"
             ],
             [
              0.4444444444444444,
              "#bd3786"
             ],
             [
              0.5555555555555556,
              "#d8576b"
             ],
             [
              0.6666666666666666,
              "#ed7953"
             ],
             [
              0.7777777777777778,
              "#fb9f3a"
             ],
             [
              0.8888888888888888,
              "#fdca26"
             ],
             [
              1,
              "#f0f921"
             ]
            ],
            "type": "heatmap"
           }
          ],
          "heatmapgl": [
           {
            "colorbar": {
             "outlinewidth": 0,
             "ticks": ""
            },
            "colorscale": [
             [
              0,
              "#0d0887"
             ],
             [
              0.1111111111111111,
              "#46039f"
             ],
             [
              0.2222222222222222,
              "#7201a8"
             ],
             [
              0.3333333333333333,
              "#9c179e"
             ],
             [
              0.4444444444444444,
              "#bd3786"
             ],
             [
              0.5555555555555556,
              "#d8576b"
             ],
             [
              0.6666666666666666,
              "#ed7953"
             ],
             [
              0.7777777777777778,
              "#fb9f3a"
             ],
             [
              0.8888888888888888,
              "#fdca26"
             ],
             [
              1,
              "#f0f921"
             ]
            ],
            "type": "heatmapgl"
           }
          ],
          "histogram": [
           {
            "marker": {
             "pattern": {
              "fillmode": "overlay",
              "size": 10,
              "solidity": 0.2
             }
            },
            "type": "histogram"
           }
          ],
          "histogram2d": [
           {
            "colorbar": {
             "outlinewidth": 0,
             "ticks": ""
            },
            "colorscale": [
             [
              0,
              "#0d0887"
             ],
             [
              0.1111111111111111,
              "#46039f"
             ],
             [
              0.2222222222222222,
              "#7201a8"
             ],
             [
              0.3333333333333333,
              "#9c179e"
             ],
             [
              0.4444444444444444,
              "#bd3786"
             ],
             [
              0.5555555555555556,
              "#d8576b"
             ],
             [
              0.6666666666666666,
              "#ed7953"
             ],
             [
              0.7777777777777778,
              "#fb9f3a"
             ],
             [
              0.8888888888888888,
              "#fdca26"
             ],
             [
              1,
              "#f0f921"
             ]
            ],
            "type": "histogram2d"
           }
          ],
          "histogram2dcontour": [
           {
            "colorbar": {
             "outlinewidth": 0,
             "ticks": ""
            },
            "colorscale": [
             [
              0,
              "#0d0887"
             ],
             [
              0.1111111111111111,
              "#46039f"
             ],
             [
              0.2222222222222222,
              "#7201a8"
             ],
             [
              0.3333333333333333,
              "#9c179e"
             ],
             [
              0.4444444444444444,
              "#bd3786"
             ],
             [
              0.5555555555555556,
              "#d8576b"
             ],
             [
              0.6666666666666666,
              "#ed7953"
             ],
             [
              0.7777777777777778,
              "#fb9f3a"
             ],
             [
              0.8888888888888888,
              "#fdca26"
             ],
             [
              1,
              "#f0f921"
             ]
            ],
            "type": "histogram2dcontour"
           }
          ],
          "mesh3d": [
           {
            "colorbar": {
             "outlinewidth": 0,
             "ticks": ""
            },
            "type": "mesh3d"
           }
          ],
          "parcoords": [
           {
            "line": {
             "colorbar": {
              "outlinewidth": 0,
              "ticks": ""
             }
            },
            "type": "parcoords"
           }
          ],
          "pie": [
           {
            "automargin": true,
            "type": "pie"
           }
          ],
          "scatter": [
           {
            "fillpattern": {
             "fillmode": "overlay",
             "size": 10,
             "solidity": 0.2
            },
            "type": "scatter"
           }
          ],
          "scatter3d": [
           {
            "line": {
             "colorbar": {
              "outlinewidth": 0,
              "ticks": ""
             }
            },
            "marker": {
             "colorbar": {
              "outlinewidth": 0,
              "ticks": ""
             }
            },
            "type": "scatter3d"
           }
          ],
          "scattercarpet": [
           {
            "marker": {
             "colorbar": {
              "outlinewidth": 0,
              "ticks": ""
             }
            },
            "type": "scattercarpet"
           }
          ],
          "scattergeo": [
           {
            "marker": {
             "colorbar": {
              "outlinewidth": 0,
              "ticks": ""
             }
            },
            "type": "scattergeo"
           }
          ],
          "scattergl": [
           {
            "marker": {
             "colorbar": {
              "outlinewidth": 0,
              "ticks": ""
             }
            },
            "type": "scattergl"
           }
          ],
          "scattermapbox": [
           {
            "marker": {
             "colorbar": {
              "outlinewidth": 0,
              "ticks": ""
             }
            },
            "type": "scattermapbox"
           }
          ],
          "scatterpolar": [
           {
            "marker": {
             "colorbar": {
              "outlinewidth": 0,
              "ticks": ""
             }
            },
            "type": "scatterpolar"
           }
          ],
          "scatterpolargl": [
           {
            "marker": {
             "colorbar": {
              "outlinewidth": 0,
              "ticks": ""
             }
            },
            "type": "scatterpolargl"
           }
          ],
          "scatterternary": [
           {
            "marker": {
             "colorbar": {
              "outlinewidth": 0,
              "ticks": ""
             }
            },
            "type": "scatterternary"
           }
          ],
          "surface": [
           {
            "colorbar": {
             "outlinewidth": 0,
             "ticks": ""
            },
            "colorscale": [
             [
              0,
              "#0d0887"
             ],
             [
              0.1111111111111111,
              "#46039f"
             ],
             [
              0.2222222222222222,
              "#7201a8"
             ],
             [
              0.3333333333333333,
              "#9c179e"
             ],
             [
              0.4444444444444444,
              "#bd3786"
             ],
             [
              0.5555555555555556,
              "#d8576b"
             ],
             [
              0.6666666666666666,
              "#ed7953"
             ],
             [
              0.7777777777777778,
              "#fb9f3a"
             ],
             [
              0.8888888888888888,
              "#fdca26"
             ],
             [
              1,
              "#f0f921"
             ]
            ],
            "type": "surface"
           }
          ],
          "table": [
           {
            "cells": {
             "fill": {
              "color": "#EBF0F8"
             },
             "line": {
              "color": "white"
             }
            },
            "header": {
             "fill": {
              "color": "#C8D4E3"
             },
             "line": {
              "color": "white"
             }
            },
            "type": "table"
           }
          ]
         },
         "layout": {
          "annotationdefaults": {
           "arrowcolor": "#2a3f5f",
           "arrowhead": 0,
           "arrowwidth": 1
          },
          "autotypenumbers": "strict",
          "coloraxis": {
           "colorbar": {
            "outlinewidth": 0,
            "ticks": ""
           }
          },
          "colorscale": {
           "diverging": [
            [
             0,
             "#8e0152"
            ],
            [
             0.1,
             "#c51b7d"
            ],
            [
             0.2,
             "#de77ae"
            ],
            [
             0.3,
             "#f1b6da"
            ],
            [
             0.4,
             "#fde0ef"
            ],
            [
             0.5,
             "#f7f7f7"
            ],
            [
             0.6,
             "#e6f5d0"
            ],
            [
             0.7,
             "#b8e186"
            ],
            [
             0.8,
             "#7fbc41"
            ],
            [
             0.9,
             "#4d9221"
            ],
            [
             1,
             "#276419"
            ]
           ],
           "sequential": [
            [
             0,
             "#0d0887"
            ],
            [
             0.1111111111111111,
             "#46039f"
            ],
            [
             0.2222222222222222,
             "#7201a8"
            ],
            [
             0.3333333333333333,
             "#9c179e"
            ],
            [
             0.4444444444444444,
             "#bd3786"
            ],
            [
             0.5555555555555556,
             "#d8576b"
            ],
            [
             0.6666666666666666,
             "#ed7953"
            ],
            [
             0.7777777777777778,
             "#fb9f3a"
            ],
            [
             0.8888888888888888,
             "#fdca26"
            ],
            [
             1,
             "#f0f921"
            ]
           ],
           "sequentialminus": [
            [
             0,
             "#0d0887"
            ],
            [
             0.1111111111111111,
             "#46039f"
            ],
            [
             0.2222222222222222,
             "#7201a8"
            ],
            [
             0.3333333333333333,
             "#9c179e"
            ],
            [
             0.4444444444444444,
             "#bd3786"
            ],
            [
             0.5555555555555556,
             "#d8576b"
            ],
            [
             0.6666666666666666,
             "#ed7953"
            ],
            [
             0.7777777777777778,
             "#fb9f3a"
            ],
            [
             0.8888888888888888,
             "#fdca26"
            ],
            [
             1,
             "#f0f921"
            ]
           ]
          },
          "colorway": [
           "#636efa",
           "#EF553B",
           "#00cc96",
           "#ab63fa",
           "#FFA15A",
           "#19d3f3",
           "#FF6692",
           "#B6E880",
           "#FF97FF",
           "#FECB52"
          ],
          "font": {
           "color": "#2a3f5f"
          },
          "geo": {
           "bgcolor": "white",
           "lakecolor": "white",
           "landcolor": "#E5ECF6",
           "showlakes": true,
           "showland": true,
           "subunitcolor": "white"
          },
          "hoverlabel": {
           "align": "left"
          },
          "hovermode": "closest",
          "mapbox": {
           "style": "light"
          },
          "paper_bgcolor": "white",
          "plot_bgcolor": "#E5ECF6",
          "polar": {
           "angularaxis": {
            "gridcolor": "white",
            "linecolor": "white",
            "ticks": ""
           },
           "bgcolor": "#E5ECF6",
           "radialaxis": {
            "gridcolor": "white",
            "linecolor": "white",
            "ticks": ""
           }
          },
          "scene": {
           "xaxis": {
            "backgroundcolor": "#E5ECF6",
            "gridcolor": "white",
            "gridwidth": 2,
            "linecolor": "white",
            "showbackground": true,
            "ticks": "",
            "zerolinecolor": "white"
           },
           "yaxis": {
            "backgroundcolor": "#E5ECF6",
            "gridcolor": "white",
            "gridwidth": 2,
            "linecolor": "white",
            "showbackground": true,
            "ticks": "",
            "zerolinecolor": "white"
           },
           "zaxis": {
            "backgroundcolor": "#E5ECF6",
            "gridcolor": "white",
            "gridwidth": 2,
            "linecolor": "white",
            "showbackground": true,
            "ticks": "",
            "zerolinecolor": "white"
           }
          },
          "shapedefaults": {
           "line": {
            "color": "#2a3f5f"
           }
          },
          "ternary": {
           "aaxis": {
            "gridcolor": "white",
            "linecolor": "white",
            "ticks": ""
           },
           "baxis": {
            "gridcolor": "white",
            "linecolor": "white",
            "ticks": ""
           },
           "bgcolor": "#E5ECF6",
           "caxis": {
            "gridcolor": "white",
            "linecolor": "white",
            "ticks": ""
           }
          },
          "title": {
           "x": 0.05
          },
          "xaxis": {
           "automargin": true,
           "gridcolor": "white",
           "linecolor": "white",
           "ticks": "",
           "title": {
            "standoff": 15
           },
           "zerolinecolor": "white",
           "zerolinewidth": 2
          },
          "yaxis": {
           "automargin": true,
           "gridcolor": "white",
           "linecolor": "white",
           "ticks": "",
           "title": {
            "standoff": 15
           },
           "zerolinecolor": "white",
           "zerolinewidth": 2
          }
         }
        },
        "title": {
         "text": "ASIN:B0013U0EYI average score "
        },
        "xaxis": {
         "anchor": "y",
         "domain": [
          0,
          1
         ],
         "rangeslider": {
          "visible": true
         },
         "title": {
          "text": "reviewTime"
         }
        },
        "yaxis": {
         "anchor": "x",
         "domain": [
          0,
          1
         ],
         "title": {
          "text": "Average Monthly Score"
         }
        }
       }
      }
     },
     "metadata": {},
     "output_type": "display_data"
    }
   ],
   "source": [
    "# add lines for each column\n",
    "fig = px.line(monthly_ts, x=monthly_ts.index, y=monthly_ts.columns,)\n",
    "\n",
    "# axis labels and title\n",
    "fig.update_layout(\n",
    "    yaxis_title=\"Average Monthly Score\", \n",
    "    legend_title=\"average score\", \n",
    "    title=\"ASIN:B0013U0EYI average score \"\n",
    ")\n",
    "\n",
    "# activate slider\n",
    "fig.update_xaxes(rangeslider_visible=True)\n",
    "\n",
    "fig.show()"
   ]
  },
  {
   "cell_type": "code",
   "execution_count": 214,
   "id": "51270041",
   "metadata": {},
   "outputs": [],
   "source": [
    "#looking at counts\n",
    "monthly_ts_count = B0013U0EYI_df.resample(\"M\").count()\n",
    "monthly_ts_count = monthly_ts_count.iloc[:,0:1]"
   ]
  },
  {
   "cell_type": "code",
   "execution_count": 215,
   "id": "53f6f4b4",
   "metadata": {},
   "outputs": [
    {
     "data": {
      "application/vnd.plotly.v1+json": {
       "config": {
        "plotlyServerURL": "https://plot.ly"
       },
       "data": [
        {
         "hovertemplate": "variable=overall<br>reviewTime=%{x}<br>value=%{y}<extra></extra>",
         "legendgroup": "overall",
         "line": {
          "color": "#636efa",
          "dash": "solid"
         },
         "marker": {
          "symbol": "circle"
         },
         "mode": "lines",
         "name": "overall",
         "orientation": "v",
         "showlegend": true,
         "type": "scatter",
         "x": [
          "2006-08-31T00:00:00",
          "2006-09-30T00:00:00",
          "2006-10-31T00:00:00",
          "2006-11-30T00:00:00",
          "2006-12-31T00:00:00",
          "2007-01-31T00:00:00",
          "2007-02-28T00:00:00",
          "2007-03-31T00:00:00",
          "2007-04-30T00:00:00",
          "2007-05-31T00:00:00",
          "2007-06-30T00:00:00",
          "2007-07-31T00:00:00",
          "2007-08-31T00:00:00",
          "2007-09-30T00:00:00",
          "2007-10-31T00:00:00",
          "2007-11-30T00:00:00",
          "2007-12-31T00:00:00",
          "2008-01-31T00:00:00",
          "2008-02-29T00:00:00",
          "2008-03-31T00:00:00",
          "2008-04-30T00:00:00",
          "2008-05-31T00:00:00",
          "2008-06-30T00:00:00",
          "2008-07-31T00:00:00",
          "2008-08-31T00:00:00",
          "2008-09-30T00:00:00",
          "2008-10-31T00:00:00",
          "2008-11-30T00:00:00",
          "2008-12-31T00:00:00",
          "2009-01-31T00:00:00",
          "2009-02-28T00:00:00",
          "2009-03-31T00:00:00",
          "2009-04-30T00:00:00",
          "2009-05-31T00:00:00",
          "2009-06-30T00:00:00",
          "2009-07-31T00:00:00",
          "2009-08-31T00:00:00",
          "2009-09-30T00:00:00",
          "2009-10-31T00:00:00",
          "2009-11-30T00:00:00",
          "2009-12-31T00:00:00",
          "2010-01-31T00:00:00",
          "2010-02-28T00:00:00",
          "2010-03-31T00:00:00",
          "2010-04-30T00:00:00",
          "2010-05-31T00:00:00",
          "2010-06-30T00:00:00",
          "2010-07-31T00:00:00",
          "2010-08-31T00:00:00",
          "2010-09-30T00:00:00",
          "2010-10-31T00:00:00",
          "2010-11-30T00:00:00",
          "2010-12-31T00:00:00",
          "2011-01-31T00:00:00",
          "2011-02-28T00:00:00",
          "2011-03-31T00:00:00",
          "2011-04-30T00:00:00",
          "2011-05-31T00:00:00",
          "2011-06-30T00:00:00",
          "2011-07-31T00:00:00",
          "2011-08-31T00:00:00",
          "2011-09-30T00:00:00",
          "2011-10-31T00:00:00",
          "2011-11-30T00:00:00",
          "2011-12-31T00:00:00",
          "2012-01-31T00:00:00",
          "2012-02-29T00:00:00",
          "2012-03-31T00:00:00",
          "2012-04-30T00:00:00",
          "2012-05-31T00:00:00",
          "2012-06-30T00:00:00",
          "2012-07-31T00:00:00",
          "2012-08-31T00:00:00",
          "2012-09-30T00:00:00",
          "2012-10-31T00:00:00",
          "2012-11-30T00:00:00",
          "2012-12-31T00:00:00",
          "2013-01-31T00:00:00",
          "2013-02-28T00:00:00",
          "2013-03-31T00:00:00",
          "2013-04-30T00:00:00",
          "2013-05-31T00:00:00",
          "2013-06-30T00:00:00",
          "2013-07-31T00:00:00",
          "2013-08-31T00:00:00",
          "2013-09-30T00:00:00",
          "2013-10-31T00:00:00",
          "2013-11-30T00:00:00",
          "2013-12-31T00:00:00",
          "2014-01-31T00:00:00",
          "2014-02-28T00:00:00",
          "2014-03-31T00:00:00",
          "2014-04-30T00:00:00",
          "2014-05-31T00:00:00",
          "2014-06-30T00:00:00",
          "2014-07-31T00:00:00",
          "2014-08-31T00:00:00",
          "2014-09-30T00:00:00",
          "2014-10-31T00:00:00",
          "2014-11-30T00:00:00",
          "2014-12-31T00:00:00",
          "2015-01-31T00:00:00",
          "2015-02-28T00:00:00",
          "2015-03-31T00:00:00",
          "2015-04-30T00:00:00",
          "2015-05-31T00:00:00",
          "2015-06-30T00:00:00",
          "2015-07-31T00:00:00",
          "2015-08-31T00:00:00",
          "2015-09-30T00:00:00",
          "2015-10-31T00:00:00",
          "2015-11-30T00:00:00",
          "2015-12-31T00:00:00",
          "2016-01-31T00:00:00",
          "2016-02-29T00:00:00",
          "2016-03-31T00:00:00",
          "2016-04-30T00:00:00",
          "2016-05-31T00:00:00",
          "2016-06-30T00:00:00",
          "2016-07-31T00:00:00",
          "2016-08-31T00:00:00",
          "2016-09-30T00:00:00",
          "2016-10-31T00:00:00",
          "2016-11-30T00:00:00",
          "2016-12-31T00:00:00",
          "2017-01-31T00:00:00",
          "2017-02-28T00:00:00",
          "2017-03-31T00:00:00",
          "2017-04-30T00:00:00",
          "2017-05-31T00:00:00",
          "2017-06-30T00:00:00",
          "2017-07-31T00:00:00",
          "2017-08-31T00:00:00",
          "2017-09-30T00:00:00",
          "2017-10-31T00:00:00",
          "2017-11-30T00:00:00",
          "2017-12-31T00:00:00",
          "2018-01-31T00:00:00",
          "2018-02-28T00:00:00",
          "2018-03-31T00:00:00",
          "2018-04-30T00:00:00",
          "2018-05-31T00:00:00",
          "2018-06-30T00:00:00",
          "2018-07-31T00:00:00",
          "2018-08-31T00:00:00",
          "2018-09-30T00:00:00",
          "2018-10-31T00:00:00",
          "2018-11-30T00:00:00",
          "2018-12-31T00:00:00"
         ],
         "xaxis": "x",
         "y": [
          1,
          0,
          0,
          0,
          0,
          0,
          0,
          1,
          0,
          0,
          0,
          1,
          0,
          0,
          0,
          0,
          0,
          0,
          1,
          0,
          0,
          1,
          0,
          1,
          4,
          3,
          0,
          3,
          4,
          6,
          3,
          1,
          3,
          1,
          4,
          2,
          1,
          5,
          4,
          1,
          3,
          3,
          0,
          3,
          3,
          4,
          13,
          5,
          4,
          5,
          4,
          9,
          4,
          6,
          4,
          6,
          4,
          3,
          6,
          6,
          5,
          5,
          13,
          8,
          3,
          9,
          5,
          8,
          9,
          13,
          14,
          9,
          10,
          9,
          14,
          10,
          22,
          35,
          31,
          36,
          40,
          30,
          35,
          22,
          34,
          33,
          36,
          38,
          25,
          39,
          28,
          46,
          35,
          39,
          42,
          41,
          40,
          55,
          49,
          42,
          56,
          42,
          47,
          47,
          48,
          54,
          41,
          41,
          40,
          41,
          38,
          49,
          31,
          44,
          51,
          52,
          42,
          40,
          44,
          50,
          44,
          49,
          43,
          48,
          42,
          47,
          46,
          75,
          48,
          62,
          58,
          66,
          74,
          84,
          70,
          61,
          56,
          63,
          63,
          79,
          71,
          54,
          15,
          27,
          15,
          17,
          9,
          18,
          10
         ],
         "yaxis": "y"
        }
       ],
       "layout": {
        "legend": {
         "title": {
          "text": "Review counts"
         },
         "tracegroupgap": 0
        },
        "margin": {
         "t": 60
        },
        "template": {
         "data": {
          "bar": [
           {
            "error_x": {
             "color": "#2a3f5f"
            },
            "error_y": {
             "color": "#2a3f5f"
            },
            "marker": {
             "line": {
              "color": "#E5ECF6",
              "width": 0.5
             },
             "pattern": {
              "fillmode": "overlay",
              "size": 10,
              "solidity": 0.2
             }
            },
            "type": "bar"
           }
          ],
          "barpolar": [
           {
            "marker": {
             "line": {
              "color": "#E5ECF6",
              "width": 0.5
             },
             "pattern": {
              "fillmode": "overlay",
              "size": 10,
              "solidity": 0.2
             }
            },
            "type": "barpolar"
           }
          ],
          "carpet": [
           {
            "aaxis": {
             "endlinecolor": "#2a3f5f",
             "gridcolor": "white",
             "linecolor": "white",
             "minorgridcolor": "white",
             "startlinecolor": "#2a3f5f"
            },
            "baxis": {
             "endlinecolor": "#2a3f5f",
             "gridcolor": "white",
             "linecolor": "white",
             "minorgridcolor": "white",
             "startlinecolor": "#2a3f5f"
            },
            "type": "carpet"
           }
          ],
          "choropleth": [
           {
            "colorbar": {
             "outlinewidth": 0,
             "ticks": ""
            },
            "type": "choropleth"
           }
          ],
          "contour": [
           {
            "colorbar": {
             "outlinewidth": 0,
             "ticks": ""
            },
            "colorscale": [
             [
              0,
              "#0d0887"
             ],
             [
              0.1111111111111111,
              "#46039f"
             ],
             [
              0.2222222222222222,
              "#7201a8"
             ],
             [
              0.3333333333333333,
              "#9c179e"
             ],
             [
              0.4444444444444444,
              "#bd3786"
             ],
             [
              0.5555555555555556,
              "#d8576b"
             ],
             [
              0.6666666666666666,
              "#ed7953"
             ],
             [
              0.7777777777777778,
              "#fb9f3a"
             ],
             [
              0.8888888888888888,
              "#fdca26"
             ],
             [
              1,
              "#f0f921"
             ]
            ],
            "type": "contour"
           }
          ],
          "contourcarpet": [
           {
            "colorbar": {
             "outlinewidth": 0,
             "ticks": ""
            },
            "type": "contourcarpet"
           }
          ],
          "heatmap": [
           {
            "colorbar": {
             "outlinewidth": 0,
             "ticks": ""
            },
            "colorscale": [
             [
              0,
              "#0d0887"
             ],
             [
              0.1111111111111111,
              "#46039f"
             ],
             [
              0.2222222222222222,
              "#7201a8"
             ],
             [
              0.3333333333333333,
              "#9c179e"
             ],
             [
              0.4444444444444444,
              "#bd3786"
             ],
             [
              0.5555555555555556,
              "#d8576b"
             ],
             [
              0.6666666666666666,
              "#ed7953"
             ],
             [
              0.7777777777777778,
              "#fb9f3a"
             ],
             [
              0.8888888888888888,
              "#fdca26"
             ],
             [
              1,
              "#f0f921"
             ]
            ],
            "type": "heatmap"
           }
          ],
          "heatmapgl": [
           {
            "colorbar": {
             "outlinewidth": 0,
             "ticks": ""
            },
            "colorscale": [
             [
              0,
              "#0d0887"
             ],
             [
              0.1111111111111111,
              "#46039f"
             ],
             [
              0.2222222222222222,
              "#7201a8"
             ],
             [
              0.3333333333333333,
              "#9c179e"
             ],
             [
              0.4444444444444444,
              "#bd3786"
             ],
             [
              0.5555555555555556,
              "#d8576b"
             ],
             [
              0.6666666666666666,
              "#ed7953"
             ],
             [
              0.7777777777777778,
              "#fb9f3a"
             ],
             [
              0.8888888888888888,
              "#fdca26"
             ],
             [
              1,
              "#f0f921"
             ]
            ],
            "type": "heatmapgl"
           }
          ],
          "histogram": [
           {
            "marker": {
             "pattern": {
              "fillmode": "overlay",
              "size": 10,
              "solidity": 0.2
             }
            },
            "type": "histogram"
           }
          ],
          "histogram2d": [
           {
            "colorbar": {
             "outlinewidth": 0,
             "ticks": ""
            },
            "colorscale": [
             [
              0,
              "#0d0887"
             ],
             [
              0.1111111111111111,
              "#46039f"
             ],
             [
              0.2222222222222222,
              "#7201a8"
             ],
             [
              0.3333333333333333,
              "#9c179e"
             ],
             [
              0.4444444444444444,
              "#bd3786"
             ],
             [
              0.5555555555555556,
              "#d8576b"
             ],
             [
              0.6666666666666666,
              "#ed7953"
             ],
             [
              0.7777777777777778,
              "#fb9f3a"
             ],
             [
              0.8888888888888888,
              "#fdca26"
             ],
             [
              1,
              "#f0f921"
             ]
            ],
            "type": "histogram2d"
           }
          ],
          "histogram2dcontour": [
           {
            "colorbar": {
             "outlinewidth": 0,
             "ticks": ""
            },
            "colorscale": [
             [
              0,
              "#0d0887"
             ],
             [
              0.1111111111111111,
              "#46039f"
             ],
             [
              0.2222222222222222,
              "#7201a8"
             ],
             [
              0.3333333333333333,
              "#9c179e"
             ],
             [
              0.4444444444444444,
              "#bd3786"
             ],
             [
              0.5555555555555556,
              "#d8576b"
             ],
             [
              0.6666666666666666,
              "#ed7953"
             ],
             [
              0.7777777777777778,
              "#fb9f3a"
             ],
             [
              0.8888888888888888,
              "#fdca26"
             ],
             [
              1,
              "#f0f921"
             ]
            ],
            "type": "histogram2dcontour"
           }
          ],
          "mesh3d": [
           {
            "colorbar": {
             "outlinewidth": 0,
             "ticks": ""
            },
            "type": "mesh3d"
           }
          ],
          "parcoords": [
           {
            "line": {
             "colorbar": {
              "outlinewidth": 0,
              "ticks": ""
             }
            },
            "type": "parcoords"
           }
          ],
          "pie": [
           {
            "automargin": true,
            "type": "pie"
           }
          ],
          "scatter": [
           {
            "fillpattern": {
             "fillmode": "overlay",
             "size": 10,
             "solidity": 0.2
            },
            "type": "scatter"
           }
          ],
          "scatter3d": [
           {
            "line": {
             "colorbar": {
              "outlinewidth": 0,
              "ticks": ""
             }
            },
            "marker": {
             "colorbar": {
              "outlinewidth": 0,
              "ticks": ""
             }
            },
            "type": "scatter3d"
           }
          ],
          "scattercarpet": [
           {
            "marker": {
             "colorbar": {
              "outlinewidth": 0,
              "ticks": ""
             }
            },
            "type": "scattercarpet"
           }
          ],
          "scattergeo": [
           {
            "marker": {
             "colorbar": {
              "outlinewidth": 0,
              "ticks": ""
             }
            },
            "type": "scattergeo"
           }
          ],
          "scattergl": [
           {
            "marker": {
             "colorbar": {
              "outlinewidth": 0,
              "ticks": ""
             }
            },
            "type": "scattergl"
           }
          ],
          "scattermapbox": [
           {
            "marker": {
             "colorbar": {
              "outlinewidth": 0,
              "ticks": ""
             }
            },
            "type": "scattermapbox"
           }
          ],
          "scatterpolar": [
           {
            "marker": {
             "colorbar": {
              "outlinewidth": 0,
              "ticks": ""
             }
            },
            "type": "scatterpolar"
           }
          ],
          "scatterpolargl": [
           {
            "marker": {
             "colorbar": {
              "outlinewidth": 0,
              "ticks": ""
             }
            },
            "type": "scatterpolargl"
           }
          ],
          "scatterternary": [
           {
            "marker": {
             "colorbar": {
              "outlinewidth": 0,
              "ticks": ""
             }
            },
            "type": "scatterternary"
           }
          ],
          "surface": [
           {
            "colorbar": {
             "outlinewidth": 0,
             "ticks": ""
            },
            "colorscale": [
             [
              0,
              "#0d0887"
             ],
             [
              0.1111111111111111,
              "#46039f"
             ],
             [
              0.2222222222222222,
              "#7201a8"
             ],
             [
              0.3333333333333333,
              "#9c179e"
             ],
             [
              0.4444444444444444,
              "#bd3786"
             ],
             [
              0.5555555555555556,
              "#d8576b"
             ],
             [
              0.6666666666666666,
              "#ed7953"
             ],
             [
              0.7777777777777778,
              "#fb9f3a"
             ],
             [
              0.8888888888888888,
              "#fdca26"
             ],
             [
              1,
              "#f0f921"
             ]
            ],
            "type": "surface"
           }
          ],
          "table": [
           {
            "cells": {
             "fill": {
              "color": "#EBF0F8"
             },
             "line": {
              "color": "white"
             }
            },
            "header": {
             "fill": {
              "color": "#C8D4E3"
             },
             "line": {
              "color": "white"
             }
            },
            "type": "table"
           }
          ]
         },
         "layout": {
          "annotationdefaults": {
           "arrowcolor": "#2a3f5f",
           "arrowhead": 0,
           "arrowwidth": 1
          },
          "autotypenumbers": "strict",
          "coloraxis": {
           "colorbar": {
            "outlinewidth": 0,
            "ticks": ""
           }
          },
          "colorscale": {
           "diverging": [
            [
             0,
             "#8e0152"
            ],
            [
             0.1,
             "#c51b7d"
            ],
            [
             0.2,
             "#de77ae"
            ],
            [
             0.3,
             "#f1b6da"
            ],
            [
             0.4,
             "#fde0ef"
            ],
            [
             0.5,
             "#f7f7f7"
            ],
            [
             0.6,
             "#e6f5d0"
            ],
            [
             0.7,
             "#b8e186"
            ],
            [
             0.8,
             "#7fbc41"
            ],
            [
             0.9,
             "#4d9221"
            ],
            [
             1,
             "#276419"
            ]
           ],
           "sequential": [
            [
             0,
             "#0d0887"
            ],
            [
             0.1111111111111111,
             "#46039f"
            ],
            [
             0.2222222222222222,
             "#7201a8"
            ],
            [
             0.3333333333333333,
             "#9c179e"
            ],
            [
             0.4444444444444444,
             "#bd3786"
            ],
            [
             0.5555555555555556,
             "#d8576b"
            ],
            [
             0.6666666666666666,
             "#ed7953"
            ],
            [
             0.7777777777777778,
             "#fb9f3a"
            ],
            [
             0.8888888888888888,
             "#fdca26"
            ],
            [
             1,
             "#f0f921"
            ]
           ],
           "sequentialminus": [
            [
             0,
             "#0d0887"
            ],
            [
             0.1111111111111111,
             "#46039f"
            ],
            [
             0.2222222222222222,
             "#7201a8"
            ],
            [
             0.3333333333333333,
             "#9c179e"
            ],
            [
             0.4444444444444444,
             "#bd3786"
            ],
            [
             0.5555555555555556,
             "#d8576b"
            ],
            [
             0.6666666666666666,
             "#ed7953"
            ],
            [
             0.7777777777777778,
             "#fb9f3a"
            ],
            [
             0.8888888888888888,
             "#fdca26"
            ],
            [
             1,
             "#f0f921"
            ]
           ]
          },
          "colorway": [
           "#636efa",
           "#EF553B",
           "#00cc96",
           "#ab63fa",
           "#FFA15A",
           "#19d3f3",
           "#FF6692",
           "#B6E880",
           "#FF97FF",
           "#FECB52"
          ],
          "font": {
           "color": "#2a3f5f"
          },
          "geo": {
           "bgcolor": "white",
           "lakecolor": "white",
           "landcolor": "#E5ECF6",
           "showlakes": true,
           "showland": true,
           "subunitcolor": "white"
          },
          "hoverlabel": {
           "align": "left"
          },
          "hovermode": "closest",
          "mapbox": {
           "style": "light"
          },
          "paper_bgcolor": "white",
          "plot_bgcolor": "#E5ECF6",
          "polar": {
           "angularaxis": {
            "gridcolor": "white",
            "linecolor": "white",
            "ticks": ""
           },
           "bgcolor": "#E5ECF6",
           "radialaxis": {
            "gridcolor": "white",
            "linecolor": "white",
            "ticks": ""
           }
          },
          "scene": {
           "xaxis": {
            "backgroundcolor": "#E5ECF6",
            "gridcolor": "white",
            "gridwidth": 2,
            "linecolor": "white",
            "showbackground": true,
            "ticks": "",
            "zerolinecolor": "white"
           },
           "yaxis": {
            "backgroundcolor": "#E5ECF6",
            "gridcolor": "white",
            "gridwidth": 2,
            "linecolor": "white",
            "showbackground": true,
            "ticks": "",
            "zerolinecolor": "white"
           },
           "zaxis": {
            "backgroundcolor": "#E5ECF6",
            "gridcolor": "white",
            "gridwidth": 2,
            "linecolor": "white",
            "showbackground": true,
            "ticks": "",
            "zerolinecolor": "white"
           }
          },
          "shapedefaults": {
           "line": {
            "color": "#2a3f5f"
           }
          },
          "ternary": {
           "aaxis": {
            "gridcolor": "white",
            "linecolor": "white",
            "ticks": ""
           },
           "baxis": {
            "gridcolor": "white",
            "linecolor": "white",
            "ticks": ""
           },
           "bgcolor": "#E5ECF6",
           "caxis": {
            "gridcolor": "white",
            "linecolor": "white",
            "ticks": ""
           }
          },
          "title": {
           "x": 0.05
          },
          "xaxis": {
           "automargin": true,
           "gridcolor": "white",
           "linecolor": "white",
           "ticks": "",
           "title": {
            "standoff": 15
           },
           "zerolinecolor": "white",
           "zerolinewidth": 2
          },
          "yaxis": {
           "automargin": true,
           "gridcolor": "white",
           "linecolor": "white",
           "ticks": "",
           "title": {
            "standoff": 15
           },
           "zerolinecolor": "white",
           "zerolinewidth": 2
          }
         }
        },
        "title": {
         "text": "ASIN:B0013U0EYI Review Counts over time "
        },
        "xaxis": {
         "anchor": "y",
         "domain": [
          0,
          1
         ],
         "rangeslider": {
          "visible": true
         },
         "title": {
          "text": "reviewTime"
         }
        },
        "yaxis": {
         "anchor": "x",
         "domain": [
          0,
          1
         ],
         "title": {
          "text": "Number of reviews"
         }
        }
       }
      }
     },
     "metadata": {},
     "output_type": "display_data"
    }
   ],
   "source": [
    "# add lines for each column\n",
    "fig2 = px.line(monthly_ts_count, x=monthly_ts_count.index, y=monthly_ts_count.columns,)\n",
    "\n",
    "# axis labels and title\n",
    "fig2.update_layout(\n",
    "    yaxis_title=\"Number of reviews\", \n",
    "    legend_title=\"Review counts\", \n",
    "    title=\"ASIN:B0013U0EYI Review Counts over time \"\n",
    ")\n",
    "\n",
    "# activate slider\n",
    "fig2.update_xaxes(rangeslider_visible=True)\n",
    "\n",
    "fig2.show()"
   ]
  },
  {
   "cell_type": "markdown",
   "id": "cb513f8a",
   "metadata": {},
   "source": [
    "#analyzing reviews over time "
   ]
  },
  {
   "cell_type": "code",
   "execution_count": 216,
   "id": "81e2b729",
   "metadata": {},
   "outputs": [
    {
     "data": {
      "image/png": "[encoded data removed]",
      "text/plain": [
       "<Figure size 720x576 with 1 Axes>"
      ]
     },
     "metadata": {},
     "output_type": "display_data"
    }
   ],
   "source": [
    "#Looking at number of reviews over the years - ANNOTATE\n",
    "plt.figure(figsize=(10,8))\n",
    "clean_review_df['year'].value_counts().sort_index().plot()\n",
    "plt.show()"
   ]
  },
  {
   "cell_type": "code",
   "execution_count": 217,
   "id": "630ef1c4",
   "metadata": {},
   "outputs": [
    {
     "data": {
      "text/plain": [
       "year  year\n",
       "2004  2004        34\n",
       "2005  2005       145\n",
       "2006  2006       321\n",
       "2007  2007       931\n",
       "2008  2008      1416\n",
       "2009  2009      2122\n",
       "2010  2010      3614\n",
       "2011  2011      7492\n",
       "2012  2012     14678\n",
       "2013  2013     42876\n",
       "2014  2014     75583\n",
       "2015  2015    105766\n",
       "2016  2016    121076\n",
       "2017  2017    107053\n",
       "2018  2018     56053\n",
       "Name: year, dtype: int64"
      ]
     },
     "execution_count": 217,
     "metadata": {},
     "output_type": "execute_result"
    }
   ],
   "source": [
    "clean_review_df.groupby(\"year\")[\"year\"].value_counts()"
   ]
  },
  {
   "cell_type": "markdown",
   "id": "4c2e0705",
   "metadata": {},
   "source": [
    "isolating to just 2016 and 2017 reviews"
   ]
  },
  {
   "cell_type": "code",
   "execution_count": 218,
   "id": "f1eb3832",
   "metadata": {},
   "outputs": [
    {
     "data": {
      "text/html": [
       "<div>\n",
       "<style scoped>\n",
       "    .dataframe tbody tr th:only-of-type {\n",
       "        vertical-align: middle;\n",
       "    }\n",
       "\n",
       "    .dataframe tbody tr th {\n",
       "        vertical-align: top;\n",
       "    }\n",
       "\n",
       "    .dataframe thead th {\n",
       "        text-align: right;\n",
       "    }\n",
       "</style>\n",
       "<table border=\"1\" class=\"dataframe\">\n",
       "  <thead>\n",
       "    <tr style=\"text-align: right;\">\n",
       "      <th></th>\n",
       "      <th>overall</th>\n",
       "      <th>vote</th>\n",
       "      <th>verified</th>\n",
       "      <th>reviewTime</th>\n",
       "      <th>reviewerID</th>\n",
       "      <th>asin</th>\n",
       "      <th>reviewerName</th>\n",
       "      <th>reviewText</th>\n",
       "      <th>summary</th>\n",
       "      <th>year</th>\n",
       "      <th>month</th>\n",
       "    </tr>\n",
       "  </thead>\n",
       "  <tbody>\n",
       "    <tr>\n",
       "      <th>72</th>\n",
       "      <td>5.0</td>\n",
       "      <td>0.0</td>\n",
       "      <td>1</td>\n",
       "      <td>2017-12-30</td>\n",
       "      <td>A2BR01CI7K7GAN</td>\n",
       "      <td>B00004U9V2</td>\n",
       "      <td>mom and teacher</td>\n",
       "      <td>Bought for my daughter.</td>\n",
       "      <td>Has Good Reviews!</td>\n",
       "      <td>2017</td>\n",
       "      <td>12</td>\n",
       "    </tr>\n",
       "    <tr>\n",
       "      <th>73</th>\n",
       "      <td>5.0</td>\n",
       "      <td>0.0</td>\n",
       "      <td>1</td>\n",
       "      <td>2017-12-29</td>\n",
       "      <td>A1N6K3WYGUMHGO</td>\n",
       "      <td>B00004U9V2</td>\n",
       "      <td>Customer</td>\n",
       "      <td>Great cream for the skin.</td>\n",
       "      <td>Five Stars</td>\n",
       "      <td>2017</td>\n",
       "      <td>12</td>\n",
       "    </tr>\n",
       "  </tbody>\n",
       "</table>\n",
       "</div>"
      ],
      "text/plain": [
       "    overall  vote  verified reviewTime      reviewerID        asin  \\\n",
       "72      5.0   0.0         1 2017-12-30  A2BR01CI7K7GAN  B00004U9V2   \n",
       "73      5.0   0.0         1 2017-12-29  A1N6K3WYGUMHGO  B00004U9V2   \n",
       "\n",
       "       reviewerName                 reviewText            summary  year  month  \n",
       "72  mom and teacher    Bought for my daughter.  Has Good Reviews!  2017     12  \n",
       "73         Customer  Great cream for the skin.         Five Stars  2017     12  "
      ]
     },
     "execution_count": 218,
     "metadata": {},
     "output_type": "execute_result"
    }
   ],
   "source": [
    "#filtering to 2016 and 2017 reviews\n",
    "filtered_review_df = clean_review_df[((clean_review_df[\"year\"] == 2016 )|(clean_review_df[\"year\"] == 2017))].copy()\n",
    "filtered_review_df.head(2)"
   ]
  },
  {
   "cell_type": "code",
   "execution_count": 219,
   "id": "b6a41dc2",
   "metadata": {},
   "outputs": [
    {
     "data": {
      "image/png": "[encoded data removed]",
      "text/plain": [
       "<Figure size 720x576 with 1 Axes>"
      ]
     },
     "metadata": {},
     "output_type": "display_data"
    }
   ],
   "source": [
    "#histogram of reviews \n",
    "binwidth = 50\n",
    "\n",
    "plt.figure(figsize=(10,8))\n",
    "asin_data = filtered_review_df[\"asin\"].value_counts()\n",
    "plt.hist(asin_data , bins=np.arange(0,3500, binwidth))\n",
    "\n",
    "plt.xlabel(f'Review count. Bin Width: {binwidth}')\n",
    "plt.ylabel('Frequency')\n",
    "plt.title('Distribution of Review counts in dataset')\n",
    "plt.show()"
   ]
  },
  {
   "cell_type": "code",
   "execution_count": 220,
   "id": "65add535",
   "metadata": {},
   "outputs": [],
   "source": [
    "#filtering to only those reviews that have more than 50 counts per product id \n",
    "filtered_review_df=filtered_review_df.groupby(\"asin\").filter(lambda x:x['overall'].count() >=50)"
   ]
  },
  {
   "cell_type": "code",
   "execution_count": 221,
   "id": "a4a7c4e6",
   "metadata": {},
   "outputs": [
    {
     "data": {
      "text/plain": [
       "(140014, 11)"
      ]
     },
     "execution_count": 221,
     "metadata": {},
     "output_type": "execute_result"
    }
   ],
   "source": [
    "filtered_review_df.shape"
   ]
  },
  {
   "cell_type": "code",
   "execution_count": 222,
   "id": "c74cb999",
   "metadata": {},
   "outputs": [
    {
     "data": {
      "text/html": [
       "<div>\n",
       "<style scoped>\n",
       "    .dataframe tbody tr th:only-of-type {\n",
       "        vertical-align: middle;\n",
       "    }\n",
       "\n",
       "    .dataframe tbody tr th {\n",
       "        vertical-align: top;\n",
       "    }\n",
       "\n",
       "    .dataframe thead th {\n",
       "        text-align: right;\n",
       "    }\n",
       "</style>\n",
       "<table border=\"1\" class=\"dataframe\">\n",
       "  <thead>\n",
       "    <tr style=\"text-align: right;\">\n",
       "      <th></th>\n",
       "      <th>asin</th>\n",
       "      <th>year_2016</th>\n",
       "      <th>year_2017</th>\n",
       "      <th>pct_change</th>\n",
       "      <th>total_reviews</th>\n",
       "    </tr>\n",
       "  </thead>\n",
       "  <tbody>\n",
       "    <tr>\n",
       "      <th>0</th>\n",
       "      <td>B00004U9V2</td>\n",
       "      <td>149.0</td>\n",
       "      <td>149.0</td>\n",
       "      <td>0.000000</td>\n",
       "      <td>298.0</td>\n",
       "    </tr>\n",
       "    <tr>\n",
       "      <th>1</th>\n",
       "      <td>B00005V50B</td>\n",
       "      <td>100.0</td>\n",
       "      <td>67.0</td>\n",
       "      <td>-33.000000</td>\n",
       "      <td>167.0</td>\n",
       "    </tr>\n",
       "    <tr>\n",
       "      <th>2</th>\n",
       "      <td>B000066SYB</td>\n",
       "      <td>24.0</td>\n",
       "      <td>34.0</td>\n",
       "      <td>41.666667</td>\n",
       "      <td>58.0</td>\n",
       "    </tr>\n",
       "    <tr>\n",
       "      <th>3</th>\n",
       "      <td>B000068DWY</td>\n",
       "      <td>37.0</td>\n",
       "      <td>36.0</td>\n",
       "      <td>-2.702703</td>\n",
       "      <td>73.0</td>\n",
       "    </tr>\n",
       "    <tr>\n",
       "      <th>4</th>\n",
       "      <td>B00011QUKW</td>\n",
       "      <td>77.0</td>\n",
       "      <td>34.0</td>\n",
       "      <td>-55.844156</td>\n",
       "      <td>111.0</td>\n",
       "    </tr>\n",
       "    <tr>\n",
       "      <th>...</th>\n",
       "      <td>...</td>\n",
       "      <td>...</td>\n",
       "      <td>...</td>\n",
       "      <td>...</td>\n",
       "      <td>...</td>\n",
       "    </tr>\n",
       "    <tr>\n",
       "      <th>945</th>\n",
       "      <td>B01G4WNGGM</td>\n",
       "      <td>NaN</td>\n",
       "      <td>50.0</td>\n",
       "      <td>NaN</td>\n",
       "      <td>NaN</td>\n",
       "    </tr>\n",
       "    <tr>\n",
       "      <th>946</th>\n",
       "      <td>B01G4XAN3A</td>\n",
       "      <td>41.0</td>\n",
       "      <td>18.0</td>\n",
       "      <td>-56.097561</td>\n",
       "      <td>59.0</td>\n",
       "    </tr>\n",
       "    <tr>\n",
       "      <th>947</th>\n",
       "      <td>B01GDUM666</td>\n",
       "      <td>89.0</td>\n",
       "      <td>55.0</td>\n",
       "      <td>-38.202247</td>\n",
       "      <td>144.0</td>\n",
       "    </tr>\n",
       "    <tr>\n",
       "      <th>948</th>\n",
       "      <td>B01GFYWYC6</td>\n",
       "      <td>48.0</td>\n",
       "      <td>137.0</td>\n",
       "      <td>185.416667</td>\n",
       "      <td>185.0</td>\n",
       "    </tr>\n",
       "    <tr>\n",
       "      <th>949</th>\n",
       "      <td>B01GINONQ4</td>\n",
       "      <td>39.0</td>\n",
       "      <td>86.0</td>\n",
       "      <td>120.512821</td>\n",
       "      <td>125.0</td>\n",
       "    </tr>\n",
       "  </tbody>\n",
       "</table>\n",
       "<p>950 rows × 5 columns</p>\n",
       "</div>"
      ],
      "text/plain": [
       "           asin  year_2016  year_2017  pct_change  total_reviews\n",
       "0    B00004U9V2      149.0      149.0    0.000000          298.0\n",
       "1    B00005V50B      100.0       67.0  -33.000000          167.0\n",
       "2    B000066SYB       24.0       34.0   41.666667           58.0\n",
       "3    B000068DWY       37.0       36.0   -2.702703           73.0\n",
       "4    B00011QUKW       77.0       34.0  -55.844156          111.0\n",
       "..          ...        ...        ...         ...            ...\n",
       "945  B01G4WNGGM        NaN       50.0         NaN            NaN\n",
       "946  B01G4XAN3A       41.0       18.0  -56.097561           59.0\n",
       "947  B01GDUM666       89.0       55.0  -38.202247          144.0\n",
       "948  B01GFYWYC6       48.0      137.0  185.416667          185.0\n",
       "949  B01GINONQ4       39.0       86.0  120.512821          125.0\n",
       "\n",
       "[950 rows x 5 columns]"
      ]
     },
     "execution_count": 222,
     "metadata": {},
     "output_type": "execute_result"
    }
   ],
   "source": [
    "#creating pivot table \n",
    "year_pivot = pd.pivot_table(filtered_review_df, index=\"asin\",columns = \"year\",values=\"overall\" ,aggfunc=[\"count\"]).reset_index()\n",
    "\n",
    "#renaming columns\n",
    "year_pivot.columns = [\"asin\", \"year_2016\", \"year_2017\"]\n",
    "\n",
    "#adding in YoY pct change \n",
    "year_pivot[\"pct_change\"] = (year_pivot[\"year_2017\"] - year_pivot[\"year_2016\"])/ year_pivot[\"year_2016\"]*100\n",
    "\n",
    "#total review count\n",
    "year_pivot[\"total_reviews\"] = (year_pivot[\"year_2017\"] + year_pivot[\"year_2016\"])\n",
    "\n",
    "year_pivot"
   ]
  },
  {
   "cell_type": "code",
   "execution_count": 223,
   "id": "a4a9f2dc",
   "metadata": {},
   "outputs": [
    {
     "data": {
      "text/html": [
       "<div>\n",
       "<style scoped>\n",
       "    .dataframe tbody tr th:only-of-type {\n",
       "        vertical-align: middle;\n",
       "    }\n",
       "\n",
       "    .dataframe tbody tr th {\n",
       "        vertical-align: top;\n",
       "    }\n",
       "\n",
       "    .dataframe thead th {\n",
       "        text-align: right;\n",
       "    }\n",
       "</style>\n",
       "<table border=\"1\" class=\"dataframe\">\n",
       "  <thead>\n",
       "    <tr style=\"text-align: right;\">\n",
       "      <th></th>\n",
       "      <th>asin</th>\n",
       "      <th>year_2016</th>\n",
       "      <th>year_2017</th>\n",
       "      <th>pct_change</th>\n",
       "      <th>total_reviews</th>\n",
       "    </tr>\n",
       "  </thead>\n",
       "  <tbody>\n",
       "    <tr>\n",
       "      <th>6</th>\n",
       "      <td>B00014340I</td>\n",
       "      <td>86.0</td>\n",
       "      <td>206.0</td>\n",
       "      <td>139.534884</td>\n",
       "      <td>292.0</td>\n",
       "    </tr>\n",
       "    <tr>\n",
       "      <th>8</th>\n",
       "      <td>B0001435D4</td>\n",
       "      <td>68.0</td>\n",
       "      <td>142.0</td>\n",
       "      <td>108.823529</td>\n",
       "      <td>210.0</td>\n",
       "    </tr>\n",
       "    <tr>\n",
       "      <th>9</th>\n",
       "      <td>B00014GT8W</td>\n",
       "      <td>203.0</td>\n",
       "      <td>488.0</td>\n",
       "      <td>140.394089</td>\n",
       "      <td>691.0</td>\n",
       "    </tr>\n",
       "    <tr>\n",
       "      <th>14</th>\n",
       "      <td>B0001Z66UM</td>\n",
       "      <td>32.0</td>\n",
       "      <td>73.0</td>\n",
       "      <td>128.125000</td>\n",
       "      <td>105.0</td>\n",
       "    </tr>\n",
       "    <tr>\n",
       "      <th>51</th>\n",
       "      <td>B0007CXYN6</td>\n",
       "      <td>15.0</td>\n",
       "      <td>35.0</td>\n",
       "      <td>133.333333</td>\n",
       "      <td>50.0</td>\n",
       "    </tr>\n",
       "    <tr>\n",
       "      <th>...</th>\n",
       "      <td>...</td>\n",
       "      <td>...</td>\n",
       "      <td>...</td>\n",
       "      <td>...</td>\n",
       "      <td>...</td>\n",
       "    </tr>\n",
       "    <tr>\n",
       "      <th>936</th>\n",
       "      <td>B01DWRRV4A</td>\n",
       "      <td>8.0</td>\n",
       "      <td>46.0</td>\n",
       "      <td>475.000000</td>\n",
       "      <td>54.0</td>\n",
       "    </tr>\n",
       "    <tr>\n",
       "      <th>937</th>\n",
       "      <td>B01E7UY7AC</td>\n",
       "      <td>13.0</td>\n",
       "      <td>41.0</td>\n",
       "      <td>215.384615</td>\n",
       "      <td>54.0</td>\n",
       "    </tr>\n",
       "    <tr>\n",
       "      <th>944</th>\n",
       "      <td>B01FE6HMSM</td>\n",
       "      <td>7.0</td>\n",
       "      <td>55.0</td>\n",
       "      <td>685.714286</td>\n",
       "      <td>62.0</td>\n",
       "    </tr>\n",
       "    <tr>\n",
       "      <th>948</th>\n",
       "      <td>B01GFYWYC6</td>\n",
       "      <td>48.0</td>\n",
       "      <td>137.0</td>\n",
       "      <td>185.416667</td>\n",
       "      <td>185.0</td>\n",
       "    </tr>\n",
       "    <tr>\n",
       "      <th>949</th>\n",
       "      <td>B01GINONQ4</td>\n",
       "      <td>39.0</td>\n",
       "      <td>86.0</td>\n",
       "      <td>120.512821</td>\n",
       "      <td>125.0</td>\n",
       "    </tr>\n",
       "  </tbody>\n",
       "</table>\n",
       "<p>106 rows × 5 columns</p>\n",
       "</div>"
      ],
      "text/plain": [
       "           asin  year_2016  year_2017  pct_change  total_reviews\n",
       "6    B00014340I       86.0      206.0  139.534884          292.0\n",
       "8    B0001435D4       68.0      142.0  108.823529          210.0\n",
       "9    B00014GT8W      203.0      488.0  140.394089          691.0\n",
       "14   B0001Z66UM       32.0       73.0  128.125000          105.0\n",
       "51   B0007CXYN6       15.0       35.0  133.333333           50.0\n",
       "..          ...        ...        ...         ...            ...\n",
       "936  B01DWRRV4A        8.0       46.0  475.000000           54.0\n",
       "937  B01E7UY7AC       13.0       41.0  215.384615           54.0\n",
       "944  B01FE6HMSM        7.0       55.0  685.714286           62.0\n",
       "948  B01GFYWYC6       48.0      137.0  185.416667          185.0\n",
       "949  B01GINONQ4       39.0       86.0  120.512821          125.0\n",
       "\n",
       "[106 rows x 5 columns]"
      ]
     },
     "execution_count": 223,
     "metadata": {},
     "output_type": "execute_result"
    }
   ],
   "source": [
    "#taking only counting reviews larger than 50 and pct_change higher than 1\n",
    "asin_review_df = year_pivot[(year_pivot[\"pct_change\"]>= 100) & (year_pivot[\"total_reviews\"] >=50)]\n",
    "asin_review_df"
   ]
  },
  {
   "cell_type": "code",
   "execution_count": 224,
   "id": "d89cfcc3",
   "metadata": {},
   "outputs": [],
   "source": [
    "#finding unique values of asin\n",
    "asin_targets = list(asin_review_df[\"asin\"].unique())\n",
    "\n",
    "#new column \n",
    "filtered_review_df[\"trending_asin\"] = filtered_review_df['asin'].isin(asin_targets)"
   ]
  },
  {
   "cell_type": "code",
   "execution_count": 225,
   "id": "e5353260",
   "metadata": {},
   "outputs": [
    {
     "data": {
      "text/html": [
       "<div>\n",
       "<style scoped>\n",
       "    .dataframe tbody tr th:only-of-type {\n",
       "        vertical-align: middle;\n",
       "    }\n",
       "\n",
       "    .dataframe tbody tr th {\n",
       "        vertical-align: top;\n",
       "    }\n",
       "\n",
       "    .dataframe thead th {\n",
       "        text-align: right;\n",
       "    }\n",
       "</style>\n",
       "<table border=\"1\" class=\"dataframe\">\n",
       "  <thead>\n",
       "    <tr style=\"text-align: right;\">\n",
       "      <th></th>\n",
       "      <th>overall</th>\n",
       "      <th>vote</th>\n",
       "      <th>verified</th>\n",
       "      <th>reviewTime</th>\n",
       "      <th>reviewerID</th>\n",
       "      <th>asin</th>\n",
       "      <th>reviewerName</th>\n",
       "      <th>reviewText</th>\n",
       "      <th>summary</th>\n",
       "      <th>year</th>\n",
       "      <th>month</th>\n",
       "      <th>trending_asin</th>\n",
       "    </tr>\n",
       "  </thead>\n",
       "  <tbody>\n",
       "    <tr>\n",
       "      <th>72</th>\n",
       "      <td>5.0</td>\n",
       "      <td>0.0</td>\n",
       "      <td>1</td>\n",
       "      <td>2017-12-30</td>\n",
       "      <td>A2BR01CI7K7GAN</td>\n",
       "      <td>B00004U9V2</td>\n",
       "      <td>mom and teacher</td>\n",
       "      <td>Bought for my daughter.</td>\n",
       "      <td>Has Good Reviews!</td>\n",
       "      <td>2017</td>\n",
       "      <td>12</td>\n",
       "      <td>0</td>\n",
       "    </tr>\n",
       "    <tr>\n",
       "      <th>73</th>\n",
       "      <td>5.0</td>\n",
       "      <td>0.0</td>\n",
       "      <td>1</td>\n",
       "      <td>2017-12-29</td>\n",
       "      <td>A1N6K3WYGUMHGO</td>\n",
       "      <td>B00004U9V2</td>\n",
       "      <td>Customer</td>\n",
       "      <td>Great cream for the skin.</td>\n",
       "      <td>Five Stars</td>\n",
       "      <td>2017</td>\n",
       "      <td>12</td>\n",
       "      <td>0</td>\n",
       "    </tr>\n",
       "    <tr>\n",
       "      <th>74</th>\n",
       "      <td>1.0</td>\n",
       "      <td>0.0</td>\n",
       "      <td>0</td>\n",
       "      <td>2017-12-28</td>\n",
       "      <td>A3KPTMMK9D967W</td>\n",
       "      <td>B00004U9V2</td>\n",
       "      <td>fg59</td>\n",
       "      <td>Maybe Im just not familiar with this brand, but if this is the type of fragrance they normally use...blech!  It might be a good cream but I had to...</td>\n",
       "      <td>Bad fragrance</td>\n",
       "      <td>2017</td>\n",
       "      <td>12</td>\n",
       "      <td>0</td>\n",
       "    </tr>\n",
       "    <tr>\n",
       "      <th>75</th>\n",
       "      <td>5.0</td>\n",
       "      <td>0.0</td>\n",
       "      <td>1</td>\n",
       "      <td>2017-12-28</td>\n",
       "      <td>A3CEUD9051WKC0</td>\n",
       "      <td>B00004U9V2</td>\n",
       "      <td>candy973</td>\n",
       "      <td>This is one of my favorite creams. Highly recommend!!! Keeps hands moisturizers for a long time. Worth every penny.</td>\n",
       "      <td>Great product.</td>\n",
       "      <td>2017</td>\n",
       "      <td>12</td>\n",
       "      <td>0</td>\n",
       "    </tr>\n",
       "    <tr>\n",
       "      <th>76</th>\n",
       "      <td>5.0</td>\n",
       "      <td>0.0</td>\n",
       "      <td>1</td>\n",
       "      <td>2017-12-19</td>\n",
       "      <td>A69VISV3LE7DA</td>\n",
       "      <td>B00004U9V2</td>\n",
       "      <td>Candice</td>\n",
       "      <td>I simply love this lotion!  Originally, I received it as a gift.  Have been buying it ever since!</td>\n",
       "      <td>Five Stars</td>\n",
       "      <td>2017</td>\n",
       "      <td>12</td>\n",
       "      <td>0</td>\n",
       "    </tr>\n",
       "  </tbody>\n",
       "</table>\n",
       "</div>"
      ],
      "text/plain": [
       "    overall  vote  verified reviewTime      reviewerID        asin  \\\n",
       "72      5.0   0.0         1 2017-12-30  A2BR01CI7K7GAN  B00004U9V2   \n",
       "73      5.0   0.0         1 2017-12-29  A1N6K3WYGUMHGO  B00004U9V2   \n",
       "74      1.0   0.0         0 2017-12-28  A3KPTMMK9D967W  B00004U9V2   \n",
       "75      5.0   0.0         1 2017-12-28  A3CEUD9051WKC0  B00004U9V2   \n",
       "76      5.0   0.0         1 2017-12-19   A69VISV3LE7DA  B00004U9V2   \n",
       "\n",
       "       reviewerName  \\\n",
       "72  mom and teacher   \n",
       "73         Customer   \n",
       "74             fg59   \n",
       "75         candy973   \n",
       "76          Candice   \n",
       "\n",
       "                                                                                                                                               reviewText  \\\n",
       "72                                                                                                                                Bought for my daughter.   \n",
       "73                                                                                                                              Great cream for the skin.   \n",
       "74  Maybe Im just not familiar with this brand, but if this is the type of fragrance they normally use...blech!  It might be a good cream but I had to...   \n",
       "75                                    This is one of my favorite creams. Highly recommend!!! Keeps hands moisturizers for a long time. Worth every penny.   \n",
       "76                                                      I simply love this lotion!  Originally, I received it as a gift.  Have been buying it ever since!   \n",
       "\n",
       "              summary  year  month  trending_asin  \n",
       "72  Has Good Reviews!  2017     12              0  \n",
       "73         Five Stars  2017     12              0  \n",
       "74      Bad fragrance  2017     12              0  \n",
       "75     Great product.  2017     12              0  \n",
       "76         Five Stars  2017     12              0  "
      ]
     },
     "execution_count": 225,
     "metadata": {},
     "output_type": "execute_result"
    }
   ],
   "source": [
    "filtered_review_df['trending_asin'] = np.where(filtered_review_df['trending_asin']== True, 1, 0)\n",
    "filtered_review_df.head()"
   ]
  },
  {
   "cell_type": "code",
   "execution_count": 226,
   "id": "c43947ac",
   "metadata": {},
   "outputs": [
    {
     "name": "stdout",
     "output_type": "stream",
     "text": [
      "Trending products make up 11.09% of the dataset.\n"
     ]
    }
   ],
   "source": [
    "pct_trending = (filtered_review_df['trending_asin'].sum()/filtered_review_df.shape[0])*100\n",
    "print(f\"Trending products make up {round(pct_trending,2)}% of the dataset.\") "
   ]
  },
  {
   "cell_type": "markdown",
   "id": "dc0b6285",
   "metadata": {},
   "source": [
    "# Exploring the dataset "
   ]
  },
  {
   "cell_type": "code",
   "execution_count": 227,
   "id": "477d748b",
   "metadata": {},
   "outputs": [
    {
     "data": {
      "text/plain": [
       "reviewerID      reviewerID    \n",
       "A2OW1FKQFPIA5D  A2OW1FKQFPIA5D    29\n",
       "AHN86VFJIJ2JP   AHN86VFJIJ2JP     28\n",
       "AQY5XBYSENNZQ   AQY5XBYSENNZQ     28\n",
       "A2YKWYC3WQJX5J  A2YKWYC3WQJX5J    27\n",
       "A25QBCHO0KFT0P  A25QBCHO0KFT0P    24\n",
       "                                  ..\n",
       "A2CGUFPB2051QC  A2CGUFPB2051QC     1\n",
       "A2CGRYPRUQLMPI  A2CGRYPRUQLMPI     1\n",
       "A2CGPT17U7DI8H  A2CGPT17U7DI8H     1\n",
       "A2CGOO388HODW4  A2CGOO388HODW4     1\n",
       "AZZYUA6JI1MO0   AZZYUA6JI1MO0      1\n",
       "Name: reviewerID, Length: 117496, dtype: int64"
      ]
     },
     "execution_count": 227,
     "metadata": {},
     "output_type": "execute_result"
    }
   ],
   "source": [
    "filtered_review_df.groupby(\"reviewerID\")[\"reviewerID\"].value_counts().sort_values(ascending=False)"
   ]
  },
  {
   "cell_type": "markdown",
   "id": "79759c26",
   "metadata": {},
   "source": [
    "Reviewer ID is not super relevant to they predict if it's trending or not so we can remove both of these columns. "
   ]
  },
  {
   "cell_type": "code",
   "execution_count": 228,
   "id": "d4997317",
   "metadata": {},
   "outputs": [],
   "source": [
    "columns = ['reviewerID','reviewerName']\n",
    "for column in columns: \n",
    "     filtered_review_df = filtered_review_df.drop([column],axis=1)"
   ]
  },
  {
   "cell_type": "markdown",
   "id": "9cfee880",
   "metadata": {},
   "source": [
    "#do we see any against trending_asin?"
   ]
  },
  {
   "cell_type": "code",
   "execution_count": 229,
   "id": "cd5ddb28",
   "metadata": {},
   "outputs": [
    {
     "data": {
      "text/html": [
       "<div>\n",
       "<style scoped>\n",
       "    .dataframe tbody tr th:only-of-type {\n",
       "        vertical-align: middle;\n",
       "    }\n",
       "\n",
       "    .dataframe tbody tr th {\n",
       "        vertical-align: top;\n",
       "    }\n",
       "\n",
       "    .dataframe thead tr th {\n",
       "        text-align: left;\n",
       "    }\n",
       "</style>\n",
       "<table border=\"1\" class=\"dataframe\">\n",
       "  <thead>\n",
       "    <tr>\n",
       "      <th></th>\n",
       "      <th>month</th>\n",
       "      <th colspan=\"2\" halign=\"left\">count</th>\n",
       "    </tr>\n",
       "    <tr>\n",
       "      <th>trending_asin</th>\n",
       "      <th></th>\n",
       "      <th>0</th>\n",
       "      <th>1</th>\n",
       "    </tr>\n",
       "  </thead>\n",
       "  <tbody>\n",
       "    <tr>\n",
       "      <th>0</th>\n",
       "      <td>1</td>\n",
       "      <td>11322</td>\n",
       "      <td>1126</td>\n",
       "    </tr>\n",
       "    <tr>\n",
       "      <th>1</th>\n",
       "      <td>2</td>\n",
       "      <td>10281</td>\n",
       "      <td>1006</td>\n",
       "    </tr>\n",
       "    <tr>\n",
       "      <th>2</th>\n",
       "      <td>3</td>\n",
       "      <td>11806</td>\n",
       "      <td>1331</td>\n",
       "    </tr>\n",
       "    <tr>\n",
       "      <th>3</th>\n",
       "      <td>4</td>\n",
       "      <td>10568</td>\n",
       "      <td>1126</td>\n",
       "    </tr>\n",
       "    <tr>\n",
       "      <th>4</th>\n",
       "      <td>5</td>\n",
       "      <td>10748</td>\n",
       "      <td>1232</td>\n",
       "    </tr>\n",
       "    <tr>\n",
       "      <th>5</th>\n",
       "      <td>6</td>\n",
       "      <td>10418</td>\n",
       "      <td>1793</td>\n",
       "    </tr>\n",
       "    <tr>\n",
       "      <th>6</th>\n",
       "      <td>7</td>\n",
       "      <td>11558</td>\n",
       "      <td>1516</td>\n",
       "    </tr>\n",
       "    <tr>\n",
       "      <th>7</th>\n",
       "      <td>8</td>\n",
       "      <td>10363</td>\n",
       "      <td>1393</td>\n",
       "    </tr>\n",
       "    <tr>\n",
       "      <th>8</th>\n",
       "      <td>9</td>\n",
       "      <td>9812</td>\n",
       "      <td>1216</td>\n",
       "    </tr>\n",
       "    <tr>\n",
       "      <th>9</th>\n",
       "      <td>10</td>\n",
       "      <td>9317</td>\n",
       "      <td>1181</td>\n",
       "    </tr>\n",
       "    <tr>\n",
       "      <th>10</th>\n",
       "      <td>11</td>\n",
       "      <td>8526</td>\n",
       "      <td>1142</td>\n",
       "    </tr>\n",
       "    <tr>\n",
       "      <th>11</th>\n",
       "      <td>12</td>\n",
       "      <td>9768</td>\n",
       "      <td>1465</td>\n",
       "    </tr>\n",
       "  </tbody>\n",
       "</table>\n",
       "</div>"
      ],
      "text/plain": [
       "              month  count      \n",
       "trending_asin            0     1\n",
       "0                 1  11322  1126\n",
       "1                 2  10281  1006\n",
       "2                 3  11806  1331\n",
       "3                 4  10568  1126\n",
       "4                 5  10748  1232\n",
       "5                 6  10418  1793\n",
       "6                 7  11558  1516\n",
       "7                 8  10363  1393\n",
       "8                 9   9812  1216\n",
       "9                10   9317  1181\n",
       "10               11   8526  1142\n",
       "11               12   9768  1465"
      ]
     },
     "execution_count": 229,
     "metadata": {},
     "output_type": "execute_result"
    }
   ],
   "source": [
    "pivot = pd.pivot_table(filtered_review_df, index=\"month\",columns = \"trending_asin\",values=\"overall\" ,aggfunc=[\"count\"]).reset_index()\n",
    "pivot"
   ]
  },
  {
   "cell_type": "markdown",
   "id": "5c7e7d4a",
   "metadata": {},
   "source": [
    "# Feature engineering "
   ]
  },
  {
   "cell_type": "markdown",
   "id": "f9b4ae5b",
   "metadata": {},
   "source": [
    "Feature engineering - adding new features to the datasets that may improve the result of the final model, for each dataset we can perform: \n",
    "\n",
    "Metadata\n",
    "- category \n",
    "- top brands\n",
    "\n",
    "\n",
    "Review\n",
    "- adding relevance for upvotes? \n",
    "- One hot encoding"
   ]
  },
  {
   "cell_type": "markdown",
   "id": "51d99740",
   "metadata": {},
   "source": [
    "Metadata creation of categories"
   ]
  },
  {
   "cell_type": "code",
   "execution_count": 230,
   "id": "ba8bd58f",
   "metadata": {},
   "outputs": [],
   "source": [
    "from collections import defaultdict\n",
    "title_list = metadata_df_clean[\"title\"].to_list()\n",
    "\n",
    "temp = defaultdict(int)\n",
    " \n",
    "# memorizing count\n",
    "for title in title_list:\n",
    "    for wrd in title.split():\n",
    "        wrd = wrd.lower()\n",
    "        \n",
    "        clean_wrd = \"\"\n",
    "        #searching through each letter and only accepting those in the alphabet\n",
    "        for letter in wrd: \n",
    "            if letter >= 'a' and letter <= 'z': \n",
    "                clean_wrd = clean_wrd + letter\n",
    "        temp[clean_wrd] += 1\n",
    " "
   ]
  },
  {
   "cell_type": "code",
   "execution_count": 231,
   "id": "24a1e3cb",
   "metadata": {},
   "outputs": [],
   "source": [
    "#saving dictionaries for easy access for analyzing the titles\n",
    "sorted_dict = sorted(temp.items(),key = lambda x:x[1], reverse = True)\n",
    "sorted_dict_alpha = sorted(temp.items())"
   ]
  },
  {
   "cell_type": "code",
   "execution_count": 232,
   "id": "5ca88d1e",
   "metadata": {},
   "outputs": [],
   "source": [
    "#output for csv \n",
    "df_dict = pd.DataFrame(sorted_dict_alpha)\n",
    "df_dict.to_csv(\"myfile.csv\",index=False)"
   ]
  },
  {
   "cell_type": "code",
   "execution_count": 293,
   "id": "d63f2d81",
   "metadata": {},
   "outputs": [],
   "source": [
    "#regex list for mapping out the different categories\n",
    "regex_list = [r'\\skin\\B|moisturi[z|s](er|ing)|\\bcleans.*(ing|r)\\b|cellular|salve|essence|serum|maintenance|digestive|pevonia|micellar|kerr|filorga|complex|cleanse|osmosis|elixir|orlane|concentrate|manuka|stretch mark|cosmedix|clinical|redness|oralne|guinot|clarityrx|bioelements|reconstructor|liftosome|moisture|replenix|goldfaden|fender|mask|epicuren|\\bface\\b(?!\\w*sur)|cell repair|facial|astringent|blinc|\\bmasque\\b|\\bcreme\\b|\\btoner\\b|acne|(?!hair spray)\\b(face|facial) spray\\b|mio|tired leg|butter|marini|badescu|elemis|youth|antiaging|makeup remover|e.r.3|tonic|body lotion|towelettes|occitane|\\b(?<!sun )lotion\\b|replenix cf|skincare|nuxe|ahava|crabtree|moisterizing|arden|jurlique|retinol|strivectin|\\bremover\\b|cream|bliss|\\b(?<!hair )oil\\b|scrub|acid|derm|skin|body|greyl|pureology|aloe|perricone|wipe|vichy|anti(?!per|oxid|friz)|caudalie|age|exfol|iredale|bisse|neova|squalane|ceut|neck|red flower|boscia|cellex-c|wrinkle|hyd*' #skincare\n",
    "              ,r'hair|cond(i)tion|putty|eimi|dr.|klorane|mop|\\b(moroccanoil|hard water|paste|inhibition|prevon|silken|teasing|frizz|cloud nine|davines|colorproof|marulaoil|abba|exquisiteoil|salon|chaz dean|milk_shake|oilhair|shampoo|shampooing|hairspray)\\b|(?!face|facial)\\b(hair|detangling|texture|volumizing) spray\\b|protectant|treatment|styling|lipstick|brightening|brow(?!n)|paul mitchell|\\b(?<!mist )spray\\b|mousse|volumiz|hair oil|curl|texture|somme|wax|oribe|amika|text*|mist|volume|blandi|\\bgel\\b|rusk|sebastian|chi|rsquo|nioxin|furterer|folli|neuma|root|volumin|blonde(s)' #haircare \n",
    "              ,r'\\w*(?<!s)nail|\\bpolish\\b(?!\\w*ed|\\w*er|\\w*es|\\w*ing\\b)|heel|ridge|cuticle|dry drops|prostay|rgb|manicure|pedicure|crme|\\bhand(s)?\\b(?!bag)|\\bopi\\b|zoya|jessica|foot cream|gehwol fusskraft|cnd|coat|palisade|\\b(?<!lip )lacquer\\b' #nailcare\n",
    "              ,r'soap(?!holder)|bath|shower(?!cap)|gianna rose|\\bwash(?!mouth)|salt|rituals|molton brown|\\bmud\\b' #bath&shower\n",
    "              ,r'shadow|beauty|\\bli(ps)?\\b(?!philip)|liner(?!clineral)|longo|son &amp;|lea journo|bb|mai|cargo|balm|makeup|lip lacquer|alloy|foundation|conceal-it|cosmetics|pencil|\\bgloss\\b|\\bpalette\\b|hormone|conceal(er)|\\bprimer\\b|corrector|mascara|rodial|\\bmakeup\\b(?! remover)|highlight(ing)|bronzing|bronzer|blush|powder|stila|cosmetic|lorac|\\beye\\b(?! makeup remover)|dermablend|jouer|highlighter|geller|tint|lash|bronze|contour|base|matte|berry|tonymoly|michelle phan|korres|lip|shadow(?!s)' #makeup\n",
    "              ,r'eau|toilette|parfum|cologne|perfume|fragrance|rollerball|lolita|aroma|alora|pacifique|montale|alford|mancera|malandrino|woods|\\bkenneth\\b' #fragance\n",
    "              ,r'\\b(aftershave)|jack black|homme|men|him|man made|shaving|groom|anthony|shave|proglide|deodorant|pomade|razor|perspirant|billy|klein|beard|fusion proglide|baxter|shave|trimmer|shave(?!r)' #menscare\n",
    "              ,r'tweezer|brush|showercap|capsule|clip(s)|philip|iron|plie|ddf|cotton|lightstim|purse pack|sponge|file|sharpener|nubrilliance|stephanie johnson|emi|potempa|japonesque|beachwaver|attachment|plate|t3|clarisonic|supplement|candle|papier|vitamin|\\bdryer\\b|sponge(s)|rollers|ceramic|mouth|tooth|teeth|diffuser|babyliss|\\btea\\b|comb|temptu|white|mirror|bag|curler|ghd|stand|supersmile|zwilling|ionic|tool(s)'#accessories \n",
    "              ,r'sun|spf|sunscreen|\\btan\\b|st. tropez|\\btanning\\b|\\btanner\\b|sun lotion' #suncare\n",
    "              ,r'\\bgift\\b|\\bset\\b|kit|hamper|strop|\\btravel\\b|box' #other\n",
    "             ]\n",
    "                \n",
    "column_names = ['c_skincare','c_haircare','c_nailandhands','c_bath&shower','c_makeup','c_fragance','c_menscare','c_accessories','c_suncare','c_other']\n"
   ]
  },
  {
   "cell_type": "code",
   "execution_count": 294,
   "id": "33824b0f",
   "metadata": {},
   "outputs": [
    {
     "name": "stderr",
     "output_type": "stream",
     "text": [
      "/var/folders/k5/r4y7z25n2rz_yw3s46bn0m580000gn/T/ipykernel_12435/1037345614.py:4: UserWarning:\n",
      "\n",
      "This pattern is interpreted as a regular expression, and has match groups. To actually get the groups, use str.extract.\n",
      "\n"
     ]
    },
    {
     "name": "stdout",
     "output_type": "stream",
     "text": [
      "c_skincare column created with 6549 matches\n"
     ]
    },
    {
     "name": "stderr",
     "output_type": "stream",
     "text": [
      "/var/folders/k5/r4y7z25n2rz_yw3s46bn0m580000gn/T/ipykernel_12435/1037345614.py:4: UserWarning:\n",
      "\n",
      "This pattern is interpreted as a regular expression, and has match groups. To actually get the groups, use str.extract.\n",
      "\n"
     ]
    },
    {
     "name": "stdout",
     "output_type": "stream",
     "text": [
      "c_haircare column created with 4775 matches\n"
     ]
    },
    {
     "name": "stderr",
     "output_type": "stream",
     "text": [
      "/var/folders/k5/r4y7z25n2rz_yw3s46bn0m580000gn/T/ipykernel_12435/1037345614.py:4: UserWarning:\n",
      "\n",
      "This pattern is interpreted as a regular expression, and has match groups. To actually get the groups, use str.extract.\n",
      "\n"
     ]
    },
    {
     "name": "stdout",
     "output_type": "stream",
     "text": [
      "c_nailandhands column created with 1044 matches\n",
      "c_bath&shower column created with 784 matches\n"
     ]
    },
    {
     "name": "stderr",
     "output_type": "stream",
     "text": [
      "/var/folders/k5/r4y7z25n2rz_yw3s46bn0m580000gn/T/ipykernel_12435/1037345614.py:4: UserWarning:\n",
      "\n",
      "This pattern is interpreted as a regular expression, and has match groups. To actually get the groups, use str.extract.\n",
      "\n"
     ]
    },
    {
     "name": "stdout",
     "output_type": "stream",
     "text": [
      "c_makeup column created with 3266 matches\n",
      "c_fragance column created with 1493 matches\n"
     ]
    },
    {
     "name": "stderr",
     "output_type": "stream",
     "text": [
      "/var/folders/k5/r4y7z25n2rz_yw3s46bn0m580000gn/T/ipykernel_12435/1037345614.py:4: UserWarning:\n",
      "\n",
      "This pattern is interpreted as a regular expression, and has match groups. To actually get the groups, use str.extract.\n",
      "\n"
     ]
    },
    {
     "name": "stdout",
     "output_type": "stream",
     "text": [
      "c_menscare column created with 1668 matches\n"
     ]
    },
    {
     "name": "stderr",
     "output_type": "stream",
     "text": [
      "/var/folders/k5/r4y7z25n2rz_yw3s46bn0m580000gn/T/ipykernel_12435/1037345614.py:4: UserWarning:\n",
      "\n",
      "This pattern is interpreted as a regular expression, and has match groups. To actually get the groups, use str.extract.\n",
      "\n"
     ]
    },
    {
     "name": "stdout",
     "output_type": "stream",
     "text": [
      "c_accessories column created with 1979 matches\n",
      "c_suncare column created with 594 matches\n",
      "c_other column created with 799 matches\n"
     ]
    }
   ],
   "source": [
    "#for loop to create columns and then prints out the number of matches \n",
    "for column,regex_search in zip(column_names, regex_list):\n",
    "    \n",
    "    metadata_df_clean[column] = metadata_df_clean[\"title\"].str.contains(\n",
    "    regex_search\n",
    "    , regex = True\n",
    "    , case=False )\n",
    "    counts = metadata_df_clean[column].sum()\n",
    "    print(f\"{column} column created with {counts} matches\")"
   ]
  },
  {
   "cell_type": "code",
   "execution_count": 295,
   "id": "582180d7",
   "metadata": {},
   "outputs": [],
   "source": [
    "#creating new column for category\n",
    "mapping_dict = { False: None\n",
    "                , 'c_skincare': 'skincare'\n",
    "                , 'c_haircare': 'haircare'\n",
    "                , 'c_nailandhands': 'nails and hands'\n",
    "                ,'c_bath&shower' : 'bath and shower'\n",
    "                ,'c_makeup' : 'makeup'\n",
    "                ,'c_fragance' : 'fragance'\n",
    "                ,'c_accessories' : 'accessories'\n",
    "                , 'c_menscare' : 'menscare'\n",
    "                , 'c_other' : 'other'\n",
    "                , 'c_suncare' : 'suncare'\n",
    "               }\n",
    "\n",
    "df_cat = metadata_df_clean.filter(like='c_')\n",
    "metadata_df_clean['category'] = (df_cat.idxmax(axis=1).map(mapping_dict)\n",
    "                    .where(df_cat.any(axis=1), mapping_dict[False]))"
   ]
  },
  {
   "cell_type": "code",
   "execution_count": 296,
   "id": "bb051f2b",
   "metadata": {},
   "outputs": [
    {
     "data": {
      "text/plain": [
       "(0, 20)"
      ]
     },
     "execution_count": 296,
     "metadata": {},
     "output_type": "execute_result"
    }
   ],
   "source": [
    "#sanity check \n",
    "metadata_null = metadata_df_clean[metadata_df_clean['category']=='none']\n",
    "metadata_null.shape"
   ]
  },
  {
   "cell_type": "code",
   "execution_count": 297,
   "id": "e2f248fc",
   "metadata": {},
   "outputs": [],
   "source": [
    "#remove the c columns\n",
    "column_names = ['c_skincare','c_haircare','c_nailandhands','c_bath&shower','c_makeup','c_fragance','c_menscare','c_accessories','c_suncare','c_other']\n",
    "\n",
    "for column in column_names: \n",
    "    metadata_df_clean= metadata_df_clean.drop(column, axis=1)"
   ]
  },
  {
   "cell_type": "code",
   "execution_count": 299,
   "id": "bd013491",
   "metadata": {},
   "outputs": [
    {
     "data": {
      "text/plain": [
       "title                     0\n",
       "asin                      0\n",
       "price_USD              5138\n",
       "ranking                   0\n",
       "product_description       0\n",
       "also_buy_counts           0\n",
       "also_view_counts          0\n",
       "category                 10\n",
       "brand                     0\n",
       "main_brands               0\n",
       "dtype: int64"
      ]
     },
     "execution_count": 299,
     "metadata": {},
     "output_type": "execute_result"
    }
   ],
   "source": [
    "metadata_df_clean.isna().sum()"
   ]
  },
  {
   "cell_type": "markdown",
   "id": "9cb9d4cd",
   "metadata": {},
   "source": [
    "### Top brands"
   ]
  },
  {
   "cell_type": "code",
   "execution_count": null,
   "id": "17a43e19",
   "metadata": {},
   "outputs": [],
   "source": []
  },
  {
   "cell_type": "code",
   "execution_count": 300,
   "id": "f8ece32f",
   "metadata": {},
   "outputs": [
    {
     "data": {
      "text/html": [
       "<div>\n",
       "<style scoped>\n",
       "    .dataframe tbody tr th:only-of-type {\n",
       "        vertical-align: middle;\n",
       "    }\n",
       "\n",
       "    .dataframe tbody tr th {\n",
       "        vertical-align: top;\n",
       "    }\n",
       "\n",
       "    .dataframe thead th {\n",
       "        text-align: right;\n",
       "    }\n",
       "</style>\n",
       "<table border=\"1\" class=\"dataframe\">\n",
       "  <thead>\n",
       "    <tr style=\"text-align: right;\">\n",
       "      <th></th>\n",
       "      <th>title</th>\n",
       "      <th>asin</th>\n",
       "      <th>price_USD</th>\n",
       "      <th>ranking</th>\n",
       "      <th>product_description</th>\n",
       "      <th>also_buy_counts</th>\n",
       "      <th>also_view_counts</th>\n",
       "      <th>category</th>\n",
       "      <th>brand</th>\n",
       "      <th>main_brands</th>\n",
       "    </tr>\n",
       "  </thead>\n",
       "  <tbody>\n",
       "    <tr>\n",
       "      <th>0</th>\n",
       "      <td>Crabtree  amp  Evelyn   Gardener s Ultra Moisturising Hand Therapy Pump      g     OZ</td>\n",
       "      <td>B00004U9V2</td>\n",
       "      <td>30.0</td>\n",
       "      <td>4324</td>\n",
       "      <td>After a long day of handling thorny situations, our new hand therapy pump is just the help you need. It contains shea butter as well as extracts o...</td>\n",
       "      <td>56.0</td>\n",
       "      <td>48.0</td>\n",
       "      <td>skincare</td>\n",
       "      <td>Crabtree</td>\n",
       "      <td>The Art of Shaving</td>\n",
       "    </tr>\n",
       "    <tr>\n",
       "      <th>1</th>\n",
       "      <td>AHAVA Bath Salts</td>\n",
       "      <td>B0000531EN</td>\n",
       "      <td>NaN</td>\n",
       "      <td>1633549</td>\n",
       "      <td>If you haven't experienced the pleasures of bathing in the Dead Sea, Bath Crystals are the next best thing. Rich in health-inducing minerals inclu...</td>\n",
       "      <td>0.0</td>\n",
       "      <td>0.0</td>\n",
       "      <td>skincare</td>\n",
       "      <td>AHAVA</td>\n",
       "      <td>AHAVA</td>\n",
       "    </tr>\n",
       "  </tbody>\n",
       "</table>\n",
       "</div>"
      ],
      "text/plain": [
       "                                                                                   title  \\\n",
       "0  Crabtree  amp  Evelyn   Gardener s Ultra Moisturising Hand Therapy Pump      g     OZ   \n",
       "1                                                                       AHAVA Bath Salts   \n",
       "\n",
       "         asin  price_USD  ranking  \\\n",
       "0  B00004U9V2       30.0     4324   \n",
       "1  B0000531EN        NaN  1633549   \n",
       "\n",
       "                                                                                                                                     product_description  \\\n",
       "0  After a long day of handling thorny situations, our new hand therapy pump is just the help you need. It contains shea butter as well as extracts o...   \n",
       "1  If you haven't experienced the pleasures of bathing in the Dead Sea, Bath Crystals are the next best thing. Rich in health-inducing minerals inclu...   \n",
       "\n",
       "   also_buy_counts  also_view_counts  category     brand         main_brands  \n",
       "0             56.0              48.0  skincare  Crabtree  The Art of Shaving  \n",
       "1              0.0               0.0  skincare     AHAVA               AHAVA  "
      ]
     },
     "execution_count": 300,
     "metadata": {},
     "output_type": "execute_result"
    }
   ],
   "source": [
    "# the second replace just removes repeated whitespaces .str.replace(r\"\\s+\", \" \")\n",
    "metadata_df_clean[\"title\"] = metadata_df_clean[\"title\"].str.replace(r\"[^a-zA-Z]\", \" \", regex=True)\n",
    "metadata_df_clean[\"title\"] = metadata_df_clean[\"title\"].str.strip()\n",
    "metadata_df_clean.head(2)"
   ]
  },
  {
   "cell_type": "code",
   "execution_count": 301,
   "id": "2286a790",
   "metadata": {},
   "outputs": [
    {
     "data": {
      "text/html": [
       "<div>\n",
       "<style scoped>\n",
       "    .dataframe tbody tr th:only-of-type {\n",
       "        vertical-align: middle;\n",
       "    }\n",
       "\n",
       "    .dataframe tbody tr th {\n",
       "        vertical-align: top;\n",
       "    }\n",
       "\n",
       "    .dataframe thead th {\n",
       "        text-align: right;\n",
       "    }\n",
       "</style>\n",
       "<table border=\"1\" class=\"dataframe\">\n",
       "  <thead>\n",
       "    <tr style=\"text-align: right;\">\n",
       "      <th></th>\n",
       "      <th>title</th>\n",
       "      <th>asin</th>\n",
       "      <th>price_USD</th>\n",
       "      <th>ranking</th>\n",
       "      <th>product_description</th>\n",
       "      <th>also_buy_counts</th>\n",
       "      <th>also_view_counts</th>\n",
       "      <th>category</th>\n",
       "      <th>brand</th>\n",
       "      <th>main_brands</th>\n",
       "    </tr>\n",
       "  </thead>\n",
       "  <tbody>\n",
       "    <tr>\n",
       "      <th>0</th>\n",
       "      <td>Crabtree  amp  Evelyn   Gardener s Ultra Moisturising Hand Therapy Pump      g     OZ</td>\n",
       "      <td>B00004U9V2</td>\n",
       "      <td>30.0</td>\n",
       "      <td>4324</td>\n",
       "      <td>After a long day of handling thorny situations, our new hand therapy pump is just the help you need. It contains shea butter as well as extracts o...</td>\n",
       "      <td>56.0</td>\n",
       "      <td>48.0</td>\n",
       "      <td>skincare</td>\n",
       "      <td>Crabtree</td>\n",
       "      <td>The Art of Shaving</td>\n",
       "    </tr>\n",
       "    <tr>\n",
       "      <th>1</th>\n",
       "      <td>AHAVA Bath Salts</td>\n",
       "      <td>B0000531EN</td>\n",
       "      <td>NaN</td>\n",
       "      <td>1633549</td>\n",
       "      <td>If you haven't experienced the pleasures of bathing in the Dead Sea, Bath Crystals are the next best thing. Rich in health-inducing minerals inclu...</td>\n",
       "      <td>0.0</td>\n",
       "      <td>0.0</td>\n",
       "      <td>skincare</td>\n",
       "      <td>AHAVA</td>\n",
       "      <td>AHAVA</td>\n",
       "    </tr>\n",
       "  </tbody>\n",
       "</table>\n",
       "</div>"
      ],
      "text/plain": [
       "                                                                                   title  \\\n",
       "0  Crabtree  amp  Evelyn   Gardener s Ultra Moisturising Hand Therapy Pump      g     OZ   \n",
       "1                                                                       AHAVA Bath Salts   \n",
       "\n",
       "         asin  price_USD  ranking  \\\n",
       "0  B00004U9V2       30.0     4324   \n",
       "1  B0000531EN        NaN  1633549   \n",
       "\n",
       "                                                                                                                                     product_description  \\\n",
       "0  After a long day of handling thorny situations, our new hand therapy pump is just the help you need. It contains shea butter as well as extracts o...   \n",
       "1  If you haven't experienced the pleasures of bathing in the Dead Sea, Bath Crystals are the next best thing. Rich in health-inducing minerals inclu...   \n",
       "\n",
       "   also_buy_counts  also_view_counts  category     brand         main_brands  \n",
       "0             56.0              48.0  skincare  Crabtree  The Art of Shaving  \n",
       "1              0.0               0.0  skincare     AHAVA               AHAVA  "
      ]
     },
     "execution_count": 301,
     "metadata": {},
     "output_type": "execute_result"
    }
   ],
   "source": [
    "#creating brand column\n",
    "metadata_df_clean[\"brand\"] = metadata_df_clean[\"title\"].apply(lambda x: x.split(\" \",1)[0])\n",
    "metadata_df_clean.head(2)"
   ]
  },
  {
   "cell_type": "code",
   "execution_count": null,
   "id": "9e983798",
   "metadata": {},
   "outputs": [],
   "source": [
    "df_combined[\"brand\"].nunique()"
   ]
  },
  {
   "attachments": {},
   "cell_type": "markdown",
   "id": "535ede06",
   "metadata": {},
   "source": [
    "There are over 200 unique values let's isolate these to the top 50. "
   ]
  },
  {
   "cell_type": "code",
   "execution_count": 302,
   "id": "2fd27e33",
   "metadata": {},
   "outputs": [
    {
     "data": {
      "text/plain": [
       "L              406\n",
       "Crabtree       184\n",
       "AHAVA          176\n",
       "stila          165\n",
       "bliss          159\n",
       "Mario          145\n",
       "butter         141\n",
       "Julep          129\n",
       "JAPONESQUE     124\n",
       "Rituals        122\n",
       "Paul           120\n",
       "Glo            119\n",
       "ELEMIS         114\n",
       "OPI            113\n",
       "Archipelago    109\n",
       "LORAC          105\n",
       "Elizabeth      104\n",
       "Borghese       103\n",
       "CND            102\n",
       "RUSK           102\n",
       "The             97\n",
       "CHI             97\n",
       "jane            94\n",
       "BURBERRY        91\n",
       "Davines         90\n",
       "Pureology       90\n",
       "Rodial          84\n",
       "theBalm         81\n",
       "Eau             78\n",
       "VINCENT         78\n",
       "Juice           77\n",
       "Osmosis         75\n",
       "Red             72\n",
       "Laura           72\n",
       "NUXE            72\n",
       "Anthony         70\n",
       "LAFCO           70\n",
       "Vichy           70\n",
       "La              70\n",
       "P               68\n",
       "Calvin          67\n",
       "Zoya            65\n",
       "BaBylissPRO     62\n",
       "Bioelements     62\n",
       "StriVectin      61\n",
       "ORIBE           61\n",
       "PCA             60\n",
       "Mustela         60\n",
       "Rene            58\n",
       "Natura          56\n",
       "Name: brand, dtype: int64"
      ]
     },
     "execution_count": 302,
     "metadata": {},
     "output_type": "execute_result"
    }
   ],
   "source": [
    "#finding most frequently occuring words in string. Ref: https://www.includehelp.com/python/counting-the-frequency-of-words-in-a-pandas-dataframe.aspx\n",
    "pd.set_option('display.max_rows', 50)\n",
    "res = metadata_df_clean[\"brand\"].value_counts()\n",
    "res.head(50)"
   ]
  },
  {
   "cell_type": "markdown",
   "id": "72f5ecee",
   "metadata": {},
   "source": [
    "Now that we've added in trending we can combine the datasets "
   ]
  },
  {
   "cell_type": "code",
   "execution_count": 1,
   "id": "f739e210",
   "metadata": {},
   "outputs": [
    {
     "ename": "NameError",
     "evalue": "name 'metadata_df_clean' is not defined",
     "output_type": "error",
     "traceback": [
      "\u001b[0;31m---------------------------------------------------------------------------\u001b[0m",
      "\u001b[0;31mNameError\u001b[0m                                 Traceback (most recent call last)",
      "Cell \u001b[0;32mIn[1], line 72\u001b[0m\n\u001b[1;32m      9\u001b[0m             \u001b[39mreturn\u001b[39;00m \u001b[39mself\u001b[39m\u001b[39m.\u001b[39mget(\u001b[39mNone\u001b[39;00m)\n\u001b[1;32m     12\u001b[0m brand_map \u001b[39m=\u001b[39m dict_partial({\u001b[39m'\u001b[39m\u001b[39mCrabtree\u001b[39m\u001b[39m'\u001b[39m:\u001b[39m'\u001b[39m\u001b[39mCrabtree & Evelyn\u001b[39m\u001b[39m'\u001b[39m, \n\u001b[1;32m     13\u001b[0m                             \u001b[39m'\u001b[39m\u001b[39mAHAVA\u001b[39m\u001b[39m'\u001b[39m :\u001b[39m'\u001b[39m\u001b[39mAHAVA\u001b[39m\u001b[39m'\u001b[39m,\n\u001b[1;32m     14\u001b[0m                             \u001b[39m'\u001b[39m\u001b[39mstila\u001b[39m\u001b[39m'\u001b[39m:\u001b[39m'\u001b[39m\u001b[39mStila\u001b[39m\u001b[39m'\u001b[39m,\n\u001b[0;32m   (...)\u001b[0m\n\u001b[1;32m     70\u001b[0m                             \u001b[39m\"\u001b[39m\u001b[39mSoy\u001b[39m\u001b[39m\"\u001b[39m:\u001b[39m\"\u001b[39m\u001b[39mSoy\u001b[39m\u001b[39m\"\u001b[39m\n\u001b[1;32m     71\u001b[0m                             })\n\u001b[0;32m---> 72\u001b[0m metadata_df_clean[\u001b[39m'\u001b[39m\u001b[39mmain_brands\u001b[39m\u001b[39m'\u001b[39m] \u001b[39m=\u001b[39m metadata_df_clean[\u001b[39m'\u001b[39m\u001b[39mtitle\u001b[39m\u001b[39m'\u001b[39m]\u001b[39m.\u001b[39mapply(\u001b[39mlambda\u001b[39;00m x: brand_map[x])\n\u001b[1;32m     74\u001b[0m metadata_df_clean[\u001b[39m'\u001b[39m\u001b[39mmain_brands\u001b[39m\u001b[39m'\u001b[39m] \u001b[39m=\u001b[39m metadata_df_clean[\u001b[39m'\u001b[39m\u001b[39mmain_brands\u001b[39m\u001b[39m'\u001b[39m]\u001b[39m.\u001b[39mfillna(\u001b[39m\"\u001b[39m\u001b[39mOther\u001b[39m\u001b[39m\"\u001b[39m)\n",
      "\u001b[0;31mNameError\u001b[0m: name 'metadata_df_clean' is not defined"
     ]
    }
   ],
   "source": [
    "# mapping str.contains using a class: https://stackoverflow.com/questions/48590488/map-str-contains-across-pandas-dataframe\n",
    "\n",
    "class dict_partial(dict):\n",
    "    def __getitem__(self, value):\n",
    "        for k in self.keys():\n",
    "            if k in value:\n",
    "                return self.get(k)\n",
    "        else:\n",
    "            return self.get(None)\n",
    "    \n",
    "\n",
    "brand_map = dict_partial({'Crabtree':'Crabtree & Evelyn', \n",
    "                            'AHAVA' :'AHAVA',\n",
    "                            'stila':'Stila',\n",
    "                            'LORAC':'LORAC',\n",
    "                            'JAPONESQUE':'Japonesque',\n",
    "                            'CND':'CND',\n",
    "                            \"L Occitane\":\"L'occitane \", \n",
    "                            'bliss' :'Bliss',\n",
    "                            'BURBERRY':'Burberry',\n",
    "                            'CHI':'CHI',\n",
    "                            'Mario Badescu':'Mario Badescu',\n",
    "                            'butter':'Butter London',\n",
    "                            \"Julep\":\"Julep\", \n",
    "                            'bliss' :'Bliss',\n",
    "                            'Ritual':'Rituals',\n",
    "                            'Rituals Foaming':'Rituals',\n",
    "                            'Paul':'Paul Mitchell',\n",
    "                            'GloMinerals' : 'GloMinerals',\n",
    "                            'Glo Skin':'Glo Skin',\n",
    "                            'ELEMIS':'Elemis',\n",
    "                            'OPI':'OPI',\n",
    "                            'Archipelago':'Archipelago',\n",
    "                            'Elizabeth':'Elizabeth Arden',\n",
    "                            'Borghese' : 'Borghese',\n",
    "\n",
    "                            'Glo Skin':'Glo Skin',\n",
    "                            'jane':'Jane Iredale',\n",
    "                            'The Art':'The Art of Shaving',\n",
    "                            'RUSK':'RUSK',\n",
    "                            'Davines':'Davines',\n",
    "                            'Pureology':'Pureology', \n",
    "                            'Rodial' :'Rodial',\n",
    "                            'theBalm':'theBalm',\n",
    "                            'VINCENT':'Vincent Longo',\n",
    "                            'Osmosis':'Osmosis',\n",
    "                            \"Red\":\"Red Flower\", \n",
    "                            \"Laura Biagiotti\": \"Laura Biagiotti\",\n",
    "                            'Laura Geller':'Laura Geller',\n",
    "                            'NUXE':'NUXE',\n",
    "                            'Anthony Logistics':'Anthony Logistics',\n",
    "                            'LAFCO':'LAFCO',\n",
    "                            \"Vichy\":\"Vichy\",\n",
    "                            'Lacoste':'Lacoste',\n",
    "                            'Osmosis':'Osmosis',\n",
    "                            \"La Roche Posay\" : \"La Roche Posay\",\n",
    "                            'Lacoste':'Lacoste',\n",
    "                            'Calvin':'Calvin Klein',\n",
    "                            'Zoya':'Zoya',\n",
    "                            'BaBylissPRO':'BaBylissPro',\n",
    "                            \"Bioelements\":\"Bioelements\", \n",
    "                            \"StriVectin\": \"StriVectin\",\n",
    "                            'ORIBE':'Oribe',\n",
    "                            'PCA':'PCA Skin',\n",
    "                            \"Mustela\":\"Mustela\", \n",
    "                            \"Hydra Bebe\":\"Mustela\",\n",
    "                            \"Rene\": \"Rene Furterer\",\n",
    "                            'Natura':'Natura Bisse',\n",
    "                            'TS':'TS',\n",
    "                            \"Soy\":\"Soy\"\n",
    "                            })\n",
    "metadata_df_clean['main_brands'] = metadata_df_clean['title'].apply(lambda x: brand_map[x])\n",
    "\n",
    "metadata_df_clean['main_brands'] = metadata_df_clean['main_brands'].fillna(\"Other\")\n"
   ]
  },
  {
   "cell_type": "markdown",
   "id": "14585c87",
   "metadata": {},
   "source": []
  },
  {
   "cell_type": "code",
   "execution_count": 328,
   "id": "282bf87f",
   "metadata": {},
   "outputs": [],
   "source": [
    "#explore trending products with brand? graph"
   ]
  },
  {
   "cell_type": "code",
   "execution_count": 329,
   "id": "86341fb5",
   "metadata": {},
   "outputs": [
    {
     "data": {
      "text/plain": [
       "title                     0\n",
       "asin                      0\n",
       "price_USD              5138\n",
       "ranking                   0\n",
       "product_description       0\n",
       "also_buy_counts           0\n",
       "also_view_counts          0\n",
       "category                 10\n",
       "brand                     0\n",
       "main_brands               0\n",
       "dtype: int64"
      ]
     },
     "execution_count": 329,
     "metadata": {},
     "output_type": "execute_result"
    }
   ],
   "source": [
    "metadata_df_clean.isna().sum()"
   ]
  },
  {
   "cell_type": "code",
   "execution_count": 330,
   "id": "c6bd0a4b",
   "metadata": {},
   "outputs": [],
   "source": [
    "pd.set_option('display.max_colwidth', 150)\n",
    "df_combined = pd.merge(filtered_review_df,metadata_df_clean, how=\"left\", on=[\"asin\", \"asin\"])"
   ]
  },
  {
   "cell_type": "code",
   "execution_count": 331,
   "id": "8252b66d",
   "metadata": {},
   "outputs": [],
   "source": [
    "#taking median price for price_usd to map null values to \n",
    "price_per_brand = df_combined.groupby(\"main_brands\")[\"price_USD\"].median()\n"
   ]
  },
  {
   "cell_type": "code",
   "execution_count": null,
   "id": "83abafd8",
   "metadata": {},
   "outputs": [],
   "source": []
  },
  {
   "cell_type": "code",
   "execution_count": 332,
   "id": "ad3da417",
   "metadata": {},
   "outputs": [],
   "source": [
    "# overwrite the missing price values with median price where possible\n",
    "df_combined[\"price_USD\"] = np.where(df_combined[\"price_USD\"].isna(), df_combined[\"main_brands\"].map(price_per_brand), df_combined[\"price_USD\"])"
   ]
  },
  {
   "cell_type": "code",
   "execution_count": 347,
   "id": "fdbc2ecb",
   "metadata": {},
   "outputs": [
    {
     "name": "stdout",
     "output_type": "stream",
     "text": [
      "<class 'pandas.core.frame.DataFrame'>\n",
      "Int64Index: 140014 entries, 0 to 140013\n",
      "Data columns (total 19 columns):\n",
      " #   Column               Non-Null Count   Dtype         \n",
      "---  ------               --------------   -----         \n",
      " 0   overall              140014 non-null  float16       \n",
      " 1   vote                 140014 non-null  float32       \n",
      " 2   verified             140014 non-null  int32         \n",
      " 3   reviewTime           140014 non-null  datetime64[ns]\n",
      " 4   asin                 140014 non-null  object        \n",
      " 5   reviewText           140014 non-null  object        \n",
      " 6   summary              140014 non-null  object        \n",
      " 7   year                 140014 non-null  int32         \n",
      " 8   month                140014 non-null  int32         \n",
      " 9   trending_asin        140014 non-null  int64         \n",
      " 10  title                139605 non-null  object        \n",
      " 11  price_USD            139348 non-null  float64       \n",
      " 12  ranking              139605 non-null  float64       \n",
      " 13  product_description  139605 non-null  object        \n",
      " 14  also_buy_counts      139605 non-null  float64       \n",
      " 15  also_view_counts     139605 non-null  float64       \n",
      " 16  category             139445 non-null  object        \n",
      " 17  brand                139605 non-null  object        \n",
      " 18  main_brands          139605 non-null  object        \n",
      "dtypes: datetime64[ns](1), float16(1), float32(1), float64(4), int32(3), int64(1), object(8)\n",
      "memory usage: 18.4+ MB\n"
     ]
    }
   ],
   "source": [
    "df_combined.info()"
   ]
  },
  {
   "cell_type": "code",
   "execution_count": 335,
   "id": "ca20de3e",
   "metadata": {},
   "outputs": [
    {
     "data": {
      "text/plain": [
       "main_brands\n",
       "Borghese    [Borghese Superiore State of the Art Mascara, Borghese Fango Active Mud Mask for Face and Body       oz]\n",
       "Rituals                                                          [Rituals Foaming Shower Gel  Yogi Flow      fl  oz]\n",
       "Name: title, dtype: object"
      ]
     },
     "execution_count": 335,
     "metadata": {},
     "output_type": "execute_result"
    }
   ],
   "source": [
    "df_combined_null = df_combined[df_combined[\"price_USD\"].isna()]\n",
    "df_combined_null.groupby('main_brands')['title'].unique()"
   ]
  },
  {
   "cell_type": "code",
   "execution_count": 352,
   "id": "35452b2d",
   "metadata": {},
   "outputs": [],
   "source": [
    "remaining_map = dict_partial( {\"Fango\": 23.00, \n",
    "                            \"Superiore\" : 50.00,\n",
    "                            \"Rituals Foaming\": 15.00\n",
    "                            })\n",
    "df_combined[\"price_USD\"] = np.where(df_combined[\"price_USD\"].isna(), df_combined[\"title\"].map(remaining_map), df_combined[\"price_USD\"])"
   ]
  },
  {
   "cell_type": "code",
   "execution_count": 360,
   "id": "da95e2bf",
   "metadata": {},
   "outputs": [
    {
     "data": {
      "text/html": [
       "<div>\n",
       "<style scoped>\n",
       "    .dataframe tbody tr th:only-of-type {\n",
       "        vertical-align: middle;\n",
       "    }\n",
       "\n",
       "    .dataframe tbody tr th {\n",
       "        vertical-align: top;\n",
       "    }\n",
       "\n",
       "    .dataframe thead th {\n",
       "        text-align: right;\n",
       "    }\n",
       "</style>\n",
       "<table border=\"1\" class=\"dataframe\">\n",
       "  <thead>\n",
       "    <tr style=\"text-align: right;\">\n",
       "      <th></th>\n",
       "      <th>overall</th>\n",
       "      <th>vote</th>\n",
       "      <th>verified</th>\n",
       "      <th>reviewTime</th>\n",
       "      <th>asin</th>\n",
       "      <th>reviewText</th>\n",
       "      <th>summary</th>\n",
       "      <th>year</th>\n",
       "      <th>month</th>\n",
       "      <th>trending_asin</th>\n",
       "      <th>title</th>\n",
       "      <th>price_USD</th>\n",
       "      <th>ranking</th>\n",
       "      <th>product_description</th>\n",
       "      <th>also_buy_counts</th>\n",
       "      <th>also_view_counts</th>\n",
       "      <th>category</th>\n",
       "      <th>brand</th>\n",
       "      <th>main_brands</th>\n",
       "    </tr>\n",
       "  </thead>\n",
       "  <tbody>\n",
       "    <tr>\n",
       "      <th>14826</th>\n",
       "      <td>5.0</td>\n",
       "      <td>0.0</td>\n",
       "      <td>1</td>\n",
       "      <td>2017-11-21</td>\n",
       "      <td>B000A618E6</td>\n",
       "      <td>comfortable application , full unclumped lashes</td>\n",
       "      <td>Five Stars</td>\n",
       "      <td>2017</td>\n",
       "      <td>11</td>\n",
       "      <td>0</td>\n",
       "      <td>Borghese Superiore State of the Art Mascara</td>\n",
       "      <td>NaN</td>\n",
       "      <td>622270.0</td>\n",
       "      <td>Looking for lashes that go to great lengths? We found the perfect brush that lifts and separates, coats and curls. We combined it with the perfect...</td>\n",
       "      <td>0.0</td>\n",
       "      <td>0.0</td>\n",
       "      <td>makeup</td>\n",
       "      <td>Borghese</td>\n",
       "      <td>Borghese</td>\n",
       "    </tr>\n",
       "    <tr>\n",
       "      <th>14827</th>\n",
       "      <td>3.0</td>\n",
       "      <td>0.0</td>\n",
       "      <td>1</td>\n",
       "      <td>2017-12-11</td>\n",
       "      <td>B000A618E6</td>\n",
       "      <td>I used it and didn't like how when my eyes water it takes forever to dry and it smeared easily.  I gave it to my daughter because she has longer e...</td>\n",
       "      <td>Not my favorite</td>\n",
       "      <td>2017</td>\n",
       "      <td>12</td>\n",
       "      <td>0</td>\n",
       "      <td>Borghese Superiore State of the Art Mascara</td>\n",
       "      <td>NaN</td>\n",
       "      <td>622270.0</td>\n",
       "      <td>Looking for lashes that go to great lengths? We found the perfect brush that lifts and separates, coats and curls. We combined it with the perfect...</td>\n",
       "      <td>0.0</td>\n",
       "      <td>0.0</td>\n",
       "      <td>makeup</td>\n",
       "      <td>Borghese</td>\n",
       "      <td>Borghese</td>\n",
       "    </tr>\n",
       "    <tr>\n",
       "      <th>14828</th>\n",
       "      <td>5.0</td>\n",
       "      <td>2.0</td>\n",
       "      <td>1</td>\n",
       "      <td>2017-05-11</td>\n",
       "      <td>B000A618E6</td>\n",
       "      <td>I prefer this mascara over other brands.  It has a gel formula, which I like.  It goes on easily and doesn't look \"cakey\" on my lashes.  Other bra...</td>\n",
       "      <td>which I like. It goes on easily and doesn't look \"cakey\" ...</td>\n",
       "      <td>2017</td>\n",
       "      <td>5</td>\n",
       "      <td>0</td>\n",
       "      <td>Borghese Superiore State of the Art Mascara</td>\n",
       "      <td>NaN</td>\n",
       "      <td>622270.0</td>\n",
       "      <td>Looking for lashes that go to great lengths? We found the perfect brush that lifts and separates, coats and curls. We combined it with the perfect...</td>\n",
       "      <td>0.0</td>\n",
       "      <td>0.0</td>\n",
       "      <td>makeup</td>\n",
       "      <td>Borghese</td>\n",
       "      <td>Borghese</td>\n",
       "    </tr>\n",
       "    <tr>\n",
       "      <th>14829</th>\n",
       "      <td>5.0</td>\n",
       "      <td>0.0</td>\n",
       "      <td>1</td>\n",
       "      <td>2017-04-11</td>\n",
       "      <td>B000A618E6</td>\n",
       "      <td>Love this mascara!</td>\n",
       "      <td>Five Stars</td>\n",
       "      <td>2017</td>\n",
       "      <td>4</td>\n",
       "      <td>0</td>\n",
       "      <td>Borghese Superiore State of the Art Mascara</td>\n",
       "      <td>NaN</td>\n",
       "      <td>622270.0</td>\n",
       "      <td>Looking for lashes that go to great lengths? We found the perfect brush that lifts and separates, coats and curls. We combined it with the perfect...</td>\n",
       "      <td>0.0</td>\n",
       "      <td>0.0</td>\n",
       "      <td>makeup</td>\n",
       "      <td>Borghese</td>\n",
       "      <td>Borghese</td>\n",
       "    </tr>\n",
       "    <tr>\n",
       "      <th>14830</th>\n",
       "      <td>1.0</td>\n",
       "      <td>0.0</td>\n",
       "      <td>1</td>\n",
       "      <td>2017-10-28</td>\n",
       "      <td>B000A618E6</td>\n",
       "      <td>The mascara box looked old/used and the mascara was dry. Did not seem like new mascara.</td>\n",
       "      <td>Sub-par</td>\n",
       "      <td>2017</td>\n",
       "      <td>10</td>\n",
       "      <td>0</td>\n",
       "      <td>Borghese Superiore State of the Art Mascara</td>\n",
       "      <td>NaN</td>\n",
       "      <td>622270.0</td>\n",
       "      <td>Looking for lashes that go to great lengths? We found the perfect brush that lifts and separates, coats and curls. We combined it with the perfect...</td>\n",
       "      <td>0.0</td>\n",
       "      <td>0.0</td>\n",
       "      <td>makeup</td>\n",
       "      <td>Borghese</td>\n",
       "      <td>Borghese</td>\n",
       "    </tr>\n",
       "    <tr>\n",
       "      <th>...</th>\n",
       "      <td>...</td>\n",
       "      <td>...</td>\n",
       "      <td>...</td>\n",
       "      <td>...</td>\n",
       "      <td>...</td>\n",
       "      <td>...</td>\n",
       "      <td>...</td>\n",
       "      <td>...</td>\n",
       "      <td>...</td>\n",
       "      <td>...</td>\n",
       "      <td>...</td>\n",
       "      <td>...</td>\n",
       "      <td>...</td>\n",
       "      <td>...</td>\n",
       "      <td>...</td>\n",
       "      <td>...</td>\n",
       "      <td>...</td>\n",
       "      <td>...</td>\n",
       "      <td>...</td>\n",
       "    </tr>\n",
       "    <tr>\n",
       "      <th>139353</th>\n",
       "      <td>5.0</td>\n",
       "      <td>0.0</td>\n",
       "      <td>1</td>\n",
       "      <td>2017-12-17</td>\n",
       "      <td>B001B1SKRM</td>\n",
       "      <td>good</td>\n",
       "      <td>Five Stars</td>\n",
       "      <td>2017</td>\n",
       "      <td>12</td>\n",
       "      <td>0</td>\n",
       "      <td>Borghese Fango Active Mud Mask for Face and Body       oz</td>\n",
       "      <td>NaN</td>\n",
       "      <td>402126.0</td>\n",
       "      <td>Our signature and classic Fango Active is a one-and-only, must-have, mineral-rich mud. It's a sensational step beyond everyday clean. Derived from...</td>\n",
       "      <td>0.0</td>\n",
       "      <td>0.0</td>\n",
       "      <td>skincare</td>\n",
       "      <td>Borghese</td>\n",
       "      <td>Borghese</td>\n",
       "    </tr>\n",
       "    <tr>\n",
       "      <th>139354</th>\n",
       "      <td>5.0</td>\n",
       "      <td>0.0</td>\n",
       "      <td>1</td>\n",
       "      <td>2017-04-12</td>\n",
       "      <td>B001B1SKRM</td>\n",
       "      <td>very good</td>\n",
       "      <td>Five Stars</td>\n",
       "      <td>2017</td>\n",
       "      <td>4</td>\n",
       "      <td>0</td>\n",
       "      <td>Borghese Fango Active Mud Mask for Face and Body       oz</td>\n",
       "      <td>NaN</td>\n",
       "      <td>402126.0</td>\n",
       "      <td>Our signature and classic Fango Active is a one-and-only, must-have, mineral-rich mud. It's a sensational step beyond everyday clean. Derived from...</td>\n",
       "      <td>0.0</td>\n",
       "      <td>0.0</td>\n",
       "      <td>skincare</td>\n",
       "      <td>Borghese</td>\n",
       "      <td>Borghese</td>\n",
       "    </tr>\n",
       "    <tr>\n",
       "      <th>139355</th>\n",
       "      <td>5.0</td>\n",
       "      <td>0.0</td>\n",
       "      <td>1</td>\n",
       "      <td>2017-10-28</td>\n",
       "      <td>B001B1SKRM</td>\n",
       "      <td>I was so happy to re discover this product, I used it years ago and loved it then and still love it now! I will definitely purchase it again!</td>\n",
       "      <td>Loved it then, love it now!</td>\n",
       "      <td>2017</td>\n",
       "      <td>10</td>\n",
       "      <td>0</td>\n",
       "      <td>Borghese Fango Active Mud Mask for Face and Body       oz</td>\n",
       "      <td>NaN</td>\n",
       "      <td>402126.0</td>\n",
       "      <td>Our signature and classic Fango Active is a one-and-only, must-have, mineral-rich mud. It's a sensational step beyond everyday clean. Derived from...</td>\n",
       "      <td>0.0</td>\n",
       "      <td>0.0</td>\n",
       "      <td>skincare</td>\n",
       "      <td>Borghese</td>\n",
       "      <td>Borghese</td>\n",
       "    </tr>\n",
       "    <tr>\n",
       "      <th>139356</th>\n",
       "      <td>5.0</td>\n",
       "      <td>0.0</td>\n",
       "      <td>1</td>\n",
       "      <td>2017-10-10</td>\n",
       "      <td>B001B1SKRM</td>\n",
       "      <td>have loved this mud mask for years.  So so nice to use it again!  :)</td>\n",
       "      <td>Five Stars</td>\n",
       "      <td>2017</td>\n",
       "      <td>10</td>\n",
       "      <td>0</td>\n",
       "      <td>Borghese Fango Active Mud Mask for Face and Body       oz</td>\n",
       "      <td>NaN</td>\n",
       "      <td>402126.0</td>\n",
       "      <td>Our signature and classic Fango Active is a one-and-only, must-have, mineral-rich mud. It's a sensational step beyond everyday clean. Derived from...</td>\n",
       "      <td>0.0</td>\n",
       "      <td>0.0</td>\n",
       "      <td>skincare</td>\n",
       "      <td>Borghese</td>\n",
       "      <td>Borghese</td>\n",
       "    </tr>\n",
       "    <tr>\n",
       "      <th>139357</th>\n",
       "      <td>5.0</td>\n",
       "      <td>2.0</td>\n",
       "      <td>1</td>\n",
       "      <td>2017-06-09</td>\n",
       "      <td>B001B1SKRM</td>\n",
       "      <td>I got this as a gift over 20 years ago and loved it as a teenager. I've bought it on and off since then but had trouble finding it the last decade...</td>\n",
       "      <td>Just as great as before</td>\n",
       "      <td>2017</td>\n",
       "      <td>6</td>\n",
       "      <td>0</td>\n",
       "      <td>Borghese Fango Active Mud Mask for Face and Body       oz</td>\n",
       "      <td>NaN</td>\n",
       "      <td>402126.0</td>\n",
       "      <td>Our signature and classic Fango Active is a one-and-only, must-have, mineral-rich mud. It's a sensational step beyond everyday clean. Derived from...</td>\n",
       "      <td>0.0</td>\n",
       "      <td>0.0</td>\n",
       "      <td>skincare</td>\n",
       "      <td>Borghese</td>\n",
       "      <td>Borghese</td>\n",
       "    </tr>\n",
       "  </tbody>\n",
       "</table>\n",
       "<p>666 rows × 19 columns</p>\n",
       "</div>"
      ],
      "text/plain": [
       "        overall  vote  verified reviewTime        asin  \\\n",
       "14826       5.0   0.0         1 2017-11-21  B000A618E6   \n",
       "14827       3.0   0.0         1 2017-12-11  B000A618E6   \n",
       "14828       5.0   2.0         1 2017-05-11  B000A618E6   \n",
       "14829       5.0   0.0         1 2017-04-11  B000A618E6   \n",
       "14830       1.0   0.0         1 2017-10-28  B000A618E6   \n",
       "...         ...   ...       ...        ...         ...   \n",
       "139353      5.0   0.0         1 2017-12-17  B001B1SKRM   \n",
       "139354      5.0   0.0         1 2017-04-12  B001B1SKRM   \n",
       "139355      5.0   0.0         1 2017-10-28  B001B1SKRM   \n",
       "139356      5.0   0.0         1 2017-10-10  B001B1SKRM   \n",
       "139357      5.0   2.0         1 2017-06-09  B001B1SKRM   \n",
       "\n",
       "                                                                                                                                                   reviewText  \\\n",
       "14826                                                                                                         comfortable application , full unclumped lashes   \n",
       "14827   I used it and didn't like how when my eyes water it takes forever to dry and it smeared easily.  I gave it to my daughter because she has longer e...   \n",
       "14828   I prefer this mascara over other brands.  It has a gel formula, which I like.  It goes on easily and doesn't look \"cakey\" on my lashes.  Other bra...   \n",
       "14829                                                                                                                                      Love this mascara!   \n",
       "14830                                                                 The mascara box looked old/used and the mascara was dry. Did not seem like new mascara.   \n",
       "...                                                                                                                                                       ...   \n",
       "139353                                                                                                                                                   good   \n",
       "139354                                                                                                                                              very good   \n",
       "139355          I was so happy to re discover this product, I used it years ago and loved it then and still love it now! I will definitely purchase it again!   \n",
       "139356                                                                                   have loved this mud mask for years.  So so nice to use it again!  :)   \n",
       "139357  I got this as a gift over 20 years ago and loved it as a teenager. I've bought it on and off since then but had trouble finding it the last decade...   \n",
       "\n",
       "                                                             summary  year  \\\n",
       "14826                                                     Five Stars  2017   \n",
       "14827                                                Not my favorite  2017   \n",
       "14828   which I like. It goes on easily and doesn't look \"cakey\" ...  2017   \n",
       "14829                                                     Five Stars  2017   \n",
       "14830                                                        Sub-par  2017   \n",
       "...                                                              ...   ...   \n",
       "139353                                                    Five Stars  2017   \n",
       "139354                                                    Five Stars  2017   \n",
       "139355                                   Loved it then, love it now!  2017   \n",
       "139356                                                    Five Stars  2017   \n",
       "139357                                       Just as great as before  2017   \n",
       "\n",
       "        month  trending_asin  \\\n",
       "14826      11              0   \n",
       "14827      12              0   \n",
       "14828       5              0   \n",
       "14829       4              0   \n",
       "14830      10              0   \n",
       "...       ...            ...   \n",
       "139353     12              0   \n",
       "139354      4              0   \n",
       "139355     10              0   \n",
       "139356     10              0   \n",
       "139357      6              0   \n",
       "\n",
       "                                                            title  price_USD  \\\n",
       "14826                 Borghese Superiore State of the Art Mascara        NaN   \n",
       "14827                 Borghese Superiore State of the Art Mascara        NaN   \n",
       "14828                 Borghese Superiore State of the Art Mascara        NaN   \n",
       "14829                 Borghese Superiore State of the Art Mascara        NaN   \n",
       "14830                 Borghese Superiore State of the Art Mascara        NaN   \n",
       "...                                                           ...        ...   \n",
       "139353  Borghese Fango Active Mud Mask for Face and Body       oz        NaN   \n",
       "139354  Borghese Fango Active Mud Mask for Face and Body       oz        NaN   \n",
       "139355  Borghese Fango Active Mud Mask for Face and Body       oz        NaN   \n",
       "139356  Borghese Fango Active Mud Mask for Face and Body       oz        NaN   \n",
       "139357  Borghese Fango Active Mud Mask for Face and Body       oz        NaN   \n",
       "\n",
       "         ranking  \\\n",
       "14826   622270.0   \n",
       "14827   622270.0   \n",
       "14828   622270.0   \n",
       "14829   622270.0   \n",
       "14830   622270.0   \n",
       "...          ...   \n",
       "139353  402126.0   \n",
       "139354  402126.0   \n",
       "139355  402126.0   \n",
       "139356  402126.0   \n",
       "139357  402126.0   \n",
       "\n",
       "                                                                                                                                          product_description  \\\n",
       "14826   Looking for lashes that go to great lengths? We found the perfect brush that lifts and separates, coats and curls. We combined it with the perfect...   \n",
       "14827   Looking for lashes that go to great lengths? We found the perfect brush that lifts and separates, coats and curls. We combined it with the perfect...   \n",
       "14828   Looking for lashes that go to great lengths? We found the perfect brush that lifts and separates, coats and curls. We combined it with the perfect...   \n",
       "14829   Looking for lashes that go to great lengths? We found the perfect brush that lifts and separates, coats and curls. We combined it with the perfect...   \n",
       "14830   Looking for lashes that go to great lengths? We found the perfect brush that lifts and separates, coats and curls. We combined it with the perfect...   \n",
       "...                                                                                                                                                       ...   \n",
       "139353  Our signature and classic Fango Active is a one-and-only, must-have, mineral-rich mud. It's a sensational step beyond everyday clean. Derived from...   \n",
       "139354  Our signature and classic Fango Active is a one-and-only, must-have, mineral-rich mud. It's a sensational step beyond everyday clean. Derived from...   \n",
       "139355  Our signature and classic Fango Active is a one-and-only, must-have, mineral-rich mud. It's a sensational step beyond everyday clean. Derived from...   \n",
       "139356  Our signature and classic Fango Active is a one-and-only, must-have, mineral-rich mud. It's a sensational step beyond everyday clean. Derived from...   \n",
       "139357  Our signature and classic Fango Active is a one-and-only, must-have, mineral-rich mud. It's a sensational step beyond everyday clean. Derived from...   \n",
       "\n",
       "        also_buy_counts  also_view_counts  category     brand main_brands  \n",
       "14826               0.0               0.0    makeup  Borghese    Borghese  \n",
       "14827               0.0               0.0    makeup  Borghese    Borghese  \n",
       "14828               0.0               0.0    makeup  Borghese    Borghese  \n",
       "14829               0.0               0.0    makeup  Borghese    Borghese  \n",
       "14830               0.0               0.0    makeup  Borghese    Borghese  \n",
       "...                 ...               ...       ...       ...         ...  \n",
       "139353              0.0               0.0  skincare  Borghese    Borghese  \n",
       "139354              0.0               0.0  skincare  Borghese    Borghese  \n",
       "139355              0.0               0.0  skincare  Borghese    Borghese  \n",
       "139356              0.0               0.0  skincare  Borghese    Borghese  \n",
       "139357              0.0               0.0  skincare  Borghese    Borghese  \n",
       "\n",
       "[666 rows x 19 columns]"
      ]
     },
     "execution_count": 360,
     "metadata": {},
     "output_type": "execute_result"
    }
   ],
   "source": [
    "df_combined[df_combined[\"price_USD\"].isna()]"
   ]
  },
  {
   "cell_type": "code",
   "execution_count": 354,
   "id": "e807c012",
   "metadata": {},
   "outputs": [],
   "source": [
    "df_combined_null = df_combined[df_combined[\"price_USD\"].isna()]"
   ]
  },
  {
   "cell_type": "code",
   "execution_count": 361,
   "id": "d29e6788",
   "metadata": {},
   "outputs": [],
   "source": [
    "#remaining nulls are low we can drop these\n",
    "df_combined =df_combined.dropna()"
   ]
  },
  {
   "cell_type": "code",
   "execution_count": 362,
   "id": "dcbe1311",
   "metadata": {},
   "outputs": [
    {
     "data": {
      "text/plain": [
       "0"
      ]
     },
     "execution_count": 362,
     "metadata": {},
     "output_type": "execute_result"
    }
   ],
   "source": [
    "df_combined.isna().sum().sum()"
   ]
  },
  {
   "cell_type": "code",
   "execution_count": 371,
   "id": "defeec88",
   "metadata": {},
   "outputs": [
    {
     "ename": "KeyError",
     "evalue": "\"['brand'] not found in axis\"",
     "output_type": "error",
     "traceback": [
      "\u001b[0;31m---------------------------------------------------------------------------\u001b[0m",
      "\u001b[0;31mKeyError\u001b[0m                                  Traceback (most recent call last)",
      "Cell \u001b[0;32mIn[371], line 3\u001b[0m\n\u001b[1;32m      1\u001b[0m columns \u001b[39m=\u001b[39m [\u001b[39m'\u001b[39m\u001b[39mbrand\u001b[39m\u001b[39m'\u001b[39m]\n\u001b[1;32m      2\u001b[0m \u001b[39mfor\u001b[39;00m column \u001b[39min\u001b[39;00m columns: \n\u001b[0;32m----> 3\u001b[0m      df_combined \u001b[39m=\u001b[39m df_combined\u001b[39m.\u001b[39mdrop([column],axis\u001b[39m=\u001b[39m\u001b[39m1\u001b[39m)\n",
      "File \u001b[0;32m~/opt/anaconda3/envs/capstone/lib/python3.11/site-packages/pandas/util/_decorators.py:331\u001b[0m, in \u001b[0;36mdeprecate_nonkeyword_arguments.<locals>.decorate.<locals>.wrapper\u001b[0;34m(*args, **kwargs)\u001b[0m\n\u001b[1;32m    325\u001b[0m \u001b[39mif\u001b[39;00m \u001b[39mlen\u001b[39m(args) \u001b[39m>\u001b[39m num_allow_args:\n\u001b[1;32m    326\u001b[0m     warnings\u001b[39m.\u001b[39mwarn(\n\u001b[1;32m    327\u001b[0m         msg\u001b[39m.\u001b[39mformat(arguments\u001b[39m=\u001b[39m_format_argument_list(allow_args)),\n\u001b[1;32m    328\u001b[0m         \u001b[39mFutureWarning\u001b[39;00m,\n\u001b[1;32m    329\u001b[0m         stacklevel\u001b[39m=\u001b[39mfind_stack_level(),\n\u001b[1;32m    330\u001b[0m     )\n\u001b[0;32m--> 331\u001b[0m \u001b[39mreturn\u001b[39;00m func(\u001b[39m*\u001b[39margs, \u001b[39m*\u001b[39m\u001b[39m*\u001b[39mkwargs)\n",
      "File \u001b[0;32m~/opt/anaconda3/envs/capstone/lib/python3.11/site-packages/pandas/core/frame.py:5399\u001b[0m, in \u001b[0;36mDataFrame.drop\u001b[0;34m(self, labels, axis, index, columns, level, inplace, errors)\u001b[0m\n\u001b[1;32m   5251\u001b[0m \u001b[39m@deprecate_nonkeyword_arguments\u001b[39m(version\u001b[39m=\u001b[39m\u001b[39mNone\u001b[39;00m, allowed_args\u001b[39m=\u001b[39m[\u001b[39m\"\u001b[39m\u001b[39mself\u001b[39m\u001b[39m\"\u001b[39m, \u001b[39m\"\u001b[39m\u001b[39mlabels\u001b[39m\u001b[39m\"\u001b[39m])\n\u001b[1;32m   5252\u001b[0m \u001b[39mdef\u001b[39;00m \u001b[39mdrop\u001b[39m(  \u001b[39m# type: ignore[override]\u001b[39;00m\n\u001b[1;32m   5253\u001b[0m     \u001b[39mself\u001b[39m,\n\u001b[0;32m   (...)\u001b[0m\n\u001b[1;32m   5260\u001b[0m     errors: IgnoreRaise \u001b[39m=\u001b[39m \u001b[39m\"\u001b[39m\u001b[39mraise\u001b[39m\u001b[39m\"\u001b[39m,\n\u001b[1;32m   5261\u001b[0m ) \u001b[39m-\u001b[39m\u001b[39m>\u001b[39m DataFrame \u001b[39m|\u001b[39m \u001b[39mNone\u001b[39;00m:\n\u001b[1;32m   5262\u001b[0m     \u001b[39m\"\"\"\u001b[39;00m\n\u001b[1;32m   5263\u001b[0m \u001b[39m    Drop specified labels from rows or columns.\u001b[39;00m\n\u001b[1;32m   5264\u001b[0m \n\u001b[0;32m   (...)\u001b[0m\n\u001b[1;32m   5397\u001b[0m \u001b[39m            weight  1.0     0.8\u001b[39;00m\n\u001b[1;32m   5398\u001b[0m \u001b[39m    \"\"\"\u001b[39;00m\n\u001b[0;32m-> 5399\u001b[0m     \u001b[39mreturn\u001b[39;00m \u001b[39msuper\u001b[39m()\u001b[39m.\u001b[39mdrop(\n\u001b[1;32m   5400\u001b[0m         labels\u001b[39m=\u001b[39mlabels,\n\u001b[1;32m   5401\u001b[0m         axis\u001b[39m=\u001b[39maxis,\n\u001b[1;32m   5402\u001b[0m         index\u001b[39m=\u001b[39mindex,\n\u001b[1;32m   5403\u001b[0m         columns\u001b[39m=\u001b[39mcolumns,\n\u001b[1;32m   5404\u001b[0m         level\u001b[39m=\u001b[39mlevel,\n\u001b[1;32m   5405\u001b[0m         inplace\u001b[39m=\u001b[39minplace,\n\u001b[1;32m   5406\u001b[0m         errors\u001b[39m=\u001b[39merrors,\n\u001b[1;32m   5407\u001b[0m     )\n",
      "File \u001b[0;32m~/opt/anaconda3/envs/capstone/lib/python3.11/site-packages/pandas/util/_decorators.py:331\u001b[0m, in \u001b[0;36mdeprecate_nonkeyword_arguments.<locals>.decorate.<locals>.wrapper\u001b[0;34m(*args, **kwargs)\u001b[0m\n\u001b[1;32m    325\u001b[0m \u001b[39mif\u001b[39;00m \u001b[39mlen\u001b[39m(args) \u001b[39m>\u001b[39m num_allow_args:\n\u001b[1;32m    326\u001b[0m     warnings\u001b[39m.\u001b[39mwarn(\n\u001b[1;32m    327\u001b[0m         msg\u001b[39m.\u001b[39mformat(arguments\u001b[39m=\u001b[39m_format_argument_list(allow_args)),\n\u001b[1;32m    328\u001b[0m         \u001b[39mFutureWarning\u001b[39;00m,\n\u001b[1;32m    329\u001b[0m         stacklevel\u001b[39m=\u001b[39mfind_stack_level(),\n\u001b[1;32m    330\u001b[0m     )\n\u001b[0;32m--> 331\u001b[0m \u001b[39mreturn\u001b[39;00m func(\u001b[39m*\u001b[39margs, \u001b[39m*\u001b[39m\u001b[39m*\u001b[39mkwargs)\n",
      "File \u001b[0;32m~/opt/anaconda3/envs/capstone/lib/python3.11/site-packages/pandas/core/generic.py:4505\u001b[0m, in \u001b[0;36mNDFrame.drop\u001b[0;34m(self, labels, axis, index, columns, level, inplace, errors)\u001b[0m\n\u001b[1;32m   4503\u001b[0m \u001b[39mfor\u001b[39;00m axis, labels \u001b[39min\u001b[39;00m axes\u001b[39m.\u001b[39mitems():\n\u001b[1;32m   4504\u001b[0m     \u001b[39mif\u001b[39;00m labels \u001b[39mis\u001b[39;00m \u001b[39mnot\u001b[39;00m \u001b[39mNone\u001b[39;00m:\n\u001b[0;32m-> 4505\u001b[0m         obj \u001b[39m=\u001b[39m obj\u001b[39m.\u001b[39m_drop_axis(labels, axis, level\u001b[39m=\u001b[39mlevel, errors\u001b[39m=\u001b[39merrors)\n\u001b[1;32m   4507\u001b[0m \u001b[39mif\u001b[39;00m inplace:\n\u001b[1;32m   4508\u001b[0m     \u001b[39mself\u001b[39m\u001b[39m.\u001b[39m_update_inplace(obj)\n",
      "File \u001b[0;32m~/opt/anaconda3/envs/capstone/lib/python3.11/site-packages/pandas/core/generic.py:4546\u001b[0m, in \u001b[0;36mNDFrame._drop_axis\u001b[0;34m(self, labels, axis, level, errors, only_slice)\u001b[0m\n\u001b[1;32m   4544\u001b[0m         new_axis \u001b[39m=\u001b[39m axis\u001b[39m.\u001b[39mdrop(labels, level\u001b[39m=\u001b[39mlevel, errors\u001b[39m=\u001b[39merrors)\n\u001b[1;32m   4545\u001b[0m     \u001b[39melse\u001b[39;00m:\n\u001b[0;32m-> 4546\u001b[0m         new_axis \u001b[39m=\u001b[39m axis\u001b[39m.\u001b[39mdrop(labels, errors\u001b[39m=\u001b[39merrors)\n\u001b[1;32m   4547\u001b[0m     indexer \u001b[39m=\u001b[39m axis\u001b[39m.\u001b[39mget_indexer(new_axis)\n\u001b[1;32m   4549\u001b[0m \u001b[39m# Case for non-unique axis\u001b[39;00m\n\u001b[1;32m   4550\u001b[0m \u001b[39melse\u001b[39;00m:\n",
      "File \u001b[0;32m~/opt/anaconda3/envs/capstone/lib/python3.11/site-packages/pandas/core/indexes/base.py:6934\u001b[0m, in \u001b[0;36mIndex.drop\u001b[0;34m(self, labels, errors)\u001b[0m\n\u001b[1;32m   6932\u001b[0m \u001b[39mif\u001b[39;00m mask\u001b[39m.\u001b[39many():\n\u001b[1;32m   6933\u001b[0m     \u001b[39mif\u001b[39;00m errors \u001b[39m!=\u001b[39m \u001b[39m\"\u001b[39m\u001b[39mignore\u001b[39m\u001b[39m\"\u001b[39m:\n\u001b[0;32m-> 6934\u001b[0m         \u001b[39mraise\u001b[39;00m \u001b[39mKeyError\u001b[39;00m(\u001b[39mf\u001b[39m\u001b[39m\"\u001b[39m\u001b[39m{\u001b[39;00m\u001b[39mlist\u001b[39m(labels[mask])\u001b[39m}\u001b[39;00m\u001b[39m not found in axis\u001b[39m\u001b[39m\"\u001b[39m)\n\u001b[1;32m   6935\u001b[0m     indexer \u001b[39m=\u001b[39m indexer[\u001b[39m~\u001b[39mmask]\n\u001b[1;32m   6936\u001b[0m \u001b[39mreturn\u001b[39;00m \u001b[39mself\u001b[39m\u001b[39m.\u001b[39mdelete(indexer)\n",
      "\u001b[0;31mKeyError\u001b[0m: \"['brand'] not found in axis\""
     ]
    }
   ],
   "source": [
    "columns = ['brand']\n",
    "for column in columns: \n",
    "     df_combined = df_combined.drop([column],axis=1)"
   ]
  },
  {
   "cell_type": "code",
   "execution_count": 363,
   "id": "24e2b60a",
   "metadata": {},
   "outputs": [],
   "source": [
    "#saving to csv \n",
    "import os  \n",
    "os.makedirs('/Users/mac/Desktop/Data/CAPSTONE', exist_ok=True)  \n",
    "df_combined.to_csv('clean/clean_data.csv') "
   ]
  },
  {
   "cell_type": "code",
   "execution_count": 369,
   "id": "dfd180b6",
   "metadata": {},
   "outputs": [
    {
     "data": {
      "text/plain": [
       "(139188, 17)"
      ]
     },
     "execution_count": 369,
     "metadata": {},
     "output_type": "execute_result"
    }
   ],
   "source": [
    "df_combined.shape"
   ]
  },
  {
   "cell_type": "code",
   "execution_count": 370,
   "id": "bd912321",
   "metadata": {},
   "outputs": [
    {
     "data": {
      "text/html": [
       "<div>\n",
       "<style scoped>\n",
       "    .dataframe tbody tr th:only-of-type {\n",
       "        vertical-align: middle;\n",
       "    }\n",
       "\n",
       "    .dataframe tbody tr th {\n",
       "        vertical-align: top;\n",
       "    }\n",
       "\n",
       "    .dataframe thead th {\n",
       "        text-align: right;\n",
       "    }\n",
       "</style>\n",
       "<table border=\"1\" class=\"dataframe\">\n",
       "  <thead>\n",
       "    <tr style=\"text-align: right;\">\n",
       "      <th></th>\n",
       "      <th>overall</th>\n",
       "      <th>vote</th>\n",
       "      <th>verified</th>\n",
       "      <th>reviewTime</th>\n",
       "      <th>asin</th>\n",
       "      <th>reviewText</th>\n",
       "      <th>summary</th>\n",
       "      <th>year</th>\n",
       "      <th>month</th>\n",
       "      <th>trending_asin</th>\n",
       "      <th>price_USD</th>\n",
       "      <th>ranking</th>\n",
       "      <th>product_description</th>\n",
       "      <th>also_buy_counts</th>\n",
       "      <th>also_view_counts</th>\n",
       "      <th>category</th>\n",
       "      <th>main_brands</th>\n",
       "    </tr>\n",
       "  </thead>\n",
       "  <tbody>\n",
       "    <tr>\n",
       "      <th>0</th>\n",
       "      <td>5.0</td>\n",
       "      <td>0.0</td>\n",
       "      <td>1</td>\n",
       "      <td>2017-12-30</td>\n",
       "      <td>B00004U9V2</td>\n",
       "      <td>Bought for my daughter.</td>\n",
       "      <td>Has Good Reviews!</td>\n",
       "      <td>2017</td>\n",
       "      <td>12</td>\n",
       "      <td>0</td>\n",
       "      <td>30.00</td>\n",
       "      <td>4324.0</td>\n",
       "      <td>After a long day of handling thorny situations, our new hand therapy pump is just the help you need. It contains shea butter as well as extracts o...</td>\n",
       "      <td>56.0</td>\n",
       "      <td>48.0</td>\n",
       "      <td>skincare</td>\n",
       "      <td>The Art of Shaving</td>\n",
       "    </tr>\n",
       "    <tr>\n",
       "      <th>1</th>\n",
       "      <td>5.0</td>\n",
       "      <td>0.0</td>\n",
       "      <td>1</td>\n",
       "      <td>2017-12-29</td>\n",
       "      <td>B00004U9V2</td>\n",
       "      <td>Great cream for the skin.</td>\n",
       "      <td>Five Stars</td>\n",
       "      <td>2017</td>\n",
       "      <td>12</td>\n",
       "      <td>0</td>\n",
       "      <td>30.00</td>\n",
       "      <td>4324.0</td>\n",
       "      <td>After a long day of handling thorny situations, our new hand therapy pump is just the help you need. It contains shea butter as well as extracts o...</td>\n",
       "      <td>56.0</td>\n",
       "      <td>48.0</td>\n",
       "      <td>skincare</td>\n",
       "      <td>The Art of Shaving</td>\n",
       "    </tr>\n",
       "    <tr>\n",
       "      <th>2</th>\n",
       "      <td>1.0</td>\n",
       "      <td>0.0</td>\n",
       "      <td>0</td>\n",
       "      <td>2017-12-28</td>\n",
       "      <td>B00004U9V2</td>\n",
       "      <td>Maybe Im just not familiar with this brand, but if this is the type of fragrance they normally use...blech!  It might be a good cream but I had to...</td>\n",
       "      <td>Bad fragrance</td>\n",
       "      <td>2017</td>\n",
       "      <td>12</td>\n",
       "      <td>0</td>\n",
       "      <td>30.00</td>\n",
       "      <td>4324.0</td>\n",
       "      <td>After a long day of handling thorny situations, our new hand therapy pump is just the help you need. It contains shea butter as well as extracts o...</td>\n",
       "      <td>56.0</td>\n",
       "      <td>48.0</td>\n",
       "      <td>skincare</td>\n",
       "      <td>The Art of Shaving</td>\n",
       "    </tr>\n",
       "    <tr>\n",
       "      <th>3</th>\n",
       "      <td>5.0</td>\n",
       "      <td>0.0</td>\n",
       "      <td>1</td>\n",
       "      <td>2017-12-28</td>\n",
       "      <td>B00004U9V2</td>\n",
       "      <td>This is one of my favorite creams. Highly recommend!!! Keeps hands moisturizers for a long time. Worth every penny.</td>\n",
       "      <td>Great product.</td>\n",
       "      <td>2017</td>\n",
       "      <td>12</td>\n",
       "      <td>0</td>\n",
       "      <td>30.00</td>\n",
       "      <td>4324.0</td>\n",
       "      <td>After a long day of handling thorny situations, our new hand therapy pump is just the help you need. It contains shea butter as well as extracts o...</td>\n",
       "      <td>56.0</td>\n",
       "      <td>48.0</td>\n",
       "      <td>skincare</td>\n",
       "      <td>The Art of Shaving</td>\n",
       "    </tr>\n",
       "    <tr>\n",
       "      <th>4</th>\n",
       "      <td>5.0</td>\n",
       "      <td>0.0</td>\n",
       "      <td>1</td>\n",
       "      <td>2017-12-19</td>\n",
       "      <td>B00004U9V2</td>\n",
       "      <td>I simply love this lotion!  Originally, I received it as a gift.  Have been buying it ever since!</td>\n",
       "      <td>Five Stars</td>\n",
       "      <td>2017</td>\n",
       "      <td>12</td>\n",
       "      <td>0</td>\n",
       "      <td>30.00</td>\n",
       "      <td>4324.0</td>\n",
       "      <td>After a long day of handling thorny situations, our new hand therapy pump is just the help you need. It contains shea butter as well as extracts o...</td>\n",
       "      <td>56.0</td>\n",
       "      <td>48.0</td>\n",
       "      <td>skincare</td>\n",
       "      <td>The Art of Shaving</td>\n",
       "    </tr>\n",
       "    <tr>\n",
       "      <th>...</th>\n",
       "      <td>...</td>\n",
       "      <td>...</td>\n",
       "      <td>...</td>\n",
       "      <td>...</td>\n",
       "      <td>...</td>\n",
       "      <td>...</td>\n",
       "      <td>...</td>\n",
       "      <td>...</td>\n",
       "      <td>...</td>\n",
       "      <td>...</td>\n",
       "      <td>...</td>\n",
       "      <td>...</td>\n",
       "      <td>...</td>\n",
       "      <td>...</td>\n",
       "      <td>...</td>\n",
       "      <td>...</td>\n",
       "      <td>...</td>\n",
       "    </tr>\n",
       "    <tr>\n",
       "      <th>140009</th>\n",
       "      <td>2.0</td>\n",
       "      <td>0.0</td>\n",
       "      <td>1</td>\n",
       "      <td>2017-06-04</td>\n",
       "      <td>B01D0KHXGK</td>\n",
       "      <td>Meh!  Flat iron works better</td>\n",
       "      <td>Disappointing results!</td>\n",
       "      <td>2017</td>\n",
       "      <td>6</td>\n",
       "      <td>0</td>\n",
       "      <td>21.29</td>\n",
       "      <td>171884.0</td>\n",
       "      <td>Thermally activated smoothing treatment combines with the heat of a styling iron to smooth the hair cuticle, lock in moisture and seal out humidit...</td>\n",
       "      <td>0.0</td>\n",
       "      <td>0.0</td>\n",
       "      <td>skincare</td>\n",
       "      <td>TS</td>\n",
       "    </tr>\n",
       "    <tr>\n",
       "      <th>140010</th>\n",
       "      <td>1.0</td>\n",
       "      <td>0.0</td>\n",
       "      <td>1</td>\n",
       "      <td>2017-12-03</td>\n",
       "      <td>B01D0KHXGK</td>\n",
       "      <td>It doesn't grip the hair - I'm very disappointed.</td>\n",
       "      <td>One Star</td>\n",
       "      <td>2017</td>\n",
       "      <td>12</td>\n",
       "      <td>0</td>\n",
       "      <td>21.29</td>\n",
       "      <td>171884.0</td>\n",
       "      <td>Thermally activated smoothing treatment combines with the heat of a styling iron to smooth the hair cuticle, lock in moisture and seal out humidit...</td>\n",
       "      <td>0.0</td>\n",
       "      <td>0.0</td>\n",
       "      <td>skincare</td>\n",
       "      <td>TS</td>\n",
       "    </tr>\n",
       "    <tr>\n",
       "      <th>140011</th>\n",
       "      <td>4.0</td>\n",
       "      <td>0.0</td>\n",
       "      <td>1</td>\n",
       "      <td>2017-02-22</td>\n",
       "      <td>B01D0KHXGK</td>\n",
       "      <td>Really works! I have curly hair and you can get the best results if you brush out your hair before letting this straighten out your hair. The long...</td>\n",
       "      <td>It works(:</td>\n",
       "      <td>2017</td>\n",
       "      <td>2</td>\n",
       "      <td>0</td>\n",
       "      <td>21.29</td>\n",
       "      <td>171884.0</td>\n",
       "      <td>Thermally activated smoothing treatment combines with the heat of a styling iron to smooth the hair cuticle, lock in moisture and seal out humidit...</td>\n",
       "      <td>0.0</td>\n",
       "      <td>0.0</td>\n",
       "      <td>skincare</td>\n",
       "      <td>TS</td>\n",
       "    </tr>\n",
       "    <tr>\n",
       "      <th>140012</th>\n",
       "      <td>1.0</td>\n",
       "      <td>0.0</td>\n",
       "      <td>1</td>\n",
       "      <td>2017-02-17</td>\n",
       "      <td>B01D0KHXGK</td>\n",
       "      <td>DIDNT STRAIGHTEN HAIR</td>\n",
       "      <td>One Star</td>\n",
       "      <td>2017</td>\n",
       "      <td>2</td>\n",
       "      <td>0</td>\n",
       "      <td>21.29</td>\n",
       "      <td>171884.0</td>\n",
       "      <td>Thermally activated smoothing treatment combines with the heat of a styling iron to smooth the hair cuticle, lock in moisture and seal out humidit...</td>\n",
       "      <td>0.0</td>\n",
       "      <td>0.0</td>\n",
       "      <td>skincare</td>\n",
       "      <td>TS</td>\n",
       "    </tr>\n",
       "    <tr>\n",
       "      <th>140013</th>\n",
       "      <td>5.0</td>\n",
       "      <td>3.0</td>\n",
       "      <td>1</td>\n",
       "      <td>2017-06-12</td>\n",
       "      <td>B01D3LDJQE</td>\n",
       "      <td>love this product for wavy hair</td>\n",
       "      <td>Five Stars</td>\n",
       "      <td>2017</td>\n",
       "      <td>6</td>\n",
       "      <td>0</td>\n",
       "      <td>27.00</td>\n",
       "      <td>15099.0</td>\n",
       "      <td>A lightweight styling primer. TWISTER adds moisture, defines your curls and leaves hair soft, never crunchy. Benefits: Good for priming curly hair...</td>\n",
       "      <td>32.0</td>\n",
       "      <td>35.0</td>\n",
       "      <td>haircare</td>\n",
       "      <td>Other</td>\n",
       "    </tr>\n",
       "  </tbody>\n",
       "</table>\n",
       "<p>139188 rows × 17 columns</p>\n",
       "</div>"
      ],
      "text/plain": [
       "        overall  vote  verified reviewTime        asin  \\\n",
       "0           5.0   0.0         1 2017-12-30  B00004U9V2   \n",
       "1           5.0   0.0         1 2017-12-29  B00004U9V2   \n",
       "2           1.0   0.0         0 2017-12-28  B00004U9V2   \n",
       "3           5.0   0.0         1 2017-12-28  B00004U9V2   \n",
       "4           5.0   0.0         1 2017-12-19  B00004U9V2   \n",
       "...         ...   ...       ...        ...         ...   \n",
       "140009      2.0   0.0         1 2017-06-04  B01D0KHXGK   \n",
       "140010      1.0   0.0         1 2017-12-03  B01D0KHXGK   \n",
       "140011      4.0   0.0         1 2017-02-22  B01D0KHXGK   \n",
       "140012      1.0   0.0         1 2017-02-17  B01D0KHXGK   \n",
       "140013      5.0   3.0         1 2017-06-12  B01D3LDJQE   \n",
       "\n",
       "                                                                                                                                                   reviewText  \\\n",
       "0                                                                                                                                     Bought for my daughter.   \n",
       "1                                                                                                                                   Great cream for the skin.   \n",
       "2       Maybe Im just not familiar with this brand, but if this is the type of fragrance they normally use...blech!  It might be a good cream but I had to...   \n",
       "3                                         This is one of my favorite creams. Highly recommend!!! Keeps hands moisturizers for a long time. Worth every penny.   \n",
       "4                                                           I simply love this lotion!  Originally, I received it as a gift.  Have been buying it ever since!   \n",
       "...                                                                                                                                                       ...   \n",
       "140009                                                                                                                           Meh!  Flat iron works better   \n",
       "140010                                                                                                      It doesn't grip the hair - I'm very disappointed.   \n",
       "140011  Really works! I have curly hair and you can get the best results if you brush out your hair before letting this straighten out your hair. The long...   \n",
       "140012                                                                                                                                  DIDNT STRAIGHTEN HAIR   \n",
       "140013                                                                                                                        love this product for wavy hair   \n",
       "\n",
       "                       summary  year  month  trending_asin  price_USD  \\\n",
       "0            Has Good Reviews!  2017     12              0      30.00   \n",
       "1                   Five Stars  2017     12              0      30.00   \n",
       "2                Bad fragrance  2017     12              0      30.00   \n",
       "3               Great product.  2017     12              0      30.00   \n",
       "4                   Five Stars  2017     12              0      30.00   \n",
       "...                        ...   ...    ...            ...        ...   \n",
       "140009  Disappointing results!  2017      6              0      21.29   \n",
       "140010                One Star  2017     12              0      21.29   \n",
       "140011              It works(:  2017      2              0      21.29   \n",
       "140012                One Star  2017      2              0      21.29   \n",
       "140013              Five Stars  2017      6              0      27.00   \n",
       "\n",
       "         ranking  \\\n",
       "0         4324.0   \n",
       "1         4324.0   \n",
       "2         4324.0   \n",
       "3         4324.0   \n",
       "4         4324.0   \n",
       "...          ...   \n",
       "140009  171884.0   \n",
       "140010  171884.0   \n",
       "140011  171884.0   \n",
       "140012  171884.0   \n",
       "140013   15099.0   \n",
       "\n",
       "                                                                                                                                          product_description  \\\n",
       "0       After a long day of handling thorny situations, our new hand therapy pump is just the help you need. It contains shea butter as well as extracts o...   \n",
       "1       After a long day of handling thorny situations, our new hand therapy pump is just the help you need. It contains shea butter as well as extracts o...   \n",
       "2       After a long day of handling thorny situations, our new hand therapy pump is just the help you need. It contains shea butter as well as extracts o...   \n",
       "3       After a long day of handling thorny situations, our new hand therapy pump is just the help you need. It contains shea butter as well as extracts o...   \n",
       "4       After a long day of handling thorny situations, our new hand therapy pump is just the help you need. It contains shea butter as well as extracts o...   \n",
       "...                                                                                                                                                       ...   \n",
       "140009  Thermally activated smoothing treatment combines with the heat of a styling iron to smooth the hair cuticle, lock in moisture and seal out humidit...   \n",
       "140010  Thermally activated smoothing treatment combines with the heat of a styling iron to smooth the hair cuticle, lock in moisture and seal out humidit...   \n",
       "140011  Thermally activated smoothing treatment combines with the heat of a styling iron to smooth the hair cuticle, lock in moisture and seal out humidit...   \n",
       "140012  Thermally activated smoothing treatment combines with the heat of a styling iron to smooth the hair cuticle, lock in moisture and seal out humidit...   \n",
       "140013  A lightweight styling primer. TWISTER adds moisture, defines your curls and leaves hair soft, never crunchy. Benefits: Good for priming curly hair...   \n",
       "\n",
       "        also_buy_counts  also_view_counts  category         main_brands  \n",
       "0                  56.0              48.0  skincare  The Art of Shaving  \n",
       "1                  56.0              48.0  skincare  The Art of Shaving  \n",
       "2                  56.0              48.0  skincare  The Art of Shaving  \n",
       "3                  56.0              48.0  skincare  The Art of Shaving  \n",
       "4                  56.0              48.0  skincare  The Art of Shaving  \n",
       "...                 ...               ...       ...                 ...  \n",
       "140009              0.0               0.0  skincare                  TS  \n",
       "140010              0.0               0.0  skincare                  TS  \n",
       "140011              0.0               0.0  skincare                  TS  \n",
       "140012              0.0               0.0  skincare                  TS  \n",
       "140013             32.0              35.0  haircare               Other  \n",
       "\n",
       "[139188 rows x 17 columns]"
      ]
     },
     "execution_count": 370,
     "metadata": {},
     "output_type": "execute_result"
    }
   ],
   "source": [
    "df_combined"
   ]
  },
  {
   "cell_type": "code",
   "execution_count": null,
   "id": "2693ebe7",
   "metadata": {},
   "outputs": [],
   "source": []
  },
  {
   "attachments": {},
   "cell_type": "markdown",
   "id": "9cce196e",
   "metadata": {},
   "source": [
    "#Add correlation table \n",
    "#try to fix mapping "
   ]
  }
 ],
 "metadata": {
  "kernelspec": {
   "display_name": "Python 3",
   "language": "python",
   "name": "python3"
  },
  "language_info": {
   "codemirror_mode": {
    "name": "ipython",
    "version": 3
   },
   "file_extension": ".py",
   "mimetype": "text/x-python",
   "name": "python",
   "nbconvert_exporter": "python",
   "pygments_lexer": "ipython3",
   "version": "3.8.9"
  },
  "vscode": {
   "interpreter": {
    "hash": "31f2aee4e71d21fbe5cf8b01ff0e069b9275f58929596ceb00d14d90e3e16cd6"
   }
  }
 },
 "nbformat": 4,
 "nbformat_minor": 5
}
